{
 "cells": [
  {
   "cell_type": "markdown",
   "metadata": {},
   "source": [
    "# CDS services in jupyter notebooks\n",
    "Welcome to a Jupyter notebook demonstrating how to access some CDS services with Python. Jupyter notebooks offer an interactive way to use Python. If you are viewing this notebook with Binder you can execute every cell of code either by pushing the little 'play' <img src=\"images/jupyter_run-cell.png\" alt=\"\" style=\"width:70px; display: inline-block;\"/> symbol on the left of the cell (appears when the mouse pointer moves in its vincitity) or by selecting a cell and pressing 'Shift' + 'Enter' at the same time. Note that cells that have not yet been executed have no number assigned to them, later on they are assigned the number of the order in which they were executed. If they are run again, they get a new number. \n",
    "\n",
    "The aim of this tutorial is to open a Aladin Lite widget, find and download a catalogue from Vizier and overlay the sources of this catalogue on the sky view in the Aladin Lite widget. \n",
    "\n",
    "Python draws its power from the large variety of packages that are available for everyone to install and use. For this tutorial we will be using two packages: `ipyaladin` (https://github.com/cds-astro/ipyaladin, allows to load Aladin Lite in a jupyter notebook) and `Vizier` from the `astroquery` package (https://astroquery.readthedocs.io/en/latest/index.html#introduction, allows to query VizieR from this notebook). Let's import these packages by running the following cell:"
   ]
  },
  {
   "cell_type": "code",
   "execution_count": 1,
   "metadata": {},
   "outputs": [
    {
     "name": "stdout",
     "output_type": "stream",
     "text": [
      "Hello there, the packages are imported and we are ready to go :)\n"
     ]
    }
   ],
   "source": [
    "from astroquery.vizier import Vizier\n",
    "import ipyaladin.aladin_widget as ipyal\n",
    "import pyvo\n",
    "\n",
    "print('Hello there, the packages are imported and we are ready to go :)')\n"
   ]
  },
  {
   "cell_type": "markdown",
   "metadata": {},
   "source": [
    "## Start Aladin Lite\n",
    "We start this tutorial by initialising Aladin Lite. In the first line of code we tell Python that the variable `aladin` is now assigned to an Aladin Lite widget. This widget is supposed to **center** on the Antennae galaxies, set a **field of view** of 0.7deg and show colour images from the DSS **survey**. Typing `aladin` in the second line of code, tells the notebook to display the widget. "
   ]
  },
  {
   "cell_type": "code",
   "execution_count": 2,
   "metadata": {},
   "outputs": [
    {
     "data": {
      "application/vnd.jupyter.widget-view+json": {
       "model_id": "40858df1c41c4a0b8f62f5047834a6c0",
       "version_major": 2,
       "version_minor": 0
      },
      "text/plain": [
       "Aladin(fov=0.7, options=['allow_full_zoomout', 'coo_frame', 'fov', 'full_screen', 'log', 'overlay_survey', 'ov…"
      ]
     },
     "execution_count": 2,
     "metadata": {},
     "output_type": "execute_result"
    }
   ],
   "source": [
    "aladin = ipyal.Aladin(target='Antennae', fov=0.7, survey='P/DSS2/color')\n",
    "aladin\n"
   ]
  },
  {
   "cell_type": "code",
   "execution_count": 3,
   "metadata": {},
   "outputs": [],
   "source": [
    "aladin.target = 'M101'\n"
   ]
  },
  {
   "cell_type": "markdown",
   "metadata": {},
   "source": [
    "## Find and download tables from VizieR\n",
    "Besides using Aladin we can also query VizieR from within this Jupyter notebook. To do so we use the `Vizier` subpackage from the `astroquery` package. As we remember from before, the catalogue of peculiar galaxies was called \"Arp's peculiar galaxies\" and was published by Webb. Hence, we ask `Vizier` to find all catalogues that have a match with the keywords 'Arp Webb' and write the result into the variable `catalog_list_arp` (first line of code). Then we tell Python to `print` out the query result in a readable way (second line of code).  "
   ]
  },
  {
   "cell_type": "code",
   "execution_count": 4,
   "metadata": {},
   "outputs": [
    {
     "name": "stderr",
     "output_type": "stream",
     "text": [
      "WARNING: UnitsWarning: The unit 'pix' has been deprecated in the VOUnit standard. [astropy.units.format.utils]\n",
      "WARNING: UnitsWarning: The unit 'ct' has been deprecated in the VOUnit standard. [astropy.units.format.utils]\n"
     ]
    },
    {
     "name": "stdout",
     "output_type": "stream",
     "text": [
      "VII/13 :  Globular-Cluster Catalog (Arp 1965)\n",
      "VII/74A :  Atlas of Peculiar Galaxies (Arp 1966)\n",
      "VII/170 :  Catalogue of Southern Peculiar Galaxies and Associations (Arp+, 1987)\n",
      "VII/192 :  Arp's Peculiar Galaxies (Webb 1996)\n",
      "J/ApJ/641/763 :  UBVI photometry for Arp 220 star clusters (Wilson+, 2006)\n",
      "J/ApJ/660/167 :  Spitzer AGN candidates in CDFN (Donley+, 2007)\n",
      "J/ApJ/799/10 :  Arp 220 6 and 33GHz images (Barcos-Munoz+, 2015)\n",
      "J/A+A/319/33 :  Identification of X-ray sources around Seyferts (Arp 1997)\n",
      "J/A+A/396/473 :  VI Photometry in M81 Group (Makarova+ 2002)\n",
      "J/A+A/529/A104 :  Coordinates for Arp's Baade's Window stars (Church+, 2011)\n",
      "J/A+A/559/A10 :  Arp 102B spectral optical monitoring (Shapovalova+, 2013)\n",
      "J/A+A/568/A90 :  Herschel/SPIRE spectra in Arp 299 (Rosenberg+, 2014)\n",
      "J/A+A/587/A78 :  LARS VIII. Spatially resolved Halpha kinematics (Herenz+, 2016)\n",
      "J/A+A/590/A25 :  Arp 220 HCN and HCO^+^ data cubes (Martin+, 2016)\n",
      "J/A+A/593/A86 :  Arp 220 LOFAR radio images at 150MHz (Varenius+, 2016)\n",
      "J/A+A/621/A25 :  Arp 240 Fabry-Perot interferometry (Fuentes-Carrera+, 2019)\n",
      "J/A+A/623/A173 :  SNe/SNRs in starburst galaxy Arp 220 (Varenius+, 2019)\n",
      "J/A+A/658/A4 :  LOFAR imaging of Arp299 at 150MHz (Ramirez-Olivencia, 2022)\n",
      "J/A+A/665/A8 :  Extra-tidal star candidates in Sgr dSph Galaxy (Kundu+, 2022)\n",
      "J/A+AS/31/439 :  A Survey of HII Regions in M31 (Pellet+ 1978)\n",
      "J/A+AS/129/455 :  Dwarf galaxy candidates around interacting galaxies (Deeg+ 1998)\n",
      "J/AJ/64/28 :  Photometry in the globular cluster M22 (Arp+, 1959)\n",
      "J/AJ/109/650 :  Arp 2 ( Buonanno+ 1995)\n",
      "J/AJ/136/614 :  Arp 2 and Ter 8 red giants equivalent widths (Mottini+, 2008)\n",
      "J/AJ/143/144 :  ULX candidates in nearby Arp galaxies (Smith+, 2012)\n",
      "J/MNRAS/432/998 :  Kinematics of Arp 270 (NGC 3395) (Zaragoza-Cardiel+, 2013)\n",
      "J/MNRAS/482/2530 :  Young massive clusters in LIRG Arp 299 (Randriamanakoto+, 2019)\n",
      "J/other/RAA/14.1393 :  HII regions in interacting system Arp 86 (Zhou+, 2014)\n"
     ]
    }
   ],
   "source": [
    "catalog_list_arp = Vizier.find_catalogs('Arp')\n",
    "for k, v in catalog_list_arp.items():\n",
    "    print(k, ': ', v.description)\n"
   ]
  },
  {
   "cell_type": "markdown",
   "metadata": {},
   "source": [
    "Alternatively you can also search for the table with `pyvo` using the Table Access Protocol (TAP) to query VizieR. In this case, you first need to define the TAP endpoint of VizieR and then send a query written in ADQL (an SQL-like query language optimised for astronomy) to this endpoint. Finally we again print out the result of this query."
   ]
  },
  {
   "cell_type": "code",
   "execution_count": 5,
   "metadata": {},
   "outputs": [
    {
     "data": {
      "text/html": [
       "<div><i>Table length=21</i>\n",
       "<table id=\"table140136849096032\" class=\"table-striped table-bordered table-condensed\">\n",
       "<thead><tr><th>table_name</th><th>description</th></tr></thead>\n",
       "<thead><tr><th>object</th><th>object</th></tr></thead>\n",
       "<tr><td>J/ApJS/176/374/warps</td><td>WARPS-II catalog, with additional  clusters and candidates ( Horner D.J., Perlman E.S., Ebeling H., Jones L.R., Scharf C.A., Wegner G., Malkan M., Maughan B.)</td></tr>\n",
       "<tr><td>J/A+A/664/A53/harps15</td><td>RV data taken with HARPS spectrograph ( Stalport M., Delisle J.-B., Udry S., Matthews E., Bourrier V., Leleu A.)</td></tr>\n",
       "<tr><td>J/A+A/614/A133/harps_b</td><td>HARPS measurements of HD215152 taken after the fiber upgrade ( Delisle J.-B., Segransan D., Dumusque X., et al.)</td></tr>\n",
       "<tr><td>J/MNRAS/511/1043/harpsccf</td><td>HARPS CCF SCALPELS data ( Wilson T.G., Goffo E., Alibert Y., et al.)</td></tr>\n",
       "<tr><td>J/A+A/614/A133/harps_a</td><td>HARPS measurements of HD215152 taken before the fiber upgrade ( Delisle J.-B., Segransan D., Dumusque X., et al.)</td></tr>\n",
       "<tr><td>J/A+A/629/A111/harps</td><td>HARPS time-series ( Cloutier R., Astudillo-Defru N., Bonfils X., et al.)</td></tr>\n",
       "<tr><td>J/A+A/666/A143/harps</td><td>HARPS-S radial velocities of AD Leo (table A4) ( Kossakowski D., Kuerster M., Henning T., et al.)</td></tr>\n",
       "<tr><td>VII/192/arpord</td><td>list of Arp views with imaging data ( Webb D.)</td></tr>\n",
       "<tr><td>J/A+A/665/A8/arp2</td><td>Extra-tidal stars belonging to Arp 2 ( Kundu R., Navarrete C., Sbordone L., Carballo-Bello J.A., Fernandez-Trincado J.G., Minniti D., Singh H.P.)</td></tr>\n",
       "<tr><td>J/A+A/666/A143/harps-a</td><td>HARPS-S stellar activity indicators of AD Leo (Fig. C3) ( Kossakowski D., Kuerster M., Henning T., et al.)</td></tr>\n",
       "<tr><td>J/A+A/612/A95/rvharps</td><td>HARPS RV measurements ( Barragan O., Gandolfi D., Dai F., et al.)</td></tr>\n",
       "<tr><td>J/other/RMxAA/40.209/varphot</td><td>CCD time-series V and R photometry of 15 variables in NGC 4147 ( Arellano Ferro A., Arevalo M.J., Lazaro C., Rey M., Bramich D.M., Giridhar S.)</td></tr>\n",
       "<tr><td>J/ApJ/898/L11/harps</td><td>HARPS radial velocity time series (data behind Figure 1) ( Gill S., Wheatley P.J., Cooke B.F., et al.)</td></tr>\n",
       "<tr><td>I/256/varpos</td><td>Variable star positions ( Copenhagen University Obs., Royal Greenwich Obs., and Real Instituto y Observatorio de la Armada en San Fernando)</td></tr>\n",
       "<tr><td>J/other/PDDO/1.511/varphot</td><td>Time-series photographic photometry of 12 variables in Messier 9 (NGC 6333) ( Sawyer H.B.)</td></tr>\n",
       "<tr><td>J/A+A/501/785/harps</td><td>WASP-6 radial velocities obtained by the spectrograph HARPS ( Gillon M., Anderson D.R., Triaud A.H.M.J., et al.)</td></tr>\n",
       "<tr><td>VII/192/arplist</td><td>list and info for involved galaxies ( Webb D.)</td></tr>\n",
       "<tr><td>J/MNRAS/511/1043/harpsraw</td><td>HARPS raw data ( Wilson T.G., Goffo E., Alibert Y., et al.)</td></tr>\n",
       "<tr><td>J/A+A/664/A53/harps03</td><td>RV data taken with HARPS spectrograph ( Stalport M., Delisle J.-B., Udry S., Matthews E., Bourrier V., Leleu A.)</td></tr>\n",
       "<tr><td>J/MNRAS/372/69/varphot</td><td>CCD time-series V and R photometry of 30 variables in M2 (NGC7089) ( Lazaro C., Arellano Ferro A., Arevalo A., Bramich D.M., Giridhar S., Poretti E.)</td></tr>\n",
       "<tr><td>J/A+A/568/A81/rv_harps</td><td>HARPS radial velocities ( Lendl M., Triaud A.H.M.J., Anderson D.R., et al.)</td></tr>\n",
       "</table></div>"
      ],
      "text/plain": [
       "<Table length=21>\n",
       "         table_name          ...\n",
       "           object            ...\n",
       "---------------------------- ...\n",
       "        J/ApJS/176/374/warps ...\n",
       "       J/A+A/664/A53/harps15 ...\n",
       "      J/A+A/614/A133/harps_b ...\n",
       "   J/MNRAS/511/1043/harpsccf ...\n",
       "      J/A+A/614/A133/harps_a ...\n",
       "        J/A+A/629/A111/harps ...\n",
       "        J/A+A/666/A143/harps ...\n",
       "              VII/192/arpord ...\n",
       "           J/A+A/665/A8/arp2 ...\n",
       "      J/A+A/666/A143/harps-a ...\n",
       "       J/A+A/612/A95/rvharps ...\n",
       "J/other/RMxAA/40.209/varphot ...\n",
       "         J/ApJ/898/L11/harps ...\n",
       "                I/256/varpos ...\n",
       "  J/other/PDDO/1.511/varphot ...\n",
       "         J/A+A/501/785/harps ...\n",
       "             VII/192/arplist ...\n",
       "   J/MNRAS/511/1043/harpsraw ...\n",
       "       J/A+A/664/A53/harps03 ...\n",
       "      J/MNRAS/372/69/varphot ...\n",
       "      J/A+A/568/A81/rv_harps ..."
      ]
     },
     "execution_count": 5,
     "metadata": {},
     "output_type": "execute_result"
    }
   ],
   "source": [
    "tap_vizier = pyvo.dal.TAPService(\n",
    "    'https://tapvizier.cds.unistra.fr/TAPVizieR/tap')\n",
    "query = \"\"\"SELECT  *  FROM tap_schema.tables \n",
    "               WHERE table_name LIKE '%arp%' \"\"\"\n",
    "catalog_list_arp = tap_vizier.search(query).to_table()\n",
    "catalog_list_arp['table_name', 'description']\n"
   ]
  },
  {
   "cell_type": "markdown",
   "metadata": {},
   "source": [
    "The catalogue that we are interested in today is \"VII/192\" and its description is \"Arp's Peculiar Galaxies (Webb 1996)\". In the TAP query we already see that there are two tables in this catalogue: `VII/192/arplist` and `VII/192/arpord`. To be able to work with these data, let's load them into this notebook. \n",
    "\n",
    "Again we can use either `astroquery` or `pyvo`. Which one you chose is up to you and which one you like better. Attention **Spoiler:** over the week you'll learn more about TAP and ADQL.\n",
    "\n",
    "In oder to get the full catalogue with `astroquery`, we first set the row limit to infinite (i.e. `-1` in the notation of this package) and then ask `Vizier` to write the content of the catalogue into the variable `catalogs_arp` (second line):"
   ]
  },
  {
   "cell_type": "code",
   "execution_count": 6,
   "metadata": {},
   "outputs": [],
   "source": [
    "Vizier.ROW_LIMIT = -1\n",
    "catalogs_arp = Vizier.get_catalogs('VII/192')\n"
   ]
  },
  {
   "cell_type": "markdown",
   "metadata": {},
   "source": [
    "Now let's inspect, what we got:"
   ]
  },
  {
   "cell_type": "code",
   "execution_count": 7,
   "metadata": {},
   "outputs": [
    {
     "name": "stdout",
     "output_type": "stream",
     "text": [
      "TableList with 2 tables:\n",
      "\t'0:VII/192/arpord' with 12 column(s) and 338 row(s) \n",
      "\t'1:VII/192/arplist' with 13 column(s) and 592 row(s) \n"
     ]
    }
   ],
   "source": [
    "print(catalogs_arp)\n"
   ]
  },
  {
   "cell_type": "markdown",
   "metadata": {},
   "source": [
    "As we have seen in the first part of the tutorial, the catalogue \"Arp's Peculiar Galaxies (Webb 1996)\" comes with two tables: arpord and arplist. As you can see from the printout `Vizier` has downloaded both of them. However, we are still only interested in the arplist (index `1` in the TableList). Therefore, we make Python write only the arplist table into a new variable `table_arplist` (first line) and then display the table (second line):"
   ]
  },
  {
   "cell_type": "code",
   "execution_count": 8,
   "metadata": {},
   "outputs": [
    {
     "data": {
      "text/html": [
       "<div><i>Table length=592</i>\n",
       "<table id=\"table140136850995376\" class=\"table-striped table-bordered table-condensed\">\n",
       "<thead><tr><th>Arp</th><th>Name</th><th>VT</th><th>u_VT</th><th>dim1</th><th>dim2</th><th>u_dim2</th><th>MType</th><th>Uchart</th><th>RAJ2000</th><th>DEJ2000</th><th>Simbad</th><th>NED</th></tr></thead>\n",
       "<thead><tr><th></th><th></th><th>mag</th><th></th><th>arcmin</th><th>arcmin</th><th></th><th></th><th></th><th>&apos;h:m:s&apos;</th><th>&apos;d:m:s&apos;</th><th></th><th></th></tr></thead>\n",
       "<thead><tr><th>int16</th><th>str16</th><th>float32</th><th>str1</th><th>float32</th><th>float32</th><th>str1</th><th>str14</th><th>int16</th><th>str10</th><th>str9</th><th>str6</th><th>str3</th></tr></thead>\n",
       "<tr><td>249</td><td>UGC 12891</td><td>16.2</td><td></td><td>--</td><td>--</td><td></td><td></td><td>--</td><td>00 00 19.3</td><td>+22 59 26</td><td>Simbad</td><td>NED</td></tr>\n",
       "<tr><td>249</td><td>UGC 12891</td><td>16.2</td><td></td><td>1.3</td><td>0.5</td><td></td><td></td><td>--</td><td>00 00 21.6</td><td>+22 59 42</td><td>Simbad</td><td>NED</td></tr>\n",
       "<tr><td>112</td><td>NGC 7805</td><td>13.3</td><td></td><td>1.2</td><td>0.9</td><td></td><td>SAB0^0: pec</td><td>89</td><td>00 01 26.9</td><td>+31 26 02</td><td>Simbad</td><td>NED</td></tr>\n",
       "<tr><td>112</td><td>NGC 7806</td><td>13.5</td><td></td><td>1.1</td><td>0.8</td><td></td><td>SA(rs)bc? pec</td><td>89</td><td>00 01 30.2</td><td>+31 26 33</td><td>Simbad</td><td>NED</td></tr>\n",
       "<tr><td>130</td><td>IC 5378</td><td>15.6</td><td></td><td>0.5</td><td>--</td><td></td><td>SBc</td><td>--</td><td>00 02 37.7</td><td>+16 39 08</td><td>Simbad</td><td>NED</td></tr>\n",
       "<tr><td>130</td><td>IC 5378</td><td>15.3</td><td></td><td>--</td><td>--</td><td></td><td>E</td><td>--</td><td>00 02 37.8</td><td>+16 38 37</td><td>Simbad</td><td>NED</td></tr>\n",
       "<tr><td>51</td><td>MGC-02-01-24</td><td>15.0</td><td></td><td>0.8</td><td>--</td><td></td><td></td><td>--</td><td>00 06 16.8</td><td>-13 26 53</td><td>Simbad</td><td>NED</td></tr>\n",
       "<tr><td>144</td><td>NGC 7828</td><td>14.4</td><td></td><td>0.9</td><td>0.5</td><td></td><td>Ring A</td><td>260</td><td>00 06 27.1</td><td>-13 24 58</td><td>Simbad</td><td>NED</td></tr>\n",
       "<tr><td>144</td><td>NGC 7829</td><td>14.6</td><td></td><td>0.7</td><td>--</td><td></td><td>Ring B pec</td><td>260</td><td>00 06 29.0</td><td>-13 25 15</td><td>Simbad</td><td>NED</td></tr>\n",
       "<tr><td>...</td><td>...</td><td>...</td><td>...</td><td>...</td><td>...</td><td>...</td><td>...</td><td>...</td><td>...</td><td>...</td><td>...</td><td>...</td></tr>\n",
       "<tr><td>295</td><td>MCG-01-60-021</td><td>14.5</td><td></td><td>1.9</td><td>0.3</td><td></td><td>Sc</td><td>--</td><td>23 41 47.9</td><td>-03 40 37</td><td>Simbad</td><td>NED</td></tr>\n",
       "<tr><td>295</td><td>ARP 295</td><td>14.6</td><td></td><td>0.9</td><td>0.5</td><td>?</td><td>Sb pec</td><td>--</td><td>23 42 04.1</td><td>-03 35 21</td><td>Simbad</td><td>NED</td></tr>\n",
       "<tr><td>86</td><td>NGC 7752</td><td>14.3</td><td></td><td>0.8</td><td>0.5</td><td>?</td><td>I0:</td><td>89</td><td>23 46 58.5</td><td>+29 27 32</td><td>Simbad</td><td>NED</td></tr>\n",
       "<tr><td>86</td><td>NGC 7753</td><td>12.0</td><td></td><td>3.3</td><td>2.1</td><td></td><td>SAB(rs)bc I</td><td>89</td><td>23 47 04.7</td><td>+29 29 01</td><td>Simbad</td><td>NED</td></tr>\n",
       "<tr><td>68</td><td>NGC 7757</td><td>12.7</td><td></td><td>2.5</td><td>1.8</td><td></td><td>SAB(rs)c</td><td>215</td><td>23 48 45.1</td><td>+04 10 24</td><td>Simbad</td><td>NED</td></tr>\n",
       "<tr><td>323</td><td>NGC 7783</td><td>13.0</td><td></td><td>1.3</td><td>0.6</td><td></td><td>S0^0: sp</td><td>215</td><td>23 54 10.0</td><td>+00 22 58</td><td>Simbad</td><td>NED</td></tr>\n",
       "<tr><td>323</td><td>NGC 7783B</td><td>14.0</td><td></td><td>0.4</td><td>0.3</td><td></td><td>S0</td><td>215</td><td>23 54 12.0</td><td>+00 22 38</td><td>Simbad</td><td>NED</td></tr>\n",
       "<tr><td>262</td><td>MCG+03-01-003</td><td>14.6</td><td></td><td>0.5</td><td>0.4</td><td></td><td>S</td><td>125</td><td>23 56 43.8</td><td>+16 48 27</td><td>Simbad</td><td>NED</td></tr>\n",
       "<tr><td>262</td><td>UGC 12856</td><td>13.2</td><td></td><td>2.4</td><td>--</td><td></td><td>IB(s)m</td><td>125</td><td>23 56 44.9</td><td>+16 48 45</td><td>Simbad</td><td>NED</td></tr>\n",
       "<tr><td>50</td><td>IC 1520</td><td>14.0</td><td></td><td>0.5</td><td>0.5</td><td></td><td></td><td>--</td><td>23 57 58.0</td><td>-14 01 48</td><td>Simbad</td><td>NED</td></tr>\n",
       "</table></div>"
      ],
      "text/plain": [
       "<Table length=592>\n",
       " Arp       Name        VT   u_VT   dim1  ...  RAJ2000    DEJ2000  Simbad NED \n",
       "                      mag         arcmin ...  'h:m:s'    'd:m:s'             \n",
       "int16     str16     float32 str1 float32 ...   str10       str9    str6  str3\n",
       "----- ------------- ------- ---- ------- ... ---------- --------- ------ ----\n",
       "  249     UGC 12891    16.2           -- ... 00 00 19.3 +22 59 26 Simbad  NED\n",
       "  249     UGC 12891    16.2          1.3 ... 00 00 21.6 +22 59 42 Simbad  NED\n",
       "  112      NGC 7805    13.3          1.2 ... 00 01 26.9 +31 26 02 Simbad  NED\n",
       "  112      NGC 7806    13.5          1.1 ... 00 01 30.2 +31 26 33 Simbad  NED\n",
       "  130       IC 5378    15.6          0.5 ... 00 02 37.7 +16 39 08 Simbad  NED\n",
       "  130       IC 5378    15.3           -- ... 00 02 37.8 +16 38 37 Simbad  NED\n",
       "   51  MGC-02-01-24    15.0          0.8 ... 00 06 16.8 -13 26 53 Simbad  NED\n",
       "  144      NGC 7828    14.4          0.9 ... 00 06 27.1 -13 24 58 Simbad  NED\n",
       "  144      NGC 7829    14.6          0.7 ... 00 06 29.0 -13 25 15 Simbad  NED\n",
       "  ...           ...     ...  ...     ... ...        ...       ...    ...  ...\n",
       "  295 MCG-01-60-021    14.5          1.9 ... 23 41 47.9 -03 40 37 Simbad  NED\n",
       "  295       ARP 295    14.6          0.9 ... 23 42 04.1 -03 35 21 Simbad  NED\n",
       "   86      NGC 7752    14.3          0.8 ... 23 46 58.5 +29 27 32 Simbad  NED\n",
       "   86      NGC 7753    12.0          3.3 ... 23 47 04.7 +29 29 01 Simbad  NED\n",
       "   68      NGC 7757    12.7          2.5 ... 23 48 45.1 +04 10 24 Simbad  NED\n",
       "  323      NGC 7783    13.0          1.3 ... 23 54 10.0 +00 22 58 Simbad  NED\n",
       "  323     NGC 7783B    14.0          0.4 ... 23 54 12.0 +00 22 38 Simbad  NED\n",
       "  262 MCG+03-01-003    14.6          0.5 ... 23 56 43.8 +16 48 27 Simbad  NED\n",
       "  262     UGC 12856    13.2          2.4 ... 23 56 44.9 +16 48 45 Simbad  NED\n",
       "   50       IC 1520    14.0          0.5 ... 23 57 58.0 -14 01 48 Simbad  NED"
      ]
     },
     "execution_count": 8,
     "metadata": {},
     "output_type": "execute_result"
    }
   ],
   "source": [
    "table_arplist = catalogs_arp[1]\n",
    "table_arplist\n"
   ]
  },
  {
   "cell_type": "markdown",
   "metadata": {},
   "source": [
    "Nice, we got the data we want. Before we move on, let's have a look at how we can use `pyVO` to get the same table. Just for safety we define again the VizieR TAP endpoint. It is the same one as above, but if the cells of this notebook are not run one after another, this safety measure ensure we always query the right service ;) \n",
    "\n",
    "The we write a simple query telling VizieR that we want all the rows and all the columns from the table `VII/192/arplist`. Note that we have to encompass the table name with quotation marks due to the special character `/` in the table name. "
   ]
  },
  {
   "cell_type": "code",
   "execution_count": 9,
   "metadata": {},
   "outputs": [
    {
     "data": {
      "text/html": [
       "<div><i>Table length=592</i>\n",
       "<table id=\"table140136845598288\" class=\"table-striped table-bordered table-condensed\">\n",
       "<thead><tr><th>recno</th><th>Arp</th><th>Name</th><th>VT</th><th>u_VT</th><th>dim1</th><th>dim2</th><th>u_dim2</th><th>MType</th><th>Uchart</th><th>RAJ2000</th><th>DEJ2000</th></tr></thead>\n",
       "<thead><tr><th></th><th></th><th></th><th>mag</th><th></th><th>arcmin</th><th>arcmin</th><th></th><th></th><th></th><th>deg</th><th>deg</th></tr></thead>\n",
       "<thead><tr><th>int32</th><th>int16</th><th>object</th><th>float64</th><th>str1</th><th>float64</th><th>float64</th><th>str1</th><th>object</th><th>int16</th><th>float64</th><th>float64</th></tr></thead>\n",
       "<tr><td>112</td><td>333</td><td>NGC 1024</td><td>12.1</td><td></td><td>3.9</td><td>1.4</td><td></td><td>(R&apos;)SA(r)ab</td><td>175</td><td>39.80083333333333</td><td>10.847222222222221</td></tr>\n",
       "<tr><td>120</td><td>200</td><td>NGC 1134</td><td>12.1</td><td></td><td>2.5</td><td>0.9</td><td></td><td>S?</td><td>175</td><td>43.42124999999999</td><td>13.015277777777776</td></tr>\n",
       "<tr><td>119</td><td>190</td><td>UGC 02320</td><td>15.2</td><td></td><td>0.5</td><td>0.3</td><td></td><td>Multiple Sys</td><td>--</td><td>42.58291666666666</td><td>12.889444444444443</td></tr>\n",
       "<tr><td>89</td><td>290</td><td>IC 0195</td><td>14.3</td><td></td><td>1.6</td><td>0.8</td><td></td><td>S0</td><td>--</td><td>30.935833333333328</td><td>14.708611111111109</td></tr>\n",
       "<tr><td>90</td><td>290</td><td>IC 0196</td><td>14.2</td><td></td><td>2.8</td><td>1.4</td><td></td><td>S0-</td><td>--</td><td>30.95833333333333</td><td>14.73972222222222</td></tr>\n",
       "<tr><td>111</td><td>258</td><td>UGC 02140A</td><td>15.5</td><td></td><td>0.9</td><td>0.2</td><td></td><td>SB.0*/</td><td>--</td><td>39.78874999999999</td><td>18.367499999999996</td></tr>\n",
       "<tr><td>110</td><td>258</td><td>UGC 02140</td><td>15.4</td><td></td><td>1.7</td><td>0.7</td><td></td><td>IBS9P</td><td>--</td><td>39.77583333333333</td><td>18.382777777777775</td></tr>\n",
       "<tr><td>109</td><td>258</td><td>Hickson 18C</td><td>16.1</td><td></td><td>--</td><td>--</td><td></td><td>S?</td><td>--</td><td>39.774583333333325</td><td>18.388333333333332</td></tr>\n",
       "<tr><td>108</td><td>258</td><td>Hickson 18D</td><td>14.6</td><td></td><td>--</td><td>--</td><td></td><td>S?</td><td>--</td><td>39.76916666666666</td><td>18.393888888888885</td></tr>\n",
       "<tr><td>...</td><td>...</td><td>...</td><td>...</td><td>...</td><td>...</td><td>...</td><td>...</td><td>...</td><td>...</td><td>...</td><td>...</td></tr>\n",
       "<tr><td>465</td><td>261</td><td>ARP 261</td><td>14.5</td><td></td><td>--</td><td>--</td><td></td><td>IB(s)m pec</td><td>--</td><td>222.3870833333333</td><td>-10.164166666666665</td></tr>\n",
       "<tr><td>464</td><td>261</td><td>ARP 261</td><td>--</td><td></td><td>--</td><td>--</td><td></td><td></td><td>--</td><td>222.38624999999996</td><td>-10.163055555555554</td></tr>\n",
       "<tr><td>463</td><td>261</td><td>ARP 261</td><td>--</td><td></td><td>--</td><td>--</td><td></td><td></td><td>--</td><td>222.38624999999996</td><td>-10.156666666666665</td></tr>\n",
       "<tr><td>549</td><td>14</td><td>NGC 7314</td><td>10.9</td><td></td><td>4.6</td><td>2.1</td><td></td><td>SAB(rs)c: II</td><td>347</td><td>338.94041666666664</td><td>-26.05083333333333</td></tr>\n",
       "<tr><td>547</td><td>93</td><td>NGC 7284</td><td>11.9</td><td></td><td>2.1</td><td>1.5</td><td></td><td>SB(s)0^0 pec</td><td>347</td><td>337.15</td><td>-24.844166666666663</td></tr>\n",
       "<tr><td>548</td><td>93</td><td>NGC 7285</td><td>11.9</td><td></td><td>2.4</td><td>1.4</td><td></td><td>SB(rs)a pec</td><td>347</td><td>337.1583333333333</td><td>-24.84083333333333</td></tr>\n",
       "<tr><td>546</td><td>226</td><td>NGC 7252</td><td>11.4</td><td></td><td>2.0</td><td>1.6</td><td></td><td>SAB0^0? pec</td><td>347</td><td>335.1866666666666</td><td>-24.678611111111106</td></tr>\n",
       "<tr><td>541</td><td>325</td><td>ESO 601- G 018</td><td>16.1</td><td></td><td>--</td><td>--</td><td></td><td></td><td>--</td><td>331.6008333333333</td><td>-21.079166666666662</td></tr>\n",
       "<tr><td>540</td><td>325</td><td>ESO 601- G 018</td><td>17.9</td><td></td><td>--</td><td>--</td><td></td><td></td><td>--</td><td>331.59666666666664</td><td>-21.077499999999997</td></tr>\n",
       "<tr><td>539</td><td>325</td><td>ESO 601- G 018</td><td>18.1</td><td></td><td>1.7</td><td>0.7</td><td></td><td></td><td>--</td><td>331.5925</td><td>-21.072499999999998</td></tr>\n",
       "</table></div>"
      ],
      "text/plain": [
       "<Table length=592>\n",
       "recno  Arp       Name      ... Uchart      RAJ2000             DEJ2000      \n",
       "                           ...               deg                 deg        \n",
       "int32 int16     object     ... int16       float64             float64      \n",
       "----- ----- -------------- ... ------ ------------------ -------------------\n",
       "  112   333       NGC 1024 ...    175  39.80083333333333  10.847222222222221\n",
       "  120   200       NGC 1134 ...    175  43.42124999999999  13.015277777777776\n",
       "  119   190      UGC 02320 ...     --  42.58291666666666  12.889444444444443\n",
       "   89   290        IC 0195 ...     -- 30.935833333333328  14.708611111111109\n",
       "   90   290        IC 0196 ...     --  30.95833333333333   14.73972222222222\n",
       "  111   258     UGC 02140A ...     --  39.78874999999999  18.367499999999996\n",
       "  110   258      UGC 02140 ...     --  39.77583333333333  18.382777777777775\n",
       "  109   258    Hickson 18C ...     -- 39.774583333333325  18.388333333333332\n",
       "  108   258    Hickson 18D ...     --  39.76916666666666  18.393888888888885\n",
       "  ...   ...            ... ...    ...                ...                 ...\n",
       "  465   261        ARP 261 ...     --  222.3870833333333 -10.164166666666665\n",
       "  464   261        ARP 261 ...     -- 222.38624999999996 -10.163055555555554\n",
       "  463   261        ARP 261 ...     -- 222.38624999999996 -10.156666666666665\n",
       "  549    14       NGC 7314 ...    347 338.94041666666664  -26.05083333333333\n",
       "  547    93       NGC 7284 ...    347             337.15 -24.844166666666663\n",
       "  548    93       NGC 7285 ...    347  337.1583333333333  -24.84083333333333\n",
       "  546   226       NGC 7252 ...    347  335.1866666666666 -24.678611111111106\n",
       "  541   325 ESO 601- G 018 ...     --  331.6008333333333 -21.079166666666662\n",
       "  540   325 ESO 601- G 018 ...     -- 331.59666666666664 -21.077499999999997\n",
       "  539   325 ESO 601- G 018 ...     --           331.5925 -21.072499999999998"
      ]
     },
     "execution_count": 9,
     "metadata": {},
     "output_type": "execute_result"
    }
   ],
   "source": [
    "query = \"\"\"SELECT  *  FROM \"VII/192/arplist\" \"\"\"\n",
    "table_arplist = tap_vizier.search(query).to_table()\n",
    "table_arplist\n"
   ]
  },
  {
   "cell_type": "markdown",
   "metadata": {},
   "source": [
    "There we go, we now know two nifty ways to get VizieR tables with Python. Obviously there are many other things you can do with this tools. For example if you set your TAP endpoint to `http://simbad.u-strasbg.fr:80/simbad/sim-tap` instead of the VizieR enpoint, you can query SIMBAD just like that. "
   ]
  },
  {
   "cell_type": "markdown",
   "metadata": {},
   "source": [
    "Note that not all rows but only the first and last 10 rows for all columns are shown in the display. To finish off this little excursion, we now want to visualise the location of the entries of this table in our Aladin Lite widget. To do so, we tell Python to take the variable `aladin` (remember that this was the name of the widget) and add the table `table_arplist` to it:"
   ]
  },
  {
   "cell_type": "code",
   "execution_count": 10,
   "metadata": {},
   "outputs": [
    {
     "name": "stderr",
     "output_type": "stream",
     "text": [
      "/home/manon.marchand/.local/lib/python3.8/site-packages/jupyter_client/session.py:718: UserWarning: Message serialization failed with:\n",
      "Out of range float values are not JSON compliant\n",
      "Supporting this message is deprecated in jupyter-client 7, please make sure your message is JSON-compliant\n",
      "  content = self.pack(content)\n"
     ]
    }
   ],
   "source": [
    "aladin.add_table(table_arplist)\n"
   ]
  },
  {
   "cell_type": "markdown",
   "metadata": {},
   "source": [
    "Now scroll back up to the Aladin Lite widget. You will find that the location of the sources in the arplist table are marked with coloured symbols. Again you can zoom in and out to look at the different sources. If you click on one of the colour symbols, you will be able to see the corresponding row in the bottom of the Aladin Lite widget. "
   ]
  },
  {
   "cell_type": "code",
   "execution_count": null,
   "metadata": {},
   "outputs": [],
   "source": []
  }
 ],
 "metadata": {
  "kernelspec": {
   "display_name": "Python 3.8.10 64-bit",
   "language": "python",
   "name": "python3"
  },
  "language_info": {
   "codemirror_mode": {
    "name": "ipython",
    "version": 3
   },
   "file_extension": ".py",
   "mimetype": "text/x-python",
   "name": "python",
   "nbconvert_exporter": "python",
   "pygments_lexer": "ipython3",
   "version": "3.8.10"
  },
  "vscode": {
   "interpreter": {
    "hash": "916dbcbb3f70747c44a77c7bcd40155683ae19c65e1c03b4aa3499c5328201f1"
   }
  }
 },
 "nbformat": 4,
 "nbformat_minor": 2
}
