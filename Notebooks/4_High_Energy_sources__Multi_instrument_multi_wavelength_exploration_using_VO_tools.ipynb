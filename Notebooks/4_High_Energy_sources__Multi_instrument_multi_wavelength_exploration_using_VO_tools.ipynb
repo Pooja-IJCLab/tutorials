{
 "cells": [
  {
   "attachments": {},
   "cell_type": "markdown",
   "metadata": {},
   "source": [
    "# Multi-instrument, multi-wavelength study of high energy sources with the Virtual Observatory\n",
    "\n",
    "François Bonnarel¹, Caroline Bot¹, Françoise Genova¹, René Goosmann¹, Ada Nebot¹.\n",
    "\n",
    "1. Université de Strasbourg, CNRS, Observatoire Astronomique de Strasbourg, UMR 7550, F-67000, Strasbourg, France\n",
    "\n",
    "This Notebook is based on the Euro-VO \"Multi-instrument, multi-wavelength study of high energy sources with the Virtual Observatory\" tutorial http://www.euro-vo.org/sites/default/files/documents/tutorial-highenergy_2016Nov.pdf. \n",
    "\n",
    "Developed by Caroline Bot, François Bonnarel, René Goosmann and Françoise Genova. \n",
    "Adapted to a Jupyter Notebook by Ada Nebot. \n",
    "\n",
    "![CDS](Data/images/cds.png)\n",
    "\n",
    "***\n",
    "\n",
    "## Introduction\n",
    "\n",
    "This tutorial demonstrates how to use several standard tools of the Virtual Observatory (VO) for data mining and multiple waveband data analysis. The step-by-step application below focuses on applications in the gamma-ray and high energy domain, but also involves observational data from other wavebands. The user may explore how to:\n",
    "\n",
    "1. query astronomical catalogues in the gamma-ray and high energy spectral band using VO tools\n",
    "2. cross-correlate catalogues to find an object at different photon energy bands\n",
    "3. apply selection criteria when extracting sources from a catalogue\n",
    "4. use the observational measures of the selected objects to explore possible correlations\n",
    "5. visualize astronomical images from the radio up to the high energy domain\n",
    "6. display spectral energy distributions obtained from different photometric data sets\n",
    "   \n",
    "Schematic view of the scientific rationale of the tutorial: \n",
    "\n",
    "![schema](Data/images/schema.png)"
   ]
  },
  {
   "cell_type": "code",
   "execution_count": 1,
   "metadata": {},
   "outputs": [],
   "source": [
    "# Standard Library\n",
    "from pathlib import Path\n",
    "\n",
    "# Astronomy tools\n",
    "from astropy import units as u\n",
    "from astropy.coordinates import SkyCoord\n",
    "from astropy.table import Table, hstack, join, unique, vstack\n",
    "\n",
    "# Access astronomical databases\n",
    "from astroquery.simbad import Simbad\n",
    "from astroquery.vizier import Vizier\n",
    "\n",
    "# Sky visualization\n",
    "import ipyaladin.aladin_widget as ipyal\n",
    "\n",
    "# For plots\n",
    "import plotly.express as px"
   ]
  },
  {
   "cell_type": "markdown",
   "metadata": {},
   "source": [
    "## Step #1 - Obtaining all HESS sources from SIMBAD\n",
    "\n",
    "[![Simbad](https://custom-icon-badges.demolab.com/badge/Simbad-gray.svg?logo=simbad&logoColor=lightblue&logoWidth=20)](https://simbad.u-strasbg.fr/simbad/ \"https://simbad.u-strasbg.fr/simbad/\")\n",
    "\n",
    "How to obtain a catalogue of all published HESS sources from the astronomical database SIMBAD.\n",
    "\n",
    "The High Energy Stereoscopic System (HESS) is a Cherenkov telescope array detecting cosmic gamma-rays in the GeV—TeV  range. Sources detected by HESS include supernova remnants, wind nebulae pulsar pulsars, active galactic nuclei and others. The number of detected sources steadily grows and makes it possible to study certain sub-samples of the HESS catalogue. In the following, the HESS sources should be investigated with respect to their gamma-ray properties obtained from the second Fermi-LAT catalogue.\n"
   ]
  },
  {
   "cell_type": "code",
   "execution_count": 2,
   "metadata": {},
   "outputs": [
    {
     "data": {
      "text/plain": [
       "['main_id', 'coordinates']"
      ]
     },
     "execution_count": 2,
     "metadata": {},
     "output_type": "execute_result"
    }
   ],
   "source": [
    "# Check which are the default fields\n",
    "Simbad.get_votable_fields()"
   ]
  },
  {
   "cell_type": "code",
   "execution_count": 3,
   "metadata": {
    "scrolled": true,
    "tags": [
     "output_scroll"
    ]
   },
   "outputs": [
    {
     "name": "stdout",
     "output_type": "stream",
     "text": [
      "--NOTES--\n",
      "\n",
      "1. The parameter filtername must correspond to an existing filter. Filters include: B,V,R,I,J,K.  They are checked by SIMBAD but not astroquery.simbad\n",
      "\n",
      "2. Fields beginning with rvz display the data as it is in the database. Fields beginning with rv force the display as a radial velocity. Fields beginning with z force the display as a redshift\n",
      "\n",
      "3. For each measurement catalog, the VOTable contains all fields of the first measurement. When applicable, the first measurement is the mean one. \n",
      "\n",
      "Available VOTABLE fields:\n",
      "\n",
      "bibcodelist(y1-y2)\n",
      "biblio\n",
      "cel\n",
      "cl.g\n",
      "coo(opt)\n",
      "coo_bibcode\n",
      "coo_err_angle\n",
      "coo_err_maja\n",
      "coo_err_mina\n",
      "coo_qual\n",
      "coo_wavelength\n",
      "coordinates\n",
      "dec(opt)\n",
      "dec_prec\n",
      "diameter\n",
      "dim\n",
      "dim_angle\n",
      "dim_bibcode\n",
      "dim_incl\n",
      "dim_majaxis\n",
      "dim_minaxis\n",
      "dim_qual\n",
      "dim_wavelength\n",
      "dimensions\n",
      "distance\n",
      "distance_result\n",
      "einstein\n",
      "fe_h\n",
      "flux(filtername)\n",
      "flux_bibcode(filtername)\n",
      "flux_error(filtername)\n",
      "flux_name(filtername)\n",
      "flux_qual(filtername)\n",
      "flux_system(filtername)\n",
      "flux_unit(filtername)\n",
      "fluxdata(filtername)\n",
      "gcrv\n",
      "gen\n",
      "gj\n",
      "hbet\n",
      "hbet1\n",
      "hgam\n",
      "id(opt)\n",
      "ids\n",
      "iras\n",
      "irc\n",
      "iso\n",
      "iue\n",
      "jp11\n",
      "link_bibcode\n",
      "main_id\n",
      "measurements\n",
      "membership\n",
      "mesplx\n",
      "mespm\n",
      "mk\n",
      "morphtype\n",
      "mt\n",
      "mt_bibcode\n",
      "mt_qual\n",
      "otype\n",
      "otype(opt)\n",
      "otypes\n",
      "parallax\n",
      "plx\n",
      "plx_bibcode\n",
      "plx_error\n",
      "plx_prec\n",
      "plx_qual\n",
      "pm\n",
      "pm_bibcode\n",
      "pm_err_angle\n",
      "pm_err_maja\n",
      "pm_err_mina\n",
      "pm_qual\n",
      "pmdec\n",
      "pmdec_prec\n",
      "pmra\n",
      "pmra_prec\n",
      "pos\n",
      "posa\n",
      "propermotions\n",
      "ra(opt)\n",
      "ra_prec\n",
      "rot\n",
      "rv_value\n",
      "rvz_bibcode\n",
      "rvz_error\n",
      "rvz_qual\n",
      "rvz_radvel\n",
      "rvz_type\n",
      "rvz_wavelength\n",
      "sao\n",
      "sp\n",
      "sp_bibcode\n",
      "sp_nature\n",
      "sp_qual\n",
      "sptype\n",
      "td1\n",
      "typed_id\n",
      "ubv\n",
      "uvby\n",
      "uvby1\n",
      "v*\n",
      "velocity\n",
      "xmm\n",
      "z_value\n",
      "For more information on a field:\n",
      "Simbad.get_field_description ('field_name') \n",
      "Currently active VOTABLE fields:\n",
      " ['main_id', 'coordinates']\n"
     ]
    }
   ],
   "source": [
    "# Check the available fields in a Simbad astroquery\n",
    "Simbad.list_votable_fields()"
   ]
  },
  {
   "cell_type": "code",
   "execution_count": 4,
   "metadata": {
    "scrolled": true
   },
   "outputs": [
    {
     "name": "stdout",
     "output_type": "stream",
     "text": [
      "standard name of the object type\n"
     ]
    }
   ],
   "source": [
    "# Get more information about the field coordinatse\n",
    "Simbad.get_field_description(\"otype\")"
   ]
  },
  {
   "cell_type": "markdown",
   "metadata": {},
   "source": [
    "To check all available object types in Simbad go to http://simbad.u-strasbg.fr/simbad/sim-display?data=otypes"
   ]
  },
  {
   "cell_type": "code",
   "execution_count": 5,
   "metadata": {
    "scrolled": true
   },
   "outputs": [
    {
     "data": {
      "text/plain": [
       "['main_id', 'coordinates', 'otype', 'ra(d)', 'dec(d)']"
      ]
     },
     "execution_count": 5,
     "metadata": {},
     "output_type": "execute_result"
    }
   ],
   "source": [
    "# Add the field otype and check that it is now included\n",
    "Simbad.add_votable_fields(\"otype\")\n",
    "# Add new columns with the RA and Dec in degrees\n",
    "# (default cols are h:m:s and d:m:s respectively)\n",
    "Simbad.add_votable_fields(\"ra(d)\")\n",
    "Simbad.add_votable_fields(\"dec(d)\")\n",
    "\n",
    "Simbad.get_votable_fields()"
   ]
  },
  {
   "cell_type": "code",
   "execution_count": 6,
   "metadata": {
    "scrolled": true,
    "tags": [
     "output_scroll"
    ]
   },
   "outputs": [
    {
     "data": {
      "text/html": [
       "<i>Table length=113</i>\n",
       "<table id=\"table140080344628096-665439\" class=\"table-striped table-bordered table-condensed\">\n",
       "<thead><tr><th>idx</th><th>MAIN_ID</th><th>RA</th><th>DEC</th><th>RA_PREC</th><th>DEC_PREC</th><th>COO_ERR_MAJA</th><th>COO_ERR_MINA</th><th>COO_ERR_ANGLE</th><th>COO_QUAL</th><th>COO_WAVELENGTH</th><th>COO_BIBCODE</th><th>OTYPE</th><th>RA_d</th><th>DEC_d</th><th>SCRIPT_NUMBER_ID</th></tr></thead>\n",
       "<thead><tr><th></th><th></th><th>&quot;h:m:s&quot;</th><th>&quot;d:m:s&quot;</th><th></th><th></th><th>mas</th><th>mas</th><th>deg</th><th></th><th></th><th></th><th></th><th>deg</th><th>deg</th><th></th></tr></thead>\n",
       "<tr><td>0</td><td>HESS J0232+202</td><td>02 32 53.2</td><td>+20 16 21</td><td>5</td><td>5</td><td>--</td><td>--</td><td>0</td><td>D</td><td></td><td>2007A&amp;A...475L...9A</td><td>gamma</td><td>38.22170000</td><td>20.27250000</td><td>1</td></tr>\n",
       "<tr><td>1</td><td>HESS J0534+220</td><td>05 34</td><td>+22.0</td><td>2</td><td>2</td><td>--</td><td>--</td><td>0</td><td>E</td><td></td><td>2008ApJ...682L..41H</td><td>gamma</td><td>83.50000000</td><td>22.00000000</td><td>1</td></tr>\n",
       "<tr><td>2</td><td>4FGL J0535.2-6736</td><td>05 36 00.01</td><td>-67 35 07.5</td><td>6</td><td>6</td><td>--</td><td>--</td><td>0</td><td>D</td><td>X</td><td>2012ApJ...759..123S</td><td>HighMassXBin</td><td>84.00004000</td><td>-67.58542000</td><td>1</td></tr>\n",
       "<tr><td>3</td><td>HD 259440</td><td>06 32 59.2566</td><td>+05 48 01.160</td><td>14</td><td>14</td><td>0.018</td><td>0.016</td><td>90</td><td>A</td><td>O</td><td>2020yCat.1350....0G</td><td>HighMassXBin</td><td>98.24690253</td><td>5.80032243</td><td>1</td></tr>\n",
       "<tr><td>4</td><td>NAME MONOCEROS NEB</td><td>06 38 43</td><td>+06 30.2</td><td>4</td><td>4</td><td>31000.000</td><td>18000.000</td><td>94</td><td>E</td><td></td><td>1988IRASP.C......0J</td><td>SNRemnant</td><td>99.67900000</td><td>6.50300000</td><td>1</td></tr>\n",
       "<tr><td>5</td><td>NAME Vela X</td><td>08 33 08.880</td><td>-45 11 24.36</td><td>7</td><td>7</td><td>--</td><td>--</td><td>0</td><td>D</td><td></td><td>2015ApJS..217....2M</td><td>Pulsar</td><td>128.28700000</td><td>-45.19010000</td><td>1</td></tr>\n",
       "<tr><td>6</td><td>NAME Vela Jr SN</td><td>08 52.0</td><td>-46 20</td><td>3</td><td>3</td><td>--</td><td>--</td><td>0</td><td>E</td><td>R</td><td>2009BASI...37...45G</td><td>SNRemnant</td><td>133.00000000</td><td>-46.33000000</td><td>1</td></tr>\n",
       "<tr><td>7</td><td>2FGL J1019.0-5856</td><td>10 19 02.270</td><td>-58 56 29.87</td><td>7</td><td>7</td><td>--</td><td>--</td><td>0</td><td>D</td><td></td><td>2015ApJS..217....2M</td><td>HighMassXBin</td><td>154.75945800</td><td>-58.94163100</td><td>1</td></tr>\n",
       "<tr><td>8</td><td>PSR J1016-58</td><td>10 16 21.266</td><td>-58 57 11.70</td><td>7</td><td>7</td><td>1213.000</td><td>710.000</td><td>90</td><td>D</td><td>R</td><td>2015ApJ...814..128K</td><td>Pulsar</td><td>154.08860800</td><td>-58.95325000</td><td>1</td></tr>\n",
       "<tr><td>9</td><td>FGES J1023.3-5747</td><td>10 23 15.1831</td><td>-57 46 34.784</td><td>9</td><td>9</td><td>--</td><td>--</td><td>0</td><td>E</td><td>G</td><td>2018A&amp;A...612A...1H</td><td>gamma</td><td>155.81326306</td><td>-57.77632889</td><td>1</td></tr>\n",
       "<tr><td>10</td><td>PSR J1028-5819</td><td>10 28 27.888</td><td>-58 19 06.14</td><td>7</td><td>7</td><td>53.000</td><td>30.000</td><td>90</td><td>B</td><td>R</td><td>2015ApJ...814..128K</td><td>Pulsar</td><td>157.11620000</td><td>-58.31837200</td><td>1</td></tr>\n",
       "<tr><td>11</td><td>Mrk  421</td><td>11 04 27.3140</td><td>+38 12 31.798</td><td>14</td><td>14</td><td>0.012</td><td>0.015</td><td>90</td><td>A</td><td>O</td><td>2020yCat.1350....0G</td><td>BLLac</td><td>166.11380868</td><td>38.20883292</td><td>1</td></tr>\n",
       "<tr><td>12</td><td>PSR J1119-6127</td><td>11 19 14.30</td><td>-61 27 49.5</td><td>6</td><td>6</td><td>--</td><td>--</td><td>0</td><td>D</td><td></td><td>2000ApJ...541..367C</td><td>Pulsar</td><td>169.80958000</td><td>-61.46375000</td><td>1</td></tr>\n",
       "<tr><td>13</td><td>CPD-63  2495</td><td>13 02 47.6544</td><td>-63 50 08.626</td><td>14</td><td>14</td><td>0.009</td><td>0.010</td><td>90</td><td>A</td><td>O</td><td>2020yCat.1350....0G</td><td>HighMassXBin</td><td>195.69856001</td><td>-63.83572971</td><td>1</td></tr>\n",
       "<tr><td>14</td><td>PSR J1301-6305</td><td>13 01 45.76</td><td>-63 05 33.9</td><td>6</td><td>6</td><td>--</td><td>--</td><td>0</td><td>D</td><td></td><td>2001MNRAS.328...17M</td><td>Pulsar</td><td>195.44067000</td><td>-63.09275000</td><td>1</td></tr>\n",
       "<tr><td>15</td><td>PSR J1357-6429</td><td>13 57 02.525</td><td>-64 29 29.89</td><td>7</td><td>7</td><td>--</td><td>--</td><td>0</td><td>C</td><td>R</td><td>2015MNRAS.452.3273K</td><td>Pulsar</td><td>209.26052100</td><td>-64.49163600</td><td>1</td></tr>\n",
       "<tr><td>16</td><td>HESS J1357-645</td><td>13 57 00.0</td><td>-64 30 00</td><td>5</td><td>5</td><td>--</td><td>--</td><td>0</td><td>D</td><td></td><td></td><td>gamma</td><td>209.25000000</td><td>-64.50000000</td><td>1</td></tr>\n",
       "<tr><td>17</td><td>PSR J1418-6058</td><td>14 18 42.725</td><td>-60 58 01.89</td><td>7</td><td>7</td><td>1749.000</td><td>1270.000</td><td>90</td><td>D</td><td>R</td><td>2015ApJ...814..128K</td><td>Pulsar</td><td>214.67802100</td><td>-60.96719200</td><td>1</td></tr>\n",
       "<tr><td>18</td><td>PSR J1420-6048</td><td>14 20 08.190</td><td>-60 48 14.85</td><td>7</td><td>7</td><td>--</td><td>--</td><td>0</td><td>C</td><td>X</td><td>2010ApJ...711.1168V</td><td>Pulsar</td><td>215.03412500</td><td>-60.80412500</td><td>1</td></tr>\n",
       "<tr><td>19</td><td>HESS J1427-608</td><td>14 27 52.0</td><td>-60 51 00</td><td>5</td><td>5</td><td>--</td><td>--</td><td>0</td><td>D</td><td></td><td>2008A&amp;A...477..353A</td><td>gamma</td><td>216.96670000</td><td>-60.85000000</td><td>1</td></tr>\n",
       "<tr><td>20</td><td>SNR G315.0-02.3</td><td>14 43 00</td><td>-62 30.0</td><td>4</td><td>4</td><td>--</td><td>--</td><td>0</td><td>E</td><td>R</td><td>2014BASI...42...47G</td><td>SNRemnant</td><td>220.75000000</td><td>-62.50000000</td><td>1</td></tr>\n",
       "<tr><td>21</td><td>SNR G318.2+00.1</td><td>14 54.8</td><td>-59 04</td><td>3</td><td>3</td><td>--</td><td>--</td><td>0</td><td>E</td><td>R</td><td>2009BASI...37...45G</td><td>SNRemnant</td><td>223.70000000</td><td>-59.07000000</td><td>1</td></tr>\n",
       "<tr><td>22</td><td>PSR J1459-60</td><td>14 59 30.1228</td><td>-60 53 20.536</td><td>14</td><td>14</td><td>0.052</td><td>0.061</td><td>90</td><td>A</td><td>O</td><td>2020yCat.1350....0G</td><td>Pulsar</td><td>224.87551193</td><td>-60.88903795</td><td>1</td></tr>\n",
       "<tr><td>23</td><td>HESS J1507-622</td><td>15 07 30</td><td>-62 25.0</td><td>4</td><td>4</td><td>--</td><td>--</td><td>0</td><td>E</td><td></td><td>2011A&amp;A...525A..45A</td><td>gamma</td><td>226.87500000</td><td>-62.41700000</td><td>1</td></tr>\n",
       "<tr><td>24</td><td>3A 1510-590</td><td>15 13 17.000</td><td>-59 04 54.00</td><td>7</td><td>7</td><td>--</td><td>--</td><td>0</td><td>D</td><td></td><td>2015ApJS..217....2M</td><td>Pulsar</td><td>228.32083300</td><td>-59.08166700</td><td>1</td></tr>\n",
       "<tr><td>25</td><td>PSR J1615-5137</td><td>16 15 12.62</td><td>-51 34 53.3</td><td>6</td><td>6</td><td>2300.000</td><td>1900.000</td><td>76</td><td>D</td><td>R</td><td>2013MNRAS.432.1294P</td><td>Pulsar</td><td>243.80258000</td><td>-51.58147000</td><td>1</td></tr>\n",
       "<tr><td>26</td><td>AJG  44</td><td>16 17 33.000</td><td>-51 02 00.00</td><td>7</td><td>7</td><td>--</td><td>--</td><td>0</td><td>D</td><td></td><td>2015ApJS..217....2M</td><td>Pulsar</td><td>244.38750000</td><td>-51.03333300</td><td>1</td></tr>\n",
       "<tr><td>27</td><td>HESS J1616-509</td><td>16 16</td><td>-50.9</td><td>2</td><td>2</td><td>--</td><td>--</td><td>0</td><td>E</td><td>G</td><td>2006ApJ...651..190L</td><td>gamma</td><td>244.00000000</td><td>-50.90000000</td><td>1</td></tr>\n",
       "<tr><td>28</td><td>HESS J1626-490</td><td>16 26 04.0</td><td>-49 05 13</td><td>5</td><td>5</td><td>--</td><td>--</td><td>0</td><td>D</td><td></td><td>2008A&amp;A...477..353A</td><td>gamma</td><td>246.51670000</td><td>-49.08690000</td><td>1</td></tr>\n",
       "<tr><td>29</td><td>3FHL J1633.0-4746e</td><td>16 32 01.87</td><td>-47 52 28.3</td><td>6</td><td>6</td><td>300.000</td><td>300.000</td><td>90</td><td>C</td><td>X</td><td>2012ApJ...756...27L</td><td>HighMassXBin</td><td>248.00778000</td><td>-47.87452000</td><td>1</td></tr>\n",
       "<tr><td>30</td><td>HESS J1634-472</td><td>16 34 51.1192</td><td>-47 14 01.936</td><td>9</td><td>9</td><td>--</td><td>--</td><td>0</td><td>E</td><td>G</td><td>2018A&amp;A...612A...1H</td><td>gamma</td><td>248.71299694</td><td>-47.23387111</td><td>1</td></tr>\n",
       "<tr><td>31</td><td>3EG J1639-4702</td><td>16 40 30.0</td><td>-46 33 00</td><td>5</td><td>5</td><td>--</td><td>--</td><td>0</td><td>D</td><td></td><td>2012A&amp;A...537A.114A</td><td>gamma</td><td>250.12500000</td><td>-46.55000000</td><td>1</td></tr>\n",
       "<tr><td>32</td><td>HESS J1702-420</td><td>17 02 44.0</td><td>-42 00 57</td><td>5</td><td>5</td><td>--</td><td>--</td><td>0</td><td>D</td><td></td><td>2008A&amp;A...477..353A</td><td>gamma</td><td>255.68330000</td><td>-42.01580000</td><td>1</td></tr>\n",
       "<tr><td>33</td><td>HESS J1708-410</td><td>17 08 24.0</td><td>-41 05 24</td><td>5</td><td>5</td><td>--</td><td>--</td><td>0</td><td>D</td><td></td><td>2008A&amp;A...477..353A</td><td>gamma</td><td>257.10000000</td><td>-41.09000000</td><td>1</td></tr>\n",
       "<tr><td>34</td><td>HESS J1708-443</td><td>17 07 59.5384</td><td>-44 17 19.046</td><td>9</td><td>9</td><td>--</td><td>--</td><td>0</td><td>E</td><td>G</td><td>2018A&amp;A...612A...1H</td><td>gamma</td><td>256.99807694</td><td>-44.28862389</td><td>1</td></tr>\n",
       "<tr><td>35</td><td>HESS J1713-381</td><td>17 13 51.2035</td><td>-38 13 13.570</td><td>9</td><td>9</td><td>--</td><td>--</td><td>0</td><td>E</td><td>G</td><td>2018A&amp;A...612A...1H</td><td>gamma</td><td>258.46334806</td><td>-38.22043611</td><td>1</td></tr>\n",
       "<tr><td>36</td><td>SNR G347.3-00.5</td><td>17 12 27</td><td>-39 41.2</td><td>4</td><td>4</td><td>--</td><td>--</td><td>0</td><td>D</td><td></td><td>2012ApJ...756....5L</td><td>SNRemnant</td><td>258.11200000</td><td>-39.68700000</td><td>1</td></tr>\n",
       "<tr><td>37</td><td>SNR G348.5+00.1</td><td>17 14 31.780</td><td>-38 28 34.50</td><td>7</td><td>7</td><td>--</td><td>--</td><td>0</td><td>D</td><td></td><td>2015ApJS..217....2M</td><td>SNRemnant</td><td>258.63241700</td><td>-38.47625000</td><td>1</td></tr>\n",
       "<tr><td>38</td><td>SNR G349.7+00.2</td><td>17 18 10.160</td><td>-37 18 53.80</td><td>7</td><td>7</td><td>--</td><td>--</td><td>0</td><td>D</td><td></td><td>2015ApJS..217....2M</td><td>SNRemnant</td><td>259.54233300</td><td>-37.31494400</td><td>1</td></tr>\n",
       "<tr><td>39</td><td>HESS J1718-385</td><td>17 18 07</td><td>-38 33.0</td><td>4</td><td>4</td><td>--</td><td>--</td><td>0</td><td>E</td><td></td><td>2007A&amp;A...472..489A</td><td>gamma</td><td>259.52900000</td><td>-38.55000000</td><td>1</td></tr>\n",
       "<tr><td>40</td><td>SNR G353.6-00.7</td><td>17 31 55.0</td><td>-34 42 36</td><td>5</td><td>5</td><td>--</td><td>--</td><td>0</td><td>D</td><td></td><td>2008A&amp;A...477..353A</td><td>SNRemnant</td><td>262.97920000</td><td>-34.71000000</td><td>1</td></tr>\n",
       "<tr><td>41</td><td>HESS J1741-302</td><td>17 41 15.7982</td><td>-30 22 37.204</td><td>9</td><td>9</td><td>--</td><td>--</td><td>0</td><td>E</td><td>G</td><td>2018A&amp;A...612A...1H</td><td>gamma</td><td>265.31582611</td><td>-30.37700111</td><td>1</td></tr>\n",
       "<tr><td>42</td><td>NAME Galactic Center</td><td>17 45 39.6021</td><td>-29 00 22.000</td><td>9</td><td>9</td><td>--</td><td>--</td><td>0</td><td>E</td><td>G</td><td>2018A&amp;A...612A...1H</td><td>Region</td><td>266.41500889</td><td>-29.00611111</td><td>1</td></tr>\n",
       "<tr><td>43</td><td>2CG 359+00</td><td>17 45 11</td><td>-30 11.9</td><td>4</td><td>4</td><td>244800.000</td><td>176400.000</td><td>46</td><td>E</td><td>G</td><td>2015ApJS..218...23A</td><td>gamma</td><td>266.29700000</td><td>-30.19900000</td><td>1</td></tr>\n",
       "<tr><td>44</td><td>3FHL J1746.2-2852</td><td>17 44 33.09</td><td>-28 44 27.0</td><td>6</td><td>6</td><td>--</td><td>--</td><td>0</td><td>D</td><td></td><td>2007A&amp;A...469..807L</td><td>LowMassXBin</td><td>266.13787000</td><td>-28.74083000</td><td>1</td></tr>\n",
       "<tr><td>45</td><td>SNR G000.9+00.1</td><td>17 47.3</td><td>-28 09</td><td>3</td><td>3</td><td>--</td><td>--</td><td>0</td><td>E</td><td>R</td><td>2009BASI...37...45G</td><td>SNRemnant</td><td>266.82000000</td><td>-28.15000000</td><td>1</td></tr>\n",
       "<tr><td>46</td><td>HESS J1800-240</td><td>18 00 37</td><td>-23 59.8</td><td>4</td><td>4</td><td>--</td><td>--</td><td>0</td><td>E</td><td></td><td>2008A&amp;A...481..401A</td><td>gamma</td><td>270.15400000</td><td>-23.99700000</td><td>1</td></tr>\n",
       "<tr><td>47</td><td>4FGL J1801.8-2358</td><td>18 01 49.1</td><td>-23 58 58</td><td>5</td><td>5</td><td>136440.000</td><td>103680.000</td><td>90</td><td>E</td><td>G</td><td>2020ApJS..247...33A</td><td>gamma</td><td>270.45450000</td><td>-23.98270000</td><td>1</td></tr>\n",
       "<tr><td>48</td><td>HESS J1800-240B</td><td>18 00 26</td><td>-24 02.3</td><td>4</td><td>4</td><td>--</td><td>--</td><td>0</td><td>E</td><td></td><td>2008A&amp;A...481..401A</td><td>gamma</td><td>270.10800000</td><td>-24.03800000</td><td>1</td></tr>\n",
       "<tr><td>49</td><td>HESS J1800-240C</td><td>17 58 52</td><td>-24 03.1</td><td>4</td><td>4</td><td>--</td><td>--</td><td>0</td><td>E</td><td></td><td>2008A&amp;A...481..401A</td><td>gamma</td><td>269.71700000</td><td>-24.05200000</td><td>1</td></tr>\n",
       "<tr><td>50</td><td>SNR G006.4-00.1</td><td>18 01 22.7</td><td>-23 17 20</td><td>5</td><td>5</td><td>1260000.000</td><td>1260000.000</td><td>90</td><td>E</td><td>G</td><td>2009A&amp;A...506.1563P</td><td>SNRemnant</td><td>270.34460000</td><td>-23.28890000</td><td>1</td></tr>\n",
       "<tr><td>51</td><td>1AGLR J1807-2103</td><td>18 04 29.70</td><td>-21 43 57.2</td><td>6</td><td>6</td><td>--</td><td>--</td><td>0</td><td>E</td><td></td><td>2006ApJ...651..190L</td><td>gamma</td><td>271.12375000</td><td>-21.73256000</td><td>1</td></tr>\n",
       "<tr><td>52</td><td>HESS J1809-193</td><td>18 10 31</td><td>-19 18.0</td><td>4</td><td>4</td><td>--</td><td>--</td><td>0</td><td>E</td><td></td><td>2007A&amp;A...472..489A</td><td>gamma</td><td>272.62900000</td><td>-19.30000000</td><td>1</td></tr>\n",
       "<tr><td>53</td><td>NAME AGPS 273.4-17.8</td><td>18 13 35.05</td><td>-17 49 58.1</td><td>6</td><td>6</td><td>1000.000</td><td>1000.000</td><td>90</td><td>C</td><td>X</td><td>2012ApJ...756...27L</td><td>SNRemnant</td><td>273.39604000</td><td>-17.83281000</td><td>1</td></tr>\n",
       "<tr><td>54</td><td>PSR B1823-13</td><td>18 26 13.06</td><td>-13 34 48.1</td><td>6</td><td>6</td><td>800.000</td><td>800.000</td><td>90</td><td>C</td><td>X</td><td>2012ApJ...756...27L</td><td>Pulsar</td><td>276.55441000</td><td>-13.58004000</td><td>1</td></tr>\n",
       "<tr><td>55</td><td>PSR J1826-1256</td><td>18 26 08.570</td><td>-12 56 33.53</td><td>7</td><td>7</td><td>3050.000</td><td>627.000</td><td>0</td><td>D</td><td>R</td><td>2015ApJ...814..128K</td><td>Pulsar</td><td>276.53570800</td><td>-12.94264700</td><td>1</td></tr>\n",
       "<tr><td>56</td><td>V* V479 Sct</td><td>18 26 15.0561</td><td>-14 50 54.247</td><td>14</td><td>14</td><td>0.013</td><td>0.011</td><td>90</td><td>A</td><td>O</td><td>2020yCat.1350....0G</td><td>HighMassXBin</td><td>276.56273398</td><td>-14.84840202</td><td>1</td></tr>\n",
       "<tr><td>57</td><td>PSR B1829-08</td><td>18 32 37.0200</td><td>-08 27 03.800</td><td>8</td><td>8</td><td>74.000</td><td>200.000</td><td>0</td><td>C</td><td>R</td><td>2019MNRAS.484.3691J</td><td>Pulsar</td><td>278.15425000</td><td>-8.45105560</td><td>1</td></tr>\n",
       "<tr><td>58</td><td>NAME XMMU J183245-0921539</td><td>18 32 45.162</td><td>-09 21 54.55</td><td>7</td><td>7</td><td>60.000</td><td>60.000</td><td>17</td><td>C</td><td>N</td><td>2003yCat.2246....0C</td><td>XrayBin</td><td>278.18817500</td><td>-9.36515300</td><td>1</td></tr>\n",
       "<tr><td>59</td><td>SNR G021.5-00.9</td><td>18 33 33.612</td><td>-10 34 07.69</td><td>7</td><td>7</td><td>3200.000</td><td>702.000</td><td>0</td><td>D</td><td>R</td><td>2015ApJ...814..128K</td><td>SNRemnant</td><td>278.39005000</td><td>-10.56880300</td><td>1</td></tr>\n",
       "<tr><td>60</td><td>SNR G023.3-00.3</td><td>18 34 51.80</td><td>-08 44 38.2</td><td>6</td><td>6</td><td>--</td><td>--</td><td>0</td><td>D</td><td></td><td>2006ApJ...651..190L</td><td>SNRemnant</td><td>278.71583000</td><td>-8.74394000</td><td>1</td></tr>\n",
       "<tr><td>61</td><td>PSR J1838-0655</td><td>18 38 03.13</td><td>-06 55 33.4</td><td>6</td><td>6</td><td>--</td><td>--</td><td>0</td><td>D</td><td></td><td>2008ApJ...681..515G</td><td>Pulsar</td><td>279.51304000</td><td>-6.92594000</td><td>1</td></tr>\n",
       "<tr><td>62</td><td>ARGO J1839-0627</td><td>18 40 55.0</td><td>-05 33 00</td><td>5</td><td>5</td><td>--</td><td>--</td><td>0</td><td>D</td><td></td><td>2008A&amp;A...477..353A</td><td>Pulsar</td><td>280.22920000</td><td>-5.55000000</td><td>1</td></tr>\n",
       "<tr><td>63</td><td>ARGO J1839-0627</td><td>18 40 55.0</td><td>-05 33 00</td><td>5</td><td>5</td><td>--</td><td>--</td><td>0</td><td>D</td><td></td><td>2008A&amp;A...477..353A</td><td>Pulsar</td><td>280.22920000</td><td>-5.55000000</td><td>1</td></tr>\n",
       "<tr><td>64</td><td>ARGO J1841-0332</td><td>18 43 48.3912</td><td>-03 33 14.767</td><td>9</td><td>9</td><td>--</td><td>--</td><td>0</td><td>E</td><td>G</td><td>2018A&amp;A...612A...1H</td><td>gamma</td><td>280.95163000</td><td>-3.55410194</td><td>1</td></tr>\n",
       "<tr><td>65</td><td>AX J1844.8-0258</td><td>18 44 53</td><td>-02 56.0</td><td>4</td><td>4</td><td>--</td><td>--</td><td>0</td><td>E</td><td></td><td>2002ASPC..271...41C</td><td>HighMassXBin</td><td>281.22100000</td><td>-2.93300000</td><td>1</td></tr>\n",
       "<tr><td>66</td><td>PSR J1846-0258</td><td>18 46 24.94</td><td>-02 58 30.1</td><td>6</td><td>6</td><td>--</td><td>--</td><td>0</td><td>D</td><td></td><td>2003ApJ...582..783H</td><td>Pulsar</td><td>281.60392000</td><td>-2.97503000</td><td>1</td></tr>\n",
       "<tr><td>67</td><td>HESS J1848-018</td><td>18 48 29.5238</td><td>-01 53 14.971</td><td>9</td><td>9</td><td>--</td><td>--</td><td>0</td><td>E</td><td>G</td><td>2018A&amp;A...612A...1H</td><td>gamma</td><td>282.12301611</td><td>-1.88749194</td><td>1</td></tr>\n",
       "<tr><td>68</td><td>PSR J1849-0001</td><td>18 49 01.83</td><td>-00 01 19.1</td><td>6</td><td>6</td><td>120.000</td><td>110.000</td><td>87</td><td>C</td><td>I</td><td>2003yCat.2246....0C</td><td>Pulsar</td><td>282.25762000</td><td>-0.02197000</td><td>1</td></tr>\n",
       "<tr><td>69</td><td>4FGL J1857.7+0246e</td><td>18 57 11.0</td><td>+02 40 00</td><td>5</td><td>5</td><td>--</td><td>--</td><td>0</td><td>D</td><td></td><td>2008A&amp;A...477..353A</td><td>Pulsar</td><td>284.29580000</td><td>2.66670000</td><td>1</td></tr>\n",
       "<tr><td>70</td><td>HESS J1858+020</td><td>18 58 20.0</td><td>+02 05 24</td><td>5</td><td>5</td><td>--</td><td>--</td><td>0</td><td>D</td><td></td><td>2008A&amp;A...477..353A</td><td>gamma</td><td>284.58330000</td><td>2.09000000</td><td>1</td></tr>\n",
       "<tr><td>71</td><td>HAWC J1907+085</td><td>19 07.2</td><td>+08 34</td><td>3</td><td>3</td><td>--</td><td>--</td><td>0</td><td>E</td><td>G</td><td>2021ApJ...917....6A</td><td>gamma</td><td>286.79000000</td><td>8.57000000</td><td>1</td></tr>\n",
       "<tr><td>72</td><td>ARGO J1907+0627</td><td>19 08.7</td><td>+06 11</td><td>3</td><td>3</td><td>864000.000</td><td>864000.000</td><td>90</td><td>E</td><td>G</td><td>2007ApJ...664L..91A</td><td>gamma</td><td>287.18000000</td><td>6.18000000</td><td>1</td></tr>\n",
       "<tr><td>73</td><td>W 49b</td><td>19 11 09.000</td><td>+09 06 24.00</td><td>7</td><td>7</td><td>--</td><td>--</td><td>0</td><td>D</td><td></td><td>2015ApJS..217....2M</td><td>SNRemnant</td><td>287.78750000</td><td>9.10666700</td><td>1</td></tr>\n",
       "<tr><td>74</td><td>ARGO J1912+1026</td><td>19 12</td><td>+10.1</td><td>2</td><td>2</td><td>--</td><td>--</td><td>0</td><td>E</td><td></td><td>2008AN....329..186P</td><td>gamma</td><td>288.00000000</td><td>10.10000000</td><td>1</td></tr>\n",
       "<tr><td>75</td><td>HESS J1923+141</td><td>19 23.0</td><td>+14 06</td><td>3</td><td>3</td><td>--</td><td>--</td><td>0</td><td>E</td><td></td><td>2010ApJ...709L...6A</td><td>gamma</td><td>290.75000000</td><td>14.10000000</td><td>1</td></tr>\n",
       "<tr><td>76</td><td>HAWC J1928+178</td><td>19 28.4</td><td>+17 49</td><td>3</td><td>3</td><td>--</td><td>--</td><td>0</td><td>E</td><td>G</td><td>2021ApJ...917....6A</td><td>gamma</td><td>292.10000000</td><td>17.82000000</td><td>1</td></tr>\n",
       "<tr><td>77</td><td>SNR G054.1+00.3</td><td>19 30 31</td><td>+18 52.0</td><td>4</td><td>4</td><td>--</td><td>--</td><td>0</td><td>E</td><td>R</td><td>2014BASI...42...47G</td><td>SNRemnant</td><td>292.62900000</td><td>18.86700000</td><td>1</td></tr>\n",
       "<tr><td>78</td><td>2MASS J19435624+2118233</td><td>19 43 56.244</td><td>+21 18 23.38</td><td>7</td><td>7</td><td>110.000</td><td>110.000</td><td>90</td><td>C</td><td>I</td><td>2003yCat.2246....0C</td><td>Blazar</td><td>295.98435000</td><td>21.30649400</td><td>1</td></tr>\n",
       "<tr><td>79</td><td>QSO B2005-489</td><td>20 09 25.3903</td><td>-48 49 53.725</td><td>14</td><td>14</td><td>0.026</td><td>0.020</td><td>90</td><td>A</td><td>O</td><td>2020yCat.1350....0G</td><td>BLLac</td><td>302.35579329</td><td>-48.83159029</td><td>1</td></tr>\n",
       "<tr><td>80</td><td>QSO B2155-304</td><td>21 58 52.0652</td><td>-30 13 32.118</td><td>14</td><td>14</td><td>0.017</td><td>0.014</td><td>90</td><td>A</td><td>O</td><td>2020yCat.1350....0G</td><td>BLLac</td><td>329.71693844</td><td>-30.22558846</td><td>1</td></tr>\n",
       "<tr><td>81</td><td>QSO B2356-309</td><td>23 59 07.9034</td><td>-30 37 40.671</td><td>14</td><td>14</td><td>0.094</td><td>0.072</td><td>90</td><td>A</td><td>O</td><td>2020yCat.1350....0G</td><td>BLLac</td><td>359.78293125</td><td>-30.62796419</td><td>1</td></tr>\n",
       "<tr><td>82</td><td>HESS J0535-691</td><td>05 35 55.0</td><td>-69 11 10</td><td>5</td><td>5</td><td>--</td><td>--</td><td>0</td><td>E</td><td></td><td>2019A&amp;A...621A.138K</td><td>gamma</td><td>83.97920000</td><td>-69.18610000</td><td>1</td></tr>\n",
       "<tr><td>83</td><td>HESS J0537-691</td><td>05 37 44.0</td><td>-69 09 57</td><td>5</td><td>5</td><td>--</td><td>--</td><td>0</td><td>D</td><td></td><td>2012A&amp;A...545L...2H</td><td>gamma</td><td>84.43330000</td><td>-69.16580000</td><td>1</td></tr>\n",
       "<tr><td>84</td><td>HESS J1018-589</td><td>10 18</td><td>-58.9</td><td>2</td><td>2</td><td>--</td><td>--</td><td>0</td><td>E</td><td></td><td>2012Sci...335..189A</td><td>gamma</td><td>154.50000000</td><td>-58.90000000</td><td>1</td></tr>\n",
       "<tr><td>85</td><td>HESS J1502-421</td><td>15 02</td><td>-42.1</td><td>2</td><td>2</td><td>--</td><td>--</td><td>0</td><td>E</td><td></td><td></td><td>gamma</td><td>225.50000000</td><td>-42.10000000</td><td>1</td></tr>\n",
       "<tr><td>86</td><td>HESS J1503-582</td><td>15 03</td><td>-58.2</td><td>2</td><td>2</td><td>--</td><td>--</td><td>0</td><td>E</td><td></td><td>2012ApJ...753...83A</td><td>gamma</td><td>225.70000000</td><td>-58.20000000</td><td>1</td></tr>\n",
       "<tr><td>87</td><td>HESS J1504-418</td><td>15 04</td><td>-41.8</td><td>2</td><td>2</td><td>--</td><td>--</td><td>0</td><td>E</td><td></td><td></td><td>gamma</td><td>226.00000000</td><td>-41.80000000</td><td>1</td></tr>\n",
       "<tr><td>88</td><td>4FGL J1533.9-5712e</td><td>15 34</td><td>-57.1</td><td>2</td><td>2</td><td>--</td><td>--</td><td>0</td><td>E</td><td></td><td>2017ApJ...843...12A</td><td>SNRemnant</td><td>233.50000000</td><td>-57.10000000</td><td>1</td></tr>\n",
       "<tr><td>89</td><td>HESS J1554-550</td><td>15 54.6</td><td>-55 05</td><td>3</td><td>3</td><td>--</td><td>--</td><td>0</td><td>E</td><td></td><td>2013ApJ...773...77A</td><td>gamma</td><td>238.65000000</td><td>-55.08000000</td><td>1</td></tr>\n",
       "<tr><td>90</td><td>HESS J1641-463</td><td>16 41 01.7</td><td>-46 18 11</td><td>5</td><td>5</td><td>--</td><td>--</td><td>0</td><td>D</td><td></td><td>2013ApJ...774...74F</td><td>gamma</td><td>250.25710000</td><td>-46.30310000</td><td>1</td></tr>\n",
       "<tr><td>91</td><td>HESS J1645-455</td><td>16 45</td><td>-45.5</td><td>2</td><td>2</td><td>--</td><td>--</td><td>0</td><td>D</td><td></td><td></td><td>gamma</td><td>251.30000000</td><td>-45.50000000</td><td>1</td></tr>\n",
       "<tr><td>92</td><td>HESS J1646-458</td><td>16 46 00.0</td><td>-45 48 00</td><td>5</td><td>5</td><td>--</td><td>--</td><td>0</td><td>D</td><td></td><td>2012A&amp;A...537A.114A</td><td>gamma</td><td>251.50000000</td><td>-45.80000000</td><td>1</td></tr>\n",
       "<tr><td>93</td><td>HESS J1647-465</td><td>16 47</td><td>-46.5</td><td>2</td><td>2</td><td>--</td><td>--</td><td>0</td><td>D</td><td></td><td></td><td>gamma</td><td>251.80000000</td><td>-46.50000000</td><td>1</td></tr>\n",
       "<tr><td>94</td><td>HESS J1649-460</td><td>16 49</td><td>-46.0</td><td>2</td><td>2</td><td>--</td><td>--</td><td>0</td><td>D</td><td></td><td></td><td>gamma</td><td>252.20000000</td><td>-46.00000000</td><td>1</td></tr>\n",
       "<tr><td>95</td><td>HESS J1652-462</td><td>16 52</td><td>-46.2</td><td>2</td><td>2</td><td>--</td><td>--</td><td>0</td><td>D</td><td></td><td></td><td>gamma</td><td>253.00000000</td><td>-46.20000000</td><td>1</td></tr>\n",
       "<tr><td>96</td><td>HESS J1702-420A</td><td>17 02.1</td><td>-42 07</td><td>3</td><td>3</td><td>--</td><td>--</td><td>0</td><td>D</td><td></td><td>2021A&amp;A...653A.152A</td><td>gamma</td><td>255.52000000</td><td>-42.12000000</td><td>1</td></tr>\n",
       "<tr><td>97</td><td>HESS J1702-420B</td><td>17 02.5</td><td>-42 00</td><td>3</td><td>3</td><td>--</td><td>--</td><td>0</td><td>D</td><td></td><td>2021A&amp;A...653A.152A</td><td>gamma</td><td>255.64000000</td><td>-42.01000000</td><td>1</td></tr>\n",
       "<tr><td>98</td><td>HESS J1729-345</td><td>17 28 58.4325</td><td>-34 31 35.814</td><td>9</td><td>9</td><td>--</td><td>--</td><td>0</td><td>E</td><td>G</td><td>2018A&amp;A...612A...1H</td><td>gamma</td><td>262.24346889</td><td>-34.52661500</td><td>1</td></tr>\n",
       "<tr><td>99</td><td>HESS J1746-308</td><td>17 46 17.1314</td><td>-30 50 28.025</td><td>9</td><td>9</td><td>--</td><td>--</td><td>0</td><td>E</td><td>G</td><td>2018A&amp;A...612A...1H</td><td>gamma</td><td>266.57138111</td><td>-30.84111806</td><td>1</td></tr>\n",
       "<tr><td>100</td><td>HESS J1747-248</td><td>17 47 49.0</td><td>-24 48 30</td><td>5</td><td>5</td><td>--</td><td>--</td><td>0</td><td>D</td><td></td><td>2011A&amp;A...531L..18A</td><td>gamma</td><td>266.95420000</td><td>-24.80830000</td><td>1</td></tr>\n",
       "<tr><td>101</td><td>Fermi J1808.2-2029</td><td>18 08 00.0</td><td>-20 24 00</td><td>5</td><td>5</td><td>--</td><td>--</td><td>0</td><td>D</td><td></td><td>2013ApJ...774...74F</td><td>gamma</td><td>272.00000000</td><td>-20.40000000</td><td>1</td></tr>\n",
       "<tr><td>102</td><td>HESS J1813-126</td><td>18 13 21.66</td><td>-12 41 13.6</td><td>6</td><td>6</td><td>--</td><td>--</td><td>0</td><td>D</td><td></td><td>2017ApJ...843...40A</td><td>gamma</td><td>273.34025000</td><td>-12.68711000</td><td>1</td></tr>\n",
       "<tr><td>103</td><td>HESS J1818-154</td><td>18 16.1</td><td>-15 12</td><td>3</td><td>3</td><td>--</td><td>--</td><td>0</td><td>E</td><td></td><td>2013ApJ...773...77A</td><td>gamma</td><td>274.02000000</td><td>-15.20000000</td><td>1</td></tr>\n",
       "<tr><td>104</td><td>HESS J1828-099</td><td>18 28</td><td>-09.9</td><td>2</td><td>2</td><td>--</td><td>--</td><td>0</td><td>E</td><td>G</td><td>2017MNRAS.468.2093D</td><td>gamma</td><td>277.00000000</td><td>-9.90000000</td><td>1</td></tr>\n",
       "<tr><td>105</td><td>HESS J1831-098</td><td>18 31.4</td><td>-09 54</td><td>3</td><td>3</td><td>--</td><td>--</td><td>0</td><td>E</td><td></td><td>2013ApJ...773...77A</td><td>gamma</td><td>277.85000000</td><td>-9.90000000</td><td>1</td></tr>\n",
       "<tr><td>106</td><td>HESS J1832-085</td><td>18 32</td><td>-08.5</td><td>2</td><td>2</td><td>--</td><td>--</td><td>0</td><td>E</td><td>G</td><td>2017MNRAS.468.2093D</td><td>gamma</td><td>278.00000000</td><td>-8.50000000</td><td>1</td></tr>\n",
       "<tr><td>107</td><td>HESS J1844-030</td><td>18 44 40.0</td><td>-03 06 00</td><td>5</td><td>5</td><td>--</td><td>--</td><td>0</td><td>E</td><td></td><td>2017A&amp;A...602A..31C</td><td>gamma</td><td>281.16670000</td><td>-3.10000000</td><td>1</td></tr>\n",
       "<tr><td>108</td><td>HESS J1852-000</td><td>18 52</td><td>+00.0</td><td>2</td><td>2</td><td>--</td><td>--</td><td>0</td><td>E</td><td></td><td>2011ApJ...743....4Z</td><td>gamma</td><td>283.00000000</td><td>0.00000000</td><td>1</td></tr>\n",
       "<tr><td>109</td><td>HESS J1854+013</td><td>18 54</td><td>+01.3</td><td>2</td><td>2</td><td>--</td><td>--</td><td>0</td><td>E</td><td>G</td><td>2021ApJ...917....6A</td><td>gamma</td><td>283.50000000</td><td>1.30000000</td><td>1</td></tr>\n",
       "<tr><td>110</td><td>HESS J1915+115</td><td>19 15</td><td>+11.5</td><td>2</td><td>2</td><td>--</td><td>--</td><td>0</td><td>E</td><td>G</td><td>2021ApJ...917....6A</td><td>gamma</td><td>288.80000000</td><td>11.50000000</td><td>1</td></tr>\n",
       "<tr><td>111</td><td>HESS J1923+140</td><td>19 23</td><td>+14.0</td><td>2</td><td>2</td><td>--</td><td>--</td><td>0</td><td>E</td><td>G</td><td>2021ApJ...917....6A</td><td>gamma</td><td>290.80000000</td><td>14.00000000</td><td>1</td></tr>\n",
       "<tr><td>112</td><td>HESS J1943+215</td><td>19 43 00</td><td>+21 31.1</td><td>4</td><td>4</td><td>--</td><td>--</td><td>0</td><td>E</td><td></td><td>2012PASJ...64..100Y</td><td>gamma</td><td>295.75000000</td><td>21.51800000</td><td>1</td></tr>\n",
       "</table><style>table.dataTable {clear: both; width: auto !important; margin: 0 !important;}\n",
       ".dataTables_info, .dataTables_length, .dataTables_filter, .dataTables_paginate{\n",
       "display: inline-block; margin-right: 1em; }\n",
       ".paginate_button { margin-right: 5px; }\n",
       "</style>\n",
       "<script>\n",
       "\n",
       "var astropy_sort_num = function(a, b) {\n",
       "    var a_num = parseFloat(a);\n",
       "    var b_num = parseFloat(b);\n",
       "\n",
       "    if (isNaN(a_num) && isNaN(b_num))\n",
       "        return ((a < b) ? -1 : ((a > b) ? 1 : 0));\n",
       "    else if (!isNaN(a_num) && !isNaN(b_num))\n",
       "        return ((a_num < b_num) ? -1 : ((a_num > b_num) ? 1 : 0));\n",
       "    else\n",
       "        return isNaN(a_num) ? -1 : 1;\n",
       "}\n",
       "\n",
       "require.config({paths: {\n",
       "    datatables: 'https://cdn.datatables.net/1.10.12/js/jquery.dataTables.min'\n",
       "}});\n",
       "require([\"datatables\"], function(){\n",
       "    console.log(\"$('#table140080344628096-665439').dataTable()\");\n",
       "    \n",
       "jQuery.extend( jQuery.fn.dataTableExt.oSort, {\n",
       "    \"optionalnum-asc\": astropy_sort_num,\n",
       "    \"optionalnum-desc\": function (a,b) { return -astropy_sort_num(a, b); }\n",
       "});\n",
       "\n",
       "    $('#table140080344628096-665439').dataTable({\n",
       "        order: [],\n",
       "        pageLength: 3,\n",
       "        lengthMenu: [[3, 10, 25, 50, 100, 500, 1000, -1], [3, 10, 25, 50, 100, 500, 1000, 'All']],\n",
       "        pagingType: \"full_numbers\",\n",
       "        columnDefs: [{targets: [0, 4, 5, 6, 7, 8, 13, 14, 15], type: \"optionalnum\"}]\n",
       "    });\n",
       "});\n",
       "</script>\n"
      ],
      "text/plain": [
       "<IPython.core.display.HTML object>"
      ]
     },
     "execution_count": 6,
     "metadata": {},
     "output_type": "execute_result"
    }
   ],
   "source": [
    "# Query Simbad by catalog containing the keyword 'hess'\n",
    "# and display the result in pretty notebook format\n",
    "hess_simbad = Simbad.query_catalog(\"hess\")\n",
    "hess_simbad.show_in_notebook(display_length=3)"
   ]
  },
  {
   "cell_type": "markdown",
   "metadata": {},
   "source": [
    "There are 96 HESS sources in Simbad database. \n",
    "\n",
    "Note that we have limited the display to visualise only the first three entries. You can easily navigate through all the entries and you can sort the current view of the table by selecting a particular column.\n",
    "\n",
    "You can also filter entries using the \"Search:\" botton, try e.g. to filter the table by HMXB. \n",
    "How many HESS sources in Simbad are classified as HMXB? And as SNR?"
   ]
  },
  {
   "cell_type": "markdown",
   "metadata": {},
   "source": [
    "## Step #2 - Projecting HESS sources onto the Fermi sky\n",
    "\n",
    "[![Aladin](https://custom-icon-badges.demolab.com/badge/Aladin-gray.svg?logo=aladin&logoColor=purple&logoWidth=20)](https://aladin.cds.unistra.fr/aladin.gml \"https://aladin.cds.unistra.fr/aladin.gml\")\n",
    "\n",
    "Display the HESS sources in Galactic coordinates and overlay it on a view of an all-sky image survey conducted with Fermi LAT."
   ]
  },
  {
   "cell_type": "code",
   "execution_count": 7,
   "metadata": {},
   "outputs": [
    {
     "data": {
      "application/vnd.jupyter.widget-view+json": {
       "model_id": "d105b8e5c59e450295f485b2ac0951f3",
       "version_major": 2,
       "version_minor": 0
      },
      "text/plain": [
       "Aladin(options=['allow_full_zoomout', 'coo_frame', 'fov', 'full_screen', 'log', 'overlay_survey', 'overlay_sur…"
      ]
     },
     "execution_count": 7,
     "metadata": {},
     "output_type": "execute_result"
    }
   ],
   "source": [
    "# Display the Fermi color HiPS\n",
    "aladin = ipyal.Aladin(survey=\"P/Fermi/color\")\n",
    "aladin"
   ]
  },
  {
   "cell_type": "code",
   "execution_count": 8,
   "metadata": {},
   "outputs": [
    {
     "name": "stderr",
     "output_type": "stream",
     "text": [
      "/home/manon.marchand/miniconda3/envs/cds-tutos/lib/python3.10/site-packages/jupyter_client/session.py:718: UserWarning: Message serialization failed with:\n",
      "Out of range float values are not JSON compliant\n",
      "Supporting this message is deprecated in jupyter-client 7, please make sure your message is JSON-compliant\n",
      "  content = self.pack(content)\n"
     ]
    }
   ],
   "source": [
    "# Display the sources on top\n",
    "aladin.add_table(hess_simbad)"
   ]
  },
  {
   "cell_type": "markdown",
   "metadata": {},
   "source": [
    "The HESS sources are overlayed on top of the Fermi images. If you don't see them, zoom out and move around the sky to locate them around the Galactic Plane. \n",
    "By selecting a source you will see the main Simbad information of that source at the bottom of the AladinLite widget. You can change the image by selecting the stack layer. "
   ]
  },
  {
   "cell_type": "code",
   "execution_count": 9,
   "metadata": {},
   "outputs": [],
   "source": [
    "# Select the \"SNR\" sources and overlay them\n",
    "# Note that characters in python need that extra \"b\"\n",
    "idx_SNR = hess_simbad[\"OTYPE\"] == [b\"SNR\"]\n",
    "aladin.add_table(hess_simbad[idx_SNR])"
   ]
  },
  {
   "cell_type": "markdown",
   "metadata": {},
   "source": [
    "## Step #3 - Cross-identify HESS and Fermi LAT sources\n",
    "\n",
    "\n",
    "[![Xmatch](https://custom-icon-badges.demolab.com/badge/Xmatch-gray.svg?logo=xmatch&logoColor=blue&logoWidth=20)](http://cdsxmatch.u-strasbg.fr/ \"http://cdsxmatch.u-strasbg.fr/\")\n",
    "\n",
    "Here we will cross-correlate the HESS source list with the complete set of objects appearing in the *3rd Fermi LAT catalogue*. \n",
    "\n",
    "Then we use the CDS XMatch service (http://cdsxmatch.u-strasbg.fr/) via the astroquery.XMatch.query module to look for spatial crossmatches\n",
    "\n",
    "The cross-correlation will create a new, sub-catalogue of all HESS sources found in Simbad that also appear in the 3rd Fermi-LAT catalogue. \n",
    "\n",
    "The Fermi Gamma Ray Space Telescope was launched in 2008 and observes astronomical objects across the 10 keV – 300 GeV band. The main instrument of the Fermi satellite is the Large Area Telescope (LAT), an imaging high-energy gamma-ray telescope covering the spectral range of 20 MeV – 300 GeV. The LAT has a very wide field of view, covering 20% of the sky at any time and scanning the complete sky every three hours. In the third Fermi-LAT catalogue (3FGL) all identified Fermi sources after 4 years of continuous survey were published together with basic measurements such as photometric fluxes in different spectral bands, an estimated gamma-ray spectral slope, or a variability flag.\n",
    "\n",
    "In the following cross-identification process, it is assumed that the HESS source and its Fermi counterpart have an apparent angular distance of less then 1°, which is guided by the average angular resolution of the Fermi-LAT across the gamma-ray waveband. The angular resolution of the Fermi-LAT drops from 3° at 100 MeV to 0.04° at 100 GeV. Choosing a different limit for the angular distance thus favors associations with more objects at the low or at the high energy end of the Fermi-LAT band."
   ]
  },
  {
   "cell_type": "markdown",
   "metadata": {},
   "source": [
    "Find the VizieR name of the 3rd Fermi LAT catalogue. "
   ]
  },
  {
   "cell_type": "code",
   "execution_count": 10,
   "metadata": {
    "scrolled": true,
    "tags": [
     "output_scroll"
    ]
   },
   "outputs": [
    {
     "name": "stderr",
     "output_type": "stream",
     "text": [
      "WARNING: UnitsWarning: The unit 'ph' has been deprecated in the VOUnit standard. [astropy.units.format.utils]\n",
      "WARNING: UnitsWarning: Unit 'mCrab' not supported by the VOUnit standard.  [astropy.units.format.vounit]\n",
      "WARNING: UnitsWarning: The unit 'ct' has been deprecated in the VOUnit standard. [astropy.units.format.utils]\n"
     ]
    },
    {
     "name": "stdout",
     "output_type": "stream",
     "text": [
      "VIII/108 :  Radio core dominance of Fermi/LAT-detected AGNs (Pei+, 2020)\n",
      "IX/67 :  Incremental Fermi LAT 4th source cat. (4FGL-DR3) (Fermi-LAT col., 2022)\n",
      "J/ApJ/700/597 :  FERMI LAT detected blazars (Abdo+, 2009)\n",
      "J/ApJ/706/L7 :  The Fermi LAT sky as seen by INTEGRAL/IBIS (Ubertini+, 2009)\n",
      "J/ApJ/707/L56 :  VLBI and bright Fermi/LAT sources (Kovalev, 2009)\n",
      "J/ApJ/715/429 :  First Fermi-LAT AGN catalog (1LAC) (Abdo+, 2010)\n",
      "J/ApJ/718/587 :  The Fermi-AT20G catalog (Mahony+, 2010)\n",
      "J/ApJ/722/L7 :  Fermi/LAT detected MOJAVE AGNs (Pushkarev+, 2010)\n",
      "J/ApJ/742/66 :  New Fermi/LAT extragalactic sources (Teng+, 2011)\n",
      "J/ApJ/744/177 :  VLBA 5GHz observations of Fermi/LAT AGNs (Linford+, 2012)\n",
      "J/ApJ/753/83 :  Associations to 1FGL sources (Ackermann+, 2012)\n",
      "J/ApJ/754/121 :  GRBs from Fermi/GBM and LAT (The Fermi Team, 2012)\n",
      "J/ApJ/756/33 :  X-ray sources near 2 bright {gamma}-ray sources (Cheung+, 2012)\n",
      "J/ApJ/757/25 :  Fermi/LAT AGN at 5GHz (Linford+, 2012)\n",
      "J/ApJ/771/57 :  Fermi-LAT flaring gamma-ray sources from FAVA (Ackermann+, 2013)\n",
      "J/ApJ/782/41 :  231 AGN candidates from the 2FGL catalog (Doert+, 2014)\n",
      "J/ApJ/807/169 :  SN IIn catalog with Fermi LAT (Ackermann+, 2015)\n",
      "J/ApJ/810/85 :  Observation of first Fermi-LAT sources at Parkes (Camilo+, 2015)\n",
      "J/ApJ/814/128 :  Timing noise & astrometry of Fermi-LAT pulsars (Kerr+, 2015)\n",
      "J/ApJ/819/44 :  First Fermi-LAT Inner Galaxy point source catalog (Ajello+, 2016)\n",
      "J/ApJ/820/8 :  3FGL sources statistical classifications (Saz Parkinson+, 2016)\n",
      "J/ApJ/880/32 :  Optical/{gamma}-ray flares for Fermi-LAT blazars (Liodakis+, 2019)\n",
      "J/ApJ/892/105 :  Fourth catalog of Fermi LAT-detected AGNs (4LAC) (Ajello+, 2020)\n",
      "J/ApJ/910/160 :  Fermi LAT sources observed with the GMRT (Bhattacharyya+, 2021)\n",
      "J/ApJS/183/46 :  Fermi/LAT bright gamma-ray source list (0FGL) (Abdo+, 2009)\n",
      "J/ApJS/188/405 :  Fermi-LAT first source catalog (1FGL) (Abdo+, 2010)\n",
      "J/ApJS/199/31 :  Fermi LAT second source catalog (2FGL) (Nolan+, 2012)\n",
      "J/ApJS/208/17 :  2nd Fermi LAT cat. of gamma-ray pulsars (2PC) (Abdo+, 2013)\n",
      "J/ApJS/209/34 :  The first Fermi-LAT >10GeV catalog (1FHL) (Ackermann+, 2013)\n",
      "J/ApJS/217/2 :  Refined associations of Fermi/LAT sources (Massaro+, 2015)\n",
      "J/ApJS/218/23 :  Fermi LAT third source catalog (3FGL) (Acero+, 2015)\n",
      "J/ApJS/222/5 :  The second Fermi-LAT >50GeV catalog (2FHL) (Ackermann+, 2016)\n",
      "J/ApJS/224/8 :  The first Fermi LAT SNR catalog (1SC) (Acero+, 2016)\n",
      "J/ApJS/232/18 :  The third Fermi-LAT >10GeV catalog (3FHL) (Ajello+, 2017)\n",
      "J/ApJS/247/33 :  The Fermi LAT fourth source catalog (4FGL) (Abdollahi+, 2020)\n",
      "J/ApJS/248/8 :  9-yr of Fermi-LAT & Swift obs. of 3C 454.3 flares (Das+, 2020)\n",
      "J/ApJS/248/23 :  4FGL sources with IR/Rad associations (de Menezes+, 2020)\n",
      "J/ApJS/256/13 :  The Fermi-LAT long-term transient sources (1FLT) (Baldini+, 2021)\n",
      "J/A+A/535/A69 :  AGN Fermi/LAT {gamma}-ray and 37GHz fluxes (Nieppola+, 2011)\n",
      "J/A+A/538/A26 :  BL Lac objects beyond z=1.3 (Rau+, 2012)\n",
      "J/A+A/586/A71 :  LMC 0.2-100GeV images (Ackermann+, 2016)\n",
      "J/A+A/598/A134 :  {gamma}-ray signature in WHSP blazars (1BIGB) (Arsioli+, 2017)\n",
      "J/A+A/602/A86 :  Blazar candidates among Fermi/LAT 3FGL catalog (Lefaucheur+, 2017)\n",
      "J/A+A/612/A5 :  W49B with H.E.S.S. and Fermi-LAT (HESS+, 2018)\n",
      "J/A+A/618/A22 :  Fermi-LAT sources below 100MeV catalog (Principe+, 2018)\n",
      "J/A+A/640/A43 :  10-year Fermi LAT results for the Crab pulsar (Yeung, 2020)\n",
      "J/A+A/643/A103 :  Fermi-LATi sources low-energy counterparts (Pena-Herazo+, 2020)\n",
      "J/A+A/660/A87 :  Machine learning methods with Fermi-LAT catalogs (Bhat+, 2022)\n",
      "J/MNRAS/448/1060 :  Fermi/LAT broad emission line blazars (Ghisellini+, 2015)\n",
      "J/MNRAS/450/2658 :  RATAN-600 flux densities of 123 blazars (Mufakharov+, 2015)\n",
      "J/MNRAS/453/2599 :  Fermi-LAT pulsar spectral data (Vigano+, 2015)\n",
      "J/MNRAS/462/3180 :  3FGL Blazar of Unknown Type classification (Chiaro+, 2016)\n",
      "J/MNRAS/470/1291 :  Classifying 3FGL with ANN (Salvetti+, 2017)\n",
      "J/MNRAS/480/2165 :  The {gamma}-ray spectrum of 1BIGB sources (Arsioli+, 2018)\n",
      "J/MNRAS/493/1926 :  4FGL blazar classification neural network (Kovacevic+, 2020)\n"
     ]
    },
    {
     "name": "stderr",
     "output_type": "stream",
     "text": [
      "WARNING: UnitsWarning: The unit 'G' has been deprecated in the VOUnit standard. Suggested: 0.0001T. [astropy.units.format.utils]\n"
     ]
    }
   ],
   "source": [
    "catalog_list = Vizier.find_catalogs(\"Fermi LAT catalog\")\n",
    "for k, v in catalog_list.items():\n",
    "    print(k, \": \", v.description)"
   ]
  },
  {
   "cell_type": "markdown",
   "metadata": {},
   "source": [
    "Check the list of cadidate catalogs and select the one that interests us, i.e. \"Fermi LAT third source catalog (3FGL) (Acero+, 2015)\": **J/ApJS/218/23**. VizieR might have several tables associated to this catalog. \n",
    "The next step is to see if the catalog has more than one table associated. \n",
    "We display table names and metadata:"
   ]
  },
  {
   "cell_type": "code",
   "execution_count": 11,
   "metadata": {},
   "outputs": [
    {
     "name": "stdout",
     "output_type": "stream",
     "text": [
      "TableList with 3 tables:\n",
      "\t'0:J/ApJS/218/23/table4' with 19 column(s) and 4984 row(s) \n",
      "\t'1:J/ApJS/218/23/table8' with 13 column(s) and 3034 row(s) \n",
      "\t'2:J/ApJS/218/23/table3' with 2 column(s) and 12 row(s) \n",
      "Metadata of each table: \n",
      "{'ID': 'J_ApJS_218_23_table4', 'name': 'J/ApJS/218/23/table4', 'description': 'LAT 4-year catalog (3034 unique 3FGL sources)'}\n"
     ]
    }
   ],
   "source": [
    "Vizier.ROW_LIMIT = -1\n",
    "catalog = Vizier.get_catalogs(\"J/ApJS/218/23\")\n",
    "print(catalog)\n",
    "print(\"Metadata of each table: \")\n",
    "print(catalog[0].meta)"
   ]
  },
  {
   "cell_type": "markdown",
   "metadata": {},
   "source": [
    "There are three tables, each with a different number of columns and rows. To see those of interest, I display their description."
   ]
  },
  {
   "cell_type": "code",
   "execution_count": 12,
   "metadata": {
    "scrolled": true
   },
   "outputs": [
    {
     "name": "stdout",
     "output_type": "stream",
     "text": [
      "J/ApJS/218/23/table4 :  LAT 4-year catalog (3034 unique 3FGL sources)\n",
      "J/ApJS/218/23/table8 :  LAT 4-year catalog: spectral information\n",
      "J/ApJS/218/23/table3 :  Definitions of the analysis flags\n"
     ]
    }
   ],
   "source": [
    "for i in range(len(catalog)):\n",
    "    print(catalog[i].meta[\"name\"], \": \", catalog[i].meta[\"description\"])\n",
    "# for tab in catalog:\n",
    "#    print(tab.meta['name'], ': ' ,tab.meta['description'])"
   ]
  },
  {
   "cell_type": "markdown",
   "metadata": {},
   "source": [
    "I visualise the first element of each table to have an idea of their content. "
   ]
  },
  {
   "cell_type": "code",
   "execution_count": 13,
   "metadata": {
    "scrolled": true,
    "tags": [
     "output_scroll"
    ]
   },
   "outputs": [
    {
     "data": {
      "text/html": [
       "<i>Row index=0</i>\n",
       "<table id=\"table140474190008800\">\n",
       "<thead><tr><th>_3FGL</th><th>Na</th><th>RAJ2000</th><th>DEJ2000</th><th>amaj</th><th>amin</th><th>phi</th><th>Sig</th><th>F35</th><th>S25</th><th>Gamma</th><th>Mod</th><th>Var</th><th>Flag</th><th>Assoc</th><th>TeV</th><th>Class</th><th>ID</th><th>Simbad</th></tr></thead>\n",
       "<thead><tr><th></th><th></th><th>deg</th><th>deg</th><th>deg</th><th>deg</th><th>deg</th><th></th><th>1e-05 / (m2 s)</th><th>fW / m2</th><th></th><th></th><th></th><th></th><th></th><th></th><th></th><th></th><th></th></tr></thead>\n",
       "<thead><tr><th>str13</th><th>int16</th><th>float32</th><th>float32</th><th>float32</th><th>float32</th><th>int16</th><th>float32</th><th>float32</th><th>float32</th><th>float32</th><th>str2</th><th>str1</th><th>str12</th><th>str18</th><th>str1</th><th>str5</th><th>str26</th><th>str6</th></tr></thead>\n",
       "<tr><td>J0000.1+6545</td><td>1</td><td>0.038</td><td>65.752</td><td>0.102</td><td>0.078</td><td>41</td><td>6.8</td><td>1.0</td><td>13.6</td><td>2.41</td><td>PL</td><td></td><td>3</td><td>2FGL J2359.6+6543c</td><td></td><td></td><td></td><td>Simbad</td></tr>\n",
       "</table>"
      ],
      "text/plain": [
       "<Row index=0>\n",
       "   _3FGL       Na  RAJ2000 DEJ2000   amaj    amin   phi    Sig        F35         S25    Gamma  Mod  Var   Flag       Assoc        TeV  Class   ID  Simbad\n",
       "                     deg     deg     deg     deg    deg          1e-05 / (m2 s) fW / m2                                                                   \n",
       "   str13     int16 float32 float32 float32 float32 int16 float32    float32     float32 float32 str2 str1 str12       str18        str1  str5 str26  str6 \n",
       "------------ ----- ------- ------- ------- ------- ----- ------- -------------- ------- ------- ---- ---- ----- ------------------ ---- ----- ----- ------\n",
       "J0000.1+6545     1   0.038  65.752   0.102   0.078    41     6.8            1.0    13.6    2.41   PL          3 2FGL J2359.6+6543c                  Simbad"
      ]
     },
     "execution_count": 13,
     "metadata": {},
     "output_type": "execute_result"
    }
   ],
   "source": [
    "table4 = catalog[0]\n",
    "table4[0]"
   ]
  },
  {
   "cell_type": "code",
   "execution_count": 14,
   "metadata": {
    "scrolled": true,
    "tags": [
     "output_scroll"
    ]
   },
   "outputs": [
    {
     "data": {
      "text/html": [
       "<i>Row index=0</i>\n",
       "<table id=\"table140474190012400\">\n",
       "<thead><tr><th>File</th><th>_3FGL</th><th>LC</th><th>F1</th><th>E_F1</th><th>F2</th><th>E_F2</th><th>F3</th><th>E_F3</th><th>F4</th><th>E_F4</th><th>F5</th><th>E_F5</th></tr></thead>\n",
       "<thead><tr><th></th><th></th><th></th><th>0.0001 / (m2 s)</th><th>0.0001 / (m2 s)</th><th>0.0001 / (m2 s)</th><th>0.0001 / (m2 s)</th><th>1e-05 / (m2 s)</th><th>1e-05 / (m2 s)</th><th>1e-06 / (m2 s)</th><th>1e-06 / (m2 s)</th><th>1e-06 / (m2 s)</th><th>1e-06 / (m2 s)</th></tr></thead>\n",
       "<thead><tr><th>str13</th><th>str13</th><th>str2</th><th>float32</th><th>float32</th><th>float32</th><th>float32</th><th>float32</th><th>float32</th><th>float32</th><th>float32</th><th>float32</th><th>float32</th></tr></thead>\n",
       "<tr><td>J0000.1p6545</td><td>J0000.1+6545</td><td>LC</td><td>1.81</td><td>0.82</td><td>0.69</td><td>0.14</td><td>1.24</td><td>0.23</td><td>0.58</td><td>0.49</td><td>0.28</td><td>0.19</td></tr>\n",
       "</table>"
      ],
      "text/plain": [
       "<Row index=0>\n",
       "    File        _3FGL      LC         F1             E_F1             F2             E_F2            F3            E_F3            F4            E_F4            F5            E_F5     \n",
       "                               0.0001 / (m2 s) 0.0001 / (m2 s) 0.0001 / (m2 s) 0.0001 / (m2 s) 1e-05 / (m2 s) 1e-05 / (m2 s) 1e-06 / (m2 s) 1e-06 / (m2 s) 1e-06 / (m2 s) 1e-06 / (m2 s)\n",
       "   str13        str13     str2     float32         float32         float32         float32        float32        float32        float32        float32        float32        float32    \n",
       "------------ ------------ ---- --------------- --------------- --------------- --------------- -------------- -------------- -------------- -------------- -------------- --------------\n",
       "J0000.1p6545 J0000.1+6545   LC            1.81            0.82            0.69            0.14           1.24           0.23           0.58           0.49           0.28           0.19"
      ]
     },
     "execution_count": 14,
     "metadata": {},
     "output_type": "execute_result"
    }
   ],
   "source": [
    "table8 = catalog[1]\n",
    "table8[0]"
   ]
  },
  {
   "cell_type": "code",
   "execution_count": 15,
   "metadata": {
    "scrolled": true,
    "tags": [
     "output_scroll"
    ]
   },
   "outputs": [
    {
     "data": {
      "text/html": [
       "<i>Row index=0</i>\n",
       "<table id=\"table140474190011104\">\n",
       "<thead><tr><th>Flag</th><th>Note</th></tr></thead>\n",
       "<thead><tr><th>int16</th><th>str347</th></tr></thead>\n",
       "<tr><td>1</td><td>Source with TS&gt;35, which went to TS&lt;25 when changing the diffuse model (Section 3.7.3) or the analysis method (Section 3.7.4). Sources with TS&lt;=35 are not flagged with this bit because normal statistical fluctuations can push them to TS&lt;25.</td></tr>\n",
       "</table>"
      ],
      "text/plain": [
       "<Row index=0>\n",
       " Flag                                                                                                                       Note                                                                                                                      \n",
       "int16                                                                                                                      str347                                                                                                                     \n",
       "----- ------------------------------------------------------------------------------------------------------------------------------------------------------------------------------------------------------------------------------------------------\n",
       "    1 Source with TS>35, which went to TS<25 when changing the diffuse model (Section 3.7.3) or the analysis method (Section 3.7.4). Sources with TS<=35 are not flagged with this bit because normal statistical fluctuations can push them to TS<25."
      ]
     },
     "execution_count": 15,
     "metadata": {},
     "output_type": "execute_result"
    }
   ],
   "source": [
    "table3 = catalog[2]\n",
    "table3[0]"
   ]
  },
  {
   "cell_type": "markdown",
   "metadata": {},
   "source": [
    "**J/ApJS/218/23/table4** and **J/ApJS/218/23/table8** contain positional and spectral information respectively. \n",
    "The first table has several entries for the same source, so before performing the match restric the table to **unique** entries for the same source. We then match the tables based on the names in column **_3FGL** to get all information in a single table. "
   ]
  },
  {
   "cell_type": "code",
   "execution_count": 16,
   "metadata": {
    "scrolled": true,
    "tags": [
     "output_scroll"
    ]
   },
   "outputs": [
    {
     "name": "stdout",
     "output_type": "stream",
     "text": [
      "Number of matches : 3034\n"
     ]
    },
    {
     "data": {
      "text/html": [
       "<i>Row index=0</i>\n",
       "<table id=\"table140474190012256\">\n",
       "<thead><tr><th>_3FGL</th><th>Na</th><th>RAJ2000</th><th>DEJ2000</th><th>amaj</th><th>amin</th><th>phi</th><th>Sig</th><th>F35</th><th>S25</th><th>Gamma</th><th>Mod</th><th>Var</th><th>Flag</th><th>Assoc</th><th>TeV</th><th>Class</th><th>ID</th><th>Simbad</th><th>File</th><th>LC</th><th>F1</th><th>E_F1</th><th>F2</th><th>E_F2</th><th>F3</th><th>E_F3</th><th>F4</th><th>E_F4</th><th>F5</th><th>E_F5</th></tr></thead>\n",
       "<thead><tr><th></th><th></th><th>deg</th><th>deg</th><th>deg</th><th>deg</th><th>deg</th><th></th><th>1e-05 / (m2 s)</th><th>fW / m2</th><th></th><th></th><th></th><th></th><th></th><th></th><th></th><th></th><th></th><th></th><th></th><th>0.0001 / (m2 s)</th><th>0.0001 / (m2 s)</th><th>0.0001 / (m2 s)</th><th>0.0001 / (m2 s)</th><th>1e-05 / (m2 s)</th><th>1e-05 / (m2 s)</th><th>1e-06 / (m2 s)</th><th>1e-06 / (m2 s)</th><th>1e-06 / (m2 s)</th><th>1e-06 / (m2 s)</th></tr></thead>\n",
       "<thead><tr><th>str13</th><th>int16</th><th>float32</th><th>float32</th><th>float32</th><th>float32</th><th>int16</th><th>float32</th><th>float32</th><th>float32</th><th>float32</th><th>str2</th><th>str1</th><th>str12</th><th>str18</th><th>str1</th><th>str5</th><th>str26</th><th>str6</th><th>str13</th><th>str2</th><th>float32</th><th>float32</th><th>float32</th><th>float32</th><th>float32</th><th>float32</th><th>float32</th><th>float32</th><th>float32</th><th>float32</th></tr></thead>\n",
       "<tr><td>J0000.1+6545</td><td>1</td><td>0.038</td><td>65.752</td><td>0.102</td><td>0.078</td><td>41</td><td>6.8</td><td>1.0</td><td>13.6</td><td>2.41</td><td>PL</td><td></td><td>3</td><td>2FGL J2359.6+6543c</td><td></td><td></td><td></td><td>Simbad</td><td>J0000.1p6545</td><td>LC</td><td>1.81</td><td>0.82</td><td>0.69</td><td>0.14</td><td>1.24</td><td>0.23</td><td>0.58</td><td>0.49</td><td>0.28</td><td>0.19</td></tr>\n",
       "</table>"
      ],
      "text/plain": [
       "<Row index=0>\n",
       "   _3FGL       Na  RAJ2000 DEJ2000   amaj    amin   phi    Sig        F35         S25    Gamma  Mod  Var   Flag       Assoc        TeV  Class   ID  Simbad     File      LC         F1             E_F1             F2             E_F2            F3            E_F3            F4            E_F4            F5            E_F5     \n",
       "                     deg     deg     deg     deg    deg          1e-05 / (m2 s) fW / m2                                                                                      0.0001 / (m2 s) 0.0001 / (m2 s) 0.0001 / (m2 s) 0.0001 / (m2 s) 1e-05 / (m2 s) 1e-05 / (m2 s) 1e-06 / (m2 s) 1e-06 / (m2 s) 1e-06 / (m2 s) 1e-06 / (m2 s)\n",
       "   str13     int16 float32 float32 float32 float32 int16 float32    float32     float32 float32 str2 str1 str12       str18        str1  str5 str26  str6     str13     str2     float32         float32         float32         float32        float32        float32        float32        float32        float32        float32    \n",
       "------------ ----- ------- ------- ------- ------- ----- ------- -------------- ------- ------- ---- ---- ----- ------------------ ---- ----- ----- ------ ------------ ---- --------------- --------------- --------------- --------------- -------------- -------------- -------------- -------------- -------------- --------------\n",
       "J0000.1+6545     1   0.038  65.752   0.102   0.078    41     6.8            1.0    13.6    2.41   PL          3 2FGL J2359.6+6543c                  Simbad J0000.1p6545   LC            1.81            0.82            0.69            0.14           1.24           0.23           0.58           0.49           0.28           0.19"
      ]
     },
     "execution_count": 16,
     "metadata": {},
     "output_type": "execute_result"
    }
   ],
   "source": [
    "table4 = unique(table4, keys=\"_3FGL\")\n",
    "FERMI = join(\n",
    "    table4, table8, keys=\"_3FGL\", join_type=\"inner\", metadata_conflicts=\"silent\"\n",
    ")\n",
    "print(\"Number of matches :\", len(FERMI))\n",
    "FERMI[0]"
   ]
  },
  {
   "cell_type": "markdown",
   "metadata": {},
   "source": [
    "We have a new table with **3034 FERMI sources with spatial and spectral information**. We move on to cross-match this table with the HESS-Simbad sources. This time the match will be based on positions. \n",
    "\n",
    "Lets have a look again a the hess_simbad table and it's content."
   ]
  },
  {
   "cell_type": "code",
   "execution_count": 17,
   "metadata": {
    "scrolled": true,
    "tags": [
     "output_scroll"
    ]
   },
   "outputs": [
    {
     "data": {
      "text/html": [
       "<div><i>Table length=5</i>\n",
       "<table id=\"table140475114943728\" class=\"table-striped table-bordered table-condensed\">\n",
       "<thead><tr><th>MAIN_ID</th><th>RA</th><th>DEC</th><th>RA_PREC</th><th>DEC_PREC</th><th>COO_ERR_MAJA</th><th>COO_ERR_MINA</th><th>COO_ERR_ANGLE</th><th>COO_QUAL</th><th>COO_WAVELENGTH</th><th>COO_BIBCODE</th><th>OTYPE</th><th>RA_d</th><th>DEC_d</th><th>SCRIPT_NUMBER_ID</th></tr></thead>\n",
       "<thead><tr><th></th><th>&quot;h:m:s&quot;</th><th>&quot;d:m:s&quot;</th><th></th><th></th><th>mas</th><th>mas</th><th>deg</th><th></th><th></th><th></th><th></th><th>deg</th><th>deg</th><th></th></tr></thead>\n",
       "<thead><tr><th>object</th><th>str13</th><th>str13</th><th>int16</th><th>int16</th><th>float32</th><th>float32</th><th>int16</th><th>str1</th><th>str1</th><th>object</th><th>object</th><th>float64</th><th>float64</th><th>int32</th></tr></thead>\n",
       "<tr><td>HESS J0232+202</td><td>02 32 53.2</td><td>+20 16 21</td><td>5</td><td>5</td><td>--</td><td>--</td><td>0</td><td>D</td><td></td><td>2007A&amp;A...475L...9A</td><td>gamma</td><td>38.22170000</td><td>20.27250000</td><td>1</td></tr>\n",
       "<tr><td>HESS J0534+220</td><td>05 34</td><td>+22.0</td><td>2</td><td>2</td><td>--</td><td>--</td><td>0</td><td>E</td><td></td><td>2008ApJ...682L..41H</td><td>gamma</td><td>83.50000000</td><td>22.00000000</td><td>1</td></tr>\n",
       "<tr><td>4FGL J0535.2-6736</td><td>05 36 00.01</td><td>-67 35 07.5</td><td>6</td><td>6</td><td>--</td><td>--</td><td>0</td><td>D</td><td>X</td><td>2012ApJ...759..123S</td><td>HighMassXBin</td><td>84.00004000</td><td>-67.58542000</td><td>1</td></tr>\n",
       "<tr><td>HD 259440</td><td>06 32 59.2566</td><td>+05 48 01.160</td><td>14</td><td>14</td><td>0.018</td><td>0.016</td><td>90</td><td>A</td><td>O</td><td>2020yCat.1350....0G</td><td>HighMassXBin</td><td>98.24690253</td><td>5.80032243</td><td>1</td></tr>\n",
       "<tr><td>NAME MONOCEROS NEB</td><td>06 38 43</td><td>+06 30.2</td><td>4</td><td>4</td><td>31000.000</td><td>18000.000</td><td>94</td><td>E</td><td></td><td>1988IRASP.C......0J</td><td>SNRemnant</td><td>99.67900000</td><td>6.50300000</td><td>1</td></tr>\n",
       "</table></div>"
      ],
      "text/plain": [
       "<Table length=5>\n",
       "     MAIN_ID             RA           DEC      ...    DEC_d     SCRIPT_NUMBER_ID\n",
       "                      \"h:m:s\"       \"d:m:s\"    ...     deg                      \n",
       "      object           str13         str13     ...   float64         int32      \n",
       "------------------ ------------- ------------- ... ------------ ----------------\n",
       "    HESS J0232+202    02 32 53.2     +20 16 21 ...  20.27250000                1\n",
       "    HESS J0534+220         05 34         +22.0 ...  22.00000000                1\n",
       " 4FGL J0535.2-6736   05 36 00.01   -67 35 07.5 ... -67.58542000                1\n",
       "         HD 259440 06 32 59.2566 +05 48 01.160 ...   5.80032243                1\n",
       "NAME MONOCEROS NEB      06 38 43      +06 30.2 ...   6.50300000                1"
      ]
     },
     "execution_count": 17,
     "metadata": {},
     "output_type": "execute_result"
    }
   ],
   "source": [
    "hess_simbad[0:5]"
   ]
  },
  {
   "cell_type": "code",
   "execution_count": 18,
   "metadata": {},
   "outputs": [],
   "source": [
    "# Create a skycoord object from the RA_d and DEC_d columns\n",
    "c_hess_simbad = SkyCoord(hess_simbad[\"RA_d\"], hess_simbad[\"DEC_d\"])\n",
    "c_fermi = SkyCoord(FERMI[\"RAJ2000\"], FERMI[\"DEJ2000\"])"
   ]
  },
  {
   "cell_type": "code",
   "execution_count": 19,
   "metadata": {},
   "outputs": [
    {
     "name": "stdout",
     "output_type": "stream",
     "text": [
      "Number of possible matches: 98\n",
      "Number of possible matches: 98\n"
     ]
    }
   ],
   "source": [
    "# Set the maximum separation\n",
    "max_sep = 1.0 * u.deg\n",
    "# For each row in the first catalog, look for the closest neighbor\n",
    "idx, d2d, d3d = c_hess_simbad.match_to_catalog_sky(c_fermi, 1)\n",
    "sep_constraint = d2d < max_sep\n",
    "\n",
    "# limit the tables to matches within the maximum separation\n",
    "hess_simbad_matches = hess_simbad[sep_constraint]\n",
    "fermi_matches = FERMI[idx[sep_constraint]]\n",
    "\n",
    "# Look at the number of matches in each table within the maximum separation\n",
    "print(\"Number of possible matches:\", len(hess_simbad_matches))\n",
    "print(\"Number of possible matches:\", len(fermi_matches))"
   ]
  },
  {
   "cell_type": "markdown",
   "metadata": {},
   "source": [
    "There are **83 HESS-Simbad-FERMI** possible matches within 1 degree for each row in the first table! \n",
    "Tables **hess_simbad_matches** and **fermi_matches** are the matched sources in hess_simbad and fermi, respectively, which are separated by less than 1 deg. But ideally we would like to have the result as a single table including the angular separation between the matches. Let's go do that."
   ]
  },
  {
   "cell_type": "code",
   "execution_count": 20,
   "metadata": {},
   "outputs": [
    {
     "name": "stdout",
     "output_type": "stream",
     "text": [
      "Number of possible matches 98\n"
     ]
    }
   ],
   "source": [
    "# Add the separation to the fermi Table and concatenate the matched tables\n",
    "fermi_matches[\"Ang_Sep\"] = d2d[sep_constraint]\n",
    "hess_simbad_fermi = hstack(\n",
    "    [hess_simbad_matches, fermi_matches], metadata_conflicts=\"silent\"\n",
    ")\n",
    "\n",
    "print(\"Number of possible matches\", len(hess_simbad_fermi))"
   ]
  },
  {
   "cell_type": "markdown",
   "metadata": {},
   "source": [
    "Note that the same Fermi source can be associated to different HESS sources. You can investigate those possible matches within 1deg (recommended) or limit to have unique entries. For the purpose of the exercice we choose option 2, but in general, we recommend to look at all possible matches to see which might be the true association (if any). "
   ]
  },
  {
   "cell_type": "code",
   "execution_count": 21,
   "metadata": {
    "scrolled": true,
    "tags": [
     "output_scroll"
    ]
   },
   "outputs": [
    {
     "data": {
      "text/html": [
       "<i>Table length=73</i>\n",
       "<table id=\"table140474190012208-35509\" class=\"table-striped table-bordered table-condensed\">\n",
       "<thead><tr><th>idx</th><th>MAIN_ID</th><th>RA</th><th>DEC</th><th>RA_PREC</th><th>DEC_PREC</th><th>COO_ERR_MAJA</th><th>COO_ERR_MINA</th><th>COO_ERR_ANGLE</th><th>COO_QUAL</th><th>COO_WAVELENGTH</th><th>COO_BIBCODE</th><th>OTYPE</th><th>RA_d</th><th>DEC_d</th><th>SCRIPT_NUMBER_ID</th><th>_3FGL</th><th>Na</th><th>RAJ2000</th><th>DEJ2000</th><th>amaj</th><th>amin</th><th>phi</th><th>Sig</th><th>F35</th><th>S25</th><th>Gamma</th><th>Mod</th><th>Var</th><th>Flag</th><th>Assoc</th><th>TeV</th><th>Class</th><th>ID</th><th>Simbad</th><th>File</th><th>LC</th><th>F1</th><th>E_F1</th><th>F2</th><th>E_F2</th><th>F3</th><th>E_F3</th><th>F4</th><th>E_F4</th><th>F5</th><th>E_F5</th><th>Ang_Sep</th></tr></thead>\n",
       "<thead><tr><th></th><th></th><th>&quot;h:m:s&quot;</th><th>&quot;d:m:s&quot;</th><th></th><th></th><th>mas</th><th>mas</th><th>deg</th><th></th><th></th><th></th><th></th><th>deg</th><th>deg</th><th></th><th></th><th></th><th>deg</th><th>deg</th><th>deg</th><th>deg</th><th>deg</th><th></th><th>1e-05 / (m2 s)</th><th>fW / m2</th><th></th><th></th><th></th><th></th><th></th><th></th><th></th><th></th><th></th><th></th><th></th><th>0.0001 / (m2 s)</th><th>0.0001 / (m2 s)</th><th>0.0001 / (m2 s)</th><th>0.0001 / (m2 s)</th><th>1e-05 / (m2 s)</th><th>1e-05 / (m2 s)</th><th>1e-06 / (m2 s)</th><th>1e-06 / (m2 s)</th><th>1e-06 / (m2 s)</th><th>1e-06 / (m2 s)</th><th>deg</th></tr></thead>\n",
       "<tr><td>0</td><td>HESS J0232+202</td><td>02 32 53.2</td><td>+20 16 21</td><td>5</td><td>5</td><td>--</td><td>--</td><td>0</td><td>D</td><td></td><td>2007A&amp;A...475L...9A</td><td>gamma</td><td>38.22170000</td><td>20.27250000</td><td>1</td><td>J0232.8+2016</td><td>1</td><td>38.219</td><td>20.271</td><td>0.055</td><td>0.047</td><td>-4</td><td>7.2</td><td>0.4</td><td>4.9</td><td>2.03</td><td>PL</td><td></td><td></td><td></td><td>P</td><td>bll</td><td>1ES 0229+200</td><td>Simbad</td><td>J0232.8p2016</td><td>LC</td><td>0.23</td><td>0.29</td><td>0.18</td><td>0.05</td><td>0.25</td><td>0.11</td><td>0.46</td><td>0.31</td><td>0.42</td><td>0.22</td><td>0.00294256</td></tr>\n",
       "<tr><td>1</td><td>HESS J0534+220</td><td>05 34</td><td>+22.0</td><td>2</td><td>2</td><td>--</td><td>--</td><td>0</td><td>E</td><td></td><td>2008ApJ...682L..41H</td><td>gamma</td><td>83.50000000</td><td>22.00000000</td><td>1</td><td>J0534.5+2201</td><td>1</td><td>83.637</td><td>22.024</td><td>0.012</td><td>0.011</td><td>90</td><td>30.7</td><td>157.3</td><td>1471.9</td><td>2.23</td><td>EC</td><td>T</td><td></td><td>1FHL J0534.5+2201</td><td>P</td><td>PSR</td><td>PSR J0534+2200</td><td>Simbad</td><td>J0534.5p2201</td><td>LC</td><td>6.31</td><td>--</td><td>3.33</td><td>--</td><td>14.47</td><td>--</td><td>90.04</td><td>29.86</td><td>56.02</td><td>2.84</td><td>0.12926188</td></tr>\n",
       "<tr><td>2</td><td>HD 259440</td><td>06 32 59.2566</td><td>+05 48 01.160</td><td>14</td><td>14</td><td>0.018</td><td>0.016</td><td>90</td><td>A</td><td>O</td><td>2020yCat.1350....0G</td><td>HighMassXBin</td><td>98.24690253</td><td>5.80032243</td><td>1</td><td>J0633.7+0632</td><td>4</td><td>98.438</td><td>6.541</td><td>0.018</td><td>0.018</td><td>71</td><td>57.9</td><td>17.1</td><td>124.4</td><td>2.16</td><td>EC</td><td></td><td></td><td>2FGL J0633.7+0633</td><td></td><td>PSR</td><td>LAT PSR J0633+0632</td><td>Simbad</td><td>J0633.7p0632</td><td>LC</td><td>8.43</td><td>1.05</td><td>4.67</td><td>0.21</td><td>14.08</td><td>0.50</td><td>25.80</td><td>1.61</td><td>1.05</td><td>0.35</td><td>0.76465712</td></tr>\n",
       "<tr><td>3</td><td>NAME Vela X</td><td>08 33 08.880</td><td>-45 11 24.36</td><td>7</td><td>7</td><td>--</td><td>--</td><td>0</td><td>D</td><td></td><td>2015ApJS..217....2M</td><td>Pulsar</td><td>128.28700000</td><td>-45.19010000</td><td>1</td><td>J0833.1-4511e</td><td>3</td><td>128.287</td><td>-45.190</td><td>--</td><td>--</td><td>--</td><td>--</td><td>18.3</td><td>244.8</td><td>2.41</td><td>PL</td><td></td><td>5</td><td>1FHL J0833.1-4511e</td><td>E</td><td>PWN</td><td>Vela X</td><td>Simbad</td><td>J0833.1-4511e</td><td>LC</td><td>37.18</td><td>--</td><td>8.19</td><td>--</td><td>14.46</td><td>--</td><td>31.87</td><td>--</td><td>6.87</td><td>--</td><td>0.00010275</td></tr>\n",
       "<tr><td>4</td><td>NAME Vela Jr SN</td><td>08 52.0</td><td>-46 20</td><td>3</td><td>3</td><td>--</td><td>--</td><td>0</td><td>E</td><td>R</td><td>2009BASI...37...45G</td><td>SNRemnant</td><td>133.00000000</td><td>-46.33000000</td><td>1</td><td>J0852.7-4631e</td><td>3</td><td>133.200</td><td>-46.520</td><td>--</td><td>--</td><td>--</td><td>30.3</td><td>13.0</td><td>147.1</td><td>1.94</td><td>PL</td><td>T</td><td>10</td><td>1FGL J0854.0-4632</td><td>E</td><td>SNR</td><td>Vela Jr</td><td>Simbad</td><td>J0852.7-4631e</td><td>LC</td><td>9.39</td><td>2.21</td><td>3.41</td><td>0.28</td><td>7.54</td><td>0.63</td><td>19.79</td><td>2.39</td><td>13.22</td><td>1.28</td><td>0.23474753</td></tr>\n",
       "<tr><td>5</td><td>PSR J1016-58</td><td>10 16 21.266</td><td>-58 57 11.70</td><td>7</td><td>7</td><td>1213.000</td><td>710.000</td><td>90</td><td>D</td><td>R</td><td>2015ApJ...814..128K</td><td>Pulsar</td><td>154.08860800</td><td>-58.95325000</td><td>1</td><td>J1016.3-5858</td><td>2</td><td>154.079</td><td>-58.967</td><td>0.031</td><td>0.029</td><td>-86</td><td>18.9</td><td>7.8</td><td>65.5</td><td>2.35</td><td>EC</td><td></td><td>5</td><td>2FGL J1016.5-5858</td><td>E</td><td>PSR</td><td>PSR J1016-5857</td><td>Simbad</td><td>J1016.3-5858</td><td>LC</td><td>7.61</td><td>3.73</td><td>2.20</td><td>0.43</td><td>7.33</td><td>0.63</td><td>13.16</td><td>1.51</td><td>0.80</td><td>0.34</td><td>0.01461327</td></tr>\n",
       "<tr><td>6</td><td>2FGL J1019.0-5856</td><td>10 19 02.270</td><td>-58 56 29.87</td><td>7</td><td>7</td><td>--</td><td>--</td><td>0</td><td>D</td><td></td><td>2015ApJS..217....2M</td><td>HighMassXBin</td><td>154.75945800</td><td>-58.94163100</td><td>1</td><td>J1018.9-5856</td><td>4</td><td>154.730</td><td>-58.946</td><td>0.014</td><td>0.014</td><td>28</td><td>52.2</td><td>27.1</td><td>250.3</td><td>2.30</td><td>LP</td><td></td><td></td><td>1FHL J1018.9-5855</td><td>E</td><td>HMB</td><td>1FGL J1018.6-5856</td><td>Simbad</td><td>J1018.9-5856</td><td>LC</td><td>26.67</td><td>1.08</td><td>11.41</td><td>0.55</td><td>21.92</td><td>0.78</td><td>32.61</td><td>1.97</td><td>1.42</td><td>0.43</td><td>0.01581526</td></tr>\n",
       "<tr><td>7</td><td>FGES J1023.3-5747</td><td>10 23 15.1831</td><td>-57 46 34.784</td><td>9</td><td>9</td><td>--</td><td>--</td><td>0</td><td>E</td><td>G</td><td>2018A&amp;A...612A...1H</td><td>gamma</td><td>155.81326306</td><td>-57.77632889</td><td>1</td><td>J1023.1-5745</td><td>3</td><td>155.790</td><td>-57.759</td><td>0.018</td><td>0.018</td><td>-32</td><td>31.2</td><td>19.9</td><td>148.1</td><td>2.25</td><td>EC</td><td></td><td></td><td>1FGL J1023.0-5746</td><td>E</td><td>PSR</td><td>LAT PSR J1023-5746</td><td>Simbad</td><td>J1023.1-5745</td><td>LC</td><td>0.32</td><td>7.01</td><td>6.33</td><td>0.64</td><td>17.51</td><td>1.02</td><td>25.37</td><td>1.96</td><td>1.59</td><td>0.47</td><td>0.02131766</td></tr>\n",
       "<tr><td>8</td><td>PSR J1028-5819</td><td>10 28 27.888</td><td>-58 19 06.14</td><td>7</td><td>7</td><td>53.000</td><td>30.000</td><td>90</td><td>B</td><td>R</td><td>2015ApJ...814..128K</td><td>Pulsar</td><td>157.11620000</td><td>-58.31837200</td><td>1</td><td>J1028.4-5819</td><td>5</td><td>157.123</td><td>-58.320</td><td>0.012</td><td>0.012</td><td>-74</td><td>57.5</td><td>33.3</td><td>251.2</td><td>2.18</td><td>EC</td><td></td><td></td><td>1FHL J1028.4-5819</td><td></td><td>PSR</td><td>PSR J1028-5819</td><td>Simbad</td><td>J1028.4-5819</td><td>LC</td><td>13.98</td><td>3.65</td><td>9.39</td><td>0.68</td><td>26.78</td><td>0.91</td><td>50.11</td><td>2.32</td><td>3.55</td><td>0.60</td><td>0.00392618</td></tr>\n",
       "<tr><td>9</td><td>Mrk  421</td><td>11 04 27.3140</td><td>+38 12 31.798</td><td>14</td><td>14</td><td>0.012</td><td>0.015</td><td>90</td><td>A</td><td>O</td><td>2020yCat.1350....0G</td><td>BLLac</td><td>166.11380868</td><td>38.20883292</td><td>1</td><td>J1104.4+3812</td><td>7</td><td>166.118</td><td>38.210</td><td>0.007</td><td>0.007</td><td>-12</td><td>190.3</td><td>30.3</td><td>383.0</td><td>1.77</td><td>PL</td><td>T</td><td></td><td>1FHL J1104.4+3812</td><td>P</td><td>BLL</td><td>Mkn 421</td><td>Simbad</td><td>J1104.4p3812</td><td>LC</td><td>10.19</td><td>0.30</td><td>4.80</td><td>0.09</td><td>17.98</td><td>0.39</td><td>82.34</td><td>2.40</td><td>42.61</td><td>1.71</td><td>0.00349093</td></tr>\n",
       "<tr><td>10</td><td>PSR J1119-6127</td><td>11 19 14.30</td><td>-61 27 49.5</td><td>6</td><td>6</td><td>--</td><td>--</td><td>0</td><td>D</td><td></td><td>2000ApJ...541..367C</td><td>Pulsar</td><td>169.80958000</td><td>-61.46375000</td><td>1</td><td>J1119.1-6127</td><td>2</td><td>169.794</td><td>-61.466</td><td>0.029</td><td>0.027</td><td>-86</td><td>27.0</td><td>6.7</td><td>84.9</td><td>2.36</td><td>PL</td><td></td><td></td><td>2FGL J1118.8-6128</td><td>E</td><td>PSR</td><td>PSR J1119-6127</td><td>Simbad</td><td>J1119.1-6127</td><td>LC</td><td>7.39</td><td>1.66</td><td>2.72</td><td>0.22</td><td>5.57</td><td>0.43</td><td>10.59</td><td>1.24</td><td>1.39</td><td>0.40</td><td>0.00777166</td></tr>\n",
       "<tr><td>11</td><td>PSR J1301-6305</td><td>13 01 45.76</td><td>-63 05 33.9</td><td>6</td><td>6</td><td>--</td><td>--</td><td>0</td><td>D</td><td></td><td>2001MNRAS.328...17M</td><td>Pulsar</td><td>195.44067000</td><td>-63.09275000</td><td>1</td><td>J1303.0-6312e</td><td>2</td><td>195.750</td><td>-63.200</td><td>--</td><td>--</td><td>--</td><td>7.6</td><td>1.6</td><td>22.7</td><td>1.64</td><td>PL</td><td></td><td></td><td>2FGL J1303.7-6316c</td><td>E</td><td>PWN</td><td>HESS J1303-631</td><td>Simbad</td><td>J1303.0-6312e</td><td>LC</td><td>0.00</td><td>1.01</td><td>0.47</td><td>0.30</td><td>0.97</td><td>0.50</td><td>2.67</td><td>1.40</td><td>3.50</td><td>0.70</td><td>0.17614299</td></tr>\n",
       "<tr><td>12</td><td>HESS J1357-645</td><td>13 57 00.0</td><td>-64 30 00</td><td>5</td><td>5</td><td>--</td><td>--</td><td>0</td><td>D</td><td></td><td></td><td>gamma</td><td>209.25000000</td><td>-64.50000000</td><td>1</td><td>J1356.6-6428</td><td>2</td><td>209.164</td><td>-64.480</td><td>0.067</td><td>0.055</td><td>-75</td><td>17.9</td><td>2.6</td><td>41.8</td><td>2.56</td><td>PL</td><td></td><td></td><td>2FGL J1356.0-6436</td><td>E</td><td>PSR</td><td>PSR J1357-6429</td><td>Simbad</td><td>J1356.6-6428</td><td>LC</td><td>8.56</td><td>0.97</td><td>1.91</td><td>0.15</td><td>2.26</td><td>0.28</td><td>3.01</td><td>0.75</td><td>0.21</td><td>0.24</td><td>0.04208972</td></tr>\n",
       "<tr><td>13</td><td>PSR J1418-6058</td><td>14 18 42.725</td><td>-60 58 01.89</td><td>7</td><td>7</td><td>1749.000</td><td>1270.000</td><td>90</td><td>D</td><td>R</td><td>2015ApJ...814..128K</td><td>Pulsar</td><td>214.67802100</td><td>-60.96719200</td><td>1</td><td>J1418.6-6058</td><td>5</td><td>214.665</td><td>-60.971</td><td>0.014</td><td>0.013</td><td>39</td><td>40.0</td><td>40.7</td><td>310.4</td><td>2.27</td><td>EC</td><td></td><td>5</td><td>1FHL J1418.6-6059</td><td>E</td><td>PSR</td><td>LAT PSR J1418-6058</td><td>Simbad</td><td>J1418.6-6058</td><td>LC</td><td>18.73</td><td>7.31</td><td>12.52</td><td>0.86</td><td>33.41</td><td>1.35</td><td>58.79</td><td>3.19</td><td>3.18</td><td>0.69</td><td>0.00738144</td></tr>\n",
       "<tr><td>14</td><td>PSR J1420-6048</td><td>14 20 08.190</td><td>-60 48 14.85</td><td>7</td><td>7</td><td>--</td><td>--</td><td>0</td><td>C</td><td>X</td><td>2010ApJ...711.1168V</td><td>Pulsar</td><td>215.03412500</td><td>-60.80412500</td><td>1</td><td>J1420.0-6048</td><td>6</td><td>215.008</td><td>-60.815</td><td>0.024</td><td>0.023</td><td>48</td><td>23.0</td><td>17.5</td><td>161.2</td><td>2.27</td><td>EC</td><td></td><td></td><td>1FHL J1420.1-6047</td><td>E</td><td>PSR</td><td>PSR J1420-6048</td><td>Simbad</td><td>J1420.0-6048</td><td>LC</td><td>23.79</td><td>7.11</td><td>5.49</td><td>0.82</td><td>15.94</td><td>1.23</td><td>32.74</td><td>2.71</td><td>3.16</td><td>0.64</td><td>0.01675456</td></tr>\n",
       "<tr><td>15</td><td>PSR J1459-60</td><td>14 59 30.1228</td><td>-60 53 20.536</td><td>14</td><td>14</td><td>0.052</td><td>0.061</td><td>90</td><td>A</td><td>O</td><td>2020yCat.1350....0G</td><td>Pulsar</td><td>224.87551193</td><td>-60.88903795</td><td>1</td><td>J1459.4-6053</td><td>3</td><td>224.866</td><td>-60.900</td><td>0.020</td><td>0.020</td><td>52</td><td>37.4</td><td>12.4</td><td>110.4</td><td>2.37</td><td>EC</td><td></td><td></td><td>2FGL J1459.4-6054</td><td>E</td><td>PSR</td><td>LAT PSR J1459-6053</td><td>Simbad</td><td>J1459.4-6053</td><td>LC</td><td>12.90</td><td>2.14</td><td>4.72</td><td>0.34</td><td>10.87</td><td>0.53</td><td>15.53</td><td>1.33</td><td>0.49</td><td>0.27</td><td>0.01190202</td></tr>\n",
       "<tr><td>16</td><td>HESS J1503-582</td><td>15 03</td><td>-58.2</td><td>2</td><td>2</td><td>--</td><td>--</td><td>0</td><td>E</td><td></td><td>2012ApJ...753...83A</td><td>gamma</td><td>225.70000000</td><td>-58.20000000</td><td>1</td><td>J1503.5-5801</td><td>2</td><td>225.893</td><td>-58.029</td><td>0.071</td><td>0.053</td><td>44</td><td>12.8</td><td>4.3</td><td>35.5</td><td>2.42</td><td>LP</td><td></td><td></td><td>2FGL J1503.9-5800c</td><td>E</td><td></td><td></td><td>Simbad</td><td>J1503.5-5801</td><td>LC</td><td>4.54</td><td>1.50</td><td>1.85</td><td>0.23</td><td>3.38</td><td>0.46</td><td>5.77</td><td>1.20</td><td>0.11</td><td>0.28</td><td>0.19908390</td></tr>\n",
       "<tr><td>17</td><td>HESS J1507-622</td><td>15 07 30</td><td>-62 25.0</td><td>4</td><td>4</td><td>--</td><td>--</td><td>0</td><td>E</td><td></td><td>2011A&amp;A...525A..45A</td><td>gamma</td><td>226.87500000</td><td>-62.41700000</td><td>1</td><td>J1506.6-6219</td><td>2</td><td>226.668</td><td>-62.331</td><td>0.072</td><td>0.053</td><td>-1</td><td>7.2</td><td>0.8</td><td>9.3</td><td>1.86</td><td>PL</td><td></td><td></td><td>1FHL J1507.0-6223</td><td>E</td><td></td><td></td><td>Simbad</td><td>J1506.6-6219</td><td>LC</td><td>3.55</td><td>1.10</td><td>0.01</td><td>0.12</td><td>0.50</td><td>0.21</td><td>1.83</td><td>0.62</td><td>1.09</td><td>0.36</td><td>0.12887584</td></tr>\n",
       "<tr><td>18</td><td>3A 1510-590</td><td>15 13 17.000</td><td>-59 04 54.00</td><td>7</td><td>7</td><td>--</td><td>--</td><td>0</td><td>D</td><td></td><td>2015ApJS..217....2M</td><td>Pulsar</td><td>228.32083300</td><td>-59.08166700</td><td>1</td><td>J1513.9-5908</td><td>2</td><td>228.482</td><td>-59.136</td><td>--</td><td>--</td><td>--</td><td>7.4</td><td>1.1</td><td>45.0</td><td>3.12</td><td>PL</td><td></td><td>1,3</td><td>1FGL J1513.2-5904</td><td></td><td>PSR</td><td>PSR J1513-5908</td><td>Simbad</td><td>J1513.9-5908</td><td>LC</td><td>20.78</td><td>2.79</td><td>1.38</td><td>0.28</td><td>0.77</td><td>0.44</td><td>2.20</td><td>1.19</td><td>1.24</td><td>0.64</td><td>0.09898728</td></tr>\n",
       "<tr><td>19</td><td>PSR J1615-5137</td><td>16 15 12.62</td><td>-51 34 53.3</td><td>6</td><td>6</td><td>2300.000</td><td>1900.000</td><td>76</td><td>D</td><td>R</td><td>2013MNRAS.432.1294P</td><td>Pulsar</td><td>243.80258000</td><td>-51.58147000</td><td>1</td><td>J1615.3-5146e</td><td>3</td><td>243.830</td><td>-51.780</td><td>--</td><td>--</td><td>--</td><td>19.8</td><td>9.3</td><td>109.4</td><td>1.86</td><td>PL</td><td></td><td>3,10</td><td>1FGL J1614.7-5138c</td><td>E</td><td>spp</td><td></td><td>Simbad</td><td>J1615.3-5146e</td><td>LC</td><td>0.00</td><td>1.60</td><td>0.82</td><td>0.38</td><td>8.51</td><td>0.79</td><td>27.02</td><td>2.61</td><td>9.58</td><td>1.20</td><td>0.19925546</td></tr>\n",
       "<tr><td>20</td><td>HESS J1616-509</td><td>16 16</td><td>-50.9</td><td>2</td><td>2</td><td>--</td><td>--</td><td>0</td><td>E</td><td>G</td><td>2006ApJ...651..190L</td><td>gamma</td><td>244.00000000</td><td>-50.90000000</td><td>1</td><td>J1616.2-5054e</td><td>4</td><td>244.060</td><td>-50.910</td><td>--</td><td>--</td><td>--</td><td>21.0</td><td>13.9</td><td>156.1</td><td>2.14</td><td>PL</td><td>T</td><td></td><td>0FGL J1615.6-5049</td><td>E</td><td>PWN</td><td>HESS J1616-508</td><td>Simbad</td><td>J1616.2-5054e</td><td>LC</td><td>19.36</td><td>3.75</td><td>5.64</td><td>0.56</td><td>10.37</td><td>0.98</td><td>25.41</td><td>2.87</td><td>9.28</td><td>1.27</td><td>0.03913478</td></tr>\n",
       "<tr><td>21</td><td>HESS J1626-490</td><td>16 26 04.0</td><td>-49 05 13</td><td>5</td><td>5</td><td>--</td><td>--</td><td>0</td><td>D</td><td></td><td>2008A&amp;A...477..353A</td><td>gamma</td><td>246.51670000</td><td>-49.08690000</td><td>1</td><td>J1626.2-4911</td><td>2</td><td>246.569</td><td>-49.197</td><td>0.081</td><td>0.065</td><td>87</td><td>5.4</td><td>2.1</td><td>23.2</td><td>2.11</td><td>PL</td><td></td><td>6</td><td>1FGL J1626.0-4917c</td><td>E</td><td></td><td></td><td>Simbad</td><td>J1626.2-4911</td><td>LC</td><td>8.09</td><td>2.79</td><td>1.30</td><td>0.45</td><td>1.43</td><td>0.64</td><td>3.66</td><td>1.52</td><td>1.24</td><td>0.52</td><td>0.11529355</td></tr>\n",
       "<tr><td>22</td><td>3FHL J1633.0-4746e</td><td>16 32 01.87</td><td>-47 52 28.3</td><td>6</td><td>6</td><td>300.000</td><td>300.000</td><td>90</td><td>C</td><td>X</td><td>2012ApJ...756...27L</td><td>HighMassXBin</td><td>248.00778000</td><td>-47.87452000</td><td>1</td><td>J1633.0-4746e</td><td>3</td><td>248.250</td><td>-47.770</td><td>--</td><td>--</td><td>--</td><td>32.0</td><td>22.6</td><td>252.3</td><td>2.11</td><td>PL</td><td>T</td><td>10</td><td>1FGL J1632.7-4733c</td><td>E</td><td>PWN</td><td>HESS J1632-478</td><td>Simbad</td><td>J1633.0-4746e</td><td>LC</td><td>5.91</td><td>5.36</td><td>7.53</td><td>0.72</td><td>18.46</td><td>1.06</td><td>44.96</td><td>3.20</td><td>10.89</td><td>1.37</td><td>0.19332284</td></tr>\n",
       "<tr><td>23</td><td>HESS J1634-472</td><td>16 34 51.1192</td><td>-47 14 01.936</td><td>9</td><td>9</td><td>--</td><td>--</td><td>0</td><td>E</td><td>G</td><td>2018A&amp;A...612A...1H</td><td>gamma</td><td>248.71299694</td><td>-47.23387111</td><td>1</td><td>J1636.2-4709c</td><td>4</td><td>249.058</td><td>-47.160</td><td>0.173</td><td>0.105</td><td>-47</td><td>10.4</td><td>6.0</td><td>68.7</td><td>2.21</td><td>PL</td><td></td><td>3,5,6,7,9,10</td><td>2FGL J1635.4-4717c</td><td></td><td>spp</td><td></td><td>Simbad</td><td>J1636.2-4709c</td><td>LC</td><td>21.08</td><td>6.55</td><td>3.44</td><td>0.74</td><td>6.74</td><td>0.90</td><td>10.14</td><td>2.02</td><td>1.38</td><td>0.69</td><td>0.24578441</td></tr>\n",
       "<tr><td>24</td><td>3EG J1639-4702</td><td>16 40 30.0</td><td>-46 33 00</td><td>5</td><td>5</td><td>--</td><td>--</td><td>0</td><td>D</td><td></td><td>2012A&amp;A...537A.114A</td><td>gamma</td><td>250.12500000</td><td>-46.55000000</td><td>1</td><td>J1640.4-4634c</td><td>5</td><td>250.118</td><td>-46.580</td><td>0.030</td><td>0.027</td><td>78</td><td>10.4</td><td>3.2</td><td>37.6</td><td>1.86</td><td>PL</td><td></td><td>6</td><td>1FHL J1640.5-4634</td><td>E</td><td>spp</td><td></td><td>Simbad</td><td>J1640.4-4634c</td><td>LC</td><td>0.06</td><td>5.33</td><td>1.08</td><td>0.97</td><td>2.96</td><td>0.91</td><td>8.05</td><td>1.95</td><td>4.11</td><td>0.78</td><td>0.03038721</td></tr>\n",
       "<tr><td>25</td><td>HESS J1641-463</td><td>16 41 01.7</td><td>-46 18 11</td><td>5</td><td>5</td><td>--</td><td>--</td><td>0</td><td>D</td><td></td><td>2013ApJ...774...74F</td><td>gamma</td><td>250.25710000</td><td>-46.30310000</td><td>1</td><td>J1641.1-4619c</td><td>1</td><td>250.283</td><td>-46.330</td><td>0.049</td><td>0.039</td><td>-3</td><td>7.9</td><td>4.5</td><td>57.9</td><td>2.38</td><td>PL</td><td></td><td>3,6</td><td></td><td>P</td><td>spp</td><td></td><td>Simbad</td><td>J1641.1-4619c</td><td>LC</td><td>13.17</td><td>3.03</td><td>2.64</td><td>0.74</td><td>2.17</td><td>0.89</td><td>8.80</td><td>1.93</td><td>1.54</td><td>0.56</td><td>0.03230984</td></tr>\n",
       "<tr><td>26</td><td>HESS J1649-460</td><td>16 49</td><td>-46.0</td><td>2</td><td>2</td><td>--</td><td>--</td><td>0</td><td>D</td><td></td><td></td><td>gamma</td><td>252.20000000</td><td>-46.00000000</td><td>1</td><td>J1648.3-4611</td><td>3</td><td>252.096</td><td>-46.196</td><td>0.038</td><td>0.033</td><td>-60</td><td>13.9</td><td>6.5</td><td>38.2</td><td>2.18</td><td>EC</td><td></td><td>3</td><td>2FGL J1648.4-4612</td><td>E</td><td>PSR</td><td>PSR J1648-4611</td><td>Simbad</td><td>J1648.3-4611</td><td>LC</td><td>0.00</td><td>2.28</td><td>0.66</td><td>0.40</td><td>5.01</td><td>0.68</td><td>18.07</td><td>1.97</td><td>0.72</td><td>0.40</td><td>0.20884645</td></tr>\n",
       "<tr><td>27</td><td>HESS J1652-462</td><td>16 52</td><td>-46.2</td><td>2</td><td>2</td><td>--</td><td>--</td><td>0</td><td>D</td><td></td><td></td><td>gamma</td><td>253.00000000</td><td>-46.20000000</td><td>1</td><td>J1651.5-4626</td><td>1</td><td>252.898</td><td>-46.434</td><td>0.060</td><td>0.047</td><td>-90</td><td>4.9</td><td>1.2</td><td>13.9</td><td>1.92</td><td>PL</td><td></td><td>5</td><td></td><td>E</td><td></td><td></td><td>Simbad</td><td>J1651.5-4626</td><td>LC</td><td>0.06</td><td>4.15</td><td>0.42</td><td>0.53</td><td>1.03</td><td>0.57</td><td>3.27</td><td>1.24</td><td>0.76</td><td>0.43</td><td>0.24437314</td></tr>\n",
       "<tr><td>28</td><td>HESS J1708-410</td><td>17 08 24.0</td><td>-41 05 24</td><td>5</td><td>5</td><td>--</td><td>--</td><td>0</td><td>D</td><td></td><td>2008A&amp;A...477..353A</td><td>gamma</td><td>257.10000000</td><td>-41.09000000</td><td>1</td><td>J1705.5-4128c</td><td>1</td><td>256.396</td><td>-41.481</td><td>0.141</td><td>0.084</td><td>-64</td><td>5.1</td><td>1.4</td><td>29.2</td><td>2.77</td><td>PL</td><td></td><td>1,4,6</td><td></td><td></td><td></td><td></td><td>Simbad</td><td>J1705.5-4128c</td><td>LC</td><td>9.98</td><td>1.88</td><td>1.54</td><td>0.30</td><td>1.57</td><td>0.60</td><td>4.88</td><td>1.46</td><td>0.71</td><td>0.47</td><td>0.65781988</td></tr>\n",
       "<tr><td>29</td><td>HESS J1708-443</td><td>17 07 59.5384</td><td>-44 17 19.046</td><td>9</td><td>9</td><td>--</td><td>--</td><td>0</td><td>E</td><td>G</td><td>2018A&amp;A...612A...1H</td><td>gamma</td><td>256.99807694</td><td>-44.28862389</td><td>1</td><td>J1709.7-4429</td><td>5</td><td>257.432</td><td>-44.487</td><td>0.006</td><td>0.006</td><td>9</td><td>360.8</td><td>187.3</td><td>1314.8</td><td>2.02</td><td>EC</td><td></td><td></td><td>1FHL J1709.7-4429</td><td>E</td><td>PSR</td><td>PSR J1709-4429</td><td>Simbad</td><td>J1709.7-4429</td><td>LC</td><td>77.12</td><td>1.11</td><td>44.45</td><td>0.33</td><td>152.15</td><td>1.24</td><td>341.54</td><td>5.18</td><td>25.09</td><td>1.41</td><td>0.36811913</td></tr>\n",
       "<tr><td>30</td><td>SNR G347.3-00.5</td><td>17 12 27</td><td>-39 41.2</td><td>4</td><td>4</td><td>--</td><td>--</td><td>0</td><td>D</td><td></td><td>2012ApJ...756....5L</td><td>SNRemnant</td><td>258.11200000</td><td>-39.68700000</td><td>1</td><td>J1713.5-3945e</td><td>4</td><td>258.390</td><td>-39.760</td><td>--</td><td>--</td><td>--</td><td>14.4</td><td>4.5</td><td>66.9</td><td>1.62</td><td>PL</td><td></td><td>3</td><td>1FGL J1711.7-3944c</td><td>E</td><td>SNR</td><td>RX J1713.7-3946</td><td>Simbad</td><td>J1713.5-3945e</td><td>LC</td><td>0.61</td><td>2.58</td><td>1.06</td><td>0.27</td><td>2.02</td><td>0.65</td><td>11.99</td><td>2.19</td><td>9.32</td><td>1.17</td><td>0.22594838</td></tr>\n",
       "<tr><td>31</td><td>SNR G348.5+00.1</td><td>17 14 31.780</td><td>-38 28 34.50</td><td>7</td><td>7</td><td>--</td><td>--</td><td>0</td><td>D</td><td></td><td>2015ApJS..217....2M</td><td>SNRemnant</td><td>258.63241700</td><td>-38.47625000</td><td>1</td><td>J1714.5-3832</td><td>4</td><td>258.643</td><td>-38.549</td><td>0.029</td><td>0.026</td><td>-12</td><td>29.2</td><td>14.0</td><td>130.5</td><td>2.30</td><td>LP</td><td></td><td></td><td>0FGL J1714.7-3827</td><td>E</td><td>snr</td><td>CTB 37A</td><td>Simbad</td><td>J1714.5-3832</td><td>LC</td><td>12.55</td><td>4.45</td><td>4.53</td><td>0.35</td><td>11.94</td><td>0.72</td><td>28.28</td><td>2.22</td><td>1.37</td><td>0.59</td><td>0.07322214</td></tr>\n",
       "<tr><td>32</td><td>SNR G349.7+00.2</td><td>17 18 10.160</td><td>-37 18 53.80</td><td>7</td><td>7</td><td>--</td><td>--</td><td>0</td><td>D</td><td></td><td>2015ApJS..217....2M</td><td>SNRemnant</td><td>259.54233300</td><td>-37.31494400</td><td>1</td><td>J1718.0-3726</td><td>3</td><td>259.506</td><td>-37.448</td><td>0.030</td><td>0.026</td><td>-35</td><td>13.1</td><td>4.4</td><td>48.8</td><td>2.13</td><td>PL</td><td></td><td>3</td><td>1FHL J1717.9-3725</td><td>P</td><td>snr</td><td>SNR G349.7+00.2</td><td>Simbad</td><td>J1718.0-3726</td><td>LC</td><td>8.36</td><td>3.78</td><td>1.36</td><td>0.31</td><td>3.18</td><td>0.59</td><td>10.79</td><td>1.66</td><td>2.85</td><td>0.64</td><td>0.13615112</td></tr>\n",
       "<tr><td>33</td><td>HESS J1718-385</td><td>17 18 07</td><td>-38 33.0</td><td>4</td><td>4</td><td>--</td><td>--</td><td>0</td><td>E</td><td></td><td>2007A&amp;A...472..489A</td><td>gamma</td><td>259.52900000</td><td>-38.55000000</td><td>1</td><td>J1718.1-3825</td><td>2</td><td>259.545</td><td>-38.428</td><td>0.034</td><td>0.030</td><td>62</td><td>24.4</td><td>11.5</td><td>82.4</td><td>2.39</td><td>EC</td><td></td><td></td><td>2FGL J1718.3-3827</td><td>E</td><td>PSR</td><td>PSR J1718-3825</td><td>Simbad</td><td>J1718.1-3825</td><td>LC</td><td>0.64</td><td>2.76</td><td>3.63</td><td>0.33</td><td>9.89</td><td>0.64</td><td>16.75</td><td>1.79</td><td>0.19</td><td>0.39</td><td>0.12264101</td></tr>\n",
       "<tr><td>34</td><td>HESS J1741-302</td><td>17 41 15.7982</td><td>-30 22 37.204</td><td>9</td><td>9</td><td>--</td><td>--</td><td>0</td><td>E</td><td>G</td><td>2018A&amp;A...612A...1H</td><td>gamma</td><td>265.31582611</td><td>-30.37700111</td><td>1</td><td>J1741.1-3053</td><td>2</td><td>265.290</td><td>-30.894</td><td>0.117</td><td>0.105</td><td>22</td><td>11.4</td><td>7.1</td><td>42.3</td><td>2.28</td><td>LP</td><td></td><td>3</td><td>2FGL J1740.4-3054c</td><td></td><td>snr</td><td>MSH 17-39</td><td>Simbad</td><td>J1741.1-3053</td><td>LC</td><td>0.29</td><td>2.10</td><td>1.28</td><td>0.38</td><td>4.77</td><td>0.76</td><td>9.26</td><td>1.96</td><td>0.23</td><td>0.37</td><td>0.51747220</td></tr>\n",
       "<tr><td>35</td><td>HESS J1746-308</td><td>17 46 17.1314</td><td>-30 50 28.025</td><td>9</td><td>9</td><td>--</td><td>--</td><td>0</td><td>E</td><td>G</td><td>2018A&amp;A...612A...1H</td><td>gamma</td><td>266.57138111</td><td>-30.84111806</td><td>1</td><td>J1744.7-3043</td><td>1</td><td>266.180</td><td>-30.719</td><td>0.071</td><td>0.058</td><td>49</td><td>6.6</td><td>3.0</td><td>38.0</td><td>2.36</td><td>PL</td><td></td><td>12</td><td>1AGL J1746-3017</td><td></td><td></td><td></td><td>Simbad</td><td>J1744.7-3043</td><td>LC</td><td>6.34</td><td>4.76</td><td>2.29</td><td>0.51</td><td>2.39</td><td>0.68</td><td>5.04</td><td>1.56</td><td>0.64</td><td>0.45</td><td>0.35774470</td></tr>\n",
       "<tr><td>36</td><td>2CG 359+00</td><td>17 45 11</td><td>-30 11.9</td><td>4</td><td>4</td><td>244800.000</td><td>176400.000</td><td>46</td><td>E</td><td>G</td><td>2015ApJS..218...23A</td><td>gamma</td><td>266.29700000</td><td>-30.19900000</td><td>1</td><td>J1745.1-3011</td><td>2</td><td>266.297</td><td>-30.199</td><td>0.068</td><td>0.049</td><td>46</td><td>13.7</td><td>9.6</td><td>84.1</td><td>2.44</td><td>LP</td><td></td><td>3,5</td><td>3EG J1744-3011</td><td>E</td><td>spp</td><td></td><td>Simbad</td><td>J1745.1-3011</td><td>LC</td><td>13.66</td><td>3.31</td><td>3.52</td><td>0.66</td><td>8.53</td><td>0.98</td><td>3.83</td><td>1.78</td><td>0.73</td><td>0.46</td><td>0.00000253</td></tr>\n",
       "<tr><td>37</td><td>NAME Galactic Center</td><td>17 45 39.6021</td><td>-29 00 22.000</td><td>9</td><td>9</td><td>--</td><td>--</td><td>0</td><td>E</td><td>G</td><td>2018A&amp;A...612A...1H</td><td>Region</td><td>266.41500889</td><td>-29.00611111</td><td>1</td><td>J1745.6-2859c</td><td>3</td><td>266.416</td><td>-28.995</td><td>0.018</td><td>0.017</td><td>-45</td><td>12.0</td><td>21.8</td><td>268.7</td><td>2.32</td><td>PL</td><td></td><td>6,10</td><td>1FHL J1745.6-2900</td><td>P</td><td>spp</td><td></td><td>Simbad</td><td>J1745.6-2859c</td><td>LC</td><td>55.16</td><td>3.49</td><td>8.28</td><td>1.90</td><td>15.40</td><td>6.10</td><td>53.19</td><td>7.42</td><td>10.00</td><td>1.44</td><td>0.01114355</td></tr>\n",
       "<tr><td>38</td><td>HESS J1747-248</td><td>17 47 49.0</td><td>-24 48 30</td><td>5</td><td>5</td><td>--</td><td>--</td><td>0</td><td>D</td><td></td><td>2011A&amp;A...531L..18A</td><td>gamma</td><td>266.95420000</td><td>-24.80830000</td><td>1</td><td>J1748.0-2447</td><td>2</td><td>267.012</td><td>-24.788</td><td>0.028</td><td>0.025</td><td>-48</td><td>31.6</td><td>11.1</td><td>73.1</td><td>2.26</td><td>LP</td><td>T</td><td>1</td><td>2FGL J1748.0-2447</td><td>E</td><td>glc</td><td>Terzan 5</td><td>Simbad</td><td>J1748.0-2447</td><td>LC</td><td>4.11</td><td>1.24</td><td>2.56</td><td>0.22</td><td>9.14</td><td>0.52</td><td>19.10</td><td>1.63</td><td>0.91</td><td>0.40</td><td>0.05625486</td></tr>\n",
       "<tr><td>39</td><td>SNR G000.9+00.1</td><td>17 47.3</td><td>-28 09</td><td>3</td><td>3</td><td>--</td><td>--</td><td>0</td><td>E</td><td>R</td><td>2009BASI...37...45G</td><td>SNRemnant</td><td>266.82000000</td><td>-28.15000000</td><td>1</td><td>J1748.3-2815c</td><td>1</td><td>267.092</td><td>-28.259</td><td>0.030</td><td>0.029</td><td>-42</td><td>15.1</td><td>8.2</td><td>42.3</td><td>2.19</td><td>LP</td><td></td><td>3,6,12</td><td></td><td></td><td></td><td></td><td>Simbad</td><td>J1748.3-2815c</td><td>LC</td><td>0.09</td><td>3.31</td><td>0.45</td><td>0.34</td><td>4.62</td><td>0.74</td><td>28.81</td><td>2.81</td><td>2.70</td><td>0.71</td><td>0.26333258</td></tr>\n",
       "<tr><td>40</td><td>HESS J1800-240C</td><td>17 58 52</td><td>-24 03.1</td><td>4</td><td>4</td><td>--</td><td>--</td><td>0</td><td>E</td><td></td><td>2008A&amp;A...481..401A</td><td>gamma</td><td>269.71700000</td><td>-24.05200000</td><td>1</td><td>J1758.8-2402</td><td>1</td><td>269.705</td><td>-24.037</td><td>0.077</td><td>0.071</td><td>-34</td><td>5.3</td><td>2.3</td><td>25.6</td><td>1.99</td><td>PL</td><td></td><td>5</td><td>2FGL J1758.8-2402c</td><td></td><td></td><td></td><td>Simbad</td><td>J1758.8-2402</td><td>LC</td><td>0.00</td><td>2.91</td><td>0.88</td><td>0.46</td><td>1.42</td><td>0.92</td><td>8.10</td><td>1.95</td><td>1.49</td><td>0.66</td><td>0.01858486</td></tr>\n",
       "<tr><td>41</td><td>HESS J1800-240</td><td>18 00 37</td><td>-23 59.8</td><td>4</td><td>4</td><td>--</td><td>--</td><td>0</td><td>E</td><td></td><td>2008A&amp;A...481..401A</td><td>gamma</td><td>270.15400000</td><td>-23.99700000</td><td>1</td><td>J1800.8-2402</td><td>2</td><td>270.222</td><td>-24.035</td><td>0.035</td><td>0.034</td><td>-3</td><td>17.5</td><td>10.3</td><td>73.3</td><td>2.12</td><td>LP</td><td></td><td></td><td>2FGL J1800.8-2400</td><td>E</td><td></td><td></td><td>Simbad</td><td>J1800.8-2402</td><td>LC</td><td>5.73</td><td>3.09</td><td>3.21</td><td>0.52</td><td>7.57</td><td>0.85</td><td>22.41</td><td>2.36</td><td>2.81</td><td>0.73</td><td>0.07280390</td></tr>\n",
       "<tr><td>42</td><td>SNR G006.4-00.1</td><td>18 01 22.7</td><td>-23 17 20</td><td>5</td><td>5</td><td>1260000.000</td><td>1260000.000</td><td>90</td><td>E</td><td>G</td><td>2009A&amp;A...506.1563P</td><td>SNRemnant</td><td>270.34460000</td><td>-23.28890000</td><td>1</td><td>J1801.3-2326e</td><td>6</td><td>270.340</td><td>-23.440</td><td>--</td><td>--</td><td>--</td><td>62.7</td><td>53.5</td><td>415.5</td><td>2.15</td><td>LP</td><td>T</td><td></td><td>0FGL J1801.6-2327</td><td>E</td><td>SNR</td><td>W28</td><td>Simbad</td><td>J1801.3-2326e</td><td>LC</td><td>29.34</td><td>3.17</td><td>16.85</td><td>0.54</td><td>42.68</td><td>1.21</td><td>86.33</td><td>3.79</td><td>10.86</td><td>1.34</td><td>0.15116021</td></tr>\n",
       "<tr><td>43</td><td>1AGLR J1807-2103</td><td>18 04 29.70</td><td>-21 43 57.2</td><td>6</td><td>6</td><td>--</td><td>--</td><td>0</td><td>E</td><td></td><td>2006ApJ...651..190L</td><td>gamma</td><td>271.12375000</td><td>-21.73256000</td><td>1</td><td>J1805.6-2136e</td><td>5</td><td>271.408</td><td>-21.612</td><td>--</td><td>--</td><td>--</td><td>33.2</td><td>24.2</td><td>204.4</td><td>2.07</td><td>LP</td><td>T</td><td></td><td>0FGL J1805.3-2138</td><td>E</td><td>SNR</td><td>W30</td><td>Simbad</td><td>J1805.6-2136e</td><td>LC</td><td>11.46</td><td>2.07</td><td>6.30</td><td>0.47</td><td>19.21</td><td>1.01</td><td>49.14</td><td>3.26</td><td>11.24</td><td>1.31</td><td>0.29035894</td></tr>\n",
       "<tr><td>44</td><td>Fermi J1808.2-2029</td><td>18 08 00.0</td><td>-20 24 00</td><td>5</td><td>5</td><td>--</td><td>--</td><td>0</td><td>D</td><td></td><td>2013ApJ...774...74F</td><td>gamma</td><td>272.00000000</td><td>-20.40000000</td><td>1</td><td>J1809.2-2016c</td><td>1</td><td>272.324</td><td>-20.282</td><td>0.056</td><td>0.046</td><td>17</td><td>5.4</td><td>2.6</td><td>32.1</td><td>2.33</td><td>PL</td><td></td><td>4</td><td></td><td></td><td></td><td></td><td>Simbad</td><td>J1809.2-2016c</td><td>LC</td><td>9.26</td><td>3.32</td><td>2.29</td><td>0.48</td><td>2.79</td><td>0.77</td><td>4.84</td><td>1.67</td><td>0.81</td><td>0.45</td><td>0.32591212</td></tr>\n",
       "<tr><td>45</td><td>HESS J1809-193</td><td>18 10 31</td><td>-19 18.0</td><td>4</td><td>4</td><td>--</td><td>--</td><td>0</td><td>E</td><td></td><td>2007A&amp;A...472..489A</td><td>gamma</td><td>272.62900000</td><td>-19.30000000</td><td>1</td><td>J1810.1-1910</td><td>1</td><td>272.545</td><td>-19.168</td><td>0.108</td><td>0.086</td><td>42</td><td>5.1</td><td>2.1</td><td>23.7</td><td>2.10</td><td>PL</td><td></td><td>3,5</td><td></td><td>E</td><td>spp</td><td></td><td>Simbad</td><td>J1810.1-1910</td><td>LC</td><td>0.02</td><td>2.46</td><td>1.99</td><td>0.37</td><td>1.69</td><td>0.71</td><td>5.53</td><td>1.65</td><td>1.21</td><td>0.55</td><td>0.15398963</td></tr>\n",
       "<tr><td>46</td><td>HESS J1813-126</td><td>18 13 21.66</td><td>-12 41 13.6</td><td>6</td><td>6</td><td>--</td><td>--</td><td>0</td><td>D</td><td></td><td>2017ApJ...843...40A</td><td>gamma</td><td>273.34025000</td><td>-12.68711000</td><td>1</td><td>J1813.4-1246</td><td>3</td><td>273.350</td><td>-12.770</td><td>0.016</td><td>0.015</td><td>44</td><td>76.2</td><td>27.3</td><td>265.4</td><td>2.40</td><td>EC</td><td></td><td></td><td>2FGL J1813.4-1246</td><td></td><td>PSR</td><td>LAT PSR J1813-1246</td><td>Simbad</td><td>J1813.4-1246</td><td>LC</td><td>32.11</td><td>1.55</td><td>11.61</td><td>0.30</td><td>23.74</td><td>0.67</td><td>30.91</td><td>1.92</td><td>0.86</td><td>0.38</td><td>0.08343467</td></tr>\n",
       "<tr><td>47</td><td>NAME AGPS 273.4-17.8</td><td>18 13 35.05</td><td>-17 49 58.1</td><td>6</td><td>6</td><td>1000.000</td><td>1000.000</td><td>90</td><td>C</td><td>X</td><td>2012ApJ...756...27L</td><td>SNRemnant</td><td>273.39604000</td><td>-17.83281000</td><td>1</td><td>J1814.0-1757c</td><td>1</td><td>273.514</td><td>-17.961</td><td>0.097</td><td>0.061</td><td>-86</td><td>5.4</td><td>2.8</td><td>31.3</td><td>2.18</td><td>PL</td><td></td><td>6</td><td>1AGL J1815-1732</td><td></td><td></td><td></td><td>Simbad</td><td>J1814.0-1757c</td><td>LC</td><td>0.00</td><td>3.24</td><td>1.11</td><td>0.60</td><td>2.78</td><td>0.83</td><td>7.37</td><td>1.85</td><td>0.31</td><td>0.49</td><td>0.17039541</td></tr>\n",
       "<tr><td>48</td><td>HESS J1818-154</td><td>18 16.1</td><td>-15 12</td><td>3</td><td>3</td><td>--</td><td>--</td><td>0</td><td>E</td><td></td><td>2013ApJ...773...77A</td><td>gamma</td><td>274.02000000</td><td>-15.20000000</td><td>1</td><td>J1818.7-1528</td><td>1</td><td>274.696</td><td>-15.470</td><td>0.092</td><td>0.069</td><td>65</td><td>13.3</td><td>7.5</td><td>65.2</td><td>2.42</td><td>LP</td><td>T</td><td>7</td><td></td><td></td><td>spp</td><td></td><td>Simbad</td><td>J1818.7-1528</td><td>LC</td><td>4.61</td><td>2.18</td><td>3.40</td><td>0.53</td><td>6.12</td><td>0.82</td><td>7.84</td><td>1.81</td><td>0.69</td><td>0.44</td><td>0.70564229</td></tr>\n",
       "<tr><td>49</td><td>PSR B1823-13</td><td>18 26 13.06</td><td>-13 34 48.1</td><td>6</td><td>6</td><td>800.000</td><td>800.000</td><td>90</td><td>C</td><td>X</td><td>2012ApJ...756...27L</td><td>Pulsar</td><td>276.55441000</td><td>-13.58004000</td><td>1</td><td>J1824.5-1351e</td><td>4</td><td>276.130</td><td>-13.852</td><td>--</td><td>--</td><td>--</td><td>16.8</td><td>7.8</td><td>161.2</td><td>1.59</td><td>LP</td><td></td><td></td><td>1FGL J1825.7-1410c</td><td>E</td><td>PWN</td><td>HESS J1825-137</td><td>Simbad</td><td>J1824.5-1351e</td><td>LC</td><td>0.03</td><td>2.26</td><td>0.01</td><td>0.36</td><td>1.07</td><td>1.22</td><td>32.40</td><td>5.01</td><td>24.38</td><td>2.51</td><td>0.49391806</td></tr>\n",
       "<tr><td>50</td><td>PSR J1826-1256</td><td>18 26 08.570</td><td>-12 56 33.53</td><td>7</td><td>7</td><td>3050.000</td><td>627.000</td><td>0</td><td>D</td><td>R</td><td>2015ApJ...814..128K</td><td>Pulsar</td><td>276.53570800</td><td>-12.94264700</td><td>1</td><td>J1826.1-1256</td><td>5</td><td>276.538</td><td>-12.943</td><td>0.013</td><td>0.012</td><td>89</td><td>76.3</td><td>53.4</td><td>414.7</td><td>2.26</td><td>EC</td><td></td><td></td><td>2FGL J1826.1-1256</td><td></td><td>PSR</td><td>LAT PSR J1826-1256</td><td>Simbad</td><td>J1826.1-1256</td><td>LC</td><td>34.31</td><td>2.01</td><td>17.10</td><td>0.45</td><td>45.27</td><td>1.07</td><td>75.06</td><td>3.26</td><td>1.91</td><td>0.61</td><td>0.00225603</td></tr>\n",
       "<tr><td>51</td><td>V* V479 Sct</td><td>18 26 15.0561</td><td>-14 50 54.247</td><td>14</td><td>14</td><td>0.013</td><td>0.011</td><td>90</td><td>A</td><td>O</td><td>2020yCat.1350....0G</td><td>HighMassXBin</td><td>276.56273398</td><td>-14.84840202</td><td>1</td><td>J1826.2-1450</td><td>4</td><td>276.568</td><td>-14.847</td><td>0.019</td><td>0.018</td><td>2</td><td>35.1</td><td>19.1</td><td>280.7</td><td>2.57</td><td>LP</td><td></td><td></td><td>1FHL J1826.2-1450</td><td>P</td><td>HMB</td><td>LS 5039</td><td>Simbad</td><td>J1826.2-1450</td><td>LC</td><td>46.40</td><td>2.83</td><td>11.01</td><td>0.49</td><td>18.28</td><td>0.94</td><td>19.55</td><td>2.13</td><td>2.24</td><td>0.62</td><td>0.00527303</td></tr>\n",
       "<tr><td>52</td><td>SNR G021.5-00.9</td><td>18 33 33.612</td><td>-10 34 07.69</td><td>7</td><td>7</td><td>3200.000</td><td>702.000</td><td>0</td><td>D</td><td>R</td><td>2015ApJ...814..128K</td><td>SNRemnant</td><td>278.39005000</td><td>-10.56880300</td><td>1</td><td>J1833.5-1033</td><td>2</td><td>278.394</td><td>-10.560</td><td>0.035</td><td>0.030</td><td>-40</td><td>16.9</td><td>6.0</td><td>79.2</td><td>2.39</td><td>PL</td><td></td><td></td><td>2FGL J1833.6-1032</td><td></td><td>PSR</td><td>PSR J1833-1034</td><td>Simbad</td><td>J1833.5-1033</td><td>LC</td><td>14.74</td><td>2.12</td><td>2.57</td><td>0.32</td><td>6.46</td><td>0.63</td><td>10.24</td><td>1.67</td><td>1.45</td><td>0.53</td><td>0.00962607</td></tr>\n",
       "<tr><td>53</td><td>SNR G023.3-00.3</td><td>18 34 51.80</td><td>-08 44 38.2</td><td>6</td><td>6</td><td>--</td><td>--</td><td>0</td><td>D</td><td></td><td>2006ApJ...651..190L</td><td>SNRemnant</td><td>278.71583000</td><td>-8.74394000</td><td>1</td><td>J1834.5-0841</td><td>3</td><td>278.629</td><td>-8.684</td><td>0.030</td><td>0.025</td><td>32</td><td>13.9</td><td>6.3</td><td>71.1</td><td>2.17</td><td>PL</td><td></td><td>3</td><td>0FGL J1834.4-0841</td><td>E</td><td>snr</td><td>W 41</td><td>Simbad</td><td>J1834.5-0841</td><td>LC</td><td>2.94</td><td>2.54</td><td>1.75</td><td>0.36</td><td>5.02</td><td>0.78</td><td>15.95</td><td>2.29</td><td>2.92</td><td>0.75</td><td>0.10468770</td></tr>\n",
       "<tr><td>54</td><td>PSR J1838-0655</td><td>18 38 03.13</td><td>-06 55 33.4</td><td>6</td><td>6</td><td>--</td><td>--</td><td>0</td><td>D</td><td></td><td>2008ApJ...681..515G</td><td>Pulsar</td><td>279.51304000</td><td>-6.92594000</td><td>1</td><td>J1838.9-0646</td><td>1</td><td>279.728</td><td>-6.776</td><td>0.078</td><td>0.059</td><td>-66</td><td>7.1</td><td>2.6</td><td>30.0</td><td>1.92</td><td>PL</td><td></td><td></td><td></td><td></td><td></td><td></td><td>Simbad</td><td>J1838.9-0646</td><td>LC</td><td>0.00</td><td>3.78</td><td>0.02</td><td>0.46</td><td>2.41</td><td>0.70</td><td>8.38</td><td>1.82</td><td>1.64</td><td>0.63</td><td>0.26082721</td></tr>\n",
       "<tr><td>55</td><td>ARGO J1839-0627</td><td>18 40 55.0</td><td>-05 33 00</td><td>5</td><td>5</td><td>--</td><td>--</td><td>0</td><td>D</td><td></td><td>2008A&amp;A...477..353A</td><td>Pulsar</td><td>280.22920000</td><td>-5.55000000</td><td>1</td><td>J1840.9-0532e</td><td>1</td><td>280.230</td><td>-5.550</td><td>--</td><td>--</td><td>--</td><td>16.8</td><td>11.8</td><td>145.8</td><td>1.81</td><td>PL</td><td>T</td><td></td><td></td><td>E</td><td>PWN</td><td>HESS J1841-055</td><td>Simbad</td><td>J1840.9-0532e</td><td>LC</td><td>0.52</td><td>4.48</td><td>1.08</td><td>0.66</td><td>8.56</td><td>1.27</td><td>32.37</td><td>4.15</td><td>10.87</td><td>1.75</td><td>0.00080718</td></tr>\n",
       "<tr><td>56</td><td>ARGO J1841-0332</td><td>18 43 48.3912</td><td>-03 33 14.767</td><td>9</td><td>9</td><td>--</td><td>--</td><td>0</td><td>E</td><td>G</td><td>2018A&amp;A...612A...1H</td><td>gamma</td><td>280.95163000</td><td>-3.55410194</td><td>1</td><td>J1843.7-0322</td><td>1</td><td>280.928</td><td>-3.377</td><td>0.085</td><td>0.077</td><td>-25</td><td>13.1</td><td>8.1</td><td>94.0</td><td>2.48</td><td>LP</td><td></td><td></td><td></td><td></td><td></td><td></td><td>Simbad</td><td>J1843.7-0322</td><td>LC</td><td>11.72</td><td>1.82</td><td>4.55</td><td>0.45</td><td>6.54</td><td>0.86</td><td>6.24</td><td>1.86</td><td>0.00</td><td>0.39</td><td>0.17866444</td></tr>\n",
       "<tr><td>57</td><td>HESS J1848-018</td><td>18 48 29.5238</td><td>-01 53 14.971</td><td>9</td><td>9</td><td>--</td><td>--</td><td>0</td><td>E</td><td>G</td><td>2018A&amp;A...612A...1H</td><td>gamma</td><td>282.12301611</td><td>-1.88749194</td><td>1</td><td>J1848.4-0141</td><td>3</td><td>282.118</td><td>-1.693</td><td>0.081</td><td>0.057</td><td>20</td><td>18.7</td><td>12.9</td><td>114.6</td><td>2.36</td><td>LP</td><td></td><td>3</td><td>2FGL J1848.2-0139c</td><td>E</td><td></td><td></td><td>Simbad</td><td>J1848.4-0141</td><td>LC</td><td>10.79</td><td>3.66</td><td>5.48</td><td>0.63</td><td>8.07</td><td>0.95</td><td>14.14</td><td>2.31</td><td>0.45</td><td>0.43</td><td>0.19455623</td></tr>\n",
       "<tr><td>58</td><td>PSR J1849-0001</td><td>18 49 01.83</td><td>-00 01 19.1</td><td>6</td><td>6</td><td>120.000</td><td>110.000</td><td>87</td><td>C</td><td>I</td><td>2003yCat.2246....0C</td><td>Pulsar</td><td>282.25762000</td><td>-0.02197000</td><td>1</td><td>J1850.5-0024</td><td>2</td><td>282.632</td><td>-0.405</td><td>0.055</td><td>0.044</td><td>6</td><td>9.4</td><td>4.3</td><td>57.6</td><td>2.42</td><td>PL</td><td></td><td>4,5</td><td>2FGL J1850.7-0014c</td><td></td><td></td><td></td><td>Simbad</td><td>J1850.5-0024</td><td>LC</td><td>6.29</td><td>4.46</td><td>2.76</td><td>0.48</td><td>3.34</td><td>0.66</td><td>5.81</td><td>1.56</td><td>0.85</td><td>0.43</td><td>0.53559434</td></tr>\n",
       "<tr><td>59</td><td>HESS J1852-000</td><td>18 52</td><td>+00.0</td><td>2</td><td>2</td><td>--</td><td>--</td><td>0</td><td>E</td><td></td><td>2011ApJ...743....4Z</td><td>gamma</td><td>283.00000000</td><td>0.00000000</td><td>1</td><td>J1853.2+0006</td><td>1</td><td>283.301</td><td>0.109</td><td>0.147</td><td>0.079</td><td>-30</td><td>12.2</td><td>5.4</td><td>53.2</td><td>2.45</td><td>LP</td><td></td><td>3,4</td><td>1FGL J1853.1+0032c</td><td></td><td>psr</td><td>PSR J1853-0004</td><td>Simbad</td><td>J1853.2p0006</td><td>LC</td><td>7.69</td><td>2.73</td><td>2.26</td><td>0.37</td><td>3.49</td><td>0.63</td><td>3.25</td><td>1.41</td><td>0.77</td><td>0.39</td><td>0.32012310</td></tr>\n",
       "<tr><td>60</td><td>HESS J1854+013</td><td>18 54</td><td>+01.3</td><td>2</td><td>2</td><td>--</td><td>--</td><td>0</td><td>E</td><td>G</td><td>2021ApJ...917....6A</td><td>gamma</td><td>283.50000000</td><td>1.30000000</td><td>1</td><td>J1855.9+0121e</td><td>6</td><td>283.990</td><td>1.355</td><td>--</td><td>--</td><td>--</td><td>68.3</td><td>70.7</td><td>535.7</td><td>2.20</td><td>LP</td><td>T</td><td></td><td>0FGL J1855.9+0126</td><td></td><td>SNR</td><td>W44</td><td>Simbad</td><td>J1855.9p0121e</td><td>LC</td><td>27.02</td><td>7.22</td><td>20.68</td><td>0.84</td><td>57.02</td><td>1.45</td><td>102.68</td><td>4.06</td><td>7.84</td><td>1.13</td><td>0.49293665</td></tr>\n",
       "<tr><td>61</td><td>HESS J1858+020</td><td>18 58 20.0</td><td>+02 05 24</td><td>5</td><td>5</td><td>--</td><td>--</td><td>0</td><td>D</td><td></td><td>2008A&amp;A...477..353A</td><td>gamma</td><td>284.58330000</td><td>2.09000000</td><td>1</td><td>J1857.9+0210</td><td>2</td><td>284.490</td><td>2.170</td><td>0.060</td><td>0.058</td><td>13</td><td>15.2</td><td>8.2</td><td>68.0</td><td>2.36</td><td>LP</td><td></td><td>3,4</td><td>2FGL J1857.6+0211</td><td>E</td><td></td><td></td><td>Simbad</td><td>J1857.9p0210</td><td>LC</td><td>10.14</td><td>3.58</td><td>2.34</td><td>0.46</td><td>5.84</td><td>0.71</td><td>9.60</td><td>1.72</td><td>0.50</td><td>0.44</td><td>0.12286043</td></tr>\n",
       "<tr><td>62</td><td>HAWC J1907+085</td><td>19 07.2</td><td>+08 34</td><td>3</td><td>3</td><td>--</td><td>--</td><td>0</td><td>E</td><td>G</td><td>2021ApJ...917....6A</td><td>gamma</td><td>286.79000000</td><td>8.57000000</td><td>1</td><td>J1904.9+0818</td><td>1</td><td>286.243</td><td>8.306</td><td>0.107</td><td>0.079</td><td>23</td><td>4.7</td><td>1.4</td><td>17.0</td><td>2.30</td><td>PL</td><td></td><td>4,5</td><td></td><td></td><td></td><td></td><td>Simbad</td><td>J1904.9p0818</td><td>LC</td><td>0.07</td><td>2.00</td><td>1.33</td><td>0.29</td><td>0.29</td><td>0.40</td><td>1.95</td><td>0.93</td><td>0.76</td><td>0.37</td><td>0.60203756</td></tr>\n",
       "<tr><td>63</td><td>ARGO J1907+0627</td><td>19 08.7</td><td>+06 11</td><td>3</td><td>3</td><td>864000.000</td><td>864000.000</td><td>90</td><td>E</td><td>G</td><td>2007ApJ...664L..91A</td><td>gamma</td><td>287.18000000</td><td>6.18000000</td><td>1</td><td>J1907.9+0602</td><td>4</td><td>286.986</td><td>6.039</td><td>0.013</td><td>0.013</td><td>-46</td><td>84.0</td><td>38.4</td><td>319.1</td><td>2.24</td><td>EC</td><td></td><td></td><td>1FHL J1907.7+0600</td><td>E</td><td>PSR</td><td>LAT PSR J1907+0602</td><td>Simbad</td><td>J1907.9p0602</td><td>LC</td><td>30.88</td><td>1.76</td><td>12.22</td><td>0.32</td><td>31.16</td><td>0.80</td><td>60.89</td><td>2.65</td><td>3.08</td><td>0.62</td><td>0.23894241</td></tr>\n",
       "<tr><td>64</td><td>ARGO J1912+1026</td><td>19 12</td><td>+10.1</td><td>2</td><td>2</td><td>--</td><td>--</td><td>0</td><td>E</td><td></td><td>2008AN....329..186P</td><td>gamma</td><td>288.00000000</td><td>10.10000000</td><td>1</td><td>J1908.9+1022</td><td>1</td><td>287.228</td><td>10.375</td><td>0.126</td><td>0.096</td><td>-82</td><td>6.4</td><td>1.7</td><td>27.2</td><td>2.59</td><td>PL</td><td></td><td>3,4</td><td></td><td></td><td></td><td></td><td>Simbad</td><td>J1908.9p1022</td><td>LC</td><td>3.88</td><td>1.57</td><td>1.05</td><td>0.24</td><td>1.57</td><td>0.43</td><td>1.10</td><td>0.88</td><td>0.37</td><td>0.30</td><td>0.80795210</td></tr>\n",
       "<tr><td>65</td><td>W 49b</td><td>19 11 09.000</td><td>+09 06 24.00</td><td>7</td><td>7</td><td>--</td><td>--</td><td>0</td><td>D</td><td></td><td>2015ApJS..217....2M</td><td>SNRemnant</td><td>287.78750000</td><td>9.10666700</td><td>1</td><td>J1910.9+0906</td><td>4</td><td>287.744</td><td>9.101</td><td>0.017</td><td>0.016</td><td>-80</td><td>41.8</td><td>20.3</td><td>183.5</td><td>2.18</td><td>LP</td><td></td><td></td><td>1FHL J1911.0+0905</td><td></td><td>snr</td><td>W 49B</td><td>Simbad</td><td>J1910.9p0906</td><td>LC</td><td>17.51</td><td>1.84</td><td>5.99</td><td>0.42</td><td>13.30</td><td>0.74</td><td>43.12</td><td>2.45</td><td>7.33</td><td>0.92</td><td>0.04333593</td></tr>\n",
       "<tr><td>66</td><td>HESS J1915+115</td><td>19 15</td><td>+11.5</td><td>2</td><td>2</td><td>--</td><td>--</td><td>0</td><td>E</td><td>G</td><td>2021ApJ...917....6A</td><td>gamma</td><td>288.80000000</td><td>11.50000000</td><td>1</td><td>J1915.9+1112</td><td>2</td><td>289.000</td><td>11.216</td><td>0.147</td><td>0.120</td><td>2</td><td>10.7</td><td>3.8</td><td>38.2</td><td>2.41</td><td>LP</td><td></td><td>3,4</td><td>2FGL J1916.1+1106</td><td></td><td>spp</td><td></td><td>Simbad</td><td>J1915.9p1112</td><td>LC</td><td>6.28</td><td>1.22</td><td>1.81</td><td>0.27</td><td>3.05</td><td>0.58</td><td>4.21</td><td>1.42</td><td>0.00</td><td>0.34</td><td>0.34511568</td></tr>\n",
       "<tr><td>67</td><td>HESS J1923+141</td><td>19 23.0</td><td>+14 06</td><td>3</td><td>3</td><td>--</td><td>--</td><td>0</td><td>E</td><td></td><td>2010ApJ...709L...6A</td><td>gamma</td><td>290.75000000</td><td>14.10000000</td><td>1</td><td>J1923.2+1408e</td><td>5</td><td>290.818</td><td>14.145</td><td>--</td><td>--</td><td>--</td><td>75.0</td><td>39.6</td><td>345.8</td><td>2.15</td><td>LP</td><td></td><td></td><td>0FGL J1923.0+1411</td><td>E</td><td>SNR</td><td>W51C</td><td>Simbad</td><td>J1923.2p1408e</td><td>LC</td><td>25.15</td><td>2.24</td><td>11.35</td><td>0.35</td><td>29.47</td><td>0.82</td><td>76.45</td><td>3.00</td><td>16.42</td><td>1.27</td><td>0.07983070</td></tr>\n",
       "<tr><td>68</td><td>SNR G054.1+00.3</td><td>19 30 31</td><td>+18 52.0</td><td>4</td><td>4</td><td>--</td><td>--</td><td>0</td><td>E</td><td>R</td><td>2014BASI...42...47G</td><td>SNRemnant</td><td>292.62900000</td><td>18.86700000</td><td>1</td><td>J1928.4+1838</td><td>1</td><td>292.113</td><td>18.634</td><td>0.175</td><td>0.131</td><td>-23</td><td>5.8</td><td>1.6</td><td>21.9</td><td>2.42</td><td>PL</td><td></td><td>1,4,5</td><td></td><td></td><td></td><td></td><td>Simbad</td><td>J1928.4p1838</td><td>LC</td><td>0.27</td><td>1.95</td><td>0.99</td><td>0.26</td><td>1.26</td><td>0.39</td><td>1.65</td><td>0.93</td><td>0.64</td><td>0.37</td><td>0.54131854</td></tr>\n",
       "<tr><td>69</td><td>HAWC J1928+178</td><td>19 28.4</td><td>+17 49</td><td>3</td><td>3</td><td>--</td><td>--</td><td>0</td><td>E</td><td>G</td><td>2021ApJ...917....6A</td><td>gamma</td><td>292.10000000</td><td>17.82000000</td><td>1</td><td>J1928.9+1739</td><td>3</td><td>292.237</td><td>17.657</td><td>0.080</td><td>0.058</td><td>-5</td><td>8.5</td><td>3.5</td><td>25.0</td><td>2.32</td><td>LP</td><td></td><td>3,4</td><td>2FGL J1928.8+1740c</td><td></td><td></td><td></td><td>Simbad</td><td>J1928.9p1739</td><td>LC</td><td>3.54</td><td>1.61</td><td>1.07</td><td>0.27</td><td>2.14</td><td>0.49</td><td>4.38</td><td>1.24</td><td>0.21</td><td>0.28</td><td>0.20879630</td></tr>\n",
       "<tr><td>70</td><td>QSO B2005-489</td><td>20 09 25.3903</td><td>-48 49 53.725</td><td>14</td><td>14</td><td>0.026</td><td>0.020</td><td>90</td><td>A</td><td>O</td><td>2020yCat.1350....0G</td><td>BLLac</td><td>302.35579329</td><td>-48.83159029</td><td>1</td><td>J2009.3-4849</td><td>4</td><td>302.349</td><td>-48.828</td><td>0.018</td><td>0.018</td><td>-33</td><td>40.3</td><td>3.6</td><td>44.9</td><td>1.77</td><td>PL</td><td>T</td><td></td><td>1FHL J2009.4-4849</td><td>P</td><td>BLL</td><td>PKS 2005-489</td><td>Simbad</td><td>J2009.3-4849</td><td>LC</td><td>1.17</td><td>0.25</td><td>0.52</td><td>0.05</td><td>2.09</td><td>0.17</td><td>10.15</td><td>0.93</td><td>4.75</td><td>0.63</td><td>0.00573596</td></tr>\n",
       "<tr><td>71</td><td>QSO B2155-304</td><td>21 58 52.0652</td><td>-30 13 32.118</td><td>14</td><td>14</td><td>0.017</td><td>0.014</td><td>90</td><td>A</td><td>O</td><td>2020yCat.1350....0G</td><td>BLLac</td><td>329.71693844</td><td>-30.22558846</td><td>1</td><td>J2158.8-3013</td><td>6</td><td>329.720</td><td>-30.227</td><td>0.009</td><td>0.009</td><td>-87</td><td>142.1</td><td>21.7</td><td>230.5</td><td>1.83</td><td>LP</td><td>T</td><td></td><td>1FHL J2158.8-3013</td><td>P</td><td>bll</td><td>PKS 2155-304</td><td>Simbad</td><td>J2158.8-3013</td><td>LC</td><td>6.47</td><td>0.45</td><td>3.62</td><td>0.09</td><td>13.42</td><td>0.36</td><td>57.34</td><td>2.10</td><td>23.98</td><td>1.35</td><td>0.00299837</td></tr>\n",
       "<tr><td>72</td><td>QSO B2356-309</td><td>23 59 07.9034</td><td>-30 37 40.671</td><td>14</td><td>14</td><td>0.094</td><td>0.072</td><td>90</td><td>A</td><td>O</td><td>2020yCat.1350....0G</td><td>BLLac</td><td>359.78293125</td><td>-30.62796419</td><td>1</td><td>J2359.3-3038</td><td>3</td><td>359.829</td><td>-30.646</td><td>0.054</td><td>0.051</td><td>-7</td><td>11.1</td><td>0.6</td><td>6.6</td><td>2.02</td><td>PL</td><td></td><td></td><td>1FHL J2359.2-3037</td><td>P</td><td>bll</td><td>H 2356-309</td><td>Simbad</td><td>J2359.3-3038</td><td>LC</td><td>0.77</td><td>0.28</td><td>0.12</td><td>0.04</td><td>0.44</td><td>0.10</td><td>1.27</td><td>0.40</td><td>0.56</td><td>0.25</td><td>0.04355626</td></tr>\n",
       "</table><style>table.dataTable {clear: both; width: auto !important; margin: 0 !important;}\n",
       ".dataTables_info, .dataTables_length, .dataTables_filter, .dataTables_paginate{\n",
       "display: inline-block; margin-right: 1em; }\n",
       ".paginate_button { margin-right: 5px; }\n",
       "</style>\n",
       "<script>\n",
       "\n",
       "var astropy_sort_num = function(a, b) {\n",
       "    var a_num = parseFloat(a);\n",
       "    var b_num = parseFloat(b);\n",
       "\n",
       "    if (isNaN(a_num) && isNaN(b_num))\n",
       "        return ((a < b) ? -1 : ((a > b) ? 1 : 0));\n",
       "    else if (!isNaN(a_num) && !isNaN(b_num))\n",
       "        return ((a_num < b_num) ? -1 : ((a_num > b_num) ? 1 : 0));\n",
       "    else\n",
       "        return isNaN(a_num) ? -1 : 1;\n",
       "}\n",
       "\n",
       "require.config({paths: {\n",
       "    datatables: 'https://cdn.datatables.net/1.10.12/js/jquery.dataTables.min'\n",
       "}});\n",
       "require([\"datatables\"], function(){\n",
       "    console.log(\"$('#table140474190012208-35509').dataTable()\");\n",
       "    \n",
       "jQuery.extend( jQuery.fn.dataTableExt.oSort, {\n",
       "    \"optionalnum-asc\": astropy_sort_num,\n",
       "    \"optionalnum-desc\": function (a,b) { return -astropy_sort_num(a, b); }\n",
       "});\n",
       "\n",
       "    $('#table140474190012208-35509').dataTable({\n",
       "        order: [],\n",
       "        pageLength: 3,\n",
       "        lengthMenu: [[3, 10, 25, 50, 100, 500, 1000, -1], [3, 10, 25, 50, 100, 500, 1000, 'All']],\n",
       "        pagingType: \"full_numbers\",\n",
       "        columnDefs: [{targets: [0, 4, 5, 6, 7, 8, 13, 14, 15, 17, 18, 19, 20, 21, 22, 23, 24, 25, 26, 37, 38, 39, 40, 41, 42, 43, 44, 45, 46, 47], type: \"optionalnum\"}]\n",
       "    });\n",
       "});\n",
       "</script>\n"
      ],
      "text/plain": [
       "<IPython.core.display.HTML object>"
      ]
     },
     "execution_count": 21,
     "metadata": {},
     "output_type": "execute_result"
    }
   ],
   "source": [
    "# Limit to unique 3FGL sources, this will keep the first row of each duplicate\n",
    "# Note that one could sort them before that\n",
    "hess_simbad_fermi.sort(\"Ang_Sep\")\n",
    "hess_simbad_fermi = unique(hess_simbad_fermi, keys=\"_3FGL\", keep=\"first\")\n",
    "hess_simbad_fermi.show_in_notebook(display_length=3)"
   ]
  },
  {
   "cell_type": "markdown",
   "metadata": {},
   "source": [
    "There are 65 FERMI-HESS-Simbad matches. Some of these associations are of known nature. "
   ]
  },
  {
   "cell_type": "markdown",
   "metadata": {},
   "source": [
    "\n",
    "[![Vizier](https://custom-icon-badges.demolab.com/badge/Vizier-gray.svg?logo=vizier&logoColor=orange&logoWidth=20)](https://vizier.cds.unistra.fr/viz-bin/VizieR \"https://vizier.cds.unistra.fr/viz-bin/VizieR\")\n",
    "\n",
    "Among the list of catalogs in VizieR that we listed before **J/ApJ/810/14** : *Third catalog of LAT-detected AGNs (3LAC) (Ackermann+, 2015)* lists 3LAC sources classified as AGNS. Let's have a look at the catalogue in question:\n"
   ]
  },
  {
   "cell_type": "code",
   "execution_count": 22,
   "metadata": {},
   "outputs": [
    {
     "name": "stdout",
     "output_type": "stream",
     "text": [
      "J/ApJ/810/14/highlat :  High latitude (|b|>10deg) 3LAC full  sample and fluxes\n",
      "J/ApJ/810/14/lowlat :  Low latitude (|b|<10deg) sample  and fluxes\n",
      "J/ApJ/810/14/table7 :  Sources from earlier FGL catalogs missing in 3LAC\n",
      "J/ApJ/810/14/table10 :  Properties of the 3FGL very-high-energy (VHE) AGNs\n",
      "J/ApJ/810/14/table2 :  *List of ATCA blazar candidates\n"
     ]
    }
   ],
   "source": [
    "Vizier.ROW_LIMIT = -1\n",
    "catalog = Vizier.get_catalogs(\"J/ApJ/810/14\")\n",
    "for tab in catalog:\n",
    "    print(tab.meta[\"name\"], \": \", tab.meta[\"description\"])"
   ]
  },
  {
   "cell_type": "markdown",
   "metadata": {},
   "source": [
    "Table **J/ApJ/810/14/table10** lists the properties of very-high-energy ANGs. Let's have a look at that table:"
   ]
  },
  {
   "cell_type": "code",
   "execution_count": 23,
   "metadata": {
    "scrolled": true,
    "tags": [
     "output_scroll"
    ]
   },
   "outputs": [
    {
     "data": {
      "text/html": [
       "<i>Table length=55</i>\n",
       "<table id=\"table140473996814912-89562\" class=\"table-striped table-bordered table-condensed\">\n",
       "<thead><tr><th>idx</th><th>_3FGL</th><th>LL</th><th>VHE</th><th>SpCl</th><th>SEDCl</th><th>z</th><th>alpha</th><th>e_alpha</th><th>Var</th></tr></thead>\n",
       "<tr><td>0</td><td>J0013.9-1853</td><td></td><td>SHBL J001355.9-185406</td><td>bll</td><td>HSP</td><td>0.094</td><td>1.935</td><td>0.167</td><td>36.46</td></tr>\n",
       "<tr><td>1</td><td>J0033.6-1921</td><td></td><td>KUV 00311-1938</td><td>bll</td><td>HSP</td><td>0.610</td><td>1.715</td><td>0.035</td><td>64.62</td></tr>\n",
       "<tr><td>2</td><td>J0035.9+5949</td><td>L</td><td>1ES J0033+595</td><td>bll</td><td>HSP</td><td>--</td><td>1.898</td><td>0.042</td><td>69.55</td></tr>\n",
       "<tr><td>3</td><td>J0136.5+3905</td><td></td><td>RGB J0136+391</td><td>bll</td><td>HSP</td><td>--</td><td>1.696</td><td>0.025</td><td>62.30</td></tr>\n",
       "<tr><td>4</td><td>J0152.6+0148</td><td></td><td>RGB J0152+017</td><td>bll</td><td>HSP</td><td>0.080</td><td>1.887</td><td>0.103</td><td>51.76</td></tr>\n",
       "<tr><td>5</td><td>J0222.6+4301</td><td></td><td>3C 66A</td><td>bll</td><td>ISP</td><td>0.444</td><td>1.880</td><td>0.017</td><td>885.04</td></tr>\n",
       "<tr><td>6</td><td>J0232.8+2016</td><td></td><td>1ES 0229+200</td><td>bll</td><td>HSP</td><td>0.139</td><td>2.025</td><td>0.150</td><td>49.16</td></tr>\n",
       "<tr><td>7</td><td>J0303.4-2407</td><td></td><td>PKS 0301-243</td><td>bll</td><td>HSP</td><td>0.260</td><td>1.918</td><td>0.022</td><td>676.85</td></tr>\n",
       "<tr><td>8</td><td>J0316.6+4119</td><td></td><td>IC 310</td><td>rdg</td><td>HSP</td><td>0.019</td><td>1.902</td><td>0.143</td><td>38.74</td></tr>\n",
       "<tr><td>9</td><td>J0319.8+1847</td><td></td><td>RBS 0413</td><td>bll</td><td>HSP</td><td>0.190</td><td>1.572</td><td>0.102</td><td>76.33</td></tr>\n",
       "<tr><td>10</td><td>J0319.8+4130</td><td></td><td>NGC 1275</td><td>rdg</td><td>ISP</td><td>0.018</td><td>1.985</td><td>0.014</td><td>622.21</td></tr>\n",
       "<tr><td>11</td><td>J0349.2-1158</td><td></td><td>1ES 0347-121</td><td>bll</td><td>HSP</td><td>--</td><td>1.734</td><td>0.156</td><td>44.26</td></tr>\n",
       "<tr><td>12</td><td>J0416.8+0104</td><td></td><td>1ES 0414+009</td><td>bll</td><td>HSP</td><td>0.287</td><td>1.745</td><td>0.114</td><td>55.85</td></tr>\n",
       "<tr><td>13</td><td>J0449.4-4350</td><td></td><td>PKS 0447-439</td><td>bll</td><td>HSP</td><td>0.205</td><td>1.849</td><td>0.015</td><td>230.17</td></tr>\n",
       "<tr><td>14</td><td>J0508.0+6736</td><td></td><td>1ES 0502+675</td><td>bll</td><td>HSP</td><td>0.340</td><td>1.523</td><td>0.040</td><td>77.94</td></tr>\n",
       "<tr><td>15</td><td>J0521.7+2113</td><td>L</td><td>VER J0521+211</td><td>bll</td><td>ISP</td><td>0.108</td><td>1.923</td><td>0.024</td><td>239.79</td></tr>\n",
       "<tr><td>16</td><td>J0550.6-3217</td><td></td><td>PKS 0548-322</td><td>bll</td><td>HSP</td><td>0.069</td><td>1.615</td><td>0.164</td><td>48.44</td></tr>\n",
       "<tr><td>17</td><td>J0648.9+1516</td><td>L</td><td>VER J0648+152</td><td>bll</td><td>HSP</td><td>0.179</td><td>1.831</td><td>0.071</td><td>36.04</td></tr>\n",
       "<tr><td>18</td><td>J0650.7+2503</td><td></td><td>1ES 0647+250</td><td>bll</td><td>HSP</td><td>0.203</td><td>1.721</td><td>0.047</td><td>63.85</td></tr>\n",
       "<tr><td>19</td><td>J0710.3+5908</td><td></td><td>RGB J0710+591</td><td>bll</td><td>HSP</td><td>0.125</td><td>1.661</td><td>0.094</td><td>55.54</td></tr>\n",
       "<tr><td>20</td><td>J0721.9+7120</td><td></td><td>S5 0716+714</td><td>bll</td><td>ISP</td><td>0.127</td><td>1.948</td><td>0.012</td><td>1818.04</td></tr>\n",
       "<tr><td>21</td><td>J0809.8+5218</td><td></td><td>1ES 0806+524</td><td>bll</td><td>HSP</td><td>0.138</td><td>1.876</td><td>0.024</td><td>485.15</td></tr>\n",
       "<tr><td>22</td><td>J0847.1+1134</td><td></td><td>RX J0847.1+1133</td><td>bll</td><td>HSP</td><td>0.199</td><td>1.740</td><td>0.115</td><td>44.90</td></tr>\n",
       "<tr><td>23</td><td>J1010.2-3120</td><td></td><td>1RXS J101015.9-311909</td><td>bll</td><td>HSP</td><td>0.143</td><td>1.576</td><td>0.100</td><td>86.30</td></tr>\n",
       "<tr><td>24</td><td>J1015.0+4925</td><td></td><td>1ES 1011+496</td><td>bll</td><td>HSP</td><td>0.212</td><td>1.833</td><td>0.017</td><td>110.46</td></tr>\n",
       "<tr><td>25</td><td>J1103.5-2329</td><td></td><td>1ES 1101-232</td><td>bll</td><td>HSP</td><td>0.186</td><td>1.645</td><td>0.145</td><td>36.51</td></tr>\n",
       "<tr><td>26</td><td>J1104.4+3812</td><td></td><td>Markarian 421</td><td>bll</td><td>HSP</td><td>0.031</td><td>1.772</td><td>0.008</td><td>755.10</td></tr>\n",
       "<tr><td>27</td><td>J1136.6+7009</td><td></td><td>Markarian 180</td><td>bll</td><td>HSP</td><td>0.045</td><td>1.824</td><td>0.047</td><td>43.04</td></tr>\n",
       "<tr><td>28</td><td>J1217.8+3007</td><td></td><td>1ES 1215+303</td><td>bll</td><td>HSP</td><td>0.130</td><td>1.974</td><td>0.023</td><td>206.36</td></tr>\n",
       "<tr><td>29</td><td>J1221.3+3010</td><td></td><td>1ES 1218+304</td><td>bll</td><td>HSP</td><td>0.182</td><td>1.660</td><td>0.038</td><td>92.45</td></tr>\n",
       "<tr><td>30</td><td>J1221.4+2814</td><td></td><td>W Comae</td><td>bll</td><td>ISP</td><td>0.103</td><td>2.102</td><td>0.027</td><td>204.24</td></tr>\n",
       "<tr><td>31</td><td>J1224.5+2436</td><td></td><td>MS 1221.8+2452</td><td>bll</td><td>HSP</td><td>0.218</td><td>1.887</td><td>0.094</td><td>54.19</td></tr>\n",
       "<tr><td>32</td><td>J1224.9+2122</td><td></td><td>4C +21.35</td><td>fsrq</td><td>LSP</td><td>0.435</td><td>2.185</td><td>0.012</td><td>18067.45</td></tr>\n",
       "<tr><td>33</td><td>J1230.9+1224</td><td></td><td>M 87</td><td>rdg</td><td>LSP</td><td>0.004</td><td>2.040</td><td>0.066</td><td>54.28</td></tr>\n",
       "<tr><td>34</td><td>J1256.1-0547</td><td></td><td>3C 279</td><td>fsrq</td><td>LSP</td><td>0.536</td><td>2.233</td><td>0.014</td><td>4198.44</td></tr>\n",
       "<tr><td>35</td><td>J1314.7-4237</td><td></td><td>1ES 1312-423</td><td>bll</td><td>HSP</td><td>--</td><td>2.082</td><td>0.214</td><td>45.02</td></tr>\n",
       "<tr><td>36</td><td>J1325.4-4301</td><td></td><td>Centaurus A</td><td>rdg</td><td>-</td><td>0.002</td><td>2.703</td><td>0.029</td><td>59.33</td></tr>\n",
       "<tr><td>37</td><td>J1427.0+2347</td><td></td><td>PKS 1424+240</td><td>bll</td><td>ISP</td><td>--</td><td>1.760</td><td>0.022</td><td>210.25</td></tr>\n",
       "<tr><td>38</td><td>J1428.5+4240</td><td></td><td>H 1426+428</td><td>bll</td><td>HSP</td><td>0.129</td><td>1.575</td><td>0.085</td><td>59.46</td></tr>\n",
       "<tr><td>39</td><td>J1442.8+1200</td><td></td><td>1ES 1440+122</td><td>bll</td><td>HSP</td><td>0.163</td><td>1.796</td><td>0.117</td><td>50.46</td></tr>\n",
       "<tr><td>40</td><td>J1512.8-0906</td><td></td><td>PKS 1510-089</td><td>fsrq</td><td>LSP</td><td>0.360</td><td>2.305</td><td>0.009</td><td>11014.00</td></tr>\n",
       "<tr><td>41</td><td>J1517.6-2422</td><td></td><td>AP Lib</td><td>bll</td><td>LSP</td><td>0.048</td><td>2.112</td><td>0.026</td><td>60.31</td></tr>\n",
       "<tr><td>42</td><td>J1555.7+1111</td><td></td><td>PG 1553+113</td><td>bll</td><td>HSP</td><td>--</td><td>1.604</td><td>0.025</td><td>123.55</td></tr>\n",
       "<tr><td>43</td><td>J1653.9+3945</td><td></td><td>Markarian 501</td><td>bll</td><td>HSP</td><td>0.034</td><td>1.716</td><td>0.016</td><td>251.47</td></tr>\n",
       "<tr><td>44</td><td>J1725.0+1152</td><td></td><td>1H 1720+117</td><td>bll</td><td>HSP</td><td>--</td><td>1.885</td><td>0.045</td><td>79.88</td></tr>\n",
       "<tr><td>45</td><td>J1728.3+5013</td><td></td><td>1ES 1727+502</td><td>bll</td><td>HSP</td><td>0.055</td><td>1.960</td><td>0.065</td><td>54.08</td></tr>\n",
       "<tr><td>46</td><td>J1743.9+1934</td><td></td><td>1ES 1741+196</td><td>bll</td><td>HSP</td><td>0.084</td><td>1.777</td><td>0.108</td><td>38.27</td></tr>\n",
       "<tr><td>47</td><td>J2000.0+6509</td><td></td><td>1ES 1959+650</td><td>bll</td><td>HSP</td><td>0.047</td><td>1.883</td><td>0.022</td><td>158.37</td></tr>\n",
       "<tr><td>48</td><td>J2001.1+4352</td><td>L</td><td>MAGIC J2001+435</td><td>bll</td><td>ISP</td><td>--</td><td>1.971</td><td>0.022</td><td>341.11</td></tr>\n",
       "<tr><td>49</td><td>J2009.3-4849</td><td></td><td>PKS 2005-489</td><td>bll</td><td>-</td><td>0.071</td><td>1.773</td><td>0.031</td><td>131.06</td></tr>\n",
       "<tr><td>50</td><td>J2158.8-3013</td><td></td><td>PKS 2155-304</td><td>bll</td><td>HSP</td><td>0.116</td><td>1.750</td><td>0.018</td><td>618.50</td></tr>\n",
       "<tr><td>51</td><td>J2202.7+4217</td><td></td><td>BL Lacertae</td><td>bll</td><td>ISP</td><td>0.069</td><td>2.161</td><td>0.017</td><td>2340.22</td></tr>\n",
       "<tr><td>52</td><td>J2250.1+3825</td><td></td><td>B3 2247+381</td><td>bll</td><td>HSP</td><td>0.119</td><td>1.912</td><td>0.074</td><td>52.42</td></tr>\n",
       "<tr><td>53</td><td>J2347.0+5142</td><td>L</td><td>1ES 2344+514</td><td>bll</td><td>HSP</td><td>0.044</td><td>1.782</td><td>0.039</td><td>100.97</td></tr>\n",
       "<tr><td>54</td><td>J2359.3-3038</td><td></td><td>H 2356-309</td><td>bll</td><td>HSP</td><td>0.165</td><td>2.022</td><td>0.115</td><td>40.97</td></tr>\n",
       "</table><style>table.dataTable {clear: both; width: auto !important; margin: 0 !important;}\n",
       ".dataTables_info, .dataTables_length, .dataTables_filter, .dataTables_paginate{\n",
       "display: inline-block; margin-right: 1em; }\n",
       ".paginate_button { margin-right: 5px; }\n",
       "</style>\n",
       "<script>\n",
       "\n",
       "var astropy_sort_num = function(a, b) {\n",
       "    var a_num = parseFloat(a);\n",
       "    var b_num = parseFloat(b);\n",
       "\n",
       "    if (isNaN(a_num) && isNaN(b_num))\n",
       "        return ((a < b) ? -1 : ((a > b) ? 1 : 0));\n",
       "    else if (!isNaN(a_num) && !isNaN(b_num))\n",
       "        return ((a_num < b_num) ? -1 : ((a_num > b_num) ? 1 : 0));\n",
       "    else\n",
       "        return isNaN(a_num) ? -1 : 1;\n",
       "}\n",
       "\n",
       "require.config({paths: {\n",
       "    datatables: 'https://cdn.datatables.net/1.10.12/js/jquery.dataTables.min'\n",
       "}});\n",
       "require([\"datatables\"], function(){\n",
       "    console.log(\"$('#table140473996814912-89562').dataTable()\");\n",
       "    \n",
       "jQuery.extend( jQuery.fn.dataTableExt.oSort, {\n",
       "    \"optionalnum-asc\": astropy_sort_num,\n",
       "    \"optionalnum-desc\": function (a,b) { return -astropy_sort_num(a, b); }\n",
       "});\n",
       "\n",
       "    $('#table140473996814912-89562').dataTable({\n",
       "        order: [],\n",
       "        pageLength: 3,\n",
       "        lengthMenu: [[3, 10, 25, 50, 100, 500, 1000, -1], [3, 10, 25, 50, 100, 500, 1000, 'All']],\n",
       "        pagingType: \"full_numbers\",\n",
       "        columnDefs: [{targets: [0, 6, 7, 8, 9], type: \"optionalnum\"}]\n",
       "    });\n",
       "});\n",
       "</script>\n"
      ],
      "text/plain": [
       "<IPython.core.display.HTML object>"
      ]
     },
     "execution_count": 23,
     "metadata": {},
     "output_type": "execute_result"
    }
   ],
   "source": [
    "table10 = catalog[3]\n",
    "table10.show_in_notebook(display_length=3)"
   ]
  },
  {
   "cell_type": "markdown",
   "metadata": {},
   "source": [
    "There are no coordinates, only names are given in column **_3FGL**. Let's see how many of these AGNs are within our table of matches **hess_simbad_fermi**:"
   ]
  },
  {
   "cell_type": "code",
   "execution_count": 24,
   "metadata": {
    "scrolled": true,
    "tags": [
     "output_scroll"
    ]
   },
   "outputs": [
    {
     "name": "stdout",
     "output_type": "stream",
     "text": [
      "Number of matches : 5\n"
     ]
    },
    {
     "data": {
      "text/html": [
       "<i>Row index=0</i>\n",
       "<table id=\"table140474200001552\">\n",
       "<thead><tr><th>MAIN_ID</th><th>RA</th><th>DEC</th><th>RA_PREC</th><th>DEC_PREC</th><th>COO_ERR_MAJA</th><th>COO_ERR_MINA</th><th>COO_ERR_ANGLE</th><th>COO_QUAL</th><th>COO_WAVELENGTH</th><th>COO_BIBCODE</th><th>OTYPE</th><th>RA_d</th><th>DEC_d</th><th>SCRIPT_NUMBER_ID</th><th>_3FGL</th><th>Na</th><th>RAJ2000</th><th>DEJ2000</th><th>amaj</th><th>amin</th><th>phi</th><th>Sig</th><th>F35</th><th>S25</th><th>Gamma</th><th>Mod</th><th>Var_1</th><th>Flag</th><th>Assoc</th><th>TeV</th><th>Class</th><th>ID</th><th>Simbad</th><th>File</th><th>LC</th><th>F1</th><th>E_F1</th><th>F2</th><th>E_F2</th><th>F3</th><th>E_F3</th><th>F4</th><th>E_F4</th><th>F5</th><th>E_F5</th><th>Ang_Sep</th><th>LL</th><th>VHE</th><th>SpCl</th><th>SEDCl</th><th>z</th><th>alpha</th><th>e_alpha</th><th>Var_2</th></tr></thead>\n",
       "<thead><tr><th></th><th>&quot;h:m:s&quot;</th><th>&quot;d:m:s&quot;</th><th></th><th></th><th>mas</th><th>mas</th><th>deg</th><th></th><th></th><th></th><th></th><th>deg</th><th>deg</th><th></th><th></th><th></th><th>deg</th><th>deg</th><th>deg</th><th>deg</th><th>deg</th><th></th><th>1e-05 / (m2 s)</th><th>fW / m2</th><th></th><th></th><th></th><th></th><th></th><th></th><th></th><th></th><th></th><th></th><th></th><th>0.0001 / (m2 s)</th><th>0.0001 / (m2 s)</th><th>0.0001 / (m2 s)</th><th>0.0001 / (m2 s)</th><th>1e-05 / (m2 s)</th><th>1e-05 / (m2 s)</th><th>1e-06 / (m2 s)</th><th>1e-06 / (m2 s)</th><th>1e-06 / (m2 s)</th><th>1e-06 / (m2 s)</th><th>deg</th><th></th><th></th><th></th><th></th><th></th><th></th><th></th><th></th></tr></thead>\n",
       "<thead><tr><th>object</th><th>str13</th><th>str13</th><th>int16</th><th>int16</th><th>float32</th><th>float32</th><th>int16</th><th>str1</th><th>str1</th><th>object</th><th>object</th><th>float64</th><th>float64</th><th>int32</th><th>str13</th><th>int16</th><th>float32</th><th>float32</th><th>float32</th><th>float32</th><th>int16</th><th>float32</th><th>float32</th><th>float32</th><th>float32</th><th>str2</th><th>str1</th><th>str12</th><th>str18</th><th>str1</th><th>str5</th><th>str26</th><th>str6</th><th>str13</th><th>str2</th><th>float32</th><th>float32</th><th>float32</th><th>float32</th><th>float32</th><th>float32</th><th>float32</th><th>float32</th><th>float32</th><th>float32</th><th>float64</th><th>str1</th><th>str21</th><th>str6</th><th>str3</th><th>float32</th><th>float32</th><th>float32</th><th>float64</th></tr></thead>\n",
       "<tr><td>HESS J0232+202</td><td>02 32 53.2</td><td>+20 16 21</td><td>5</td><td>5</td><td>--</td><td>--</td><td>0</td><td>D</td><td></td><td>2007A&amp;A...475L...9A</td><td>gamma</td><td>38.22170000</td><td>20.27250000</td><td>1</td><td>J0232.8+2016</td><td>1</td><td>38.219</td><td>20.271</td><td>0.055</td><td>0.047</td><td>-4</td><td>7.2</td><td>0.4</td><td>4.9</td><td>2.03</td><td>PL</td><td></td><td></td><td></td><td>P</td><td>bll</td><td>1ES 0229+200</td><td>Simbad</td><td>J0232.8p2016</td><td>LC</td><td>0.23</td><td>0.29</td><td>0.18</td><td>0.05</td><td>0.25</td><td>0.11</td><td>0.46</td><td>0.31</td><td>0.42</td><td>0.22</td><td>0.00294256</td><td></td><td>1ES 0229+200</td><td>bll</td><td>HSP</td><td>0.139</td><td>2.025</td><td>0.150</td><td>49.16</td></tr>\n",
       "</table>"
      ],
      "text/plain": [
       "<Row index=0>\n",
       "   MAIN_ID         RA        DEC    RA_PREC DEC_PREC COO_ERR_MAJA COO_ERR_MINA COO_ERR_ANGLE COO_QUAL COO_WAVELENGTH     COO_BIBCODE     OTYPE      RA_d       DEC_d     SCRIPT_NUMBER_ID    _3FGL       Na  RAJ2000 DEJ2000   amaj    amin   phi    Sig        F35         S25    Gamma  Mod  Var_1  Flag Assoc TeV  Class      ID      Simbad     File      LC         F1             E_F1             F2             E_F2            F3            E_F3            F4            E_F4            F5            E_F5        Ang_Sep     LL      VHE      SpCl SEDCl    z     alpha  e_alpha  Var_2  \n",
       "                \"h:m:s\"    \"d:m:s\"                       mas          mas           deg                                                             deg         deg                                            deg     deg     deg     deg    deg          1e-05 / (m2 s) fW / m2                                                                                 0.0001 / (m2 s) 0.0001 / (m2 s) 0.0001 / (m2 s) 0.0001 / (m2 s) 1e-05 / (m2 s) 1e-05 / (m2 s) 1e-06 / (m2 s) 1e-06 / (m2 s) 1e-06 / (m2 s) 1e-06 / (m2 s)     deg                                                                   \n",
       "    object       str13      str13    int16   int16     float32      float32        int16       str1        str1             object       object   float64     float64         int32          str13     int16 float32 float32 float32 float32 int16 float32    float32     float32 float32 str2  str1 str12 str18 str1  str5    str26      str6     str13     str2     float32         float32         float32         float32        float32        float32        float32        float32        float32        float32       float64    str1    str21     str6  str3 float32 float32 float32 float64 \n",
       "-------------- ---------- --------- ------- -------- ------------ ------------ ------------- -------- -------------- ------------------- ------ ----------- ------------ ---------------- ------------ ----- ------- ------- ------- ------- ----- ------- -------------- ------- ------- ---- ----- ----- ----- ---- ----- ------------ ------ ------------ ---- --------------- --------------- --------------- --------------- -------------- -------------- -------------- -------------- -------------- -------------- ------------ ---- ------------ ---- ----- ------- ------- ------- --------\n",
       "HESS J0232+202 02 32 53.2 +20 16 21       5        5           --           --             0        D                2007A&A...475L...9A  gamma 38.22170000  20.27250000                1 J0232.8+2016     1  38.219  20.271   0.055   0.047    -4     7.2            0.4     4.9    2.03   PL                      P   bll 1ES 0229+200 Simbad J0232.8p2016   LC            0.23            0.29            0.18            0.05           0.25           0.11           0.46           0.31           0.42           0.22   0.00294256      1ES 0229+200  bll   HSP   0.139   2.025   0.150    49.16"
      ]
     },
     "execution_count": 24,
     "metadata": {},
     "output_type": "execute_result"
    }
   ],
   "source": [
    "hess_simbad_fermi_AGN = join(\n",
    "    hess_simbad_fermi,\n",
    "    table10,\n",
    "    keys=\"_3FGL\",\n",
    "    join_type=\"inner\",\n",
    "    metadata_conflicts=\"silent\",\n",
    ")\n",
    "print(\"Number of matches :\", len(hess_simbad_fermi_AGN))\n",
    "hess_simbad_fermi_AGN[0]"
   ]
  },
  {
   "cell_type": "markdown",
   "metadata": {},
   "source": [
    "There are **5 AGNs** ! Let's have a look at their properties and see how they compare with the rest of the population. "
   ]
  },
  {
   "cell_type": "markdown",
   "metadata": {},
   "source": [
    "## Step #4 - Searchig for relative locations in a \"high-energy color-color diagram\"\n",
    "*How to trace various object properties of a given catalogue against each other and to point out specific sub-samples in the resulting plot.*\n",
    "\n",
    "The next goal is to look for correlations between different high-energy gamma-ray colors of the HESS sources that are also detected by Fermi. In stellar astronomy, tracing optical colors against each other gives a rather robust classification of different star types without having to do (more ambitious) spectroscopy. In the HESS-FERMI catalogue there is not much spectroscopic information available, but the different fluxes in F1—F5 coming from the 3FGL part can be used to eventually discriminate different sub-samples of the catalogue. Since a color is basically an observed flux ratio between two bands, constructing a color-color diagram has the great advantage to be independent of the distance to the objects.\n",
    "\n",
    "The “color-color” diagram to be computed involves the following high-energy gamma-ray fluxes as measured by Fermi-LAT:\n",
    "- F1: flux over 100 – 300 MeV\n",
    "- F2: flux over 300 - 1000 MeV\n",
    "- F3: flux over 1 - 3 GeV\n",
    "- F4: flux over 3 - 10 GeV\n",
    "- F5: flux over 10 - 100 GeV\n"
   ]
  },
  {
   "cell_type": "markdown",
   "metadata": {},
   "source": [
    "Merge all the tables in one, but keeping their origin by adding a column with name **Source**. Add a column for the object type **TYPE**. "
   ]
  },
  {
   "cell_type": "code",
   "execution_count": 25,
   "metadata": {},
   "outputs": [],
   "source": [
    "# Create a column with name Source to know  which will contain types as \"All\" for FERMI,\n",
    "FERMI[\"Source\"] = \"FGL3\"\n",
    "hess_simbad_fermi[\"Source\"] = \"HESS-Simbad-3FGL\"\n",
    "hess_simbad_fermi_AGN[\"Source\"] = \"AGNs-3LAC\""
   ]
  },
  {
   "cell_type": "code",
   "execution_count": 26,
   "metadata": {},
   "outputs": [],
   "source": [
    "# Create a column with name TYPE which will contain types as \"All\" for FERMI,\n",
    "# Have to change to str since OTYPE is of object type\n",
    "FERMI[\"TYPE\"] = \"ALL\"\n",
    "hess_simbad_fermi[\"TYPE\"] = hess_simbad_fermi[\"OTYPE\"].astype(str)\n",
    "hess_simbad_fermi_AGN[\"TYPE\"] = \"AGN\""
   ]
  },
  {
   "cell_type": "code",
   "execution_count": 27,
   "metadata": {},
   "outputs": [],
   "source": [
    "# Merge the tables vertically using vstack\n",
    "Data = vstack(\n",
    "    [FERMI, hess_simbad_fermi, hess_simbad_fermi_AGN], metadata_conflicts=\"silent\"\n",
    ")"
   ]
  },
  {
   "cell_type": "code",
   "execution_count": 28,
   "metadata": {},
   "outputs": [],
   "source": [
    "# Create two new columns with the flux ratios\n",
    "Data[\"F2_F1\"] = Data[\"F2\"] / Data[\"F1\"]\n",
    "Data[\"F4_F3\"] = Data[\"F4\"] / Data[\"F3\"]"
   ]
  },
  {
   "cell_type": "markdown",
   "metadata": {},
   "source": [
    "Save the file into for instance csv format and into a Panda kind of table to be able to use Plotly"
   ]
  },
  {
   "cell_type": "code",
   "execution_count": 29,
   "metadata": {
    "scrolled": true
   },
   "outputs": [],
   "source": [
    "# Write Table to csv format and to panda format\n",
    "Data.write(\"Data\" / Path(\"Data_FERMI-HESS-SIMBAD-AGN.csv\"), overwrite=True)\n",
    "Data = Data.to_pandas()"
   ]
  },
  {
   "cell_type": "markdown",
   "metadata": {},
   "source": [
    "And now lets plot using Plotly:\n",
    "- Flux ratios F2/F1 vs F4/F3\n",
    "- In a log. scale \n",
    "- Color coded according to the Source \n",
    "- Using fancy markers \n",
    "- Adding a legend"
   ]
  },
  {
   "cell_type": "code",
   "execution_count": 30,
   "metadata": {},
   "outputs": [
    {
     "data": {
      "application/vnd.code.notebook.error": {
       "message": "Mime type rendering requires nbformat>=4.2.0 but it is not installed",
       "name": "ValueError",
       "stack": "\u001b[0;31m---------------------------------------------------------------------------\u001b[0m\n\u001b[0;31mValueError\u001b[0m                                Traceback (most recent call last)\nCell \u001b[0;32mIn[30], line 14\u001b[0m\n\u001b[1;32m      1\u001b[0m fig \u001b[39m=\u001b[39m px\u001b[39m.\u001b[39mscatter(\n\u001b[1;32m      2\u001b[0m     Data,\n\u001b[1;32m      3\u001b[0m     x\u001b[39m=\u001b[39m\u001b[39m\"\u001b[39m\u001b[39mF2_F1\u001b[39m\u001b[39m\"\u001b[39m,\n\u001b[0;32m   (...)\u001b[0m\n\u001b[1;32m      8\u001b[0m     hover_name\u001b[39m=\u001b[39m\u001b[39m\"\u001b[39m\u001b[39mTYPE\u001b[39m\u001b[39m\"\u001b[39m,\n\u001b[1;32m      9\u001b[0m )\n\u001b[1;32m     10\u001b[0m fig\u001b[39m.\u001b[39mupdate_traces(\n\u001b[1;32m     11\u001b[0m     marker\u001b[39m=\u001b[39m{\u001b[39m\"\u001b[39m\u001b[39msize\u001b[39m\u001b[39m\"\u001b[39m: \u001b[39m12\u001b[39m, \u001b[39m\"\u001b[39m\u001b[39mline\u001b[39m\u001b[39m\"\u001b[39m: {\u001b[39m\"\u001b[39m\u001b[39mwidth\u001b[39m\u001b[39m\"\u001b[39m: \u001b[39m2\u001b[39m, \u001b[39m\"\u001b[39m\u001b[39mcolor\u001b[39m\u001b[39m\"\u001b[39m: \u001b[39m\"\u001b[39m\u001b[39mDarkSlateGrey\u001b[39m\u001b[39m\"\u001b[39m}},\n\u001b[1;32m     12\u001b[0m     selector\u001b[39m=\u001b[39m{\u001b[39m\"\u001b[39m\u001b[39mmode\u001b[39m\u001b[39m\"\u001b[39m: \u001b[39m\"\u001b[39m\u001b[39mmarkers\u001b[39m\u001b[39m\"\u001b[39m},\n\u001b[1;32m     13\u001b[0m )\n\u001b[0;32m---> 14\u001b[0m fig\u001b[39m.\u001b[39;49mshow()\n\nFile \u001b[0;32m~/miniconda3/envs/cds-tutos/lib/python3.10/site-packages/plotly/basedatatypes.py:3398\u001b[0m, in \u001b[0;36mBaseFigure.show\u001b[0;34m(self, *args, **kwargs)\u001b[0m\n\u001b[1;32m   3365\u001b[0m \u001b[39m\u001b[39m\u001b[39m\"\"\"\u001b[39;00m\n\u001b[1;32m   3366\u001b[0m \u001b[39mShow a figure using either the default renderer(s) or the renderer(s)\u001b[39;00m\n\u001b[1;32m   3367\u001b[0m \u001b[39mspecified by the renderer argument\u001b[39;00m\n\u001b[0;32m   (...)\u001b[0m\n\u001b[1;32m   3394\u001b[0m \u001b[39mNone\u001b[39;00m\n\u001b[1;32m   3395\u001b[0m \u001b[39m\"\"\"\u001b[39;00m\n\u001b[1;32m   3396\u001b[0m \u001b[39mimport\u001b[39;00m \u001b[39mplotly\u001b[39;00m\u001b[39m.\u001b[39;00m\u001b[39mio\u001b[39;00m \u001b[39mas\u001b[39;00m \u001b[39mpio\u001b[39;00m\n\u001b[0;32m-> 3398\u001b[0m \u001b[39mreturn\u001b[39;00m pio\u001b[39m.\u001b[39;49mshow(\u001b[39mself\u001b[39;49m, \u001b[39m*\u001b[39;49margs, \u001b[39m*\u001b[39;49m\u001b[39m*\u001b[39;49mkwargs)\n\nFile \u001b[0;32m~/miniconda3/envs/cds-tutos/lib/python3.10/site-packages/plotly/io/_renderers.py:396\u001b[0m, in \u001b[0;36mshow\u001b[0;34m(fig, renderer, validate, **kwargs)\u001b[0m\n\u001b[1;32m    391\u001b[0m         \u001b[39mraise\u001b[39;00m \u001b[39mValueError\u001b[39;00m(\n\u001b[1;32m    392\u001b[0m             \u001b[39m\"\u001b[39m\u001b[39mMime type rendering requires ipython but it is not installed\u001b[39m\u001b[39m\"\u001b[39m\n\u001b[1;32m    393\u001b[0m         )\n\u001b[1;32m    395\u001b[0m     \u001b[39mif\u001b[39;00m \u001b[39mnot\u001b[39;00m nbformat \u001b[39mor\u001b[39;00m LooseVersion(nbformat\u001b[39m.\u001b[39m__version__) \u001b[39m<\u001b[39m LooseVersion(\u001b[39m\"\u001b[39m\u001b[39m4.2.0\u001b[39m\u001b[39m\"\u001b[39m):\n\u001b[0;32m--> 396\u001b[0m         \u001b[39mraise\u001b[39;00m \u001b[39mValueError\u001b[39;00m(\n\u001b[1;32m    397\u001b[0m             \u001b[39m\"\u001b[39m\u001b[39mMime type rendering requires nbformat>=4.2.0 but it is not installed\u001b[39m\u001b[39m\"\u001b[39m\n\u001b[1;32m    398\u001b[0m         )\n\u001b[1;32m    400\u001b[0m     ipython_display\u001b[39m.\u001b[39mdisplay(bundle, raw\u001b[39m=\u001b[39m\u001b[39mTrue\u001b[39;00m)\n\u001b[1;32m    402\u001b[0m \u001b[39m# external renderers\u001b[39;00m\n\n\u001b[0;31mValueError\u001b[0m: Mime type rendering requires nbformat>=4.2.0 but it is not installed"
      }
     },
     "metadata": {},
     "output_type": "display_data"
    }
   ],
   "source": [
    "fig = px.scatter(\n",
    "    Data,\n",
    "    x=\"F2_F1\",\n",
    "    y=\"F4_F3\",\n",
    "    log_x=True,\n",
    "    log_y=True,\n",
    "    color=\"Source\",\n",
    "    hover_name=\"TYPE\",\n",
    ")\n",
    "fig.update_traces(\n",
    "    marker={\"size\": 12, \"line\": {\"width\": 2, \"color\": \"DarkSlateGrey\"}},\n",
    "    selector={\"mode\": \"markers\"},\n",
    ")\n",
    "fig.show()"
   ]
  },
  {
   "cell_type": "markdown",
   "metadata": {},
   "source": [
    "Note that when you move around with the mouse you get the values for each of the sources. You can activate or deactivate a type of Source in the plot by selecting it in the legend. You can zoom in and out, you can export as a png... and plenty more. Play a little bit with it. \n",
    "\n",
    "Do the same as before but now color coded by object type. "
   ]
  },
  {
   "cell_type": "code",
   "execution_count": 31,
   "metadata": {},
   "outputs": [
    {
     "data": {
      "application/vnd.code.notebook.error": {
       "message": "Mime type rendering requires nbformat>=4.2.0 but it is not installed",
       "name": "ValueError",
       "stack": "\u001b[0;31m---------------------------------------------------------------------------\u001b[0m\n\u001b[0;31mValueError\u001b[0m                                Traceback (most recent call last)\nCell \u001b[0;32mIn[31], line 7\u001b[0m\n\u001b[1;32m      2\u001b[0m fig \u001b[39m=\u001b[39m px\u001b[39m.\u001b[39mscatter(Data, \u001b[39m\"\u001b[39m\u001b[39mF2_F1\u001b[39m\u001b[39m\"\u001b[39m, y\u001b[39m=\u001b[39m\u001b[39m\"\u001b[39m\u001b[39mF4_F3\u001b[39m\u001b[39m\"\u001b[39m, log_x\u001b[39m=\u001b[39m\u001b[39mTrue\u001b[39;00m, log_y\u001b[39m=\u001b[39m\u001b[39mTrue\u001b[39;00m, color\u001b[39m=\u001b[39m\u001b[39m\"\u001b[39m\u001b[39mTYPE\u001b[39m\u001b[39m\"\u001b[39m)\n\u001b[1;32m      3\u001b[0m fig\u001b[39m.\u001b[39mupdate_traces(\n\u001b[1;32m      4\u001b[0m     marker\u001b[39m=\u001b[39m{\u001b[39m\"\u001b[39m\u001b[39msize\u001b[39m\u001b[39m\"\u001b[39m: \u001b[39m12\u001b[39m, \u001b[39m\"\u001b[39m\u001b[39mline\u001b[39m\u001b[39m\"\u001b[39m: {\u001b[39m\"\u001b[39m\u001b[39mwidth\u001b[39m\u001b[39m\"\u001b[39m: \u001b[39m2\u001b[39m, \u001b[39m\"\u001b[39m\u001b[39mcolor\u001b[39m\u001b[39m\"\u001b[39m: \u001b[39m\"\u001b[39m\u001b[39mDarkSlateGrey\u001b[39m\u001b[39m\"\u001b[39m}},\n\u001b[1;32m      5\u001b[0m     selector\u001b[39m=\u001b[39m{\u001b[39m\"\u001b[39m\u001b[39mmode\u001b[39m\u001b[39m\"\u001b[39m: \u001b[39m\"\u001b[39m\u001b[39mmarkers\u001b[39m\u001b[39m\"\u001b[39m},\n\u001b[1;32m      6\u001b[0m )\n\u001b[0;32m----> 7\u001b[0m fig\u001b[39m.\u001b[39;49mshow()\n\nFile \u001b[0;32m~/miniconda3/envs/cds-tutos/lib/python3.10/site-packages/plotly/basedatatypes.py:3398\u001b[0m, in \u001b[0;36mBaseFigure.show\u001b[0;34m(self, *args, **kwargs)\u001b[0m\n\u001b[1;32m   3365\u001b[0m \u001b[39m\u001b[39m\u001b[39m\"\"\"\u001b[39;00m\n\u001b[1;32m   3366\u001b[0m \u001b[39mShow a figure using either the default renderer(s) or the renderer(s)\u001b[39;00m\n\u001b[1;32m   3367\u001b[0m \u001b[39mspecified by the renderer argument\u001b[39;00m\n\u001b[0;32m   (...)\u001b[0m\n\u001b[1;32m   3394\u001b[0m \u001b[39mNone\u001b[39;00m\n\u001b[1;32m   3395\u001b[0m \u001b[39m\"\"\"\u001b[39;00m\n\u001b[1;32m   3396\u001b[0m \u001b[39mimport\u001b[39;00m \u001b[39mplotly\u001b[39;00m\u001b[39m.\u001b[39;00m\u001b[39mio\u001b[39;00m \u001b[39mas\u001b[39;00m \u001b[39mpio\u001b[39;00m\n\u001b[0;32m-> 3398\u001b[0m \u001b[39mreturn\u001b[39;00m pio\u001b[39m.\u001b[39;49mshow(\u001b[39mself\u001b[39;49m, \u001b[39m*\u001b[39;49margs, \u001b[39m*\u001b[39;49m\u001b[39m*\u001b[39;49mkwargs)\n\nFile \u001b[0;32m~/miniconda3/envs/cds-tutos/lib/python3.10/site-packages/plotly/io/_renderers.py:396\u001b[0m, in \u001b[0;36mshow\u001b[0;34m(fig, renderer, validate, **kwargs)\u001b[0m\n\u001b[1;32m    391\u001b[0m         \u001b[39mraise\u001b[39;00m \u001b[39mValueError\u001b[39;00m(\n\u001b[1;32m    392\u001b[0m             \u001b[39m\"\u001b[39m\u001b[39mMime type rendering requires ipython but it is not installed\u001b[39m\u001b[39m\"\u001b[39m\n\u001b[1;32m    393\u001b[0m         )\n\u001b[1;32m    395\u001b[0m     \u001b[39mif\u001b[39;00m \u001b[39mnot\u001b[39;00m nbformat \u001b[39mor\u001b[39;00m LooseVersion(nbformat\u001b[39m.\u001b[39m__version__) \u001b[39m<\u001b[39m LooseVersion(\u001b[39m\"\u001b[39m\u001b[39m4.2.0\u001b[39m\u001b[39m\"\u001b[39m):\n\u001b[0;32m--> 396\u001b[0m         \u001b[39mraise\u001b[39;00m \u001b[39mValueError\u001b[39;00m(\n\u001b[1;32m    397\u001b[0m             \u001b[39m\"\u001b[39m\u001b[39mMime type rendering requires nbformat>=4.2.0 but it is not installed\u001b[39m\u001b[39m\"\u001b[39m\n\u001b[1;32m    398\u001b[0m         )\n\u001b[1;32m    400\u001b[0m     ipython_display\u001b[39m.\u001b[39mdisplay(bundle, raw\u001b[39m=\u001b[39m\u001b[39mTrue\u001b[39;00m)\n\u001b[1;32m    402\u001b[0m \u001b[39m# external renderers\u001b[39;00m\n\n\u001b[0;31mValueError\u001b[0m: Mime type rendering requires nbformat>=4.2.0 but it is not installed"
      }
     },
     "metadata": {},
     "output_type": "display_data"
    }
   ],
   "source": [
    "# Plot same thing but color coded by the TYPE of object\n",
    "fig = px.scatter(Data, \"F2_F1\", y=\"F4_F3\", log_x=True, log_y=True, color=\"TYPE\")\n",
    "fig.update_traces(\n",
    "    marker={\"size\": 12, \"line\": {\"width\": 2, \"color\": \"DarkSlateGrey\"}},\n",
    "    selector={\"mode\": \"markers\"},\n",
    ")\n",
    "fig.show()"
   ]
  },
  {
   "cell_type": "markdown",
   "metadata": {},
   "source": [
    "## Step #5 – Display the location of interesting sources and search multi-wavelength data around them\n",
    "\n",
    "*How to obtain multi-wavelength images for the source you are interested in.* \n",
    "\n",
    "After isolating the 5 SIMBAD-confirmed BL Lac objects on the gamma-ray “color-color” diagram, this last step focuses on one particular object: **PKS 2155-304, a peculiar BL Lac object known to be very variable on a wide spectral range and to show recurrent outbursts**. A BL Lac object is a sub-type of active galactic nuclei, where the central engine around the accreting supermassive black hole launches magnetized, ballistic jets that reach out to kiloparsec scales while being nearly aligned with the line of sight of the observer. The emission from the jets is modeled as relativistically beamed synchrotron-self-Compton (SSC) emission produced in the hot plasma of the ejected jet material. The very hot electrons produce synchrotron emission that peaks in the radio band and then the very same electrons comptonize the synchrotron photons and up-scatter them to gamma-rays and beyond. However, in reality the question of the seed photons and the structure of the jet are still under investigation. A simple SSC interpretation of the broad band spectrum is challenged by the partially correlated variability seen between different spectral bands.\n",
    "\n",
    "Broad-band spectrum reaching from the radio to the high-energy band\n",
    " (H.E.S.S., Fermi-LAT collaborations, ApJ 696, L150)\n",
    " \n",
    "![SED](Data/images/SED.png)\n",
    "\n",
    "In the following, this tutorial shows how to obtain multi-waveband imaging for this source (PKS 2155-304).\n",
    "\n",
    "Now, let's plot again AladinLite with the catalog of AGNs on top on the Fermi image and centering around PKS 2155-30 and setting a field of view of 10 deg."
   ]
  },
  {
   "cell_type": "code",
   "execution_count": 32,
   "metadata": {},
   "outputs": [
    {
     "data": {
      "application/vnd.jupyter.widget-view+json": {
       "model_id": "458457ef2ef04912b4f38228e34fb98c",
       "version_major": 2,
       "version_minor": 0
      },
      "text/plain": [
       "Aladin(fov=10.0, options=['allow_full_zoomout', 'coo_frame', 'fov', 'full_screen', 'log', 'overlay_survey', 'o…"
      ]
     },
     "execution_count": 32,
     "metadata": {},
     "output_type": "execute_result"
    }
   ],
   "source": [
    "obj = \"PKS 2155-304\"\n",
    "aladin = ipyal.Aladin(target=obj, survey=\"P/Fermi/color\", fov=10)\n",
    "aladin"
   ]
  },
  {
   "cell_type": "code",
   "execution_count": 33,
   "metadata": {},
   "outputs": [
    {
     "name": "stderr",
     "output_type": "stream",
     "text": [
      "/home/manon.marchand/miniconda3/envs/cds-tutos/lib/python3.10/site-packages/jupyter_client/session.py:718: UserWarning:\n",
      "\n",
      "Message serialization failed with:\n",
      "Out of range float values are not JSON compliant\n",
      "Supporting this message is deprecated in jupyter-client 7, please make sure your message is JSON-compliant\n",
      "\n"
     ]
    }
   ],
   "source": [
    "aladin.add_table(hess_simbad_fermi)\n",
    "aladin.add_table(hess_simbad_fermi_AGN)"
   ]
  },
  {
   "cell_type": "code",
   "execution_count": 34,
   "metadata": {
    "scrolled": true,
    "tags": [
     "output_scroll"
    ]
   },
   "outputs": [
    {
     "name": "stdout",
     "output_type": "stream",
     "text": [
      "   _RAJ2000      _DEJ2000            _tabname          ... sed_eflux sed_filter\n",
      "     deg           deg                                 ...     Jy              \n",
      "------------- ------------- -------------------------- ... --------- ----------\n",
      "329.716940600 -30.225596400                  I/289/out ...        --   2MASS:Ks\n",
      "329.716940600 -30.225596400                  I/289/out ...        --    2MASS:H\n",
      "329.716940600 -30.225596400                  I/289/out ...        --    2MASS:J\n",
      "329.716940600 -30.225596400                  I/297/out ...        --   2MASS:Ks\n",
      "329.716940600 -30.225596400                  I/297/out ...        --    2MASS:H\n",
      "329.716940600 -30.225596400                  I/297/out ...        --    2MASS:J\n",
      "329.716983000 -30.225589000                  I/305/out ...     0.024  POSS-II:i\n",
      "329.716983000 -30.225589000                  I/305/out ...     0.012  POSS-II:F\n",
      "329.716983000 -30.225589000                  I/305/out ...    0.0088  POSS-II:J\n",
      "329.716983000 -30.225589000                  I/305/out ...   0.00084  Johnson:B\n",
      "          ...           ...                        ... ...       ...        ...\n",
      "329.716916700 -30.225611100  J/other/NewA/11.27/table1 ...    0.0013   2MASS:Ks\n",
      "329.716916700 -30.225611100  J/other/NewA/11.27/table1 ...    0.0013    2MASS:H\n",
      "329.716916700 -30.225611100  J/other/NewA/11.27/table1 ...    0.0011    2MASS:J\n",
      "329.716666700 -30.225555600  J/other/NewA/11.557/BLLac ...        --   2MASS:Ks\n",
      "329.716666700 -30.225555600  J/other/NewA/11.557/BLLac ...        --    2MASS:H\n",
      "329.716666700 -30.225555600  J/other/NewA/11.557/BLLac ...        --    2MASS:J\n",
      "329.716916700 -30.225583300 J/other/NewA/16.503/table1 ...    0.0013   2MASS:Ks\n",
      "329.716916700 -30.225583300 J/other/NewA/16.503/table1 ...    0.0013    2MASS:H\n",
      "329.716916700 -30.225583300 J/other/NewA/16.503/table1 ...    0.0011    2MASS:J\n",
      "329.716938100 -30.225588300 J/other/AstBu/70.264/table ...     0.061   :=4.8GHz\n",
      "Length = 1301 rows\n"
     ]
    }
   ],
   "source": [
    "sc = SkyCoord.from_name(obj)\n",
    "sed_url = f\"https://vizier.cds.unistra.fr/viz-bin/sed?-c={sc.icrs.ra.deg},{sc.icrs.dec.deg}&-c.rs=5\"\n",
    "sed = Table.read(sed_url, format=\"votable\")\n",
    "\n",
    "sed.pprint()"
   ]
  },
  {
   "cell_type": "code",
   "execution_count": 35,
   "metadata": {},
   "outputs": [
    {
     "data": {
      "application/vnd.plotly.v1+json": {
       "config": {
        "plotlyServerURL": "https://plot.ly"
       },
       "data": [
        {
         "hovertemplate": "_tabname=I/289/out<br>lambda=%{x}<br>nufnu=%{y}<extra></extra>",
         "legendgroup": "I/289/out",
         "marker": {
          "color": "#636efa",
          "line": {
           "color": "DarkSlateGrey",
           "width": 1
          },
          "size": 10,
          "symbol": "circle"
         },
         "mode": "markers",
         "name": "I/289/out",
         "showlegend": true,
         "type": "scattergl",
         "x": [
          21652.83291230603,
          16506.189821182943,
          12398.743593982477
         ],
         "xaxis": "x",
         "y": [
          8.271435142867267e-14,
          9.523700071498752e-14,
          1.0525259697139263e-13
         ],
         "yaxis": "y"
        },
        {
         "hovertemplate": "_tabname=I/297/out<br>lambda=%{x}<br>nufnu=%{y}<extra></extra>",
         "legendgroup": "I/297/out",
         "marker": {
          "color": "#EF553B",
          "line": {
           "color": "DarkSlateGrey",
           "width": 1
          },
          "size": 10,
          "symbol": "circle"
         },
         "mode": "markers",
         "name": "I/297/out",
         "showlegend": true,
         "type": "scattergl",
         "x": [
          21652.83291230603,
          16506.189821182943,
          12398.743593982477
         ],
         "xaxis": "x",
         "y": [
          8.271435142867267e-14,
          9.523700071498752e-14,
          1.0525259697139263e-13
         ],
         "yaxis": "y"
        },
        {
         "hovertemplate": "_tabname=I/305/out<br>lambda=%{x}<br>nufnu=%{y}<extra></extra>",
         "legendgroup": "I/305/out",
         "marker": {
          "color": "#00cc96",
          "line": {
           "color": "DarkSlateGrey",
           "width": 1
          },
          "size": 10,
          "symbol": "circle"
         },
         "mode": "markers",
         "name": "I/305/out",
         "showlegend": true,
         "type": "scattergl",
         "x": [
          7842.317143305276,
          6404.372051320368,
          4683.255799431765,
          4445.102978218995
         ],
         "xaxis": "x",
         "y": [
          2.3220177744627e-13,
          1.4287115160543472e-13,
          1.9537690219543875e-13,
          1.3025570186553523e-14
         ],
         "yaxis": "y"
        },
        {
         "hovertemplate": "_tabname=I/312/sample<br>lambda=%{x}<br>nufnu=%{y}<extra></extra>",
         "legendgroup": "I/312/sample",
         "marker": {
          "color": "#ab63fa",
          "line": {
           "color": "DarkSlateGrey",
           "width": 1
          },
          "size": 10,
          "symbol": "circle"
         },
         "mode": "markers",
         "name": "I/312/sample",
         "showlegend": true,
         "type": "scattergl",
         "x": [
          21652.83291230603,
          16506.189821182943,
          12398.743593982477
         ],
         "xaxis": "x",
         "y": [
          8.271435142867267e-14,
          9.523700071498752e-14,
          1.0525259697139263e-13
         ],
         "yaxis": "y"
        },
        {
         "hovertemplate": "_tabname=I/317/sample<br>lambda=%{x}<br>nufnu=%{y}<extra></extra>",
         "legendgroup": "I/317/sample",
         "marker": {
          "color": "#FFA15A",
          "line": {
           "color": "DarkSlateGrey",
           "width": 1
          },
          "size": 10,
          "symbol": "circle"
         },
         "mode": "markers",
         "name": "I/317/sample",
         "showlegend": true,
         "type": "scattergl",
         "x": [
          21652.83291230603,
          16506.189821182943,
          12398.743593982477
         ],
         "xaxis": "x",
         "y": [
          8.271435142867267e-14,
          9.523700071498752e-14,
          1.0525259697139263e-13
         ],
         "yaxis": "y"
        },
        {
         "hovertemplate": "_tabname=I/320/spm4<br>lambda=%{x}<br>nufnu=%{y}<extra></extra>",
         "legendgroup": "I/320/spm4",
         "marker": {
          "color": "#19d3f3",
          "line": {
           "color": "DarkSlateGrey",
           "width": 1
          },
          "size": 10,
          "symbol": "circle"
         },
         "mode": "markers",
         "name": "I/320/spm4",
         "showlegend": true,
         "type": "scattergl",
         "x": [
          21652.83291230603,
          16506.189821182943,
          12398.743593982477,
          5540.882477882645,
          4445.102978218995
         ],
         "xaxis": "x",
         "y": [
          8.271435142867267e-14,
          9.523700071498752e-14,
          1.0525259697139263e-13,
          6.82201826099772e-15,
          2.551121979748132e-15
         ],
         "yaxis": "y"
        },
        {
         "hovertemplate": "_tabname=I/322A/out<br>lambda=%{x}<br>nufnu=%{y}<extra></extra>",
         "legendgroup": "I/322A/out",
         "marker": {
          "color": "#FF6692",
          "line": {
           "color": "DarkSlateGrey",
           "width": 1
          },
          "size": 10,
          "symbol": "circle"
         },
         "mode": "markers",
         "name": "I/322A/out",
         "showlegend": true,
         "type": "scattergl",
         "x": [
          21652.83291230603,
          16506.189821182943,
          12398.743593982477
         ],
         "xaxis": "x",
         "y": [
          8.271435142867267e-14,
          9.523700071498752e-14,
          1.0525259697139263e-13
         ],
         "yaxis": "y"
        },
        {
         "hovertemplate": "_tabname=I/327/cmc15<br>lambda=%{x}<br>nufnu=%{y}<extra></extra>",
         "legendgroup": "I/327/cmc15",
         "marker": {
          "color": "#B6E880",
          "line": {
           "color": "DarkSlateGrey",
           "width": 1
          },
          "size": 10,
          "symbol": "circle"
         },
         "mode": "markers",
         "name": "I/327/cmc15",
         "showlegend": true,
         "type": "scattergl",
         "x": [
          21652.83291230603,
          16506.189821182943,
          12398.743593982477
         ],
         "xaxis": "x",
         "y": [
          8.271435142867267e-14,
          9.523700071498752e-14,
          1.0525259697139263e-13
         ],
         "yaxis": "y"
        },
        {
         "hovertemplate": "_tabname=I/331/apop<br>lambda=%{x}<br>nufnu=%{y}<extra></extra>",
         "legendgroup": "I/331/apop",
         "marker": {
          "color": "#FF97FF",
          "line": {
           "color": "DarkSlateGrey",
           "width": 1
          },
          "size": 10,
          "symbol": "circle"
         },
         "mode": "markers",
         "name": "I/331/apop",
         "showlegend": true,
         "type": "scattergl",
         "x": [
          21652.83291230603,
          16506.189821182943,
          12398.743593982477
         ],
         "xaxis": "x",
         "y": [
          8.271435142867267e-14,
          9.523700071498752e-14,
          1.0525259697139263e-13
         ],
         "yaxis": "y"
        },
        {
         "hovertemplate": "_tabname=I/345/gaia2<br>lambda=%{x}<br>nufnu=%{y}<extra></extra>",
         "legendgroup": "I/345/gaia2",
         "marker": {
          "color": "#FECB52",
          "line": {
           "color": "DarkSlateGrey",
           "width": 1
          },
          "size": 10,
          "symbol": "circle"
         },
         "mode": "markers",
         "name": "I/345/gaia2",
         "showlegend": true,
         "type": "scattergl",
         "x": [
          7729.966503478486,
          6230.529595015576,
          5049.65494024575
         ],
         "xaxis": "x",
         "y": [
          4.269099976867438e-14,
          4.34794514765963e-14,
          4.711213185731322e-14
         ],
         "yaxis": "y"
        },
        {
         "hovertemplate": "_tabname=I/350/gaiaedr3<br>lambda=%{x}<br>nufnu=%{y}<extra></extra>",
         "legendgroup": "I/350/gaiaedr3",
         "marker": {
          "color": "#636efa",
          "line": {
           "color": "DarkSlateGrey",
           "width": 1
          },
          "size": 10,
          "symbol": "circle"
         },
         "mode": "markers",
         "name": "I/350/gaiaedr3",
         "showlegend": true,
         "type": "scattergl",
         "x": [
          7625.826131164209,
          5826.3740532142165,
          5039.475894506972
         ],
         "xaxis": "x",
         "y": [
          5.271559838205576e-14,
          5.457939839642495e-14,
          5.637490959372372e-14
         ],
         "yaxis": "y"
        },
        {
         "hovertemplate": "_tabname=I/353/gsc242<br>lambda=%{x}<br>nufnu=%{y}<extra></extra>",
         "legendgroup": "I/353/gsc242",
         "marker": {
          "color": "#EF553B",
          "line": {
           "color": "DarkSlateGrey",
           "width": 1
          },
          "size": 10,
          "symbol": "circle"
         },
         "mode": "markers",
         "name": "I/353/gsc242",
         "showlegend": true,
         "type": "scattergl",
         "x": [
          221059.6124088129,
          115678.26019896661,
          46032.03829865587,
          33523.29869259135,
          21652.83291230603,
          16506.189821182943,
          12398.743593982477,
          10190.909708539983,
          9024.184815305018,
          7640.1976264452705,
          6734.611412921475,
          6734.611412921475,
          6734.611412921475,
          6251.30235465722,
          4823.306215633944,
          3521.457413841675,
          12398.743593982477,
          10190.909708539983,
          9024.184815305018,
          7640.1976264452705
         ],
         "xaxis": "x",
         "y": [
          1.3978130016177893e-14,
          1.6883033820688726e-14,
          4.6597982175350194e-14,
          5.76315621122718e-14,
          2.7848549145273865e-14,
          9.523700071498752e-14,
          5.0327680137008434e-14,
          7.123995961397887e-14,
          8.377488010898233e-14,
          6.793018162660301e-14,
          3.0113095044810324e-14,
          5.6573419316299266e-14,
          3.683954247925431e-14,
          6.046740007866175e-14,
          8.272333849854768e-14,
          8.689584313556553e-14,
          3.7987720536766577e-16,
          2.549330720605212e-16,
          3.989279899222311e-16,
          3.160913070139941e-16
         ],
         "yaxis": "y"
        },
        {
         "hovertemplate": "_tabname=I/355/gaiadr3<br>lambda=%{x}<br>nufnu=%{y}<extra></extra>",
         "legendgroup": "I/355/gaiadr3",
         "marker": {
          "color": "#00cc96",
          "line": {
           "color": "DarkSlateGrey",
           "width": 1
          },
          "size": 10,
          "symbol": "circle"
         },
         "mode": "markers",
         "name": "I/355/gaiadr3",
         "showlegend": true,
         "type": "scattergl",
         "x": [
          7625.826131164209,
          5826.3740532142165,
          5039.475894506972
         ],
         "xaxis": "x",
         "y": [
          5.271559838205576e-14,
          5.457939839642495e-14,
          5.637490959372372e-14
         ],
         "yaxis": "y"
        },
        {
         "hovertemplate": "_tabname=I/358/varisum<br>lambda=%{x}<br>nufnu=%{y}<extra></extra>",
         "legendgroup": "I/358/varisum",
         "marker": {
          "color": "#ab63fa",
          "line": {
           "color": "DarkSlateGrey",
           "width": 1
          },
          "size": 10,
          "symbol": "circle"
         },
         "mode": "markers",
         "name": "I/358/varisum",
         "showlegend": true,
         "type": "scattergl",
         "x": [
          4022.795843110962
         ],
         "xaxis": "x",
         "y": [
          1.6630224531050772e-13
         ],
         "yaxis": "y"
        },
        {
         "hovertemplate": "_tabname=I/360/syntphot<br>lambda=%{x}<br>nufnu=%{y}<extra></extra>",
         "legendgroup": "I/360/syntphot",
         "marker": {
          "color": "#FFA15A",
          "line": {
           "color": "DarkSlateGrey",
           "width": 1
          },
          "size": 10,
          "symbol": "circle"
         },
         "mode": "markers",
         "name": "I/360/syntphot",
         "showlegend": true,
         "type": "scattergl",
         "x": [
          7891.414141414141,
          7640.1976264452705,
          7640.1976264452705,
          6473.469563903934,
          6251.30235465722,
          5473.453749315819,
          4823.306215633944,
          4363.001745200699,
          3521.457413841675
         ],
         "xaxis": "x",
         "y": [
          5.930495839118959e-14,
          6.282560298405588e-14,
          5.929166167341173e-14,
          5.9319038501475e-14,
          6.094729926344008e-14,
          6.467580243386328e-14,
          6.903977857269347e-14,
          7.151040019467473e-14,
          5.963440184071661e-14
         ],
         "yaxis": "y"
        },
        {
         "hovertemplate": "_tabname=II/246/out<br>lambda=%{x}<br>nufnu=%{y}<extra></extra>",
         "legendgroup": "II/246/out",
         "marker": {
          "color": "#19d3f3",
          "line": {
           "color": "DarkSlateGrey",
           "width": 1
          },
          "size": 10,
          "symbol": "circle"
         },
         "mode": "markers",
         "name": "II/246/out",
         "showlegend": true,
         "type": "scattergl",
         "x": [
          21915.406530791144,
          21915.406530791144,
          16311.439756415832,
          16311.439756415832,
          12508.86044281366,
          12508.86044281366
         ],
         "xaxis": "x",
         "y": [
          8.144955187663436e-14,
          7.898553096279503e-14,
          9.747759884893894e-14,
          9.545447885990144e-14,
          1.0984214102923871e-13,
          1.0648451779857279e-13
         ],
         "yaxis": "y"
        },
        {
         "hovertemplate": "_tabname=II/297/irc<br>lambda=%{x}<br>nufnu=%{y}<extra></extra>",
         "legendgroup": "II/297/irc",
         "marker": {
          "color": "#FF6692",
          "line": {
           "color": "DarkSlateGrey",
           "width": 1
          },
          "size": 10,
          "symbol": "circle"
         },
         "mode": "markers",
         "name": "II/297/irc",
         "showlegend": true,
         "type": "scattergl",
         "x": [
          184026.4998159735,
          86159.85525144316
         ],
         "xaxis": "x",
         "y": [
          4.352633832871914e-14,
          7.625360887929797e-14
         ],
         "yaxis": "y"
        },
        {
         "hovertemplate": "_tabname=II/311/wise<br>lambda=%{x}<br>nufnu=%{y}<extra></extra>",
         "legendgroup": "II/311/wise",
         "marker": {
          "color": "#B6E880",
          "line": {
           "color": "DarkSlateGrey",
           "width": 1
          },
          "size": 10,
          "symbol": "circle"
         },
         "mode": "markers",
         "name": "II/311/wise",
         "showlegend": true,
         "type": "scattergl",
         "x": [
          221059.6124088129,
          115678.26019896661,
          46032.03829865587,
          33523.29869259135,
          21652.83291230603,
          16506.189821182943,
          12398.743593982477
         ],
         "xaxis": "x",
         "y": [
          1.3842419741153718e-14,
          1.6831166874915363e-14,
          3.4997364031076434e-14,
          4.179183068275452e-14,
          8.271435142867267e-14,
          9.523700071498752e-14,
          1.0525259697139263e-13
         ],
         "yaxis": "y"
        },
        {
         "hovertemplate": "_tabname=II/328/allwise<br>lambda=%{x}<br>nufnu=%{y}<extra></extra>",
         "legendgroup": "II/328/allwise",
         "marker": {
          "color": "#FF97FF",
          "line": {
           "color": "DarkSlateGrey",
           "width": 1
          },
          "size": 10,
          "symbol": "circle"
         },
         "mode": "markers",
         "name": "II/328/allwise",
         "showlegend": true,
         "type": "scattergl",
         "x": [
          221059.6124088129,
          115678.26019896661,
          46032.03829865587,
          33523.29869259135,
          21652.83291230603,
          16506.189821182943,
          12398.743593982477
         ],
         "xaxis": "x",
         "y": [
          1.3978130016177893e-14,
          1.6883033820688726e-14,
          4.6597982175350194e-14,
          5.76315621122718e-14,
          8.271435142867267e-14,
          9.523700071498752e-14,
          1.0525259697139263e-13
         ],
         "yaxis": "y"
        },
        {
         "hovertemplate": "_tabname=II/336/apass9<br>lambda=%{x}<br>nufnu=%{y}<extra></extra>",
         "legendgroup": "II/336/apass9",
         "marker": {
          "color": "#FECB52",
          "line": {
           "color": "DarkSlateGrey",
           "width": 1
          },
          "size": 10,
          "symbol": "circle"
         },
         "mode": "markers",
         "name": "II/336/apass9",
         "showlegend": true,
         "type": "scattergl",
         "x": [
          7640.1976264452705,
          6251.30235465722,
          5540.882477882645,
          4823.306215633944,
          4445.102978218995
         ],
         "xaxis": "x",
         "y": [
          6.125495833829046e-14,
          5.710810131579638e-14,
          5.739157831380144e-14,
          5.703556874524802e-14,
          5.918873127922416e-14
         ],
         "yaxis": "y"
        },
        {
         "hovertemplate": "_tabname=II/339/uvotssc1<br>lambda=%{x}<br>nufnu=%{y}<extra></extra>",
         "legendgroup": "II/339/uvotssc1",
         "marker": {
          "color": "#636efa",
          "line": {
           "color": "DarkSlateGrey",
           "width": 1
          },
          "size": 10,
          "symbol": "circle"
         },
         "mode": "markers",
         "name": "II/339/uvotssc1",
         "showlegend": true,
         "type": "scattergl",
         "x": [
          2601.9080659150045,
          5471.7566162657085,
          4395.0248318903,
          3467.406380027739,
          2601.9080659150045,
          2247.5277195085405,
          1929.3845263360988,
          5471.7566162657085,
          4395.0248318903,
          3467.406380027739,
          2601.9080659150045,
          2247.5277195085405,
          1929.3845263360988,
          4395.0248318903,
          2601.9080659150045,
          5471.7566162657085,
          4395.0248318903,
          3467.406380027739,
          2601.9080659150045,
          2247.5277195085405,
          1929.3845263360988,
          5471.7566162657085,
          4395.0248318903,
          2601.9080659150045,
          5471.7566162657085,
          4395.0248318903,
          3467.406380027739,
          2601.9080659150045,
          2247.5277195085405,
          1929.3845263360988,
          5471.7566162657085,
          4395.0248318903,
          3467.406380027739,
          2601.9080659150045,
          2247.5277195085405,
          1929.3845263360988,
          5471.7566162657085,
          4395.0248318903,
          3467.406380027739,
          2601.9080659150045,
          2247.5277195085405,
          1929.3845263360988,
          5471.7566162657085,
          4395.0248318903,
          2601.9080659150045,
          2247.5277195085405,
          1929.3845263360988,
          5471.7566162657085,
          4395.0248318903,
          3467.406380027739,
          2601.9080659150045,
          2247.5277195085405,
          1929.3845263360988,
          5471.7566162657085,
          4395.0248318903,
          3467.406380027739,
          2601.9080659150045,
          2247.5277195085405,
          1929.3845263360988,
          5471.7566162657085,
          2601.9080659150045,
          2247.5277195085405,
          5471.7566162657085,
          4395.0248318903,
          3467.406380027739,
          2601.9080659150045,
          2247.5277195085405,
          1929.3845263360988,
          5471.7566162657085,
          4395.0248318903,
          3467.406380027739,
          2601.9080659150045,
          2247.5277195085405,
          1929.3845263360988,
          5471.7566162657085,
          2601.9080659150045,
          2247.5277195085405,
          5471.7566162657085,
          4395.0248318903,
          3467.406380027739,
          2601.9080659150045,
          2247.5277195085405,
          1929.3845263360988,
          5471.7566162657085,
          2601.9080659150045,
          2247.5277195085405,
          1929.3845263360988,
          4395.0248318903,
          2601.9080659150045,
          1929.3845263360988,
          2601.9080659150045,
          5471.7566162657085,
          4395.0248318903,
          3467.406380027739,
          2601.9080659150045,
          2247.5277195085405,
          1929.3845263360988,
          5471.7566162657085,
          4395.0248318903,
          2601.9080659150045,
          2247.5277195085405,
          5471.7566162657085,
          4395.0248318903,
          3467.406380027739,
          2601.9080659150045,
          2247.5277195085405,
          1929.3845263360988,
          5471.7566162657085,
          2601.9080659150045,
          2247.5277195085405,
          2601.9080659150045,
          5471.7566162657085,
          4395.0248318903,
          3467.406380027739,
          2601.9080659150045,
          2247.5277195085405,
          1929.3845263360988,
          5471.7566162657085,
          4395.0248318903,
          3467.406380027739,
          2601.9080659150045,
          2247.5277195085405,
          1929.3845263360988,
          5471.7566162657085,
          4395.0248318903,
          3467.406380027739,
          2601.9080659150045,
          2247.5277195085405,
          1929.3845263360988,
          3467.406380027739,
          2601.9080659150045,
          5471.7566162657085,
          4395.0248318903,
          3467.406380027739,
          2601.9080659150045,
          2247.5277195085405,
          1929.3845263360988,
          5471.7566162657085,
          4395.0248318903,
          3467.406380027739,
          2601.9080659150045,
          2247.5277195085405,
          1929.3845263360988,
          5471.7566162657085,
          4395.0248318903,
          3467.406380027739,
          2601.9080659150045,
          2247.5277195085405,
          1929.3845263360988,
          5471.7566162657085,
          5471.7566162657085,
          4395.0248318903,
          3467.406380027739,
          2601.9080659150045,
          2247.5277195085405,
          1929.3845263360988,
          5471.7566162657085,
          4395.0248318903,
          3467.406380027739,
          2601.9080659150045,
          2247.5277195085405,
          1929.3845263360988,
          5471.7566162657085,
          2247.5277195085405,
          5471.7566162657085,
          2601.9080659150045,
          2247.5277195085405,
          5471.7566162657085,
          2601.9080659150045,
          2247.5277195085405,
          5471.7566162657085,
          5471.7566162657085,
          4395.0248318903,
          3467.406380027739,
          2601.9080659150045,
          2247.5277195085405,
          1929.3845263360988,
          5471.7566162657085,
          2601.9080659150045,
          2247.5277195085405,
          5471.7566162657085,
          2601.9080659150045,
          2247.5277195085405,
          5471.7566162657085,
          2601.9080659150045,
          2247.5277195085405,
          1929.3845263360988,
          2601.9080659150045,
          5471.7566162657085,
          4395.0248318903,
          3467.406380027739,
          2601.9080659150045,
          2247.5277195085405,
          1929.3845263360988,
          5471.7566162657085,
          2601.9080659150045,
          2247.5277195085405,
          5471.7566162657085,
          4395.0248318903,
          3467.406380027739,
          2601.9080659150045,
          2247.5277195085405,
          1929.3845263360988,
          5471.7566162657085,
          4395.0248318903,
          3467.406380027739,
          2601.9080659150045,
          2247.5277195085405,
          1929.3845263360988,
          5471.7566162657085,
          2601.9080659150045,
          2247.5277195085405,
          5471.7566162657085,
          2601.9080659150045,
          2247.5277195085405,
          5471.7566162657085,
          2601.9080659150045,
          2247.5277195085405,
          5471.7566162657085,
          2247.5277195085405,
          5471.7566162657085,
          2601.9080659150045,
          2247.5277195085405,
          1929.3845263360988,
          5471.7566162657085,
          4395.0248318903,
          2601.9080659150045,
          2247.5277195085405,
          1929.3845263360988,
          5471.7566162657085,
          2601.9080659150045,
          2247.5277195085405,
          5471.7566162657085,
          2601.9080659150045,
          2247.5277195085405,
          5471.7566162657085,
          2601.9080659150045,
          2247.5277195085405,
          5471.7566162657085,
          2601.9080659150045,
          2247.5277195085405
         ],
         "xaxis": "x",
         "y": [
          2.4212999673560265e-13,
          5.3730460637249054e-14,
          5.781537141529843e-14,
          5.805491887964308e-14,
          5.776529958937318e-14,
          6.019947843067348e-14,
          6.452834899211302e-14,
          5.976143060456962e-14,
          6.163787909327075e-14,
          6.627432103268803e-14,
          6.525979759637267e-14,
          7.074439792148769e-14,
          7.152540158713237e-14,
          1.7747340366169812e-13,
          1.8678600484505296e-13,
          1.271986383823678e-13,
          1.2900950698927045e-13,
          1.384320065751672e-13,
          1.533489972166717e-13,
          1.6284559685736896e-13,
          1.7725860298890622e-13,
          1.4529154828432948e-13,
          1.6382160142399371e-13,
          2.4443599281832576e-13,
          1.2939172486923635e-13,
          1.351528192676604e-13,
          1.470840079933405e-13,
          1.64878999106586e-13,
          1.7352400358021262e-13,
          1.8503310426324608e-13,
          1.250055621078238e-13,
          1.3310505274627358e-13,
          1.48814405053854e-13,
          1.6833800396882e-13,
          1.6551520475372672e-13,
          1.7881350034754725e-13,
          8.114396002450958e-14,
          8.873670183084906e-14,
          9.257640389353037e-14,
          9.350829793140293e-14,
          9.690647823177279e-14,
          1.0308987299585715e-13,
          1.5132251825165006e-13,
          1.5699570030514153e-13,
          2.0523399498313667e-13,
          2.0288960342109204e-13,
          2.2546049351245165e-13,
          9.156108764708043e-14,
          9.89755471520126e-14,
          1.081500016115606e-13,
          1.1091859627515078e-13,
          1.182632854618132e-13,
          1.2143768789386377e-13,
          8.004742188723758e-14,
          8.737151779280976e-14,
          9.171119730547071e-14,
          9.535310124047102e-14,
          9.917564307898283e-14,
          1.0340084812324494e-13,
          2.0121508519612253e-13,
          2.3751800457015636e-13,
          4.044444091096521e-13,
          6.524413150325418e-14,
          7.167194903371856e-14,
          7.518587636947632e-14,
          7.97876008367166e-14,
          8.275760237686336e-14,
          8.831831912649796e-14,
          5.482699877452106e-14,
          5.774711507409811e-14,
          6.264048156514765e-14,
          6.157020171638578e-14,
          6.513823874294759e-14,
          6.794913331791759e-14,
          1.7763948460780085e-13,
          2.4443599281832576e-13,
          3.991051933169365e-13,
          1.239090239705518e-13,
          1.2832691814880818e-13,
          1.4621879334747792e-13,
          1.5565500403754413e-13,
          1.6551520475372672e-13,
          1.7570370563026519e-13,
          1.748981290522963e-13,
          2.5250700058415535e-13,
          2.415988122522831e-13,
          2.923211957830936e-13,
          1.6723454562630507e-13,
          2.040809969417751e-13,
          2.316800974281505e-13,
          9.362360417842865e-14,
          9.430244320258499e-14,
          1.0853181634694338e-13,
          1.1247600232064725e-13,
          1.2106499836780132e-13,
          1.258716350235045e-13,
          1.374531639944762e-13,
          1.770912053268403e-13,
          1.692823248619214e-13,
          2.5711899274960163e-13,
          3.6306560481339697e-13,
          8.991628044117243e-14,
          9.351483007119969e-14,
          9.863280166313052e-14,
          1.0180989671498537e-13,
          1.0424787819199265e-13,
          1.0962045203894378e-13,
          1.8312217529416085e-13,
          2.3059999484568836e-13,
          3.123431915268302e-13,
          1.8678600484505296e-13,
          6.140623781047762e-14,
          6.559689945364372e-14,
          6.93890365473926e-14,
          7.102479854132981e-14,
          7.928712081350387e-14,
          7.914441167749465e-14,
          8.278877233657986e-14,
          9.214965239027515e-14,
          9.863280166313052e-14,
          1.0319349651224912e-13,
          1.066505178399384e-13,
          1.1273024675622583e-13,
          5.756834922386334e-14,
          6.013617601571606e-14,
          6.549563913233579e-14,
          6.698930002748967e-14,
          7.261311971955001e-14,
          7.587911853566766e-14,
          1.271844015084207e-13,
          1.4527800018899143e-13,
          1.3103653207514435e-13,
          1.4266130922697485e-13,
          1.4621879334747792e-13,
          1.7064400005154314e-13,
          1.7752839677780869e-13,
          1.9125269369781018e-13,
          1.1404016031045467e-13,
          1.174054839871824e-13,
          1.2804960003867748e-13,
          1.3374799829907717e-13,
          1.4816279693692924e-13,
          1.5548999652452768e-13,
          9.923687503263355e-14,
          1.0443627058994026e-13,
          1.081500016115606e-13,
          1.1875900228507818e-13,
          1.182632854618132e-13,
          1.219041614457965e-13,
          2.1821145696081224e-13,
          1.0910572848040612e-13,
          1.1604030630625785e-13,
          1.2112800373882056e-13,
          1.3028900417499244e-13,
          1.3748440264537931e-13,
          1.4227335449494423e-13,
          1.1020226661767811e-13,
          1.1262734938971699e-13,
          1.1766720155999066e-13,
          1.2221799640916288e-13,
          1.2840775568783285e-13,
          1.3823061267379672e-13,
          1.9628065336607397e-13,
          2.0822879435122015e-13,
          1.8970142454244197e-13,
          2.363650065287948e-13,
          4.164575887024403e-13,
          2.264355032026768e-13,
          2.582719907909632e-13,
          5.0055001989007e-13,
          2.0231162333339455e-13,
          1.0636438313722612e-13,
          1.1399252707064153e-13,
          1.2285840079933405e-13,
          1.3605400511994959e-13,
          1.4415840373933317e-13,
          1.5377961522247642e-13,
          1.9299103895425797e-13,
          2.4097699869424106e-13,
          3.523871980905533e-13,
          2.1053568999990823e-13,
          2.4212999673560265e-13,
          4.164575887024403e-13,
          1.858635308496654e-13,
          2.582719907909632e-13,
          2.415988122522831e-13,
          2.6122319068573416e-13,
          1.8102099316194654e-13,
          8.662665581703187e-14,
          9.351483007119969e-14,
          1.0036319872364403e-13,
          1.0965030272491277e-13,
          1.1145579713582994e-13,
          1.2112671276647598e-13,
          2.1108394885621967e-13,
          2.6288400443270805e-13,
          3.937660023868084e-13,
          1.282951765196398e-13,
          1.3378764158673585e-13,
          1.48814405053854e-13,
          1.6949100201018156e-13,
          1.7352400358021262e-13,
          1.8503310426324608e-13,
          5.976143060456962e-14,
          6.559689945364372e-14,
          7.233072283118964e-14,
          7.206250107381493e-14,
          7.42148794848472e-14,
          8.069930903613568e-14,
          2.0011854705885054e-13,
          2.4558899085968735e-13,
          3.6840479574352503e-13,
          1.7928428160138429e-13,
          2.3059999484568836e-13,
          3.2836078917980195e-13,
          1.9299103895425797e-13,
          2.8825000429525974e-13,
          5.085588062852621e-13,
          1.913462215360254e-13,
          3.65735200278461e-13,
          1.8367045457512142e-13,
          2.4328299477696423e-13,
          2.522771941125393e-13,
          2.907662984244526e-13,
          1.6228792004901916e-13,
          1.7474303558561952e-13,
          2.2483500463888052e-13,
          2.1623760560899975e-13,
          2.456741881370545e-13,
          2.050529788888991e-13,
          2.2252900855615738e-13,
          3.457132094278932e-13,
          1.7654294647052886e-13,
          2.4904800646007065e-13,
          3.8709198886156085e-13,
          1.9408757709153e-13,
          2.3867100261151795e-13,
          3.65735200278461e-13,
          1.759946671895683e-13,
          2.213760105147958e-13,
          3.1100839379429817e-13
         ],
         "yaxis": "y"
        },
        {
         "hovertemplate": "_tabname=II/340/xmmom2_1<br>lambda=%{x}<br>nufnu=%{y}<extra></extra>",
         "legendgroup": "II/340/xmmom2_1",
         "marker": {
          "color": "#EF553B",
          "line": {
           "color": "DarkSlateGrey",
           "width": 1
          },
          "size": 10,
          "symbol": "circle"
         },
         "mode": "markers",
         "name": "II/340/xmmom2_1",
         "showlegend": true,
         "type": "scattergl",
         "x": [
          2120.441051738762,
          2120.441051738762,
          5434.290372248891,
          2910.0785721214475,
          5434.290372248891,
          5434.290372248891,
          4508.905087547907,
          4508.905087547907,
          3443.565697494232,
          3443.565697494232,
          2910.0785721214475,
          2312.673450508788,
          2120.441051738762,
          2120.441051738762,
          5434.290372248891,
          5434.290372248891,
          5434.290372248891,
          5434.290372248891,
          4508.905087547907,
          4508.905087547907,
          3443.565697494232,
          3443.565697494232,
          2910.0785721214475,
          2312.673450508788,
          2120.441051738762,
          2120.441051738762,
          5434.290372248891,
          5434.290372248891,
          5434.290372248891,
          5434.290372248891,
          4508.905087547907,
          4508.905087547907,
          3443.565697494232,
          3443.565697494232,
          2910.0785721214475,
          2312.673450508788,
          2120.441051738762,
          2120.441051738762,
          5434.290372248891,
          5434.290372248891,
          5434.290372248891,
          5434.290372248891,
          4508.905087547907,
          4508.905087547907,
          3443.565697494232,
          3443.565697494232,
          2910.0785721214475,
          2312.673450508788,
          2120.441051738762,
          2120.441051738762,
          5434.290372248891,
          5434.290372248891,
          5434.290372248891,
          5434.290372248891,
          4508.905087547907,
          4508.905087547907,
          3443.565697494232,
          3443.565697494232,
          2910.0785721214475,
          2312.673450508788,
          2120.441051738762,
          2120.441051738762,
          5434.290372248891,
          5434.290372248891,
          5434.290372248891,
          5434.290372248891,
          4508.905087547907,
          4508.905087547907,
          3443.565697494232,
          3443.565697494232,
          2910.0785721214475,
          2312.673450508788,
          2120.441051738762,
          2120.441051738762,
          5434.290372248891,
          5434.290372248891,
          5434.290372248891,
          5434.290372248891,
          4508.905087547907,
          4508.905087547907,
          2910.0785721214475,
          2312.673450508788,
          2120.441051738762,
          2120.441051738762,
          5434.290372248891,
          5434.290372248891,
          5434.290372248891,
          5434.290372248891,
          4508.905087547907,
          4508.905087547907,
          3443.565697494232,
          3443.565697494232,
          2910.0785721214475,
          2312.673450508788,
          2120.441051738762,
          2120.441051738762,
          5434.290372248891,
          5434.290372248891,
          4508.905087547907,
          4508.905087547907,
          3443.565697494232,
          3443.565697494232,
          2120.441051738762,
          2120.441051738762,
          5434.290372248891,
          5434.290372248891,
          5434.290372248891,
          5434.290372248891,
          4508.905087547907,
          4508.905087547907,
          3443.565697494232,
          3443.565697494232,
          2910.0785721214475,
          2312.673450508788,
          2120.441051738762,
          2120.441051738762,
          5434.290372248891,
          5434.290372248891,
          5434.290372248891,
          5434.290372248891,
          4508.905087547907,
          4508.905087547907,
          3443.565697494232,
          3443.565697494232,
          2910.0785721214475,
          2312.673450508788,
          2120.441051738762,
          2120.441051738762,
          5434.290372248891,
          5434.290372248891,
          5434.290372248891,
          5434.290372248891,
          4508.905087547907,
          4508.905087547907,
          3443.565697494232,
          3443.565697494232,
          2910.0785721214475,
          2312.673450508788,
          2120.441051738762,
          2120.441051738762,
          5434.290372248891,
          5434.290372248891,
          4508.905087547907,
          4508.905087547907,
          3443.565697494232,
          3443.565697494232,
          5434.290372248891,
          5434.290372248891,
          5434.290372248891,
          5434.290372248891,
          4508.905087547907,
          4508.905087547907,
          3443.565697494232,
          3443.565697494232,
          2910.0785721214475,
          2312.673450508788,
          2120.441051738762,
          2120.441051738762,
          5434.290372248891,
          5434.290372248891,
          5434.290372248891,
          5434.290372248891,
          4508.905087547907,
          4508.905087547907,
          3443.565697494232,
          3443.565697494232,
          2910.0785721214475,
          2312.673450508788,
          2120.441051738762,
          2120.441051738762,
          5434.290372248891,
          5434.290372248891,
          3443.565697494232,
          3443.565697494232,
          2910.0785721214475,
          2312.673450508788,
          5434.290372248891,
          5434.290372248891,
          5434.290372248891,
          5434.290372248891,
          4508.905087547907,
          4508.905087547907,
          3443.565697494232,
          3443.565697494232,
          2910.0785721214475,
          2312.673450508788,
          2120.441051738762,
          2120.441051738762,
          5434.290372248891,
          5434.290372248891,
          2910.0785721214475,
          2312.673450508788,
          2120.441051738762,
          2120.441051738762,
          5434.290372248891,
          5434.290372248891,
          4508.905087547907,
          4508.905087547907,
          2910.0785721214475,
          2312.673450508788,
          2120.441051738762,
          2120.441051738762,
          2120.441051738762,
          2120.441051738762,
          5434.290372248891,
          5434.290372248891,
          5434.290372248891,
          5434.290372248891,
          4508.905087547907,
          4508.905087547907,
          3443.565697494232,
          3443.565697494232,
          2910.0785721214475,
          2312.673450508788,
          2120.441051738762,
          2120.441051738762,
          2120.441051738762,
          2120.441051738762,
          5434.290372248891,
          5434.290372248891,
          5434.290372248891,
          5434.290372248891,
          4508.905087547907,
          4508.905087547907,
          3443.565697494232,
          3443.565697494232,
          2910.0785721214475,
          2312.673450508788,
          2120.441051738762,
          2120.441051738762,
          2120.441051738762,
          2120.441051738762
         ],
         "xaxis": "x",
         "y": [
          1.0922256156429649e-13,
          1.0922256156429649e-13,
          2.037064432874322e-13,
          1.0412089594453574e-13,
          1.6009449539333582e-13,
          1.783121452946216e-13,
          7.518455240922049e-14,
          7.518455240922049e-14,
          8.023659738507122e-14,
          8.023659738507122e-14,
          8.226582234725356e-14,
          8.911764204315841e-14,
          8.67272415664047e-14,
          8.67272415664047e-14,
          5.6309102031867954e-14,
          1.1703459656145426e-13,
          1.3249200115166606e-13,
          5.6309102031867954e-14,
          5.4957907110918316e-14,
          5.4957907110918316e-14,
          6.011210930547677e-14,
          6.011210930547677e-14,
          5.99983808095567e-14,
          6.628691733442248e-14,
          6.380747833661736e-14,
          6.380747833661736e-14,
          7.728700238559396e-14,
          1.7003139907866717e-13,
          1.9376956016756597e-13,
          7.728700238559396e-14,
          7.518455240922049e-14,
          7.518455240922049e-14,
          8.337288092551754e-14,
          8.337288092551754e-14,
          8.711104603670538e-14,
          9.677111991494894e-14,
          9.436716044694186e-14,
          9.436716044694186e-14,
          4.245264434930869e-14,
          8.501569953933358e-14,
          9.440055416245015e-14,
          4.245264434930869e-14,
          4.012060376862064e-14,
          4.012060376862064e-14,
          4.321102442969568e-14,
          4.321102442969568e-14,
          4.3607070811092855e-14,
          4.7218080128543084e-14,
          4.428324119746685e-14,
          4.428324119746685e-14,
          2.0205030638352038e-13,
          4.1017314216867094e-13,
          4.3335926447808744e-13,
          2.0205030638352038e-13,
          1.8895940122939647e-13,
          1.8895940122939647e-13,
          2.1866869176551701e-13,
          2.1866869176551701e-13,
          2.103036075886339e-13,
          2.1663239443302157e-13,
          2.1080519765987994e-13,
          2.1080519765987994e-13,
          7.61828991197981e-14,
          1.562301519578323e-13,
          1.7003139907866717e-13,
          7.61828991197981e-14,
          7.119245299417526e-14,
          7.119245299417526e-14,
          7.910405393168331e-14,
          7.910405393168331e-14,
          8.020402104919777e-14,
          8.496660063788296e-14,
          8.36146776303649e-14,
          8.36146776303649e-14,
          1.0378539850283415e-13,
          2.048105414118618e-13,
          2.1861179881542922e-13,
          1.0378539850283415e-13,
          9.780645115999506e-14,
          9.780645115999506e-14,
          1.0515180379431695e-13,
          1.0948368006572129e-13,
          1.0639295978285373e-13,
          1.0639295978285373e-13,
          1.2807559837121517e-13,
          2.6387990417890255e-13,
          2.6664015977270904e-13,
          1.2807559837121517e-13,
          1.2575114706531167e-13,
          1.2575114706531167e-13,
          1.3416325927302242e-13,
          1.3416325927302242e-13,
          1.350479010138661e-13,
          1.3361160257086158e-13,
          1.2535128578916194e-13,
          1.2535128578916194e-13,
          6.34857501233928e-14,
          6.34857501233928e-14,
          6.294211213756353e-14,
          6.294211213756353e-14,
          7.152469595707954e-14,
          7.152469595707954e-14,
          7.69651197027415e-14,
          7.69651197027415e-14,
          9.164029856864364e-14,
          1.8824904897995296e-13,
          2.048105414118618e-13,
          9.164029856864364e-14,
          8.849154839385302e-14,
          8.849154839385302e-14,
          9.844447315456346e-14,
          9.844447315456346e-14,
          9.649223546218128e-14,
          1.0234908010438085e-13,
          1.0101671837456525e-13,
          1.0101671837456525e-13,
          1.7665600839070977e-13,
          3.792583535537124e-13,
          4.1734979026019574e-13,
          1.7665600839070977e-13,
          1.6966424682736397e-13,
          1.6966424682736397e-13,
          1.8643466784097255e-13,
          1.8643466784097255e-13,
          1.9484009545296433e-13,
          2.088492076545954e-13,
          1.9948680371046067e-13,
          1.9948680371046067e-13,
          1.4960555292852225e-13,
          3.2791769822314386e-13,
          3.582804686240852e-13,
          1.4960555292852225e-13,
          1.4970375594869258e-13,
          1.4970375594869258e-13,
          1.7075324202515185e-13,
          1.7075324202515185e-13,
          1.6803670258075e-13,
          1.7901359793171288e-13,
          1.7119079907238486e-13,
          1.7119079907238486e-13,
          8.888005325756968e-14,
          8.888005325756968e-14,
          8.915689726360142e-14,
          8.915689726360142e-14,
          1.0105803871480749e-13,
          1.0105803871480749e-13,
          1.2862764743342997e-13,
          2.925864965450019e-13,
          3.2902179634757343e-13,
          1.2862764743342997e-13,
          1.2708184480480851e-13,
          1.2708184480480851e-13,
          1.4200397218093278e-13,
          1.4200397218093278e-13,
          1.5051140354853125e-13,
          1.6474439800903203e-13,
          1.5704279675334692e-13,
          1.5704279675334692e-13,
          3.593845616071485e-14,
          2.506307061202824e-13,
          2.804413966108114e-13,
          3.593845616071485e-14,
          1.1377485501673074e-13,
          1.1377485501673074e-13,
          1.2719374299878255e-13,
          1.2719374299878255e-13,
          1.2886250192020089e-13,
          1.4009760363399982e-13,
          1.3497191998735072e-13,
          1.3497191998735072e-13,
          1.8824904897995296e-13,
          2.0701875822618606e-13,
          9.495971096064896e-14,
          9.495971096064896e-14,
          9.669841703213752e-14,
          1.0351656295359135e-13,
          1.7334369345195594e-13,
          3.4116689628176395e-13,
          3.7484196105599404e-13,
          1.7334369345195594e-13,
          1.6301074573677035e-13,
          1.6301074573677035e-13,
          1.759803731456399e-13,
          1.759803731456399e-13,
          1.752530095241964e-13,
          1.8809399458765986e-13,
          1.825092061981559e-13,
          1.825092061981559e-13,
          1.0323334944061936e-13,
          1.1813870496861638e-13,
          5.2885169451590633e-14,
          5.915231737308204e-14,
          6.069492098875344e-14,
          6.069492098875344e-14,
          1.943215989470482e-13,
          2.092269544750452e-13,
          8.849154839385302e-14,
          8.849154839385302e-14,
          9.958493980951608e-14,
          1.0455431877449156e-13,
          1.037048390787095e-13,
          1.037048390787095e-13,
          1.4572440280392768e-13,
          1.4572440280392768e-13,
          6.403779918560758e-14,
          1.3304405021388084e-13,
          1.5070965105295182e-13,
          6.403779918560758e-14,
          6.420627746870742e-14,
          6.420627746870742e-14,
          7.013079757038505e-14,
          7.013079757038505e-14,
          6.824558120127768e-14,
          7.536732003092767e-14,
          7.25792392473668e-14,
          7.25792392473668e-14,
          1.5845759434998035e-13,
          1.5845759434998035e-13,
          1.358042955249548e-13,
          3.1577259828895334e-13,
          3.4834356493875387e-13,
          1.358042955249548e-13,
          1.324046481559053e-13,
          1.324046481559053e-13,
          1.5071587360892445e-13,
          1.5071587360892445e-13,
          1.618512938860804e-13,
          1.73824794664979e-13,
          1.6836120387911797e-13,
          1.6836120387911797e-13,
          1.6694640628248454e-13,
          1.6694640628248454e-13
         ],
         "yaxis": "y"
        },
        {
         "hovertemplate": "_tabname=II/349/ps1<br>lambda=%{x}<br>nufnu=%{y}<extra></extra>",
         "legendgroup": "II/349/ps1",
         "marker": {
          "color": "#00cc96",
          "line": {
           "color": "DarkSlateGrey",
           "width": 1
          },
          "size": 10,
          "symbol": "circle"
         },
         "mode": "markers",
         "name": "II/349/ps1",
         "showlegend": true,
         "type": "scattergl",
         "x": [
          9603.072983354674,
          8658.008658008659,
          7485.029940119761,
          6129.955046996322,
          4775.549188156638
         ],
         "xaxis": "x",
         "y": [
          4.0924400307238105e-14,
          8.731800011359156e-14,
          6.933840166032315e-14,
          6.117500091157855e-14,
          8.292239955067635e-14
         ],
         "yaxis": "y"
        },
        {
         "hovertemplate": "_tabname=II/350/vstatlas<br>lambda=%{x}<br>nufnu=%{y}<extra></extra>",
         "legendgroup": "II/350/vstatlas",
         "marker": {
          "color": "#ab63fa",
          "line": {
           "color": "DarkSlateGrey",
           "width": 1
          },
          "size": 10,
          "symbol": "circle"
         },
         "mode": "markers",
         "name": "II/350/vstatlas",
         "showlegend": true,
         "type": "scattergl",
         "x": [
          8768.084173608066,
          8768.084173608066
         ],
         "xaxis": "x",
         "y": [
          3.661005153972656e-14,
          2.850109543760482e-16
         ],
         "yaxis": "y"
        },
        {
         "hovertemplate": "_tabname=II/356/xmmom41s<br>lambda=%{x}<br>nufnu=%{y}<extra></extra>",
         "legendgroup": "II/356/xmmom41s",
         "marker": {
          "color": "#FFA15A",
          "line": {
           "color": "DarkSlateGrey",
           "width": 1
          },
          "size": 10,
          "symbol": "circle"
         },
         "mode": "markers",
         "name": "II/356/xmmom41s",
         "showlegend": true,
         "type": "scattergl",
         "x": [
          5434.290372248891,
          4508.905087547907,
          2910.0785721214475,
          2312.673450508788,
          2120.441051738762,
          2120.441051738762,
          5434.290372248891,
          2910.0785721214475,
          2312.673450508788,
          2120.441051738762,
          2910.0785721214475,
          2120.441051738762,
          4508.905087547907,
          3443.565697494232,
          2910.0785721214475,
          2312.673450508788,
          2120.441051738762,
          5434.290372248891,
          4508.905087547907,
          3443.565697494232,
          2910.0785721214475,
          2312.673450508788,
          2120.441051738762,
          4508.905087547907,
          3443.565697494232,
          2910.0785721214475,
          2312.673450508788,
          5434.290372248891,
          4508.905087547907,
          3443.565697494232,
          2910.0785721214475,
          2312.673450508788,
          2120.441051738762,
          5434.290372248891,
          4508.905087547907,
          3443.565697494232,
          2910.0785721214475,
          2312.673450508788,
          2120.441051738762,
          5434.290372248891,
          4508.905087547907,
          3443.565697494232,
          2120.441051738762,
          4508.905087547907,
          2910.0785721214475,
          2312.673450508788,
          2120.441051738762,
          5434.290372248891,
          3443.565697494232,
          2910.0785721214475,
          2312.673450508788,
          2120.441051738762,
          5434.290372248891,
          5434.290372248891,
          4508.905087547907,
          3443.565697494232,
          2910.0785721214475,
          2312.673450508788,
          2120.441051738762,
          5434.290372248891,
          4508.905087547907,
          3443.565697494232,
          2910.0785721214475,
          2312.673450508788,
          2120.441051738762,
          5434.290372248891,
          4508.905087547907,
          3443.565697494232,
          2910.0785721214475,
          2312.673450508788,
          2120.441051738762,
          5434.290372248891,
          4508.905087547907,
          3443.565697494232,
          2910.0785721214475,
          2312.673450508788,
          2120.441051738762,
          5434.290372248891,
          4508.905087547907,
          3443.565697494232,
          2910.0785721214475,
          2312.673450508788,
          2120.441051738762,
          5434.290372248891,
          4508.905087547907,
          2910.0785721214475,
          2312.673450508788,
          2120.441051738762,
          5434.290372248891,
          4508.905087547907,
          3443.565697494232,
          2910.0785721214475,
          2312.673450508788,
          2120.441051738762,
          5434.290372248891,
          4508.905087547907,
          3443.565697494232,
          2910.0785721214475,
          2312.673450508788,
          2120.441051738762,
          5434.290372248891,
          4508.905087547907,
          3443.565697494232,
          2910.0785721214475,
          2312.673450508788,
          2120.441051738762,
          5434.290372248891,
          4508.905087547907,
          3443.565697494232,
          2910.0785721214475,
          2312.673450508788,
          2120.441051738762,
          5434.290372248891,
          4508.905087547907,
          3443.565697494232,
          2910.0785721214475,
          2312.673450508788,
          2120.441051738762,
          5434.290372248891,
          4508.905087547907,
          3443.565697494232,
          2910.0785721214475,
          2312.673450508788,
          2120.441051738762,
          5434.290372248891,
          4508.905087547907,
          3443.565697494232,
          3443.565697494232,
          2910.0785721214475,
          2312.673450508788,
          5434.290372248891,
          4508.905087547907,
          3443.565697494232,
          2910.0785721214475,
          2312.673450508788,
          2120.441051738762,
          4508.905087547907,
          2910.0785721214475,
          2312.673450508788,
          2120.441051738762,
          2910.0785721214475,
          2312.673450508788,
          2120.441051738762,
          2120.441051738762,
          5434.290372248891,
          4508.905087547907,
          3443.565697494232,
          2910.0785721214475,
          2312.673450508788,
          2120.441051738762,
          2120.441051738762,
          2120.441051738762,
          5434.290372248891,
          4508.905087547907,
          3443.565697494232,
          2910.0785721214475,
          2312.673450508788,
          2120.441051738762
         ],
         "xaxis": "x",
         "y": [
          1.429809461871628e-14,
          2.0625850592390637e-14,
          1.700984990783036e-14,
          2.1403799884021284e-14,
          2.5890839500352742e-14,
          3.4521119333803657e-15,
          4.918765357666416e-15,
          4.3503981226240285e-15,
          7.549704101867975e-15,
          6.310007953830064e-14,
          1.0412089594453574e-13,
          1.0780775737948716e-13,
          7.385384847316892e-14,
          7.962676379829646e-14,
          8.102874252852053e-14,
          8.678268238529564e-14,
          8.559539953619243e-14,
          5.575704782828689e-14,
          5.42925582411699e-14,
          5.976363470880315e-14,
          5.917365933023393e-14,
          6.473027756251395e-14,
          6.310007953830064e-14,
          5.42925582411699e-14,
          5.976363470880315e-14,
          5.917365933023393e-14,
          6.473027756251395e-14,
          4.2121414397843184e-14,
          3.965486141876318e-14,
          4.294966543959454e-14,
          4.298853090172634e-14,
          4.618032128736377e-14,
          4.371732018236071e-14,
          8.280749814910815e-14,
          7.718059901846574e-14,
          8.703188244616613e-14,
          8.742032319214196e-14,
          9.106343873776496e-14,
          8.983979891426862e-14,
          6.2933701061178e-14,
          6.247636668942869e-14,
          7.117622541720048e-14,
          7.611623982712627e-14,
          7.451919734291732e-14,
          8.061637938860804e-14,
          8.496660063788296e-14,
          8.54539184588939e-14,
          8.059930190024898e-14,
          8.424406944559888e-14,
          8.556469866354019e-14,
          9.19714796114713e-14,
          9.564047696627677e-14,
          5.575704782828689e-14,
          8.335955235268921e-14,
          8.050734956376256e-14,
          8.886138320649043e-14,
          9.278099600598217e-14,
          9.677111991494894e-14,
          9.648935684189201e-14,
          9.108824950642885e-14,
          8.782619952410461e-14,
          9.757327652089298e-14,
          9.546133721340448e-14,
          1.0053299835696817e-13,
          1.0002635742165149e-13,
          7.563085005758331e-14,
          6.986174905812369e-14,
          7.849422034490854e-14,
          7.896694123046473e-14,
          8.276136196777226e-14,
          8.248284218832851e-14,
          7.673494818201289e-14,
          7.451919734291732e-14,
          8.311152599221097e-14,
          8.638941534236074e-14,
          9.53442011307925e-14,
          9.351828057132662e-14,
          2.0149824703857305e-13,
          1.8829405235964807e-13,
          2.1779750324543567e-13,
          2.0927270933985712e-13,
          2.153351966366172e-13,
          2.093904000632465e-13,
          1.0268130037840456e-13,
          9.647574722394347e-14,
          1.0308999769575895e-13,
          1.0688928447291256e-13,
          1.049781621862203e-13,
          1.2807559837121517e-13,
          1.2575114706531167e-13,
          1.3416325927302242e-13,
          1.350479010138661e-13,
          1.3231440477445722e-13,
          1.245023993253708e-13,
          3.588325074035675e-14,
          1.1310950614698232e-13,
          1.2632254636511208e-13,
          1.278316036714241e-13,
          1.4009760363399982e-13,
          1.3412303352355958e-13,
          2.760249938303605e-14,
          2.34203201829223e-14,
          2.7790961660770702e-14,
          2.7421939982334153e-14,
          2.788980094715953e-14,
          3.211596078425646e-14,
          1.2862764743342997e-13,
          1.264164959350601e-13,
          1.4200397218093278e-13,
          1.4948049569875002e-13,
          1.6344720021262765e-13,
          1.5704279675334692e-13,
          1.7610394904576243e-13,
          1.6899889795761557e-13,
          1.8643466784097255e-13,
          1.9380919720418752e-13,
          2.0755200985819102e-13,
          1.9807200611382724e-13,
          1.7279165467247369e-13,
          1.6234539686702193e-13,
          1.759803731456399e-13,
          1.7422209207341076e-13,
          1.8679679679125548e-13,
          1.8109439542517067e-13,
          8.832800419535488e-14,
          8.849154839385302e-14,
          1.0018685019472615e-13,
          9.495971096064896e-14,
          9.649223546218128e-14,
          1.0312740603089333e-13,
          1.4905350386630744e-13,
          1.4903839468583465e-13,
          1.7075324202515185e-13,
          1.670058043319732e-13,
          1.7641920233890416e-13,
          1.697760014757514e-13,
          8.782619952410461e-14,
          9.937875823955984e-14,
          1.0416516185179353e-13,
          1.0299744028039277e-13,
          5.206044797226787e-14,
          5.746596265397966e-14,
          5.970456003583968e-14,
          1.4430960520729423e-13,
          6.34857501233928e-14,
          6.374053202057258e-14,
          6.986943452348933e-14,
          6.814249041629955e-14,
          7.497815706767143e-14,
          7.187184044905007e-14,
          1.6553159550949933e-13,
          1.556279991567135e-13,
          1.347001974005252e-13,
          1.317392992861569e-13,
          1.5071587360892445e-13,
          1.618512938860804e-13,
          1.7252759686857463e-13,
          1.6694640628248454e-13
         ],
         "yaxis": "y"
        },
        {
         "hovertemplate": "_tabname=II/358/smss<br>lambda=%{x}<br>nufnu=%{y}<extra></extra>",
         "legendgroup": "II/358/smss",
         "marker": {
          "color": "#19d3f3",
          "line": {
           "color": "DarkSlateGrey",
           "width": 1
          },
          "size": 10,
          "symbol": "circle"
         },
         "mode": "markers",
         "name": "II/358/smss",
         "showlegend": true,
         "type": "scattergl",
         "x": [
          9096.422073984233,
          9096.422073984233,
          7718.034473887316,
          7718.034473887316,
          6044.731009470078,
          6044.731009470078,
          4971.826317533974,
          4971.826317533974,
          3873.4667527437055,
          3873.4667527437055,
          3500.5834305717617,
          3500.5834305717617
         ],
         "xaxis": "x",
         "y": [
          4.0565398663282396e-14,
          4.0235599223524335e-14,
          4.858750072401017e-14,
          4.703269974514842e-14,
          6.551159964501858e-14,
          6.402270217426121e-14,
          8.085559751838446e-14,
          7.96487995684147e-14,
          5.638360015349463e-14,
          5.584144963184372e-14,
          2.6567000763025137e-14,
          2.6395599457900974e-14
         ],
         "yaxis": "y"
        },
        {
         "hovertemplate": "_tabname=II/359/vhs_dr4<br>lambda=%{x}<br>nufnu=%{y}<extra></extra>",
         "legendgroup": "II/359/vhs_dr4",
         "marker": {
          "color": "#FF6692",
          "line": {
           "color": "DarkSlateGrey",
           "width": 1
          },
          "size": 10,
          "symbol": "circle"
         },
         "mode": "markers",
         "name": "II/359/vhs_dr4",
         "showlegend": true,
         "type": "scattergl",
         "x": [
          21352.313167259785,
          12472.456658213114,
          10190.909708539983,
          12472.456658213114,
          10190.909708539983
         ],
         "xaxis": "x",
         "y": [
          3.6249001231044536e-14,
          7.023476165588945e-14,
          8.772523902617395e-14,
          3.7282150370738237e-16,
          2.549330720605212e-16
         ],
         "yaxis": "y"
        },
        {
         "hovertemplate": "_tabname=II/363/unwise<br>lambda=%{x}<br>nufnu=%{y}<extra></extra>",
         "legendgroup": "II/363/unwise",
         "marker": {
          "color": "#B6E880",
          "line": {
           "color": "DarkSlateGrey",
           "width": 1
          },
          "size": 10,
          "symbol": "circle"
         },
         "mode": "markers",
         "name": "II/363/unwise",
         "showlegend": true,
         "type": "scattergl",
         "x": [
          46032.03829865587,
          33523.29869259135
         ],
         "xaxis": "x",
         "y": [
          2.997912005826831e-14,
          3.5259060112014416e-14
         ],
         "yaxis": "y"
        },
        {
         "hovertemplate": "_tabname=II/365/catwise<br>lambda=%{x}<br>nufnu=%{y}<extra></extra>",
         "legendgroup": "II/365/catwise",
         "marker": {
          "color": "#FF97FF",
          "line": {
           "color": "DarkSlateGrey",
           "width": 1
          },
          "size": 10,
          "symbol": "circle"
         },
         "mode": "markers",
         "name": "II/365/catwise",
         "showlegend": true,
         "type": "scattergl",
         "x": [
          46032.03829865587,
          33523.29869259135
         ],
         "xaxis": "x",
         "y": [
          2.750258340954781e-14,
          3.5348551626875997e-14
         ],
         "yaxis": "y"
        },
        {
         "hovertemplate": "_tabname=II/368/sstsl2<br>lambda=%{x}<br>nufnu=%{y}<extra></extra>",
         "legendgroup": "II/368/sstsl2",
         "marker": {
          "color": "#FECB52",
          "line": {
           "color": "DarkSlateGrey",
           "width": 1
          },
          "size": 10,
          "symbol": "circle"
         },
         "mode": "markers",
         "name": "II/368/sstsl2",
         "showlegend": true,
         "type": "scattergl",
         "x": [
          236910.6846718787,
          221059.6124088129,
          115678.26019896661,
          46032.03829865587,
          33523.29869259135,
          21652.83291230603,
          16506.189821182943,
          12398.743593982477
         ],
         "xaxis": "x",
         "y": [
          1.2397077404558659e-14,
          1.3706710477247834e-14,
          1.799819537550211e-14,
          4.581591464817524e-14,
          5.6736660298705105e-14,
          8.022045050375164e-14,
          9.123850073665382e-14,
          1.0501064188927413e-13
         ],
         "yaxis": "y"
        },
        {
         "hovertemplate": "_tabname=II/369/vexassm<br>lambda=%{x}<br>nufnu=%{y}<extra></extra>",
         "legendgroup": "II/369/vexassm",
         "marker": {
          "color": "#636efa",
          "line": {
           "color": "DarkSlateGrey",
           "width": 1
          },
          "size": 10,
          "symbol": "circle"
         },
         "mode": "markers",
         "name": "II/369/vexassm",
         "showlegend": true,
         "type": "scattergl",
         "x": [
          221059.6124088129,
          115678.26019896661,
          46032.03829865587,
          33523.29869259135,
          21352.313167259785,
          12472.456658213114,
          10190.909708539983
         ],
         "xaxis": "x",
         "y": [
          1.3978130016177893e-14,
          1.6883033820688726e-14,
          4.6793496629297736e-14,
          5.790002998933197e-14,
          3.6530000753700734e-14,
          7.143740961290897e-14,
          8.978590100891889e-14
         ],
         "yaxis": "y"
        },
        {
         "hovertemplate": "_tabname=II/370/xmmom5s<br>lambda=%{x}<br>nufnu=%{y}<extra></extra>",
         "legendgroup": "II/370/xmmom5s",
         "marker": {
          "color": "#EF553B",
          "line": {
           "color": "DarkSlateGrey",
           "width": 1
          },
          "size": 10,
          "symbol": "circle"
         },
         "mode": "markers",
         "name": "II/370/xmmom5s",
         "showlegend": true,
         "type": "scattergl",
         "x": [
          5434.290372248891,
          4508.905087547907,
          3443.565697494232,
          2910.0785721214475,
          2312.673450508788,
          2120.441051738762,
          5434.290372248891,
          4508.905087547907,
          3443.565697494232,
          2910.0785721214475,
          2312.673450508788,
          2120.441051738762,
          5434.290372248891,
          2910.0785721214475,
          2312.673450508788,
          2120.441051738762,
          2120.441051738762,
          2910.0785721214475,
          4508.905087547907,
          3443.565697494232,
          2910.0785721214475,
          2312.673450508788,
          2120.441051738762,
          4508.905087547907,
          3443.565697494232,
          5434.290372248891,
          4508.905087547907,
          3443.565697494232,
          2910.0785721214475,
          2312.673450508788,
          2120.441051738762,
          4508.905087547907,
          2910.0785721214475,
          2312.673450508788,
          2120.441051738762,
          5434.290372248891,
          4508.905087547907,
          3443.565697494232,
          2910.0785721214475,
          2312.673450508788,
          2120.441051738762,
          2910.0785721214475,
          2312.673450508788,
          5434.290372248891,
          3443.565697494232,
          2910.0785721214475,
          2312.673450508788,
          2120.441051738762,
          5434.290372248891,
          5434.290372248891,
          4508.905087547907,
          3443.565697494232,
          2910.0785721214475,
          2312.673450508788,
          2120.441051738762,
          5434.290372248891,
          4508.905087547907,
          3443.565697494232,
          2120.441051738762,
          5434.290372248891,
          4508.905087547907,
          3443.565697494232,
          2910.0785721214475,
          2312.673450508788,
          2120.441051738762,
          5434.290372248891,
          4508.905087547907,
          3443.565697494232,
          2910.0785721214475,
          2312.673450508788,
          2120.441051738762,
          5434.290372248891,
          4508.905087547907,
          3443.565697494232,
          2910.0785721214475,
          2312.673450508788,
          2120.441051738762,
          5434.290372248891,
          4508.905087547907,
          3443.565697494232,
          2910.0785721214475,
          2312.673450508788,
          2120.441051738762,
          5434.290372248891,
          4508.905087547907,
          2910.0785721214475,
          2312.673450508788,
          2120.441051738762,
          5434.290372248891,
          4508.905087547907,
          3443.565697494232,
          2910.0785721214475,
          2312.673450508788,
          2120.441051738762,
          5434.290372248891,
          4508.905087547907,
          3443.565697494232,
          2910.0785721214475,
          2312.673450508788,
          2120.441051738762,
          5434.290372248891,
          4508.905087547907,
          3443.565697494232,
          2910.0785721214475,
          2312.673450508788,
          2120.441051738762,
          5434.290372248891,
          4508.905087547907,
          3443.565697494232,
          2910.0785721214475,
          2312.673450508788,
          2120.441051738762,
          5434.290372248891,
          4508.905087547907,
          3443.565697494232,
          2910.0785721214475,
          2312.673450508788,
          2120.441051738762,
          5434.290372248891,
          4508.905087547907,
          3443.565697494232,
          2910.0785721214475,
          2312.673450508788,
          2120.441051738762,
          3443.565697494232,
          2910.0785721214475,
          2312.673450508788,
          5434.290372248891,
          4508.905087547907,
          3443.565697494232,
          5434.290372248891,
          4508.905087547907,
          3443.565697494232,
          2910.0785721214475,
          2312.673450508788,
          2120.441051738762,
          4508.905087547907,
          2910.0785721214475,
          2312.673450508788,
          2120.441051738762,
          2910.0785721214475,
          2312.673450508788,
          2120.441051738762,
          5434.290372248891,
          4508.905087547907,
          3443.565697494232,
          2910.0785721214475,
          2312.673450508788,
          2120.441051738762,
          2120.441051738762,
          2120.441051738762,
          2120.441051738762,
          5434.290372248891,
          4508.905087547907,
          3443.565697494232,
          2910.0785721214475,
          2312.673450508788,
          2120.441051738762,
          5434.290372248891,
          4508.905087547907,
          3443.565697494232,
          2910.0785721214475,
          2312.673450508788,
          2120.441051738762
         ],
         "xaxis": "x",
         "y": [
          6.84542006807169e-15,
          4.617528917238815e-15,
          4.695713851432083e-15,
          3.484442129498348e-15,
          7.938864044845105e-15,
          3.4379640315310102e-15,
          1.4187685063341633e-14,
          2.055931508576032e-14,
          2.212822613825556e-14,
          1.690676032297779e-14,
          2.1274080406408758e-14,
          2.5749360070098192e-14,
          4.885642426786945e-15,
          4.329779965628404e-15,
          7.471872264286504e-15,
          6.28171173837036e-14,
          1.0752480181306602e-13,
          1.0412089594453574e-13,
          7.385384847316892e-14,
          7.945252447156236e-14,
          8.061637938860804e-14,
          8.600436249934138e-14,
          8.531243738159538e-14,
          5.422602583281696e-14,
          5.96765150454361e-14,
          5.575704782828689e-14,
          5.422602583281696e-14,
          5.96765150454361e-14,
          5.886439177580179e-14,
          6.434112063981593e-14,
          6.28171173837036e-14,
          7.451919734291732e-14,
          8.010093026421965e-14,
          8.405855976417661e-14,
          8.517096289247274e-14,
          4.1955800707452004e-14,
          3.9588325912132864e-14,
          4.286254983302206e-14,
          4.2782349331770097e-14,
          4.592087931185961e-14,
          4.357583910506219e-14,
          5.886439177580179e-14,
          6.434112063981593e-14,
          8.004724769666791e-14,
          8.398271451229231e-14,
          8.50492495391518e-14,
          9.106343873776496e-14,
          9.535752139985561e-14,
          5.575704782828689e-14,
          8.225544908689336e-14,
          7.651525014871732e-14,
          8.677052751285956e-14,
          8.690487406775355e-14,
          9.015539786405862e-14,
          8.969831783697009e-14,
          6.2933701061178e-14,
          6.234329567616806e-14,
          7.108910169703887e-14,
          7.583327767252923e-14,
          7.673494818201289e-14,
          7.451919734291732e-14,
          8.293728666547687e-14,
          8.597706180345268e-14,
          9.495503816753626e-14,
          9.309383733943105e-14,
          8.280749814910815e-14,
          7.984200069401414e-14,
          8.886138320649043e-14,
          9.226554688159377e-14,
          9.586307904124261e-14,
          9.620640127547086e-14,
          1.2752354930900038e-13,
          1.2508579819556328e-13,
          1.3416325927302242e-13,
          1.3401700276508927e-13,
          1.3231440477445722e-13,
          1.239364750161767e-13,
          2.009462082590908e-13,
          1.8829405235964807e-13,
          2.1779750324543567e-13,
          2.0927270933985712e-13,
          2.1403799884021283e-13,
          2.0797560246661308e-13,
          1.0212925131618977e-13,
          9.581039835419506e-14,
          1.0308999769575895e-13,
          1.0598124359920621e-13,
          1.0469520003162325e-13,
          7.507880099536852e-14,
          6.986174905812369e-14,
          7.831998101817444e-14,
          7.855457809055224e-14,
          8.211275702901185e-14,
          8.219988003373147e-14,
          9.053620044421405e-14,
          8.782619952410461e-14,
          9.757327652089298e-14,
          9.504898367449642e-14,
          9.9884399458766e-14,
          9.960192077793182e-14,
          1.7610394904576243e-13,
          1.6899889795761557e-13,
          1.8556346309371295e-13,
          1.9277829895541073e-13,
          2.0755200985819102e-13,
          1.9665719534084203e-13,
          1.2807559837121517e-13,
          1.264164959350601e-13,
          1.4113278366085143e-13,
          1.4844959744997323e-13,
          1.621500024162233e-13,
          1.5704279675334692e-13,
          3.582804531999864e-14,
          1.1310950614698232e-13,
          1.2632254636511208e-13,
          1.278316036714241e-13,
          1.3880040583759547e-13,
          1.3341563472524286e-13,
          1.4850145480409266e-13,
          1.4903839468583465e-13,
          1.698820535050705e-13,
          1.6597490608319641e-13,
          1.7641920233890416e-13,
          1.6836120387911797e-13,
          9.495971096064896e-14,
          9.618296790774912e-14,
          1.0273823702707888e-13,
          8.832800419535488e-14,
          8.849154839385302e-14,
          1.0018685019472615e-13,
          1.7223959532752635e-13,
          1.616800479972735e-13,
          1.7510918462555856e-13,
          1.7319119382463397e-13,
          1.8549959899485112e-13,
          1.7967959782853724e-13,
          8.782619952410461e-14,
          9.906949068512768e-14,
          1.0377600492909551e-13,
          1.0257299704849721e-13,
          5.175118041783572e-14,
          5.694707870297134e-14,
          5.956307895854116e-14,
          6.34857501233928e-14,
          6.360746100731195e-14,
          6.978231891691685e-14,
          6.793630884634331e-14,
          7.471872113272549e-14,
          7.158887829445302e-14,
          1.556279991567135e-13,
          1.6411679791286588e-13,
          1.4289479443430902e-13,
          1.3414814833831043e-13,
          1.310739504164085e-13,
          1.498446850888431e-13,
          1.618512938860804e-13,
          1.7252759686857463e-13,
          1.6553159550949933e-13,
          2.7436885692644866e-14,
          2.34203201829223e-14,
          2.7703841997403654e-14,
          2.731884919735603e-14,
          2.7630358971655372e-14,
          3.211596078425646e-14
         ],
         "yaxis": "y"
        },
        {
         "hovertemplate": "_tabname=IV/38/tic<br>lambda=%{x}<br>nufnu=%{y}<extra></extra>",
         "legendgroup": "IV/38/tic",
         "marker": {
          "color": "#00cc96",
          "line": {
           "color": "DarkSlateGrey",
           "width": 1
          },
          "size": 10,
          "symbol": "circle"
         },
         "mode": "markers",
         "name": "IV/38/tic",
         "showlegend": true,
         "type": "scattergl",
         "x": [
          221059.6124088129,
          115678.26019896661,
          46032.03829865587,
          33523.29869259135,
          21652.83291230603,
          16311.439756415832,
          12508.86044281366,
          6734.611412921475,
          5540.882477882645,
          4445.102978218995
         ],
         "xaxis": "x",
         "y": [
          1.3978130016177893e-14,
          1.6883033820688726e-14,
          4.6597982175350194e-14,
          5.76315621122718e-14,
          8.271435142867267e-14,
          9.545447885990144e-14,
          1.0648451779857279e-13,
          3.683954247925431e-14,
          8.717023319490255e-14,
          5.918873127922416e-14
         ],
         "yaxis": "y"
        },
        {
         "hovertemplate": "_tabname=IV/39/tic82<br>lambda=%{x}<br>nufnu=%{y}<extra></extra>",
         "legendgroup": "IV/39/tic82",
         "marker": {
          "color": "#ab63fa",
          "line": {
           "color": "DarkSlateGrey",
           "width": 1
          },
          "size": 10,
          "symbol": "circle"
         },
         "mode": "markers",
         "name": "IV/39/tic82",
         "showlegend": true,
         "type": "scattergl",
         "x": [
          221059.6124088129,
          115678.26019896661,
          46032.03829865587,
          33523.29869259135,
          21652.83291230603,
          16311.439756415832,
          12508.86044281366,
          6734.611412921475,
          5540.882477882645,
          4445.102978218995
         ],
         "xaxis": "x",
         "y": [
          1.3978130016177893e-14,
          1.6883033820688726e-14,
          4.6597982175350194e-14,
          5.76315621122718e-14,
          8.271435142867267e-14,
          9.545447885990144e-14,
          1.0648451779857279e-13,
          3.683954247925431e-14,
          8.717023319490255e-14,
          5.918873127922416e-14
         ],
         "yaxis": "y"
        },
        {
         "hovertemplate": "_tabname=VII/69/catalog<br>lambda=%{x}<br>nufnu=%{y}<extra></extra>",
         "legendgroup": "VII/69/catalog",
         "marker": {
          "color": "#FFA15A",
          "line": {
           "color": "DarkSlateGrey",
           "width": 1
          },
          "size": 10,
          "symbol": "circle"
         },
         "mode": "markers",
         "name": "VII/69/catalog",
         "showlegend": true,
         "type": "scattergl",
         "x": [
          5540.882477882645
         ],
         "xaxis": "x",
         "y": [
          7.850734774097801e-14
         ],
         "yaxis": "y"
        },
        {
         "hovertemplate": "_tabname=VII/258/vv10<br>lambda=%{x}<br>nufnu=%{y}<extra></extra>",
         "legendgroup": "VII/258/vv10",
         "marker": {
          "color": "#19d3f3",
          "line": {
           "color": "DarkSlateGrey",
           "width": 1
          },
          "size": 10,
          "symbol": "circle"
         },
         "mode": "markers",
         "name": "VII/258/vv10",
         "showlegend": true,
         "type": "scattergl",
         "x": [
          2142857142.857143,
          600000000
         ],
         "xaxis": "x",
         "y": [
          5.9359999299049375e-18,
          2.0350000262260438e-17
         ],
         "yaxis": "y"
        },
        {
         "hovertemplate": "_tabname=VII/274/bzcat5<br>lambda=%{x}<br>nufnu=%{y}<extra></extra>",
         "legendgroup": "VII/274/bzcat5",
         "marker": {
          "color": "#FF6692",
          "line": {
           "color": "DarkSlateGrey",
           "width": 1
          },
          "size": 10,
          "symbol": "circle"
         },
         "mode": "markers",
         "name": "VII/274/bzcat5",
         "showlegend": true,
         "type": "scattergl",
         "x": [
          3558718861.2099648
         ],
         "xaxis": "x",
         "y": [
          4.1222699376940724e-18
         ],
         "yaxis": "y"
        },
        {
         "hovertemplate": "_tabname=VIII/15/pkscat90<br>lambda=%{x}<br>nufnu=%{y}<extra></extra>",
         "legendgroup": "VIII/15/pkscat90",
         "marker": {
          "color": "#B6E880",
          "line": {
           "color": "DarkSlateGrey",
           "width": 1
          },
          "size": 10,
          "symbol": "circle"
         },
         "mode": "markers",
         "name": "VIII/15/pkscat90",
         "showlegend": true,
         "type": "scattergl",
         "x": [
          1111111111.111111,
          600000000
         ],
         "xaxis": "x",
         "y": [
          9.180000096559526e-18,
          1.550000011920929e-17
         ],
         "yaxis": "y"
        },
        {
         "hovertemplate": "_tabname=VIII/85A/spectra<br>lambda=%{x}<br>nufnu=%{y}<extra></extra>",
         "legendgroup": "VIII/85A/spectra",
         "marker": {
          "color": "#FF97FF",
          "line": {
           "color": "DarkSlateGrey",
           "width": 1
          },
          "size": 10,
          "symbol": "circle"
         },
         "mode": "markers",
         "name": "VIII/85A/spectra",
         "showlegend": true,
         "type": "scattergl",
         "x": [
          1111111111.111111,
          618556701.0309279,
          2142857142.857143
         ],
         "xaxis": "x",
         "y": [
          9.180000096559526e-18,
          1.906050032377243e-17,
          6.8459998965263365e-18
         ],
         "yaxis": "y"
        },
        {
         "hovertemplate": "_tabname=VIII/85A/waste<br>lambda=%{x}<br>nufnu=%{y}<extra></extra>",
         "legendgroup": "VIII/85A/waste",
         "marker": {
          "color": "#FECB52",
          "line": {
           "color": "DarkSlateGrey",
           "width": 1
          },
          "size": 10,
          "symbol": "circle"
         },
         "mode": "markers",
         "name": "VIII/85A/waste",
         "showlegend": true,
         "type": "scattergl",
         "x": [
          618556701.0309279,
          618556701.0309279
         ],
         "xaxis": "x",
         "y": [
          1.906050032377243e-17,
          1.906050032377243e-17
         ],
         "yaxis": "y"
        },
        {
         "hovertemplate": "_tabname=VIII/104/spectra<br>lambda=%{x}<br>nufnu=%{y}<extra></extra>",
         "legendgroup": "VIII/104/spectra",
         "marker": {
          "color": "#636efa",
          "line": {
           "color": "DarkSlateGrey",
           "width": 1
          },
          "size": 10,
          "symbol": "circle"
         },
         "mode": "markers",
         "name": "VIII/104/spectra",
         "showlegend": true,
         "type": "scattergl",
         "x": [
          1111111111.111111,
          618556701.0309279,
          357142857.14285713,
          357142857.14285713,
          2142857142.857143
         ],
         "xaxis": "x",
         "y": [
          9.180000096559526e-18,
          1.906050032377243e-17,
          2.015999954938889e-17,
          2.990400052070618e-17,
          6.8459998965263365e-18
         ],
         "yaxis": "y"
        },
        {
         "hovertemplate": "_tabname=IX/10A/cor_nvs<br>lambda=%{x}<br>nufnu=%{y}<extra></extra>",
         "legendgroup": "IX/10A/cor_nvs",
         "marker": {
          "color": "#EF553B",
          "line": {
           "color": "DarkSlateGrey",
           "width": 1
          },
          "size": 10,
          "symbol": "circle"
         },
         "mode": "markers",
         "name": "IX/10A/cor_nvs",
         "showlegend": true,
         "type": "scattergl",
         "x": [
          2001334222.8152099,
          2001334222.8152099
         ],
         "xaxis": "x",
         "y": [
          6.355759924948216e-18,
          2.1435699883848433e-19
         ],
         "yaxis": "y"
        },
        {
         "hovertemplate": "_tabname=IX/10A/cor_ver<br>lambda=%{x}<br>nufnu=%{y}<extra></extra>",
         "legendgroup": "IX/10A/cor_ver",
         "marker": {
          "color": "#00cc96",
          "line": {
           "color": "DarkSlateGrey",
           "width": 1
          },
          "size": 10,
          "symbol": "circle"
         },
         "mode": "markers",
         "name": "IX/10A/cor_ver",
         "showlegend": true,
         "type": "scattergl",
         "x": [
          1100755852.3519483,
          600000000
         ],
         "xaxis": "x",
         "y": [
          9.2663600974679e-18,
          2.0350000262260438e-17
         ],
         "yaxis": "y"
        },
        {
         "hovertemplate": "_tabname=J/ApJ/707/L56/table1<br>lambda=%{x}<br>nufnu=%{y}<extra></extra>",
         "legendgroup": "J/ApJ/707/L56/table1",
         "marker": {
          "color": "#ab63fa",
          "line": {
           "color": "DarkSlateGrey",
           "width": 1
          },
          "size": 10,
          "symbol": "circle"
         },
         "mode": "markers",
         "name": "J/ApJ/707/L56/table1",
         "showlegend": true,
         "type": "scattergl",
         "x": [
          375000000
         ],
         "xaxis": "x",
         "y": [
          1.759999990463257e-17
         ],
         "yaxis": "y"
        },
        {
         "hovertemplate": "_tabname=J/ApJ/716/30/blazars<br>lambda=%{x}<br>nufnu=%{y}<extra></extra>",
         "legendgroup": "J/ApJ/716/30/blazars",
         "marker": {
          "color": "#FFA15A",
          "line": {
           "color": "DarkSlateGrey",
           "width": 1
          },
          "size": 10,
          "symbol": "circle"
         },
         "mode": "markers",
         "name": "J/ApJ/716/30/blazars",
         "showlegend": true,
         "type": "scattergl",
         "x": [
          600000000
         ],
         "xaxis": "x",
         "y": [
          2.0350000262260438e-17
         ],
         "yaxis": "y"
        },
        {
         "hovertemplate": "_tabname=J/ApJ/737/45/table1<br>lambda=%{x}<br>nufnu=%{y}<extra></extra>",
         "legendgroup": "J/ApJ/737/45/table1",
         "marker": {
          "color": "#19d3f3",
          "line": {
           "color": "DarkSlateGrey",
           "width": 1
          },
          "size": 10,
          "symbol": "circle"
         },
         "mode": "markers",
         "name": "J/ApJ/737/45/table1",
         "showlegend": true,
         "type": "scattergl",
         "x": [
          2142857142.857143
         ],
         "xaxis": "x",
         "y": [
          6.8459998965263365e-18
         ],
         "yaxis": "y"
        },
        {
         "hovertemplate": "_tabname=J/ApJ/741/30/table1<br>lambda=%{x}<br>nufnu=%{y}<extra></extra>",
         "legendgroup": "J/ApJ/741/30/table1",
         "marker": {
          "color": "#FF6692",
          "line": {
           "color": "DarkSlateGrey",
           "width": 1
          },
          "size": 10,
          "symbol": "circle"
         },
         "mode": "markers",
         "name": "J/ApJ/741/30/table1",
         "showlegend": true,
         "type": "scattergl",
         "x": [
          375000000
         ],
         "xaxis": "x",
         "y": [
          2.8480000495910644e-17
         ],
         "yaxis": "y"
        },
        {
         "hovertemplate": "_tabname=J/ApJ/751/52/table5<br>lambda=%{x}<br>nufnu=%{y}<extra></extra>",
         "legendgroup": "J/ApJ/751/52/table5",
         "marker": {
          "color": "#B6E880",
          "line": {
           "color": "DarkSlateGrey",
           "width": 1
          },
          "size": 10,
          "symbol": "circle"
         },
         "mode": "markers",
         "name": "J/ApJ/751/52/table5",
         "showlegend": true,
         "type": "scattergl",
         "x": [
          12398.743593982477
         ],
         "xaxis": "x",
         "y": [
          1.0525259697139263e-13
         ],
         "yaxis": "y"
        },
        {
         "hovertemplate": "_tabname=J/ApJ/756/27/table4<br>lambda=%{x}<br>nufnu=%{y}<extra></extra>",
         "legendgroup": "J/ApJ/756/27/table4",
         "marker": {
          "color": "#FF97FF",
          "line": {
           "color": "DarkSlateGrey",
           "width": 1
          },
          "size": 10,
          "symbol": "circle"
         },
         "mode": "markers",
         "name": "J/ApJ/756/27/table4",
         "showlegend": true,
         "type": "scattergl",
         "x": [
          21652.83291230603,
          16506.189821182943,
          12398.743593982477
         ],
         "xaxis": "x",
         "y": [
          8.271435142867267e-14,
          9.523700071498752e-14,
          1.0525259697139263e-13
         ],
         "yaxis": "y"
        },
        {
         "hovertemplate": "_tabname=J/ApJ/867/105/refcat2<br>lambda=%{x}<br>nufnu=%{y}<extra></extra>",
         "legendgroup": "J/ApJ/867/105/refcat2",
         "marker": {
          "color": "#FECB52",
          "line": {
           "color": "DarkSlateGrey",
           "width": 1
          },
          "size": 10,
          "symbol": "circle"
         },
         "mode": "markers",
         "name": "J/ApJ/867/105/refcat2",
         "showlegend": true,
         "type": "scattergl",
         "x": [
          16506.189821182943,
          12398.743593982477,
          6734.611412921475,
          6734.611412921475,
          6734.611412921475
         ],
         "xaxis": "x",
         "y": [
          9.523700071498752e-14,
          1.0525259697139263e-13,
          5.6573419316299266e-14,
          3.015764138400555e-14,
          3.683954247925431e-14
         ],
         "yaxis": "y"
        },
        {
         "hovertemplate": "_tabname=J/ApJ/873/132/table1<br>lambda=%{x}<br>nufnu=%{y}<extra></extra>",
         "legendgroup": "J/ApJ/873/132/table1",
         "marker": {
          "color": "#636efa",
          "line": {
           "color": "DarkSlateGrey",
           "width": 1
          },
          "size": 10,
          "symbol": "circle"
         },
         "mode": "markers",
         "name": "J/ApJ/873/132/table1",
         "showlegend": true,
         "type": "scattergl",
         "x": [
          6734.611412921475
         ],
         "xaxis": "x",
         "y": [
          3.683954247925431e-14
         ],
         "yaxis": "y"
        },
        {
         "hovertemplate": "_tabname=J/ApJ/901/3/catalog<br>lambda=%{x}<br>nufnu=%{y}<extra></extra>",
         "legendgroup": "J/ApJ/901/3/catalog",
         "marker": {
          "color": "#EF553B",
          "line": {
           "color": "DarkSlateGrey",
           "width": 1
          },
          "size": 10,
          "symbol": "circle"
         },
         "mode": "markers",
         "name": "J/ApJ/901/3/catalog",
         "showlegend": true,
         "type": "scattergl",
         "x": [
          20000000000,
          2142857142.857143
         ],
         "xaxis": "x",
         "y": [
          1.162499964237213e-18,
          6.860000133514404e-18
         ],
         "yaxis": "y"
        },
        {
         "hovertemplate": "_tabname=J/ApJ/913/120/table1<br>lambda=%{x}<br>nufnu=%{y}<extra></extra>",
         "legendgroup": "J/ApJ/913/120/table1",
         "marker": {
          "color": "#00cc96",
          "line": {
           "color": "DarkSlateGrey",
           "width": 1
          },
          "size": 10,
          "symbol": "circle"
         },
         "mode": "markers",
         "name": "J/ApJ/913/120/table1",
         "showlegend": true,
         "type": "scattergl",
         "x": [
          6734.611412921475
         ],
         "xaxis": "x",
         "y": [
          3.683954247925431e-14
         ],
         "yaxis": "y"
        },
        {
         "hovertemplate": "_tabname=J/ApJS/171/61/table5<br>lambda=%{x}<br>nufnu=%{y}<extra></extra>",
         "legendgroup": "J/ApJS/171/61/table5",
         "marker": {
          "color": "#ab63fa",
          "line": {
           "color": "DarkSlateGrey",
           "width": 1
          },
          "size": 10,
          "symbol": "circle"
         },
         "mode": "markers",
         "name": "J/ApJS/171/61/table5",
         "showlegend": true,
         "type": "scattergl",
         "x": [
          625000000,
          357142857.14285713
         ],
         "xaxis": "x",
         "y": [
          1.953600025177002e-17,
          2.990400052070618e-17
         ],
         "yaxis": "y"
        },
        {
         "hovertemplate": "_tabname=J/ApJS/175/277/maps<br>lambda=%{x}<br>nufnu=%{y}<extra></extra>",
         "legendgroup": "J/ApJS/175/277/maps",
         "marker": {
          "color": "#FFA15A",
          "line": {
           "color": "DarkSlateGrey",
           "width": 1
          },
          "size": 10,
          "symbol": "circle"
         },
         "mode": "markers",
         "name": "J/ApJS/175/277/maps",
         "showlegend": true,
         "type": "scattergl",
         "x": [
          8556027.721529817,
          8556027.721529817,
          8556027.721529817,
          4473072.105922348,
          4473072.105922348,
          8556027.721529817,
          8556027.721529817,
          8556027.721529817,
          4473072.105922348,
          4473072.105922348
         ],
         "xaxis": "x",
         "y": [
          3.8569299791008235e-16,
          5.259450208991766e-16,
          6.661969916403295e-16,
          8.04816e-12,
          5.8550364000000004e-12,
          3.8569299791008235e-16,
          5.259450208991766e-16,
          6.661969916403295e-16,
          8.04816e-12,
          5.8550364000000004e-12
         ],
         "yaxis": "y"
        },
        {
         "hovertemplate": "_tabname=J/ApJS/199/8/table1<br>lambda=%{x}<br>nufnu=%{y}<extra></extra>",
         "legendgroup": "J/ApJS/199/8/table1",
         "marker": {
          "color": "#19d3f3",
          "line": {
           "color": "DarkSlateGrey",
           "width": 1
          },
          "size": 10,
          "symbol": "circle"
         },
         "mode": "markers",
         "name": "J/ApJS/199/8/table1",
         "showlegend": true,
         "type": "scattergl",
         "x": [
          5540.882477882645,
          4445.102978218995
         ],
         "xaxis": "x",
         "y": [
          1.1424172754734757e-13,
          1.3025570500828327e-13
         ],
         "yaxis": "y"
        },
        {
         "hovertemplate": "_tabname=J/ApJS/199/8/table2<br>lambda=%{x}<br>nufnu=%{y}<extra></extra>",
         "legendgroup": "J/ApJS/199/8/table2",
         "marker": {
          "color": "#FF6692",
          "line": {
           "color": "DarkSlateGrey",
           "width": 1
          },
          "size": 10,
          "symbol": "circle"
         },
         "mode": "markers",
         "name": "J/ApJS/199/8/table2",
         "showlegend": true,
         "type": "scattergl",
         "x": [
          5540.882477882645,
          4445.102978218995
         ],
         "xaxis": "x",
         "y": [
          1.1424172754734757e-13,
          1.3025570500828327e-13
         ],
         "yaxis": "y"
        },
        {
         "hovertemplate": "_tabname=J/ApJS/203/32/table4<br>lambda=%{x}<br>nufnu=%{y}<extra></extra>",
         "legendgroup": "J/ApJS/203/32/table4",
         "marker": {
          "color": "#B6E880",
          "line": {
           "color": "DarkSlateGrey",
           "width": 1
          },
          "size": 10,
          "symbol": "circle"
         },
         "mode": "markers",
         "name": "J/ApJS/203/32/table4",
         "showlegend": true,
         "type": "scattergl",
         "x": [
          5540.882477882645
         ],
         "xaxis": "x",
         "y": [
          9.962312221061439e-14
         ],
         "yaxis": "y"
        },
        {
         "hovertemplate": "_tabname=J/ApJS/217/17/table2<br>lambda=%{x}<br>nufnu=%{y}<extra></extra>",
         "legendgroup": "J/ApJS/217/17/table2",
         "marker": {
          "color": "#FF97FF",
          "line": {
           "color": "DarkSlateGrey",
           "width": 1
          },
          "size": 10,
          "symbol": "circle"
         },
         "mode": "markers",
         "name": "J/ApJS/217/17/table2",
         "showlegend": true,
         "type": "scattergl",
         "x": [
          700492.6798514957,
          700492.6798514957
         ],
         "xaxis": "x",
         "y": [
          2.492531473517418e-15,
          6.466876703888178e-15
         ],
         "yaxis": "y"
        },
        {
         "hovertemplate": "_tabname=J/ApJS/234/23/r90ex<br>lambda=%{x}<br>nufnu=%{y}<extra></extra>",
         "legendgroup": "J/ApJS/234/23/r90ex",
         "marker": {
          "color": "#FECB52",
          "line": {
           "color": "DarkSlateGrey",
           "width": 1
          },
          "size": 10,
          "symbol": "circle"
         },
         "mode": "markers",
         "name": "J/ApJS/234/23/r90ex",
         "showlegend": true,
         "type": "scattergl",
         "x": [
          221059.6124088129,
          115678.26019896661,
          46032.03829865587,
          33523.29869259135
         ],
         "xaxis": "x",
         "y": [
          1.3978130016177893e-14,
          1.6883033820688726e-14,
          4.6597982175350194e-14,
          5.76315621122718e-14
         ],
         "yaxis": "y"
        },
        {
         "hovertemplate": "_tabname=J/ApJS/234/23/c75ex<br>lambda=%{x}<br>nufnu=%{y}<extra></extra>",
         "legendgroup": "J/ApJS/234/23/c75ex",
         "marker": {
          "color": "#636efa",
          "line": {
           "color": "DarkSlateGrey",
           "width": 1
          },
          "size": 10,
          "symbol": "circle"
         },
         "mode": "markers",
         "name": "J/ApJS/234/23/c75ex",
         "showlegend": true,
         "type": "scattergl",
         "x": [
          221059.6124088129,
          115678.26019896661,
          46032.03829865587,
          33523.29869259135
         ],
         "xaxis": "x",
         "y": [
          1.3978130016177893e-14,
          1.6883033820688726e-14,
          4.6597982175350194e-14,
          5.76315621122718e-14
         ],
         "yaxis": "y"
        },
        {
         "hovertemplate": "_tabname=J/ApJS/255/30/comp<br>lambda=%{x}<br>nufnu=%{y}<extra></extra>",
         "legendgroup": "J/ApJS/255/30/comp",
         "marker": {
          "color": "#EF553B",
          "line": {
           "color": "DarkSlateGrey",
           "width": 1
          },
          "size": 10,
          "symbol": "circle"
         },
         "mode": "markers",
         "name": "J/ApJS/255/30/comp",
         "showlegend": true,
         "type": "scattergl",
         "x": [
          750000000
         ],
         "xaxis": "x",
         "y": [
          1.496000051498413e-17
         ],
         "yaxis": "y"
        },
        {
         "hovertemplate": "_tabname=J/ApJS/259/37/table6<br>lambda=%{x}<br>nufnu=%{y}<extra></extra>",
         "legendgroup": "J/ApJS/259/37/table6",
         "marker": {
          "color": "#00cc96",
          "line": {
           "color": "DarkSlateGrey",
           "width": 1
          },
          "size": 10,
          "symbol": "circle"
         },
         "mode": "markers",
         "name": "J/ApJS/259/37/table6",
         "showlegend": true,
         "type": "scattergl",
         "x": [
          236910.6846718787,
          78775.30656723471
         ],
         "xaxis": "x",
         "y": [
          1.4309189750924706e-14,
          3.2103967665284875e-14
         ],
         "yaxis": "y"
        },
        {
         "hovertemplate": "_tabname=J/A+A/386/97/tablea1<br>lambda=%{x}<br>nufnu=%{y}<extra></extra>",
         "legendgroup": "J/A+A/386/97/tablea1",
         "marker": {
          "color": "#ab63fa",
          "line": {
           "color": "DarkSlateGrey",
           "width": 1
          },
          "size": 10,
          "symbol": "circle"
         },
         "mode": "markers",
         "name": "J/A+A/386/97/tablea1",
         "showlegend": true,
         "type": "scattergl",
         "x": [
          1111111111.111111,
          600000000
         ],
         "xaxis": "x",
         "y": [
          9.180000096559526e-18,
          1.550000011920929e-17
         ],
         "yaxis": "y"
        },
        {
         "hovertemplate": "_tabname=J/A+A/434/385/table1<br>lambda=%{x}<br>nufnu=%{y}<extra></extra>",
         "legendgroup": "J/A+A/434/385/table1",
         "marker": {
          "color": "#FFA15A",
          "line": {
           "color": "DarkSlateGrey",
           "width": 1
          },
          "size": 10,
          "symbol": "circle"
         },
         "mode": "markers",
         "name": "J/A+A/434/385/table1",
         "showlegend": true,
         "type": "scattergl",
         "x": [
          2142857142.857143
         ],
         "xaxis": "x",
         "y": [
          6.860000133514404e-18
         ],
         "yaxis": "y"
        },
        {
         "hovertemplate": "_tabname=J/A+A/495/691/bzcat4<br>lambda=%{x}<br>nufnu=%{y}<extra></extra>",
         "legendgroup": "J/A+A/495/691/bzcat4",
         "marker": {
          "color": "#19d3f3",
          "line": {
           "color": "DarkSlateGrey",
           "width": 1
          },
          "size": 10,
          "symbol": "circle"
         },
         "mode": "markers",
         "name": "J/A+A/495/691/bzcat4",
         "showlegend": true,
         "type": "scattergl",
         "x": [
          2142857142.857143
         ],
         "xaxis": "x",
         "y": [
          6.8459998965263365e-18
         ],
         "yaxis": "y"
        },
        {
         "hovertemplate": "_tabname=J/A+A/537/A99/lqac2<br>lambda=%{x}<br>nufnu=%{y}<extra></extra>",
         "legendgroup": "J/A+A/537/A99/lqac2",
         "marker": {
          "color": "#FF6692",
          "line": {
           "color": "DarkSlateGrey",
           "width": 1
          },
          "size": 10,
          "symbol": "circle"
         },
         "mode": "markers",
         "name": "J/A+A/537/A99/lqac2",
         "showlegend": true,
         "type": "scattergl",
         "x": [
          2000000000,
          1000000000,
          500000000,
          21915.406530791144,
          12508.86044281366
         ],
         "xaxis": "x",
         "y": [
          6.4500001072883614e-18,
          8.699999749660492e-18,
          2.400000035762787e-17,
          7.925931049771608e-14,
          1.0624469267316163e-13
         ],
         "yaxis": "y"
        },
        {
         "hovertemplate": "_tabname=J/A+A/544/A34/sources<br>lambda=%{x}<br>nufnu=%{y}<extra></extra>",
         "legendgroup": "J/A+A/544/A34/sources",
         "marker": {
          "color": "#B6E880",
          "line": {
           "color": "DarkSlateGrey",
           "width": 1
          },
          "size": 10,
          "symbol": "circle"
         },
         "mode": "markers",
         "name": "J/A+A/544/A34/sources",
         "showlegend": true,
         "type": "scattergl",
         "x": [
          1304347826.0869565,
          1304347826.0869565,
          1304347826.0869565,
          1304347826.0869565,
          348837209.30232555,
          348837209.30232555,
          348837209.30232555,
          348837209.30232555
         ],
         "xaxis": "x",
         "y": [
          5.75e-18,
          5.290000095963478e-18,
          6.900000274181367e-18,
          5.75e-18,
          1.9780000358819963e-17,
          1.2900000512599946e-17,
          2.063999953866005e-17,
          1.8059999436140062e-17
         ],
         "yaxis": "y"
        },
        {
         "hovertemplate": "_tabname=J/A+A/583/A75/lqac3<br>lambda=%{x}<br>nufnu=%{y}<extra></extra>",
         "legendgroup": "J/A+A/583/A75/lqac3",
         "marker": {
          "color": "#FF97FF",
          "line": {
           "color": "DarkSlateGrey",
           "width": 1
          },
          "size": 10,
          "symbol": "circle"
         },
         "mode": "markers",
         "name": "J/A+A/583/A75/lqac3",
         "showlegend": true,
         "type": "scattergl",
         "x": [
          2000000000,
          1000000000,
          500000000,
          250000000,
          21915.406530791144,
          12508.86044281366
         ],
         "xaxis": "x",
         "y": [
          6.4500001072883614e-18,
          8.819999992847444e-18,
          2.400000035762787e-17,
          2.9520000815391546e-17,
          7.898553096279503e-14,
          1.0648451779857279e-13
         ],
         "yaxis": "y"
        },
        {
         "hovertemplate": "_tabname=J/A+A/587/A112/sources<br>lambda=%{x}<br>nufnu=%{y}<extra></extra>",
         "legendgroup": "J/A+A/587/A112/sources",
         "marker": {
          "color": "#FECB52",
          "line": {
           "color": "DarkSlateGrey",
           "width": 1
          },
          "size": 10,
          "symbol": "circle"
         },
         "mode": "markers",
         "name": "J/A+A/587/A112/sources",
         "showlegend": true,
         "type": "scattergl",
         "x": [
          6473.469563903934,
          5473.453749315819
         ],
         "xaxis": "x",
         "y": [
          3.860371729983017e-14,
          6.193530198466033e-14
         ],
         "yaxis": "y"
        },
        {
         "hovertemplate": "_tabname=J/A+A/588/A141/table5<br>lambda=%{x}<br>nufnu=%{y}<extra></extra>",
         "legendgroup": "J/A+A/588/A141/table5",
         "marker": {
          "color": "#636efa",
          "line": {
           "color": "DarkSlateGrey",
           "width": 1
          },
          "size": 10,
          "symbol": "circle"
         },
         "mode": "markers",
         "name": "J/A+A/588/A141/table5",
         "showlegend": true,
         "type": "scattergl",
         "x": [
          16666666666.666668,
          2142857142.857143
         ],
         "xaxis": "x",
         "y": [
          1.4759999871253968e-18,
          6.8459998965263365e-18
         ],
         "yaxis": "y"
        },
        {
         "hovertemplate": "_tabname=J/A+A/588/A141/table6<br>lambda=%{x}<br>nufnu=%{y}<extra></extra>",
         "legendgroup": "J/A+A/588/A141/table6",
         "marker": {
          "color": "#EF553B",
          "line": {
           "color": "DarkSlateGrey",
           "width": 1
          },
          "size": 10,
          "symbol": "circle"
         },
         "mode": "markers",
         "name": "J/A+A/588/A141/table6",
         "showlegend": true,
         "type": "scattergl",
         "x": [
          16666666666.666668
         ],
         "xaxis": "x",
         "y": [
          1.4759999871253968e-18
         ],
         "yaxis": "y"
        },
        {
         "hovertemplate": "_tabname=J/A+A/614/A140/lqac4<br>lambda=%{x}<br>nufnu=%{y}<extra></extra>",
         "legendgroup": "J/A+A/614/A140/lqac4",
         "marker": {
          "color": "#00cc96",
          "line": {
           "color": "DarkSlateGrey",
           "width": 1
          },
          "size": 10,
          "symbol": "circle"
         },
         "mode": "markers",
         "name": "J/A+A/614/A140/lqac4",
         "showlegend": true,
         "type": "scattergl",
         "x": [
          2000000000,
          1000000000,
          500000000,
          250000000,
          21915.406530791144,
          12508.86044281366
         ],
         "xaxis": "x",
         "y": [
          6.4500001072883614e-18,
          8.819999992847444e-18,
          2.400000035762787e-17,
          2.9520000815391546e-17,
          7.898553096279503e-14,
          1.0648451779857279e-13
         ],
         "yaxis": "y"
        },
        {
         "hovertemplate": "_tabname=J/A+A/618/A80/adevclas<br>lambda=%{x}<br>nufnu=%{y}<extra></extra>",
         "legendgroup": "J/A+A/618/A80/adevclas",
         "marker": {
          "color": "#ab63fa",
          "line": {
           "color": "DarkSlateGrey",
           "width": 1
          },
          "size": 10,
          "symbol": "circle"
         },
         "mode": "markers",
         "name": "J/A+A/618/A80/adevclas",
         "showlegend": true,
         "type": "scattergl",
         "x": [
          357142857.14285713
         ],
         "xaxis": "x",
         "y": [
          2.234400022029877e-17
         ],
         "yaxis": "y"
        },
        {
         "hovertemplate": "_tabname=J/A+A/624/A145/lqac5<br>lambda=%{x}<br>nufnu=%{y}<extra></extra>",
         "legendgroup": "J/A+A/624/A145/lqac5",
         "marker": {
          "color": "#FFA15A",
          "line": {
           "color": "DarkSlateGrey",
           "width": 1
          },
          "size": 10,
          "symbol": "circle"
         },
         "mode": "markers",
         "name": "J/A+A/624/A145/lqac5",
         "showlegend": true,
         "type": "scattergl",
         "x": [
          2000000000,
          1000000000,
          500000000,
          250000000,
          21915.406530791144,
          12508.86044281366,
          6734.611412921475,
          6734.611412921475,
          6734.611412921475
         ],
         "xaxis": "x",
         "y": [
          6.4500001072883614e-18,
          8.819999992847444e-18,
          2.400000035762787e-17,
          2.9520000815391546e-17,
          7.898553096279503e-14,
          1.0648451779857279e-13,
          5.6573419316299266e-14,
          3.015764138400555e-14,
          3.683954247925431e-14
         ],
         "yaxis": "y"
        },
        {
         "hovertemplate": "_tabname=J/A+A/655/A48/tableb1<br>lambda=%{x}<br>nufnu=%{y}<extra></extra>",
         "legendgroup": "J/A+A/655/A48/tableb1",
         "marker": {
          "color": "#19d3f3",
          "line": {
           "color": "DarkSlateGrey",
           "width": 1
          },
          "size": 10,
          "symbol": "circle"
         },
         "mode": "markers",
         "name": "J/A+A/655/A48/tableb1",
         "showlegend": true,
         "type": "scattergl",
         "x": [
          6006.968082976253,
          6006.968082976253,
          6006.968082976253,
          6006.968082976253,
          6006.968082976253,
          6006.968082976253,
          6006.968082976253,
          6006.968082976253,
          6006.968082976253,
          6006.968082976253,
          6006.968082976253,
          6006.968082976253,
          6006.968082976253,
          6006.968082976253,
          6006.968082976253,
          6006.968082976253
         ],
         "xaxis": "x",
         "y": [
          6.9918802158162e-14,
          2.232407421730459e-13,
          1.9527321386784315e-13,
          1.6530802756100893e-13,
          1.0088283607065678e-13,
          8.440197615996004e-14,
          1.4982599665112795e-13,
          7.091764046140016e-14,
          1.9127786065489054e-13,
          1.423347000744194e-13,
          4.6895539268106227e-14,
          1.4133586177118125e-13,
          9.239270119071008e-14,
          9.788632116094233e-14,
          8.54008237656206e-14,
          3.9753832376562064e-14
         ],
         "yaxis": "y"
        },
        {
         "hovertemplate": "_tabname=J/A+A/655/A48/tableb4<br>lambda=%{x}<br>nufnu=%{y}<extra></extra>",
         "legendgroup": "J/A+A/655/A48/tableb4",
         "marker": {
          "color": "#FF6692",
          "line": {
           "color": "DarkSlateGrey",
           "width": 1
          },
          "size": 10,
          "symbol": "circle"
         },
         "mode": "markers",
         "name": "J/A+A/655/A48/tableb4",
         "showlegend": true,
         "type": "scattergl",
         "x": [
          3550295857.988166,
          2142857142.857143
         ],
         "xaxis": "x",
         "y": [
          4.047550018131733e-18,
          6.8459998965263365e-18
         ],
         "yaxis": "y"
        },
        {
         "hovertemplate": "_tabname=J/AJ/152/25/quasars<br>lambda=%{x}<br>nufnu=%{y}<extra></extra>",
         "legendgroup": "J/AJ/152/25/quasars",
         "marker": {
          "color": "#B6E880",
          "line": {
           "color": "DarkSlateGrey",
           "width": 1
          },
          "size": 10,
          "symbol": "circle"
         },
         "mode": "markers",
         "name": "J/AJ/152/25/quasars",
         "showlegend": true,
         "type": "scattergl",
         "x": [
          46032.03829865587,
          33523.29869259135,
          2313.565203979332,
          1530.0657928290916
         ],
         "xaxis": "x",
         "y": [
          4.6793496629297736e-14,
          5.790002998933197e-14,
          1.906149022607133e-13,
          2.01952103885822e-13
         ],
         "yaxis": "y"
        },
        {
         "hovertemplate": "_tabname=J/AJ/152/25/table6<br>lambda=%{x}<br>nufnu=%{y}<extra></extra>",
         "legendgroup": "J/AJ/152/25/table6",
         "marker": {
          "color": "#FF97FF",
          "line": {
           "color": "DarkSlateGrey",
           "width": 1
          },
          "size": 10,
          "symbol": "circle"
         },
         "mode": "markers",
         "name": "J/AJ/152/25/table6",
         "showlegend": true,
         "type": "scattergl",
         "x": [
          2313.565203979332,
          1530.0657928290916
         ],
         "xaxis": "x",
         "y": [
          1.906149022607133e-13,
          2.01952103885822e-13
         ],
         "yaxis": "y"
        },
        {
         "hovertemplate": "_tabname=J/AJ/156/241/table4<br>lambda=%{x}<br>nufnu=%{y}<extra></extra>",
         "legendgroup": "J/AJ/156/241/table4",
         "marker": {
          "color": "#FECB52",
          "line": {
           "color": "DarkSlateGrey",
           "width": 1
          },
          "size": 10,
          "symbol": "circle"
         },
         "mode": "markers",
         "name": "J/AJ/156/241/table4",
         "showlegend": true,
         "type": "scattergl",
         "x": [
          9603.072983354674,
          8658.008658008659,
          7485.029940119761,
          6129.955046996322,
          4775.549188156638
         ],
         "xaxis": "x",
         "y": [
          5.935599809139967e-14,
          5.509350322186947e-14,
          4.929839837551117e-14,
          4.057126127183438e-14,
          1.8783179685473444e-14
         ],
         "yaxis": "y"
        },
        {
         "hovertemplate": "_tabname=J/MNRAS/325/1411/table3<br>lambda=%{x}<br>nufnu=%{y}<extra></extra>",
         "legendgroup": "J/MNRAS/325/1411/table3",
         "marker": {
          "color": "#636efa",
          "line": {
           "color": "DarkSlateGrey",
           "width": 1
          },
          "size": 10,
          "symbol": "circle"
         },
         "mode": "markers",
         "name": "J/MNRAS/325/1411/table3",
         "showlegend": true,
         "type": "scattergl",
         "x": [
          1250000000,
          1250000000,
          625000000,
          625000000,
          348837209.30232555,
          348837209.30232555
         ],
         "xaxis": "x",
         "y": [
          1.127999997138977e-17,
          9.839999914169311e-18,
          2.4000000000000002e-17,
          2.1119999885559084e-17,
          4.214000082015991e-17,
          3.6980000615119935e-17
         ],
         "yaxis": "y"
        },
        {
         "hovertemplate": "_tabname=J/MNRAS/402/2403/at20gcat<br>lambda=%{x}<br>nufnu=%{y}<extra></extra>",
         "legendgroup": "J/MNRAS/402/2403/at20gcat",
         "marker": {
          "color": "#EF553B",
          "line": {
           "color": "DarkSlateGrey",
           "width": 1
          },
          "size": 10,
          "symbol": "circle"
         },
         "mode": "markers",
         "name": "J/MNRAS/402/2403/at20gcat",
         "showlegend": true,
         "type": "scattergl",
         "x": [
          600000000,
          375000000,
          150000000
         ],
         "xaxis": "x",
         "y": [
          1.8449999392032625e-17,
          3.016000032424927e-17,
          6.999999880790711e-17
         ],
         "yaxis": "y"
        },
        {
         "hovertemplate": "_tabname=J/MNRAS/405/2062/AGNs<br>lambda=%{x}<br>nufnu=%{y}<extra></extra>",
         "legendgroup": "J/MNRAS/405/2062/AGNs",
         "marker": {
          "color": "#00cc96",
          "line": {
           "color": "DarkSlateGrey",
           "width": 1
          },
          "size": 10,
          "symbol": "circle"
         },
         "mode": "markers",
         "name": "J/MNRAS/405/2062/AGNs",
         "showlegend": true,
         "type": "scattergl",
         "x": [
          21652.83291230603,
          16506.189821182943,
          12398.743593982477
         ],
         "xaxis": "x",
         "y": [
          8.271435142867267e-14,
          9.523700071498752e-14,
          1.0525259697139263e-13
         ],
         "yaxis": "y"
        },
        {
         "hovertemplate": "_tabname=J/MNRAS/407/2399/table1<br>lambda=%{x}<br>nufnu=%{y}<extra></extra>",
         "legendgroup": "J/MNRAS/407/2399/table1",
         "marker": {
          "color": "#ab63fa",
          "line": {
           "color": "DarkSlateGrey",
           "width": 1
          },
          "size": 10,
          "symbol": "circle"
         },
         "mode": "markers",
         "name": "J/MNRAS/407/2399/table1",
         "showlegend": true,
         "type": "scattergl",
         "x": [
          120081.65552575751
         ],
         "xaxis": "x",
         "y": [
          2.498300037227571e-14
         ],
         "yaxis": "y"
        },
        {
         "hovertemplate": "_tabname=J/MNRAS/417/2651/catalog<br>lambda=%{x}<br>nufnu=%{y}<extra></extra>",
         "legendgroup": "J/MNRAS/417/2651/catalog",
         "marker": {
          "color": "#FFA15A",
          "line": {
           "color": "DarkSlateGrey",
           "width": 1
          },
          "size": 10,
          "symbol": "circle"
         },
         "mode": "markers",
         "name": "J/MNRAS/417/2651/catalog",
         "showlegend": true,
         "type": "scattergl",
         "x": [
          625000000,
          357142857.14285713,
          150000000
         ],
         "xaxis": "x",
         "y": [
          1.771199941635132e-17,
          3.1668000340461737e-17,
          6.999999880790711e-17
         ],
         "yaxis": "y"
        },
        {
         "hovertemplate": "_tabname=J/MNRAS/434/956/table2<br>lambda=%{x}<br>nufnu=%{y}<extra></extra>",
         "legendgroup": "J/MNRAS/434/956/table2",
         "marker": {
          "color": "#19d3f3",
          "line": {
           "color": "DarkSlateGrey",
           "width": 1
          },
          "size": 10,
          "symbol": "circle"
         },
         "mode": "markers",
         "name": "J/MNRAS/434/956/table2",
         "showlegend": true,
         "type": "scattergl",
         "x": [
          3750000000,
          2142857142.857143,
          625000000,
          348837209.30232555,
          150000000
         ],
         "xaxis": "x",
         "y": [
          3.832000017166138e-18,
          6.8459998965263365e-18,
          1.771199941635132e-17,
          3.242200034856796e-17,
          6.999999880790711e-17
         ],
         "yaxis": "y"
        },
        {
         "hovertemplate": "_tabname=J/MNRAS/451/4193/table2<br>lambda=%{x}<br>nufnu=%{y}<extra></extra>",
         "legendgroup": "J/MNRAS/451/4193/table2",
         "marker": {
          "color": "#FF6692",
          "line": {
           "color": "DarkSlateGrey",
           "width": 1
          },
          "size": 10,
          "symbol": "circle"
         },
         "mode": "markers",
         "name": "J/MNRAS/451/4193/table2",
         "showlegend": true,
         "type": "scattergl",
         "x": [
          2142857142.857143,
          2142857142.857143
         ],
         "xaxis": "x",
         "y": [
          1.8479999899864197e-18,
          3.5280000567436216e-18
         ],
         "yaxis": "y"
        },
        {
         "hovertemplate": "_tabname=J/MNRAS/455/3249/paco<br>lambda=%{x}<br>nufnu=%{y}<extra></extra>",
         "legendgroup": "J/MNRAS/455/3249/paco",
         "marker": {
          "color": "#B6E880",
          "line": {
           "color": "DarkSlateGrey",
           "width": 1
          },
          "size": 10,
          "symbol": "circle"
         },
         "mode": "markers",
         "name": "J/MNRAS/455/3249/paco",
         "showlegend": true,
         "type": "scattergl",
         "x": [
          633981403.2121724,
          572082379.8627002,
          521195274.49617785,
          478621569.87874925,
          364431486.8804665,
          343092406.22140896,
          324114088.159032,
          307125307.1253071,
          174094707.52089137,
          169071235.34715962,
          164329535.49517968,
          159846547.314578,
          129132231.4049587,
          126347708.8948787,
          123680738.78627968,
          121124031.00775194,
          93075204.76545048,
          91619838.7490838,
          90209285.54245849,
          88841506.75195451,
          78468298.80728185,
          77431344.20813546,
          76421438.76095374,
          75437537.71876886,
          633981403.2121724,
          572082379.8627002,
          521195274.49617785,
          478621569.87874925,
          364431486.8804665,
          343092406.22140896,
          324114088.159032,
          307125307.1253071,
          174094707.52089137,
          169071235.34715962,
          164329535.49517968,
          159846547.314578,
          129132231.4049587,
          126347708.8948787,
          123680738.78627968,
          121124031.00775194,
          633981403.2121724,
          572082379.8627002,
          521195274.49617785,
          478621569.87874925,
          364431486.8804665,
          343092406.22140896,
          324114088.159032,
          307125307.1253071,
          174094707.52089137,
          169071235.34715962,
          164329535.49517968,
          159846547.314578,
          129132231.4049587,
          126347708.8948787,
          123680738.78627968,
          121124031.00775194,
          93075204.76545048,
          91619838.7490838,
          90209285.54245849,
          88841506.75195451,
          78468298.80728185,
          77431344.20813546,
          76421438.76095374,
          75437537.71876886,
          633981403.2121724,
          572082379.8627002,
          521195274.49617785,
          478621569.87874925,
          364431486.8804665,
          343092406.22140896,
          324114088.159032,
          307125307.1253071,
          174094707.52089137,
          169071235.34715962,
          164329535.49517968,
          159846547.314578,
          129132231.4049587,
          126347708.8948787,
          123680738.78627968,
          121124031.00775194,
          93075204.76545048,
          91619838.7490838,
          90209285.54245849,
          88841506.75195451,
          78468298.80728185,
          77431344.20813546,
          76421438.76095374,
          75437537.71876886,
          633981403.2121724,
          572082379.8627002,
          521195274.49617785,
          478621569.87874925,
          364431486.8804665,
          343092406.22140896,
          324114088.159032,
          307125307.1253071,
          174094707.52089137,
          169071235.34715962,
          164329535.49517968,
          159846547.314578,
          129132231.4049587,
          126347708.8948787,
          123680738.78627968,
          121124031.00775194,
          93075204.76545048,
          91619838.7490838,
          90209285.54245849,
          88841506.75195451,
          78468298.80728185,
          77431344.20813546,
          76421438.76095374,
          75437537.71876886,
          633981403.2121724,
          572082379.8627002,
          521195274.49617785,
          478621569.87874925,
          364431486.8804665,
          343092406.22140896,
          324114088.159032,
          307125307.1253071,
          174094707.52089137,
          169071235.34715962,
          164329535.49517968,
          159846547.314578,
          129132231.4049587,
          126347708.8948787,
          123680738.78627968,
          121124031.00775194,
          93075204.76545048,
          91619838.7490838,
          90209285.54245849,
          88841506.75195451,
          78468298.80728185,
          77431344.20813546,
          76421438.76095374,
          75437537.71876886
         ],
         "xaxis": "x",
         "y": [
          1.7886959582567218e-17,
          2.0136960175037386e-17,
          2.210304019212723e-17,
          2.3693039447069168e-17,
          3.021144111871719e-17,
          3.191560083389282e-17,
          3.378440088272095e-17,
          3.594624006986619e-17,
          5.3936158890724184e-17,
          5.518383813858033e-17,
          5.659360043525695e-17,
          5.818080044746399e-17,
          7.457472227096559e-17,
          7.574336135864258e-17,
          7.592127843856812e-17,
          7.479935657501222e-17,
          9.798527684926987e-17,
          1.0085151945352556e-16,
          1.0309360079288484e-16,
          1.0299240241527558e-16,
          1.1660760273456574e-16,
          1.1390735990762712e-16,
          1.1580519485235216e-16,
          1.141341601896286e-16,
          2.0347600338459016e-17,
          2.2129679524898527e-17,
          2.4175199245214466e-17,
          2.6137559731006622e-17,
          3.399815897941589e-17,
          3.558808045864105e-17,
          3.841239922761918e-17,
          4.00487996506691e-17,
          6.23798380279541e-17,
          6.387840253829956e-17,
          6.535648187160492e-17,
          6.681408116340638e-17,
          7.898880083084106e-17,
          8.00172829437256e-17,
          8.004480318069458e-17,
          8.099135805130007e-17,
          1.996903957128525e-17,
          2.1919920662641524e-17,
          2.3772279286384588e-17,
          2.5886839222908023e-17,
          3.259871982336044e-17,
          3.427647910356522e-17,
          3.6283519051074985e-17,
          3.868127979040146e-17,
          6.255216094493867e-17,
          6.387840253829956e-17,
          6.535648187160492e-17,
          6.662639798641206e-17,
          7.689792005538941e-17,
          7.740544118881227e-17,
          7.907456121444703e-17,
          8.024832023620606e-17,
          1.0378703900098801e-16,
          1.0445336187362672e-16,
          1.0708431896924973e-16,
          1.0299240241527558e-16,
          1.1546063471317293e-16,
          1.1739432120084764e-16,
          1.1698288308858872e-16,
          1.2208776445627213e-16,
          1.9259240248203278e-17,
          2.1238200062513355e-17,
          2.3081559602022172e-17,
          2.482127986550331e-17,
          3.1363921000957483e-17,
          3.322719958305359e-17,
          3.498767918348313e-17,
          3.682536039590836e-17,
          5.979504049301148e-17,
          6.139423750400544e-17,
          6.243552139282227e-17,
          6.362351749420167e-17,
          7.3877757396698e-17,
          7.550591733932496e-17,
          7.616384254455568e-17,
          7.85145604133606e-17,
          1.0378703900098801e-16,
          1.0445336187362672e-16,
          1.0708431896924973e-16,
          1.0940832032203676e-16,
          1.189015159893036e-16,
          1.1816920277118684e-16,
          1.209084793448448e-16,
          1.224854393362999e-16,
          1.8454799323081975e-17,
          2.018939949989319e-17,
          2.2160599451065064e-17,
          2.4382519910335543e-17,
          3.4327439646720883e-17,
          3.663735997915268e-17,
          3.7394241302013405e-17,
          3.926736097812653e-17,
          6.117359815120697e-17,
          6.245887966156006e-17,
          6.407856200218201e-17,
          6.550032129764558e-17,
          7.666560304641724e-17,
          7.716799716949463e-17,
          7.883199710845948e-17,
          7.975295923233033e-17,
          8.831567646503449e-17,
          8.939112062454223e-17,
          9.012375928640366e-17,
          9.083591790676117e-17,
          9.978552282571793e-17,
          1.0034696129322053e-16,
          1.0128047466516496e-16,
          1.022037597155571e-16,
          1.8644079706668856e-17,
          2.055647946238518e-17,
          2.2563519409894946e-17,
          2.4507880164384844e-17,
          3.095231894016266e-17,
          3.287743887424469e-17,
          3.45248796248436e-17,
          3.643463960409165e-17,
          5.807184213638306e-17,
          5.944240148067475e-17,
          6.060991769313812e-17,
          6.174671928405763e-17,
          7.550399723052979e-17,
          7.526848039627076e-17,
          7.228288190841675e-17,
          7.28179199409485e-17,
          8.863800192117691e-17,
          9.00460019516945e-17,
          8.979120356798172e-17,
          9.286200201272966e-17,
          1.0360871917963028e-16,
          1.0112184286355973e-16,
          9.814e-17,
          9.782928270220757e-17
         ],
         "yaxis": "y"
        },
        {
         "hovertemplate": "_tabname=J/MNRAS/455/3249/pacopccs<br>lambda=%{x}<br>nufnu=%{y}<extra></extra>",
         "legendgroup": "J/MNRAS/455/3249/pacopccs",
         "marker": {
          "color": "#FF97FF",
          "line": {
           "color": "DarkSlateGrey",
           "width": 1
          },
          "size": 10,
          "symbol": "circle"
         },
         "mode": "markers",
         "name": "J/MNRAS/455/3249/pacopccs",
         "showlegend": true,
         "type": "scattergl",
         "x": [
          545454545.4545455,
          333333333.3333333,
          166666666.66666666,
          125000000,
          105263157.89473684,
          90909090.9090909,
          76923076.92307693,
          68027210.88435374,
          42674253.20056899,
          30000000,
          20979020.97902098,
          13824884.792626727,
          8498583.5694051,
          5504587.155963303,
          3500583.430571762
         ],
         "xaxis": "x",
         "y": [
          2.200000032782555e-17,
          3.500999987125397e-17,
          6.156000137329102e-17,
          7.679999828338623e-17,
          0,
          9.834000259637833e-17,
          1.1114999860525131e-16,
          0,
          0,
          3.1799998879432683e-16,
          3.961100143194199e-16,
          4.969300046563149e-16,
          0,
          0,
          0
         ],
         "yaxis": "y"
        },
        {
         "hovertemplate": "_tabname=J/MNRAS/458/3479/clasi-ii<br>lambda=%{x}<br>nufnu=%{y}<extra></extra>",
         "legendgroup": "J/MNRAS/458/3479/clasi-ii",
         "marker": {
          "color": "#FECB52",
          "line": {
           "color": "DarkSlateGrey",
           "width": 1
          },
          "size": 10,
          "symbol": "circle"
         },
         "mode": "markers",
         "name": "J/MNRAS/458/3479/clasi-ii",
         "showlegend": true,
         "type": "scattergl",
         "x": [
          21652.83291230603,
          16506.189821182943,
          12398.743593982477
         ],
         "xaxis": "x",
         "y": [
          8.271435142867267e-14,
          9.523700071498752e-14,
          1.0525259697139263e-13
         ],
         "yaxis": "y"
        },
        {
         "hovertemplate": "_tabname=J/MNRAS/459/4343/table3<br>lambda=%{x}<br>nufnu=%{y}<extra></extra>",
         "legendgroup": "J/MNRAS/459/4343/table3",
         "marker": {
          "color": "#636efa",
          "line": {
           "color": "DarkSlateGrey",
           "width": 1
          },
          "size": 10,
          "symbol": "circle"
         },
         "mode": "markers",
         "name": "J/MNRAS/459/4343/table3",
         "showlegend": true,
         "type": "scattergl",
         "x": [
          5540.882477882645
         ],
         "xaxis": "x",
         "y": [
          7.30930518959649e-14
         ],
         "yaxis": "y"
        },
        {
         "hovertemplate": "_tabname=J/MNRAS/463/4210/ucac4rpm<br>lambda=%{x}<br>nufnu=%{y}<extra></extra>",
         "legendgroup": "J/MNRAS/463/4210/ucac4rpm",
         "marker": {
          "color": "#EF553B",
          "line": {
           "color": "DarkSlateGrey",
           "width": 1
          },
          "size": 10,
          "symbol": "circle"
         },
         "mode": "markers",
         "name": "J/MNRAS/463/4210/ucac4rpm",
         "showlegend": true,
         "type": "scattergl",
         "x": [
          5540.882477882645,
          4445.102978218995
         ],
         "xaxis": "x",
         "y": [
          8.338021954819561e-14,
          9.111150236334653e-14
         ],
         "yaxis": "y"
        },
        {
         "hovertemplate": "_tabname=J/MNRAS/473/4937/2rxswg<br>lambda=%{x}<br>nufnu=%{y}<extra></extra>",
         "legendgroup": "J/MNRAS/473/4937/2rxswg",
         "marker": {
          "color": "#00cc96",
          "line": {
           "color": "DarkSlateGrey",
           "width": 1
          },
          "size": 10,
          "symbol": "circle"
         },
         "mode": "markers",
         "name": "J/MNRAS/473/4937/2rxswg",
         "showlegend": true,
         "type": "scattergl",
         "x": [
          16506.189821182943,
          12398.743593982477
         ],
         "xaxis": "x",
         "y": [
          9.523700071498752e-14,
          1.0525259697139263e-13
         ],
         "yaxis": "y"
        },
        {
         "hovertemplate": "_tabname=J/MNRAS/474/5008/spidxcat<br>lambda=%{x}<br>nufnu=%{y}<extra></extra>",
         "legendgroup": "J/MNRAS/474/5008/spidxcat",
         "marker": {
          "color": "#ab63fa",
          "line": {
           "color": "DarkSlateGrey",
           "width": 1
          },
          "size": 10,
          "symbol": "circle"
         },
         "mode": "markers",
         "name": "J/MNRAS/474/5008/spidxcat",
         "showlegend": true,
         "type": "scattergl",
         "x": [
          20408163265.306126,
          2142857142.857143
         ],
         "xaxis": "x",
         "y": [
          1.1465999579429626e-18,
          6.860000133514404e-18
         ],
         "yaxis": "y"
        },
        {
         "hovertemplate": "_tabname=J/MNRAS/476/2717/catalog<br>lambda=%{x}<br>nufnu=%{y}<extra></extra>",
         "legendgroup": "J/MNRAS/476/2717/catalog",
         "marker": {
          "color": "#FFA15A",
          "line": {
           "color": "DarkSlateGrey",
           "width": 1
          },
          "size": 10,
          "symbol": "circle"
         },
         "mode": "markers",
         "name": "J/MNRAS/476/2717/catalog",
         "showlegend": true,
         "type": "scattergl",
         "x": [
          40540540540.54054,
          25201612903.225807,
          20032051282.05128,
          16622340425.531914,
          3558718861.2099648,
          2142857142.857143
         ],
         "xaxis": "x",
         "y": [
          5.779400134086609e-19,
          1.0582655982971192e-18,
          1.329868817138672e-18,
          1.373452759552002e-18,
          4.0379700180888175e-18,
          6.8459998965263365e-18
         ],
         "yaxis": "y"
        },
        {
         "hovertemplate": "_tabname=J/other/NewA/11.27/table1<br>lambda=%{x}<br>nufnu=%{y}<extra></extra>",
         "legendgroup": "J/other/NewA/11.27/table1",
         "marker": {
          "color": "#19d3f3",
          "line": {
           "color": "DarkSlateGrey",
           "width": 1
          },
          "size": 10,
          "symbol": "circle"
         },
         "mode": "markers",
         "name": "J/other/NewA/11.27/table1",
         "showlegend": true,
         "type": "scattergl",
         "x": [
          21652.83291230603,
          16506.189821182943,
          12398.743593982477
         ],
         "xaxis": "x",
         "y": [
          8.271435142867267e-14,
          9.523700071498752e-14,
          1.0525259697139263e-13
         ],
         "yaxis": "y"
        },
        {
         "hovertemplate": "_tabname=J/other/NewA/11.557/BLLac<br>lambda=%{x}<br>nufnu=%{y}<extra></extra>",
         "legendgroup": "J/other/NewA/11.557/BLLac",
         "marker": {
          "color": "#FF6692",
          "line": {
           "color": "DarkSlateGrey",
           "width": 1
          },
          "size": 10,
          "symbol": "circle"
         },
         "mode": "markers",
         "name": "J/other/NewA/11.557/BLLac",
         "showlegend": true,
         "type": "scattergl",
         "x": [
          21652.83291230603,
          16506.189821182943,
          12398.743593982477
         ],
         "xaxis": "x",
         "y": [
          8.271435142867267e-14,
          9.523700071498752e-14,
          1.0525259697139263e-13
         ],
         "yaxis": "y"
        },
        {
         "hovertemplate": "_tabname=J/other/NewA/16.503/table1<br>lambda=%{x}<br>nufnu=%{y}<extra></extra>",
         "legendgroup": "J/other/NewA/16.503/table1",
         "marker": {
          "color": "#B6E880",
          "line": {
           "color": "DarkSlateGrey",
           "width": 1
          },
          "size": 10,
          "symbol": "circle"
         },
         "mode": "markers",
         "name": "J/other/NewA/16.503/table1",
         "showlegend": true,
         "type": "scattergl",
         "x": [
          21652.83291230603,
          16506.189821182943,
          12398.743593982477
         ],
         "xaxis": "x",
         "y": [
          8.271435142867267e-14,
          9.523700071498752e-14,
          1.0525259697139263e-13
         ],
         "yaxis": "y"
        },
        {
         "hovertemplate": "_tabname=J/other/AstBu/70.264/table<br>lambda=%{x}<br>nufnu=%{y}<extra></extra>",
         "legendgroup": "J/other/AstBu/70.264/table",
         "marker": {
          "color": "#FF97FF",
          "line": {
           "color": "DarkSlateGrey",
           "width": 1
          },
          "size": 10,
          "symbol": "circle"
         },
         "mode": "markers",
         "name": "J/other/AstBu/70.264/table",
         "showlegend": true,
         "type": "scattergl",
         "x": [
          625000000
         ],
         "xaxis": "x",
         "y": [
          2.3616000652313235e-17
         ],
         "yaxis": "y"
        }
       ],
       "layout": {
        "legend": {
         "title": {
          "text": "_tabname"
         },
         "tracegroupgap": 0
        },
        "margin": {
         "t": 60
        },
        "template": {
         "data": {
          "bar": [
           {
            "error_x": {
             "color": "#2a3f5f"
            },
            "error_y": {
             "color": "#2a3f5f"
            },
            "marker": {
             "line": {
              "color": "#E5ECF6",
              "width": 0.5
             },
             "pattern": {
              "fillmode": "overlay",
              "size": 10,
              "solidity": 0.2
             }
            },
            "type": "bar"
           }
          ],
          "barpolar": [
           {
            "marker": {
             "line": {
              "color": "#E5ECF6",
              "width": 0.5
             },
             "pattern": {
              "fillmode": "overlay",
              "size": 10,
              "solidity": 0.2
             }
            },
            "type": "barpolar"
           }
          ],
          "carpet": [
           {
            "aaxis": {
             "endlinecolor": "#2a3f5f",
             "gridcolor": "white",
             "linecolor": "white",
             "minorgridcolor": "white",
             "startlinecolor": "#2a3f5f"
            },
            "baxis": {
             "endlinecolor": "#2a3f5f",
             "gridcolor": "white",
             "linecolor": "white",
             "minorgridcolor": "white",
             "startlinecolor": "#2a3f5f"
            },
            "type": "carpet"
           }
          ],
          "choropleth": [
           {
            "colorbar": {
             "outlinewidth": 0,
             "ticks": ""
            },
            "type": "choropleth"
           }
          ],
          "contour": [
           {
            "colorbar": {
             "outlinewidth": 0,
             "ticks": ""
            },
            "colorscale": [
             [
              0,
              "#0d0887"
             ],
             [
              0.1111111111111111,
              "#46039f"
             ],
             [
              0.2222222222222222,
              "#7201a8"
             ],
             [
              0.3333333333333333,
              "#9c179e"
             ],
             [
              0.4444444444444444,
              "#bd3786"
             ],
             [
              0.5555555555555556,
              "#d8576b"
             ],
             [
              0.6666666666666666,
              "#ed7953"
             ],
             [
              0.7777777777777778,
              "#fb9f3a"
             ],
             [
              0.8888888888888888,
              "#fdca26"
             ],
             [
              1,
              "#f0f921"
             ]
            ],
            "type": "contour"
           }
          ],
          "contourcarpet": [
           {
            "colorbar": {
             "outlinewidth": 0,
             "ticks": ""
            },
            "type": "contourcarpet"
           }
          ],
          "heatmap": [
           {
            "colorbar": {
             "outlinewidth": 0,
             "ticks": ""
            },
            "colorscale": [
             [
              0,
              "#0d0887"
             ],
             [
              0.1111111111111111,
              "#46039f"
             ],
             [
              0.2222222222222222,
              "#7201a8"
             ],
             [
              0.3333333333333333,
              "#9c179e"
             ],
             [
              0.4444444444444444,
              "#bd3786"
             ],
             [
              0.5555555555555556,
              "#d8576b"
             ],
             [
              0.6666666666666666,
              "#ed7953"
             ],
             [
              0.7777777777777778,
              "#fb9f3a"
             ],
             [
              0.8888888888888888,
              "#fdca26"
             ],
             [
              1,
              "#f0f921"
             ]
            ],
            "type": "heatmap"
           }
          ],
          "heatmapgl": [
           {
            "colorbar": {
             "outlinewidth": 0,
             "ticks": ""
            },
            "colorscale": [
             [
              0,
              "#0d0887"
             ],
             [
              0.1111111111111111,
              "#46039f"
             ],
             [
              0.2222222222222222,
              "#7201a8"
             ],
             [
              0.3333333333333333,
              "#9c179e"
             ],
             [
              0.4444444444444444,
              "#bd3786"
             ],
             [
              0.5555555555555556,
              "#d8576b"
             ],
             [
              0.6666666666666666,
              "#ed7953"
             ],
             [
              0.7777777777777778,
              "#fb9f3a"
             ],
             [
              0.8888888888888888,
              "#fdca26"
             ],
             [
              1,
              "#f0f921"
             ]
            ],
            "type": "heatmapgl"
           }
          ],
          "histogram": [
           {
            "marker": {
             "pattern": {
              "fillmode": "overlay",
              "size": 10,
              "solidity": 0.2
             }
            },
            "type": "histogram"
           }
          ],
          "histogram2d": [
           {
            "colorbar": {
             "outlinewidth": 0,
             "ticks": ""
            },
            "colorscale": [
             [
              0,
              "#0d0887"
             ],
             [
              0.1111111111111111,
              "#46039f"
             ],
             [
              0.2222222222222222,
              "#7201a8"
             ],
             [
              0.3333333333333333,
              "#9c179e"
             ],
             [
              0.4444444444444444,
              "#bd3786"
             ],
             [
              0.5555555555555556,
              "#d8576b"
             ],
             [
              0.6666666666666666,
              "#ed7953"
             ],
             [
              0.7777777777777778,
              "#fb9f3a"
             ],
             [
              0.8888888888888888,
              "#fdca26"
             ],
             [
              1,
              "#f0f921"
             ]
            ],
            "type": "histogram2d"
           }
          ],
          "histogram2dcontour": [
           {
            "colorbar": {
             "outlinewidth": 0,
             "ticks": ""
            },
            "colorscale": [
             [
              0,
              "#0d0887"
             ],
             [
              0.1111111111111111,
              "#46039f"
             ],
             [
              0.2222222222222222,
              "#7201a8"
             ],
             [
              0.3333333333333333,
              "#9c179e"
             ],
             [
              0.4444444444444444,
              "#bd3786"
             ],
             [
              0.5555555555555556,
              "#d8576b"
             ],
             [
              0.6666666666666666,
              "#ed7953"
             ],
             [
              0.7777777777777778,
              "#fb9f3a"
             ],
             [
              0.8888888888888888,
              "#fdca26"
             ],
             [
              1,
              "#f0f921"
             ]
            ],
            "type": "histogram2dcontour"
           }
          ],
          "mesh3d": [
           {
            "colorbar": {
             "outlinewidth": 0,
             "ticks": ""
            },
            "type": "mesh3d"
           }
          ],
          "parcoords": [
           {
            "line": {
             "colorbar": {
              "outlinewidth": 0,
              "ticks": ""
             }
            },
            "type": "parcoords"
           }
          ],
          "pie": [
           {
            "automargin": true,
            "type": "pie"
           }
          ],
          "scatter": [
           {
            "fillpattern": {
             "fillmode": "overlay",
             "size": 10,
             "solidity": 0.2
            },
            "type": "scatter"
           }
          ],
          "scatter3d": [
           {
            "line": {
             "colorbar": {
              "outlinewidth": 0,
              "ticks": ""
             }
            },
            "marker": {
             "colorbar": {
              "outlinewidth": 0,
              "ticks": ""
             }
            },
            "type": "scatter3d"
           }
          ],
          "scattercarpet": [
           {
            "marker": {
             "colorbar": {
              "outlinewidth": 0,
              "ticks": ""
             }
            },
            "type": "scattercarpet"
           }
          ],
          "scattergeo": [
           {
            "marker": {
             "colorbar": {
              "outlinewidth": 0,
              "ticks": ""
             }
            },
            "type": "scattergeo"
           }
          ],
          "scattergl": [
           {
            "marker": {
             "colorbar": {
              "outlinewidth": 0,
              "ticks": ""
             }
            },
            "type": "scattergl"
           }
          ],
          "scattermapbox": [
           {
            "marker": {
             "colorbar": {
              "outlinewidth": 0,
              "ticks": ""
             }
            },
            "type": "scattermapbox"
           }
          ],
          "scatterpolar": [
           {
            "marker": {
             "colorbar": {
              "outlinewidth": 0,
              "ticks": ""
             }
            },
            "type": "scatterpolar"
           }
          ],
          "scatterpolargl": [
           {
            "marker": {
             "colorbar": {
              "outlinewidth": 0,
              "ticks": ""
             }
            },
            "type": "scatterpolargl"
           }
          ],
          "scatterternary": [
           {
            "marker": {
             "colorbar": {
              "outlinewidth": 0,
              "ticks": ""
             }
            },
            "type": "scatterternary"
           }
          ],
          "surface": [
           {
            "colorbar": {
             "outlinewidth": 0,
             "ticks": ""
            },
            "colorscale": [
             [
              0,
              "#0d0887"
             ],
             [
              0.1111111111111111,
              "#46039f"
             ],
             [
              0.2222222222222222,
              "#7201a8"
             ],
             [
              0.3333333333333333,
              "#9c179e"
             ],
             [
              0.4444444444444444,
              "#bd3786"
             ],
             [
              0.5555555555555556,
              "#d8576b"
             ],
             [
              0.6666666666666666,
              "#ed7953"
             ],
             [
              0.7777777777777778,
              "#fb9f3a"
             ],
             [
              0.8888888888888888,
              "#fdca26"
             ],
             [
              1,
              "#f0f921"
             ]
            ],
            "type": "surface"
           }
          ],
          "table": [
           {
            "cells": {
             "fill": {
              "color": "#EBF0F8"
             },
             "line": {
              "color": "white"
             }
            },
            "header": {
             "fill": {
              "color": "#C8D4E3"
             },
             "line": {
              "color": "white"
             }
            },
            "type": "table"
           }
          ]
         },
         "layout": {
          "annotationdefaults": {
           "arrowcolor": "#2a3f5f",
           "arrowhead": 0,
           "arrowwidth": 1
          },
          "autotypenumbers": "strict",
          "coloraxis": {
           "colorbar": {
            "outlinewidth": 0,
            "ticks": ""
           }
          },
          "colorscale": {
           "diverging": [
            [
             0,
             "#8e0152"
            ],
            [
             0.1,
             "#c51b7d"
            ],
            [
             0.2,
             "#de77ae"
            ],
            [
             0.3,
             "#f1b6da"
            ],
            [
             0.4,
             "#fde0ef"
            ],
            [
             0.5,
             "#f7f7f7"
            ],
            [
             0.6,
             "#e6f5d0"
            ],
            [
             0.7,
             "#b8e186"
            ],
            [
             0.8,
             "#7fbc41"
            ],
            [
             0.9,
             "#4d9221"
            ],
            [
             1,
             "#276419"
            ]
           ],
           "sequential": [
            [
             0,
             "#0d0887"
            ],
            [
             0.1111111111111111,
             "#46039f"
            ],
            [
             0.2222222222222222,
             "#7201a8"
            ],
            [
             0.3333333333333333,
             "#9c179e"
            ],
            [
             0.4444444444444444,
             "#bd3786"
            ],
            [
             0.5555555555555556,
             "#d8576b"
            ],
            [
             0.6666666666666666,
             "#ed7953"
            ],
            [
             0.7777777777777778,
             "#fb9f3a"
            ],
            [
             0.8888888888888888,
             "#fdca26"
            ],
            [
             1,
             "#f0f921"
            ]
           ],
           "sequentialminus": [
            [
             0,
             "#0d0887"
            ],
            [
             0.1111111111111111,
             "#46039f"
            ],
            [
             0.2222222222222222,
             "#7201a8"
            ],
            [
             0.3333333333333333,
             "#9c179e"
            ],
            [
             0.4444444444444444,
             "#bd3786"
            ],
            [
             0.5555555555555556,
             "#d8576b"
            ],
            [
             0.6666666666666666,
             "#ed7953"
            ],
            [
             0.7777777777777778,
             "#fb9f3a"
            ],
            [
             0.8888888888888888,
             "#fdca26"
            ],
            [
             1,
             "#f0f921"
            ]
           ]
          },
          "colorway": [
           "#636efa",
           "#EF553B",
           "#00cc96",
           "#ab63fa",
           "#FFA15A",
           "#19d3f3",
           "#FF6692",
           "#B6E880",
           "#FF97FF",
           "#FECB52"
          ],
          "font": {
           "color": "#2a3f5f"
          },
          "geo": {
           "bgcolor": "white",
           "lakecolor": "white",
           "landcolor": "#E5ECF6",
           "showlakes": true,
           "showland": true,
           "subunitcolor": "white"
          },
          "hoverlabel": {
           "align": "left"
          },
          "hovermode": "closest",
          "mapbox": {
           "style": "light"
          },
          "paper_bgcolor": "white",
          "plot_bgcolor": "#E5ECF6",
          "polar": {
           "angularaxis": {
            "gridcolor": "white",
            "linecolor": "white",
            "ticks": ""
           },
           "bgcolor": "#E5ECF6",
           "radialaxis": {
            "gridcolor": "white",
            "linecolor": "white",
            "ticks": ""
           }
          },
          "scene": {
           "xaxis": {
            "backgroundcolor": "#E5ECF6",
            "gridcolor": "white",
            "gridwidth": 2,
            "linecolor": "white",
            "showbackground": true,
            "ticks": "",
            "zerolinecolor": "white"
           },
           "yaxis": {
            "backgroundcolor": "#E5ECF6",
            "gridcolor": "white",
            "gridwidth": 2,
            "linecolor": "white",
            "showbackground": true,
            "ticks": "",
            "zerolinecolor": "white"
           },
           "zaxis": {
            "backgroundcolor": "#E5ECF6",
            "gridcolor": "white",
            "gridwidth": 2,
            "linecolor": "white",
            "showbackground": true,
            "ticks": "",
            "zerolinecolor": "white"
           }
          },
          "shapedefaults": {
           "line": {
            "color": "#2a3f5f"
           }
          },
          "ternary": {
           "aaxis": {
            "gridcolor": "white",
            "linecolor": "white",
            "ticks": ""
           },
           "baxis": {
            "gridcolor": "white",
            "linecolor": "white",
            "ticks": ""
           },
           "bgcolor": "#E5ECF6",
           "caxis": {
            "gridcolor": "white",
            "linecolor": "white",
            "ticks": ""
           }
          },
          "title": {
           "x": 0.05
          },
          "xaxis": {
           "automargin": true,
           "gridcolor": "white",
           "linecolor": "white",
           "ticks": "",
           "title": {
            "standoff": 15
           },
           "zerolinecolor": "white",
           "zerolinewidth": 2
          },
          "yaxis": {
           "automargin": true,
           "gridcolor": "white",
           "linecolor": "white",
           "ticks": "",
           "title": {
            "standoff": 15
           },
           "zerolinecolor": "white",
           "zerolinewidth": 2
          }
         }
        },
        "title": {
         "text": "Based on VizieR photometric Viewer",
         "x": 0.4,
         "xanchor": "center",
         "y": 0.95,
         "yanchor": "top"
        },
        "xaxis": {
         "anchor": "y",
         "domain": [
          0,
          1
         ],
         "title": {
          "text": "Wavelength [Å]"
         },
         "type": "log"
        },
        "yaxis": {
         "anchor": "x",
         "domain": [
          0,
          1
         ],
         "title": {
          "text": "vFv"
         },
         "type": "log"
        }
       }
      }
     },
     "metadata": {},
     "output_type": "display_data"
    }
   ],
   "source": [
    "sed[\"nufnu\"] = sed[\"sed_freq\"] * sed[\"sed_flux\"] * 1e-17\n",
    "cc = 3e18\n",
    "sed[\"lambda\"] = cc / sed[\"sed_freq\"] / 1e9\n",
    "sed_p = sed.to_pandas()\n",
    "fig = px.scatter(sed_p, x=\"lambda\", y=\"nufnu\", log_x=True, log_y=True, color=\"_tabname\")\n",
    "fig.update_traces(\n",
    "    marker={\"size\": 10, \"line\": {\"width\": 1, \"color\": \"DarkSlateGrey\"}},\n",
    "    selector={\"mode\": \"markers\"},\n",
    ")\n",
    "\n",
    "fig.update_layout(\n",
    "    xaxis_title=\"Wavelength [Å]\",\n",
    "    yaxis_title=\"vFv\",\n",
    "    title={\n",
    "        \"text\": \"Based on VizieR photometric Viewer\",\n",
    "        \"y\": 0.95,\n",
    "        \"x\": 0.4,\n",
    "        \"xanchor\": \"center\",\n",
    "        \"yanchor\": \"top\",\n",
    "    },\n",
    ")\n",
    "\n",
    "fig.show()"
   ]
  }
 ],
 "metadata": {
  "anaconda-cloud": {},
  "kernelspec": {
   "display_name": "Python 3.10.8 ('cds-tutos')",
   "language": "python",
   "name": "python3"
  },
  "language_info": {
   "codemirror_mode": {
    "name": "ipython",
    "version": 3
   },
   "file_extension": ".py",
   "mimetype": "text/x-python",
   "name": "python",
   "nbconvert_exporter": "python",
   "pygments_lexer": "ipython3",
   "version": "3.10.8 (main, Nov 24 2022, 14:13:03) [GCC 11.2.0]"
  },
  "vscode": {
   "interpreter": {
    "hash": "18fabf4b7284864439f771ae90661426265feb3ce932d65d859d3ebdb8aac045"
   }
  },
  "widgets": {
   "application/vnd.jupyter.widget-state+json": {
    "state": {
     "1649d98f657e46eda40d8a53d78e744d": {
      "model_module": "@jupyter-widgets/base",
      "model_module_version": "1.2.0",
      "model_name": "LayoutModel",
      "state": {}
     },
     "2e2c328b8d0844a983b11ef2e0863032": {
      "model_module": "ipyaladin",
      "model_module_version": "0.1.7",
      "model_name": "ModelAladin",
      "state": {
       "_dom_classes": [],
       "_model_module": "ipyaladin",
       "_view_count": null,
       "_view_module": "ipyaladin",
       "allow_full_zoomout": false,
       "color_map_flag": true,
       "color_map_name": "",
       "coo_frame": "J2000",
       "fov": 180,
       "full_screen": false,
       "layout": "IPY_MODEL_7785d1c7ea164389961cbfbf76b4d0db",
       "listener_flag": true,
       "listener_type": "",
       "log": true,
       "moc_URL": "",
       "moc_dict": {},
       "moc_from_URL_flag": true,
       "moc_from_dict_flag": true,
       "moc_options": {},
       "options": [
        "allow_full_zoomout",
        "coo_frame",
        "fov",
        "full_screen",
        "log",
        "overlay_survey",
        "overlay_survey_opacity",
        "reticle_color",
        "reticle_size",
        "show_catalog",
        "show_coo_grid",
        "show_frame",
        "show_fullscreen_control",
        "show_goto_control",
        "show_layers_control",
        "show_reticle",
        "show_share_control",
        "show_zoom_control",
        "survey",
        "target"
       ],
       "overlay_survey": "",
       "overlay_survey_opacity": 0,
       "rectangular_selection_flag": true,
       "reticle_color": "rgb(178, 50, 178)",
       "reticle_size": 22,
       "show_catalog": true,
       "show_coo_grid": false,
       "show_frame": true,
       "show_fullscreen_control": true,
       "show_goto_control": true,
       "show_layers_control": true,
       "show_reticle": true,
       "show_share_control": false,
       "show_zoom_control": true,
       "survey": "P/Fermi/color",
       "table_columns": [
        [
         "NAME Monoceros SNR",
         "06 38 43",
         "+06 30.2",
         4,
         4,
         31000,
         18000,
         94,
         "E",
         "",
         "1988IRASP.C......0J",
         "SNR"
        ],
        [
         "NAME Vela Jr SN",
         "08 52.0",
         "-46 20",
         3,
         3,
         "nan",
         "nan",
         0,
         "E",
         "R",
         "2009BASI...37...45G",
         "SNR"
        ],
        [
         "SNR G315.0-02.3",
         "14 43 00",
         "-62 30.0",
         4,
         4,
         "nan",
         "nan",
         0,
         "E",
         "R",
         "2014BASI...42...47G",
         "SNR"
        ],
        [
         "SNR G318.2+00.1",
         "14 54.8",
         "-59 04",
         3,
         3,
         "nan",
         "nan",
         0,
         "E",
         "R",
         "2009BASI...37...45G",
         "SNR"
        ],
        [
         "SNR G347.3-00.5",
         "17 12 27",
         "-39 41.2",
         4,
         4,
         "nan",
         "nan",
         0,
         "D",
         "",
         "2012ApJ...756....5L",
         "SNR"
        ],
        [
         "SNR G348.5+00.1",
         "17 14 31.780",
         "-38 28 34.50",
         7,
         7,
         "nan",
         "nan",
         0,
         "D",
         "",
         "2015ApJS..217....2M",
         "SNR"
        ],
        [
         "SNR G353.6-00.7",
         "17 31 55.0",
         "-34 42 36",
         5,
         5,
         "nan",
         "nan",
         0,
         "D",
         "",
         "2008A&A...477..353A",
         "SNR"
        ],
        [
         "SNR G000.9+00.1",
         "17 47.3",
         "-28 09",
         3,
         3,
         "nan",
         "nan",
         0,
         "E",
         "R",
         "2009BASI...37...45G",
         "SNR"
        ],
        [
         "SNR G006.4-00.1",
         "18 01 22.7",
         "-23 17 20",
         5,
         5,
         1260000,
         1260000,
         90,
         "E",
         "G",
         "2009A&A...506.1563P",
         "SNR"
        ],
        [
         "NAME AGPS 273.4-17.8",
         "18 13 27.1",
         "-17 50 56",
         5,
         5,
         "nan",
         "nan",
         0,
         "D",
         "",
         "2005ApJ...629L.109U",
         "SNR"
        ],
        [
         "SNR G023.3-00.3",
         "18 34 51.80",
         "-08 44 38.2",
         6,
         6,
         "nan",
         "nan",
         0,
         "D",
         "",
         "2006ApJ...651..190L",
         "SNR"
        ],
        [
         "W 49b",
         "19 11 09.000",
         "+09 06 24.00",
         7,
         7,
         "nan",
         "nan",
         0,
         "D",
         "",
         "2015ApJS..217....2M",
         "SNR"
        ],
        [
         "SNR G054.1+00.3",
         "19 30 31",
         "+18 52.0",
         4,
         4,
         "nan",
         "nan",
         0,
         "E",
         "R",
         "2014BASI...42...47G",
         "SNR"
        ]
       ],
       "table_flag": true,
       "table_keys": [
        "MAIN_ID",
        "RA",
        "DEC",
        "RA_PREC",
        "DEC_PREC",
        "COO_ERR_MAJA",
        "COO_ERR_MINA",
        "COO_ERR_ANGLE",
        "COO_QUAL",
        "COO_WAVELENGTH",
        "COO_BIBCODE",
        "OTYPE"
       ],
       "target": "0.000000 0.000000",
       "thumbnail_flag": true,
       "votable_URL": "",
       "votable_from_URL_flag": true,
       "votable_options": {}
      }
     },
     "3d31de523d0c449c928b5356d905d10f": {
      "model_module": "@jupyter-widgets/base",
      "model_module_version": "1.2.0",
      "model_name": "LayoutModel",
      "state": {}
     },
     "3e167175332a47b5a9e06bac691e7ff4": {
      "model_module": "ipyaladin",
      "model_module_version": "0.1.7",
      "model_name": "ModelAladin",
      "state": {
       "_dom_classes": [],
       "_model_module": "ipyaladin",
       "_view_count": null,
       "_view_module": "ipyaladin",
       "allow_full_zoomout": false,
       "color_map_flag": true,
       "color_map_name": "",
       "coo_frame": "J2000",
       "fov": 3.26413,
       "full_screen": false,
       "layout": "IPY_MODEL_aa6fd9c996534b339c2fe5755c42c071",
       "listener_flag": true,
       "listener_type": "",
       "log": true,
       "moc_URL": "",
       "moc_dict": {},
       "moc_from_URL_flag": true,
       "moc_from_dict_flag": true,
       "moc_options": {},
       "options": [
        "allow_full_zoomout",
        "coo_frame",
        "fov",
        "full_screen",
        "log",
        "overlay_survey",
        "overlay_survey_opacity",
        "reticle_color",
        "reticle_size",
        "show_catalog",
        "show_coo_grid",
        "show_frame",
        "show_fullscreen_control",
        "show_goto_control",
        "show_layers_control",
        "show_reticle",
        "show_share_control",
        "show_zoom_control",
        "survey",
        "target"
       ],
       "overlay_survey": "",
       "overlay_survey_opacity": 0,
       "rectangular_selection_flag": true,
       "reticle_color": "rgb(178, 50, 178)",
       "reticle_size": 22,
       "show_catalog": true,
       "show_coo_grid": false,
       "show_frame": true,
       "show_fullscreen_control": true,
       "show_goto_control": true,
       "show_layers_control": true,
       "show_reticle": true,
       "show_share_control": false,
       "show_zoom_control": true,
       "survey": "P/Fermi/color",
       "table_columns": [],
       "table_flag": true,
       "table_keys": [],
       "target": "258.112500 -39.686667",
       "thumbnail_flag": true,
       "votable_URL": "",
       "votable_from_URL_flag": true,
       "votable_options": {}
      }
     },
     "7785d1c7ea164389961cbfbf76b4d0db": {
      "model_module": "@jupyter-widgets/base",
      "model_module_version": "1.2.0",
      "model_name": "LayoutModel",
      "state": {}
     },
     "8950acdc8dc947619856b407d9aaef6a": {
      "model_module": "@jupyter-widgets/base",
      "model_module_version": "1.2.0",
      "model_name": "LayoutModel",
      "state": {}
     },
     "99aeeb4a0c3c4116978cd34c269b1f08": {
      "model_module": "@jupyter-widgets/base",
      "model_module_version": "1.2.0",
      "model_name": "LayoutModel",
      "state": {}
     },
     "a23d05c519b9452eb45e976ee01f9d71": {
      "model_module": "@jupyter-widgets/base",
      "model_module_version": "1.2.0",
      "model_name": "LayoutModel",
      "state": {}
     },
     "a88f3a120042434bb912bffd89412ffc": {
      "model_module": "ipyaladin",
      "model_module_version": "0.1.7",
      "model_name": "ModelAladin",
      "state": {
       "_dom_classes": [],
       "_model_module": "ipyaladin",
       "_view_count": null,
       "_view_module": "ipyaladin",
       "allow_full_zoomout": false,
       "color_map_flag": true,
       "color_map_name": "",
       "coo_frame": "J2000",
       "fov": 9.98503,
       "full_screen": false,
       "layout": "IPY_MODEL_99aeeb4a0c3c4116978cd34c269b1f08",
       "listener_flag": true,
       "listener_type": "",
       "log": true,
       "moc_URL": "",
       "moc_dict": {},
       "moc_from_URL_flag": true,
       "moc_from_dict_flag": true,
       "moc_options": {},
       "options": [
        "allow_full_zoomout",
        "coo_frame",
        "fov",
        "full_screen",
        "log",
        "overlay_survey",
        "overlay_survey_opacity",
        "reticle_color",
        "reticle_size",
        "show_catalog",
        "show_coo_grid",
        "show_frame",
        "show_fullscreen_control",
        "show_goto_control",
        "show_layers_control",
        "show_reticle",
        "show_share_control",
        "show_zoom_control",
        "survey",
        "target"
       ],
       "overlay_survey": "",
       "overlay_survey_opacity": 0,
       "rectangular_selection_flag": true,
       "reticle_color": "rgb(178, 50, 178)",
       "reticle_size": 22,
       "show_catalog": true,
       "show_coo_grid": false,
       "show_frame": true,
       "show_fullscreen_control": true,
       "show_goto_control": true,
       "show_layers_control": true,
       "show_reticle": true,
       "show_share_control": false,
       "show_zoom_control": true,
       "survey": "P/Fermi/color",
       "table_columns": [],
       "table_flag": true,
       "table_keys": [],
       "target": "329.716938 -30.225589",
       "thumbnail_flag": true,
       "votable_URL": "",
       "votable_from_URL_flag": true,
       "votable_options": {}
      }
     },
     "aa6fd9c996534b339c2fe5755c42c071": {
      "model_module": "@jupyter-widgets/base",
      "model_module_version": "1.2.0",
      "model_name": "LayoutModel",
      "state": {}
     },
     "c02cddfc32044140b2a1cf5d58856a7c": {
      "model_module": "ipyaladin",
      "model_module_version": "0.1.7",
      "model_name": "ModelAladin",
      "state": {
       "_dom_classes": [],
       "_model_module": "ipyaladin",
       "_view_count": null,
       "_view_module": "ipyaladin",
       "allow_full_zoomout": false,
       "color_map_flag": true,
       "color_map_name": "",
       "coo_frame": "J2000",
       "fov": 59.90123,
       "full_screen": false,
       "layout": "IPY_MODEL_d65743847326468c96fdae84e62d127e",
       "listener_flag": true,
       "listener_type": "",
       "log": true,
       "moc_URL": "",
       "moc_dict": {},
       "moc_from_URL_flag": true,
       "moc_from_dict_flag": true,
       "moc_options": {},
       "options": [
        "allow_full_zoomout",
        "coo_frame",
        "fov",
        "full_screen",
        "log",
        "overlay_survey",
        "overlay_survey_opacity",
        "reticle_color",
        "reticle_size",
        "show_catalog",
        "show_coo_grid",
        "show_frame",
        "show_fullscreen_control",
        "show_goto_control",
        "show_layers_control",
        "show_reticle",
        "show_share_control",
        "show_zoom_control",
        "survey",
        "target"
       ],
       "overlay_survey": "",
       "overlay_survey_opacity": 0,
       "rectangular_selection_flag": true,
       "reticle_color": "rgb(178, 50, 178)",
       "reticle_size": 22,
       "show_catalog": true,
       "show_coo_grid": false,
       "show_frame": true,
       "show_fullscreen_control": true,
       "show_goto_control": true,
       "show_layers_control": true,
       "show_reticle": true,
       "show_share_control": false,
       "show_zoom_control": true,
       "survey": "P/Fermi/color",
       "table_columns": [],
       "table_flag": true,
       "table_keys": [],
       "target": "0.000000 0.000000",
       "thumbnail_flag": true,
       "votable_URL": "",
       "votable_from_URL_flag": true,
       "votable_options": {}
      }
     },
     "d116fb93c3f8410aa0316a6c39d9e848": {
      "model_module": "ipyaladin",
      "model_module_version": "0.1.7",
      "model_name": "ModelAladin",
      "state": {
       "_dom_classes": [],
       "_model_module": "ipyaladin",
       "_view_count": null,
       "_view_module": "ipyaladin",
       "allow_full_zoomout": false,
       "color_map_flag": true,
       "color_map_name": "",
       "coo_frame": "J2000",
       "fov": 9.98503,
       "full_screen": false,
       "layout": "IPY_MODEL_8950acdc8dc947619856b407d9aaef6a",
       "listener_flag": true,
       "listener_type": "",
       "log": true,
       "moc_URL": "",
       "moc_dict": {},
       "moc_from_URL_flag": true,
       "moc_from_dict_flag": true,
       "moc_options": {},
       "options": [
        "allow_full_zoomout",
        "coo_frame",
        "fov",
        "full_screen",
        "log",
        "overlay_survey",
        "overlay_survey_opacity",
        "reticle_color",
        "reticle_size",
        "show_catalog",
        "show_coo_grid",
        "show_frame",
        "show_fullscreen_control",
        "show_goto_control",
        "show_layers_control",
        "show_reticle",
        "show_share_control",
        "show_zoom_control",
        "survey",
        "target"
       ],
       "overlay_survey": "",
       "overlay_survey_opacity": 0,
       "rectangular_selection_flag": true,
       "reticle_color": "rgb(178, 50, 178)",
       "reticle_size": 22,
       "show_catalog": true,
       "show_coo_grid": false,
       "show_frame": true,
       "show_fullscreen_control": true,
       "show_goto_control": true,
       "show_layers_control": true,
       "show_reticle": true,
       "show_share_control": false,
       "show_zoom_control": true,
       "survey": "P/Fermi/color",
       "table_columns": [
        [
         "HESS J0232+202",
         "02 32 53.2",
         "+20 16 21",
         5,
         5,
         "nan",
         "nan",
         0,
         "D",
         "",
         "2007A&A...475L...9A",
         "gamma",
         "J0232.8+2016",
         1,
         38.21900177001953,
         20.270999908447266,
         0.054999999701976776,
         0.04699999839067459,
         -4,
         7.199999809265137,
         0.4000000059604645,
         4.900000095367432,
         2.0299999713897705,
         "PL",
         "",
         "",
         "",
         "P",
         "bll",
         "1ES 0229+200",
         "Simbad",
         "J0232.8p2016",
         "LC",
         0.23000000417232513,
         0.28999999165534973,
         0.18000000715255737,
         0.05000000074505806,
         0.25,
         0.10999999940395355,
         0.46000000834465027,
         0.3100000023841858,
         0.41999998688697815,
         0.2199999988079071,
         0.0029141694945840407,
         "",
         "1ES 0229+200",
         "bll",
         "HSP",
         0.13899999856948853,
         2.0250000953674316,
         0.15000000596046448,
         49.16,
         "AGNs-3LAC",
         "AGN"
        ],
        [
         "Mrk  421",
         "11 04 27.3139",
         "+38 12 31.798",
         14,
         14,
         0.024700000882148743,
         0.03150000050663948,
         90,
         "A",
         "O",
         "2018yCat.1345....0G",
         "BLLac",
         "J1104.4+3812",
         7,
         166.1179962158203,
         38.209999084472656,
         0.007000000216066837,
         0.007000000216066837,
         -12,
         190.3000030517578,
         30.299999237060547,
         383,
         1.7699999809265137,
         "PL",
         "T",
         "",
         "1FHL J1104.4+3812",
         "P",
         "BLL",
         "Mkn 421",
         "Simbad",
         "J1104.4p3812",
         "LC",
         10.1899995803833,
         0.30000001192092896,
         4.800000190734863,
         0.09000000357627869,
         17.979999542236328,
         0.38999998569488525,
         82.33999633789062,
         2.4000000953674316,
         42.61000061035156,
         1.7100000381469727,
         0.003495784622216771,
         "",
         "Markarian 421",
         "bll",
         "HSP",
         0.03099999949336052,
         1.7719999551773071,
         0.00800000037997961,
         755.1,
         "AGNs-3LAC",
         "AGN"
        ],
        [
         "QSO B2005-489",
         "20 09 25.3910",
         "-48 49 53.722",
         14,
         14,
         0.04039999842643738,
         0.03139999881386757,
         90,
         "A",
         "O",
         "2018yCat.1345....0G",
         "BLLac",
         "J2009.3-4849",
         4,
         302.3489990234375,
         -48.827999114990234,
         0.017999999225139618,
         0.017999999225139618,
         -33,
         40.29999923706055,
         3.5999999046325684,
         44.900001525878906,
         1.7699999809265137,
         "PL",
         "T",
         "",
         "1FHL J2009.4-4849",
         "P",
         "BLL",
         "PKS 2005-489",
         "Simbad",
         "J2009.3-4849",
         "LC",
         1.1699999570846558,
         0.25,
         0.5199999809265137,
         0.05000000074505806,
         2.0899999141693115,
         0.17000000178813934,
         10.149999618530273,
         0.9300000071525574,
         4.75,
         0.6299999952316284,
         0.005730516142611101,
         "",
         "PKS 2005-489",
         "bll",
         "-",
         0.07100000232458115,
         1.7730000019073486,
         0.03099999949336052,
         131.06,
         "AGNs-3LAC",
         "AGN"
        ],
        [
         "QSO B2155-304",
         "21 58 52.0651",
         "-30 13 32.120",
         14,
         14,
         0.03150000050663948,
         0.026900000870227814,
         90,
         "A",
         "O",
         "2018yCat.1345....0G",
         "BLLac",
         "J2158.8-3013",
         6,
         329.7200012207031,
         -30.226999282836914,
         0.008999999612569809,
         0.008999999612569809,
         -87,
         142.10000610351562,
         21.700000762939453,
         230.5,
         1.8300000429153442,
         "LP",
         "T",
         "",
         "1FHL J2158.8-3013",
         "P",
         "bll",
         "PKS 2155-304",
         "Simbad",
         "J2158.8-3013",
         "LC",
         6.46999979019165,
         0.44999998807907104,
         3.619999885559082,
         0.09000000357627869,
         13.420000076293945,
         0.36000001430511475,
         57.34000015258789,
         2.0999999046325684,
         23.979999542236328,
         1.350000023841858,
         0.003013121195516261,
         "",
         "PKS 2155-304",
         "bll",
         "HSP",
         0.11599999666213989,
         1.75,
         0.017999999225139618,
         618.5,
         "AGNs-3LAC",
         "AGN"
        ],
        [
         "QSO B2356-309",
         "23 59 07.9032",
         "-30 37 40.667",
         14,
         14,
         0.10580000281333923,
         0.09790000319480896,
         90,
         "A",
         "O",
         "2018yCat.1345....0G",
         "BLLac",
         "J2359.3-3038",
         3,
         359.8290100097656,
         -30.645999908447266,
         0.05400000140070915,
         0.050999999046325684,
         -7,
         11.100000381469727,
         0.6000000238418579,
         6.599999904632568,
         2.0199999809265137,
         "PL",
         "",
         "",
         "1FHL J2359.2-3037",
         "P",
         "bll",
         "H 2356-309",
         "Simbad",
         "J2359.3-3038",
         "LC",
         0.7699999809265137,
         0.2800000011920929,
         0.11999999731779099,
         0.03999999910593033,
         0.4399999976158142,
         0.10000000149011612,
         1.2699999809265137,
         0.4000000059604645,
         0.5600000023841858,
         0.25,
         0.043569656310107875,
         "",
         "H 2356-309",
         "bll",
         "HSP",
         0.16500000655651093,
         2.0220000743865967,
         0.11500000208616257,
         40.97,
         "AGNs-3LAC",
         "AGN"
        ]
       ],
       "table_flag": true,
       "table_keys": [
        "MAIN_ID",
        "RA",
        "DEC",
        "RA_PREC",
        "DEC_PREC",
        "COO_ERR_MAJA",
        "COO_ERR_MINA",
        "COO_ERR_ANGLE",
        "COO_QUAL",
        "COO_WAVELENGTH",
        "COO_BIBCODE",
        "OTYPE",
        "_3FGL",
        "Na",
        "RAJ2000",
        "DEJ2000",
        "amaj",
        "amin",
        "phi",
        "Sig",
        "F35",
        "S25",
        "Gamma",
        "Mod",
        "Var_1",
        "Flag",
        "Assoc",
        "TeV",
        "Class",
        "ID",
        "Simbad",
        "File",
        "LC",
        "F1",
        "E_F1",
        "F2",
        "E_F2",
        "F3",
        "E_F3",
        "F4",
        "E_F4",
        "F5",
        "E_F5",
        "Ang_Sep",
        "LL",
        "VHE",
        "SpCl",
        "SEDCl",
        "z",
        "alpha",
        "e_alpha",
        "Var_2",
        "Source",
        "TYPE"
       ],
       "target": "329.716938 -30.225589",
       "thumbnail_flag": true,
       "votable_URL": "",
       "votable_from_URL_flag": true,
       "votable_options": {}
      }
     },
     "d65743847326468c96fdae84e62d127e": {
      "model_module": "@jupyter-widgets/base",
      "model_module_version": "1.2.0",
      "model_name": "LayoutModel",
      "state": {}
     },
     "d779676e53bb4b5f8513b11244fc2ce5": {
      "model_module": "ipyaladin",
      "model_module_version": "0.1.7",
      "model_name": "ModelAladin",
      "state": {
       "_dom_classes": [],
       "_model_module": "ipyaladin",
       "_view_count": null,
       "_view_module": "ipyaladin",
       "allow_full_zoomout": false,
       "color_map_flag": true,
       "color_map_name": "",
       "coo_frame": "J2000",
       "fov": 9.98503,
       "full_screen": false,
       "layout": "IPY_MODEL_a23d05c519b9452eb45e976ee01f9d71",
       "listener_flag": true,
       "listener_type": "",
       "log": true,
       "moc_URL": "",
       "moc_dict": {},
       "moc_from_URL_flag": true,
       "moc_from_dict_flag": true,
       "moc_options": {},
       "options": [
        "allow_full_zoomout",
        "coo_frame",
        "fov",
        "full_screen",
        "log",
        "overlay_survey",
        "overlay_survey_opacity",
        "reticle_color",
        "reticle_size",
        "show_catalog",
        "show_coo_grid",
        "show_frame",
        "show_fullscreen_control",
        "show_goto_control",
        "show_layers_control",
        "show_reticle",
        "show_share_control",
        "show_zoom_control",
        "survey",
        "target"
       ],
       "overlay_survey": "",
       "overlay_survey_opacity": 0,
       "rectangular_selection_flag": true,
       "reticle_color": "rgb(178, 50, 178)",
       "reticle_size": 22,
       "show_catalog": true,
       "show_coo_grid": false,
       "show_frame": true,
       "show_fullscreen_control": true,
       "show_goto_control": true,
       "show_layers_control": true,
       "show_reticle": true,
       "show_share_control": false,
       "show_zoom_control": true,
       "survey": "P/Fermi/color",
       "table_columns": [
        [
         "HESS J0232+202",
         "02 32 53.2",
         "+20 16 21",
         5,
         5,
         "nan",
         "nan",
         0,
         "D",
         "",
         "2007A&A...475L...9A",
         "gamma",
         "J0232.8+2016",
         1,
         38.21900177001953,
         20.270999908447266,
         0.054999999701976776,
         0.04699999839067459,
         -4,
         7.199999809265137,
         0.4000000059604645,
         4.900000095367432,
         2.0299999713897705,
         "PL",
         "",
         "",
         "",
         "P",
         "bll",
         "1ES 0229+200",
         "Simbad",
         "J0232.8p2016",
         "LC",
         0.23000000417232513,
         0.28999999165534973,
         0.18000000715255737,
         0.05000000074505806,
         0.25,
         0.10999999940395355,
         0.46000000834465027,
         0.3100000023841858,
         0.41999998688697815,
         0.2199999988079071,
         0.0029141694945840407,
         "",
         "1ES 0229+200",
         "bll",
         "HSP",
         0.13899999856948853,
         2.0250000953674316,
         0.15000000596046448,
         49.16,
         "AGNs-3LAC",
         "AGN"
        ],
        [
         "Mrk  421",
         "11 04 27.3139",
         "+38 12 31.798",
         14,
         14,
         0.024700000882148743,
         0.03150000050663948,
         90,
         "A",
         "O",
         "2018yCat.1345....0G",
         "BLLac",
         "J1104.4+3812",
         7,
         166.1179962158203,
         38.209999084472656,
         0.007000000216066837,
         0.007000000216066837,
         -12,
         190.3000030517578,
         30.299999237060547,
         383,
         1.7699999809265137,
         "PL",
         "T",
         "",
         "1FHL J1104.4+3812",
         "P",
         "BLL",
         "Mkn 421",
         "Simbad",
         "J1104.4p3812",
         "LC",
         10.1899995803833,
         0.30000001192092896,
         4.800000190734863,
         0.09000000357627869,
         17.979999542236328,
         0.38999998569488525,
         82.33999633789062,
         2.4000000953674316,
         42.61000061035156,
         1.7100000381469727,
         0.003495784622216771,
         "",
         "Markarian 421",
         "bll",
         "HSP",
         0.03099999949336052,
         1.7719999551773071,
         0.00800000037997961,
         755.1,
         "AGNs-3LAC",
         "AGN"
        ],
        [
         "QSO B2005-489",
         "20 09 25.3910",
         "-48 49 53.722",
         14,
         14,
         0.04039999842643738,
         0.03139999881386757,
         90,
         "A",
         "O",
         "2018yCat.1345....0G",
         "BLLac",
         "J2009.3-4849",
         4,
         302.3489990234375,
         -48.827999114990234,
         0.017999999225139618,
         0.017999999225139618,
         -33,
         40.29999923706055,
         3.5999999046325684,
         44.900001525878906,
         1.7699999809265137,
         "PL",
         "T",
         "",
         "1FHL J2009.4-4849",
         "P",
         "BLL",
         "PKS 2005-489",
         "Simbad",
         "J2009.3-4849",
         "LC",
         1.1699999570846558,
         0.25,
         0.5199999809265137,
         0.05000000074505806,
         2.0899999141693115,
         0.17000000178813934,
         10.149999618530273,
         0.9300000071525574,
         4.75,
         0.6299999952316284,
         0.005730516142611101,
         "",
         "PKS 2005-489",
         "bll",
         "-",
         0.07100000232458115,
         1.7730000019073486,
         0.03099999949336052,
         131.06,
         "AGNs-3LAC",
         "AGN"
        ],
        [
         "QSO B2155-304",
         "21 58 52.0651",
         "-30 13 32.120",
         14,
         14,
         0.03150000050663948,
         0.026900000870227814,
         90,
         "A",
         "O",
         "2018yCat.1345....0G",
         "BLLac",
         "J2158.8-3013",
         6,
         329.7200012207031,
         -30.226999282836914,
         0.008999999612569809,
         0.008999999612569809,
         -87,
         142.10000610351562,
         21.700000762939453,
         230.5,
         1.8300000429153442,
         "LP",
         "T",
         "",
         "1FHL J2158.8-3013",
         "P",
         "bll",
         "PKS 2155-304",
         "Simbad",
         "J2158.8-3013",
         "LC",
         6.46999979019165,
         0.44999998807907104,
         3.619999885559082,
         0.09000000357627869,
         13.420000076293945,
         0.36000001430511475,
         57.34000015258789,
         2.0999999046325684,
         23.979999542236328,
         1.350000023841858,
         0.003013121195516261,
         "",
         "PKS 2155-304",
         "bll",
         "HSP",
         0.11599999666213989,
         1.75,
         0.017999999225139618,
         618.5,
         "AGNs-3LAC",
         "AGN"
        ],
        [
         "QSO B2356-309",
         "23 59 07.9032",
         "-30 37 40.667",
         14,
         14,
         0.10580000281333923,
         0.09790000319480896,
         90,
         "A",
         "O",
         "2018yCat.1345....0G",
         "BLLac",
         "J2359.3-3038",
         3,
         359.8290100097656,
         -30.645999908447266,
         0.05400000140070915,
         0.050999999046325684,
         -7,
         11.100000381469727,
         0.6000000238418579,
         6.599999904632568,
         2.0199999809265137,
         "PL",
         "",
         "",
         "1FHL J2359.2-3037",
         "P",
         "bll",
         "H 2356-309",
         "Simbad",
         "J2359.3-3038",
         "LC",
         0.7699999809265137,
         0.2800000011920929,
         0.11999999731779099,
         0.03999999910593033,
         0.4399999976158142,
         0.10000000149011612,
         1.2699999809265137,
         0.4000000059604645,
         0.5600000023841858,
         0.25,
         0.043569656310107875,
         "",
         "H 2356-309",
         "bll",
         "HSP",
         0.16500000655651093,
         2.0220000743865967,
         0.11500000208616257,
         40.97,
         "AGNs-3LAC",
         "AGN"
        ]
       ],
       "table_flag": true,
       "table_keys": [
        "MAIN_ID",
        "RA",
        "DEC",
        "RA_PREC",
        "DEC_PREC",
        "COO_ERR_MAJA",
        "COO_ERR_MINA",
        "COO_ERR_ANGLE",
        "COO_QUAL",
        "COO_WAVELENGTH",
        "COO_BIBCODE",
        "OTYPE",
        "_3FGL",
        "Na",
        "RAJ2000",
        "DEJ2000",
        "amaj",
        "amin",
        "phi",
        "Sig",
        "F35",
        "S25",
        "Gamma",
        "Mod",
        "Var_1",
        "Flag",
        "Assoc",
        "TeV",
        "Class",
        "ID",
        "Simbad",
        "File",
        "LC",
        "F1",
        "E_F1",
        "F2",
        "E_F2",
        "F3",
        "E_F3",
        "F4",
        "E_F4",
        "F5",
        "E_F5",
        "Ang_Sep",
        "LL",
        "VHE",
        "SpCl",
        "SEDCl",
        "z",
        "alpha",
        "e_alpha",
        "Var_2",
        "Source",
        "TYPE"
       ],
       "target": "329.716938 -30.225589",
       "thumbnail_flag": true,
       "votable_URL": "",
       "votable_from_URL_flag": true,
       "votable_options": {}
      }
     },
     "e7e1ba69f2ed4c518874a9141bf42586": {
      "model_module": "ipyaladin",
      "model_module_version": "0.1.7",
      "model_name": "ModelAladin",
      "state": {
       "_dom_classes": [],
       "_model_module": "ipyaladin",
       "_view_count": null,
       "_view_module": "ipyaladin",
       "allow_full_zoomout": false,
       "color_map_flag": true,
       "color_map_name": "",
       "coo_frame": "J2000",
       "fov": 9.98503,
       "full_screen": false,
       "layout": "IPY_MODEL_1649d98f657e46eda40d8a53d78e744d",
       "listener_flag": true,
       "listener_type": "",
       "log": true,
       "moc_URL": "",
       "moc_dict": {},
       "moc_from_URL_flag": true,
       "moc_from_dict_flag": true,
       "moc_options": {},
       "options": [
        "allow_full_zoomout",
        "coo_frame",
        "fov",
        "full_screen",
        "log",
        "overlay_survey",
        "overlay_survey_opacity",
        "reticle_color",
        "reticle_size",
        "show_catalog",
        "show_coo_grid",
        "show_frame",
        "show_fullscreen_control",
        "show_goto_control",
        "show_layers_control",
        "show_reticle",
        "show_share_control",
        "show_zoom_control",
        "survey",
        "target"
       ],
       "overlay_survey": "",
       "overlay_survey_opacity": 0,
       "rectangular_selection_flag": true,
       "reticle_color": "rgb(178, 50, 178)",
       "reticle_size": 22,
       "show_catalog": true,
       "show_coo_grid": false,
       "show_frame": true,
       "show_fullscreen_control": true,
       "show_goto_control": true,
       "show_layers_control": true,
       "show_reticle": true,
       "show_share_control": false,
       "show_zoom_control": true,
       "survey": "P/Fermi/color",
       "table_columns": [
        [
         "HESS J0232+202",
         "02 32 53.2",
         "+20 16 21",
         5,
         5,
         "nan",
         "nan",
         0,
         "D",
         "",
         "2007A&A...475L...9A",
         "gamma",
         "J0232.8+2016",
         1,
         38.21900177001953,
         20.270999908447266,
         0.054999999701976776,
         0.04699999839067459,
         -4,
         7.199999809265137,
         0.4000000059604645,
         4.900000095367432,
         2.0299999713897705,
         "PL",
         "",
         "",
         "",
         "P",
         "bll",
         "1ES 0229+200",
         "Simbad",
         "J0232.8p2016",
         "LC",
         0.23000000417232513,
         0.28999999165534973,
         0.18000000715255737,
         0.05000000074505806,
         0.25,
         0.10999999940395355,
         0.46000000834465027,
         0.3100000023841858,
         0.41999998688697815,
         0.2199999988079071,
         0.0029141694945840407,
         "",
         "1ES 0229+200",
         "bll",
         "HSP",
         0.13899999856948853,
         2.0250000953674316,
         0.15000000596046448,
         49.16,
         "AGNs-3LAC",
         "AGN"
        ],
        [
         "Mrk  421",
         "11 04 27.3139",
         "+38 12 31.798",
         14,
         14,
         0.024700000882148743,
         0.03150000050663948,
         90,
         "A",
         "O",
         "2018yCat.1345....0G",
         "BLLac",
         "J1104.4+3812",
         7,
         166.1179962158203,
         38.209999084472656,
         0.007000000216066837,
         0.007000000216066837,
         -12,
         190.3000030517578,
         30.299999237060547,
         383,
         1.7699999809265137,
         "PL",
         "T",
         "",
         "1FHL J1104.4+3812",
         "P",
         "BLL",
         "Mkn 421",
         "Simbad",
         "J1104.4p3812",
         "LC",
         10.1899995803833,
         0.30000001192092896,
         4.800000190734863,
         0.09000000357627869,
         17.979999542236328,
         0.38999998569488525,
         82.33999633789062,
         2.4000000953674316,
         42.61000061035156,
         1.7100000381469727,
         0.003495784622216771,
         "",
         "Markarian 421",
         "bll",
         "HSP",
         0.03099999949336052,
         1.7719999551773071,
         0.00800000037997961,
         755.1,
         "AGNs-3LAC",
         "AGN"
        ],
        [
         "QSO B2005-489",
         "20 09 25.3910",
         "-48 49 53.722",
         14,
         14,
         0.04039999842643738,
         0.03139999881386757,
         90,
         "A",
         "O",
         "2018yCat.1345....0G",
         "BLLac",
         "J2009.3-4849",
         4,
         302.3489990234375,
         -48.827999114990234,
         0.017999999225139618,
         0.017999999225139618,
         -33,
         40.29999923706055,
         3.5999999046325684,
         44.900001525878906,
         1.7699999809265137,
         "PL",
         "T",
         "",
         "1FHL J2009.4-4849",
         "P",
         "BLL",
         "PKS 2005-489",
         "Simbad",
         "J2009.3-4849",
         "LC",
         1.1699999570846558,
         0.25,
         0.5199999809265137,
         0.05000000074505806,
         2.0899999141693115,
         0.17000000178813934,
         10.149999618530273,
         0.9300000071525574,
         4.75,
         0.6299999952316284,
         0.005730516142611101,
         "",
         "PKS 2005-489",
         "bll",
         "-",
         0.07100000232458115,
         1.7730000019073486,
         0.03099999949336052,
         131.06,
         "AGNs-3LAC",
         "AGN"
        ],
        [
         "QSO B2155-304",
         "21 58 52.0651",
         "-30 13 32.120",
         14,
         14,
         0.03150000050663948,
         0.026900000870227814,
         90,
         "A",
         "O",
         "2018yCat.1345....0G",
         "BLLac",
         "J2158.8-3013",
         6,
         329.7200012207031,
         -30.226999282836914,
         0.008999999612569809,
         0.008999999612569809,
         -87,
         142.10000610351562,
         21.700000762939453,
         230.5,
         1.8300000429153442,
         "LP",
         "T",
         "",
         "1FHL J2158.8-3013",
         "P",
         "bll",
         "PKS 2155-304",
         "Simbad",
         "J2158.8-3013",
         "LC",
         6.46999979019165,
         0.44999998807907104,
         3.619999885559082,
         0.09000000357627869,
         13.420000076293945,
         0.36000001430511475,
         57.34000015258789,
         2.0999999046325684,
         23.979999542236328,
         1.350000023841858,
         0.003013121195516261,
         "",
         "PKS 2155-304",
         "bll",
         "HSP",
         0.11599999666213989,
         1.75,
         0.017999999225139618,
         618.5,
         "AGNs-3LAC",
         "AGN"
        ],
        [
         "QSO B2356-309",
         "23 59 07.9032",
         "-30 37 40.667",
         14,
         14,
         0.10580000281333923,
         0.09790000319480896,
         90,
         "A",
         "O",
         "2018yCat.1345....0G",
         "BLLac",
         "J2359.3-3038",
         3,
         359.8290100097656,
         -30.645999908447266,
         0.05400000140070915,
         0.050999999046325684,
         -7,
         11.100000381469727,
         0.6000000238418579,
         6.599999904632568,
         2.0199999809265137,
         "PL",
         "",
         "",
         "1FHL J2359.2-3037",
         "P",
         "bll",
         "H 2356-309",
         "Simbad",
         "J2359.3-3038",
         "LC",
         0.7699999809265137,
         0.2800000011920929,
         0.11999999731779099,
         0.03999999910593033,
         0.4399999976158142,
         0.10000000149011612,
         1.2699999809265137,
         0.4000000059604645,
         0.5600000023841858,
         0.25,
         0.043569656310107875,
         "",
         "H 2356-309",
         "bll",
         "HSP",
         0.16500000655651093,
         2.0220000743865967,
         0.11500000208616257,
         40.97,
         "AGNs-3LAC",
         "AGN"
        ]
       ],
       "table_flag": true,
       "table_keys": [
        "MAIN_ID",
        "RA",
        "DEC",
        "RA_PREC",
        "DEC_PREC",
        "COO_ERR_MAJA",
        "COO_ERR_MINA",
        "COO_ERR_ANGLE",
        "COO_QUAL",
        "COO_WAVELENGTH",
        "COO_BIBCODE",
        "OTYPE",
        "_3FGL",
        "Na",
        "RAJ2000",
        "DEJ2000",
        "amaj",
        "amin",
        "phi",
        "Sig",
        "F35",
        "S25",
        "Gamma",
        "Mod",
        "Var_1",
        "Flag",
        "Assoc",
        "TeV",
        "Class",
        "ID",
        "Simbad",
        "File",
        "LC",
        "F1",
        "E_F1",
        "F2",
        "E_F2",
        "F3",
        "E_F3",
        "F4",
        "E_F4",
        "F5",
        "E_F5",
        "Ang_Sep",
        "LL",
        "VHE",
        "SpCl",
        "SEDCl",
        "z",
        "alpha",
        "e_alpha",
        "Var_2",
        "Source",
        "TYPE"
       ],
       "target": "329.716938 -30.225589",
       "thumbnail_flag": true,
       "votable_URL": "",
       "votable_from_URL_flag": true,
       "votable_options": {}
      }
     },
     "eb450699e6b8425e919ce7215fd55fcc": {
      "model_module": "ipyaladin",
      "model_module_version": "0.1.7",
      "model_name": "ModelAladin",
      "state": {
       "_dom_classes": [],
       "_model_module": "ipyaladin",
       "_view_count": null,
       "_view_module": "ipyaladin",
       "allow_full_zoomout": false,
       "color_map_flag": true,
       "color_map_name": "",
       "coo_frame": "J2000",
       "fov": 59.90123,
       "full_screen": false,
       "layout": "IPY_MODEL_3d31de523d0c449c928b5356d905d10f",
       "listener_flag": true,
       "listener_type": "",
       "log": true,
       "moc_URL": "",
       "moc_dict": {},
       "moc_from_URL_flag": true,
       "moc_from_dict_flag": true,
       "moc_options": {},
       "options": [
        "allow_full_zoomout",
        "coo_frame",
        "fov",
        "full_screen",
        "log",
        "overlay_survey",
        "overlay_survey_opacity",
        "reticle_color",
        "reticle_size",
        "show_catalog",
        "show_coo_grid",
        "show_frame",
        "show_fullscreen_control",
        "show_goto_control",
        "show_layers_control",
        "show_reticle",
        "show_share_control",
        "show_zoom_control",
        "survey",
        "target"
       ],
       "overlay_survey": "",
       "overlay_survey_opacity": 0,
       "rectangular_selection_flag": true,
       "reticle_color": "rgb(178, 50, 178)",
       "reticle_size": 22,
       "show_catalog": true,
       "show_coo_grid": false,
       "show_frame": true,
       "show_fullscreen_control": true,
       "show_goto_control": true,
       "show_layers_control": true,
       "show_reticle": true,
       "show_share_control": false,
       "show_zoom_control": true,
       "survey": "P/Fermi/color",
       "table_columns": [
        [
         "NAME Monoceros SNR",
         "06 38 43",
         "+06 30.2",
         4,
         4,
         31000,
         18000,
         94,
         "E",
         "",
         "1988IRASP.C......0J",
         "SNR"
        ],
        [
         "NAME Vela Jr SN",
         "08 52.0",
         "-46 20",
         3,
         3,
         "nan",
         "nan",
         0,
         "E",
         "R",
         "2009BASI...37...45G",
         "SNR"
        ],
        [
         "SNR G315.0-02.3",
         "14 43 00",
         "-62 30.0",
         4,
         4,
         "nan",
         "nan",
         0,
         "E",
         "R",
         "2014BASI...42...47G",
         "SNR"
        ],
        [
         "SNR G318.2+00.1",
         "14 54.8",
         "-59 04",
         3,
         3,
         "nan",
         "nan",
         0,
         "E",
         "R",
         "2009BASI...37...45G",
         "SNR"
        ],
        [
         "SNR G347.3-00.5",
         "17 12 27",
         "-39 41.2",
         4,
         4,
         "nan",
         "nan",
         0,
         "D",
         "",
         "2012ApJ...756....5L",
         "SNR"
        ],
        [
         "SNR G348.5+00.1",
         "17 14 31.780",
         "-38 28 34.50",
         7,
         7,
         "nan",
         "nan",
         0,
         "D",
         "",
         "2015ApJS..217....2M",
         "SNR"
        ],
        [
         "SNR G353.6-00.7",
         "17 31 55.0",
         "-34 42 36",
         5,
         5,
         "nan",
         "nan",
         0,
         "D",
         "",
         "2008A&A...477..353A",
         "SNR"
        ],
        [
         "SNR G000.9+00.1",
         "17 47.3",
         "-28 09",
         3,
         3,
         "nan",
         "nan",
         0,
         "E",
         "R",
         "2009BASI...37...45G",
         "SNR"
        ],
        [
         "SNR G006.4-00.1",
         "18 01 22.7",
         "-23 17 20",
         5,
         5,
         1260000,
         1260000,
         90,
         "E",
         "G",
         "2009A&A...506.1563P",
         "SNR"
        ],
        [
         "NAME AGPS 273.4-17.8",
         "18 13 27.1",
         "-17 50 56",
         5,
         5,
         "nan",
         "nan",
         0,
         "D",
         "",
         "2005ApJ...629L.109U",
         "SNR"
        ],
        [
         "SNR G023.3-00.3",
         "18 34 51.80",
         "-08 44 38.2",
         6,
         6,
         "nan",
         "nan",
         0,
         "D",
         "",
         "2006ApJ...651..190L",
         "SNR"
        ],
        [
         "W 49b",
         "19 11 09.000",
         "+09 06 24.00",
         7,
         7,
         "nan",
         "nan",
         0,
         "D",
         "",
         "2015ApJS..217....2M",
         "SNR"
        ],
        [
         "SNR G054.1+00.3",
         "19 30 31",
         "+18 52.0",
         4,
         4,
         "nan",
         "nan",
         0,
         "E",
         "R",
         "2014BASI...42...47G",
         "SNR"
        ]
       ],
       "table_flag": true,
       "table_keys": [
        "MAIN_ID",
        "RA",
        "DEC",
        "RA_PREC",
        "DEC_PREC",
        "COO_ERR_MAJA",
        "COO_ERR_MINA",
        "COO_ERR_ANGLE",
        "COO_QUAL",
        "COO_WAVELENGTH",
        "COO_BIBCODE",
        "OTYPE"
       ],
       "target": "0.000000 0.000000",
       "thumbnail_flag": true,
       "votable_URL": "",
       "votable_from_URL_flag": true,
       "votable_options": {}
      }
     }
    },
    "version_major": 2,
    "version_minor": 0
   }
  }
 },
 "nbformat": 4,
 "nbformat_minor": 4
}
