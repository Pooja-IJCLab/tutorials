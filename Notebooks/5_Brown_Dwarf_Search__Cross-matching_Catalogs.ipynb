{
 "cells": [
  {
   "attachments": {},
   "cell_type": "markdown",
   "metadata": {},
   "source": [
    "# Discovery of brown dwarfs mining the 2MASS and SDSS databases\n",
    "\n",
    "F. Jiménez-Esteban¹, K. A. Lutz², E. Solano¹\n",
    "\n",
    "1. Spanish Virtual Observatory\n",
    "2. Université de Strasbourg, CNRS, Observatoire Astronomique de Strasbourg, UMR 7550, F-67000, Strasbourg, France\n",
    "\n",
    "This tutorial is based on the EURO-VO tutorial of the same name: http://www.euro-vo.org/sites/default/files/documents/tutorial-brown-dwarfs_2019Apr.pdf .\n",
    "\n",
    "***\n",
    "\n",
    "## Introduction \n",
    "\n",
    "Brown dwarfs are objects occupying the gap between the least massive stars and the most massive planets. They are intrinsically faint objects. Hence, heir detection is not straightforward and, in fact, was almost impossible until the advent of global surveys at deep optical and near-infrared bands like SDSS, 2MASS or DENIS. We propose here to mine the 2MASS point source catalogue (2MASS-PSC) and SDSS-DR9 databases to identify T-type brown dwarfs through an appropriate combination of colors in the optical and the infrared, an approach that perfectly fits into the Virtual Observatory.\n",
    "\n",
    "In this use case, we explore different ways to do the same tasks with different VO tools. These tasks\n",
    "include:\n",
    " 1. obtaining data from the SDSS and 2MASS catalogues in a given sky region,\n",
    " 2. crossmatching the results of these searches,\n",
    " 3. filtering the resulting table for brown dwarfs, and\n",
    " 4. verifying our sample of brown dwarfs.\n",
    "\n",
    "Software packages needed for this tutorial are Aladin, TOPCAT, STILTS and Python (or you may just use the Binder in your web browser)."
   ]
  },
  {
   "cell_type": "code",
   "execution_count": 1,
   "metadata": {},
   "outputs": [],
   "source": [
    "# Standard Library\n",
    "import warnings\n",
    "\n",
    "# Astronomy tools\n",
    "from astropy import units as u\n",
    "from astropy.coordinates import SkyCoord\n",
    "\n",
    "# Access astronomical databases\n",
    "import pyvo\n",
    "from astroquery.simbad import Simbad\n",
    "from astroquery.vizier import Vizier\n",
    "from astroquery.xmatch import XMatch\n",
    "\n",
    "# Sky visualization\n",
    "import ipyaladin as ipyal\n",
    "\n",
    "warnings.filterwarnings(\"ignore\")"
   ]
  },
  {
   "cell_type": "markdown",
   "metadata": {},
   "source": [
    "## Step #1: Discovery\n",
    "\n",
    "[![Vizier](https://custom-icon-badges.demolab.com/badge/Vizier-gray.svg?logo=vizier&logoColor=orange&logoWidth=20)](https://vizier.cds.unistra.fr/viz-bin/VizieR \"https://vizier.cds.unistra.fr/viz-bin/VizieR\")\n",
    "\n",
    "We start by searching for the 2MASS point source catalogue (2MASS-PSC) and the SDSS data release 9 catalogue (SDSS DR9). To find and query catalogues, there are two packages we can use: pyVO and astroquery. We will show pyVO for searching the 2MASS-PSC and astroquery for SDSS DR9. \n",
    "\n",
    "With the pyVo package we are using the TAP service of VizieR. TAP is a Virtual Observatory protocol to query databases of tables. The language we use to compile the query is called ADQL and is similar to SQL. For more details on ADQL see also the dedicated VO tutorial (http://docs.g-vo.org/adql-gaia/html/). "
   ]
  },
  {
   "cell_type": "code",
   "execution_count": 2,
   "metadata": {
    "scrolled": true,
    "tags": [
     "output_scroll"
    ]
   },
   "outputs": [
    {
     "data": {
      "text/html": [
       "<div><i>Table length=13</i>\n",
       "<table id=\"table140051274341584\" class=\"table-striped table-bordered table-condensed\">\n",
       "<thead><tr><th>table_name</th><th>description</th></tr></thead>\n",
       "<thead><tr><th>object</th><th>object</th></tr></thead>\n",
       "<tr><td>J/ApJ/569/23/table1</td><td>Optical polarimetry of 2MASS Red QSOs ( Smith P.S., Schmidt G.D., Hines D.C., Cutri R.M., Nelson B.O.)</td></tr>\n",
       "<tr><td>J/ApJ/780/92/2mass</td><td>2MASS JHKs photometry (table5) ( Szabo R., Ivezic Z., Kiss L.L., Kollath Z., Jones L., Sesar B., Becker A.C., Davenport J.R.A., Cutri R.M.)</td></tr>\n",
       "<tr><td>II/281/2mass6x</td><td>2MASS-6X catalog ( Cutri R.M., Skrutskie M.F., Van Dyk S., et al.)</td></tr>\n",
       "<tr><td>J/ApJ/564/421/table3</td><td>2MASS IDR2 Sources Unconfirmed in Second Epoch Imaging ( Burgasser A.J., Kirkpatrick J.D., Brown M.E., Reid I.N., Burrows A., Liebert J., Matthews K., Gizis J.E., Dahn C.C., Monet D.G., Cutri R.M., Skrutskie M.F.)</td></tr>\n",
       "<tr><td>II/246/out</td><td>2MASS Point Source Catalogue, output (on a total of 470,992,970 sources) ( Cutri R.M., Skrutskie M.F., Van Dyk S., et al.)</td></tr>\n",
       "<tr><td>VII/233/xsc</td><td>*The 2MASS Extended Catalog (2MASX) ( Skrutskie M.F., Cutri R.M., Stiening R., et al.)</td></tr>\n",
       "<tr><td>II/241/out</td><td>2MASS Point Source Catalogue, 2MASS 2000 Second Incremental Release ( Skrutskie M.F., Schneider S.E., Stiening R., Strom S.E., Weinberg M.D., Beichman C., Chester T., Cutri R., Lonsdale C., Elias J., Elston R., Capps R., Carpenter J., Huchra J., Liebert J., Monet D., Price S., Seitzer P.)</td></tr>\n",
       "<tr><td>J/ApJ/569/23/table3</td><td>Galactic interstellar polarization detected in the fields of 2MASS AGNs ( Smith P.S., Schmidt G.D., Hines D.C., Cutri R.M., Nelson B.O.)</td></tr>\n",
       "<tr><td>J/ApJ/569/23/table2</td><td>Optical polarimetry of other AGN found by 2MASS ( Smith P.S., Schmidt G.D., Hines D.C., Cutri R.M., Nelson B.O.)</td></tr>\n",
       "<tr><td>J/AJ/126/63/table1</td><td>2MASS sample and measurements ( Hutchings J.B., Maddox N., Cutri R.M., Nelson B.O.)</td></tr>\n",
       "<tr><td>J/ApJS/190/100/table1</td><td>List of 2MASS proper motion candidates ( Kirkpatrick J.D., Looper D.L., Burgasser A.J., Schurr S.D., Cutri R.M., Cushing M.C., Cruz K.L., Sweet A.C., Knapp G.R., Barman T.S., Bochanski J.J., Roellig T.L., McLean I.S., McGovern M.R., Rice E.L.)</td></tr>\n",
       "<tr><td>J/ApJ/564/421/table5</td><td>Comparison of NIRC Spectrophotometric colors to 2MASS photometry ( Burgasser A.J., Kirkpatrick J.D., Brown M.E., Reid I.N., Burrows A., Liebert J., Matthews K., Gizis J.E., Dahn C.C., Monet D.G., Cutri R.M., Skrutskie M.F.)</td></tr>\n",
       "<tr><td>J/ApJ/564/421/table6</td><td>New T Dwarfs Identified in the 2MASS Catalog ( Burgasser A.J., Kirkpatrick J.D., Brown M.E., Reid I.N., Burrows A., Liebert J., Matthews K., Gizis J.E., Dahn C.C., Monet D.G., Cutri R.M., Skrutskie M.F.)</td></tr>\n",
       "</table></div>"
      ],
      "text/plain": [
       "<Table length=13>\n",
       "      table_name      ...\n",
       "        object        ...\n",
       "--------------------- ...\n",
       "  J/ApJ/569/23/table1 ...\n",
       "   J/ApJ/780/92/2mass ...\n",
       "       II/281/2mass6x ...\n",
       " J/ApJ/564/421/table3 ...\n",
       "           II/246/out ...\n",
       "          VII/233/xsc ...\n",
       "           II/241/out ...\n",
       "  J/ApJ/569/23/table3 ...\n",
       "  J/ApJ/569/23/table2 ...\n",
       "   J/AJ/126/63/table1 ...\n",
       "J/ApJS/190/100/table1 ...\n",
       " J/ApJ/564/421/table5 ...\n",
       " J/ApJ/564/421/table6 ..."
      ]
     },
     "execution_count": 2,
     "metadata": {},
     "output_type": "execute_result"
    }
   ],
   "source": [
    "tap_vizier = pyvo.dal.TAPService(\"https://tapvizier.cds.unistra.fr/TAPVizieR/tap\")\n",
    "\n",
    "query = \"\"\"\n",
    "SELECT  * \n",
    "FROM tables\n",
    "WHERE description LIKE '%2MASS%Cutri%'\n",
    "\"\"\"\n",
    "\n",
    "mass_psc_set = tap_vizier.search(query).to_table()\n",
    "mass_psc_set[\"table_name\", \"description\"]"
   ]
  },
  {
   "cell_type": "markdown",
   "metadata": {},
   "source": [
    "As mentioned above we are interested in the 2MASS-pSC, which has the table_name `II/246/out` in VizieR. Before we move on to construct a more complicated query, we have a quick look at the 2MASS-PSC table and all the available columns. We do so by downloading the first 5 rows:"
   ]
  },
  {
   "cell_type": "code",
   "execution_count": 3,
   "metadata": {
    "scrolled": true,
    "tags": [
     "output_scroll"
    ]
   },
   "outputs": [
    {
     "data": {
      "text/html": [
       "<div><i>Table length=5</i>\n",
       "<table id=\"table140051273350784\" class=\"table-striped table-bordered table-condensed\">\n",
       "<thead><tr><th>RAJ2000</th><th>DEJ2000</th><th>errMaj</th><th>errMin</th><th>errPA</th><th>2MASS</th><th>Jmag</th><th>Jcmsig</th><th>e_Jmag</th><th>Jsnr</th><th>Hmag</th><th>Hcmsig</th><th>e_Hmag</th><th>Hsnr</th><th>Kmag</th><th>Kcmsig</th><th>e_Kmag</th><th>Ksnr</th><th>Qflg</th><th>Rflg</th><th>Bflg</th><th>Cflg</th><th>Ndet</th><th>prox</th><th>pxPA</th><th>pxCntr</th><th>Xflg</th><th>Aflg</th><th>Cntr</th><th>Hemis</th><th>Date</th><th>Scan</th><th>GLON</th><th>GLAT</th><th>Xscan</th><th>JD</th><th>Jpsfchi</th><th>Hpsfchi</th><th>Kpsfchi</th><th>Jstdap</th><th>e_Jstdap</th><th>Hstdap</th><th>e_Hstdap</th><th>Kstdap</th><th>e_Kstdap</th><th>edgeNS</th><th>edgeEW</th><th>edge</th><th>dup</th><th>use</th><th>opt</th><th>Dopt</th><th>PAopt</th><th>Bmag</th><th>Rmag</th><th>Nopt</th><th>extKey</th><th>scanKey</th><th>coaddKey</th><th>coadd</th></tr></thead>\n",
       "<thead><tr><th>deg</th><th>deg</th><th>arcsec</th><th>arcsec</th><th>deg</th><th></th><th>mag</th><th>mag</th><th>mag</th><th></th><th>mag</th><th>mag</th><th>mag</th><th></th><th>mag</th><th>mag</th><th>mag</th><th></th><th></th><th></th><th></th><th></th><th></th><th>arcsec</th><th>deg</th><th></th><th></th><th></th><th></th><th></th><th></th><th></th><th>deg</th><th>deg</th><th>arcsec</th><th>d</th><th></th><th></th><th></th><th>mag</th><th>mag</th><th>mag</th><th>mag</th><th>mag</th><th>mag</th><th>arcsec</th><th>arcsec</th><th></th><th></th><th></th><th></th><th>arcsec</th><th>deg</th><th>mag</th><th>mag</th><th></th><th></th><th></th><th></th><th></th></tr></thead>\n",
       "<thead><tr><th>float64</th><th>float64</th><th>float32</th><th>float32</th><th>int16</th><th>object</th><th>float32</th><th>float32</th><th>float32</th><th>float64</th><th>float32</th><th>float32</th><th>float32</th><th>float64</th><th>float32</th><th>float32</th><th>float32</th><th>float64</th><th>object</th><th>object</th><th>object</th><th>object</th><th>object</th><th>float32</th><th>int16</th><th>int64</th><th>int16</th><th>int16</th><th>int64</th><th>str1</th><th>object</th><th>int16</th><th>float32</th><th>float32</th><th>float32</th><th>float64</th><th>float32</th><th>float32</th><th>float32</th><th>float32</th><th>float32</th><th>float32</th><th>float32</th><th>float32</th><th>float32</th><th>int32</th><th>int16</th><th>object</th><th>int16</th><th>int16</th><th>str1</th><th>float32</th><th>int16</th><th>float32</th><th>float32</th><th>int16</th><th>int32</th><th>int32</th><th>int32</th><th>int16</th></tr></thead>\n",
       "<tr><td>44.996055</td><td>0.005565</td><td>0.17</td><td>0.16</td><td>76</td><td>02595905+0000200</td><td>16.376</td><td>0.097</td><td>0.097</td><td>11.3</td><td>15.77</td><td>0.139</td><td>0.14</td><td>8.2</td><td>15.258</td><td>0.141</td><td>0.141</td><td>7.6</td><td>ABB</td><td>222</td><td>111</td><td>000</td><td>060606</td><td>44.5</td><td>230</td><td>1290669337</td><td>0</td><td>0</td><td>1290669325</td><td>s</td><td>1998-09-28</td><td>112</td><td>176.951</td><td>-48.902</td><td>-138.9</td><td>2451084.8062</td><td>0.75</td><td>1.21</td><td>1.13</td><td>16.651</td><td>0.221</td><td>15.434</td><td>0.134</td><td>15.478</td><td>0.434</td><td>521</td><td>114</td><td>ne</td><td>1</td><td>1</td><td>U</td><td>0.7</td><td>156</td><td>17.9</td><td>16.9</td><td>1</td><td>--</td><td>69347</td><td>1594959</td><td>9</td></tr>\n",
       "<tr><td>45.004857</td><td>0.019806</td><td>0.06</td><td>0.06</td><td>90</td><td>03000116+0001113</td><td>12.529</td><td>0.021</td><td>0.024</td><td>389.8</td><td>11.954</td><td>0.029</td><td>0.03</td><td>273.7</td><td>11.874</td><td>0.027</td><td>0.029</td><td>172.5</td><td>AAA</td><td>222</td><td>111</td><td>000</td><td>666666</td><td>4.8</td><td>330</td><td>1290669298</td><td>0</td><td>0</td><td>1290669300</td><td>s</td><td>1998-09-28</td><td>112</td><td>176.945</td><td>-48.885</td><td>-170.6</td><td>2451084.8062</td><td>1.15</td><td>1.31</td><td>1.97</td><td>12.508</td><td>0.019</td><td>11.91</td><td>0.025</td><td>11.852</td><td>0.008</td><td>469</td><td>82</td><td>ne</td><td>1</td><td>1</td><td>U</td><td>1.5</td><td>72</td><td>15.0</td><td>13.8</td><td>1</td><td>--</td><td>69347</td><td>1594959</td><td>9</td></tr>\n",
       "<tr><td>45.004193</td><td>0.020956</td><td>0.06</td><td>0.06</td><td>90</td><td>03000100+0001154</td><td>14.845</td><td>0.055</td><td>0.056</td><td>46.2</td><td>14.223</td><td>0.077</td><td>0.077</td><td>33.9</td><td>14.016</td><td>0.055</td><td>0.055</td><td>24.0</td><td>AAA</td><td>222</td><td>111</td><td>ccc</td><td>666666</td><td>4.8</td><td>150</td><td>1290669300</td><td>0</td><td>0</td><td>1290669298</td><td>s</td><td>1998-09-28</td><td>112</td><td>176.943</td><td>-48.885</td><td>-168.2</td><td>2451084.8062</td><td>0.86</td><td>0.89</td><td>1.11</td><td>13.889</td><td>0.101</td><td>13.035</td><td>0.126</td><td>12.97</td><td>0.043</td><td>465</td><td>84</td><td>ne</td><td>1</td><td>1</td><td>0</td><td>--</td><td>--</td><td>--</td><td>--</td><td>0</td><td>--</td><td>69347</td><td>1594959</td><td>9</td></tr>\n",
       "<tr><td>44.995074</td><td>0.038204</td><td>0.38</td><td>0.31</td><td>0</td><td>02595881+0002175</td><td>16.746</td><td>0.133</td><td>0.134</td><td>8.0</td><td>15.814</td><td>0.139</td><td>0.14</td><td>7.8</td><td>16.125</td><td>0.324</td><td>0.324</td><td>3.4</td><td>BBD</td><td>222</td><td>111</td><td>000</td><td>060606</td><td>70.2</td><td>152</td><td>1290669298</td><td>0</td><td>0</td><td>1290669276</td><td>s</td><td>1998-09-28</td><td>112</td><td>176.914</td><td>-48.88</td><td>-135.4</td><td>2451084.8062</td><td>1.22</td><td>0.84</td><td>0.69</td><td>17.047</td><td>0.414</td><td>15.5</td><td>0.229</td><td>17.513</td><td>1.964</td><td>403</td><td>117</td><td>ne</td><td>0</td><td>1</td><td>0</td><td>--</td><td>--</td><td>--</td><td>--</td><td>0</td><td>--</td><td>69347</td><td>1594959</td><td>9</td></tr>\n",
       "<tr><td>44.963851</td><td>0.043587</td><td>0.22</td><td>0.17</td><td>95</td><td>02595132+0002369</td><td>16.476</td><td>0.112</td><td>0.113</td><td>10.3</td><td>16.057</td><td>0.175</td><td>0.175</td><td>6.3</td><td>15.564</td><td>--</td><td>--</td><td>--</td><td>BCU</td><td>220</td><td>110</td><td>000</td><td>060600</td><td>89.4</td><td>207</td><td>1290669295</td><td>0</td><td>0</td><td>1290669271</td><td>s</td><td>1998-09-28</td><td>112</td><td>176.875</td><td>-48.898</td><td>-23.0</td><td>2451084.8062</td><td>1.13</td><td>1.07</td><td>--</td><td>17.113</td><td>0.34</td><td>18.739</td><td>3.527</td><td>--</td><td>--</td><td>384</td><td>229</td><td>ne</td><td>1</td><td>1</td><td>U</td><td>0.4</td><td>161</td><td>18.7</td><td>17.7</td><td>1</td><td>--</td><td>69347</td><td>1594959</td><td>9</td></tr>\n",
       "</table></div>"
      ],
      "text/plain": [
       "<Table length=5>\n",
       " RAJ2000  DEJ2000   errMaj  errMin errPA ...  Nopt extKey scanKey coaddKey coadd\n",
       "   deg      deg     arcsec  arcsec  deg  ...                                    \n",
       " float64  float64  float32 float32 int16 ... int16 int32   int32   int32   int16\n",
       "--------- -------- ------- ------- ----- ... ----- ------ ------- -------- -----\n",
       "44.996055 0.005565    0.17    0.16    76 ...     1     --   69347  1594959     9\n",
       "45.004857 0.019806    0.06    0.06    90 ...     1     --   69347  1594959     9\n",
       "45.004193 0.020956    0.06    0.06    90 ...     0     --   69347  1594959     9\n",
       "44.995074 0.038204    0.38    0.31     0 ...     0     --   69347  1594959     9\n",
       "44.963851 0.043587    0.22    0.17    95 ...     1     --   69347  1594959     9"
      ]
     },
     "execution_count": 3,
     "metadata": {},
     "output_type": "execute_result"
    }
   ],
   "source": [
    "query = 'SELECT TOP 5 * FROM \"II/246/out\" '\n",
    "mass_psc_head = tap_vizier.search(query).to_table()\n",
    "mass_psc_head"
   ]
  },
  {
   "cell_type": "markdown",
   "metadata": {},
   "source": [
    "As in the original tutorial, we only want to get data within a 14arcmin radius of RA=08h30m00s, Dec=01d30m00s. ADQL has a function, which allows to run an astronomical cone search query. From the quick inital inspection of the table we now know that we will need the columns `RAJ2000` and `DEJ2000` to only get sources at a certain location. Since we want to get colours for our Brown Dwarf candidates, we will also want to get the `Jmag`, `Hmag` and `Kmag` columns. For a different analysis you might want to choose other columns. "
   ]
  },
  {
   "cell_type": "code",
   "execution_count": 4,
   "metadata": {
    "scrolled": true,
    "tags": [
     "output_scroll"
    ]
   },
   "outputs": [
    {
     "data": {
      "text/html": [
       "<div><i>Table length=683</i>\n",
       "<table id=\"table140051273879408\" class=\"table-striped table-bordered table-condensed\">\n",
       "<thead><tr><th>RAJ2000</th><th>DEJ2000</th><th>errMaj</th><th>errMin</th><th>errPA</th><th>2MASS</th><th>Jmag</th><th>Jcmsig</th><th>e_Jmag</th><th>Jsnr</th><th>Hmag</th><th>Hcmsig</th><th>e_Hmag</th><th>Hsnr</th><th>Kmag</th><th>Kcmsig</th><th>e_Kmag</th><th>Ksnr</th><th>Qflg</th><th>Rflg</th><th>Bflg</th><th>Cflg</th><th>Ndet</th><th>prox</th><th>pxPA</th><th>pxCntr</th><th>Xflg</th><th>Aflg</th><th>Cntr</th><th>Hemis</th><th>Date</th><th>Scan</th><th>GLON</th><th>GLAT</th><th>Xscan</th><th>JD</th><th>Jpsfchi</th><th>Hpsfchi</th><th>Kpsfchi</th><th>Jstdap</th><th>e_Jstdap</th><th>Hstdap</th><th>e_Hstdap</th><th>Kstdap</th><th>e_Kstdap</th><th>edgeNS</th><th>edgeEW</th><th>edge</th><th>dup</th><th>use</th><th>opt</th><th>Dopt</th><th>PAopt</th><th>Bmag</th><th>Rmag</th><th>Nopt</th><th>extKey</th><th>scanKey</th><th>coaddKey</th><th>coadd</th></tr></thead>\n",
       "<thead><tr><th>deg</th><th>deg</th><th>arcsec</th><th>arcsec</th><th>deg</th><th></th><th>mag</th><th>mag</th><th>mag</th><th></th><th>mag</th><th>mag</th><th>mag</th><th></th><th>mag</th><th>mag</th><th>mag</th><th></th><th></th><th></th><th></th><th></th><th></th><th>arcsec</th><th>deg</th><th></th><th></th><th></th><th></th><th></th><th></th><th></th><th>deg</th><th>deg</th><th>arcsec</th><th>d</th><th></th><th></th><th></th><th>mag</th><th>mag</th><th>mag</th><th>mag</th><th>mag</th><th>mag</th><th>arcsec</th><th>arcsec</th><th></th><th></th><th></th><th></th><th>arcsec</th><th>deg</th><th>mag</th><th>mag</th><th></th><th></th><th></th><th></th><th></th></tr></thead>\n",
       "<thead><tr><th>float64</th><th>float64</th><th>float32</th><th>float32</th><th>int16</th><th>object</th><th>float32</th><th>float32</th><th>float32</th><th>float64</th><th>float32</th><th>float32</th><th>float32</th><th>float64</th><th>float32</th><th>float32</th><th>float32</th><th>float64</th><th>object</th><th>object</th><th>object</th><th>object</th><th>object</th><th>float32</th><th>int16</th><th>int64</th><th>int16</th><th>int16</th><th>int64</th><th>str1</th><th>object</th><th>int16</th><th>float32</th><th>float32</th><th>float32</th><th>float64</th><th>float32</th><th>float32</th><th>float32</th><th>float32</th><th>float32</th><th>float32</th><th>float32</th><th>float32</th><th>float32</th><th>int32</th><th>int16</th><th>object</th><th>int16</th><th>int16</th><th>str1</th><th>float32</th><th>int16</th><th>float32</th><th>float32</th><th>int16</th><th>int32</th><th>int32</th><th>int32</th><th>int16</th></tr></thead>\n",
       "<tr><td>127.509154</td><td>1.269173</td><td>0.2</td><td>0.15</td><td>87</td><td>08300219+0116090</td><td>15.963</td><td>0.095</td><td>0.096</td><td>12.5</td><td>15.546</td><td>0.121</td><td>0.122</td><td>9.0</td><td>14.93</td><td>0.144</td><td>0.144</td><td>8.1</td><td>ABB</td><td>222</td><td>111</td><td>000</td><td>160606</td><td>14.2</td><td>340</td><td>804040589</td><td>0</td><td>0</td><td>804040599</td><td>s</td><td>2000-01-30</td><td>58</td><td>223.554</td><td>22.408</td><td>178.5</td><td>2451573.6815</td><td>0.89</td><td>1.01</td><td>0.92</td><td>15.939</td><td>0.235</td><td>15.899</td><td>0.319</td><td>14.69</td><td>0.124</td><td>4589</td><td>74</td><td>sw</td><td>0</td><td>1</td><td>0</td><td>--</td><td>--</td><td>--</td><td>--</td><td>0</td><td>--</td><td>43956</td><td>1010984</td><td>221</td></tr>\n",
       "<tr><td>127.507779</td><td>1.272875</td><td>0.12</td><td>0.11</td><td>86</td><td>08300186+0116223</td><td>15.594</td><td>0.083</td><td>0.084</td><td>17.6</td><td>15.563</td><td>0.117</td><td>0.117</td><td>8.9</td><td>15.272</td><td>0.181</td><td>0.182</td><td>5.9</td><td>ABC</td><td>222</td><td>111</td><td>000</td><td>360606</td><td>14.2</td><td>160</td><td>804040599</td><td>0</td><td>0</td><td>804040589</td><td>s</td><td>2000-01-30</td><td>58</td><td>223.55</td><td>22.408</td><td>183.4</td><td>2451573.6814</td><td>1.64</td><td>0.82</td><td>1.47</td><td>15.432</td><td>0.153</td><td>15.81</td><td>0.424</td><td>14.992</td><td>0.114</td><td>4602</td><td>69</td><td>sw</td><td>0</td><td>1</td><td>U</td><td>0.2</td><td>270</td><td>17.1</td><td>16.5</td><td>1</td><td>--</td><td>43956</td><td>1010984</td><td>221</td></tr>\n",
       "<tr><td>127.514167</td><td>1.277495</td><td>0.23</td><td>0.21</td><td>51</td><td>08300340+0116389</td><td>16.553</td><td>0.17</td><td>0.171</td><td>7.3</td><td>16.179</td><td>0.194</td><td>0.194</td><td>5.0</td><td>15.894</td><td>--</td><td>--</td><td>--</td><td>CCU</td><td>220</td><td>110</td><td>000</td><td>060600</td><td>28.4</td><td>234</td><td>804040589</td><td>0</td><td>0</td><td>804040577</td><td>s</td><td>2000-01-30</td><td>58</td><td>223.549</td><td>22.416</td><td>160.4</td><td>2451573.6814</td><td>0.69</td><td>1.58</td><td>--</td><td>16.335</td><td>0.139</td><td>18.014</td><td>3.36</td><td>--</td><td>--</td><td>4619</td><td>92</td><td>sw</td><td>0</td><td>1</td><td>U</td><td>0.0</td><td>13</td><td>18.0</td><td>17.3</td><td>1</td><td>--</td><td>43956</td><td>1010984</td><td>221</td></tr>\n",
       "<tr><td>127.463251</td><td>1.271903</td><td>0.07</td><td>0.07</td><td>0</td><td>08295118+0116188</td><td>15.844</td><td>0.076</td><td>0.077</td><td>14.0</td><td>15.11</td><td>0.095</td><td>0.096</td><td>13.5</td><td>15.029</td><td>0.138</td><td>0.138</td><td>7.4</td><td>AAB</td><td>222</td><td>111</td><td>000</td><td>260606</td><td>41.0</td><td>160</td><td>804019559</td><td>0</td><td>0</td><td>804019587</td><td>s</td><td>2000-01-30</td><td>57</td><td>223.528</td><td>22.369</td><td>-87.9</td><td>2451573.6739</td><td>1.78</td><td>0.8</td><td>1.14</td><td>15.935</td><td>0.238</td><td>15.077</td><td>0.164</td><td>15.197</td><td>0.438</td><td>4593</td><td>164</td><td>se</td><td>0</td><td>1</td><td>U</td><td>1.0</td><td>281</td><td>20.0</td><td>18.4</td><td>1</td><td>--</td><td>43955</td><td>1010947</td><td>56</td></tr>\n",
       "<tr><td>127.463023</td><td>1.2864</td><td>0.06</td><td>0.06</td><td>0</td><td>08295112+0117110</td><td>14.093</td><td>0.029</td><td>0.032</td><td>70.0</td><td>13.652</td><td>0.033</td><td>0.035</td><td>51.7</td><td>13.553</td><td>0.042</td><td>0.043</td><td>28.9</td><td>AAA</td><td>222</td><td>111</td><td>000</td><td>666635</td><td>52.2</td><td>179</td><td>804019587</td><td>0</td><td>0</td><td>804019616</td><td>s</td><td>2000-01-30</td><td>57</td><td>223.514</td><td>22.376</td><td>-87.0</td><td>2451573.674</td><td>0.75</td><td>0.97</td><td>0.91</td><td>14.077</td><td>0.023</td><td>13.576</td><td>0.05</td><td>13.692</td><td>0.14</td><td>4646</td><td>165</td><td>se</td><td>0</td><td>1</td><td>U</td><td>0.4</td><td>160</td><td>16.3</td><td>14.6</td><td>1</td><td>--</td><td>43955</td><td>1010947</td><td>56</td></tr>\n",
       "<tr><td>127.48465</td><td>1.271192</td><td>0.06</td><td>0.06</td><td>0</td><td>08295631+0116162</td><td>13.848</td><td>0.026</td><td>0.029</td><td>87.8</td><td>13.177</td><td>0.02</td><td>0.022</td><td>80.0</td><td>12.932</td><td>0.023</td><td>0.024</td><td>51.1</td><td>AAA</td><td>222</td><td>111</td><td>000</td><td>666655</td><td>15.7</td><td>12</td><td>804019600</td><td>0</td><td>0</td><td>804019585</td><td>s</td><td>2000-01-30</td><td>57</td><td>223.54</td><td>22.387</td><td>-164.9</td><td>2451573.6739</td><td>0.88</td><td>0.87</td><td>0.95</td><td>13.813</td><td>0.042</td><td>13.143</td><td>0.051</td><td>13.009</td><td>0.056</td><td>4591</td><td>87</td><td>se</td><td>0</td><td>1</td><td>U</td><td>0.2</td><td>244</td><td>18.8</td><td>16.7</td><td>1</td><td>--</td><td>43955</td><td>1010947</td><td>56</td></tr>\n",
       "<tr><td>127.485565</td><td>1.275456</td><td>0.2</td><td>0.17</td><td>4</td><td>08295653+0116316</td><td>16.26</td><td>0.112</td><td>0.112</td><td>9.5</td><td>15.908</td><td>0.172</td><td>0.172</td><td>6.5</td><td>15.264</td><td>0.184</td><td>0.184</td><td>6.0</td><td>BCC</td><td>222</td><td>111</td><td>000</td><td>160606</td><td>15.7</td><td>192</td><td>804019585</td><td>0</td><td>0</td><td>804019600</td><td>s</td><td>2000-01-30</td><td>57</td><td>223.536</td><td>22.39</td><td>-168.2</td><td>2451573.674</td><td>0.84</td><td>1.3</td><td>0.8</td><td>16.125</td><td>0.291</td><td>15.529</td><td>0.253</td><td>15.21</td><td>0.246</td><td>4606</td><td>84</td><td>se</td><td>0</td><td>1</td><td>U</td><td>0.4</td><td>232</td><td>18.1</td><td>17.4</td><td>1</td><td>--</td><td>43955</td><td>1010947</td><td>56</td></tr>\n",
       "<tr><td>127.494339</td><td>1.280734</td><td>0.15</td><td>0.15</td><td>145</td><td>08295864+0116506</td><td>16.317</td><td>0.119</td><td>0.12</td><td>9.0</td><td>15.818</td><td>0.141</td><td>0.141</td><td>7.0</td><td>15.099</td><td>--</td><td>--</td><td>--</td><td>BBU</td><td>220</td><td>110</td><td>000</td><td>060600</td><td>36.9</td><td>239</td><td>804019600</td><td>0</td><td>0</td><td>804019605</td><td>s</td><td>2000-01-30</td><td>57</td><td>223.536</td><td>22.4</td><td>-199.8</td><td>2451573.674</td><td>0.96</td><td>1.62</td><td>--</td><td>16.264</td><td>0.088</td><td>16.219</td><td>0.553</td><td>--</td><td>--</td><td>4625</td><td>52</td><td>se</td><td>1</td><td>1</td><td>0</td><td>--</td><td>--</td><td>--</td><td>--</td><td>0</td><td>--</td><td>43955</td><td>1010947</td><td>56</td></tr>\n",
       "<tr><td>127.494645</td><td>1.296204</td><td>0.07</td><td>0.07</td><td>17</td><td>08295871+0117463</td><td>15.25</td><td>0.05</td><td>0.051</td><td>24.1</td><td>15.062</td><td>0.077</td><td>0.078</td><td>14.1</td><td>14.87</td><td>0.114</td><td>0.114</td><td>8.6</td><td>AAB</td><td>222</td><td>111</td><td>000</td><td>660506</td><td>47.1</td><td>299</td><td>804019652</td><td>0</td><td>0</td><td>804019639</td><td>s</td><td>2000-01-30</td><td>57</td><td>223.521</td><td>22.408</td><td>-200.9</td><td>2451573.674</td><td>0.98</td><td>0.89</td><td>1.01</td><td>15.178</td><td>0.064</td><td>15.195</td><td>0.302</td><td>14.779</td><td>0.326</td><td>4681</td><td>51</td><td>se</td><td>1</td><td>1</td><td>U</td><td>0.4</td><td>185</td><td>16.8</td><td>16.1</td><td>1</td><td>--</td><td>43955</td><td>1010947</td><td>56</td></tr>\n",
       "<tr><td>...</td><td>...</td><td>...</td><td>...</td><td>...</td><td>...</td><td>...</td><td>...</td><td>...</td><td>...</td><td>...</td><td>...</td><td>...</td><td>...</td><td>...</td><td>...</td><td>...</td><td>...</td><td>...</td><td>...</td><td>...</td><td>...</td><td>...</td><td>...</td><td>...</td><td>...</td><td>...</td><td>...</td><td>...</td><td>...</td><td>...</td><td>...</td><td>...</td><td>...</td><td>...</td><td>...</td><td>...</td><td>...</td><td>...</td><td>...</td><td>...</td><td>...</td><td>...</td><td>...</td><td>...</td><td>...</td><td>...</td><td>...</td><td>...</td><td>...</td><td>...</td><td>...</td><td>...</td><td>...</td><td>...</td><td>...</td><td>...</td><td>...</td><td>...</td><td>...</td></tr>\n",
       "<tr><td>127.471749</td><td>1.699981</td><td>0.15</td><td>0.15</td><td>145</td><td>08295321+0141599</td><td>16.278</td><td>0.12</td><td>0.121</td><td>9.4</td><td>15.646</td><td>0.138</td><td>0.138</td><td>8.2</td><td>15.792</td><td>--</td><td>--</td><td>--</td><td>BBU</td><td>220</td><td>110</td><td>000</td><td>060600</td><td>21.5</td><td>111</td><td>804020536</td><td>0</td><td>0</td><td>804020539</td><td>s</td><td>2000-01-30</td><td>57</td><td>223.127</td><td>22.583</td><td>-118.5</td><td>2451573.6743</td><td>0.82</td><td>0.93</td><td>--</td><td>16.158</td><td>0.12</td><td>15.666</td><td>0.136</td><td>--</td><td>--</td><td>6134</td><td>134</td><td>se</td><td>0</td><td>1</td><td>U</td><td>0.5</td><td>178</td><td>18.2</td><td>17.1</td><td>1</td><td>--</td><td>43955</td><td>1010949</td><td>80</td></tr>\n",
       "<tr><td>127.485472</td><td>1.701631</td><td>0.07</td><td>0.07</td><td>17</td><td>08295651+0142058</td><td>15.286</td><td>0.047</td><td>0.049</td><td>23.3</td><td>14.805</td><td>0.069</td><td>0.069</td><td>17.9</td><td>14.59</td><td>0.102</td><td>0.102</td><td>11.1</td><td>AAA</td><td>222</td><td>111</td><td>000</td><td>361506</td><td>32.4</td><td>245</td><td>804020536</td><td>0</td><td>0</td><td>804020544</td><td>s</td><td>2000-01-30</td><td>57</td><td>223.132</td><td>22.596</td><td>-167.8</td><td>2451573.6743</td><td>1.03</td><td>1.1</td><td>1.02</td><td>15.41</td><td>0.107</td><td>14.79</td><td>0.127</td><td>14.331</td><td>0.225</td><td>6140</td><td>84</td><td>se</td><td>0</td><td>1</td><td>U</td><td>0.5</td><td>227</td><td>17.9</td><td>16.6</td><td>1</td><td>--</td><td>43955</td><td>1010949</td><td>80</td></tr>\n",
       "<tr><td>127.50233</td><td>1.707568</td><td>0.06</td><td>0.06</td><td>90</td><td>08300055+0142272</td><td>13.442</td><td>0.023</td><td>0.026</td><td>127.5</td><td>12.837</td><td>0.024</td><td>0.026</td><td>109.4</td><td>12.652</td><td>0.029</td><td>0.03</td><td>66.2</td><td>AAA</td><td>222</td><td>111</td><td>000</td><td>666655</td><td>24.1</td><td>173</td><td>804039600</td><td>0</td><td>0</td><td>804039583</td><td>s</td><td>2000-01-30</td><td>58</td><td>223.135</td><td>22.614</td><td>203.0</td><td>2451573.6811</td><td>1.13</td><td>0.79</td><td>1.5</td><td>13.483</td><td>0.018</td><td>12.913</td><td>0.029</td><td>12.71</td><td>0.045</td><td>6167</td><td>50</td><td>sw</td><td>1</td><td>1</td><td>U</td><td>1.1</td><td>262</td><td>17.2</td><td>15.1</td><td>1</td><td>--</td><td>43956</td><td>1010982</td><td>198</td></tr>\n",
       "<tr><td>127.469423</td><td>1.71372</td><td>0.12</td><td>0.11</td><td>101</td><td>08295266+0142493</td><td>16.124</td><td>0.097</td><td>0.098</td><td>10.8</td><td>15.408</td><td>0.101</td><td>0.102</td><td>10.3</td><td>15.34</td><td>0.186</td><td>0.186</td><td>5.6</td><td>AAC</td><td>222</td><td>111</td><td>000</td><td>060606</td><td>50.2</td><td>170</td><td>804020539</td><td>0</td><td>0</td><td>804020569</td><td>s</td><td>2000-01-30</td><td>57</td><td>223.112</td><td>22.588</td><td>-110.1</td><td>2451573.6743</td><td>0.99</td><td>0.99</td><td>0.93</td><td>16.256</td><td>0.269</td><td>15.929</td><td>0.347</td><td>15.574</td><td>0.328</td><td>6184</td><td>142</td><td>se</td><td>0</td><td>1</td><td>0</td><td>--</td><td>--</td><td>--</td><td>--</td><td>0</td><td>--</td><td>43955</td><td>1010949</td><td>80</td></tr>\n",
       "<tr><td>127.451948</td><td>1.721205</td><td>0.06</td><td>0.06</td><td>0</td><td>08294846+0143163</td><td>12.459</td><td>0.019</td><td>0.023</td><td>315.4</td><td>12.056</td><td>0.024</td><td>0.026</td><td>224.7</td><td>11.969</td><td>0.023</td><td>0.024</td><td>124.1</td><td>AAA</td><td>222</td><td>111</td><td>000</td><td>666666</td><td>48.4</td><td>192</td><td>804020559</td><td>0</td><td>0</td><td>804020588</td><td>s</td><td>2000-01-30</td><td>57</td><td>223.096</td><td>22.576</td><td>-47.2</td><td>2451573.6743</td><td>0.74</td><td>0.74</td><td>0.86</td><td>12.47</td><td>0.019</td><td>12.038</td><td>0.046</td><td>11.973</td><td>0.029</td><td>6211</td><td>205</td><td>se</td><td>0</td><td>1</td><td>U</td><td>1.3</td><td>176</td><td>14.8</td><td>13.5</td><td>1</td><td>--</td><td>43955</td><td>1010949</td><td>80</td></tr>\n",
       "<tr><td>127.395474</td><td>1.69711</td><td>0.34</td><td>0.32</td><td>88</td><td>08293491+0141495</td><td>16.551</td><td>0.164</td><td>0.164</td><td>7.3</td><td>15.907</td><td>0.207</td><td>0.207</td><td>6.5</td><td>15.795</td><td>0.274</td><td>0.275</td><td>3.7</td><td>CED</td><td>222</td><td>111</td><td>000</td><td>060506</td><td>53.7</td><td>338</td><td>804020566</td><td>0</td><td>0</td><td>804020535</td><td>s</td><td>2000-01-30</td><td>57</td><td>223.089</td><td>22.515</td><td>156.0</td><td>2451573.6743</td><td>0.85</td><td>10.93</td><td>0.72</td><td>16.461</td><td>0.216</td><td>16.1</td><td>0.268</td><td>16.146</td><td>0.828</td><td>6125</td><td>97</td><td>sw</td><td>0</td><td>1</td><td>0</td><td>--</td><td>--</td><td>--</td><td>--</td><td>0</td><td>--</td><td>43955</td><td>1010949</td><td>80</td></tr>\n",
       "<tr><td>127.432292</td><td>1.717116</td><td>0.07</td><td>0.06</td><td>96</td><td>08294375+0143016</td><td>14.569</td><td>0.032</td><td>0.035</td><td>45.2</td><td>14.299</td><td>0.055</td><td>0.056</td><td>28.5</td><td>14.219</td><td>0.084</td><td>0.084</td><td>15.6</td><td>AAA</td><td>222</td><td>111</td><td>000</td><td>665614</td><td>22.8</td><td>14</td><td>804020593</td><td>0</td><td>0</td><td>804020581</td><td>s</td><td>2000-01-30</td><td>57</td><td>223.09</td><td>22.557</td><td>23.5</td><td>2451573.6743</td><td>0.9</td><td>1.15</td><td>0.65</td><td>14.552</td><td>0.05</td><td>14.172</td><td>0.086</td><td>14.225</td><td>0.229</td><td>6197</td><td>229</td><td>sw</td><td>0</td><td>1</td><td>U</td><td>0.3</td><td>198</td><td>16.4</td><td>15.3</td><td>1</td><td>--</td><td>43955</td><td>1010949</td><td>80</td></tr>\n",
       "<tr><td>127.433857</td><td>1.723263</td><td>0.07</td><td>0.07</td><td>17</td><td>08294412+0143237</td><td>15.678</td><td>0.08</td><td>0.081</td><td>16.3</td><td>15.207</td><td>0.105</td><td>0.105</td><td>12.3</td><td>14.965</td><td>0.138</td><td>0.138</td><td>7.9</td><td>AAB</td><td>222</td><td>111</td><td>ccc</td><td>665616</td><td>4.5</td><td>317</td><td>804020596</td><td>0</td><td>0</td><td>804020593</td><td>s</td><td>2000-01-30</td><td>57</td><td>223.085</td><td>22.561</td><td>17.9</td><td>2451573.6743</td><td>1.14</td><td>0.83</td><td>1.22</td><td>14.517</td><td>0.097</td><td>14.072</td><td>0.112</td><td>14.179</td><td>0.144</td><td>6219</td><td>235</td><td>sw</td><td>0</td><td>1</td><td>U</td><td>4.0</td><td>139</td><td>15.8</td><td>14.4</td><td>1</td><td>--</td><td>43955</td><td>1010949</td><td>80</td></tr>\n",
       "<tr><td>127.531902</td><td>1.729757</td><td>0.06</td><td>0.06</td><td>90</td><td>08300765+0143471</td><td>14.155</td><td>0.033</td><td>0.036</td><td>66.1</td><td>13.84</td><td>0.032</td><td>0.033</td><td>43.4</td><td>13.806</td><td>0.048</td><td>0.049</td><td>22.9</td><td>AAA</td><td>222</td><td>111</td><td>000</td><td>666646</td><td>14.1</td><td>82</td><td>804039539</td><td>0</td><td>0</td><td>804039541</td><td>s</td><td>2000-01-30</td><td>58</td><td>223.13</td><td>22.65</td><td>96.6</td><td>2451573.6811</td><td>1.03</td><td>0.88</td><td>1.01</td><td>14.136</td><td>0.051</td><td>13.972</td><td>0.048</td><td>13.85</td><td>0.118</td><td>6247</td><td>156</td><td>sw</td><td>0</td><td>1</td><td>U</td><td>0.2</td><td>230</td><td>15.8</td><td>15.0</td><td>1</td><td>--</td><td>43956</td><td>1010982</td><td>198</td></tr>\n",
       "<tr><td>127.53577</td><td>1.730293</td><td>0.37</td><td>0.35</td><td>45</td><td>08300858+0143490</td><td>17.047</td><td>0.231</td><td>0.231</td><td>4.6</td><td>16.123</td><td>0.19</td><td>0.19</td><td>5.3</td><td>15.872</td><td>0.302</td><td>0.303</td><td>3.4</td><td>DCD</td><td>222</td><td>111</td><td>000</td><td>060605</td><td>14.1</td><td>262</td><td>804039541</td><td>0</td><td>0</td><td>804039539</td><td>s</td><td>2000-01-30</td><td>58</td><td>223.131</td><td>22.654</td><td>82.7</td><td>2451573.6811</td><td>0.95</td><td>0.74</td><td>0.98</td><td>16.537</td><td>0.399</td><td>17.529</td><td>1.515</td><td>16.04</td><td>0.705</td><td>6249</td><td>170</td><td>sw</td><td>0</td><td>1</td><td>0</td><td>--</td><td>--</td><td>--</td><td>--</td><td>0</td><td>--</td><td>43956</td><td>1010982</td><td>198</td></tr>\n",
       "</table></div>"
      ],
      "text/plain": [
       "<Table length=683>\n",
       " RAJ2000   DEJ2000   errMaj  errMin errPA ... extKey scanKey coaddKey coadd\n",
       "   deg       deg     arcsec  arcsec  deg  ...                              \n",
       " float64   float64  float32 float32 int16 ... int32   int32   int32   int16\n",
       "---------- -------- ------- ------- ----- ... ------ ------- -------- -----\n",
       "127.509154 1.269173     0.2    0.15    87 ...     --   43956  1010984   221\n",
       "127.507779 1.272875    0.12    0.11    86 ...     --   43956  1010984   221\n",
       "127.514167 1.277495    0.23    0.21    51 ...     --   43956  1010984   221\n",
       "127.463251 1.271903    0.07    0.07     0 ...     --   43955  1010947    56\n",
       "127.463023   1.2864    0.06    0.06     0 ...     --   43955  1010947    56\n",
       " 127.48465 1.271192    0.06    0.06     0 ...     --   43955  1010947    56\n",
       "127.485565 1.275456     0.2    0.17     4 ...     --   43955  1010947    56\n",
       "127.494339 1.280734    0.15    0.15   145 ...     --   43955  1010947    56\n",
       "127.494645 1.296204    0.07    0.07    17 ...     --   43955  1010947    56\n",
       "       ...      ...     ...     ...   ... ...    ...     ...      ...   ...\n",
       "127.471749 1.699981    0.15    0.15   145 ...     --   43955  1010949    80\n",
       "127.485472 1.701631    0.07    0.07    17 ...     --   43955  1010949    80\n",
       " 127.50233 1.707568    0.06    0.06    90 ...     --   43956  1010982   198\n",
       "127.469423  1.71372    0.12    0.11   101 ...     --   43955  1010949    80\n",
       "127.451948 1.721205    0.06    0.06     0 ...     --   43955  1010949    80\n",
       "127.395474  1.69711    0.34    0.32    88 ...     --   43955  1010949    80\n",
       "127.432292 1.717116    0.07    0.06    96 ...     --   43955  1010949    80\n",
       "127.433857 1.723263    0.07    0.07    17 ...     --   43955  1010949    80\n",
       "127.531902 1.729757    0.06    0.06    90 ...     --   43956  1010982   198\n",
       " 127.53577 1.730293    0.37    0.35    45 ...     --   43956  1010982   198"
      ]
     },
     "execution_count": 4,
     "metadata": {},
     "output_type": "execute_result"
    }
   ],
   "source": [
    "coord = SkyCoord(ra=\"08:30:00\", dec=\"01:30:00\", unit=(u.hourangle, u.deg))\n",
    "\n",
    "query = \"\"\"\n",
    "SELECT * \n",
    "FROM \\\"II/246/out\\\" as tm_psc \n",
    "WHERE 1=CONTAINS(POINT(\\'ICRS\\', tm_psc.RAJ2000, tm_psc.DEJ2000),\n",
    "                 CIRCLE(\\'ICRS\\', {0:.3f}, {1:.3f}, 14/60))\n",
    "\"\"\".format(\n",
    "    coord.ra.value, coord.dec.value\n",
    ")\n",
    "\n",
    "mass_psc = tap_vizier.search(query).to_table()\n",
    "mass_psc"
   ]
  },
  {
   "cell_type": "markdown",
   "metadata": {},
   "source": [
    "Now that we have all the data we want from the 2MASS-PSC, we move on to query SDSS DR9 with astroquery. First we want to find out which tables are available:"
   ]
  },
  {
   "cell_type": "code",
   "execution_count": 5,
   "metadata": {},
   "outputs": [
    {
     "name": "stdout",
     "output_type": "stream",
     "text": [
      "V/139 :  The SDSS Photometric Catalog, Release 9 (Adelman-McCarthy+, 2012)\n",
      "J/A+A/547/L1 :  SDSS-III DR9 DLA catalogue (Noterdaeme+, 2012)\n",
      "J/A+A/598/A92 :  New ultracool subdwarfs (Lodieu+, 2017)\n",
      "J/A+A/616/A97 :  SDSS QSO DR7 and DR9 (D'Isanto+, 2018)\n",
      "J/MNRAS/444/2456 :  Spectral galaxy pairs from SDSS DR9 (Yang+, 2014)\n",
      "J/MNRAS/445/1331 :  White-dwarf + main-sequence binaries in SDSS DR9 (Li+, 2014)\n",
      "J/MNRAS/450/905 :  New SNe in SDSS DR9 (Graur+, 2015)\n",
      "J/MNRAS/458/3808 :  DR9-12 SDSS WDMS binaries (Rebassa-Mansergas+, 2016)\n",
      "J/other/NewA/58.61 :  SDSS DR9 galaxy clusters optical catalog (Banerjee+, 2018)\n",
      "J/other/RAA/17.62 :  Candidate members of 4 stellar streams (Li+, 2017)\n"
     ]
    }
   ],
   "source": [
    "catalog_list_sdss = Vizier.find_catalogs(\"SDSS DR9\")\n",
    "for k, v in catalog_list_sdss.items():\n",
    "    print(k, \": \", v.description)"
   ]
  },
  {
   "cell_type": "markdown",
   "metadata": {},
   "source": [
    "We want to get data from the catalogue called `V/139`. As before let's have a look at a few rows (per default `Vizier.get_catalogs` gives you 50 rows) of the code to figure out, which ones are most interesting for us."
   ]
  },
  {
   "cell_type": "code",
   "execution_count": 6,
   "metadata": {
    "scrolled": true,
    "tags": [
     "output_scroll"
    ]
   },
   "outputs": [
    {
     "name": "stdout",
     "output_type": "stream",
     "text": [
      "TableList with 1 tables:\n",
      "\t'0:V/139/sdss9' with 21 column(s) and 50 row(s) \n"
     ]
    },
    {
     "data": {
      "text/html": [
       "<div><i>Table length=50</i>\n",
       "<table id=\"table140051270264816\" class=\"table-striped table-bordered table-condensed\">\n",
       "<thead><tr><th>mode</th><th>q_mode</th><th>cl</th><th>SDSS9</th><th>m_SDSS9</th><th>Im</th><th>RA_ICRS</th><th>DE_ICRS</th><th>ObsDate</th><th>Q</th><th>umag</th><th>e_umag</th><th>gmag</th><th>e_gmag</th><th>rmag</th><th>e_rmag</th><th>imag</th><th>e_imag</th><th>zmag</th><th>e_zmag</th><th>zsp</th></tr></thead>\n",
       "<thead><tr><th></th><th></th><th></th><th></th><th></th><th></th><th>deg</th><th>deg</th><th>yr</th><th></th><th>mag</th><th>mag</th><th>mag</th><th>mag</th><th>mag</th><th>mag</th><th>mag</th><th>mag</th><th>mag</th><th>mag</th><th></th></tr></thead>\n",
       "<thead><tr><th>uint8</th><th>str1</th><th>uint8</th><th>str19</th><th>str1</th><th>str2</th><th>float64</th><th>float64</th><th>float64</th><th>uint8</th><th>float32</th><th>float32</th><th>float32</th><th>float32</th><th>float32</th><th>float32</th><th>float32</th><th>float32</th><th>float32</th><th>float32</th><th>float64</th></tr></thead>\n",
       "<tr><td>2</td><td></td><td>6</td><td>J025955.29+000252.0</td><td>*</td><td>Im</td><td>44.980386</td><td>0.047779</td><td>2003.8093</td><td>3</td><td>23.450</td><td>0.580</td><td>22.345</td><td>0.101</td><td>21.948</td><td>0.104</td><td>22.044</td><td>0.163</td><td>21.474</td><td>0.404</td><td>--</td></tr>\n",
       "<tr><td>2</td><td></td><td>3</td><td>J025956.07+000300.0</td><td>*</td><td>Im</td><td>44.983649</td><td>0.050016</td><td>1998.8264</td><td>3</td><td>24.432</td><td>1.374</td><td>24.266</td><td>0.627</td><td>22.859</td><td>0.314</td><td>21.240</td><td>0.119</td><td>21.032</td><td>0.430</td><td>--</td></tr>\n",
       "<tr><td>2</td><td></td><td>3</td><td>J025956.06+000259.9</td><td>*</td><td>Im</td><td>44.983619</td><td>0.049995</td><td>2002.7581</td><td>3</td><td>25.964</td><td>0.601</td><td>24.082</td><td>0.489</td><td>23.250</td><td>0.415</td><td>21.666</td><td>0.146</td><td>20.346</td><td>0.189</td><td>--</td></tr>\n",
       "<tr><td>2</td><td></td><td>3</td><td>J025956.06+000259.7</td><td>*</td><td>Im</td><td>44.983618</td><td>0.049940</td><td>2003.7384</td><td>3</td><td>25.593</td><td>0.783</td><td>24.345</td><td>0.567</td><td>22.358</td><td>0.174</td><td>21.124</td><td>0.084</td><td>20.942</td><td>0.310</td><td>--</td></tr>\n",
       "<tr><td>2</td><td></td><td>3</td><td>J025956.06+000259.9</td><td>*</td><td>Im</td><td>44.983616</td><td>0.049976</td><td>2001.7179</td><td>3</td><td>23.097</td><td>0.818</td><td>23.954</td><td>0.721</td><td>21.839</td><td>0.188</td><td>20.827</td><td>0.102</td><td>20.139</td><td>0.238</td><td>--</td></tr>\n",
       "<tr><td>2</td><td></td><td>3</td><td>J025956.06+000259.9</td><td>*</td><td>Im</td><td>44.983614</td><td>0.049984</td><td>2007.8858</td><td>3</td><td>25.534</td><td>1.705</td><td>24.458</td><td>1.282</td><td>23.156</td><td>0.451</td><td>21.522</td><td>0.119</td><td>20.811</td><td>0.229</td><td>--</td></tr>\n",
       "<tr><td>2</td><td></td><td>3</td><td>J025956.06+000259.9</td><td>*</td><td>Im</td><td>44.983607</td><td>0.049985</td><td>2002.8508</td><td>3</td><td>24.403</td><td>1.152</td><td>23.370</td><td>0.273</td><td>22.722</td><td>0.261</td><td>21.445</td><td>0.148</td><td>20.530</td><td>0.285</td><td>--</td></tr>\n",
       "<tr><td>2</td><td></td><td>3</td><td>J025956.06+000259.9</td><td>*</td><td>Im</td><td>44.983606</td><td>0.049981</td><td>1998.7254</td><td>3</td><td>23.421</td><td>0.462</td><td>24.430</td><td>0.472</td><td>22.850</td><td>0.206</td><td>21.512</td><td>0.091</td><td>21.022</td><td>0.241</td><td>--</td></tr>\n",
       "<tr><td>2</td><td></td><td>6</td><td>J025956.06+000300.0</td><td>*</td><td>Im</td><td>44.983596</td><td>0.050026</td><td>2003.9076</td><td>3</td><td>25.992</td><td>0.686</td><td>24.375</td><td>0.762</td><td>22.527</td><td>0.225</td><td>21.520</td><td>0.120</td><td>20.665</td><td>0.249</td><td>--</td></tr>\n",
       "<tr><td>...</td><td>...</td><td>...</td><td>...</td><td>...</td><td>...</td><td>...</td><td>...</td><td>...</td><td>...</td><td>...</td><td>...</td><td>...</td><td>...</td><td>...</td><td>...</td><td>...</td><td>...</td><td>...</td><td>...</td><td>...</td></tr>\n",
       "<tr><td>2</td><td></td><td>3</td><td>J025953.59+000242.0</td><td></td><td>Im</td><td>44.973316</td><td>0.045001</td><td>2008.0006</td><td>3</td><td>25.346</td><td>0.929</td><td>24.308</td><td>0.658</td><td>22.173</td><td>0.155</td><td>21.577</td><td>0.145</td><td>20.721</td><td>0.197</td><td>--</td></tr>\n",
       "<tr><td>2</td><td></td><td>3</td><td>J025953.59+000241.9</td><td>*</td><td>Im</td><td>44.973304</td><td>0.044976</td><td>2002.8318</td><td>3</td><td>25.538</td><td>0.713</td><td>23.713</td><td>0.314</td><td>22.173</td><td>0.128</td><td>21.500</td><td>0.104</td><td>21.093</td><td>0.306</td><td>--</td></tr>\n",
       "<tr><td>2</td><td></td><td>3</td><td>J025953.60+000242.0</td><td></td><td>Im</td><td>44.973350</td><td>0.045004</td><td>2007.8858</td><td>3</td><td>22.152</td><td>0.532</td><td>23.801</td><td>0.939</td><td>22.174</td><td>0.220</td><td>21.527</td><td>0.135</td><td>21.110</td><td>0.331</td><td>--</td></tr>\n",
       "<tr><td>2</td><td></td><td>3</td><td>J025953.59+000241.9</td><td>*</td><td>Im</td><td>44.973294</td><td>0.044997</td><td>2003.9076</td><td>3</td><td>25.201</td><td>1.364</td><td>22.889</td><td>0.282</td><td>21.843</td><td>0.151</td><td>21.168</td><td>0.108</td><td>21.248</td><td>0.493</td><td>--</td></tr>\n",
       "<tr><td>2</td><td></td><td>3</td><td>J025953.59+000241.9</td><td>*</td><td>Im</td><td>44.973291</td><td>0.044981</td><td>1998.8837</td><td>3</td><td>22.888</td><td>0.400</td><td>23.120</td><td>0.240</td><td>21.758</td><td>0.124</td><td>21.315</td><td>0.136</td><td>21.443</td><td>0.637</td><td>--</td></tr>\n",
       "<tr><td>2</td><td></td><td>3</td><td>J025953.58+000241.8</td><td>*</td><td>Im</td><td>44.973286</td><td>0.044946</td><td>2001.7179</td><td>3</td><td>23.654</td><td>0.892</td><td>23.592</td><td>0.389</td><td>22.294</td><td>0.201</td><td>21.424</td><td>0.121</td><td>22.125</td><td>0.781</td><td>--</td></tr>\n",
       "<tr><td>1</td><td>+</td><td>3</td><td>J025953.58+000241.9</td><td></td><td>Im</td><td>44.973284</td><td>0.044973</td><td>2003.8857</td><td>3</td><td>23.519</td><td>0.529</td><td>23.650</td><td>0.298</td><td>22.182</td><td>0.123</td><td>21.591</td><td>0.112</td><td>21.892</td><td>0.522</td><td>--</td></tr>\n",
       "<tr><td>2</td><td></td><td>3</td><td>J025953.58+000241.9</td><td>*</td><td>Im</td><td>44.973274</td><td>0.044992</td><td>2003.8093</td><td>3</td><td>22.861</td><td>0.445</td><td>23.391</td><td>0.291</td><td>21.886</td><td>0.128</td><td>21.564</td><td>0.138</td><td>21.315</td><td>0.452</td><td>--</td></tr>\n",
       "<tr><td>2</td><td></td><td>3</td><td>J025953.58+000241.9</td><td>*</td><td>Im</td><td>44.973274</td><td>0.044986</td><td>2001.8653</td><td>3</td><td>24.442</td><td>1.263</td><td>23.405</td><td>0.307</td><td>21.929</td><td>0.137</td><td>21.142</td><td>0.100</td><td>21.122</td><td>0.373</td><td>--</td></tr>\n",
       "<tr><td>2</td><td></td><td>3</td><td>J025952.90+000248.4</td><td></td><td>Im</td><td>44.970415</td><td>0.046785</td><td>2002.8318</td><td>3</td><td>26.385</td><td>0.522</td><td>24.003</td><td>0.538</td><td>22.335</td><td>0.221</td><td>22.723</td><td>0.444</td><td>21.606</td><td>0.667</td><td>--</td></tr>\n",
       "</table></div>"
      ],
      "text/plain": [
       "<Table length=50>\n",
       " mode q_mode   cl         SDSS9        ...  e_imag   zmag   e_zmag   zsp  \n",
       "                                       ...   mag     mag     mag          \n",
       "uint8  str1  uint8        str19        ... float32 float32 float32 float64\n",
       "----- ------ ----- ------------------- ... ------- ------- ------- -------\n",
       "    2            6 J025955.29+000252.0 ...   0.163  21.474   0.404      --\n",
       "    2            3 J025956.07+000300.0 ...   0.119  21.032   0.430      --\n",
       "    2            3 J025956.06+000259.9 ...   0.146  20.346   0.189      --\n",
       "    2            3 J025956.06+000259.7 ...   0.084  20.942   0.310      --\n",
       "    2            3 J025956.06+000259.9 ...   0.102  20.139   0.238      --\n",
       "    2            3 J025956.06+000259.9 ...   0.119  20.811   0.229      --\n",
       "    2            3 J025956.06+000259.9 ...   0.148  20.530   0.285      --\n",
       "    2            3 J025956.06+000259.9 ...   0.091  21.022   0.241      --\n",
       "    2            6 J025956.06+000300.0 ...   0.120  20.665   0.249      --\n",
       "  ...    ...   ...                 ... ...     ...     ...     ...     ...\n",
       "    2            3 J025953.59+000242.0 ...   0.145  20.721   0.197      --\n",
       "    2            3 J025953.59+000241.9 ...   0.104  21.093   0.306      --\n",
       "    2            3 J025953.60+000242.0 ...   0.135  21.110   0.331      --\n",
       "    2            3 J025953.59+000241.9 ...   0.108  21.248   0.493      --\n",
       "    2            3 J025953.59+000241.9 ...   0.136  21.443   0.637      --\n",
       "    2            3 J025953.58+000241.8 ...   0.121  22.125   0.781      --\n",
       "    1      +     3 J025953.58+000241.9 ...   0.112  21.892   0.522      --\n",
       "    2            3 J025953.58+000241.9 ...   0.138  21.315   0.452      --\n",
       "    2            3 J025953.58+000241.9 ...   0.100  21.122   0.373      --\n",
       "    2            3 J025952.90+000248.4 ...   0.444  21.606   0.667      --"
      ]
     },
     "execution_count": 6,
     "metadata": {},
     "output_type": "execute_result"
    }
   ],
   "source": [
    "test_sdss = Vizier.get_catalogs(\"V/139\")\n",
    "print(test_sdss)\n",
    "test_sdss[0]"
   ]
  },
  {
   "cell_type": "markdown",
   "metadata": {},
   "source": [
    "Again we want to get the coordinates of the source as well as magnitudes at all five SDSS bands (u, g, r, i  and z), and a classification (cl). Do restrict the query to returning these columns and to get more than 50 rows returned, we create a custom `Vizier` object and then use this object to again query within 14arcmin of RA=08h30m00s, Dec=01d30m00s."
   ]
  },
  {
   "cell_type": "code",
   "execution_count": 7,
   "metadata": {},
   "outputs": [
    {
     "data": {
      "text/plain": [
       "TableList with 1 tables:\n",
       "\t'0:V/139/sdss9' with 8 column(s) and 12405 row(s) "
      ]
     },
     "execution_count": 7,
     "metadata": {},
     "output_type": "execute_result"
    }
   ],
   "source": [
    "custom_vizier = Vizier(\n",
    "    row_limit=-1,\n",
    "    columns=[\"RA_ICRS\", \"DE_ICRS\", \"umag\", \"gmag\", \"rmag\", \"imag\", \"zmag\", \"cl\"],\n",
    ")\n",
    "coord = SkyCoord(ra=\"08:30:00\", dec=\"01:30:00\", unit=(u.hourangle, u.deg))\n",
    "sdss_results = custom_vizier.query_region(coord, radius=14 * u.arcmin, catalog=\"V/139\")\n",
    "sdss_results"
   ]
  },
  {
   "cell_type": "markdown",
   "metadata": {},
   "source": [
    "So we have one table in the resulting lists of tables. It is called `V/139/sdss9`. Let's have a look at it:"
   ]
  },
  {
   "cell_type": "code",
   "execution_count": 8,
   "metadata": {
    "scrolled": true,
    "tags": [
     "output_scroll"
    ]
   },
   "outputs": [
    {
     "data": {
      "text/html": [
       "<div><i>Table length=12405</i>\n",
       "<table id=\"table140051266825472\" class=\"table-striped table-bordered table-condensed\">\n",
       "<thead><tr><th>RA_ICRS</th><th>DE_ICRS</th><th>umag</th><th>gmag</th><th>rmag</th><th>imag</th><th>zmag</th><th>cl</th></tr></thead>\n",
       "<thead><tr><th>deg</th><th>deg</th><th>mag</th><th>mag</th><th>mag</th><th>mag</th><th>mag</th><th></th></tr></thead>\n",
       "<thead><tr><th>float64</th><th>float64</th><th>float32</th><th>float32</th><th>float32</th><th>float32</th><th>float32</th><th>uint8</th></tr></thead>\n",
       "<tr><td>127.267366</td><td>1.512930</td><td>21.853</td><td>19.732</td><td>18.870</td><td>18.564</td><td>18.379</td><td>6</td></tr>\n",
       "<tr><td>127.267372</td><td>1.512928</td><td>22.250</td><td>19.697</td><td>18.855</td><td>18.568</td><td>18.306</td><td>6</td></tr>\n",
       "<tr><td>127.267372</td><td>1.512928</td><td>22.047</td><td>19.751</td><td>18.879</td><td>18.549</td><td>18.383</td><td>6</td></tr>\n",
       "<tr><td>127.267727</td><td>1.495873</td><td>22.879</td><td>22.223</td><td>21.492</td><td>21.122</td><td>20.872</td><td>3</td></tr>\n",
       "<tr><td>127.267754</td><td>1.495933</td><td>22.972</td><td>22.431</td><td>21.465</td><td>21.162</td><td>21.009</td><td>3</td></tr>\n",
       "<tr><td>127.267831</td><td>1.500005</td><td>23.816</td><td>24.462</td><td>22.470</td><td>20.754</td><td>20.033</td><td>6</td></tr>\n",
       "<tr><td>127.267836</td><td>1.495947</td><td>22.638</td><td>22.051</td><td>21.045</td><td>20.627</td><td>20.785</td><td>3</td></tr>\n",
       "<tr><td>127.267853</td><td>1.499961</td><td>24.527</td><td>24.690</td><td>22.381</td><td>20.670</td><td>20.016</td><td>6</td></tr>\n",
       "<tr><td>127.267955</td><td>1.499932</td><td>24.332</td><td>24.996</td><td>23.056</td><td>20.649</td><td>19.976</td><td>6</td></tr>\n",
       "<tr><td>...</td><td>...</td><td>...</td><td>...</td><td>...</td><td>...</td><td>...</td><td>...</td></tr>\n",
       "<tr><td>127.721086</td><td>1.454952</td><td>25.206</td><td>22.518</td><td>21.180</td><td>20.003</td><td>19.220</td><td>6</td></tr>\n",
       "<tr><td>127.721092</td><td>1.454942</td><td>24.141</td><td>22.402</td><td>21.299</td><td>19.986</td><td>19.388</td><td>6</td></tr>\n",
       "<tr><td>127.721106</td><td>1.454915</td><td>25.321</td><td>22.688</td><td>21.179</td><td>20.001</td><td>19.185</td><td>6</td></tr>\n",
       "<tr><td>127.721135</td><td>1.433421</td><td>24.965</td><td>23.102</td><td>21.848</td><td>21.408</td><td>20.790</td><td>6</td></tr>\n",
       "<tr><td>127.721294</td><td>1.428704</td><td>23.008</td><td>22.731</td><td>22.155</td><td>21.610</td><td>22.793</td><td>3</td></tr>\n",
       "<tr><td>127.721770</td><td>1.431717</td><td>24.914</td><td>22.575</td><td>21.113</td><td>20.438</td><td>20.019</td><td>6</td></tr>\n",
       "<tr><td>127.721857</td><td>1.451469</td><td>22.933</td><td>22.365</td><td>21.472</td><td>21.923</td><td>20.895</td><td>3</td></tr>\n",
       "<tr><td>127.722534</td><td>1.455524</td><td>23.442</td><td>23.378</td><td>22.518</td><td>22.918</td><td>21.866</td><td>3</td></tr>\n",
       "<tr><td>127.722635</td><td>1.433612</td><td>24.813</td><td>23.994</td><td>22.453</td><td>21.173</td><td>20.798</td><td>3</td></tr>\n",
       "<tr><td>127.722672</td><td>1.455765</td><td>22.961</td><td>25.752</td><td>22.950</td><td>22.003</td><td>23.070</td><td>6</td></tr>\n",
       "</table></div>"
      ],
      "text/plain": [
       "<Table length=12405>\n",
       " RA_ICRS    DE_ICRS     umag    gmag    rmag    imag    zmag    cl \n",
       "   deg        deg       mag     mag     mag     mag     mag        \n",
       " float64    float64   float32 float32 float32 float32 float32 uint8\n",
       "---------- ---------- ------- ------- ------- ------- ------- -----\n",
       "127.267366   1.512930  21.853  19.732  18.870  18.564  18.379     6\n",
       "127.267372   1.512928  22.250  19.697  18.855  18.568  18.306     6\n",
       "127.267372   1.512928  22.047  19.751  18.879  18.549  18.383     6\n",
       "127.267727   1.495873  22.879  22.223  21.492  21.122  20.872     3\n",
       "127.267754   1.495933  22.972  22.431  21.465  21.162  21.009     3\n",
       "127.267831   1.500005  23.816  24.462  22.470  20.754  20.033     6\n",
       "127.267836   1.495947  22.638  22.051  21.045  20.627  20.785     3\n",
       "127.267853   1.499961  24.527  24.690  22.381  20.670  20.016     6\n",
       "127.267955   1.499932  24.332  24.996  23.056  20.649  19.976     6\n",
       "       ...        ...     ...     ...     ...     ...     ...   ...\n",
       "127.721086   1.454952  25.206  22.518  21.180  20.003  19.220     6\n",
       "127.721092   1.454942  24.141  22.402  21.299  19.986  19.388     6\n",
       "127.721106   1.454915  25.321  22.688  21.179  20.001  19.185     6\n",
       "127.721135   1.433421  24.965  23.102  21.848  21.408  20.790     6\n",
       "127.721294   1.428704  23.008  22.731  22.155  21.610  22.793     3\n",
       "127.721770   1.431717  24.914  22.575  21.113  20.438  20.019     6\n",
       "127.721857   1.451469  22.933  22.365  21.472  21.923  20.895     3\n",
       "127.722534   1.455524  23.442  23.378  22.518  22.918  21.866     3\n",
       "127.722635   1.433612  24.813  23.994  22.453  21.173  20.798     3\n",
       "127.722672   1.455765  22.961  25.752  22.950  22.003  23.070     6"
      ]
     },
     "execution_count": 8,
     "metadata": {},
     "output_type": "execute_result"
    }
   ],
   "source": [
    "sdss_results[0]"
   ]
  },
  {
   "cell_type": "markdown",
   "metadata": {},
   "source": [
    "## Step #2: Cross-matching\n",
    "\n",
    "\n",
    "[![Xmatch](https://custom-icon-badges.demolab.com/badge/Xmatch-gray.svg?logo=xmatch&logoColor=blue&logoWidth=20)](http://cdsxmatch.u-strasbg.fr/ \"http://cdsxmatch.u-strasbg.fr/\")\n",
    "\n",
    "In this next step, we find common sources in the 2MASS-PSC and SDSS-DR9 catalogues. One simple way to do this using the CDS XMatch service, which can also be reached with `astroquery`. The most reliable way to quuery XMatch is by uploading one of the tables (which will also make sure we stay in our region of interest) and crossmatching it to a table available in VizieR. "
   ]
  },
  {
   "cell_type": "code",
   "execution_count": 9,
   "metadata": {},
   "outputs": [],
   "source": [
    "mass_psc.write(\"Data/2MASS_PSC.vot\", format=\"votable\", overwrite=True)\n",
    "sdss_results[0].write(\"Data/SDSS_DR9.vot\", format=\"votable\", overwrite=True)"
   ]
  },
  {
   "cell_type": "code",
   "execution_count": 10,
   "metadata": {
    "scrolled": true,
    "tags": [
     "output_scroll"
    ]
   },
   "outputs": [
    {
     "data": {
      "text/html": [
       "<div><i>Table length=717</i>\n",
       "<table id=\"table140051268520784\" class=\"table-striped table-bordered table-condensed\">\n",
       "<thead><tr><th>angDist</th><th>RAJ2000</th><th>DEJ2000</th><th>errMaj</th><th>errMin</th><th>errPA</th><th>2MASS</th><th>Jmag</th><th>Jcmsig</th><th>e_Jmag</th><th>Jsnr</th><th>Hmag</th><th>Hcmsig</th><th>e_Hmag</th><th>Hsnr</th><th>Kmag</th><th>Kcmsig</th><th>e_Kmag</th><th>Ksnr</th><th>Qflg</th><th>Rflg</th><th>Bflg</th><th>Cflg</th><th>Ndet</th><th>prox</th><th>pxPA</th><th>pxCntr</th><th>Xflg</th><th>Aflg</th><th>Cntr</th><th>Hemis</th><th>Date</th><th>Scan</th><th>GLON</th><th>GLAT</th><th>Xscan</th><th>JD</th><th>Jpsfchi</th><th>Hpsfchi</th><th>Kpsfchi</th><th>Jstdap</th><th>e_Jstdap</th><th>Hstdap</th><th>e_Hstdap</th><th>Kstdap</th><th>e_Kstdap</th><th>edgeNS</th><th>edgeEW</th><th>edge</th><th>dup</th><th>use</th><th>opt</th><th>Dopt</th><th>PAopt</th><th>Bmag</th><th>Rmag</th><th>Nopt</th><th>extKey</th><th>scanKey</th><th>coaddKey</th><th>coadd</th><th>SDSS9</th><th>RAdeg</th><th>DEdeg</th><th>errHalfMaj</th><th>errHalfMin</th><th>errPosAng</th><th>umag</th><th>gmag</th><th>rmag</th><th>imag</th><th>zmag</th><th>e_umag</th><th>e_gmag</th><th>e_rmag</th><th>e_imag</th><th>e_zmag</th><th>objID</th><th>cl</th><th>q_mode</th><th>flags</th><th>Q</th><th>ObsDate</th><th>pmRA</th><th>e_pmRA</th><th>pmDE</th><th>e_pmDE</th><th>SpObjID</th><th>zsp</th><th>e_zsp</th><th>f_zsp</th><th>spType</th><th>spCl</th><th>subClass</th></tr></thead>\n",
       "<thead><tr><th>float64</th><th>float64</th><th>float64</th><th>float64</th><th>float64</th><th>int64</th><th>str16</th><th>float64</th><th>float64</th><th>float64</th><th>float64</th><th>float64</th><th>float64</th><th>float64</th><th>float64</th><th>float64</th><th>float64</th><th>float64</th><th>float64</th><th>str3</th><th>int64</th><th>int64</th><th>str3</th><th>int64</th><th>float64</th><th>int64</th><th>int64</th><th>int64</th><th>int64</th><th>int64</th><th>str1</th><th>str10</th><th>int64</th><th>float64</th><th>float64</th><th>float64</th><th>float64</th><th>float64</th><th>float64</th><th>float64</th><th>float64</th><th>float64</th><th>float64</th><th>float64</th><th>float64</th><th>float64</th><th>int64</th><th>int64</th><th>str2</th><th>int64</th><th>int64</th><th>str1</th><th>float64</th><th>int64</th><th>float64</th><th>float64</th><th>int64</th><th>int64</th><th>int64</th><th>int64</th><th>int64</th><th>str19</th><th>float64</th><th>float64</th><th>float64</th><th>float64</th><th>int64</th><th>float64</th><th>float64</th><th>float64</th><th>float64</th><th>float64</th><th>float64</th><th>float64</th><th>float64</th><th>float64</th><th>float64</th><th>int64</th><th>int64</th><th>int64</th><th>str16</th><th>int64</th><th>float64</th><th>int64</th><th>int64</th><th>int64</th><th>int64</th><th>int64</th><th>int64</th><th>int64</th><th>int64</th><th>int64</th><th>int64</th><th>int64</th></tr></thead>\n",
       "<tr><td>0.352101</td><td>127.509154</td><td>1.269173</td><td>0.2</td><td>0.15</td><td>87</td><td>08300219+0116090</td><td>15.963</td><td>0.095</td><td>0.096</td><td>12.5</td><td>15.546</td><td>0.121</td><td>0.122</td><td>9.0</td><td>14.93</td><td>0.144</td><td>0.144</td><td>8.1</td><td>ABB</td><td>222</td><td>111</td><td>000</td><td>160606</td><td>14.2</td><td>340</td><td>804040589</td><td>0</td><td>0</td><td>804040599</td><td>s</td><td>2000-01-30</td><td>58</td><td>223.554</td><td>22.408</td><td>178.5</td><td>2451573.6815</td><td>0.89</td><td>1.01</td><td>0.92</td><td>15.939</td><td>0.235</td><td>15.899</td><td>0.319</td><td>14.69</td><td>0.124</td><td>4589</td><td>74</td><td>sw</td><td>0</td><td>1</td><td>0</td><td>--</td><td>--</td><td>--</td><td>--</td><td>0</td><td>--</td><td>43956</td><td>1010984</td><td>221</td><td>J083002.21+011608.9</td><td>127.509248</td><td>1.269146</td><td>0.01</td><td>0.009</td><td>90</td><td>23.712</td><td>20.876</td><td>19.402</td><td>18.068</td><td>17.338</td><td>0.67</td><td>0.034</td><td>0.015</td><td>0.009</td><td>0.015</td><td>1237653664712163908</td><td>6</td><td>1</td><td>0000201010000110</td><td>3</td><td>2000.9155</td><td>-53</td><td>5</td><td>-43</td><td>5</td><td>0</td><td>--</td><td>--</td><td>--</td><td>--</td><td>--</td><td>--</td></tr>\n",
       "<tr><td>0.152435</td><td>127.507779</td><td>1.272875</td><td>0.12</td><td>0.11</td><td>86</td><td>08300186+0116223</td><td>15.594</td><td>0.083</td><td>0.084</td><td>17.6</td><td>15.563</td><td>0.117</td><td>0.117</td><td>8.9</td><td>15.272</td><td>0.181</td><td>0.182</td><td>5.9</td><td>ABC</td><td>222</td><td>111</td><td>000</td><td>360606</td><td>14.2</td><td>160</td><td>804040599</td><td>0</td><td>0</td><td>804040589</td><td>s</td><td>2000-01-30</td><td>58</td><td>223.55</td><td>22.408</td><td>183.4</td><td>2451573.6814</td><td>1.64</td><td>0.82</td><td>1.47</td><td>15.432</td><td>0.153</td><td>15.81</td><td>0.424</td><td>14.992</td><td>0.114</td><td>4602</td><td>69</td><td>sw</td><td>0</td><td>1</td><td>U</td><td>0.2</td><td>270</td><td>17.1</td><td>16.5</td><td>1</td><td>--</td><td>43956</td><td>1010984</td><td>221</td><td>J083001.86+011622.2</td><td>127.507749</td><td>1.272845</td><td>0.002</td><td>0.002</td><td>90</td><td>18.394</td><td>17.213</td><td>16.806</td><td>16.674</td><td>16.623</td><td>0.014</td><td>0.004</td><td>0.004</td><td>0.005</td><td>0.01</td><td>1237653664712163358</td><td>6</td><td>1</td><td>0000001010000000</td><td>3</td><td>2000.9155</td><td>-3</td><td>3</td><td>2</td><td>3</td><td>0</td><td>--</td><td>--</td><td>--</td><td>--</td><td>--</td><td>--</td></tr>\n",
       "<tr><td>0.217574</td><td>127.514167</td><td>1.277495</td><td>0.23</td><td>0.21</td><td>51</td><td>08300340+0116389</td><td>16.553</td><td>0.17</td><td>0.171</td><td>7.3</td><td>16.179</td><td>0.194</td><td>0.194</td><td>5.0</td><td>15.894</td><td>--</td><td>--</td><td>--</td><td>CCU</td><td>220</td><td>110</td><td>000</td><td>60600</td><td>28.4</td><td>234</td><td>804040589</td><td>0</td><td>0</td><td>804040577</td><td>s</td><td>2000-01-30</td><td>58</td><td>223.549</td><td>22.416</td><td>160.4</td><td>2451573.6814</td><td>0.69</td><td>1.58</td><td>--</td><td>16.335</td><td>0.139</td><td>18.014</td><td>3.36</td><td>--</td><td>--</td><td>4619</td><td>92</td><td>sw</td><td>0</td><td>1</td><td>U</td><td>0.0</td><td>13</td><td>18.0</td><td>17.3</td><td>1</td><td>--</td><td>43956</td><td>1010984</td><td>221</td><td>J083003.39+011638.8</td><td>127.514129</td><td>1.277448</td><td>0.003</td><td>0.003</td><td>90</td><td>19.513</td><td>18.189</td><td>17.714</td><td>17.559</td><td>17.485</td><td>0.028</td><td>0.006</td><td>0.006</td><td>0.007</td><td>0.016</td><td>1237653664712163741</td><td>6</td><td>1</td><td>0000001010000000</td><td>3</td><td>2000.9155</td><td>2</td><td>3</td><td>1</td><td>3</td><td>0</td><td>--</td><td>--</td><td>--</td><td>--</td><td>--</td><td>--</td></tr>\n",
       "<tr><td>0.048922</td><td>127.463251</td><td>1.271903</td><td>0.07</td><td>0.07</td><td>0</td><td>08295118+0116188</td><td>15.844</td><td>0.076</td><td>0.077</td><td>14.0</td><td>15.11</td><td>0.095</td><td>0.096</td><td>13.5</td><td>15.029</td><td>0.138</td><td>0.138</td><td>7.4</td><td>AAB</td><td>222</td><td>111</td><td>000</td><td>260606</td><td>41.0</td><td>160</td><td>804019559</td><td>0</td><td>0</td><td>804019587</td><td>s</td><td>2000-01-30</td><td>57</td><td>223.528</td><td>22.369</td><td>-87.9</td><td>2451573.6739</td><td>1.78</td><td>0.8</td><td>1.14</td><td>15.935</td><td>0.238</td><td>15.077</td><td>0.164</td><td>15.197</td><td>0.438</td><td>4593</td><td>164</td><td>se</td><td>0</td><td>1</td><td>U</td><td>1.0</td><td>281</td><td>20.0</td><td>18.4</td><td>1</td><td>--</td><td>43955</td><td>1010947</td><td>56</td><td>J082951.17+011618.8</td><td>127.463238</td><td>1.271907</td><td>0.005</td><td>0.005</td><td>90</td><td>21.976</td><td>19.794</td><td>18.386</td><td>17.54</td><td>17.048</td><td>0.176</td><td>0.016</td><td>0.008</td><td>0.007</td><td>0.012</td><td>1237653664712098290</td><td>6</td><td>1</td><td>0000001010000000</td><td>3</td><td>2000.9155</td><td>-19</td><td>4</td><td>8</td><td>4</td><td>0</td><td>--</td><td>--</td><td>--</td><td>--</td><td>--</td><td>--</td></tr>\n",
       "<tr><td>0.023156</td><td>127.463023</td><td>1.2864</td><td>0.06</td><td>0.06</td><td>0</td><td>08295112+0117110</td><td>14.093</td><td>0.029</td><td>0.032</td><td>70.0</td><td>13.652</td><td>0.033</td><td>0.035</td><td>51.7</td><td>13.553</td><td>0.042</td><td>0.043</td><td>28.9</td><td>AAA</td><td>222</td><td>111</td><td>000</td><td>666635</td><td>52.2</td><td>179</td><td>804019587</td><td>0</td><td>0</td><td>804019616</td><td>s</td><td>2000-01-30</td><td>57</td><td>223.514</td><td>22.376</td><td>-87.0</td><td>2451573.674</td><td>0.75</td><td>0.97</td><td>0.91</td><td>14.077</td><td>0.023</td><td>13.576</td><td>0.05</td><td>13.692</td><td>0.14</td><td>4646</td><td>165</td><td>se</td><td>0</td><td>1</td><td>U</td><td>0.4</td><td>160</td><td>16.3</td><td>14.6</td><td>1</td><td>--</td><td>43955</td><td>1010947</td><td>56</td><td>J082951.12+011711.0</td><td>127.463018</td><td>1.286396</td><td>0.001</td><td>0.001</td><td>90</td><td>17.223</td><td>15.796</td><td>15.259</td><td>15.074</td><td>14.993</td><td>0.008</td><td>0.003</td><td>0.003</td><td>0.003</td><td>0.005</td><td>1237653664712098015</td><td>6</td><td>1</td><td>0000201090020010</td><td>3</td><td>2000.9155</td><td>5</td><td>3</td><td>-5</td><td>3</td><td>0</td><td>--</td><td>--</td><td>--</td><td>--</td><td>--</td><td>--</td></tr>\n",
       "<tr><td>0.102852</td><td>127.48465</td><td>1.271192</td><td>0.06</td><td>0.06</td><td>0</td><td>08295631+0116162</td><td>13.848</td><td>0.026</td><td>0.029</td><td>87.8</td><td>13.177</td><td>0.02</td><td>0.022</td><td>80.0</td><td>12.932</td><td>0.023</td><td>0.024</td><td>51.1</td><td>AAA</td><td>222</td><td>111</td><td>000</td><td>666655</td><td>15.7</td><td>12</td><td>804019600</td><td>0</td><td>0</td><td>804019585</td><td>s</td><td>2000-01-30</td><td>57</td><td>223.54</td><td>22.387</td><td>-164.9</td><td>2451573.6739</td><td>0.88</td><td>0.87</td><td>0.95</td><td>13.813</td><td>0.042</td><td>13.143</td><td>0.051</td><td>13.009</td><td>0.056</td><td>4591</td><td>87</td><td>se</td><td>0</td><td>1</td><td>U</td><td>0.2</td><td>244</td><td>18.8</td><td>16.7</td><td>1</td><td>--</td><td>43955</td><td>1010947</td><td>56</td><td>J082956.31+011616.3</td><td>127.484625</td><td>1.271206</td><td>0.002</td><td>0.002</td><td>90</td><td>21.011</td><td>18.359</td><td>16.959</td><td>15.814</td><td>15.169</td><td>0.081</td><td>0.007</td><td>0.004</td><td>0.004</td><td>0.005</td><td>1237653664712098324</td><td>6</td><td>1</td><td>0000001010000000</td><td>3</td><td>2000.9155</td><td>-3</td><td>3</td><td>4</td><td>3</td><td>0</td><td>--</td><td>--</td><td>--</td><td>--</td><td>--</td><td>--</td></tr>\n",
       "<tr><td>0.385255</td><td>127.485565</td><td>1.275456</td><td>0.2</td><td>0.17</td><td>4</td><td>08295653+0116316</td><td>16.26</td><td>0.112</td><td>0.112</td><td>9.5</td><td>15.908</td><td>0.172</td><td>0.172</td><td>6.5</td><td>15.264</td><td>0.184</td><td>0.184</td><td>6.0</td><td>BCC</td><td>222</td><td>111</td><td>000</td><td>160606</td><td>15.7</td><td>192</td><td>804019585</td><td>0</td><td>0</td><td>804019600</td><td>s</td><td>2000-01-30</td><td>57</td><td>223.536</td><td>22.39</td><td>-168.2</td><td>2451573.674</td><td>0.84</td><td>1.3</td><td>0.8</td><td>16.125</td><td>0.291</td><td>15.529</td><td>0.253</td><td>15.21</td><td>0.246</td><td>4606</td><td>84</td><td>se</td><td>0</td><td>1</td><td>U</td><td>0.4</td><td>232</td><td>18.1</td><td>17.4</td><td>1</td><td>--</td><td>43955</td><td>1010947</td><td>56</td><td>J082956.55+011631.7</td><td>127.485664</td><td>1.275497</td><td>0.003</td><td>0.003</td><td>90</td><td>20.245</td><td>18.34</td><td>17.584</td><td>17.343</td><td>17.185</td><td>0.046</td><td>0.007</td><td>0.005</td><td>0.006</td><td>0.013</td><td>1237653664712098328</td><td>6</td><td>1</td><td>0000001010000000</td><td>3</td><td>2000.9155</td><td>5</td><td>3</td><td>2</td><td>3</td><td>0</td><td>--</td><td>--</td><td>--</td><td>--</td><td>--</td><td>--</td></tr>\n",
       "<tr><td>0.18744</td><td>127.494339</td><td>1.280734</td><td>0.15</td><td>0.15</td><td>145</td><td>08295864+0116506</td><td>16.317</td><td>0.119</td><td>0.12</td><td>9.0</td><td>15.818</td><td>0.141</td><td>0.141</td><td>7.0</td><td>15.099</td><td>--</td><td>--</td><td>--</td><td>BBU</td><td>220</td><td>110</td><td>000</td><td>60600</td><td>36.9</td><td>239</td><td>804019600</td><td>0</td><td>0</td><td>804019605</td><td>s</td><td>2000-01-30</td><td>57</td><td>223.536</td><td>22.4</td><td>-199.8</td><td>2451573.674</td><td>0.96</td><td>1.62</td><td>--</td><td>16.264</td><td>0.088</td><td>16.219</td><td>0.553</td><td>--</td><td>--</td><td>4625</td><td>52</td><td>se</td><td>1</td><td>1</td><td>0</td><td>--</td><td>--</td><td>--</td><td>--</td><td>0</td><td>--</td><td>43955</td><td>1010947</td><td>56</td><td>J082958.64+011650.4</td><td>127.494341</td><td>1.280682</td><td>0.009</td><td>0.008</td><td>90</td><td>22.545</td><td>20.673</td><td>19.202</td><td>18.184</td><td>17.586</td><td>0.275</td><td>0.029</td><td>0.013</td><td>0.009</td><td>0.017</td><td>1237653664712098411</td><td>6</td><td>1</td><td>0000901010020000</td><td>3</td><td>2000.9155</td><td>7</td><td>5</td><td>-6</td><td>5</td><td>0</td><td>--</td><td>--</td><td>--</td><td>--</td><td>--</td><td>--</td></tr>\n",
       "<tr><td>0.038231</td><td>127.494645</td><td>1.296204</td><td>0.07</td><td>0.07</td><td>17</td><td>08295871+0117463</td><td>15.25</td><td>0.05</td><td>0.051</td><td>24.1</td><td>15.062</td><td>0.077</td><td>0.078</td><td>14.1</td><td>14.87</td><td>0.114</td><td>0.114</td><td>8.6</td><td>AAB</td><td>222</td><td>111</td><td>000</td><td>660506</td><td>47.1</td><td>299</td><td>804019652</td><td>0</td><td>0</td><td>804019639</td><td>s</td><td>2000-01-30</td><td>57</td><td>223.521</td><td>22.408</td><td>-200.9</td><td>2451573.674</td><td>0.98</td><td>0.89</td><td>1.01</td><td>15.178</td><td>0.064</td><td>15.195</td><td>0.302</td><td>14.779</td><td>0.326</td><td>4681</td><td>51</td><td>se</td><td>1</td><td>1</td><td>U</td><td>0.4</td><td>185</td><td>16.8</td><td>16.1</td><td>1</td><td>--</td><td>43955</td><td>1010947</td><td>56</td><td>J082958.71+011746.3</td><td>127.494638</td><td>1.296212</td><td>0.002</td><td>0.001</td><td>90</td><td>17.968</td><td>16.737</td><td>16.304</td><td>16.182</td><td>16.107</td><td>0.012</td><td>0.004</td><td>0.004</td><td>0.004</td><td>0.007</td><td>1237653664712098075</td><td>6</td><td>1</td><td>0000201010021010</td><td>3</td><td>2000.9155</td><td>1</td><td>3</td><td>-6</td><td>3</td><td>0</td><td>--</td><td>--</td><td>--</td><td>--</td><td>--</td><td>--</td></tr>\n",
       "<tr><td>0.125123</td><td>127.483247</td><td>1.302628</td><td>0.06</td><td>0.06</td><td>0</td><td>08295597+0118094</td><td>13.484</td><td>0.025</td><td>0.027</td><td>122.7</td><td>12.862</td><td>0.02</td><td>0.022</td><td>106.9</td><td>12.807</td><td>0.033</td><td>0.034</td><td>57.4</td><td>AAA</td><td>222</td><td>111</td><td>000</td><td>665555</td><td>27.9</td><td>314</td><td>804019667</td><td>0</td><td>0</td><td>804019652</td><td>s</td><td>2000-01-30</td><td>57</td><td>223.509</td><td>22.401</td><td>-159.8</td><td>2451573.674</td><td>1.06</td><td>0.7</td><td>1.1</td><td>13.457</td><td>0.027</td><td>12.875</td><td>0.06</td><td>12.777</td><td>0.069</td><td>4704</td><td>92</td><td>se</td><td>0</td><td>1</td><td>U</td><td>2.0</td><td>195</td><td>16.3</td><td>14.5</td><td>1</td><td>--</td><td>43955</td><td>1010947</td><td>56</td><td>J082955.98+011809.3</td><td>127.483254</td><td>1.302594</td><td>0.001</td><td>0.001</td><td>90</td><td>17.956</td><td>15.896</td><td>15.035</td><td>14.727</td><td>14.511</td><td>0.012</td><td>0.003</td><td>0.003</td><td>0.003</td><td>0.004</td><td>1237653664712098036</td><td>6</td><td>1</td><td>0000201090020010</td><td>3</td><td>2000.9155</td><td>-9</td><td>3</td><td>-41</td><td>3</td><td>0</td><td>--</td><td>--</td><td>--</td><td>--</td><td>--</td><td>--</td></tr>\n",
       "<tr><td>...</td><td>...</td><td>...</td><td>...</td><td>...</td><td>...</td><td>...</td><td>...</td><td>...</td><td>...</td><td>...</td><td>...</td><td>...</td><td>...</td><td>...</td><td>...</td><td>...</td><td>...</td><td>...</td><td>...</td><td>...</td><td>...</td><td>...</td><td>...</td><td>...</td><td>...</td><td>...</td><td>...</td><td>...</td><td>...</td><td>...</td><td>...</td><td>...</td><td>...</td><td>...</td><td>...</td><td>...</td><td>...</td><td>...</td><td>...</td><td>...</td><td>...</td><td>...</td><td>...</td><td>...</td><td>...</td><td>...</td><td>...</td><td>...</td><td>...</td><td>...</td><td>...</td><td>...</td><td>...</td><td>...</td><td>...</td><td>...</td><td>...</td><td>...</td><td>...</td><td>...</td><td>...</td><td>...</td><td>...</td><td>...</td><td>...</td><td>...</td><td>...</td><td>...</td><td>...</td><td>...</td><td>...</td><td>...</td><td>...</td><td>...</td><td>...</td><td>...</td><td>...</td><td>...</td><td>...</td><td>...</td><td>...</td><td>...</td><td>...</td><td>...</td><td>...</td><td>...</td><td>...</td><td>...</td><td>...</td><td>...</td><td>...</td><td>...</td><td>...</td></tr>\n",
       "<tr><td>0.231895</td><td>127.471749</td><td>1.699981</td><td>0.15</td><td>0.15</td><td>145</td><td>08295321+0141599</td><td>16.278</td><td>0.12</td><td>0.121</td><td>9.4</td><td>15.646</td><td>0.138</td><td>0.138</td><td>8.2</td><td>15.792</td><td>--</td><td>--</td><td>--</td><td>BBU</td><td>220</td><td>110</td><td>000</td><td>60600</td><td>21.5</td><td>111</td><td>804020536</td><td>0</td><td>0</td><td>804020539</td><td>s</td><td>2000-01-30</td><td>57</td><td>223.127</td><td>22.583</td><td>-118.5</td><td>2451573.6743</td><td>0.82</td><td>0.93</td><td>--</td><td>16.158</td><td>0.12</td><td>15.666</td><td>0.136</td><td>--</td><td>--</td><td>6134</td><td>134</td><td>se</td><td>0</td><td>1</td><td>U</td><td>0.5</td><td>178</td><td>18.2</td><td>17.1</td><td>1</td><td>--</td><td>43955</td><td>1010949</td><td>80</td><td>J082953.20+014159.8</td><td>127.471686</td><td>1.699968</td><td>0.003</td><td>0.003</td><td>90</td><td>19.801</td><td>18.25</td><td>17.648</td><td>17.445</td><td>17.292</td><td>0.034</td><td>0.006</td><td>0.006</td><td>0.006</td><td>0.015</td><td>1237653665248969172</td><td>6</td><td>1</td><td>0000001010000000</td><td>3</td><td>2000.9155</td><td>0</td><td>3</td><td>-6</td><td>3</td><td>0</td><td>--</td><td>--</td><td>--</td><td>--</td><td>--</td><td>--</td></tr>\n",
       "<tr><td>0.108018</td><td>127.485472</td><td>1.701631</td><td>0.07</td><td>0.07</td><td>17</td><td>08295651+0142058</td><td>15.286</td><td>0.047</td><td>0.049</td><td>23.3</td><td>14.805</td><td>0.069</td><td>0.069</td><td>17.9</td><td>14.59</td><td>0.102</td><td>0.102</td><td>11.1</td><td>AAA</td><td>222</td><td>111</td><td>000</td><td>361506</td><td>32.4</td><td>245</td><td>804020536</td><td>0</td><td>0</td><td>804020544</td><td>s</td><td>2000-01-30</td><td>57</td><td>223.132</td><td>22.596</td><td>-167.8</td><td>2451573.6743</td><td>1.03</td><td>1.1</td><td>1.02</td><td>15.41</td><td>0.107</td><td>14.79</td><td>0.127</td><td>14.331</td><td>0.225</td><td>6140</td><td>84</td><td>se</td><td>0</td><td>1</td><td>U</td><td>0.5</td><td>227</td><td>17.9</td><td>16.6</td><td>1</td><td>--</td><td>43955</td><td>1010949</td><td>80</td><td>J082956.51+014205.7</td><td>127.485483</td><td>1.701603</td><td>0.002</td><td>0.002</td><td>90</td><td>19.856</td><td>17.73</td><td>16.86</td><td>16.541</td><td>16.35</td><td>0.036</td><td>0.005</td><td>0.004</td><td>0.004</td><td>0.009</td><td>1237653665249034558</td><td>6</td><td>1</td><td>0000001010020000</td><td>3</td><td>2000.9155</td><td>-4</td><td>3</td><td>-4</td><td>3</td><td>0</td><td>--</td><td>--</td><td>--</td><td>--</td><td>--</td><td>--</td></tr>\n",
       "<tr><td>0.033205</td><td>127.50233</td><td>1.707568</td><td>0.06</td><td>0.06</td><td>90</td><td>08300055+0142272</td><td>13.442</td><td>0.023</td><td>0.026</td><td>127.5</td><td>12.837</td><td>0.024</td><td>0.026</td><td>109.4</td><td>12.652</td><td>0.029</td><td>0.03</td><td>66.2</td><td>AAA</td><td>222</td><td>111</td><td>000</td><td>666655</td><td>24.1</td><td>173</td><td>804039600</td><td>0</td><td>0</td><td>804039583</td><td>s</td><td>2000-01-30</td><td>58</td><td>223.135</td><td>22.614</td><td>203.0</td><td>2451573.6811</td><td>1.13</td><td>0.79</td><td>1.5</td><td>13.483</td><td>0.018</td><td>12.913</td><td>0.029</td><td>12.71</td><td>0.045</td><td>6167</td><td>50</td><td>sw</td><td>1</td><td>1</td><td>U</td><td>1.1</td><td>262</td><td>17.2</td><td>15.1</td><td>1</td><td>--</td><td>43956</td><td>1010982</td><td>198</td><td>J083000.56+014227.2</td><td>127.502332</td><td>1.707559</td><td>0.001</td><td>0.001</td><td>90</td><td>19.461</td><td>16.829</td><td>15.524</td><td>14.976</td><td>14.692</td><td>0.027</td><td>0.004</td><td>0.004</td><td>0.003</td><td>0.005</td><td>1237653665249034586</td><td>6</td><td>1</td><td>0000201010020010</td><td>3</td><td>2000.9155</td><td>-22</td><td>3</td><td>1</td><td>3</td><td>0</td><td>--</td><td>--</td><td>--</td><td>--</td><td>--</td><td>--</td></tr>\n",
       "<tr><td>0.127126</td><td>127.469423</td><td>1.71372</td><td>0.12</td><td>0.11</td><td>101</td><td>08295266+0142493</td><td>16.124</td><td>0.097</td><td>0.098</td><td>10.8</td><td>15.408</td><td>0.101</td><td>0.102</td><td>10.3</td><td>15.34</td><td>0.186</td><td>0.186</td><td>5.6</td><td>AAC</td><td>222</td><td>111</td><td>000</td><td>60606</td><td>50.2</td><td>170</td><td>804020539</td><td>0</td><td>0</td><td>804020569</td><td>s</td><td>2000-01-30</td><td>57</td><td>223.112</td><td>22.588</td><td>-110.1</td><td>2451573.6743</td><td>0.99</td><td>0.99</td><td>0.93</td><td>16.256</td><td>0.269</td><td>15.929</td><td>0.347</td><td>15.574</td><td>0.328</td><td>6184</td><td>142</td><td>se</td><td>0</td><td>1</td><td>0</td><td>--</td><td>--</td><td>--</td><td>--</td><td>0</td><td>--</td><td>43955</td><td>1010949</td><td>80</td><td>J082952.66+014249.2</td><td>127.469418</td><td>1.713685</td><td>0.009</td><td>0.008</td><td>90</td><td>23.472</td><td>20.755</td><td>19.283</td><td>18.181</td><td>17.503</td><td>0.594</td><td>0.029</td><td>0.014</td><td>0.009</td><td>0.017</td><td>1237653665248969263</td><td>6</td><td>1</td><td>0000001010000100</td><td>3</td><td>2000.9155</td><td>-13</td><td>5</td><td>3</td><td>5</td><td>0</td><td>--</td><td>--</td><td>--</td><td>--</td><td>--</td><td>--</td></tr>\n",
       "<tr><td>0.029366</td><td>127.451948</td><td>1.721205</td><td>0.06</td><td>0.06</td><td>0</td><td>08294846+0143163</td><td>12.459</td><td>0.019</td><td>0.023</td><td>315.4</td><td>12.056</td><td>0.024</td><td>0.026</td><td>224.7</td><td>11.969</td><td>0.023</td><td>0.024</td><td>124.1</td><td>AAA</td><td>222</td><td>111</td><td>000</td><td>666666</td><td>48.4</td><td>192</td><td>804020559</td><td>0</td><td>0</td><td>804020588</td><td>s</td><td>2000-01-30</td><td>57</td><td>223.096</td><td>22.576</td><td>-47.2</td><td>2451573.6743</td><td>0.74</td><td>0.74</td><td>0.86</td><td>12.47</td><td>0.019</td><td>12.038</td><td>0.046</td><td>11.973</td><td>0.029</td><td>6211</td><td>205</td><td>se</td><td>0</td><td>1</td><td>U</td><td>1.3</td><td>176</td><td>14.8</td><td>13.5</td><td>1</td><td>--</td><td>43955</td><td>1010949</td><td>80</td><td>J082948.46+014316.3</td><td>127.451955</td><td>1.721201</td><td>0.047</td><td>0.042</td><td>90</td><td>16.125</td><td>14.47</td><td>13.785</td><td>13.755</td><td>13.493</td><td>0.006</td><td>0.003</td><td>0.006</td><td>0.002</td><td>0.004</td><td>1237653665248968970</td><td>6</td><td>0</td><td>0000B81092061010</td><td>3</td><td>2000.9155</td><td>2</td><td>3</td><td>-24</td><td>3</td><td>0</td><td>--</td><td>--</td><td>--</td><td>--</td><td>--</td><td>--</td></tr>\n",
       "<tr><td>0.475815</td><td>127.395474</td><td>1.69711</td><td>0.34</td><td>0.32</td><td>88</td><td>08293491+0141495</td><td>16.551</td><td>0.164</td><td>0.164</td><td>7.3</td><td>15.907</td><td>0.207</td><td>0.207</td><td>6.5</td><td>15.795</td><td>0.274</td><td>0.275</td><td>3.7</td><td>CED</td><td>222</td><td>111</td><td>000</td><td>60506</td><td>53.7</td><td>338</td><td>804020566</td><td>0</td><td>0</td><td>804020535</td><td>s</td><td>2000-01-30</td><td>57</td><td>223.089</td><td>22.515</td><td>156.0</td><td>2451573.6743</td><td>0.85</td><td>10.93</td><td>0.72</td><td>16.461</td><td>0.216</td><td>16.1</td><td>0.268</td><td>16.146</td><td>0.828</td><td>6125</td><td>97</td><td>sw</td><td>0</td><td>1</td><td>0</td><td>--</td><td>--</td><td>--</td><td>--</td><td>0</td><td>--</td><td>43955</td><td>1010949</td><td>80</td><td>J082934.93+014149.9</td><td>127.395566</td><td>1.697205</td><td>0.017</td><td>0.016</td><td>90</td><td>23.316</td><td>21.506</td><td>20.041</td><td>18.676</td><td>17.902</td><td>0.557</td><td>0.054</td><td>0.024</td><td>0.013</td><td>0.023</td><td>1237653665248969283</td><td>6</td><td>1</td><td>0100F01010021010</td><td>3</td><td>2000.9155</td><td>--</td><td>--</td><td>--</td><td>--</td><td>0</td><td>--</td><td>--</td><td>--</td><td>--</td><td>--</td><td>--</td></tr>\n",
       "<tr><td>0.063468</td><td>127.432292</td><td>1.717116</td><td>0.07</td><td>0.06</td><td>96</td><td>08294375+0143016</td><td>14.569</td><td>0.032</td><td>0.035</td><td>45.2</td><td>14.299</td><td>0.055</td><td>0.056</td><td>28.5</td><td>14.219</td><td>0.084</td><td>0.084</td><td>15.6</td><td>AAA</td><td>222</td><td>111</td><td>000</td><td>665614</td><td>22.8</td><td>14</td><td>804020593</td><td>0</td><td>0</td><td>804020581</td><td>s</td><td>2000-01-30</td><td>57</td><td>223.09</td><td>22.557</td><td>23.5</td><td>2451573.6743</td><td>0.9</td><td>1.15</td><td>0.65</td><td>14.552</td><td>0.05</td><td>14.172</td><td>0.086</td><td>14.225</td><td>0.229</td><td>6197</td><td>229</td><td>sw</td><td>0</td><td>1</td><td>U</td><td>0.3</td><td>198</td><td>16.4</td><td>15.3</td><td>1</td><td>--</td><td>43955</td><td>1010949</td><td>80</td><td>J082943.75+014301.6</td><td>127.432309</td><td>1.717121</td><td>0.001</td><td>0.001</td><td>90</td><td>17.453</td><td>16.137</td><td>15.683</td><td>15.532</td><td>15.469</td><td>0.009</td><td>0.003</td><td>0.004</td><td>0.004</td><td>0.006</td><td>1237653665248968924</td><td>6</td><td>1</td><td>0000001010020200</td><td>3</td><td>2000.9155</td><td>1</td><td>3</td><td>-1</td><td>3</td><td>0</td><td>--</td><td>--</td><td>--</td><td>--</td><td>--</td><td>--</td></tr>\n",
       "<tr><td>0.078846</td><td>127.433857</td><td>1.723263</td><td>0.07</td><td>0.07</td><td>17</td><td>08294412+0143237</td><td>15.678</td><td>0.08</td><td>0.081</td><td>16.3</td><td>15.207</td><td>0.105</td><td>0.105</td><td>12.3</td><td>14.965</td><td>0.138</td><td>0.138</td><td>7.9</td><td>AAB</td><td>222</td><td>111</td><td>ccc</td><td>665616</td><td>4.5</td><td>317</td><td>804020596</td><td>0</td><td>0</td><td>804020593</td><td>s</td><td>2000-01-30</td><td>57</td><td>223.085</td><td>22.561</td><td>17.9</td><td>2451573.6743</td><td>1.14</td><td>0.83</td><td>1.22</td><td>14.517</td><td>0.097</td><td>14.072</td><td>0.112</td><td>14.179</td><td>0.144</td><td>6219</td><td>235</td><td>sw</td><td>0</td><td>1</td><td>U</td><td>4.0</td><td>139</td><td>15.8</td><td>14.4</td><td>1</td><td>--</td><td>43955</td><td>1010949</td><td>80</td><td>J082944.13+014323.7</td><td>127.433877</td><td>1.723272</td><td>0.007</td><td>0.007</td><td>90</td><td>23.802</td><td>20.411</td><td>19.039</td><td>17.728</td><td>17.018</td><td>0.743</td><td>0.024</td><td>0.012</td><td>0.007</td><td>0.013</td><td>1237653665248968930</td><td>6</td><td>1</td><td>0000B01812021010</td><td>3</td><td>2000.9155</td><td>--</td><td>--</td><td>--</td><td>--</td><td>0</td><td>--</td><td>--</td><td>--</td><td>--</td><td>--</td><td>--</td></tr>\n",
       "<tr><td>0.036173</td><td>127.531902</td><td>1.729757</td><td>0.06</td><td>0.06</td><td>90</td><td>08300765+0143471</td><td>14.155</td><td>0.033</td><td>0.036</td><td>66.1</td><td>13.84</td><td>0.032</td><td>0.033</td><td>43.4</td><td>13.806</td><td>0.048</td><td>0.049</td><td>22.9</td><td>AAA</td><td>222</td><td>111</td><td>000</td><td>666646</td><td>14.1</td><td>82</td><td>804039539</td><td>0</td><td>0</td><td>804039541</td><td>s</td><td>2000-01-30</td><td>58</td><td>223.13</td><td>22.65</td><td>96.6</td><td>2451573.6811</td><td>1.03</td><td>0.88</td><td>1.01</td><td>14.136</td><td>0.051</td><td>13.972</td><td>0.048</td><td>13.85</td><td>0.118</td><td>6247</td><td>156</td><td>sw</td><td>0</td><td>1</td><td>U</td><td>0.2</td><td>230</td><td>15.8</td><td>15.0</td><td>1</td><td>--</td><td>43956</td><td>1010982</td><td>198</td><td>J083007.65+014347.1</td><td>127.531908</td><td>1.729749</td><td>0.001</td><td>0.001</td><td>90</td><td>17.145</td><td>15.741</td><td>15.246</td><td>15.079</td><td>15.039</td><td>0.008</td><td>0.003</td><td>0.003</td><td>0.003</td><td>0.005</td><td>1237653665249034332</td><td>6</td><td>1</td><td>0000001010020000</td><td>3</td><td>2000.9155</td><td>-3</td><td>3</td><td>1</td><td>3</td><td>0</td><td>--</td><td>--</td><td>--</td><td>--</td><td>--</td><td>--</td></tr>\n",
       "<tr><td>0.676936</td><td>127.53577</td><td>1.730293</td><td>0.37</td><td>0.35</td><td>45</td><td>08300858+0143490</td><td>17.047</td><td>0.231</td><td>0.231</td><td>4.6</td><td>16.123</td><td>0.19</td><td>0.19</td><td>5.3</td><td>15.872</td><td>0.302</td><td>0.303</td><td>3.4</td><td>DCD</td><td>222</td><td>111</td><td>000</td><td>60605</td><td>14.1</td><td>262</td><td>804039541</td><td>0</td><td>0</td><td>804039539</td><td>s</td><td>2000-01-30</td><td>58</td><td>223.131</td><td>22.654</td><td>82.7</td><td>2451573.6811</td><td>0.95</td><td>0.74</td><td>0.98</td><td>16.537</td><td>0.399</td><td>17.529</td><td>1.515</td><td>16.04</td><td>0.705</td><td>6249</td><td>170</td><td>sw</td><td>0</td><td>1</td><td>0</td><td>--</td><td>--</td><td>--</td><td>--</td><td>0</td><td>--</td><td>43956</td><td>1010982</td><td>198</td><td>J083008.62+014348.6</td><td>127.535921</td><td>1.730181</td><td>0.023</td><td>0.02</td><td>90</td><td>23.847</td><td>21.895</td><td>20.462</td><td>19.034</td><td>18.355</td><td>0.756</td><td>0.075</td><td>0.032</td><td>0.017</td><td>0.032</td><td>1237653665249035083</td><td>6</td><td>1</td><td>0000001010000100</td><td>3</td><td>2000.9155</td><td>--</td><td>--</td><td>--</td><td>--</td><td>0</td><td>--</td><td>--</td><td>--</td><td>--</td><td>--</td><td>--</td></tr>\n",
       "</table></div>"
      ],
      "text/plain": [
       "<Table length=717>\n",
       "angDist   RAJ2000   DEJ2000   errMaj  errMin ... f_zsp spType  spCl subClass\n",
       "float64   float64   float64  float64 float64 ... int64 int64  int64  int64  \n",
       "-------- ---------- -------- ------- ------- ... ----- ------ ----- --------\n",
       "0.352101 127.509154 1.269173     0.2    0.15 ...    --     --    --       --\n",
       "0.152435 127.507779 1.272875    0.12    0.11 ...    --     --    --       --\n",
       "0.217574 127.514167 1.277495    0.23    0.21 ...    --     --    --       --\n",
       "0.048922 127.463251 1.271903    0.07    0.07 ...    --     --    --       --\n",
       "0.023156 127.463023   1.2864    0.06    0.06 ...    --     --    --       --\n",
       "0.102852  127.48465 1.271192    0.06    0.06 ...    --     --    --       --\n",
       "0.385255 127.485565 1.275456     0.2    0.17 ...    --     --    --       --\n",
       " 0.18744 127.494339 1.280734    0.15    0.15 ...    --     --    --       --\n",
       "0.038231 127.494645 1.296204    0.07    0.07 ...    --     --    --       --\n",
       "0.125123 127.483247 1.302628    0.06    0.06 ...    --     --    --       --\n",
       "     ...        ...      ...     ...     ... ...   ...    ...   ...      ...\n",
       "0.231895 127.471749 1.699981    0.15    0.15 ...    --     --    --       --\n",
       "0.108018 127.485472 1.701631    0.07    0.07 ...    --     --    --       --\n",
       "0.033205  127.50233 1.707568    0.06    0.06 ...    --     --    --       --\n",
       "0.127126 127.469423  1.71372    0.12    0.11 ...    --     --    --       --\n",
       "0.029366 127.451948 1.721205    0.06    0.06 ...    --     --    --       --\n",
       "0.475815 127.395474  1.69711    0.34    0.32 ...    --     --    --       --\n",
       "0.063468 127.432292 1.717116    0.07    0.06 ...    --     --    --       --\n",
       "0.078846 127.433857 1.723263    0.07    0.07 ...    --     --    --       --\n",
       "0.036173 127.531902 1.729757    0.06    0.06 ...    --     --    --       --\n",
       "0.676936  127.53577 1.730293    0.37    0.35 ...    --     --    --       --"
      ]
     },
     "execution_count": 10,
     "metadata": {},
     "output_type": "execute_result"
    }
   ],
   "source": [
    "sdss_mass = XMatch.query(\n",
    "    cat1=open(\"Data/2MASS_PSC.vot\"),\n",
    "    cat2=\"vizier:V/139/sdss9\",\n",
    "    max_distance=4 * u.arcsec,\n",
    "    colRA1=\"RAJ2000\",\n",
    "    colDec1=\"DEJ2000\",\n",
    ")\n",
    "sdss_mass"
   ]
  },
  {
   "cell_type": "markdown",
   "metadata": {},
   "source": [
    "For the SDSS DR9 table this action has given us all the columns. So before we move on, we restrict the table to the columns, we are actually interested in. "
   ]
  },
  {
   "cell_type": "code",
   "execution_count": 11,
   "metadata": {},
   "outputs": [
    {
     "name": "stdout",
     "output_type": "stream",
     "text": [
      "We are currently working with 717 sources\n"
     ]
    }
   ],
   "source": [
    "sdss_mass = sdss_mass[\n",
    "    \"2MASS\",\n",
    "    \"RAJ2000\",\n",
    "    \"DEJ2000\",\n",
    "    \"Jmag\",\n",
    "    \"Hmag\",\n",
    "    \"Kmag\",\n",
    "    \"SDSS9\",\n",
    "    \"RAdeg\",\n",
    "    \"DEdeg\",\n",
    "    \"umag\",\n",
    "    \"gmag\",\n",
    "    \"rmag\",\n",
    "    \"imag\",\n",
    "    \"zmag\",\n",
    "    \"cl\",\n",
    "]\n",
    "\n",
    "print(\"We are currently working with {} sources\".format(len(sdss_mass)))"
   ]
  },
  {
   "cell_type": "markdown",
   "metadata": {},
   "source": [
    "## Step #3: Filtering\n",
    "In this step we select all those sources from our cross-matched catalogue that have colours and fluxes as expected for brown dwarfs. \n",
    "\n",
    "The selection cirteria for Brown Dwarfs are:\n",
    " - `umag > 22.0` --> magnitude in u-band fainter than 22.0mag\n",
    " - `gmag > 22.2` --> magnitude in g-band fainter than 22.2mag\n",
    " - `Jmag - Hmag < 0.3` --> J-H band colour smaller than 0.3mag\n",
    " - `Hmag - Kmag < 0.3` --> H-K band colour smaller than 0.3mag\n",
    "\n",
    "We now apply these selection criteria to our table of point sources. "
   ]
  },
  {
   "cell_type": "code",
   "execution_count": 12,
   "metadata": {},
   "outputs": [
    {
     "name": "stdout",
     "output_type": "stream",
     "text": [
      "We have 2 candidates for Brown Dwarfs\n"
     ]
    }
   ],
   "source": [
    "# Add columsn with J-H and H-K colour\n",
    "sdss_mass[\"J-H\"] = sdss_mass[\"Jmag\"] - sdss_mass[\"Hmag\"]\n",
    "sdss_mass[\"H-K\"] = sdss_mass[\"Hmag\"] - sdss_mass[\"Kmag\"]\n",
    "# Limit sources to those that fulfil the selection criteria\n",
    "index_bd = (\n",
    "    (sdss_mass[\"umag\"] > 22.0)\n",
    "    & (sdss_mass[\"gmag\"] > 22.2)\n",
    "    & (sdss_mass[\"J-H\"] < 0.3)\n",
    "    & (sdss_mass[\"H-K\"] < 0.3)\n",
    ")\n",
    "candidates = sdss_mass[index_bd]\n",
    "print(\"We have {} candidates for Brown Dwarfs\".format(len(candidates)))"
   ]
  },
  {
   "cell_type": "code",
   "execution_count": 13,
   "metadata": {
    "tags": [
     "output_scroll"
    ]
   },
   "outputs": [
    {
     "data": {
      "text/html": [
       "<div><i>Table length=2</i>\n",
       "<table id=\"table140051264633200\" class=\"table-striped table-bordered table-condensed\">\n",
       "<thead><tr><th>2MASS</th><th>RAJ2000</th><th>DEJ2000</th><th>Jmag</th><th>Hmag</th><th>Kmag</th><th>SDSS9</th><th>RAdeg</th><th>DEdeg</th><th>umag</th><th>gmag</th><th>rmag</th><th>imag</th><th>zmag</th><th>cl</th><th>J-H</th><th>H-K</th></tr></thead>\n",
       "<thead><tr><th>str16</th><th>float64</th><th>float64</th><th>float64</th><th>float64</th><th>float64</th><th>str19</th><th>float64</th><th>float64</th><th>float64</th><th>float64</th><th>float64</th><th>float64</th><th>float64</th><th>int64</th><th>float64</th><th>float64</th></tr></thead>\n",
       "<tr><td>08304878+0128311</td><td>127.703265</td><td>1.47532</td><td>16.289</td><td>16.14</td><td>16.358</td><td>J083048.81+012831.0</td><td>127.703377</td><td>1.475293</td><td>25.322</td><td>24.514</td><td>25.492</td><td>25.878</td><td>19.401</td><td>3</td><td>0.1490000000000009</td><td>-0.21799999999999997</td></tr>\n",
       "<tr><td>08304512+0134404</td><td>127.688007</td><td>1.577901</td><td>16.18</td><td>16.021</td><td>15.769</td><td>J083045.23+013443.5</td><td>127.688491</td><td>1.578759</td><td>24.004</td><td>22.299</td><td>21.03</td><td>20.478</td><td>20.53</td><td>6</td><td>0.15899999999999892</td><td>0.25200000000000067</td></tr>\n",
       "</table></div>"
      ],
      "text/plain": [
       "<Table length=2>\n",
       "     2MASS        RAJ2000   ...         J-H                 H-K         \n",
       "     str16        float64   ...       float64             float64       \n",
       "---------------- ---------- ... ------------------- --------------------\n",
       "08304878+0128311 127.703265 ...  0.1490000000000009 -0.21799999999999997\n",
       "08304512+0134404 127.688007 ... 0.15899999999999892  0.25200000000000067"
      ]
     },
     "execution_count": 13,
     "metadata": {},
     "output_type": "execute_result"
    }
   ],
   "source": [
    "candidates"
   ]
  },
  {
   "cell_type": "markdown",
   "metadata": {},
   "source": [
    "Note that we are using slightly different selection criteria here in the notebook than in the original tutorial. The reason is the following. The CDS XMatch service uses VizieR tables with their default filtering. For the SDSS DR 9 table, VizieR will filter to only use primary sources and disregard secondary sources, which is not the case when downloading the VizieR table with e.g. TOPCAT. Now the primary SDSS source for this brown dwarf is classified as an extended source by the automated SDSS pipeline, probably because it is hardly detected and very faint. So if we remove all extended sources we also throw away the target of our studies. Hence, the filtering in this notebook is less strict to allow \n",
    "\n",
    "## Step #4: Verification of the Brown Dwarf candidates\n",
    "\n",
    "### Visualization\n",
    "\n",
    "[![Aladin](https://custom-icon-badges.demolab.com/badge/Aladin-gray.svg?logo=aladin&logoColor=purple&logoWidth=20)](https://aladin.cds.unistra.fr/aladin.gml \"https://aladin.cds.unistra.fr/aladin.gml\")\n",
    "\n",
    "The ipyaladin package allows to run an instance of Aladin Lite in your Jupyter notebook. "
   ]
  },
  {
   "cell_type": "code",
   "execution_count": 14,
   "metadata": {},
   "outputs": [
    {
     "data": {
      "application/vnd.jupyter.widget-view+json": {
       "model_id": "2f6585de901d40789932e77d7eff3561",
       "version_major": 2,
       "version_minor": 0
      },
      "text/plain": [
       "Aladin(fov=0.03, options=['allow_full_zoomout', 'coo_frame', 'fov', 'full_screen', 'log', 'overlay_survey', 'o…"
      ]
     },
     "execution_count": 14,
     "metadata": {},
     "output_type": "execute_result"
    }
   ],
   "source": [
    "aladin1 = ipyal.Aladin(\n",
    "    survey=\"P/SDSS9/color\",\n",
    "    fov=0.03,\n",
    "    target=\"{0:.4f} {1:.4f}\".format(candidates[\"RAJ2000\"][0], candidates[\"DEJ2000\"][0]),\n",
    ")\n",
    "aladin1"
   ]
  },
  {
   "cell_type": "markdown",
   "metadata": {},
   "source": [
    "As with any instance of Aladin Lite you can zoom in and out by scrolling your mouse. In the top left corner of the widget, you may chose which survey to look at, add layers, search for sources, ... \n",
    "\n",
    "You can also add tables to the widget by:"
   ]
  },
  {
   "cell_type": "code",
   "execution_count": 15,
   "metadata": {},
   "outputs": [],
   "source": [
    "aladin1.add_table(candidates)"
   ]
  },
  {
   "cell_type": "markdown",
   "metadata": {},
   "source": [
    "If you now click on the small square indicating the location of the source, the widget will show the corresponding table values in the lower part of the widget. \n",
    "\n",
    "As you can see at one of the locations hardly anything is visible and at the location of the other brown dwarf candidate, there is a bright star. To further investigate these two sources, we now query Simbad for them. \n",
    "\n",
    "### Check in Simbad\n",
    "\n",
    "[![Simbad](https://custom-icon-badges.demolab.com/badge/Simbad-gray.svg?logo=simbad&logoColor=lightblue&logoWidth=20)](https://simbad.u-strasbg.fr/simbad/ \"https://simbad.u-strasbg.fr/simbad/\")\n",
    "\n",
    "In the Simbad database, an object type is assigned to every entry. So if this Brown Dwarf candidate is in the Simbad database, we might learn more about the object type:"
   ]
  },
  {
   "cell_type": "code",
   "execution_count": 16,
   "metadata": {
    "tags": [
     "output_scroll"
    ]
   },
   "outputs": [
    {
     "data": {
      "text/html": [
       "<div><i>Table length=1</i>\n",
       "<table id=\"table140051264631664\" class=\"table-striped table-bordered table-condensed\">\n",
       "<thead><tr><th>MAIN_ID</th><th>RA_2_A_ICRS_J2000_2000</th><th>DEC_2_D_ICRS_J2000_2000</th><th>OTYPE</th><th>SCRIPT_NUMBER_ID</th></tr></thead>\n",
       "<thead><tr><th></th><th>&quot;h:m:s&quot;</th><th>&quot;d:m:s&quot;</th><th></th><th></th></tr></thead>\n",
       "<thead><tr><th>object</th><th>str13</th><th>str13</th><th>object</th><th>int32</th></tr></thead>\n",
       "<tr><td>2MASS J08304878+0128311</td><td>08 30 48.7836</td><td>+01 28 31.152</td><td>BrownD*</td><td>1</td></tr>\n",
       "</table></div>"
      ],
      "text/plain": [
       "<Table length=1>\n",
       "        MAIN_ID         RA_2_A_ICRS_J2000_2000 ...  OTYPE  SCRIPT_NUMBER_ID\n",
       "                               \"h:m:s\"         ...                         \n",
       "         object                 str13          ...  object      int32      \n",
       "----------------------- ---------------------- ... ------- ----------------\n",
       "2MASS J08304878+0128311          08 30 48.7836 ... BrownD*                1"
      ]
     },
     "execution_count": 16,
     "metadata": {},
     "output_type": "execute_result"
    }
   ],
   "source": [
    "customSimbad = Simbad()\n",
    "customSimbad.remove_votable_fields(\"coordinates\")\n",
    "customSimbad.add_votable_fields(\n",
    "    \"ra(2;A;ICRS;J2000;2000)\", \"dec(2;D;ICRS;J2000;2000)\", \"otype\"\n",
    ")\n",
    "candidate_coord = SkyCoord(\n",
    "    ra=candidates[\"RAJ2000\"][0], dec=candidates[\"DEJ2000\"][0], unit=u.deg\n",
    ")\n",
    "candidate_simbad = customSimbad.query_region(candidate_coord, radius=10 * u.arcsec)\n",
    "candidate_simbad"
   ]
  },
  {
   "cell_type": "code",
   "execution_count": 17,
   "metadata": {},
   "outputs": [],
   "source": [
    "customSimbad = Simbad()\n",
    "customSimbad.remove_votable_fields(\"coordinates\")\n",
    "customSimbad.add_votable_fields(\n",
    "    \"ra(2;A;ICRS;J2000;2000)\", \"dec(2;D;ICRS;J2000;2000)\", \"otype\"\n",
    ")\n",
    "candidate_coord = SkyCoord(\n",
    "    ra=candidates[\"RAJ2000\"][1], dec=candidates[\"DEJ2000\"][1], unit=u.deg\n",
    ")\n",
    "candidate_simbad = customSimbad.query_region(candidate_coord, radius=1 * u.arcmin)\n",
    "candidate_simbad"
   ]
  },
  {
   "cell_type": "markdown",
   "metadata": {},
   "source": [
    "Indeed the first candidate is classified as a brown dwarf. Within 10arcsec of the second source, no entry is found in Simbad although this is the brighter star. The reason for this might be the following: sources in Simbad are sources that have individually been discussed in the literature. If no papers have been published specifcially about this object, it will not appear in Simbad. However, as the object was included in the SDSS tables it is included in VizieR through the table it belongs to. \n",
    "\n",
    "If we now want to see, in which papers the Brown Dwarf 2MASS J08304878+0128311 was included, we may use the following query in Simbad."
   ]
  },
  {
   "cell_type": "code",
   "execution_count": 18,
   "metadata": {
    "scrolled": true,
    "tags": [
     "output_scroll"
    ]
   },
   "outputs": [
    {
     "data": {
      "text/html": [
       "<div><i>Table length=20</i>\n",
       "<table id=\"table140051263001072\" class=\"table-striped table-bordered table-condensed\">\n",
       "<thead><tr><th>bibcode</th><th>journal</th><th>title</th><th>year</th><th>volume</th><th>Pages</th><th>doi</th></tr></thead>\n",
       "<thead><tr><th>object</th><th>object</th><th>object</th><th>int16</th><th>int32</th><th>object</th><th>object</th></tr></thead>\n",
       "<tr><td>2020AJ....159..257B</td><td>AJ</td><td>The Hawaii infrared parallax program. IV. A comprehensive parallax survey of L0-T8 dwarfs with UKIRT.</td><td>2020</td><td>159</td><td>257-257</td><td>10.3847/1538-3881/ab84f4</td></tr>\n",
       "<tr><td>2016ApJ...827...25B</td><td>ApJ</td><td>The orbit of the L dwarf + T dwarf spectral binary SDSS J080531.84+481233.0.</td><td>2016</td><td>827</td><td>25-25</td><td>10.3847/0004-637X/827/1/25</td></tr>\n",
       "<tr><td>2016A&amp;A...589A..49S</td><td>A&amp;A</td><td>Photometric brown-dwarf classification. II. A homogeneous sample of 1361 L and T dwarfs brighter than J = 17.5 with accurate spectral types.</td><td>2016</td><td>589</td><td>49-49</td><td>10.1051/0004-6361/201527359</td></tr>\n",
       "<tr><td>2016ApJ...817..112S</td><td>ApJ</td><td>A proper motion survey using the first sky pass of NEOWISE-reactivation data.</td><td>2016</td><td>817</td><td></td><td>10.3847/0004-637X/817/2/112</td></tr>\n",
       "<tr><td>2015ApJ...810..158F</td><td>ApJ</td><td>Fundamental parameters and spectral energy distributions of young and field age objects with masses spanning the stellar to planetary regime.</td><td>2015</td><td>810</td><td></td><td>10.1088/0004-637X/810/2/158</td></tr>\n",
       "<tr><td>2014ApJ...793...75R</td><td>ApJ</td><td>Strong brightness variations signal cloudy-to-clear transition of brown dwarfs.</td><td>2014</td><td>793</td><td></td><td>10.1088/0004-637X/793/2/75</td></tr>\n",
       "<tr><td>2013MNRAS.433.2054S</td><td>MNRAS</td><td>NPARSEC: NTT Parallaxes of Southern Extremely Cool objects. Goals,  targets, procedures and first results.</td><td>2013</td><td>433</td><td>2054-2063</td><td>10.1093/mnras/stt876</td></tr>\n",
       "<tr><td>2013MNRAS.433..457B</td><td>MNRAS</td><td>76 T dwarfs from the UKIDSS LAS: benchmarks, kinematics and an updated  space density.</td><td>2013</td><td>433</td><td>457-497</td><td>10.1093/mnras/stt740</td></tr>\n",
       "<tr><td>2012ApJ...752...56F</td><td>ApJ</td><td>The Brown Dwarf Kinematics Project (BDKP). III. Parallaxes for 70  ultracool dwarfs.</td><td>2012</td><td>752</td><td></td><td>10.1088/0004-637X/752/1/56</td></tr>\n",
       "<tr><td>2012ApJ...748...74L</td><td>ApJ</td><td>The properties of the 500 K dwarf UGPS J072227.51-054031.2 and a study of  the far-red flux of cold brown dwarfs.</td><td>2012</td><td>748</td><td></td><td>10.1088/0004-637X/748/2/74</td></tr>\n",
       "<tr><td>2012ApJ...757..110B</td><td>ApJ</td><td>Discovery of a very low mass triple with late-M and T dwarf components:  LP 704-48/SDSS J0006-0852AB.</td><td>2012</td><td>757</td><td></td><td>10.1088/0004-637X/757/2/110</td></tr>\n",
       "<tr><td>2011ApJS..197...19K</td><td>ApJS</td><td>The first hundred brown dwarfs discovered by the Wide-field Infrared  Survey Explorer (WISE).</td><td>2011</td><td>197</td><td></td><td>10.1088/0067-0049/197/2/19</td></tr>\n",
       "<tr><td>2010A&amp;A...515A..92S</td><td>A&amp;A</td><td>Hip 63510C, Hip 73786B, and nine new isolated high proper motion T dwarf  candidates from UKIDSS DR6 and SDSS DR7.</td><td>2010</td><td>515</td><td>92-92</td><td>10.1051/0004-6361/201014264</td></tr>\n",
       "<tr><td>2010ApJ...710.1142B</td><td>ApJ</td><td>SpeX spectroscopy of unresolved very low mass binaries. I. Identification of 17 candidate binaries straddling the L dwarf/T dwarf transition.</td><td>2010</td><td>710</td><td>1142-1169</td><td>10.1088/0004-637X/710/2/1142</td></tr>\n",
       "<tr><td>2009yCat....1.2023S</td><td>yCat</td><td>Catalogue of stellar spectral classifications.</td><td>2009</td><td>1</td><td></td><td></td></tr>\n",
       "<tr><td>2009AJ....137....1F</td><td>AJ</td><td>The brown dwarf kinematics project I. Proper motions and tangential velocities  for a large sample of late-type M, L, and T dwarfs.</td><td>2009</td><td>137</td><td>1-18</td><td>10.1088/0004-6256/137/1/1</td></tr>\n",
       "<tr><td>2008ApJ...676.1281M</td><td>ApJ</td><td>A cross-match of 2MASS and SDSS: newly found L and T dwarfs and an estimate of the space density of T dwarfs.</td><td>2008</td><td>676</td><td>1281-1306</td><td>10.1086/524721</td></tr>\n",
       "<tr><td>2008MNRAS.390.1517C</td><td>MNRAS</td><td>Proper motions of field L and T dwarfs - II.</td><td>2008</td><td>390</td><td>1517-1526</td><td>10.1111/j.1365-2966.2008.13855.x</td></tr>\n",
       "<tr><td>2006ApJ...637.1067B</td><td>ApJ</td><td>A unified near-infrared spectral classification scheme for T dwarfs.</td><td>2006</td><td>637</td><td>1067-1093</td><td>10.1086/498563</td></tr>\n",
       "<tr><td>2004AJ....127.3553K</td><td>AJ</td><td>Near-infrared photometry and spectroscopy of L and T dwarfs: the effects of temperature, clouds, and gravity.</td><td>2004</td><td>127</td><td>3553-3578</td><td>10.1086/420707</td></tr>\n",
       "</table></div>"
      ],
      "text/plain": [
       "<Table length=20>\n",
       "      bibcode       journal ...   Pages                 doi               \n",
       "       object        object ...   object               object             \n",
       "------------------- ------- ... --------- --------------------------------\n",
       "2020AJ....159..257B      AJ ...   257-257         10.3847/1538-3881/ab84f4\n",
       "2016ApJ...827...25B     ApJ ...     25-25       10.3847/0004-637X/827/1/25\n",
       "2016A&A...589A..49S     A&A ...     49-49      10.1051/0004-6361/201527359\n",
       "2016ApJ...817..112S     ApJ ...                10.3847/0004-637X/817/2/112\n",
       "2015ApJ...810..158F     ApJ ...                10.1088/0004-637X/810/2/158\n",
       "2014ApJ...793...75R     ApJ ...                 10.1088/0004-637X/793/2/75\n",
       "2013MNRAS.433.2054S   MNRAS ... 2054-2063             10.1093/mnras/stt876\n",
       "2013MNRAS.433..457B   MNRAS ...   457-497             10.1093/mnras/stt740\n",
       "2012ApJ...752...56F     ApJ ...                 10.1088/0004-637X/752/1/56\n",
       "2012ApJ...748...74L     ApJ ...                 10.1088/0004-637X/748/2/74\n",
       "2012ApJ...757..110B     ApJ ...                10.1088/0004-637X/757/2/110\n",
       "2011ApJS..197...19K    ApJS ...                 10.1088/0067-0049/197/2/19\n",
       "2010A&A...515A..92S     A&A ...     92-92      10.1051/0004-6361/201014264\n",
       "2010ApJ...710.1142B     ApJ ... 1142-1169     10.1088/0004-637X/710/2/1142\n",
       "2009yCat....1.2023S    yCat ...                                           \n",
       "2009AJ....137....1F      AJ ...      1-18        10.1088/0004-6256/137/1/1\n",
       "2008ApJ...676.1281M     ApJ ... 1281-1306                   10.1086/524721\n",
       "2008MNRAS.390.1517C   MNRAS ... 1517-1526 10.1111/j.1365-2966.2008.13855.x\n",
       "2006ApJ...637.1067B     ApJ ... 1067-1093                   10.1086/498563\n",
       "2004AJ....127.3553K      AJ ... 3553-3578                   10.1086/420707"
      ]
     },
     "execution_count": 18,
     "metadata": {},
     "output_type": "execute_result"
    }
   ],
   "source": [
    "tap_simbad = pyvo.dal.TAPService(\"https://simbad.cds.unistra.fr/simbad/sim-tap\")\n",
    "\n",
    "query = \"\"\"\n",
    "SELECT BIBCode, Journal, Title, \"year\", Volume,\n",
    "       Page || '-' || Last_Page AS \"Pages\", DOI \n",
    "FROM ref JOIN has_ref ON oidbibref = oidbib \n",
    "         JOIN ident ON has_ref.oidref = ident.oidref \n",
    "WHERE id = '2MASS J08304878+0128311'\n",
    "ORDER BY \"year\" DESC; \n",
    "\"\"\"\n",
    "\n",
    "result = tap_simbad.search(query).to_table()\n",
    "result"
   ]
  },
  {
   "cell_type": "markdown",
   "metadata": {},
   "source": [
    "For further reading you could now go to ADS (https://ui.adsabs.harvard.edu/) and search for the publications via their bibcode (enter in the search field `bibcode:...`) or their doi (`doi:...`)."
   ]
  }
 ],
 "metadata": {
  "kernelspec": {
   "display_name": "Python 3 (ipykernel)",
   "language": "python",
   "name": "python3"
  },
  "language_info": {
   "codemirror_mode": {
    "name": "ipython",
    "version": 3
   },
   "file_extension": ".py",
   "mimetype": "text/x-python",
   "name": "python",
   "nbconvert_exporter": "python",
   "pygments_lexer": "ipython3",
   "version": "3.8.10 (default, Nov 14 2022, 12:59:47) \n[GCC 9.4.0]"
  },
  "vscode": {
   "interpreter": {
    "hash": "916dbcbb3f70747c44a77c7bcd40155683ae19c65e1c03b4aa3499c5328201f1"
   }
  }
 },
 "nbformat": 4,
 "nbformat_minor": 4
}
