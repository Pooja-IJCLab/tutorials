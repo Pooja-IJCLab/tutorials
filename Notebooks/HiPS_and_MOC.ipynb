{
 "cells": [
  {
   "cell_type": "markdown",
   "metadata": {},
   "source": [
    "# Advanced usage of HiPS and MOCs\n",
    "## Exploring large catalogs within non-trivial spatial coverage, defined by brightness cuts and/or the availability of additional data sets\n",
    "Originally by \n",
    "\n",
    "**Caroline Bot and Thomas Boch, CDS**\n",
    "\n",
    "as published on http://www.euro-vo.org/?q=science/scientific-tutorials\n",
    "converted to jupyter notebook by \n",
    "\n",
    "**Katharina Lutz, Thomas Boch, Matthieu Baumann, CDS**\n",
    "\n",
    "This tutorial was first presented at \"Detecting the unexpected, Discovery in the Era of Astronomically Big Data\" Space Telsecope Science Instite, February 27 - March 2, 2017. It was updated to Aladin v10 in June 2017 and to Gaia DR2 in June 2018. \n",
    "\n",
    "This is a hands-on tutorial demonstrating an advanced useage of Hierarchical Progressive Suerveys (HiPS) and Multi-Order Coverage (MOC) maps in Aladin. Using this tutorial you will learn to handle a problem like: \n",
    ">\"I have a set of images, I would like to select regions in my observations that are above a given threshold in another survey (e.g. at low extinction), retrieve objects from very large catalogues (e.g. Gaia + WISE) in these non-trivial shapes and not-necessarily-connected regions and combine them to visualise some quantities (e.g. colour-colour diagram). \""
   ]
  },
  {
   "cell_type": "markdown",
   "metadata": {},
   "source": [
    "## Before we get started\n",
    "The original tutorial was using Aladin (https://aladin.u-strasbg.fr/) and TOPCAT (http://www.star.bris.ac.uk/~mbt/topcat/), in this version of the tutorial we will use python packages and Aladin to accomplish the same tasks. The python packages include MOCpy (https://github.com/cds-astro/mocpy), astroquery (https://astroquery.readthedocs.io/en/latest/), pyVO (https://pyvo.readthedocs.io/en/latest/), ipyaladin (https://github.com/cds-astro/ipyaladin) as well as astropy and matplotlib. \n",
    "\n",
    "Now let's go!"
   ]
  },
  {
   "cell_type": "code",
   "execution_count": 1,
   "metadata": {},
   "outputs": [],
   "source": [
    "import warnings \n",
    "import glob\n",
    "import os\n",
    "\n",
    "import numpy as np\n",
    "import matplotlib as mpl\n",
    "import matplotlib.pyplot as plt\n",
    "import seaborn as sns\n",
    "\n",
    "from astropy.table import Table\n",
    "from astropy.io import fits\n",
    "from astropy.coordinates import SkyCoord, Angle, match_coordinates_sky\n",
    "import astropy.wcs as astropy_wcs\n",
    "import astropy.units as u\n",
    "import mocpy\n",
    "import pyvo\n",
    "import healpy as hp\n",
    "import cdshealpix\n",
    "from astroquery.vizier import Vizier\n",
    "\n",
    "warnings.filterwarnings('ignore')"
   ]
  },
  {
   "cell_type": "markdown",
   "metadata": {},
   "source": [
    "## Find all Short-Red images associated to the MASH catalog using the VizieR associated data service\n",
    "The VizieR service at CDS allows you to look for astronomical catalogues that have been published in the literature. Among these catalogues, some contain data associated to the publications and the tables therein. These data can be browsed and explored through the VizieR associated data service, which is linked to the traditional VizieR table service. In the current example we are looking for images associated with the MASH catalogue of planetary nebulae (Parker et al 2006-2008). The MASH fits files are cut-outs extracted from a larger H$\\alpha$ and Short Red survey and can be best described as a set of regions of interstes around planetary nebulae. \n",
    "\n",
    "To find VizieR associated data, we use the Table Access Protocol (TAP) with the VizieR endpoint. Through the VizieR TAP endpoint we can search for tables, content of tables and for information on associated data. \n",
    "\n",
    "First we search for the MASH catalogue:"
   ]
  },
  {
   "cell_type": "code",
   "execution_count": 2,
   "metadata": {},
   "outputs": [
    {
     "data": {
      "text/html": [
       "<i>Table length=5</i>\n",
       "<table id=\"table139709917056976\" class=\"table-striped table-bordered table-condensed\">\n",
       "<thead><tr><th>schema_name</th><th>table_name</th><th>table_type</th><th>description</th><th>utype</th></tr></thead>\n",
       "<thead><tr><th>object</th><th>bytes36</th><th>object</th><th>object</th><th>object</th></tr></thead>\n",
       "<tr><td>viz7</td><td>V/127A/mash2</td><td>table</td><td>The MASH-II Supplement (from paper II) ( Parker Q.A., Acker A., Frew D.J., Hartley M., Peyaud A.E.J., Phillipps S., Russeil D., Beaulieu S.F., Cohen M., Koppen J., Marcout J., Miszalski B., Morgan D.H., Morris R.A.H., Ochsenbein F., Pierce M.J.,)</td><td></td></tr>\n",
       "<tr><td>vizB</td><td>J/MNRAS/412/223/table4</td><td>table</td><td>The nine MASH PNe detected and possibly detected in the PMN survey ( Bojicic I.S., Parker Q.A., Filipovic M.D., Frew D.J.)</td><td></td></tr>\n",
       "<tr><td>vizB</td><td>J/MNRAS/412/223/mpgs2</td><td>table</td><td>MASH PNe detected in the MPGS-2 (Cat. VIII/82) ( Bojicic I.S., Parker Q.A., Filipovic M.D., Frew D.J.)</td><td></td></tr>\n",
       "<tr><td>vizB</td><td>J/MNRAS/412/223/table1</td><td>table</td><td>MASH PNe detected in the NVSS ( Bojicic I.S., Parker Q.A., Filipovic M.D., Frew D.J.)</td><td></td></tr>\n",
       "<tr><td>viz7</td><td>V/127A/mash1</td><td>table</td><td>The MASH Catalog of Planetary Nebulae (paper I) ( Parker Q.A., Acker A., Frew D.J., Hartley M., Peyaud A.E.J., Phillipps S., Russeil D., Beaulieu S.F., Cohen M., Koppen J., Marcout J., Miszalski B., Morgan D.H., Morris R.A.H., Ochsenbein F., Pierce M.J.,)</td><td></td></tr>\n",
       "</table>"
      ],
      "text/plain": [
       "<Table length=5>\n",
       "schema_name       table_name       ... utype \n",
       "   object          bytes36         ... object\n",
       "----------- ---------------------- ... ------\n",
       "       viz7           V/127A/mash2 ...       \n",
       "       vizB J/MNRAS/412/223/table4 ...       \n",
       "       vizB  J/MNRAS/412/223/mpgs2 ...       \n",
       "       vizB J/MNRAS/412/223/table1 ...       \n",
       "       viz7           V/127A/mash1 ...       "
      ]
     },
     "execution_count": 2,
     "metadata": {},
     "output_type": "execute_result"
    }
   ],
   "source": [
    "tap_vizier = pyvo.dal.TAPService('http://tapvizier.u-strasbg.fr/TAPVizieR/tap')\n",
    "\n",
    "query = '''\n",
    "SELECT  *  FROM tables \n",
    "WHERE description LIKE '%MASH%Parker%'\n",
    "'''\n",
    "\n",
    "mash_catalogues = tap_vizier.search(query).to_table()\n",
    "mash_catalogues"
   ]
  },
  {
   "cell_type": "markdown",
   "metadata": {},
   "source": [
    "For this tutorial, we are interested in the tables belonging to the catalogues `V/127A`, this includes tables `V/127A/mash1` and `V/127A/mash2`. To have a look at the content of these tables we do the following:"
   ]
  },
  {
   "cell_type": "code",
   "execution_count": null,
   "metadata": {
    "scrolled": true
   },
   "outputs": [],
   "source": [
    "query = '''\n",
    "SELECT TOP 5 * FROM \\\"V/127A/mash1\\\" \n",
    "'''\n",
    "mash1_head = tap_vizier.search(query).to_table()\n",
    "mash1_head"
   ]
  },
  {
   "cell_type": "markdown",
   "metadata": {},
   "source": [
    "As you can see, the last column of this table is called `AssocData` and contains the entry `fits`. If you look at this table on the VizieR web interface, you can download the associated fits file. Within this notebook, we query the `obscor` database to get the URLs to the fits file. Using the `astropy.io.fits` module, we can then open the fits files from their URLs."
   ]
  },
  {
   "cell_type": "code",
   "execution_count": 4,
   "metadata": {},
   "outputs": [
    {
     "data": {
      "text/html": [
       "<i>Table length=5</i>\n",
       "<table id=\"table139709917249776\" class=\"table-striped table-bordered table-condensed\">\n",
       "<thead><tr><th>dataproduct_type</th><th>calib_level</th><th>obs_id</th><th>obs_collection</th><th>obs_publisher_did</th><th>target_name</th><th>s_ra</th><th>s_dec</th><th>s_fov</th><th>s_region</th><th>s_resolution</th><th>t_min</th><th>t_max</th><th>t_exptime</th><th>t_resolution</th><th>em_min</th><th>em_max</th><th>em_band</th><th>o_ucd</th><th>pol_states</th><th>facility_name</th><th>instrument_name</th><th>access_url</th><th>access_format</th><th>access_estsize</th><th>has_wcs</th><th>extension</th></tr></thead>\n",
       "<thead><tr><th></th><th></th><th></th><th></th><th></th><th></th><th>deg</th><th>deg</th><th></th><th></th><th></th><th>d</th><th>d</th><th></th><th></th><th></th><th></th><th></th><th></th><th></th><th></th><th></th><th></th><th></th><th></th><th></th><th></th></tr></thead>\n",
       "<thead><tr><th>object</th><th>int32</th><th>object</th><th>object</th><th>object</th><th>object</th><th>float64</th><th>float64</th><th>float64</th><th>object</th><th>float64</th><th>float64</th><th>float64</th><th>float64</th><th>float64</th><th>float64</th><th>float64</th><th>object</th><th>object</th><th>object</th><th>object</th><th>object</th><th>object</th><th>object</th><th>int64</th><th>int32</th><th>int32</th></tr></thead>\n",
       "<tr><td>image</td><td>-1</td><td>1028_ha.fits</td><td>V/127A</td><td>ivo://CDS.VizieR/V/127A?res=1028_ha.fits</td><td></td><td>110.9506689873</td><td>0.61323523573</td><td>0.0663457244774261</td><td>Polygon ICRS  110.91750198367993 0.6464079953496699  110.91750239168711 0.5800622738294424  110.98383557963164 0.5800622708722438  110.98383599389436 0.6464079920542088</td><td>0.948698895605968</td><td>51910.0</td><td>--</td><td>--</td><td>--</td><td>3e-07</td><td>1e-06</td><td>Optical</td><td>obs.image</td><td>NotSet</td><td>UKST</td><td>SuperCOSMOS I</td><td>http://cdsarc.u-strasbg.fr/saadavizier/download?oid=864972848244981761</td><td>application/fits</td><td>725760</td><td>1</td><td>0</td></tr>\n",
       "<tr><td>image</td><td>-1</td><td>1002_sr.fits</td><td>V/127A</td><td>ivo://CDS.VizieR/V/127A?res=1002_sr.fits</td><td></td><td>98.3541075805</td><td>-18.13981460846</td><td>0.0663567511486386</td><td>Polygon ICRS  98.31921087035784 -18.1066330873718  98.31919776270303 -18.172989967668318  98.38901753365111 -18.17298983852044  98.38900415464332 -18.106632958728472</td><td>0.948831003995876</td><td>51160.0</td><td>--</td><td>--</td><td>--</td><td>3e-07</td><td>1e-06</td><td>Optical</td><td>obs.image</td><td>NotSet</td><td>UKST</td><td>SuperCOSMOS I</td><td>http://cdsarc.u-strasbg.fr/saadavizier/download?oid=864972848244981762</td><td>application/fits</td><td>581760</td><td>1</td><td>0</td></tr>\n",
       "<tr><td>image</td><td>-1</td><td>1027_sr.fits</td><td>V/127A</td><td>ivo://CDS.VizieR/V/127A?res=1027_sr.fits</td><td></td><td>110.6277469954</td><td>-13.09174409106</td><td>0.0663571477857845</td><td>Polygon ICRS  110.59369027898428 -13.058563283378934  110.59368117168717 -13.124920496124918  110.66181288551986 -13.124920431164716  110.66180364517486 -13.058563218758842</td><td>0.948939377323562</td><td>51226.0</td><td>--</td><td>--</td><td>--</td><td>3e-07</td><td>1e-06</td><td>Optical</td><td>obs.image</td><td>NotSet</td><td>UKST</td><td>SuperCOSMOS I</td><td>http://cdsarc.u-strasbg.fr/saadavizier/download?oid=864972848244981763</td><td>application/fits</td><td>610560</td><td>1</td><td>0</td></tr>\n",
       "<tr><td>image</td><td>-1</td><td>1058_sr.fits</td><td>V/127A</td><td>ivo://CDS.VizieR/V/127A?res=1058_sr.fits</td><td></td><td>122.1291633759</td><td>-35.0779308305</td><td>0.0663623445466155</td><td>Polygon ICRS  122.0886435993402 -35.044742914040924  122.08861096513894 -35.111105534018456  122.16971612262338 -35.11110525858754  122.1696828159762 -35.044742639287485</td><td>0.948943690726311</td><td>51582.0</td><td>--</td><td>--</td><td>--</td><td>3e-07</td><td>1e-06</td><td>Optical</td><td>obs.image</td><td>NotSet</td><td>UKST</td><td>SuperCOSMOS I</td><td>http://cdsarc.u-strasbg.fr/saadavizier/download?oid=864972848244981764</td><td>application/fits</td><td>627840</td><td>1</td><td>0</td></tr>\n",
       "<tr><td>image</td><td>-1</td><td>1003_ha.fits</td><td>V/127A</td><td>ivo://CDS.VizieR/V/127A?res=1003_ha.fits</td><td></td><td>98.289085649</td><td>-1.58678076262</td><td>0.0663493202104687</td><td>Polygon ICRS  98.25590500816867 -1.5536058364101442  98.25590395459673 -1.6199551676068031  98.32226735396317 -1.619955156620613  98.32226627885831 -1.5536058258741463</td><td>0.948775381926423</td><td>51904.0</td><td>--</td><td>--</td><td>--</td><td>3e-07</td><td>1e-06</td><td>Optical</td><td>obs.image</td><td>NotSet</td><td>UKST</td><td>SuperCOSMOS I</td><td>http://cdsarc.u-strasbg.fr/saadavizier/download?oid=864972848244981765</td><td>application/fits</td><td>714240</td><td>1</td><td>0</td></tr>\n",
       "</table>"
      ],
      "text/plain": [
       "<Table length=5>\n",
       "dataproduct_type calib_level    obs_id    ... access_estsize has_wcs extension\n",
       "                                          ...                                 \n",
       "     object         int32       object    ...     int64       int32    int32  \n",
       "---------------- ----------- ------------ ... -------------- ------- ---------\n",
       "           image          -1 1028_ha.fits ...         725760       1         0\n",
       "           image          -1 1002_sr.fits ...         581760       1         0\n",
       "           image          -1 1027_sr.fits ...         610560       1         0\n",
       "           image          -1 1058_sr.fits ...         627840       1         0\n",
       "           image          -1 1003_ha.fits ...         714240       1         0"
      ]
     },
     "execution_count": 4,
     "metadata": {},
     "output_type": "execute_result"
    }
   ],
   "source": [
    "obs_tap_vizier = pyvo.dal.TAPService('http://cdsarc.u-strasbg.fr/saadavizier.tap/tap')\n",
    "query = \"\"\"\n",
    "SELECT TOP 5  *  FROM obscore \n",
    "WHERE obs_collection='V/127A'\n",
    "\"\"\"\n",
    "mash_fits = obs_tap_vizier.search(query).to_table()\n",
    "# mash_fits = tap_vizier.search(query).to_table()\n",
    "mash_fits"
   ]
  },
  {
   "cell_type": "markdown",
   "metadata": {},
   "source": [
    "As you can see, the result from this query proivides us with information of the fits files, which are associated with the MASH catalogues. In particular the column `access_url` provides us with the location of the data. To get the first image we could do:\n",
    "\n",
    "`image = fits.open(mash_fits['access_url'][0])`\n",
    "\n",
    "and then work on the image, plot it or save it to our machine. However downloading all the data and working with all the data, takes quite some time. So, for the purpose of this tutorial, **we prepared a subsample of 335 of these Short Red images that will run in a timely manner** but we encourage you to repeat with the full Short Red sample later. **The subsample is available at \n",
    "http://astro.u-strasbg.fr/~bot/BochBot.tar.gz** and in the Data Folder of this repository. So if you run this tutorial on Binder, you do not need to download anything. "
   ]
  },
  {
   "cell_type": "markdown",
   "metadata": {},
   "source": [
    "## Create a MOC of the MASH images\n",
    "The multi-order coverage (MOC) map of a set of images is a useful represation of the sky coverage of these images. MOCs can represent arbitrary patches on the sky, which do not need to be connected. The union or intersection of two MOCs can be calculated quickly and with small computational effort. Catalogues can be filterd by MOCs. \n",
    "\n",
    "Here we can create the MOC of the MASH images with the `MOCPy` module. Please note that the majority of the following cell is concerned with removing keywords from the fits file headers, which would otherwise hamper the MOC creation (because the underlying `astropy.wcs.WCS` module is confused by these additional DEPRECATED header keywords):"
   ]
  },
  {
   "cell_type": "code",
   "execution_count": 5,
   "metadata": {},
   "outputs": [
    {
     "name": "stdout",
     "output_type": "stream",
     "text": [
      "Data/MASH_Sample/2001_sr.fits\n",
      "Data/MASH_Sample/2254_sr.fits\n",
      "Data/MASH_Sample/2043_sr.fits\n",
      "Data/MASH_Sample/2264_sr.fits\n",
      "Data/MASH_Sample/2249_sr.fits\n",
      "Data/MASH_Sample/2245_sr.fits\n",
      "Data/MASH_Sample/2109_sr.fits\n",
      "Data/MASH_Sample/2165_sr.fits\n",
      "Data/MASH_Sample/2309_sr.fits\n",
      "Data/MASH_Sample/2324_sr.fits\n",
      "Data/MASH_Sample/2150_sr.fits\n",
      "Data/MASH_Sample/2040_sr.fits\n",
      "Data/MASH_Sample/2193_sr.fits\n",
      "Data/MASH_Sample/2135_sr.fits\n",
      "Data/MASH_Sample/2323_sr.fits\n",
      "Data/MASH_Sample/2332_sr.fits\n",
      "Data/MASH_Sample/2128_sr.fits\n",
      "Data/MASH_Sample/2153_sr.fits\n",
      "Data/MASH_Sample/2061_sr.fits\n",
      "Data/MASH_Sample/2131_sr.fits\n",
      "Data/MASH_Sample/2098_sr.fits\n",
      "Data/MASH_Sample/2060_sr.fits\n",
      "Data/MASH_Sample/2151_sr.fits\n",
      "Data/MASH_Sample/2312_sr.fits\n",
      "Data/MASH_Sample/2204_sr.fits\n",
      "Data/MASH_Sample/2020_sr.fits\n",
      "Data/MASH_Sample/2311_sr.fits\n",
      "Data/MASH_Sample/2076_sr.fits\n",
      "Data/MASH_Sample/2277_sr.fits\n",
      "Data/MASH_Sample/2064_sr.fits\n",
      "Data/MASH_Sample/2156_sr.fits\n",
      "Data/MASH_Sample/2054_sr.fits\n",
      "Data/MASH_Sample/2005_sr.fits\n",
      "Data/MASH_Sample/2145_sr.fits\n",
      "Data/MASH_Sample/2248_sr.fits\n",
      "Data/MASH_Sample/2169_sr.fits\n",
      "Data/MASH_Sample/2240_sr.fits\n",
      "Data/MASH_Sample/2229_sr.fits\n",
      "Data/MASH_Sample/2122_sr.fits\n",
      "Data/MASH_Sample/2291_sr.fits\n",
      "Data/MASH_Sample/2117_sr.fits\n",
      "Data/MASH_Sample/2250_sr.fits\n",
      "Data/MASH_Sample/2194_sr.fits\n",
      "Data/MASH_Sample/2201_sr.fits\n",
      "Data/MASH_Sample/2261_sr.fits\n",
      "Data/MASH_Sample/2055_sr.fits\n",
      "Data/MASH_Sample/2079_sr.fits\n",
      "Data/MASH_Sample/2004_sr.fits\n",
      "Data/MASH_Sample/2205_sr.fits\n",
      "Data/MASH_Sample/2301_sr.fits\n",
      "Data/MASH_Sample/2154_sr.fits\n",
      "Data/MASH_Sample/2331_sr.fits\n",
      "Data/MASH_Sample/2212_sr.fits\n",
      "Data/MASH_Sample/2138_sr.fits\n",
      "Data/MASH_Sample/2178_sr.fits\n",
      "Data/MASH_Sample/2073_sr.fits\n",
      "Data/MASH_Sample/2039_sr.fits\n",
      "Data/MASH_Sample/2196_sr.fits\n",
      "Data/MASH_Sample/2218_sr.fits\n",
      "Data/MASH_Sample/2058_sr.fits\n",
      "Data/MASH_Sample/2288_sr.fits\n",
      "Data/MASH_Sample/2180_sr.fits\n",
      "Data/MASH_Sample/2325_sr.fits\n",
      "Data/MASH_Sample/2107_sr.fits\n",
      "Data/MASH_Sample/2265_sr.fits\n",
      "Data/MASH_Sample/2333_sr.fits\n",
      "Data/MASH_Sample/2125_sr.fits\n",
      "Data/MASH_Sample/2290_sr.fits\n",
      "Data/MASH_Sample/2068_sr.fits\n",
      "Data/MASH_Sample/2214_sr.fits\n",
      "Data/MASH_Sample/2226_sr.fits\n",
      "Data/MASH_Sample/2081_sr.fits\n",
      "Data/MASH_Sample/2091_sr.fits\n",
      "Data/MASH_Sample/2275_sr.fits\n",
      "Data/MASH_Sample/2093_sr.fits\n",
      "Data/MASH_Sample/2083_sr.fits\n",
      "Data/MASH_Sample/2025_sr.fits\n",
      "Data/MASH_Sample/2157_sr.fits\n",
      "Data/MASH_Sample/2259_sr.fits\n",
      "Data/MASH_Sample/2197_sr.fits\n",
      "Data/MASH_Sample/2018_sr.fits\n",
      "Data/MASH_Sample/2168_sr.fits\n",
      "Data/MASH_Sample/2066_sr.fits\n",
      "Data/MASH_Sample/2231_sr.fits\n",
      "Data/MASH_Sample/2065_sr.fits\n",
      "Data/MASH_Sample/2233_sr.fits\n",
      "Data/MASH_Sample/2013_sr.fits\n",
      "Data/MASH_Sample/2268_sr.fits\n",
      "Data/MASH_Sample/2200_sr.fits\n",
      "Data/MASH_Sample/2202_sr.fits\n",
      "Data/MASH_Sample/2113_sr.fits\n",
      "Data/MASH_Sample/2007_sr.fits\n",
      "Data/MASH_Sample/2281_sr.fits\n",
      "Data/MASH_Sample/2228_sr.fits\n",
      "Data/MASH_Sample/2199_sr.fits\n",
      "Data/MASH_Sample/2247_sr.fits\n",
      "Data/MASH_Sample/2062_sr.fits\n",
      "Data/MASH_Sample/2236_sr.fits\n",
      "Data/MASH_Sample/2032_sr.fits\n",
      "Data/MASH_Sample/2006_sr.fits\n",
      "Data/MASH_Sample/2057_sr.fits\n",
      "Data/MASH_Sample/2003_sr.fits\n",
      "Data/MASH_Sample/2127_sr.fits\n",
      "Data/MASH_Sample/2244_sr.fits\n",
      "Data/MASH_Sample/2230_sr.fits\n",
      "Data/MASH_Sample/2260_sr.fits\n",
      "Data/MASH_Sample/2206_sr.fits\n",
      "Data/MASH_Sample/2328_sr.fits\n",
      "Data/MASH_Sample/2026_sr.fits\n",
      "Data/MASH_Sample/2071_sr.fits\n",
      "Data/MASH_Sample/2074_sr.fits\n",
      "Data/MASH_Sample/2276_sr.fits\n",
      "Data/MASH_Sample/2176_sr.fits\n",
      "Data/MASH_Sample/2105_sr.fits\n",
      "Data/MASH_Sample/2164_sr.fits\n",
      "Data/MASH_Sample/2111_sr.fits\n",
      "Data/MASH_Sample/2292_sr.fits\n",
      "Data/MASH_Sample/2104_sr.fits\n",
      "Data/MASH_Sample/2059_sr.fits\n",
      "Data/MASH_Sample/2329_sr.fits\n",
      "Data/MASH_Sample/2337_sr.fits\n",
      "Data/MASH_Sample/2048_sr.fits\n",
      "Data/MASH_Sample/2225_sr.fits\n",
      "Data/MASH_Sample/2090_sr.fits\n",
      "Data/MASH_Sample/2338_sr.fits\n",
      "Data/MASH_Sample/2237_sr.fits\n",
      "Data/MASH_Sample/2172_sr.fits\n",
      "Data/MASH_Sample/2320_sr.fits\n",
      "Data/MASH_Sample/2187_sr.fits\n",
      "Data/MASH_Sample/2108_sr.fits\n",
      "Data/MASH_Sample/2336_sr.fits\n",
      "Data/MASH_Sample/2047_sr.fits\n",
      "Data/MASH_Sample/2215_sr.fits\n",
      "Data/MASH_Sample/2080_sr.fits\n",
      "Data/MASH_Sample/2185_sr.fits\n",
      "Data/MASH_Sample/2242_sr.fits\n",
      "Data/MASH_Sample/2335_sr.fits\n",
      "Data/MASH_Sample/2241_sr.fits\n",
      "Data/MASH_Sample/2175_sr.fits\n",
      "Data/MASH_Sample/2158_sr.fits\n",
      "Data/MASH_Sample/2124_sr.fits\n",
      "Data/MASH_Sample/2232_sr.fits\n",
      "Data/MASH_Sample/2246_sr.fits\n",
      "Data/MASH_Sample/2171_sr.fits\n",
      "Data/MASH_Sample/2075_sr.fits\n",
      "Data/MASH_Sample/2203_sr.fits\n",
      "Data/MASH_Sample/2014_sr.fits\n",
      "Data/MASH_Sample/2217_sr.fits\n",
      "Data/MASH_Sample/2174_sr.fits\n",
      "Data/MASH_Sample/2243_sr.fits\n",
      "Data/MASH_Sample/2208_sr.fits\n",
      "Data/MASH_Sample/2274_sr.fits\n",
      "Data/MASH_Sample/2223_sr.fits\n",
      "Data/MASH_Sample/2152_sr.fits\n",
      "Data/MASH_Sample/2114_sr.fits\n",
      "Data/MASH_Sample/2272_sr.fits\n",
      "Data/MASH_Sample/2183_sr.fits\n",
      "Data/MASH_Sample/2134_sr.fits\n",
      "Data/MASH_Sample/2286_sr.fits\n",
      "Data/MASH_Sample/2034_sr.fits\n",
      "Data/MASH_Sample/2293_sr.fits\n",
      "Data/MASH_Sample/2132_sr.fits\n",
      "Data/MASH_Sample/2289_sr.fits\n",
      "Data/MASH_Sample/2129_sr.fits\n",
      "Data/MASH_Sample/2141_sr.fits\n",
      "Data/MASH_Sample/2038_sr.fits\n",
      "Data/MASH_Sample/2198_sr.fits\n",
      "Data/MASH_Sample/2235_sr.fits\n",
      "Data/MASH_Sample/2051_sr.fits\n",
      "Data/MASH_Sample/2017_sr.fits\n",
      "Data/MASH_Sample/2023_sr.fits\n",
      "Data/MASH_Sample/2327_sr.fits\n",
      "Data/MASH_Sample/2317_sr.fits\n",
      "Data/MASH_Sample/2160_sr.fits\n",
      "Data/MASH_Sample/2297_sr.fits\n",
      "Data/MASH_Sample/2119_sr.fits\n",
      "Data/MASH_Sample/2115_sr.fits\n",
      "Data/MASH_Sample/2012_sr.fits\n",
      "Data/MASH_Sample/2046_sr.fits\n",
      "Data/MASH_Sample/2211_sr.fits\n",
      "Data/MASH_Sample/2121_sr.fits\n",
      "Data/MASH_Sample/2159_sr.fits\n",
      "Data/MASH_Sample/2136_sr.fits\n",
      "Data/MASH_Sample/2035_sr.fits\n",
      "Data/MASH_Sample/2092_sr.fits\n",
      "Data/MASH_Sample/2304_sr.fits\n",
      "Data/MASH_Sample/2216_sr.fits\n",
      "Data/MASH_Sample/2253_sr.fits\n",
      "Data/MASH_Sample/2049_sr.fits\n",
      "Data/MASH_Sample/2257_sr.fits\n",
      "Data/MASH_Sample/2267_sr.fits\n",
      "Data/MASH_Sample/2319_sr.fits\n",
      "Data/MASH_Sample/2227_sr.fits\n",
      "Data/MASH_Sample/2177_sr.fits\n",
      "Data/MASH_Sample/2330_sr.fits\n",
      "Data/MASH_Sample/2144_sr.fits\n",
      "Data/MASH_Sample/2209_sr.fits\n",
      "Data/MASH_Sample/2056_sr.fits\n",
      "Data/MASH_Sample/2191_sr.fits\n",
      "Data/MASH_Sample/2192_sr.fits\n",
      "Data/MASH_Sample/2024_sr.fits\n",
      "Data/MASH_Sample/2310_sr.fits\n",
      "Data/MASH_Sample/2182_sr.fits\n",
      "Data/MASH_Sample/2155_sr.fits\n",
      "Data/MASH_Sample/2166_sr.fits\n",
      "Data/MASH_Sample/2298_sr.fits\n",
      "Data/MASH_Sample/2002_sr.fits\n",
      "Data/MASH_Sample/2170_sr.fits\n",
      "Data/MASH_Sample/2252_sr.fits\n",
      "Data/MASH_Sample/2287_sr.fits\n",
      "Data/MASH_Sample/2258_sr.fits\n",
      "Data/MASH_Sample/2321_sr.fits\n",
      "Data/MASH_Sample/2009_sr.fits\n",
      "Data/MASH_Sample/2305_sr.fits\n",
      "Data/MASH_Sample/2238_sr.fits\n",
      "Data/MASH_Sample/2234_sr.fits\n",
      "Data/MASH_Sample/2103_sr.fits\n",
      "Data/MASH_Sample/2045_sr.fits\n",
      "Data/MASH_Sample/2042_sr.fits\n",
      "Data/MASH_Sample/2077_sr.fits\n",
      "Data/MASH_Sample/2031_sr.fits\n",
      "Data/MASH_Sample/2142_sr.fits\n",
      "Data/MASH_Sample/2053_sr.fits\n",
      "Data/MASH_Sample/2189_sr.fits\n",
      "Data/MASH_Sample/2097_sr.fits\n",
      "Data/MASH_Sample/2088_sr.fits\n",
      "Data/MASH_Sample/2266_sr.fits\n",
      "Data/MASH_Sample/2037_sr.fits\n",
      "Data/MASH_Sample/2300_sr.fits\n",
      "Data/MASH_Sample/2070_sr.fits\n",
      "Data/MASH_Sample/2137_sr.fits\n",
      "Data/MASH_Sample/2084_sr.fits\n",
      "Data/MASH_Sample/2190_sr.fits\n",
      "Data/MASH_Sample/2130_sr.fits\n",
      "Data/MASH_Sample/2280_sr.fits\n",
      "Data/MASH_Sample/2222_sr.fits\n",
      "Data/MASH_Sample/2269_sr.fits\n",
      "Data/MASH_Sample/2010_sr.fits\n",
      "Data/MASH_Sample/2085_sr.fits\n",
      "Data/MASH_Sample/2306_sr.fits\n",
      "Data/MASH_Sample/2019_sr.fits\n",
      "Data/MASH_Sample/2210_sr.fits\n",
      "Data/MASH_Sample/2146_sr.fits\n",
      "Data/MASH_Sample/2334_sr.fits\n",
      "Data/MASH_Sample/2299_sr.fits\n",
      "Data/MASH_Sample/2270_sr.fits\n",
      "Data/MASH_Sample/2149_sr.fits\n",
      "Data/MASH_Sample/2063_sr.fits\n",
      "Data/MASH_Sample/2143_sr.fits\n",
      "Data/MASH_Sample/2282_sr.fits\n",
      "Data/MASH_Sample/2162_sr.fits\n",
      "Data/MASH_Sample/2322_sr.fits\n",
      "Data/MASH_Sample/2283_sr.fits\n",
      "Data/MASH_Sample/2262_sr.fits\n",
      "Data/MASH_Sample/2161_sr.fits\n",
      "Data/MASH_Sample/2221_sr.fits\n",
      "Data/MASH_Sample/2022_sr.fits\n",
      "Data/MASH_Sample/2213_sr.fits\n",
      "Data/MASH_Sample/2219_sr.fits\n",
      "Data/MASH_Sample/2147_sr.fits\n",
      "Data/MASH_Sample/2307_sr.fits\n",
      "Data/MASH_Sample/2016_sr.fits\n",
      "Data/MASH_Sample/2110_sr.fits\n",
      "Data/MASH_Sample/2096_sr.fits\n",
      "Data/MASH_Sample/2302_sr.fits\n",
      "Data/MASH_Sample/2188_sr.fits\n",
      "Data/MASH_Sample/2094_sr.fits\n",
      "Data/MASH_Sample/2273_sr.fits\n",
      "Data/MASH_Sample/2069_sr.fits\n",
      "Data/MASH_Sample/2271_sr.fits\n",
      "Data/MASH_Sample/2148_sr.fits\n",
      "Data/MASH_Sample/2195_sr.fits\n",
      "Data/MASH_Sample/2184_sr.fits\n",
      "Data/MASH_Sample/2181_sr.fits\n",
      "Data/MASH_Sample/2255_sr.fits\n",
      "Data/MASH_Sample/2220_sr.fits\n",
      "Data/MASH_Sample/2067_sr.fits\n",
      "Data/MASH_Sample/2082_sr.fits\n"
     ]
    },
    {
     "name": "stdout",
     "output_type": "stream",
     "text": [
      "Data/MASH_Sample/2052_sr.fits\n",
      "Data/MASH_Sample/2050_sr.fits\n",
      "Data/MASH_Sample/2078_sr.fits\n",
      "Data/MASH_Sample/2021_sr.fits\n",
      "Data/MASH_Sample/2173_sr.fits\n",
      "Data/MASH_Sample/2224_sr.fits\n",
      "Data/MASH_Sample/2028_sr.fits\n",
      "Data/MASH_Sample/2303_sr.fits\n",
      "Data/MASH_Sample/2207_sr.fits\n",
      "Data/MASH_Sample/2163_sr.fits\n",
      "Data/MASH_Sample/2126_sr.fits\n",
      "Data/MASH_Sample/2118_sr.fits\n",
      "Data/MASH_Sample/2239_sr.fits\n",
      "Data/MASH_Sample/2087_sr.fits\n",
      "Data/MASH_Sample/2251_sr.fits\n",
      "Data/MASH_Sample/2106_sr.fits\n",
      "Data/MASH_Sample/2295_sr.fits\n",
      "Data/MASH_Sample/2133_sr.fits\n",
      "Data/MASH_Sample/2036_sr.fits\n",
      "Data/MASH_Sample/2102_sr.fits\n",
      "Data/MASH_Sample/2072_sr.fits\n",
      "Data/MASH_Sample/2186_sr.fits\n",
      "Data/MASH_Sample/2179_sr.fits\n",
      "Data/MASH_Sample/2033_sr.fits\n",
      "Data/MASH_Sample/2294_sr.fits\n",
      "Data/MASH_Sample/2284_sr.fits\n",
      "Data/MASH_Sample/2140_sr.fits\n",
      "Data/MASH_Sample/2120_sr.fits\n",
      "Data/MASH_Sample/2027_sr.fits\n",
      "Data/MASH_Sample/2011_sr.fits\n",
      "Data/MASH_Sample/2099_sr.fits\n",
      "Data/MASH_Sample/2116_sr.fits\n",
      "Data/MASH_Sample/2279_sr.fits\n",
      "Data/MASH_Sample/2308_sr.fits\n",
      "Data/MASH_Sample/2167_sr.fits\n",
      "Data/MASH_Sample/2318_sr.fits\n",
      "Data/MASH_Sample/2089_sr.fits\n",
      "Data/MASH_Sample/2101_sr.fits\n",
      "Data/MASH_Sample/2086_sr.fits\n",
      "Data/MASH_Sample/2278_sr.fits\n",
      "Data/MASH_Sample/2095_sr.fits\n",
      "Data/MASH_Sample/2285_sr.fits\n",
      "Data/MASH_Sample/2015_sr.fits\n",
      "Data/MASH_Sample/2123_sr.fits\n",
      "Data/MASH_Sample/2029_sr.fits\n",
      "Data/MASH_Sample/2139_sr.fits\n",
      "Data/MASH_Sample/2296_sr.fits\n",
      "Data/MASH_Sample/2326_sr.fits\n",
      "Data/MASH_Sample/2008_sr.fits\n",
      "Data/MASH_Sample/2100_sr.fits\n",
      "Data/MASH_Sample/2041_sr.fits\n",
      "Data/MASH_Sample/2316_sr.fits\n",
      "Data/MASH_Sample/2030_sr.fits\n",
      "Data/MASH_Sample/2112_sr.fits\n",
      "Data/MASH_Sample/2263_sr.fits\n",
      "Data/MASH_Sample/2256_sr.fits\n",
      "Data/MASH_Sample/2044_sr.fits\n"
     ]
    }
   ],
   "source": [
    "# Get a list of all fits files \n",
    "mash_file_list = glob.glob('Data/MASH_Sample/*.fits')\n",
    "# If this cell block was run before, there are too many files in the \n",
    "# folder, so before we do anything, we clean up.\n",
    "for file_name in mash_file_list:\n",
    "    if '_mod' in file_name:\n",
    "        os.remove(file_name)\n",
    "mash_file_list = glob.glob('Data/MASH_Sample/*.fits')\n",
    "# Modify the header so that the MOC creation works smoothly\n",
    "for file_name in mash_file_list:\n",
    "    ima = fits.open(file_name)\n",
    "    removeable_keywords = ['PC001001', 'PC001002',\n",
    "                           'PC002001', 'PC002002','XPIXELSZ',\n",
    "                           'YPIXELSZ']\n",
    "    for keyword in removeable_keywords:\n",
    "        try:\n",
    "            del ima[0].header[keyword]\n",
    "        except KeyError:\n",
    "            continue\n",
    "    ima.writeto(file_name.split('.fits')[0] + '_mod.fits', overwrite=True)\n",
    "    ima.close()\n",
    "# Get a list of the updated files and create the MOC    \n",
    "mash_file_list = glob.glob('Data/MASH_Sample/*_mod.fits')\n",
    "moc_mash = mocpy.MOC.from_fits_images(mash_file_list, max_norder=15)\n",
    "moc_mash.write('Data/mash_moc.fits', overwrite=True)"
   ]
  },
  {
   "cell_type": "code",
   "execution_count": 6,
   "metadata": {},
   "outputs": [
    {
     "data": {
      "image/png": "[encoded data removed]",
      "text/plain": [
       "<Figure size 1080x1080 with 1 Axes>"
      ]
     },
     "metadata": {},
     "output_type": "display_data"
    }
   ],
   "source": [
    "fig_centre = SkyCoord('21:49:00', '-02:30:00', \n",
    "                      unit=(u.hourangle, u.deg), frame='galactic')\n",
    "\n",
    "sns.set_style('darkgrid')\n",
    "fig = plt.figure(figsize=(15, 15))\n",
    "with mocpy.World2ScreenMPL(fig, fov=2.5 * u.deg,\n",
    "                           center=fig_centre,\n",
    "                           coordsys=\"galactic\", \n",
    "                           rotation=Angle(0, u.degree),\n",
    "                           projection=\"AIT\") as wcs:\n",
    "    ax = fig.add_axes([0.17, 0.17, 0.77, 0.77], projection=wcs)\n",
    "    moc_mash.fill(ax=ax, wcs=wcs, alpha=0.5, fill=True, color=mpl.cm.magma(0.4))\n",
    "    ax.set_xlabel('RA')\n",
    "    ax.set_ylabel('Dec')\n",
    "    lon, lat = ax.coords[0], ax.coords[1]\n",
    "    lon.set_major_formatter('hh:mm:ss')\n",
    "    lat.set_major_formatter('dd:mm')\n",
    "    lon.set_ticklabel(exclude_overlapping=True)\n",
    "    lat.set_ticklabel(exclude_overlapping=True)"
   ]
  },
  {
   "cell_type": "markdown",
   "metadata": {},
   "source": [
    "This figure only shows a small region on the Sky, but you can see how the MOC has arbitrary shapes and not all regions are connected. "
   ]
  },
  {
   "cell_type": "markdown",
   "metadata": {},
   "source": [
    "## Load an archival extinction map and create the MOC of the low extinction regions\n",
    "Different works (e.g. Schlegel et al. 1998, Schlafly  & Finkbeiner 2011, Green et al. 2015 or Dobashi et al. 2013) have created extinction maps of the sky and these maps are publicly available. Some of these maps are all-sky maps, other have higher resolutions, or come from different methods... Such maps are available in healpix format (among others) on the LAMBDA website or the CADE website. For the purpose of this tutorial, we will download the well known all-sky extinction map from Schlegel et al. from the LAMBDA website, and define as a MOC the low extinction area for which 0<E(B-V)<0.4. \n",
    "The map is available from here: https://lambda.gsfc.nasa.gov/data/foregrounds/SFD/lambda_sfd_ebv.fits and we save it to disc. "
   ]
  },
  {
   "cell_type": "code",
   "execution_count": 7,
   "metadata": {},
   "outputs": [],
   "source": [
    "ext_map = fits.open('https://lambda.gsfc.nasa.gov/data/foregrounds/SFD/' + \n",
    "                    'lambda_sfd_ebv.fits')\n",
    "ext_map.writeto('Data/Schlegel_extinction_map.fits', overwrite=True)\n",
    "ext_map.close()"
   ]
  },
  {
   "cell_type": "markdown",
   "metadata": {},
   "source": [
    "We are only interested in regions with low extinction. So our aim is to get a MOC of all regions, where the extinction values from the Schlegel et al. map are in the range from 0 to 0.5mag. The extinction map we got from the NASA webpage is in the Healpix format, which is a very useful and efficient presentation of all-sky maps. The Healpix tesselation is also used by the MOCs. So to get the MOC from the extinction map, we do the following. First we change the projection of the map and set the order (i.e. resolution) of the map, so that the resulting MOC will have the right shape:"
   ]
  },
  {
   "cell_type": "code",
   "execution_count": 9,
   "metadata": {},
   "outputs": [
    {
     "name": "stdout",
     "output_type": "stream",
     "text": [
      "NSIDE = 512\n",
      "ORDERING = NESTED in fits file\n",
      "INDXSCHM = IMPLICIT\n",
      "Ordering converted to RING\n"
     ]
    },
    {
     "name": "stderr",
     "output_type": "stream",
     "text": [
      "/home/lutz/.local/lib/python3.6/site-packages/ipykernel_launcher.py:2: ResourceWarning: unclosed file <_io.FileIO name='Data/Schlegel_extinction_map.fits' mode='rb' closefd=True>\n",
      "  \n"
     ]
    }
   ],
   "source": [
    "# Read the map\n",
    "ext_map = hp.read_map('Data/Schlegel_extinction_map.fits', nest=False)\n",
    "# define the coordinate transformation\n",
    "r = hp.Rotator(coord=['G','C'])\n",
    "# do the coordinate and representation transformation\n",
    "ext_map_equatorial_ring = r.rotate_map_pixel(ext_map)\n",
    "ext_map_equatorial = hp.reorder(ext_map_equatorial_ring, r2n=True)\n",
    "# set the resolution\n",
    "nside = 512\n",
    "norder = hp.nside2order(nside)"
   ]
  },
  {
   "cell_type": "markdown",
   "metadata": {},
   "source": [
    "Next we declare which pixel we want to use, i.e. all pixels with low extinction:"
   ]
  },
  {
   "cell_type": "code",
   "execution_count": null,
   "metadata": {},
   "outputs": [],
   "source": [
    "indexes_pixels_to_keep = np.where((ext_map_equatorial<0.5) & \n",
    "                                  (ext_map_equatorial>0.0))[0]"
   ]
  },
  {
   "cell_type": "markdown",
   "metadata": {},
   "source": [
    "Since we brought the extinction map in the right shape, the indexes of the pixels that we want to keep are the indexes of the Healpix cells we are interested in. Thus the MOC is created by:"
   ]
  },
  {
   "cell_type": "code",
   "execution_count": null,
   "metadata": {},
   "outputs": [],
   "source": [
    "moc_low_ext = mocpy.MOC.from_healpix_cells(indexes_pixels_to_keep, \n",
    "                                           np.full((len(indexes_pixels_to_keep,)), \n",
    "                                                    norder))"
   ]
  },
  {
   "cell_type": "code",
   "execution_count": null,
   "metadata": {},
   "outputs": [],
   "source": [
    "moc_low_ext.write('Data/low_extinction_moc.fits', overwrite=True)"
   ]
  },
  {
   "cell_type": "markdown",
   "metadata": {},
   "source": [
    "## Step 5:  Find out which regions are covered by the MASH short red images and in the low extinction regions defined above\n",
    "\n",
    "To find out which regions of the sky are covered by the MASH sample and which are at low extinction, we build the intersection of the two MOCs."
   ]
  },
  {
   "cell_type": "code",
   "execution_count": null,
   "metadata": {},
   "outputs": [],
   "source": [
    "moc_intersection = moc_low_ext.intersection(moc_mash)\n",
    "moc_intersection.sky_fraction"
   ]
  },
  {
   "cell_type": "markdown",
   "metadata": {},
   "source": [
    "Now we can visualise the coverage of the two MOCs and their intersection. The grey area is where the extinction is low, the blue area is the MASH coverage and the red area is the MASH coverage in low extinction regions. "
   ]
  },
  {
   "cell_type": "code",
   "execution_count": null,
   "metadata": {},
   "outputs": [],
   "source": [
    "fig = plt.figure(111, figsize=(10, 8))\n",
    "with mocpy.World2ScreenMPL(fig, fov=200 * u.deg,\n",
    "                           center=SkyCoord(200, -20, unit='deg', frame='icrs'),\n",
    "                           coordsys=\"icrs\",\n",
    "                           rotation=Angle(0, u.degree),\n",
    "                           projection=\"AIT\") as wcs:\n",
    "    ax = fig.add_subplot(1, 1, 1, projection=wcs)\n",
    "    moc_low_ext.fill(ax=ax, wcs=wcs, alpha=0.5, fill=True, color=\"grey\")\n",
    "    moc_mash.fill(ax=ax, wcs=wcs, alpha=0.5, fill=True, color=\"dodgerblue\")\n",
    "    moc_intersection.fill(ax=ax, wcs=wcs, alpha=0.5, fill=True, color=\"crimson\")\n",
    "    ax.set_xlabel('RA')\n",
    "    ax.set_ylabel('Dec')\n",
    "    lon, lat = ax.coords[0], ax.coords[1]\n",
    "    lon.set_major_formatter('hh:mm:ss')\n",
    "    lat.set_major_formatter('dd:mm')\n",
    "    lon.set_ticklabel(exclude_overlapping=True)\n",
    "    lat.set_ticklabel(exclude_overlapping=True)\n",
    "    lon.set_ticks(spacing=2 * u.hourangle)\n",
    "plt.grid(color=\"black\", linestyle=\"dotted\")"
   ]
  },
  {
   "cell_type": "markdown",
   "metadata": {},
   "source": [
    "## Step 6: Query the 2MASS and Gaia Catalogue by MOC\n",
    "Without the usage of MOC, querying for sources in the low extinction regions covered by the MASH subsample would be tedious or even impossible. Indeed, one would need to load the whole catalog and make selections which would not be possible given the size of some catalogues. Alternatively, one would need to query the catalogue field by field, which would take time and several queries. Instead, here, we will use the power of MOC files to query large catalogs directly in the covered regions only. We will use the coverage of the low extinction and MASH-covered region to query for sources from the Gaia and WISE surveys, in this highly non-continuous and non-trivial shape areas.\n",
    "\n",
    "First let's see which Gaia and 2MASS catalogues are available on VizieR. We could as above use the TAP endpoint of VizieR or we use as shown below the `Vizier` module in the `astroquery` package. "
   ]
  },
  {
   "cell_type": "code",
   "execution_count": null,
   "metadata": {},
   "outputs": [],
   "source": [
    "catalog_list_twomass = Vizier.find_catalogs('Cutri')\n",
    "for k, v in catalog_list_twomass.items():\n",
    "    print(k, ': ', v.description)"
   ]
  },
  {
   "cell_type": "code",
   "execution_count": null,
   "metadata": {},
   "outputs": [],
   "source": [
    "catalog_list_gaia = Vizier.find_catalogs('Gaia DR2')\n",
    "for k, v in catalog_list_gaia.items():\n",
    "    print(k, ': ', v.description)"
   ]
  },
  {
   "cell_type": "markdown",
   "metadata": {},
   "source": [
    "For 2MASS we will want to use `II/246 :  2MASS All-Sky Catalog of Point Sources (Cutri+ 2003)` and for Gaia `I/345 :  Gaia DR2 (Gaia Collaboration, 2018)`. Before we actually query the two table we just get a few sources for each of the tables to understand, which columns are available ect. The query below will give us 50 sources each as is the default for the `get_catalogs` method."
   ]
  },
  {
   "cell_type": "code",
   "execution_count": null,
   "metadata": {},
   "outputs": [],
   "source": [
    "test_twomass = Vizier.get_catalogs('II/246')\n",
    "print(test_twomass)\n",
    "test_twomass[0]"
   ]
  },
  {
   "cell_type": "code",
   "execution_count": null,
   "metadata": {},
   "outputs": [],
   "source": [
    "test_gaia = Vizier.get_catalogs('I/345')\n",
    "print(test_gaia)\n",
    "test_gaia[0]"
   ]
  },
  {
   "cell_type": "markdown",
   "metadata": {},
   "source": [
    "As you will see below, we only need coordinates, 2MASS photometry in the H and K band, and Gaia photometry in the Gaia G band. So we'll query the tables `II/246/out` for 2MASS and `I/345/gaia2` for Gaia DR2:"
   ]
  },
  {
   "cell_type": "code",
   "execution_count": null,
   "metadata": {},
   "outputs": [],
   "source": [
    "twomass = moc_intersection.query_vizier_table('II/246/out', max_rows=20000)\n",
    "twomass"
   ]
  },
  {
   "cell_type": "code",
   "execution_count": null,
   "metadata": {},
   "outputs": [],
   "source": [
    "gaia = moc_intersection.query_vizier_table('I/345/gaia2', max_rows=20000)\n",
    "gaia"
   ]
  },
  {
   "cell_type": "markdown",
   "metadata": {},
   "source": [
    "## Step 7: Cross-match Gaia and WISE sources in all fields\n",
    "We now want to find sources in the selected region (observed in the MASH regions of interests and at low extinction) that are common to the WISE and Gaia catalogues. To do so, we will perform a cross-match of the Gaia and the WISE catalogues. Alternatively, we could also use the CDS XMatch service via the corresponding `astroquery` module."
   ]
  },
  {
   "cell_type": "code",
   "execution_count": null,
   "metadata": {},
   "outputs": [],
   "source": [
    "twomass_coord = SkyCoord(ra=twomass['RAJ2000'], dec=twomass['DEJ2000'], unit=u.deg)\n",
    "gaia_coord = SkyCoord(ra=gaia['ra_epoch2000'], \n",
    "                      dec=gaia['dec_epoch2000'], unit=u.deg)\n",
    "idx, d2d, d3d = match_coordinates_sky(twomass_coord, gaia_coord)"
   ]
  },
  {
   "cell_type": "code",
   "execution_count": null,
   "metadata": {},
   "outputs": [],
   "source": [
    "max_sep = 1.0 * u.arcsec\n",
    "sep_constraint = d2d < max_sep\n",
    "twomass_matches = twomass[sep_constraint]\n",
    "gaia_matches = gaia[idx[sep_constraint]]\n",
    "match_cat = twomass_matches['_2MASS', 'RAJ2000', 'DEJ2000', 'Hmag', 'Kmag']\n",
    "match_cat['Gmag'] = gaia_matches['phot_g_mean_mag']\n",
    "match_cat"
   ]
  },
  {
   "cell_type": "markdown",
   "metadata": {},
   "source": [
    "## Step 8: Build a colour-colour diagram\n",
    "\n",
    "We now use the data we got from the cross-match to get a WISE/Gaia colour-colour diagram for all the soruces in the sky regions that is covered by the MASH survey and at low extinction:"
   ]
  },
  {
   "cell_type": "code",
   "execution_count": null,
   "metadata": {},
   "outputs": [],
   "source": [
    "sns.set_style('darkgrid')\n",
    "fig = plt.figure(figsize=(10.0, 8.0))\n",
    "ax = fig.add_axes([0.17, 0.17, 0.77, 0.77])\n",
    "ax.plot(match_cat['Hmag'] - match_cat['Kmag'], \n",
    "        match_cat['Gmag'] - match_cat['Hmag'], linestyle='', marker='.')\n",
    "ax.set_xlabel('H - Ks [mag]')\n",
    "ax.set_ylabel('G - H [mag]')"
   ]
  },
  {
   "cell_type": "code",
   "execution_count": null,
   "metadata": {},
   "outputs": [],
   "source": []
  }
 ],
 "metadata": {
  "kernelspec": {
   "display_name": "Python 3",
   "language": "python",
   "name": "python3"
  },
  "language_info": {
   "codemirror_mode": {
    "name": "ipython",
    "version": 3
   },
   "file_extension": ".py",
   "mimetype": "text/x-python",
   "name": "python",
   "nbconvert_exporter": "python",
   "pygments_lexer": "ipython3",
   "version": "3.6.9"
  }
 },
 "nbformat": 4,
 "nbformat_minor": 2
}
