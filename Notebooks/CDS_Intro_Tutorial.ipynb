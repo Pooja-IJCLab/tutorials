{
 "cells": [
  {
   "cell_type": "markdown",
   "id": "785ff88e",
   "metadata": {},
   "source": [
    "# CDS services in Jupyter notebooks\n",
    "Welcome to a Jupyter notebook demonstrating how to access some CDS services with Python. \n",
    "\n",
    "##### How it works: \n",
    "Jupyter notebooks offer an interactive way to use Python. If you are viewing this notebook with Binder you can execute every cell of code either by pushing the little 'play' <img src=\"images/jupyter_run-cell.png\" alt=\"the Play button\" style=\"width:70px; display: inline-block;\"/>\n",
    "symbol on the left of the cell (appears when the mouse pointer moves in its vicinity) or by selecting a cell and pressing 'Shift' + 'Enter' at the same time. Note that cells that have not yet been executed have no number assigned to them, later on they are assigned the number of the order in which they were executed. If they are run again, they get a new number. \n",
    "\n",
    "##### Goals:\n",
    "- gather information on a specific object using <ins>Simbad</ins>, \n",
    "- visualise it through survey images using the <ins>Aladin Lite</ins> widget, \n",
    "- find and download a catalogue from <ins>Vizier</ins>,\n",
    "- overlay the sources of this catalogue on the sky view in the Aladin Lite widget, \n",
    "- cross-match the sources with a large catalogue using <ins>X-match</ins>. \n",
    "\n",
    "##### Required packages: \n",
    " - [`ipyaladin`](https://github.com/cds-astro/ipyaladin), allows to load Aladin Lite in a Jupyter notebook.\n",
    " - The `Simbad`, `Vizier` and `XMatch` modules from the [`astroquery`](https://astroquery.readthedocs.io/en/latest/index.html#introduction) package. \n",
    " - [`astropy`](https://docs.astropy.org/en/stable/index.html) is the astronomy Python package.\n",
    "\n",
    "These packages are ready to use on Binder, while if you run the notebook on your machine, you can install them using `pip` with the command `pip install [name of the package]`.\n",
    "\n",
    "Let's import the packages by running the following cell:"
   ]
  },
  {
   "cell_type": "code",
   "execution_count": null,
   "id": "614dd358",
   "metadata": {},
   "outputs": [],
   "source": [
    "import ipyaladin.aladin_widget as ipyal\n",
    "from astroquery.simbad import Simbad\n",
    "from astroquery.vizier import Vizier\n",
    "from astroquery.xmatch import XMatch\n",
    "import astropy.units as u"
   ]
  },
  {
   "cell_type": "markdown",
   "id": "8c88bd5c",
   "metadata": {},
   "source": [
    "### Task #1: Gather information on NGC4038. \n",
    "As a first step, we check what information is directly available from the <ins>Simbad</ins> python module:"
   ]
  },
  {
   "cell_type": "code",
   "execution_count": null,
   "id": "27b9aed4",
   "metadata": {
    "scrolled": true
   },
   "outputs": [],
   "source": [
    "Simbad.list_votable_fields()"
   ]
  },
  {
   "cell_type": "markdown",
   "id": "6d515ef1",
   "metadata": {},
   "source": [
    "We get a list of the available fields that we can query and obtain in a table. If we are uncertain about the meaning of a field, we can get a description with `Simbad.get_field_description('field_name')`.\n",
    "Scrolling the output of the cell above we also learn that the currently active fields are the main_id and the coordinates. If we want to get more information, we need to request it specifically. We can do so by running `Simbad.add_votable_fields('field_name')` before querying the object:"
   ]
  },
  {
   "cell_type": "code",
   "execution_count": null,
   "id": "800d0890",
   "metadata": {},
   "outputs": [],
   "source": [
    "Simbad.get_field_description('biblio')"
   ]
  },
  {
   "cell_type": "code",
   "execution_count": null,
   "id": "5d99af87",
   "metadata": {},
   "outputs": [],
   "source": [
    "Simbad.reset_votable_fields()\n",
    "Simbad.add_votable_fields('otype', 'dim', 'dim_bibcode', 'biblio')\n",
    "info_simbad = Simbad.query_object(\"NGC4038\")\n",
    "info_simbad "
   ]
  },
  {
   "cell_type": "markdown",
   "id": "e14c3821",
   "metadata": {},
   "source": [
    "We now know the object type \"galaxy in pair\", the object dimensions (major axis, minor axis, inclination angle) with the related bibliographic reference.\n",
    "\n",
    "Let's search for linked objects: we query sources in a circle of 2 arcmin around NGC4038 of the same object type to find the other galaxy of the pair; then we query sources in the same area with 100% membership probability. "
   ]
  },
  {
   "cell_type": "code",
   "execution_count": null,
   "id": "ecf42ee9",
   "metadata": {
    "scrolled": true
   },
   "outputs": [],
   "source": [
    "siblings = Simbad.query_criteria('region(circle, NGC4038, 2m, 180)', otype='GinPair')\n",
    "siblings"
   ]
  },
  {
   "cell_type": "code",
   "execution_count": null,
   "id": "39549929",
   "metadata": {},
   "outputs": [],
   "source": [
    "members = Simbad.query_criteria('region(circle, NGC4038, 2m, 180)', membership=100)\n",
    "members"
   ]
  },
  {
   "cell_type": "markdown",
   "id": "8fd74788",
   "metadata": {},
   "source": [
    "You can learn more on the features of the Simbad python module here: https://astroquery.readthedocs.io/en/latest/simbad/simbad.html\n",
    "\n",
    "and on the Simbad query criteria: http://simbad.cds.unistra.fr/simbad/sim-fsam"
   ]
  },
  {
   "cell_type": "markdown",
   "id": "83dcdad2",
   "metadata": {},
   "source": [
    "### Task #2: Visualise the source on a sky map\n",
    "We now open the <ins>Aladin Lite</ins> widget. This widget is supposed to **center** on the Antennae galaxies, have a **field of view** of 0.5deg and show colour images from the DSS **survey**. Typing `aladin` in the second line of code, tells the notebook to display the widget. "
   ]
  },
  {
   "cell_type": "code",
   "execution_count": null,
   "id": "1aa25b5d",
   "metadata": {},
   "outputs": [],
   "source": [
    "aladin = ipyal.Aladin(target='Antennae', fov=0.5, survey='P/DSS2/color')\n",
    "aladin"
   ]
  },
  {
   "cell_type": "markdown",
   "id": "e9b90cc9",
   "metadata": {},
   "source": [
    "As with any Aladin Lite implementation, you can interact with this widget. Try to:\n",
    " - zoom in and out placing you mouse pointer on top of the image and scrolling. \n",
    " - select other image surveys and manage the current view with <img src=\"images/ipyaladin_layer.png\" alt=\"the Layer Button\" style=\"width:30px; display: inline-block;\"/>.\n",
    " - look at another target using the search field <img src=\"images/ipyaladin_search.png\" alt=\"the Search Button\" style=\"width:30px; display: inline-block;\"/>. \n",
    "\n",
    "These interactions can also be steered by changing properties of the variable `aladin`. For example, to focus on M101 instead of the Antennae galaxies:\n",
    "\n",
    "`aladin.target = 'M101'`"
   ]
  },
  {
   "cell_type": "markdown",
   "id": "c79ed516",
   "metadata": {},
   "source": [
    "### Task #3: Find  additional data\n",
    "We want to look for available data related to HII regions in these interacting galaxies. We make a query in <ins>Simbad</ins> for HII regions within 14 arcmin around the Antennae galaxies. "
   ]
  },
  {
   "cell_type": "code",
   "execution_count": null,
   "id": "5a32296b",
   "metadata": {
    "scrolled": false
   },
   "outputs": [],
   "source": [
    "table_simbad = Simbad.query_criteria('region(circle, Antennae, 14m)', maintype='HII')\n",
    "table_simbad.show_in_notebook()"
   ]
  },
  {
   "cell_type": "markdown",
   "id": "61958f83",
   "metadata": {},
   "source": [
    "Once we have identified a bibliographic reference of interest, we can search the corresponding catalogs on <ins>VizieR</ins>.\n",
    "\n",
    "Remember that by default VizieR will only return 50 entries (as in the web interface). To get all sources, set `ROW_LIMIT=-1`.\n",
    "\n",
    "A good practice is to check first what data are available by querying only a small subsample, then customize your Vizier query with the useful rows and columns before downloading the entire catalog."
   ]
  },
  {
   "cell_type": "code",
   "execution_count": null,
   "id": "81ddc455",
   "metadata": {},
   "outputs": [],
   "source": [
    "cat_viz = Vizier.get_catalogs('2015MNRAS.451.1307Z') \n",
    "cat_viz"
   ]
  },
  {
   "cell_type": "markdown",
   "id": "4b881442",
   "metadata": {},
   "source": [
    "In the example above, we see that 2 tables are associated with the reference 2015MNRAS.451.1307Z: a table called 'HIIreg' accessible by the index [0] and a table called 'list'accessible by the index [1]. \n",
    "\n",
    "Let's check the 'HIIreg' table:"
   ]
  },
  {
   "cell_type": "code",
   "execution_count": null,
   "id": "f68b359a",
   "metadata": {
    "scrolled": true
   },
   "outputs": [],
   "source": [
    "cat_viz[0].show_in_notebook()"
   ]
  },
  {
   "cell_type": "markdown",
   "id": "e4b26551",
   "metadata": {},
   "source": [
    "Now we can customize our VizieR query by selecting columns, filtering over the interacting galaxies (n_Name='int') and keeping only the first region for each galaxy (Seq=1, for visualisation purposes)."
   ]
  },
  {
   "cell_type": "code",
   "execution_count": null,
   "id": "8d3308b8",
   "metadata": {},
   "outputs": [],
   "source": [
    "myViz = Vizier(columns=['Name', 'RAJ2000', 'DEJ2000', 'logLHa', 'R', 'sigma'],\n",
    "            column_filters={'Seq': '==1', 'n_Name': 'int'})\n",
    "\n",
    "myViz.ROW_LIMIT = -1\n",
    "\n",
    "cat_hii = myViz.get_catalogs('2015MNRAS.451.1307Z')[0]\n",
    "cat_hii.show_in_notebook()"
   ]
  },
  {
   "cell_type": "markdown",
   "id": "91e09bd7",
   "metadata": {},
   "source": [
    "We can now display the table on <ins>Aladin</ins>. \n",
    "This should be obtained by simply typing `aladin.add_table(cat_hii)`\n",
    "but if you get errors on the format of some columns, \n",
    "you can just send name and coordinates to Aladin:"
   ]
  },
  {
   "cell_type": "code",
   "execution_count": null,
   "id": "b1649a7a",
   "metadata": {},
   "outputs": [],
   "source": [
    "aladin.add_table(cat_hii['Name','RAJ2000','DEJ2000'])"
   ]
  },
  {
   "cell_type": "markdown",
   "id": "cd7b2fb8",
   "metadata": {},
   "source": [
    "Go up to the <ins>Aladin Lite</ins> widget, zoom out to see all the sources, then rotate and zoom in to see the interacting galaxies. You can click on one source to display the information in the table. \n",
    "\n",
    "Change the view to the AllWISE Infrared survey, either in the widget:\n",
    "\n",
    "`Base image layer -> The Wide-field Infrared Survey Explorer` \n",
    "\n",
    "or in the command line below.\n",
    "\n",
    "You can find the full list of available sky maps at https://aladin.u-strasbg.fr/hips/list"
   ]
  },
  {
   "cell_type": "code",
   "execution_count": null,
   "id": "bef37a4f",
   "metadata": {},
   "outputs": [],
   "source": [
    "aladin.survey='P/allWISE/color'"
   ]
  },
  {
   "cell_type": "markdown",
   "id": "2f035030",
   "metadata": {},
   "source": [
    "If you want to overlay the survey instead of replacing it:\n",
    "\n",
    "`aladin.overlay_survey= 'P/allWISE/color'`\n",
    "\n",
    "`aladin.overlay_survey_opacity = 0.5`"
   ]
  },
  {
   "cell_type": "markdown",
   "id": "dc6c20f2",
   "metadata": {},
   "source": [
    "#### Exercise: \n",
    "Retrive the second table from Zaragoza-Cardiel+, 2015 (2015MNRAS.451.1307Z) containing data related to the image fits files and try to answer the questions:\n",
    "- What are the typical sizes of the fits images?\n",
    "- What is the approximate resolution of the images? [arcsec/pix]"
   ]
  },
  {
   "cell_type": "code",
   "execution_count": null,
   "id": "9c82126a",
   "metadata": {},
   "outputs": [],
   "source": [
    "#write your code here\n"
   ]
  },
  {
   "cell_type": "markdown",
   "id": "2395d384",
   "metadata": {},
   "source": [
    "### Task #5: Cross-match tables\n",
    "\n",
    "We have HII data for a sample of interacting galaxies. Since we are also interested in the infrared fluxes we search for the AllWISE data release. \n",
    "\n",
    "We want to match the sources in J/MNRAS/451/1307/HIIreg with the AllWISE source catalogue which contains 747 million objects.\n",
    "\n",
    "We use the <ins>X_Match</ins> python module for cross-identification of objects which is particularly efficient and fast with very large catalogues, like AllWISE. All we need are the names of the catalogues, the names of the columns containing the coordinates of the sources, and the desired maximum distance for the match (optionally the area as well, otherwise all-sky is the default)."
   ]
  },
  {
   "cell_type": "code",
   "execution_count": null,
   "id": "d06beaa9",
   "metadata": {},
   "outputs": [],
   "source": [
    "#What is the AllWISE catalogue reference in VizieR?\n",
    "cat_allwise = Vizier.get_catalogs('AllWISE')\n",
    "cat_allwise"
   ]
  },
  {
   "cell_type": "code",
   "execution_count": null,
   "id": "01e608f6",
   "metadata": {},
   "outputs": [],
   "source": [
    "xmatch_zbf_wise = XMatch.query(cat1='vizier:J/MNRAS/451/1307/HIIreg', \n",
    "                               cat2='vizier:II/328/allwise',\n",
    "                               max_distance=10 * u.arcsec, \n",
    "                               colRA1='RAJ2000', colDec1='DEJ2000',\n",
    "                               colRA2='RAJ2000', colDec2='DEJ2000')\n",
    "xmatch_zbf_wise.show_in_notebook()"
   ]
  },
  {
   "cell_type": "markdown",
   "id": "f8ce7eeb",
   "metadata": {},
   "source": [
    "<h4 align=\"center\">This is the end of the tutorial.</h4> \n",
    "\n",
    "<h4 align=\"center\">Try to apply what you have learned here to your data sets and science cases! </h4>"
   ]
  }
 ],
 "metadata": {
  "kernelspec": {
   "display_name": "Python 3 (ipykernel)",
   "language": "python",
   "name": "python3"
  },
  "language_info": {
   "codemirror_mode": {
    "name": "ipython",
    "version": 3
   },
   "file_extension": ".py",
   "mimetype": "text/x-python",
   "name": "python",
   "nbconvert_exporter": "python",
   "pygments_lexer": "ipython3",
   "version": "3.8.10"
  }
 },
 "nbformat": 4,
 "nbformat_minor": 5
}
