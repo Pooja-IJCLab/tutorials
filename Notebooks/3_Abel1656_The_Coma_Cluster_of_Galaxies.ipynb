{
 "cells": [
  {
   "cell_type": "markdown",
   "metadata": {},
   "source": [
    "# Abell 1656: the Coma Cluster of Galaxies\n",
    "\n",
    "Stefania Amodeo¹, Thomas Boch¹, Caroline Bot¹, Giulia Iafrate², Katharina A. Lutz¹, Manon Marchand¹, Massimo Ramella², and Jenny G.Sorce¹\n",
    "\n",
    "1. Université de Strasbourg, CNRS, Observatoire Astronomique de Strasbourg, UMR 7550, F-67000, Strasbourg, France\n",
    "2. INAF - Osservatorio Astronomico di Trieste\n",
    "\n",
    "The original form of this tutorial authored by Massimo Ramella & Giulia Iafrate can be found on the [EURO-VO tutorials page](http://www.euro-vo.org/?q=science/scientific-tutorials). The version here is an adaptation into a jupyter notebook by the Strasbourg astronomical Data Center (CDS) team. \n",
    "\n",
    "***\n",
    "\n",
    "## Introduction\n",
    "\n",
    "The Coma Cluster is an ensemble of over 1000 galaxies that takes its name from the constellation Coma Berenices. \n",
    "\n",
    "The goals of this notebook tutorial are to:\n",
    " 1. examine the Coma cluster of galaxies (Abell 1656) using services and data from the virtual observatory within a jupyter notebook. This allows a quick evaluation of the mean redshift and velocity dispersion of the cluster. Both measurements are important to study the evolution of galaxy clusters. To do so we use redshifts and photometry (Petrosian r magnitude) from the Sloan Digital Sky Survey ([SDSS](https://www.sdss.org/)) and then add redshifts from the Cluster And Infall Region Nearby Survey ([CAIRNS](https://iopscience.iop.org/article/10.1086/378599)) (Rines et al. 2003). This improves the completeness of the redshift sample,\n",
    " 2. research the Mikulski Archive for Space Telescopes ([MAST](https://archive.stsci.edu/)) for Hubble Space Telescope (HST) spectra in the region of the Coma cluster,\n",
    " 3. download a spectrum from MAST and do a quick analysis of the redshift of the emission lines in the spectrum. "
   ]
  },
  {
   "cell_type": "code",
   "execution_count": 4,
   "metadata": {},
   "outputs": [
    {
     "name": "stdout",
     "output_type": "stream",
     "text": [
      "Ready to go :) \n"
     ]
    }
   ],
   "source": [
    "# general python packages\n",
    "import numpy as np\n",
    "from scipy.optimize import curve_fit\n",
    "\n",
    "# for visualisation\n",
    "import ipyaladin.aladin_widget as ipyal\n",
    "import matplotlib.pyplot as plt\n",
    "import matplotlib as mpl\n",
    "import seaborn as sns\n",
    "\n",
    "# to query astronomical databases\n",
    "from astroquery.vizier import Vizier\n",
    "from astroquery.xmatch import XMatch\n",
    "from astroquery.simbad import Simbad\n",
    "import pyvo\n",
    "\n",
    "# libraries for handling astronomy data\n",
    "from astropy import units as u\n",
    "from astropy.io import fits\n",
    "from astropy.table import Table, vstack\n",
    "from astropy.coordinates import SkyCoord\n",
    "from specutils import Spectrum1D, SpectralRegion\n",
    "import specutils.analysis as spec_ana\n",
    "\n",
    "print('Ready to go :) ')\n"
   ]
  },
  {
   "cell_type": "markdown",
   "metadata": {},
   "source": [
    "## Step #1: Exploration of the Coma cluster\n",
    "\n",
    "### Display the region of Abell 1656 in Aladin lite\n",
    "\n",
    "We start by displaying the Coma Cluster in an Aladin Lite widget. We will display DSS2 color images (`survey='P/DSS2/color'`) centered on Abell 1656 (`target='A1656'`) and set the field of view to $0.7^\\circ$ (`fov=0.7`). \n",
    "At this distance, this field of view corresponds to approximately 1Mpc: this is large enough to look at the cluster. \n",
    "\n",
    "If you are using Jupyter lab you can open a second python3 notebook. On this new notebook click the \"Python 3\" button in the top-right corner of this notebook to switch kernel. A new window will pop up and you can then select this notebook (i.e. \"Abel1656...\") as a kernel. This will link the two notebooks such that they see the same variables. You may use the second notebook to look at Aladin Lite widget while doing the analysis in this notebook. Please see the ipyaladin webpage for more information on how to use the widget in Jupyter lab. "
   ]
  },
  {
   "cell_type": "code",
   "execution_count": null,
   "metadata": {},
   "outputs": [],
   "source": [
    "aladin = ipyal.Aladin(target='A1656', fov=0.7, survey='P/DSS2/color')\n",
    "aladin\n"
   ]
  },
  {
   "cell_type": "markdown",
   "metadata": {},
   "source": [
    "You can already see galaxies composing the cluster, and a few stars, like for example the bright [HD112887 star](https://simbad.cds.unistra.fr/simbad/sim-coo?Coord=12+59+32.92000000000+%2B28+03+56.7300000000&Radius=10&Radius.unit=arcmin&submit=submit+query) (click for a surprise Simbad query). But there is more! As with any Aladin Lite implementation, you can interact with this widget. \n",
    " \n",
    " - to zoom in and out, place your mouse pointer on the image and scroll,\n",
    " - you can right-click on a point to grab it and center the reticule on it, \n",
    " - with <img src=\"images/ipyaladin_layer.png\" alt=\"the Layer Button\" style=\"width:30px; display: inline-block;\"/>  you can select other image surveys,\n",
    " - if you would like to look at another target, you can use the search field <img src=\"images/ipyaladin_search.png\" alt=\"the Search Button\" style=\"width:30px; display: inline-block;\"/> to get there. \n",
    "\n",
    "We can also interact with the variable `aladin`. If, for example, after zooming in and out, you wanted to set the FoV again to $0.7^\\circ$, run:"
   ]
  },
  {
   "cell_type": "code",
   "execution_count": null,
   "metadata": {},
   "outputs": [],
   "source": [
    "aladin.fov = 0.7\n"
   ]
  },
  {
   "cell_type": "markdown",
   "metadata": {},
   "source": [
    "and look back up ... or call the variable `aladin` again to pop a new widget window. You'll remark that the field of view and reticule position are synchronized, but not the survey. It can allow the exploration of the same region in two different wavelengths. "
   ]
  },
  {
   "cell_type": "code",
   "execution_count": null,
   "metadata": {},
   "outputs": [],
   "source": [
    "aladin\n"
   ]
  },
  {
   "cell_type": "markdown",
   "metadata": {},
   "source": [
    "### Load the SDSS catalog and select galaxies\n",
    "\n",
    "In this section, we will access the SDSS DR12 catalog among the [VizieR](https://vizier.cds.unistra.fr/) catalog service. We will download all entries that are located within 40arcmin of the center of the cluster A1656. We start by querying VizieR for all catalogs that match the term `SDSS DR12`.\n",
    "\n",
    "Since this query takes a few seconds, we will store its results in the variable `catalog_list_sdss` for further analysis."
   ]
  },
  {
   "cell_type": "code",
   "execution_count": null,
   "metadata": {},
   "outputs": [],
   "source": [
    "catalog_list_sdss = Vizier.find_catalogs('SDSS DR12')\n",
    "print(f'The catalog is returned and stored in a {type(catalog_list_sdss)}')\n"
   ]
  },
  {
   "cell_type": "markdown",
   "metadata": {},
   "source": [
    "To know what is in this ordered dictionary, we look at its first entry and list the methods applicable to the associated value."
   ]
  },
  {
   "cell_type": "code",
   "execution_count": null,
   "metadata": {},
   "outputs": [],
   "source": [
    "# just selecting the value of the first item in the dictionnary\n",
    "first_entry_value = catalog_list_sdss[next(iter(catalog_list_sdss))]\n",
    "# the dir() function is built in python > 3. It lists all available methods for an object\n",
    "print(dir(first_entry_value))\n"
   ]
  },
  {
   "cell_type": "markdown",
   "metadata": {},
   "source": [
    "Among the possible methods, we print the `description`, but feel free to explore the catalog list :)"
   ]
  },
  {
   "cell_type": "code",
   "execution_count": null,
   "metadata": {},
   "outputs": [],
   "source": [
    "# Let's display a list of the catalogs' names and descriptions\n",
    "for key, value in catalog_list_sdss.items():\n",
    "    print(key, ': ', value.description)\n"
   ]
  },
  {
   "cell_type": "markdown",
   "metadata": {},
   "source": [
    "In this list, the first item is the complete SDSS catalog, while the others are sub-catalogs produced from the full one that often adds information. These other catalogs are published in astronomical journals (ex: ApJ stands for the Astrophysical Journal). \n",
    "\n",
    "We are interested in data from the main SDSS DR12 photometric catalog: \"The SDSS Photometric Catalogue, Release 12 (Alam+, 2015)\". We query its content in 10arcmin around the center of the Coma Cluster."
   ]
  },
  {
   "cell_type": "code",
   "execution_count": null,
   "metadata": {},
   "outputs": [],
   "source": [
    "results_test_sdss = Vizier.query_region(\n",
    "    \"A1656\", radius=\"0d10m0s\", catalog='V/147')\n",
    "print(results_test_sdss)\n"
   ]
  },
  {
   "cell_type": "markdown",
   "metadata": {},
   "source": [
    "As you see, there is only one table in our resulting list of tables. Moreover, this table has only 50 rows, an extremely small number! It is actually due to the default limit in the number of rows of the `Vizier.query_region` function. For now, we will use this small table to see what columns could be interesting. We will query without a row limit once we know what we need. This is a general good practice and allows to avoid unneccesary manipulation of huge tables.\n",
    "\n",
    "To access the unique test table in the list, we select the first table of the catalogue with `results_test_sdss[0]`. And we can again print the list of available methods for this object:"
   ]
  },
  {
   "cell_type": "code",
   "execution_count": null,
   "metadata": {},
   "outputs": [],
   "source": [
    "print(dir(results_test_sdss[0]))\n"
   ]
  },
  {
   "cell_type": "markdown",
   "metadata": {},
   "source": [
    "Let's see its columns:"
   ]
  },
  {
   "cell_type": "code",
   "execution_count": null,
   "metadata": {},
   "outputs": [],
   "source": [
    "print(results_test_sdss[0].colnames)\n"
   ]
  },
  {
   "cell_type": "markdown",
   "metadata": {},
   "source": [
    "But since the names don't mean a lot by themselves, let's also look at another method, the `info` one that gives more detailed information about each column. If these descriptions are still not clear, you can also have a look directly at the [SDSS DR12 webpage](https://www.sdss.org/dr12/)."
   ]
  },
  {
   "cell_type": "code",
   "execution_count": null,
   "metadata": {},
   "outputs": [],
   "source": [
    "print(results_test_sdss[0].info)\n"
   ]
  },
  {
   "cell_type": "markdown",
   "metadata": {},
   "source": [
    "For our current goal, we will need the coordinates (`RA_ICRS` and `DE_ICRS`), r-band magnitudes (`rmag`),and redshifts (`zsp`) of the galaxies in the Coma cluster. Hence, we only keep these columns. \n",
    "\n",
    "SDSS furthermore provides information on the type of source (galaxies correspond to `class` = 3, see the `info` output above) so we'll want to keep these. \n",
    "\n",
    "Additionally, and this information is specific to the SDSS survey (see [their website](https://www.sdss.org/dr12/help/glossary/)), some objects are observed more than once because of the overlaps between plates. To avoid these duplicates, we select only the primary observation of each object (corresponding to `mode` = 1). \n",
    "\n",
    "A first way of obtaining unique records (`mode` = 1) for the galaxies (`class` = 3) would be to apply masks on the precedent test table:"
   ]
  },
  {
   "cell_type": "code",
   "execution_count": null,
   "metadata": {},
   "outputs": [],
   "source": [
    "masked_sdss = results_test_sdss[0]\n",
    "masked_sdss = masked_sdss[(masked_sdss['mode'] == 1)\n",
    "                          & (masked_sdss['class'] == 3)]\n",
    "# note the important double [] here\n",
    "masked_sdss[['RA_ICRS', 'DE_ICRS', 'rmag', 'zsp']].pprint()\n"
   ]
  },
  {
   "cell_type": "markdown",
   "metadata": {},
   "source": [
    "But here is a second option using a specialized instance of the Vizier class in which we will lift the restriction on the number of rows.\n",
    "\n",
    "To know how to do so, always use the magic help in jupyter notebooks:"
   ]
  },
  {
   "cell_type": "code",
   "execution_count": 3,
   "metadata": {},
   "outputs": [
    {
     "ename": "NameError",
     "evalue": "name 'Vizier' is not defined",
     "output_type": "error",
     "traceback": [
      "\u001b[0;31m---------------------------------------------------------------------------\u001b[0m",
      "\u001b[0;31mNameError\u001b[0m                                 Traceback (most recent call last)",
      "Cell \u001b[0;32mIn [3], line 1\u001b[0m\n\u001b[0;32m----> 1\u001b[0m \u001b[43mVizier\u001b[49m\u001b[38;5;241m.\u001b[39minfo()\n",
      "\u001b[0;31mNameError\u001b[0m: name 'Vizier' is not defined"
     ]
    }
   ],
   "source": [
    "Vizier.info()\n"
   ]
  },
  {
   "cell_type": "markdown",
   "metadata": {},
   "source": [
    "Where we can directly read that we should give the `columns` names as a list, the `column_filters` as a dictionary, and the `row_limit` as an int. It is even specified that `row_limit` = -1 puts no limit on the number of rows. So let us do this:"
   ]
  },
  {
   "cell_type": "code",
   "execution_count": null,
   "metadata": {},
   "outputs": [],
   "source": [
    "vizier_instance = Vizier(columns=['RA_ICRS', 'DE_ICRS', 'rmag', 'zsp'],\n",
    "                         column_filters={'class': '==3', 'mode': '==1'},\n",
    "                         row_limit=-1)\n"
   ]
  },
  {
   "cell_type": "markdown",
   "metadata": {},
   "source": [
    "Now that we have prepared everything, we can query VizieR for all galaxies, which are primary sources and within 40arcmin of the center of the Coma cluster. Note that VizieR knows that `A1656` is the center of the Coma cluster. If you wanted to search at some other place in the sky, you could also give coordinates (in the form of Astropy's `SkyCoord`) instead of `'A1656'`."
   ]
  },
  {
   "cell_type": "code",
   "execution_count": null,
   "metadata": {},
   "outputs": [],
   "source": [
    "results_coma_sdss = vizier_instance.query_region('A1656',\n",
    "                                                 radius='0d40m0s',\n",
    "                                                 catalog='V/147')\n",
    "print(results_coma_sdss)\n"
   ]
  },
  {
   "cell_type": "markdown",
   "metadata": {},
   "source": [
    "As you can see, the result of our query includes data from one catalog for 23770 objects (*i.e.* the table has 23770 rows). The output from this query is again a list of Astropy Table objects. We assign the table to the variable `sdss` and work with this from here on. "
   ]
  },
  {
   "cell_type": "code",
   "execution_count": null,
   "metadata": {},
   "outputs": [],
   "source": [
    "sdss = results_coma_sdss[0]\n",
    "sdss.show_in_notebook(display_length=15)\n"
   ]
  },
  {
   "cell_type": "markdown",
   "metadata": {},
   "source": [
    "By navigating this table, you'll remark that very few entries have a spectroscopic redshift `zsp`. Thus we will complete the results later with information from another table. But we'll first ensure the validity of entries here. "
   ]
  },
  {
   "cell_type": "markdown",
   "metadata": {},
   "source": [
    "### Identify the brightest sources as stars contaminating the sample\n",
    "\n",
    "We have already restricted our sample to sources that are classified as galaxies (`class` = 3). However, for very bright sources, stars might be confused with galaxies. To test this and exclude any contamination from stars, we now take a closer look at the brightest sources. To do so we select sources brighter than 11.5 mag in r-band (`rmag < 11.5`) and check with the Aladin widget what these sources look like."
   ]
  },
  {
   "cell_type": "code",
   "execution_count": null,
   "metadata": {},
   "outputs": [],
   "source": [
    "stars = sdss[sdss['rmag'] < 11.5]\n",
    "aladin.add_table(stars['RA_ICRS', 'DE_ICRS'])\n",
    "print(f'Our sample contains {len(stars)} really bright sources.')\n"
   ]
  },
  {
   "cell_type": "markdown",
   "metadata": {},
   "source": [
    "With `aladin.add_table(stars)`, we have added symbols to the Aladin Lite widget at the location of the brightest sources (*i.e.* stars). If you now scroll back up to the Aladin Lite widget and zoom out, you will be able to find all the brightest sources. By looking at each source you will find that these are indeed stars. \n",
    "\n",
    "You can choose to hide or show the symbols for the table entries in the <img src=\"images/ipyaladin_layer.png\" alt=\"the Layer Button\" style=\"width:30px; display: inline-block;\"/> options, the tableappears as `catalog`"
   ]
  },
  {
   "cell_type": "code",
   "execution_count": null,
   "metadata": {},
   "outputs": [],
   "source": [
    "aladin\n"
   ]
  },
  {
   "cell_type": "markdown",
   "metadata": {},
   "source": [
    "### Build a subset of galaxies with photometry and redshift in SDSS\n",
    "\n",
    "Now on to exploring the galaxies in our sample. \n",
    "We again build a subset, this time for all sources fainter than 11.5mag (to leave out the stars identified in the section above) but brighter than 17.77mag, which is the [completeness limit of the SDSS spectroscopic sample](https://www.sdss.org/dr12/algorithms/legacy_target_selection/). "
   ]
  },
  {
   "cell_type": "code",
   "execution_count": null,
   "metadata": {
    "scrolled": true
   },
   "outputs": [],
   "source": [
    "sdss_sample = sdss[(sdss['rmag'] > 11.5) & (sdss['rmag'] < 17.77)]\n",
    "sdss_sample.show_in_notebook(display_length=15)\n"
   ]
  },
  {
   "cell_type": "markdown",
   "metadata": {},
   "source": [
    "### Improve the completeness with other sources of redshifts in Vizier\n",
    "\n",
    "As you can see in the table above, not all galaxies in our zsp17 sample have redshift measurements (some rows have '--' in the 'zsp' column, i.e. they are masked). So to improve the completeness of our sample we will now use Vizier to search for redshifts in the Rines et al (2003) catalog. First, find all catalogs that match the search terms 'redshifts Rines 2003':"
   ]
  },
  {
   "cell_type": "code",
   "execution_count": null,
   "metadata": {},
   "outputs": [],
   "source": [
    "catalog_list_rines = Vizier.find_catalogs('Rines 2003')\n",
    "for k, v in catalog_list_rines.items():\n",
    "    print(k, ': ', v.description)\n"
   ]
  },
  {
   "cell_type": "markdown",
   "metadata": {},
   "source": [
    "Among these, we find the 'J/AJ/126/2152' catalog:  Cluster And Infall Region Nearby Survey. I (Rines+, 2003): the one we'd like to read.\n",
    "\n",
    "So again, let's take a quick look at this catalog. "
   ]
  },
  {
   "cell_type": "code",
   "execution_count": null,
   "metadata": {},
   "outputs": [],
   "source": [
    "results_test_rines = Vizier.query_region(\n",
    "    \"A1656\", radius=\"0d10m0s\", catalog='J/AJ/126/2152')\n",
    "print(results_test_rines)\n"
   ]
  },
  {
   "cell_type": "code",
   "execution_count": null,
   "metadata": {},
   "outputs": [],
   "source": [
    "results_test_rines[0]\n"
   ]
  },
  {
   "cell_type": "code",
   "execution_count": null,
   "metadata": {},
   "outputs": [],
   "source": [
    "results_test_rines[1]\n"
   ]
  },
  {
   "cell_type": "code",
   "execution_count": null,
   "metadata": {},
   "outputs": [],
   "source": [
    "results_test_rines[1].info()\n"
   ]
  },
  {
   "cell_type": "markdown",
   "metadata": {},
   "source": [
    "After inspecting the result of the test query, we see that the first table describes the cluster as an ensemble. The second one describes individual galaxies in the cluster. The later, named `1:J/AJ/126/2152/galaxies` contains the information we want.\n",
    "\n",
    "To see which of the galaxies in the `1:J/AJ/126/2152/galaxies` table could fill in the gaps in our SDSS table, we first isolate the galaxies without redshifts in `zsp17`. Then we spatially crossmatch the two tables using the [CDS XMatch service](http://cdsxmatch.u-strasbg.fr/xmatch) via the `astroquery.XMatch.query` module. "
   ]
  },
  {
   "cell_type": "code",
   "execution_count": null,
   "metadata": {},
   "outputs": [],
   "source": [
    "# mask zsp17 for entries with a nan value in the zsp column\n",
    "sdss_sample_without_zsp = sdss_sample[np.isnan(sdss_sample['zsp'])]\n",
    "sdss_sample_with_zsp = sdss_sample[~np.isnan(sdss_sample['zsp'])]\n",
    "sdss_sample_without_zsp.show_in_notebook(display_length=15)\n"
   ]
  },
  {
   "cell_type": "code",
   "execution_count": null,
   "metadata": {},
   "outputs": [],
   "source": [
    "xmatch_sdss_rines = XMatch.query(cat1=sdss_sample_without_zsp,\n",
    "                                 cat2='vizier:J/AJ/126/2152/galaxies',\n",
    "                                 max_distance=5 * u.arcsec, colRA1='RA_ICRS',\n",
    "                                 colDec1='DE_ICRS')\n",
    "xmatch_sdss_rines.show_in_notebook(display_length=15)\n"
   ]
  },
  {
   "cell_type": "markdown",
   "metadata": {},
   "source": [
    "### Build the final catalog including the Rines et al. (2003) redshifts\n",
    "\n",
    "The resulting table of the cross-match above contains 25 rows, so we have found recession velocity ('cz') measurements for 25 galaxies. Now let's add these data to the zsp17_with table."
   ]
  },
  {
   "cell_type": "code",
   "execution_count": null,
   "metadata": {},
   "outputs": [],
   "source": [
    "# converts redshift into velocity\n",
    "c = 2.998e5  # km/s speed of light\n",
    "sdss_sample_with_zsp['cz'] = sdss_sample_with_zsp['zsp'] * c\n",
    "# from the cross math result, only keep columns that are in sdss_sample_with_zsp\n",
    "to_complete = xmatch_sdss_rines[sdss_sample_with_zsp.colnames]\n",
    "# put together the two tables\n",
    "complete_sample = vstack([sdss_sample_with_zsp, to_complete])\n",
    "# don't forget to set the unit of the newly created column\n",
    "complete_sample['cz'].unit = (u.km / u.s)\n",
    "complete_sample.pprint()\n"
   ]
  },
  {
   "cell_type": "markdown",
   "metadata": {},
   "source": [
    "Now we have a table with all galaxies that either have a redshift measurement in SDSS or a velocity value obtained by (Rines *et al.* 2003).\n",
    "\n",
    "Overall, this sample within 40arcmin of the center of the Coma cluster contains 514 galaxies.\n",
    "\n",
    "Before we start the analysis of the data, let's look at the galaxies in the sample by loading the table into the Aladin Lite widget. They will appear as `catalog_1` and with a different color than the bright stars we added before. "
   ]
  },
  {
   "cell_type": "code",
   "execution_count": null,
   "metadata": {},
   "outputs": [],
   "source": [
    "aladin.add_table(complete_sample)\n"
   ]
  },
  {
   "cell_type": "markdown",
   "metadata": {},
   "source": [
    "### Determine velocity distribution, cluster average velocity, and velocity dispersion\n",
    "\n",
    "Based on the 514 galaxies, we can now analyze the recession velocity and velocity dispersion of the Abell 1656 galaxy cluster. First, we visualize the recession velocity distribution of the entire sample:"
   ]
  },
  {
   "cell_type": "code",
   "execution_count": null,
   "metadata": {},
   "outputs": [],
   "source": [
    "DF_complete_sample = complete_sample.to_pandas()\n"
   ]
  },
  {
   "cell_type": "code",
   "execution_count": null,
   "metadata": {},
   "outputs": [],
   "source": [
    "sns.set_style(\"darkgrid\")\n",
    "sns.displot(data=DF_complete_sample, x='cz', bins=30)\n"
   ]
  },
  {
   "cell_type": "markdown",
   "metadata": {},
   "source": [
    "Note how there is a large range of recession velocities in our sample. We are only interested in the range of recession velocities of the Coma cluster. These are around the peak at low velocities. Thus, we restrict our sample to a subset `DF_Coma` to recession velocities between 3000 and 11000 km/s:"
   ]
  },
  {
   "cell_type": "code",
   "execution_count": null,
   "metadata": {},
   "outputs": [],
   "source": [
    "DF_Coma = DF_complete_sample[(DF_complete_sample['cz'] > 3000.)\n",
    "                             & (DF_complete_sample['cz'] < 11000.)]\n",
    "\n",
    "sns.displot(data=DF_Coma, x='cz')\n"
   ]
  },
  {
   "cell_type": "markdown",
   "metadata": {},
   "source": [
    "This subset corresponds to galaxies in the vicinity of the cluster (both spatially and in recession velocity). Let's calculate the mean recession velocity of the cluster and its velocity dispersion:"
   ]
  },
  {
   "cell_type": "code",
   "execution_count": null,
   "metadata": {},
   "outputs": [],
   "source": [
    "print(f\"\"\"The mean velocity in Coma is {DF_Coma['cz'].mean()} km/s.\n",
    "Its velocity dispersion (i.e. standard deviation) is {DF_Coma['cz'].std()} km/s.\"\"\")\n"
   ]
  },
  {
   "cell_type": "markdown",
   "metadata": {},
   "source": [
    "It is in agreement with more refined analyses (e.g. [Sohn et al. 2017, ApJS, 229, 20](https://iopscience.iop.org/article/10.3847/1538-4365/aa653e)).\n",
    "\n",
    "When looking back at the query results for the Rines et al. (2003) catalog, you can check again the table that describes the full cluster. The mean recession velocity `cz` = 6973km/s and dispersion `sigmap_3s_` = 1042km/s for the Coma cluster are is also in good agreement with our results. "
   ]
  },
  {
   "cell_type": "code",
   "execution_count": null,
   "metadata": {},
   "outputs": [],
   "source": [
    "results_test_rines[0]\n"
   ]
  },
  {
   "cell_type": "markdown",
   "metadata": {},
   "source": [
    "## Search for Hubble Space Telescope (HST) spectra from the Coma Cluster\n",
    "\n",
    "We now want to find out whether there are HST spectra available for the galaxies that had neither a redshift in SDSS nor a velocity in the catalog Rines *et al.* (2003).\n",
    "\n",
    "We use the [Simple Spectral Access (SSA) protocol from the IVOA](http://www.ivoa.net/documents/SSA/) to query the Mikulski Archive for Space Telescopes (MAST). Once again, we look at an area of 40arcmin around the center of the Coma Cluster. "
   ]
  },
  {
   "cell_type": "code",
   "execution_count": null,
   "metadata": {},
   "outputs": [],
   "source": [
    "mast_ssa_service = pyvo.dal.SSAService(\n",
    "    'https://archive.stsci.edu/ssap/search2.php?id=HST&')\n",
    "diameter = u.Quantity(2 * 40.0, unit=\"arcmin\")\n",
    "position = SkyCoord.from_name('A1656')\n",
    "mast_hst_results = mast_ssa_service.search(pos=position, diameter=diameter)\n",
    "mast_hst_results\n"
   ]
  },
  {
   "cell_type": "markdown",
   "metadata": {},
   "source": [
    "Note that `mast_hst_results` is not a list of tables as we had for `astroquery` queries. This time, we get a pyvo `resultset`. Thus the methods to handle the `resultset` are slightly different but can still be printed out with the `dir()` function which is generic in python. Let's find out which columns are available:"
   ]
  },
  {
   "cell_type": "code",
   "execution_count": null,
   "metadata": {},
   "outputs": [],
   "source": [
    "\n",
    "print('--- Available methods: ', dir(mast_hst_results))\n",
    "print('--- Name of columns: ', mast_hst_results.fieldnames)\n"
   ]
  },
  {
   "cell_type": "code",
   "execution_count": null,
   "metadata": {},
   "outputs": [],
   "source": [
    "for observation in mast_hst_results:\n",
    "    print(observation['object'])\n"
   ]
  },
  {
   "cell_type": "markdown",
   "metadata": {},
   "source": [
    "Often Quasars are further away than the Coma cluster, so let's check quickly on Simbad whether this source is interesting for further analysis. Usually a Simbad query would only return information on the object's identifier and coordinates. We are, however, also interested in its redshift, so we first create a customised Simbad query (as we did above for VizieR, for more details see [here](https://astroquery.readthedocs.io/en/latest/simbad/simbad.html#customizing-the-default-settings)) and then submit the query."
   ]
  },
  {
   "cell_type": "code",
   "execution_count": null,
   "metadata": {},
   "outputs": [],
   "source": [
    "custom_Simbad = Simbad()\n",
    "custom_Simbad.add_votable_fields('z_value')\n",
    "qso_table = custom_Simbad.query_object('QSO 1258+285')\n",
    "qso_table\n"
   ]
  },
  {
   "cell_type": "markdown",
   "metadata": {},
   "source": [
    "As you can see in the last column, the Quasar is at a redshift of 1.36. This is far beyond the Coma Cluster. Therefore, we focus on the source '1257+2840' for now. 1257+2840 is the last source in the list: we assign it to a new variable (`interesting_observation`). Then we exploit the functionalities of `resultset` to find out where the data is and what kind of file it is. "
   ]
  },
  {
   "cell_type": "code",
   "execution_count": null,
   "metadata": {},
   "outputs": [],
   "source": [
    "interesting_observation = mast_hst_results[-1]\n",
    "observation_url = interesting_observation.getdataurl()\n",
    "print(observation_url)\n"
   ]
  },
  {
   "cell_type": "markdown",
   "metadata": {},
   "source": [
    "### A quick analysis of the discovered spectrum\n",
    "\n",
    "With the previous step, we obtained a link to a fits file which we can download and open with `astropy`.  "
   ]
  },
  {
   "cell_type": "code",
   "execution_count": null,
   "metadata": {},
   "outputs": [],
   "source": [
    "spectrum_fits = fits.open(observation_url)\n",
    "spectrum_fits.info()\n"
   ]
  },
  {
   "cell_type": "code",
   "execution_count": null,
   "metadata": {
    "scrolled": true
   },
   "outputs": [],
   "source": [
    "spectrum_fits[1].header\n"
   ]
  },
  {
   "cell_type": "markdown",
   "metadata": {},
   "source": [
    "From the fits information and the header, it appears that we have three columns (listed in one axis though): \n",
    "- wavelength in Angstrom, \n",
    "- flux and flux error in $\\mathrm{erg \\cdot cm}^{-2} \\mathrm{s}^{-1} \\mathrm{\\r{A}}^{-1}$.\n",
    "\n",
    "For a first quick look we can plot the spectrum:"
   ]
  },
  {
   "cell_type": "code",
   "execution_count": null,
   "metadata": {},
   "outputs": [],
   "source": [
    "fig = plt.figure(figsize=(10.0, 8.0))\n",
    "ax = fig.add_axes([0.17, 0.17, 0.77, 0.77])\n",
    "ax.plot(spectrum_fits[1].data[0][0], spectrum_fits[1].data[0][1])\n",
    "ax.set_xlabel(r'Wavelength ($\\mathrm{\\AA}$)', fontsize=14)\n",
    "ax.set_ylabel(r'Flux ($\\mathrm{erg \\cdot cm}^{-2} \\mathrm{s}^{-1} \\mathrm{\\AA}^{-1}$)',\n",
    "              fontsize=14)\n"
   ]
  },
  {
   "cell_type": "markdown",
   "metadata": {},
   "source": [
    "It is a spectrum in the ultraviolet with two visible emission lines, one around $1220\\mathrm{\\r{A}}$ and one around $1330\\mathrm{\\r{A}}$. We know that wavelength at rest of the Lyman $\\alpha$ line is at $1216\\mathrm{\\r{A}}$. This spectrum might thus show Ly$\\alpha$ (atomic hydrogen, HI) emission of the Milky Way (hardly redshifted) and a redshifted extragalactic source. \n",
    "\n",
    "To investigate this further, we use the `specutils` package. First, we define a 1D spectrum: the data format that `specutils` accepts. "
   ]
  },
  {
   "cell_type": "code",
   "execution_count": null,
   "metadata": {},
   "outputs": [],
   "source": [
    "flux_unit = u.erg / u.cm**2 / u.s / u.Angstrom\n",
    "spectrum = Spectrum1D(spectral_axis=spectrum_fits[1].data[0][0] * u.Angstrom,\n",
    "                      flux=spectrum_fits[1].data[0][1] * flux_unit)\n",
    "spectrum\n"
   ]
  },
  {
   "cell_type": "markdown",
   "metadata": {},
   "source": [
    "Now we can use `specutils_analysis` functions to analyze the spectrum. Let's find the centroid of the two lines."
   ]
  },
  {
   "cell_type": "code",
   "execution_count": null,
   "metadata": {},
   "outputs": [],
   "source": [
    "# find the first peak, between 1200 and 1260 Angstrom\n",
    "centroid_Milky_Way = spec_ana.centroid(spectrum, SpectralRegion(1200 * u.Angstrom,\n",
    "                                                                1260 * u.Angstrom))\n",
    "# find the second peak, between 1300 and 1370 Angstrom\n",
    "centroid_second_peak = spec_ana.centroid(spectrum, SpectralRegion(1300 * u.Angstrom,\n",
    "                                                                  1370 * u.Angstrom))\n",
    "print('The centroid of the first peak is located at: ', centroid_Milky_Way)\n",
    "print('The centroid of the second peak is located at: ', centroid_second_peak)\n"
   ]
  },
  {
   "cell_type": "markdown",
   "metadata": {},
   "source": [
    "Indeed the first peak is centered around the rest wavelength of the Ly$\\alpha$ line. We may thus assume that this is the HI emission from the Milky Way in the foreground. Now assuming that the second line is also Ly$\\alpha$ emission, let's calculate the redshift and recession velocity:"
   ]
  },
  {
   "cell_type": "code",
   "execution_count": null,
   "metadata": {},
   "outputs": [],
   "source": [
    "rest_Ly_alpha = 1216.\n",
    "redshift_z = (centroid_second_peak.value - rest_Ly_alpha) / rest_Ly_alpha\n",
    "cz = redshift_z * c  # speed of light in km/s, defined before\n",
    "print(\n",
    "    f'The source has a redshift of {round(redshift_z, 3)} and a recession velocity of {round(cz, 2)} km/s ')\n"
   ]
  },
  {
   "cell_type": "markdown",
   "metadata": {},
   "source": [
    "Although this source is much closer than the Quasar, it is still further away than the Coma Cluster and thus not a member of the Cluster. \n",
    "\n",
    "An alternative to using `specutils` we can also use more generic python packages and fit the emission lines with simple Gaussians. Let's define the Gaussian:"
   ]
  },
  {
   "cell_type": "code",
   "execution_count": 5,
   "metadata": {},
   "outputs": [],
   "source": [
    "def gauss(x, height, peak_value, sigma):\n",
    "    \"\"\"Gaussian 1d function\n",
    "\n",
    "    Parameters\n",
    "    ----------\n",
    "    x : numpy 1d array or a list\n",
    "    height : float\n",
    "    peak_value : float\n",
    "    sigma : float\n",
    "\n",
    "    Returns\n",
    "    -------\n",
    "    numpy array\n",
    "    \"\"\"\n",
    "    return height * np.exp(-(np.asarray(x) - peak_value)**2. / (2 * sigma**2.))\n"
   ]
  },
  {
   "cell_type": "markdown",
   "metadata": {},
   "source": [
    "Next, we select the two parts of the spectrum where the emission lines are:"
   ]
  },
  {
   "cell_type": "code",
   "execution_count": null,
   "metadata": {},
   "outputs": [],
   "source": [
    "# separate wavelengths and fluxes in different objects\n",
    "spectrum_wavelengths = spectrum_fits[1].data[0][0]\n",
    "spectrum_flux = spectrum_fits[1].data[0][1]\n",
    "\n",
    "# make a mask to select wavelengths between 1190 and 1240 Angstrom\n",
    "mask_Milky_Way = np.where((spectrum_wavelengths < 1240.)\n",
    "                          & (spectrum_wavelengths > 1190))\n",
    "wavelengths_Milky_Way = spectrum_wavelengths[mask_Milky_Way]\n",
    "flux_Milky_Way = spectrum_flux[mask_Milky_Way]\n",
    "\n",
    "# make a mask to select wavelengths between 1300 and 1380 Angstrom\n",
    "mask_second_peak = np.where((spectrum_wavelengths < 1380)\n",
    "                            & (spectrum_wavelengths > 1300))\n",
    "wavelengths_second_peak = spectrum_wavelengths[mask_second_peak]\n",
    "flux_second_peak = spectrum_flux[mask_second_peak]\n"
   ]
  },
  {
   "cell_type": "markdown",
   "metadata": {},
   "source": [
    "The Gaussian fit is done with the `curve_fit` function of the `scipy.optimize` library."
   ]
  },
  {
   "cell_type": "code",
   "execution_count": null,
   "metadata": {},
   "outputs": [],
   "source": [
    "popt_Milky_Way_line, pcov_Milky_Way_line = curve_fit(gauss, wavelengths_Milky_Way,\n",
    "                                                     flux_Milky_Way,\n",
    "                                                     p0=[1.25e-13, 1220., 10.0])\n",
    "print(f\"\"\"The first peak, attributed to the Milky Way, has a \n",
    "central wavelength of {round(popt_Milky_Way_line[1], 2)} +/- {round(np.sqrt(np.diag(pcov_Milky_Way_line))[1], 2)} km/s.\"\"\")\n",
    "\n",
    "\n",
    "popt_second_line, pcov_second_line = curve_fit(gauss, wavelengths_second_peak,\n",
    "                                               flux_second_peak,\n",
    "                                               p0=[0.2e-13, 1330., 10.0])\n",
    "print(f\"\"\"\n",
    "The first peak, for the other object, has a \n",
    "central wavelength of {round(popt_second_line[1], 2)} +/- {round(np.sqrt(np.diag(pcov_second_line))[1], 2)} km/s.\"\"\")\n"
   ]
  },
  {
   "cell_type": "markdown",
   "metadata": {},
   "source": [
    "These values are close to the results from the `specutils` package. \n",
    "\n",
    "To further check the fitting results, we plot the data, our model, and residuals:"
   ]
  },
  {
   "cell_type": "code",
   "execution_count": null,
   "metadata": {},
   "outputs": [],
   "source": [
    "import wave\n",
    "\n",
    "\n",
    "fig, axes = plt.subplots(2, 1)\n",
    "\n",
    "# First plot is the data and models\n",
    "sns.lineplot(x=wavelengths_Milky_Way,\n",
    "             y=flux_Milky_Way, ax=axes[0])\n",
    "sns.lineplot(x=wavelengths_Milky_Way,\n",
    "             y=gauss(wavelengths_Milky_Way, *popt_Milky_Way_line), \n",
    "             ls='-', color='k', ax=axes[0])\n",
    "sns.lineplot(x=wavelengths_second_peak,\n",
    "             y=flux_second_peak, ax=axes[0])\n",
    "sns.lineplot(x=wavelengths_second_peak,\n",
    "             y=gauss(wavelengths_second_peak, *popt_second_line), \n",
    "             ls='-', color='k', ax=axes[0], label='gaussian fits')\n",
    "axes[0].legend()\n",
    "axes[0].set_ylabel('Flux [erg cm$^{-2}$ s$^{-1}$ $\\AA^{-1}$]')\n",
    "\n",
    "\n",
    "# Second plot is the residuals = data - model\n",
    "sns.lineplot(x=wavelengths_Milky_Way,\n",
    "             y=flux_Milky_Way - gauss(wavelengths_Milky_Way,\n",
    "                                      *popt_Milky_Way_line),\n",
    "             ax=axes[1]\n",
    "             )\n",
    "sns.lineplot(x=wavelengths_second_peak,\n",
    "             y=flux_second_peak -\n",
    "             gauss(wavelengths_second_peak, *popt_second_line),\n",
    "             ax=axes[1])\n",
    "axes[1].axhline(0, ls='--', c='k')\n",
    "axes[1].set_xlabel(r'Wavelength [$\\mathrm{\\AA}$]')\n",
    "axes[1].set_ylabel('Residual')\n"
   ]
  },
  {
   "cell_type": "markdown",
   "metadata": {},
   "source": [
    "While fitting a Gaussian to the emission lines provides very good results with regard to the central wavelength (and thus redshift) of the observed objects, the residuals show that the emission from the Milky Way is much more complicated. "
   ]
  },
  {
   "cell_type": "code",
   "execution_count": null,
   "metadata": {},
   "outputs": [],
   "source": [
    "# End of the tutorial\n",
    "spectrum_fits.close()\n"
   ]
  }
 ],
 "metadata": {
  "kernelspec": {
   "display_name": "Python 3.8.10 64-bit",
   "language": "python",
   "name": "python3"
  },
  "language_info": {
   "codemirror_mode": {
    "name": "ipython",
    "version": 3
   },
   "file_extension": ".py",
   "mimetype": "text/x-python",
   "name": "python",
   "nbconvert_exporter": "python",
   "pygments_lexer": "ipython3",
   "version": "3.8.10"
  },
  "vscode": {
   "interpreter": {
    "hash": "916dbcbb3f70747c44a77c7bcd40155683ae19c65e1c03b4aa3499c5328201f1"
   }
  },
  "widgets": {
   "application/vnd.jupyter.widget-state+json": {
    "state": {
     "0c13f7870adc4211b455bed945015dcf": {
      "model_module": "@jupyter-widgets/base",
      "model_module_version": "1.0.0",
      "model_name": "LayoutModel",
      "state": {}
     },
     "aa178e6e2fae4e91b9e23a3acf69ca1f": {
      "model_module": "jupyter-widget-ipyaladin",
      "model_module_version": "1.0.0",
      "model_name": "ModelAladin",
      "state": {
       "_dom_classes": [],
       "_model_module": "jupyter-widget-ipyaladin",
       "_model_module_version": "1.0.0",
       "_view_count": null,
       "_view_module": "jupyter-widget-ipyaladin",
       "_view_module_version": "",
       "allow_full_zoomout": false,
       "color_map_flag": true,
       "color_map_name": "",
       "coo_frame": "J2000",
       "fov": 1.40619,
       "full_screen": false,
       "layout": "IPY_MODEL_0c13f7870adc4211b455bed945015dcf",
       "listener_flag": true,
       "listener_type": "",
       "log": true,
       "moc_URL": "",
       "moc_dict": {},
       "moc_from_URL_flag": true,
       "moc_from_dict_flag": true,
       "moc_options": {},
       "options": [
        "show_reticle",
        "show_fullscreen_control",
        "show_share_control",
        "show_catalog",
        "target",
        "full_screen",
        "reticle_size",
        "show_layers_control",
        "show_zoom_control",
        "reticle_color",
        "show_coo_grid",
        "allow_full_zoomout",
        "show_goto_control",
        "coo_frame",
        "log",
        "fov",
        "show_frame",
        "survey"
       ],
       "reticle_color": "rgb(178, 50, 178)",
       "reticle_size": 22,
       "show_catalog": true,
       "show_coo_grid": false,
       "show_frame": true,
       "show_fullscreen_control": true,
       "show_goto_control": true,
       "show_layers_control": true,
       "show_reticle": true,
       "show_share_control": false,
       "show_zoom_control": true,
       "survey": "P/DSS2/color",
       "table_columns": [
        [
         194.88736,
         28.065691,
         7.1529998779296875,
         "nan"
        ],
        [
         194.640752,
         28.319632,
         10.307999610900879,
         "nan"
        ],
        [
         195.128886,
         28.458728,
         10.310999870300293,
         "nan"
        ],
        [
         195.541406,
         27.814279,
         11.22700023651123,
         "nan"
        ],
        [
         194.603873,
         27.657591,
         11.380999565124512,
         "nan"
        ],
        [
         194.670155,
         27.474267,
         7.789999961853027,
         "nan"
        ],
        [
         195.17432,
         28.510105,
         9.71500015258789,
         "nan"
        ],
        [
         195.295146,
         27.466945,
         10.520999908447266,
         "nan"
        ],
        [
         194.976192,
         28.631648,
         9.12399959564209,
         "nan"
        ],
        [
         195.082926,
         28.63682,
         10.666999816894531,
         "nan"
        ],
        [
         194.411009,
         28.43057,
         9.704999923706055,
         "nan"
        ]
       ],
       "table_flag": false,
       "table_keys": [
        "RA_ICRS",
        "DE_ICRS",
        "rmag",
        "zsp"
       ],
       "target": "194.952920 27.980560",
       "thumbnail_flag": true,
       "votable_URL": "",
       "votable_from_URL_flag": true,
       "votable_options": {}
      }
     }
    },
    "version_major": 2,
    "version_minor": 0
   }
  }
 },
 "nbformat": 4,
 "nbformat_minor": 2
}
