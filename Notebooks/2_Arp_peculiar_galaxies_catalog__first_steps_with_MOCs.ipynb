{
 "cells": [
  {
   "attachments": {},
   "cell_type": "markdown",
   "metadata": {},
   "source": [
    "# First Steps with MOCs _ an exploration of Arp catalog of peculiar galaxies\n",
    "\n",
    "Stefania Amodeo¹, Katarina A. Lutz¹, Manon Marchand¹\n",
    "\n",
    "1. Université de Strasbourg, CNRS, Observatoire Astronomique de Strasbourg, UMR 7550, F-67000, Strasbourg, France\n",
    "\n",
    "***\n",
    "\n",
    "## Introduction\n",
    "\n",
    "In this tutorial, we will explore Arp's Catalog of peculiar galaxies. Using Multi-Order Coverage maps, we will find in seconds wich galaxies are present in the Sloan Digital Sky Survey ([SDSS](https://www.sdss.org/ \"https://www.sdss.org/\")) and have been observed by the Galaxy Evolution Explorer ([GALEX](https://galex.stsci.edu/GR6/ \"https://galex.stsci.edu/GR6/\")) satellite.\n",
    "\n",
    "![<img src=\"Data/images/joachim_dietrich_02.jpg\" width=\"20\"/>](Data/images/joachim_dietrich_02.jpg)\n",
    "\n",
    "Figure: Arp147 taken by Joachim Dietrich. Credit: NASA & ESA"
   ]
  },
  {
   "cell_type": "code",
   "execution_count": 1,
   "metadata": {},
   "outputs": [],
   "source": [
    "# Astronomy tools\n",
    "import astropy.units as u\n",
    "from astropy.coordinates import SkyCoord\n",
    "\n",
    "# Access astronomical databases\n",
    "import pyvo\n",
    "from astroquery.cds import cds\n",
    "from astroquery.vizier import Vizier\n",
    "\n",
    "# Sky visualization\n",
    "import ipyaladin.aladin_widget as ipyal"
   ]
  },
  {
   "cell_type": "markdown",
   "metadata": {},
   "source": [
    "## Find and download tables from VizieR\n",
    "\n",
    "[![Vizier](https://custom-icon-badges.demolab.com/badge/Vizier-gray.svg?logo=vizier&logoColor=orange&logoWidth=20)](https://vizier.cds.unistra.fr/viz-bin/VizieR \"https://vizier.cds.unistra.fr/viz-bin/VizieR\")\n",
    "\n",
    "We use the `Vizier` sub-module from the `astroquery` module. \n",
    "\n",
    "We will explore the [Arp's Catalog of Peculiar Galaxies](http://arpgalaxy.com/) compiled by [Halton C. Arp](https://www.haltonarp.com/) and published by Denis Webb.\n",
    "\n",
    "Hence, we ask `Vizier` to find all catalogues that have a match with the keywords 'Arp Webb' and write the result into the variable `catalog_list_arp` (first line of code). Then we tell Python to `print` out the query result in a readable way (second line of code).  "
   ]
  },
  {
   "cell_type": "code",
   "execution_count": 3,
   "metadata": {
    "scrolled": true,
    "tags": []
   },
   "outputs": [
    {
     "name": "stdout",
     "output_type": "stream",
     "text": [
      "VII/13 :  Globular-Cluster Catalog (Arp 1965)\n",
      "VII/74A :  Atlas of Peculiar Galaxies (Arp 1966)\n",
      "VII/170 :  Catalogue of Southern Peculiar Galaxies and Associations (Arp+, 1987)\n",
      "VII/192 :  Arp's Peculiar Galaxies (Webb 1996)\n",
      "J/ApJ/641/763 :  UBVI photometry for Arp 220 star clusters (Wilson+, 2006)\n",
      "J/ApJ/660/167 :  Spitzer AGN candidates in CDFN (Donley+, 2007)\n",
      "J/ApJ/799/10 :  Arp 220 6 and 33GHz images (Barcos-Munoz+, 2015)\n",
      "J/A+A/319/33 :  Identification of X-ray sources around Seyferts (Arp 1997)\n",
      "J/A+A/396/473 :  VI Photometry in M81 Group (Makarova+ 2002)\n",
      "J/A+A/529/A104 :  Coordinates for Arp's Baade's Window stars (Church+, 2011)\n",
      "J/A+A/559/A10 :  Arp 102B spectral optical monitoring (Shapovalova+, 2013)\n",
      "J/A+A/568/A90 :  Herschel/SPIRE spectra in Arp 299 (Rosenberg+, 2014)\n",
      "J/A+A/587/A78 :  LARS VIII. Spatially resolved Halpha kinematics (Herenz+, 2016)\n",
      "J/A+A/590/A25 :  Arp 220 HCN and HCO^+^ data cubes (Martin+, 2016)\n",
      "J/A+A/593/A86 :  Arp 220 LOFAR radio images at 150MHz (Varenius+, 2016)\n",
      "J/A+A/621/A25 :  Arp 240 Fabry-Perot interferometry (Fuentes-Carrera+, 2019)\n",
      "J/A+A/623/A173 :  SNe/SNRs in starburst galaxy Arp 220 (Varenius+, 2019)\n",
      "J/A+A/658/A4 :  LOFAR imaging of Arp299 at 150MHz (Ramirez-Olivencia, 2022)\n",
      "J/A+A/665/A8 :  Extra-tidal star candidates in Sgr dSph Galaxy (Kundu+, 2022)\n",
      "J/A+AS/31/439 :  A Survey of HII Regions in M31 (Pellet+ 1978)\n",
      "J/A+AS/129/455 :  Dwarf galaxy candidates around interacting galaxies (Deeg+ 1998)\n",
      "J/AJ/64/28 :  Photometry in the globular cluster M22 (Arp+, 1959)\n",
      "J/AJ/109/650 :  Arp 2 ( Buonanno+ 1995)\n",
      "J/AJ/136/614 :  Arp 2 and Ter 8 red giants equivalent widths (Mottini+, 2008)\n",
      "J/AJ/143/144 :  ULX candidates in nearby Arp galaxies (Smith+, 2012)\n",
      "J/MNRAS/432/998 :  Kinematics of Arp 270 (NGC 3395) (Zaragoza-Cardiel+, 2013)\n",
      "J/MNRAS/482/2530 :  Young massive clusters in LIRG Arp 299 (Randriamanakoto+, 2019)\n",
      "J/other/RAA/14.1393 :  HII regions in interacting system Arp 86 (Zhou+, 2014)\n"
     ]
    },
    {
     "name": "stderr",
     "output_type": "stream",
     "text": [
      "WARNING: UnitsWarning: The unit 'pix' has been deprecated in the VOUnit standard. [astropy.units.format.utils]\n",
      "WARNING: UnitsWarning: The unit 'ct' has been deprecated in the VOUnit standard. [astropy.units.format.utils]\n"
     ]
    }
   ],
   "source": [
    "catalog_list_arp = Vizier.find_catalogs(\"Arp\")\n",
    "for k, v in catalog_list_arp.items():\n",
    "    print(k, \": \", v.description)"
   ]
  },
  {
   "cell_type": "markdown",
   "metadata": {},
   "source": [
    "Alternatively you can also search for the table with `pyvo` using the Table Access Protocol (TAP) to query VizieR. In this case, you first need to define the TAP endpoint of VizieR and then send a query written in ADQL (an SQL-like query language optimised for astronomy) to this endpoint. Finally we again print out the result of this query."
   ]
  },
  {
   "cell_type": "code",
   "execution_count": 5,
   "metadata": {
    "scrolled": true,
    "tags": [
     "output_scroll"
    ]
   },
   "outputs": [
    {
     "data": {
      "text/html": [
       "<div><i>Table length=21</i>\n",
       "<table id=\"table139684620651104\" class=\"table-striped table-bordered table-condensed\">\n",
       "<thead><tr><th>table_name</th><th>description</th></tr></thead>\n",
       "<thead><tr><th>object</th><th>object</th></tr></thead>\n",
       "<tr><td>J/ApJS/176/374/warps</td><td>WARPS-II catalog, with additional  clusters and candidates ( Horner D.J., Perlman E.S., Ebeling H., Jones L.R., Scharf C.A., Wegner G., Malkan M., Maughan B.)</td></tr>\n",
       "<tr><td>J/A+A/664/A53/harps15</td><td>RV data taken with HARPS spectrograph ( Stalport M., Delisle J.-B., Udry S., Matthews E., Bourrier V., Leleu A.)</td></tr>\n",
       "<tr><td>J/A+A/614/A133/harps_b</td><td>HARPS measurements of HD215152 taken after the fiber upgrade ( Delisle J.-B., Segransan D., Dumusque X., et al.)</td></tr>\n",
       "<tr><td>J/MNRAS/511/1043/harpsccf</td><td>HARPS CCF SCALPELS data ( Wilson T.G., Goffo E., Alibert Y., et al.)</td></tr>\n",
       "<tr><td>J/A+A/614/A133/harps_a</td><td>HARPS measurements of HD215152 taken before the fiber upgrade ( Delisle J.-B., Segransan D., Dumusque X., et al.)</td></tr>\n",
       "<tr><td>J/A+A/629/A111/harps</td><td>HARPS time-series ( Cloutier R., Astudillo-Defru N., Bonfils X., et al.)</td></tr>\n",
       "<tr><td>J/A+A/666/A143/harps</td><td>HARPS-S radial velocities of AD Leo (table A4) ( Kossakowski D., Kuerster M., Henning T., et al.)</td></tr>\n",
       "<tr><td>VII/192/arpord</td><td>list of Arp views with imaging data ( Webb D.)</td></tr>\n",
       "<tr><td>J/A+A/665/A8/arp2</td><td>Extra-tidal stars belonging to Arp 2 ( Kundu R., Navarrete C., Sbordone L., Carballo-Bello J.A., Fernandez-Trincado J.G., Minniti D., Singh H.P.)</td></tr>\n",
       "<tr><td>J/A+A/666/A143/harps-a</td><td>HARPS-S stellar activity indicators of AD Leo (Fig. C3) ( Kossakowski D., Kuerster M., Henning T., et al.)</td></tr>\n",
       "<tr><td>J/A+A/612/A95/rvharps</td><td>HARPS RV measurements ( Barragan O., Gandolfi D., Dai F., et al.)</td></tr>\n",
       "<tr><td>J/other/RMxAA/40.209/varphot</td><td>CCD time-series V and R photometry of 15 variables in NGC 4147 ( Arellano Ferro A., Arevalo M.J., Lazaro C., Rey M., Bramich D.M., Giridhar S.)</td></tr>\n",
       "<tr><td>J/ApJ/898/L11/harps</td><td>HARPS radial velocity time series (data behind Figure 1) ( Gill S., Wheatley P.J., Cooke B.F., et al.)</td></tr>\n",
       "<tr><td>I/256/varpos</td><td>Variable star positions ( Copenhagen University Obs., Royal Greenwich Obs., and Real Instituto y Observatorio de la Armada en San Fernando)</td></tr>\n",
       "<tr><td>J/other/PDDO/1.511/varphot</td><td>Time-series photographic photometry of 12 variables in Messier 9 (NGC 6333) ( Sawyer H.B.)</td></tr>\n",
       "<tr><td>J/A+A/501/785/harps</td><td>WASP-6 radial velocities obtained by the spectrograph HARPS ( Gillon M., Anderson D.R., Triaud A.H.M.J., et al.)</td></tr>\n",
       "<tr><td>VII/192/arplist</td><td>list and info for involved galaxies ( Webb D.)</td></tr>\n",
       "<tr><td>J/MNRAS/511/1043/harpsraw</td><td>HARPS raw data ( Wilson T.G., Goffo E., Alibert Y., et al.)</td></tr>\n",
       "<tr><td>J/A+A/664/A53/harps03</td><td>RV data taken with HARPS spectrograph ( Stalport M., Delisle J.-B., Udry S., Matthews E., Bourrier V., Leleu A.)</td></tr>\n",
       "<tr><td>J/MNRAS/372/69/varphot</td><td>CCD time-series V and R photometry of 30 variables in M2 (NGC7089) ( Lazaro C., Arellano Ferro A., Arevalo A., Bramich D.M., Giridhar S., Poretti E.)</td></tr>\n",
       "<tr><td>J/A+A/568/A81/rv_harps</td><td>HARPS radial velocities ( Lendl M., Triaud A.H.M.J., Anderson D.R., et al.)</td></tr>\n",
       "</table></div>"
      ],
      "text/plain": [
       "<Table length=21>\n",
       "         table_name          ...\n",
       "           object            ...\n",
       "---------------------------- ...\n",
       "        J/ApJS/176/374/warps ...\n",
       "       J/A+A/664/A53/harps15 ...\n",
       "      J/A+A/614/A133/harps_b ...\n",
       "   J/MNRAS/511/1043/harpsccf ...\n",
       "      J/A+A/614/A133/harps_a ...\n",
       "        J/A+A/629/A111/harps ...\n",
       "        J/A+A/666/A143/harps ...\n",
       "              VII/192/arpord ...\n",
       "           J/A+A/665/A8/arp2 ...\n",
       "      J/A+A/666/A143/harps-a ...\n",
       "       J/A+A/612/A95/rvharps ...\n",
       "J/other/RMxAA/40.209/varphot ...\n",
       "         J/ApJ/898/L11/harps ...\n",
       "                I/256/varpos ...\n",
       "  J/other/PDDO/1.511/varphot ...\n",
       "         J/A+A/501/785/harps ...\n",
       "             VII/192/arplist ...\n",
       "   J/MNRAS/511/1043/harpsraw ...\n",
       "       J/A+A/664/A53/harps03 ...\n",
       "      J/MNRAS/372/69/varphot ...\n",
       "      J/A+A/568/A81/rv_harps ..."
      ]
     },
     "execution_count": 5,
     "metadata": {},
     "output_type": "execute_result"
    }
   ],
   "source": [
    "tap_vizier = pyvo.dal.TAPService(\"https://tapvizier.cds.unistra.fr/TAPVizieR/tap/\")\n",
    "query = \"\"\"SELECT  *  FROM tap_schema.tables \n",
    "               WHERE table_name LIKE '%arp%' \"\"\"\n",
    "catalog_list_arp = tap_vizier.search(query).to_table()\n",
    "catalog_list_arp[\"table_name\", \"description\"]"
   ]
  },
  {
   "cell_type": "markdown",
   "metadata": {},
   "source": [
    "The catalogue that we are interested in today is `VII/192` and its description is \"Arp's Peculiar Galaxies (Webb 1996)\". In the TAP query we already see that there are two tables in this catalogue: `VII/192/arplist` and `VII/192/arpord`. To be able to work with these data, let's load them into this notebook. \n",
    "\n",
    "Again we can use either `astroquery` or `pyvo`. Which one you chose is up to you and which one you like better.\n",
    "\n",
    "In oder to get the full catalogue with `astroquery`, we first set the row limit to infinite (i.e. `-1` in the notation of this package) and then ask `Vizier` to write the content of the catalogue into the variable `catalogs_arp`:"
   ]
  },
  {
   "cell_type": "code",
   "execution_count": 6,
   "metadata": {},
   "outputs": [],
   "source": [
    "catalogs_arp = Vizier(row_limit=-1).get_catalogs(\"VII/192\")"
   ]
  },
  {
   "cell_type": "markdown",
   "metadata": {},
   "source": [
    "Now let's inspect, what we got:"
   ]
  },
  {
   "cell_type": "code",
   "execution_count": 7,
   "metadata": {},
   "outputs": [
    {
     "name": "stdout",
     "output_type": "stream",
     "text": [
      "TableList with 2 tables:\n",
      "\t'0:VII/192/arpord' with 12 column(s) and 338 row(s) \n",
      "\t'1:VII/192/arplist' with 13 column(s) and 592 row(s) \n"
     ]
    }
   ],
   "source": [
    "print(catalogs_arp)"
   ]
  },
  {
   "cell_type": "markdown",
   "metadata": {},
   "source": [
    "As we have seen in the first part of the tutorial, the catalogue \"Arp's Peculiar Galaxies (Webb 1996)\" comes with two tables: arpord and arplist. As you can see from the printout `Vizier` has downloaded both of them. However, we are still only interested in the arplist (index `1` in the TableList). Therefore, we make Python write only the arplist table into a new variable `table_arplist` (first line) and then display the table (second line):"
   ]
  },
  {
   "cell_type": "code",
   "execution_count": 9,
   "metadata": {
    "scrolled": true,
    "tags": [
     "output_scroll"
    ]
   },
   "outputs": [
    {
     "data": {
      "text/html": [
       "<div><i>Table length=592</i>\n",
       "<table id=\"table139683637777840\" class=\"table-striped table-bordered table-condensed\">\n",
       "<thead><tr><th>Arp</th><th>Name</th><th>VT</th><th>u_VT</th><th>dim1</th><th>dim2</th><th>u_dim2</th><th>MType</th><th>Uchart</th><th>RAJ2000</th><th>DEJ2000</th><th>Simbad</th><th>NED</th></tr></thead>\n",
       "<thead><tr><th></th><th></th><th>mag</th><th></th><th>arcmin</th><th>arcmin</th><th></th><th></th><th></th><th>&apos;h:m:s&apos;</th><th>&apos;d:m:s&apos;</th><th></th><th></th></tr></thead>\n",
       "<thead><tr><th>int16</th><th>str16</th><th>float32</th><th>str1</th><th>float32</th><th>float32</th><th>str1</th><th>str14</th><th>int16</th><th>str10</th><th>str9</th><th>str6</th><th>str3</th></tr></thead>\n",
       "<tr><td>249</td><td>UGC 12891</td><td>16.2</td><td></td><td>--</td><td>--</td><td></td><td></td><td>--</td><td>00 00 19.3</td><td>+22 59 26</td><td>Simbad</td><td>NED</td></tr>\n",
       "<tr><td>249</td><td>UGC 12891</td><td>16.2</td><td></td><td>1.3</td><td>0.5</td><td></td><td></td><td>--</td><td>00 00 21.6</td><td>+22 59 42</td><td>Simbad</td><td>NED</td></tr>\n",
       "<tr><td>112</td><td>NGC 7805</td><td>13.3</td><td></td><td>1.2</td><td>0.9</td><td></td><td>SAB0^0: pec</td><td>89</td><td>00 01 26.9</td><td>+31 26 02</td><td>Simbad</td><td>NED</td></tr>\n",
       "<tr><td>112</td><td>NGC 7806</td><td>13.5</td><td></td><td>1.1</td><td>0.8</td><td></td><td>SA(rs)bc? pec</td><td>89</td><td>00 01 30.2</td><td>+31 26 33</td><td>Simbad</td><td>NED</td></tr>\n",
       "<tr><td>130</td><td>IC 5378</td><td>15.6</td><td></td><td>0.5</td><td>--</td><td></td><td>SBc</td><td>--</td><td>00 02 37.7</td><td>+16 39 08</td><td>Simbad</td><td>NED</td></tr>\n",
       "<tr><td>130</td><td>IC 5378</td><td>15.3</td><td></td><td>--</td><td>--</td><td></td><td>E</td><td>--</td><td>00 02 37.8</td><td>+16 38 37</td><td>Simbad</td><td>NED</td></tr>\n",
       "<tr><td>51</td><td>MGC-02-01-24</td><td>15.0</td><td></td><td>0.8</td><td>--</td><td></td><td></td><td>--</td><td>00 06 16.8</td><td>-13 26 53</td><td>Simbad</td><td>NED</td></tr>\n",
       "<tr><td>144</td><td>NGC 7828</td><td>14.4</td><td></td><td>0.9</td><td>0.5</td><td></td><td>Ring A</td><td>260</td><td>00 06 27.1</td><td>-13 24 58</td><td>Simbad</td><td>NED</td></tr>\n",
       "<tr><td>144</td><td>NGC 7829</td><td>14.6</td><td></td><td>0.7</td><td>--</td><td></td><td>Ring B pec</td><td>260</td><td>00 06 29.0</td><td>-13 25 15</td><td>Simbad</td><td>NED</td></tr>\n",
       "<tr><td>...</td><td>...</td><td>...</td><td>...</td><td>...</td><td>...</td><td>...</td><td>...</td><td>...</td><td>...</td><td>...</td><td>...</td><td>...</td></tr>\n",
       "<tr><td>295</td><td>ARP 295</td><td>14.6</td><td></td><td>0.9</td><td>0.5</td><td>?</td><td>Sb pec</td><td>--</td><td>23 42 04.1</td><td>-03 35 21</td><td>Simbad</td><td>NED</td></tr>\n",
       "<tr><td>86</td><td>NGC 7752</td><td>14.3</td><td></td><td>0.8</td><td>0.5</td><td>?</td><td>I0:</td><td>89</td><td>23 46 58.5</td><td>+29 27 32</td><td>Simbad</td><td>NED</td></tr>\n",
       "<tr><td>86</td><td>NGC 7753</td><td>12.0</td><td></td><td>3.3</td><td>2.1</td><td></td><td>SAB(rs)bc I</td><td>89</td><td>23 47 04.7</td><td>+29 29 01</td><td>Simbad</td><td>NED</td></tr>\n",
       "<tr><td>68</td><td>NGC 7757</td><td>12.7</td><td></td><td>2.5</td><td>1.8</td><td></td><td>SAB(rs)c</td><td>215</td><td>23 48 45.1</td><td>+04 10 24</td><td>Simbad</td><td>NED</td></tr>\n",
       "<tr><td>323</td><td>NGC 7783</td><td>13.0</td><td></td><td>1.3</td><td>0.6</td><td></td><td>S0^0: sp</td><td>215</td><td>23 54 10.0</td><td>+00 22 58</td><td>Simbad</td><td>NED</td></tr>\n",
       "<tr><td>323</td><td>NGC 7783B</td><td>14.0</td><td></td><td>0.4</td><td>0.3</td><td></td><td>S0</td><td>215</td><td>23 54 12.0</td><td>+00 22 38</td><td>Simbad</td><td>NED</td></tr>\n",
       "<tr><td>262</td><td>MCG+03-01-003</td><td>14.6</td><td></td><td>0.5</td><td>0.4</td><td></td><td>S</td><td>125</td><td>23 56 43.8</td><td>+16 48 27</td><td>Simbad</td><td>NED</td></tr>\n",
       "<tr><td>262</td><td>UGC 12856</td><td>13.2</td><td></td><td>2.4</td><td>--</td><td></td><td>IB(s)m</td><td>125</td><td>23 56 44.9</td><td>+16 48 45</td><td>Simbad</td><td>NED</td></tr>\n",
       "<tr><td>50</td><td>IC 1520</td><td>14.0</td><td></td><td>0.5</td><td>0.5</td><td></td><td></td><td>--</td><td>23 57 58.0</td><td>-14 01 48</td><td>Simbad</td><td>NED</td></tr>\n",
       "</table></div>"
      ],
      "text/plain": [
       "<Table length=592>\n",
       " Arp       Name        VT   u_VT   dim1    dim2  u_dim2     MType     Uchart  RAJ2000    DEJ2000  Simbad NED \n",
       "                      mag         arcmin  arcmin                              'h:m:s'    'd:m:s'             \n",
       "int16     str16     float32 str1 float32 float32  str1      str14     int16    str10       str9    str6  str3\n",
       "----- ------------- ------- ---- ------- ------- ------ ------------- ------ ---------- --------- ------ ----\n",
       "  249     UGC 12891    16.2           --      --                          -- 00 00 19.3 +22 59 26 Simbad  NED\n",
       "  249     UGC 12891    16.2          1.3     0.5                          -- 00 00 21.6 +22 59 42 Simbad  NED\n",
       "  112      NGC 7805    13.3          1.2     0.9          SAB0^0: pec     89 00 01 26.9 +31 26 02 Simbad  NED\n",
       "  112      NGC 7806    13.5          1.1     0.8        SA(rs)bc? pec     89 00 01 30.2 +31 26 33 Simbad  NED\n",
       "  130       IC 5378    15.6          0.5      --                  SBc     -- 00 02 37.7 +16 39 08 Simbad  NED\n",
       "  130       IC 5378    15.3           --      --                    E     -- 00 02 37.8 +16 38 37 Simbad  NED\n",
       "   51  MGC-02-01-24    15.0          0.8      --                          -- 00 06 16.8 -13 26 53 Simbad  NED\n",
       "  144      NGC 7828    14.4          0.9     0.5               Ring A    260 00 06 27.1 -13 24 58 Simbad  NED\n",
       "  144      NGC 7829    14.6          0.7      --           Ring B pec    260 00 06 29.0 -13 25 15 Simbad  NED\n",
       "  ...           ...     ...  ...     ...     ...    ...           ...    ...        ...       ...    ...  ...\n",
       "  295       ARP 295    14.6          0.9     0.5      ?        Sb pec     -- 23 42 04.1 -03 35 21 Simbad  NED\n",
       "   86      NGC 7752    14.3          0.8     0.5      ?           I0:     89 23 46 58.5 +29 27 32 Simbad  NED\n",
       "   86      NGC 7753    12.0          3.3     2.1          SAB(rs)bc I     89 23 47 04.7 +29 29 01 Simbad  NED\n",
       "   68      NGC 7757    12.7          2.5     1.8             SAB(rs)c    215 23 48 45.1 +04 10 24 Simbad  NED\n",
       "  323      NGC 7783    13.0          1.3     0.6             S0^0: sp    215 23 54 10.0 +00 22 58 Simbad  NED\n",
       "  323     NGC 7783B    14.0          0.4     0.3                   S0    215 23 54 12.0 +00 22 38 Simbad  NED\n",
       "  262 MCG+03-01-003    14.6          0.5     0.4                    S    125 23 56 43.8 +16 48 27 Simbad  NED\n",
       "  262     UGC 12856    13.2          2.4      --               IB(s)m    125 23 56 44.9 +16 48 45 Simbad  NED\n",
       "   50       IC 1520    14.0          0.5     0.5                          -- 23 57 58.0 -14 01 48 Simbad  NED"
      ]
     },
     "execution_count": 9,
     "metadata": {},
     "output_type": "execute_result"
    }
   ],
   "source": [
    "table_arplist = catalogs_arp[1]\n",
    "table_arplist"
   ]
  },
  {
   "cell_type": "markdown",
   "metadata": {},
   "source": [
    "Nice, we got the data we want. Before moving on, let's have a look at how to use `pyVO` to get the same table. Just for safety we define again the VizieR TAP endpoint. It is the same one as above, but if the cells of this notebook are not run one after another, this safety measure ensure we always query the right service.\n",
    "\n",
    "Then we write a simple query telling VizieR that we want all the rows and all `*` the columns from the table `VII/192/arplist`. Note that we have to encompass the table name with quotation marks due to the special character `/` in the table name. "
   ]
  },
  {
   "cell_type": "code",
   "execution_count": 10,
   "metadata": {
    "scrolled": true,
    "tags": [
     "output_scroll"
    ]
   },
   "outputs": [
    {
     "data": {
      "text/html": [
       "<div><i>Table length=592</i>\n",
       "<table id=\"table139684620724208\" class=\"table-striped table-bordered table-condensed\">\n",
       "<thead><tr><th>recno</th><th>Arp</th><th>Name</th><th>VT</th><th>u_VT</th><th>dim1</th><th>dim2</th><th>u_dim2</th><th>MType</th><th>Uchart</th><th>RAJ2000</th><th>DEJ2000</th></tr></thead>\n",
       "<thead><tr><th></th><th></th><th></th><th>mag</th><th></th><th>arcmin</th><th>arcmin</th><th></th><th></th><th></th><th>deg</th><th>deg</th></tr></thead>\n",
       "<thead><tr><th>int32</th><th>int16</th><th>object</th><th>float64</th><th>str1</th><th>float64</th><th>float64</th><th>str1</th><th>object</th><th>int16</th><th>float64</th><th>float64</th></tr></thead>\n",
       "<tr><td>112</td><td>333</td><td>NGC 1024</td><td>12.1</td><td></td><td>3.9</td><td>1.4</td><td></td><td>(R&apos;)SA(r)ab</td><td>175</td><td>39.80083333333333</td><td>10.847222222222221</td></tr>\n",
       "<tr><td>120</td><td>200</td><td>NGC 1134</td><td>12.1</td><td></td><td>2.5</td><td>0.9</td><td></td><td>S?</td><td>175</td><td>43.42124999999999</td><td>13.015277777777776</td></tr>\n",
       "<tr><td>119</td><td>190</td><td>UGC 02320</td><td>15.2</td><td></td><td>0.5</td><td>0.3</td><td></td><td>Multiple Sys</td><td>--</td><td>42.58291666666666</td><td>12.889444444444443</td></tr>\n",
       "<tr><td>89</td><td>290</td><td>IC 0195</td><td>14.3</td><td></td><td>1.6</td><td>0.8</td><td></td><td>S0</td><td>--</td><td>30.935833333333328</td><td>14.708611111111109</td></tr>\n",
       "<tr><td>90</td><td>290</td><td>IC 0196</td><td>14.2</td><td></td><td>2.8</td><td>1.4</td><td></td><td>S0-</td><td>--</td><td>30.95833333333333</td><td>14.73972222222222</td></tr>\n",
       "<tr><td>111</td><td>258</td><td>UGC 02140A</td><td>15.5</td><td></td><td>0.9</td><td>0.2</td><td></td><td>SB.0*/</td><td>--</td><td>39.78874999999999</td><td>18.367499999999996</td></tr>\n",
       "<tr><td>110</td><td>258</td><td>UGC 02140</td><td>15.4</td><td></td><td>1.7</td><td>0.7</td><td></td><td>IBS9P</td><td>--</td><td>39.77583333333333</td><td>18.382777777777775</td></tr>\n",
       "<tr><td>109</td><td>258</td><td>Hickson 18C</td><td>16.1</td><td></td><td>--</td><td>--</td><td></td><td>S?</td><td>--</td><td>39.774583333333325</td><td>18.388333333333332</td></tr>\n",
       "<tr><td>108</td><td>258</td><td>Hickson 18D</td><td>14.6</td><td></td><td>--</td><td>--</td><td></td><td>S?</td><td>--</td><td>39.76916666666666</td><td>18.393888888888885</td></tr>\n",
       "<tr><td>...</td><td>...</td><td>...</td><td>...</td><td>...</td><td>...</td><td>...</td><td>...</td><td>...</td><td>...</td><td>...</td><td>...</td></tr>\n",
       "<tr><td>464</td><td>261</td><td>ARP 261</td><td>--</td><td></td><td>--</td><td>--</td><td></td><td></td><td>--</td><td>222.38624999999996</td><td>-10.163055555555554</td></tr>\n",
       "<tr><td>463</td><td>261</td><td>ARP 261</td><td>--</td><td></td><td>--</td><td>--</td><td></td><td></td><td>--</td><td>222.38624999999996</td><td>-10.156666666666665</td></tr>\n",
       "<tr><td>549</td><td>14</td><td>NGC 7314</td><td>10.9</td><td></td><td>4.6</td><td>2.1</td><td></td><td>SAB(rs)c: II</td><td>347</td><td>338.94041666666664</td><td>-26.05083333333333</td></tr>\n",
       "<tr><td>547</td><td>93</td><td>NGC 7284</td><td>11.9</td><td></td><td>2.1</td><td>1.5</td><td></td><td>SB(s)0^0 pec</td><td>347</td><td>337.15</td><td>-24.844166666666663</td></tr>\n",
       "<tr><td>548</td><td>93</td><td>NGC 7285</td><td>11.9</td><td></td><td>2.4</td><td>1.4</td><td></td><td>SB(rs)a pec</td><td>347</td><td>337.1583333333333</td><td>-24.84083333333333</td></tr>\n",
       "<tr><td>546</td><td>226</td><td>NGC 7252</td><td>11.4</td><td></td><td>2.0</td><td>1.6</td><td></td><td>SAB0^0? pec</td><td>347</td><td>335.1866666666666</td><td>-24.678611111111106</td></tr>\n",
       "<tr><td>541</td><td>325</td><td>ESO 601- G 018</td><td>16.1</td><td></td><td>--</td><td>--</td><td></td><td></td><td>--</td><td>331.6008333333333</td><td>-21.079166666666662</td></tr>\n",
       "<tr><td>540</td><td>325</td><td>ESO 601- G 018</td><td>17.9</td><td></td><td>--</td><td>--</td><td></td><td></td><td>--</td><td>331.59666666666664</td><td>-21.077499999999997</td></tr>\n",
       "<tr><td>539</td><td>325</td><td>ESO 601- G 018</td><td>18.1</td><td></td><td>1.7</td><td>0.7</td><td></td><td></td><td>--</td><td>331.5925</td><td>-21.072499999999998</td></tr>\n",
       "</table></div>"
      ],
      "text/plain": [
       "<Table length=592>\n",
       "recno  Arp       Name         VT   u_VT   dim1    dim2  u_dim2    MType     Uchart      RAJ2000             DEJ2000      \n",
       "                             mag         arcmin  arcmin                                   deg                 deg        \n",
       "int32 int16     object     float64 str1 float64 float64  str1     object    int16       float64             float64      \n",
       "----- ----- -------------- ------- ---- ------- ------- ------ ------------ ------ ------------------ -------------------\n",
       "  112   333       NGC 1024    12.1          3.9     1.4         (R')SA(r)ab    175  39.80083333333333  10.847222222222221\n",
       "  120   200       NGC 1134    12.1          2.5     0.9                  S?    175  43.42124999999999  13.015277777777776\n",
       "  119   190      UGC 02320    15.2          0.5     0.3        Multiple Sys     --  42.58291666666666  12.889444444444443\n",
       "   89   290        IC 0195    14.3          1.6     0.8                  S0     -- 30.935833333333328  14.708611111111109\n",
       "   90   290        IC 0196    14.2          2.8     1.4                 S0-     --  30.95833333333333   14.73972222222222\n",
       "  111   258     UGC 02140A    15.5          0.9     0.2              SB.0*/     --  39.78874999999999  18.367499999999996\n",
       "  110   258      UGC 02140    15.4          1.7     0.7               IBS9P     --  39.77583333333333  18.382777777777775\n",
       "  109   258    Hickson 18C    16.1           --      --                  S?     -- 39.774583333333325  18.388333333333332\n",
       "  108   258    Hickson 18D    14.6           --      --                  S?     --  39.76916666666666  18.393888888888885\n",
       "  ...   ...            ...     ...  ...     ...     ...    ...          ...    ...                ...                 ...\n",
       "  464   261        ARP 261      --           --      --                         -- 222.38624999999996 -10.163055555555554\n",
       "  463   261        ARP 261      --           --      --                         -- 222.38624999999996 -10.156666666666665\n",
       "  549    14       NGC 7314    10.9          4.6     2.1        SAB(rs)c: II    347 338.94041666666664  -26.05083333333333\n",
       "  547    93       NGC 7284    11.9          2.1     1.5        SB(s)0^0 pec    347             337.15 -24.844166666666663\n",
       "  548    93       NGC 7285    11.9          2.4     1.4         SB(rs)a pec    347  337.1583333333333  -24.84083333333333\n",
       "  546   226       NGC 7252    11.4          2.0     1.6         SAB0^0? pec    347  335.1866666666666 -24.678611111111106\n",
       "  541   325 ESO 601- G 018    16.1           --      --                         --  331.6008333333333 -21.079166666666662\n",
       "  540   325 ESO 601- G 018    17.9           --      --                         -- 331.59666666666664 -21.077499999999997\n",
       "  539   325 ESO 601- G 018    18.1          1.7     0.7                         --           331.5925 -21.072499999999998"
      ]
     },
     "execution_count": 10,
     "metadata": {},
     "output_type": "execute_result"
    }
   ],
   "source": [
    "query = \"\"\"SELECT  *  FROM \"VII/192/arplist\" \"\"\"\n",
    "table_arplist = tap_vizier.search(query).to_table()\n",
    "table_arplist"
   ]
  },
  {
   "cell_type": "markdown",
   "metadata": {},
   "source": [
    "There we go, we now know two nifty ways to get VizieR tables with Python. Obviously there are many other things you can do with this tools. For example if you set your TAP endpoint to `https://simbad.cds.unistra.fr/simbad/sim-tap` instead of the VizieR enpoint, you can query SIMBAD just like that. "
   ]
  },
  {
   "cell_type": "markdown",
   "metadata": {},
   "source": [
    "[![Aladin](https://custom-icon-badges.demolab.com/badge/Aladin-gray.svg?logo=aladin&logoColor=purple&logoWidth=20)](https://aladin.cds.unistra.fr/aladin.gml \"https://aladin.cds.unistra.fr/aladin.gml\")\n",
    "\n",
    "Note that not all rows but only the first and last 10 rows for all columns are shown in the display. To finish off this little excursion, we now want to visualise the location of the entries of this table in an Aladin Lite widget. To do so, we tell Python to take the variable `aladin` and add the table `table_arplist` to it:"
   ]
  },
  {
   "cell_type": "code",
   "execution_count": 11,
   "metadata": {},
   "outputs": [
    {
     "data": {
      "application/vnd.jupyter.widget-view+json": {
       "model_id": "345865e5b6d645388216db77e6da546b",
       "version_major": 2,
       "version_minor": 0
      },
      "text/plain": [
       "Aladin(options=['allow_full_zoomout', 'coo_frame', 'fov', 'full_screen', 'log', 'overlay_survey', 'overlay_sur…"
      ]
     },
     "execution_count": 11,
     "metadata": {},
     "output_type": "execute_result"
    }
   ],
   "source": [
    "aladin = ipyal.Aladin()\n",
    "aladin"
   ]
  },
  {
   "cell_type": "code",
   "execution_count": 12,
   "metadata": {},
   "outputs": [
    {
     "name": "stderr",
     "output_type": "stream",
     "text": [
      "/home/manon.marchand/.local/lib/python3.8/site-packages/jupyter_client/session.py:718: UserWarning: Message serialization failed with:\n",
      "Out of range float values are not JSON compliant\n",
      "Supporting this message is deprecated in jupyter-client 7, please make sure your message is JSON-compliant\n",
      "  content = self.pack(content)\n"
     ]
    }
   ],
   "source": [
    "aladin.add_table(table_arplist)"
   ]
  },
  {
   "cell_type": "markdown",
   "metadata": {},
   "source": [
    "Now explore the Aladin Lite widget. You will find that the location of the sources in the arplist table are marked with coloured symbols. You can zoom in and out to look at the different sources and check their peculiarity. If you click on one of the colour symbols, you will be able to see the corresponding row in the bottom of the Aladin Lite widget. \n",
    "\n",
    "Note if you are using Jupyter Lab instead of single Jupyter notebooks, you can open two notebooks that share a kernel. Then one notebook could contain your working environment, where you get and work on your tables ect. The other notebook could contain the Aladin Lite widget, and just remain visible all the time. This way there would be no need to scroll up and down. \n",
    "\n",
    "## MOCs in Python\n",
    "\n",
    "We can use MOCs to find out whether any of these galaxies have been observed both by SDSS and GALEX. For this task we use the `cds` module of `astroquery` and in the functionalities of `MOCpy` to get the intersection of the MOCs. First let's query the MOC server for all things SDSS and all things GALEX."
   ]
  },
  {
   "cell_type": "code",
   "execution_count": 14,
   "metadata": {
    "scrolled": true
   },
   "outputs": [
    {
     "data": {
      "text/html": [
       "<div><i>Table length=14</i>\n",
       "<table id=\"table139683637590096\" class=\"table-striped table-bordered table-condensed\">\n",
       "<thead><tr><th>ID</th></tr></thead>\n",
       "<thead><tr><th>str25</th></tr></thead>\n",
       "<tr><td>CDS/J/ApJ/749/10/SDSS-obs</td></tr>\n",
       "<tr><td>CDS/P/HLA/SDSSg</td></tr>\n",
       "<tr><td>CDS/P/HLA/SDSSr</td></tr>\n",
       "<tr><td>CDS/P/HLA/SDSSz</td></tr>\n",
       "<tr><td>CDS/P/HST/SDSSg</td></tr>\n",
       "<tr><td>CDS/P/HST/SDSSr</td></tr>\n",
       "<tr><td>CDS/P/HST/SDSSz</td></tr>\n",
       "<tr><td>CDS/P/SDSS9/color</td></tr>\n",
       "<tr><td>CDS/P/SDSS9/color-alt</td></tr>\n",
       "<tr><td>CDS/P/SDSS9/g</td></tr>\n",
       "<tr><td>CDS/P/SDSS9/i</td></tr>\n",
       "<tr><td>CDS/P/SDSS9/r</td></tr>\n",
       "<tr><td>CDS/P/SDSS9/u</td></tr>\n",
       "<tr><td>CDS/P/SDSS9/z</td></tr>\n",
       "</table></div>"
      ],
      "text/plain": [
       "<Table length=14>\n",
       "            ID           \n",
       "          str25          \n",
       "-------------------------\n",
       "CDS/J/ApJ/749/10/SDSS-obs\n",
       "          CDS/P/HLA/SDSSg\n",
       "          CDS/P/HLA/SDSSr\n",
       "          CDS/P/HLA/SDSSz\n",
       "          CDS/P/HST/SDSSg\n",
       "          CDS/P/HST/SDSSr\n",
       "          CDS/P/HST/SDSSz\n",
       "        CDS/P/SDSS9/color\n",
       "    CDS/P/SDSS9/color-alt\n",
       "            CDS/P/SDSS9/g\n",
       "            CDS/P/SDSS9/i\n",
       "            CDS/P/SDSS9/r\n",
       "            CDS/P/SDSS9/u\n",
       "            CDS/P/SDSS9/z"
      ]
     },
     "execution_count": 14,
     "metadata": {},
     "output_type": "execute_result"
    }
   ],
   "source": [
    "info_sdss = cds.find_datasets(meta_data=\"ID=*SDSS*\")\n",
    "info_sdss[[\"ID\"]]"
   ]
  },
  {
   "cell_type": "code",
   "execution_count": 15,
   "metadata": {},
   "outputs": [
    {
     "data": {
      "text/html": [
       "<div><i>Table length=6</i>\n",
       "<table id=\"table139684620649856\" class=\"table-striped table-bordered table-condensed\">\n",
       "<thead><tr><th>ID</th></tr></thead>\n",
       "<thead><tr><th>str24</th></tr></thead>\n",
       "<tr><td>CDS/P/GALEXGR6/AIS/FUV</td></tr>\n",
       "<tr><td>CDS/P/GALEXGR6/AIS/NUV</td></tr>\n",
       "<tr><td>CDS/P/GALEXGR6/AIS/color</td></tr>\n",
       "<tr><td>CDS/P/GALEXGR6_7/FUV</td></tr>\n",
       "<tr><td>CDS/P/GALEXGR6_7/NUV</td></tr>\n",
       "<tr><td>CDS/P/GALEXGR6_7/color</td></tr>\n",
       "</table></div>"
      ],
      "text/plain": [
       "<Table length=6>\n",
       "           ID           \n",
       "         str24          \n",
       "------------------------\n",
       "  CDS/P/GALEXGR6/AIS/FUV\n",
       "  CDS/P/GALEXGR6/AIS/NUV\n",
       "CDS/P/GALEXGR6/AIS/color\n",
       "    CDS/P/GALEXGR6_7/FUV\n",
       "    CDS/P/GALEXGR6_7/NUV\n",
       "  CDS/P/GALEXGR6_7/color"
      ]
     },
     "execution_count": 15,
     "metadata": {},
     "output_type": "execute_result"
    }
   ],
   "source": [
    "info_galex = cds.find_datasets(meta_data=\"ID=*GALEX*\")\n",
    "info_galex[[\"ID\"]]"
   ]
  },
  {
   "cell_type": "markdown",
   "metadata": {},
   "source": [
    "Now that we know what the relevant data sets are called, we can move on to download the corresponding MOCs,"
   ]
  },
  {
   "cell_type": "code",
   "execution_count": 16,
   "metadata": {},
   "outputs": [],
   "source": [
    "moc_sdss = cds.find_datasets(meta_data=\"ID=CDS/P/SDSS9/color\", return_moc=True)\n",
    "moc_galex = cds.find_datasets(meta_data=\"ID=CDS/P/GALEXGR6/AIS/color\", return_moc=True)"
   ]
  },
  {
   "cell_type": "markdown",
   "metadata": {},
   "source": [
    "and calculate the intersection of these two MOCs."
   ]
  },
  {
   "cell_type": "code",
   "execution_count": 17,
   "metadata": {
    "scrolled": true
   },
   "outputs": [
    {
     "name": "stdout",
     "output_type": "stream",
     "text": [
      "The intersection of SDSS and GALEX covers31.2 % of the sky\n"
     ]
    }
   ],
   "source": [
    "moc_intersection = moc_sdss.intersection(moc_galex)\n",
    "print(\n",
    "    f\"The intersection of SDSS and GALEX covers\"\n",
    "    f\"{round(moc_intersection.sky_fraction *100., 1)} % of the sky\"\n",
    ")"
   ]
  },
  {
   "cell_type": "markdown",
   "metadata": {},
   "source": [
    "Now we can use this MOC to filter our table of Peculiar Galaxies. "
   ]
  },
  {
   "cell_type": "code",
   "execution_count": 18,
   "metadata": {},
   "outputs": [],
   "source": [
    "coords = SkyCoord(\n",
    "    ra=table_arplist[\"RAJ2000\"], dec=table_arplist[\"DEJ2000\"], unit=(u.deg, u.deg)\n",
    ")\n",
    "# mask = moc_intersection.contains_skycoords(coords)\n",
    "# print(\n",
    "#    f'{len(table_arplist[mask])} peculiar galaxies are observed by both GALEX and SDSS')"
   ]
  },
  {
   "cell_type": "markdown",
   "metadata": {},
   "source": [
    "To visualise only the galaxies within the MOC, we can add the filtered table to the AladinLite widget. This table will show up in a different colour than the first one we visualised."
   ]
  },
  {
   "cell_type": "code",
   "execution_count": 19,
   "metadata": {},
   "outputs": [],
   "source": [
    "# aladin.add_table(table_arplist[mask])"
   ]
  },
  {
   "cell_type": "markdown",
   "metadata": {},
   "source": [
    "The last thing to do with our MOC is to visualise it. We can either plot it using `matplotlib` (see the MOCpy documentation, how to do this) or add it to our AladinLite widget:"
   ]
  },
  {
   "cell_type": "code",
   "execution_count": 20,
   "metadata": {},
   "outputs": [],
   "source": [
    "aladin.add_moc_from_dict(\n",
    "    moc_intersection.serialize(format=\"json\"), {\"color\": \"red\", \"opacity\": 0.45}\n",
    ")"
   ]
  },
  {
   "cell_type": "markdown",
   "metadata": {},
   "source": [
    "Before leaving the tutorial, don't forget to scroll back up and look at the results in the Aladin widget ;)"
   ]
  }
 ],
 "metadata": {
  "kernelspec": {
   "display_name": "Python 3.9.12 ('base')",
   "language": "python",
   "name": "python3"
  },
  "language_info": {
   "codemirror_mode": {
    "name": "ipython",
    "version": 3
   },
   "file_extension": ".py",
   "mimetype": "text/x-python",
   "name": "python",
   "nbconvert_exporter": "python",
   "pygments_lexer": "ipython3"
  },
  "vscode": {
   "interpreter": {
    "hash": "85bb43f988bdbdc027a50b6d744a62eda8a76617af1f4f9b115d38242716dbac"
   }
  }
 },
 "nbformat": 4,
 "nbformat_minor": 4
}
