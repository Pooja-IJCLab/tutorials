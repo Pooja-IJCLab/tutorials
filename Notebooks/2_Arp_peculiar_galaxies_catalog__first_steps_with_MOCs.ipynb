{
 "cells": [
  {
   "cell_type": "markdown",
   "metadata": {},
   "source": [
    "# CDS tutorial extended _ exploration of peculiar galaxies\n",
    "\n",
    "Stefania Amodeo¹, Katarina A. Lutz¹\n",
    "\n",
    "1. Université de Strasbourg, CNRS, Observatoire Astronomique de Strasbourg, UMR 7550, F-67000, Strasbourg, France\n",
    "\n",
    "***\n",
    "\n",
    "## Introduction\n",
    "\n",
    "In this tutorial, we will explore Arp's Catalog of peculiar galaxies and check wich of them are in both SDSS and GALEX surveys."
   ]
  },
  {
   "cell_type": "code",
   "execution_count": null,
   "metadata": {},
   "outputs": [],
   "source": [
    "# Query databases\n",
    "from astroquery.vizier import Vizier\n",
    "from astroquery.cds import cds\n",
    "import pyvo\n",
    "\n",
    "# Atronomical data handling\n",
    "from astropy.coordinates import SkyCoord\n",
    "import astropy.units as u\n",
    "\n",
    "# Visualization\n",
    "import ipyaladin.aladin_widget as ipyal\n",
    "\n",
    "# Manipulate MOCS\n",
    "import mocpy\n"
   ]
  },
  {
   "cell_type": "markdown",
   "metadata": {},
   "source": [
    "## Find and download tables from VizieR\n",
    "\n",
    "<img src=Data/images/logos/vizier.svg alt=\"vizier's logo\" style=\"height:100px; display: inline-block;\"/>\n",
    "We use the `Vizier` sub-module from the `astroquery` module. \n",
    "\n",
    "We will explore the [Arp's Catalog of Peculiar Galaxies](http://arpgalaxy.com/) compiled by [Halton C. Arp](https://www.haltonarp.com/) and published by Denis Webb.\n",
    "\n",
    "Hence, we ask `Vizier` to find all catalogues that have a match with the keywords 'Arp Webb' and write the result into the variable `catalog_list_arp` (first line of code). Then we tell Python to `print` out the query result in a readable way (second line of code).  "
   ]
  },
  {
   "cell_type": "code",
   "execution_count": null,
   "metadata": {},
   "outputs": [],
   "source": [
    "catalog_list_arp = Vizier.find_catalogs('Arp')\n",
    "for k, v in catalog_list_arp.items():\n",
    "    print(k, ': ', v.description)\n"
   ]
  },
  {
   "cell_type": "markdown",
   "metadata": {},
   "source": [
    "Alternatively you can also search for the table with `pyvo` using the Table Access Protocol (TAP) to query VizieR. In this case, you first need to define the TAP endpoint of VizieR and then send a query written in ADQL (an SQL-like query language optimised for astronomy) to this endpoint. Finally we again print out the result of this query."
   ]
  },
  {
   "cell_type": "code",
   "execution_count": null,
   "metadata": {},
   "outputs": [],
   "source": [
    "tap_vizier = pyvo.dal.TAPService(\n",
    "    'https://tapvizier.cds.unistra.fr/TAPVizieR/tap')\n",
    "query = \"\"\"SELECT  *  FROM tap_schema.tables \n",
    "               WHERE table_name LIKE '%arp%' \"\"\"\n",
    "catalog_list_arp = tap_vizier.search(query).to_table()\n",
    "catalog_list_arp['table_name', 'description']\n"
   ]
  },
  {
   "cell_type": "markdown",
   "metadata": {},
   "source": [
    "The catalogue that we are interested in today is `VII/192` and its description is \"Arp's Peculiar Galaxies (Webb 1996)\". In the TAP query we already see that there are two tables in this catalogue: `VII/192/arplist` and `VII/192/arpord`. To be able to work with these data, let's load them into this notebook. \n",
    "\n",
    "Again we can use either `astroquery` or `pyvo`. Which one you chose is up to you and which one you like better.\n",
    "\n",
    "In oder to get the full catalogue with `astroquery`, we first set the row limit to infinite (i.e. `-1` in the notation of this package) and then ask `Vizier` to write the content of the catalogue into the variable `catalogs_arp`:"
   ]
  },
  {
   "cell_type": "code",
   "execution_count": null,
   "metadata": {},
   "outputs": [],
   "source": [
    "catalogs_arp = Vizier(row_limit=-1).get_catalogs('VII/192')\n"
   ]
  },
  {
   "cell_type": "markdown",
   "metadata": {},
   "source": [
    "Now let's inspect, what we got:"
   ]
  },
  {
   "cell_type": "code",
   "execution_count": null,
   "metadata": {},
   "outputs": [],
   "source": [
    "print(catalogs_arp)\n"
   ]
  },
  {
   "cell_type": "markdown",
   "metadata": {},
   "source": [
    "As we have seen in the first part of the tutorial, the catalogue \"Arp's Peculiar Galaxies (Webb 1996)\" comes with two tables: arpord and arplist. As you can see from the printout `Vizier` has downloaded both of them. However, we are still only interested in the arplist (index `1` in the TableList). Therefore, we make Python write only the arplist table into a new variable `table_arplist` (first line) and then display the table (second line):"
   ]
  },
  {
   "cell_type": "code",
   "execution_count": null,
   "metadata": {},
   "outputs": [],
   "source": [
    "table_arplist = catalogs_arp[1]\n",
    "table_arplist\n"
   ]
  },
  {
   "cell_type": "markdown",
   "metadata": {},
   "source": [
    "Nice, we got the data we want. Before moving on, let's have a look at how to use `pyVO` to get the same table. Just for safety we define again the VizieR TAP endpoint. It is the same one as above, but if the cells of this notebook are not run one after another, this safety measure ensure we always query the right service.\n",
    "\n",
    "Then we write a simple query telling VizieR that we want all the rows and all `*` the columns from the table `VII/192/arplist`. Note that we have to encompass the table name with quotation marks due to the special character `/` in the table name. "
   ]
  },
  {
   "cell_type": "code",
   "execution_count": null,
   "metadata": {},
   "outputs": [],
   "source": [
    "tap_vizier = pyvo.dal.TAPService(\n",
    "    'https://tapvizier.cds.unistra.fr/TAPVizieR/tap')\n",
    "query = \"\"\"SELECT  *  FROM \"VII/192/arplist\" \"\"\"\n",
    "table_arplist = tap_vizier.search(query).to_table()\n",
    "table_arplist\n"
   ]
  },
  {
   "cell_type": "markdown",
   "metadata": {},
   "source": [
    "There we go, we now know two nifty ways to get VizieR tables with Python. Obviously there are many other things you can do with this tools. For example if you set your TAP endpoint to `https://simbad.cds.unistra.fr/simbad/sim-tap` instead of the VizieR enpoint, you can query SIMBAD just like that. "
   ]
  },
  {
   "cell_type": "markdown",
   "metadata": {},
   "source": [
    "<img src=Data/images/logos/aladin.svg alt=\"aladin's logo\" style=\"height:100px; display: inline-block;\"/>\n",
    "Note that not all rows but only the first and last 10 rows for all columns are shown in the display. To finish off this little excursion, we now want to visualise the location of the entries of this table in an Aladin Lite widget. To do so, we tell Python to take the variable `aladin` and add the table `table_arplist` to it:"
   ]
  },
  {
   "cell_type": "code",
   "execution_count": null,
   "metadata": {},
   "outputs": [],
   "source": [
    "aladin = ipyal.Aladin()\n",
    "aladin\n"
   ]
  },
  {
   "cell_type": "code",
   "execution_count": null,
   "metadata": {},
   "outputs": [],
   "source": [
    "aladin.add_table(table_arplist)\n"
   ]
  },
  {
   "cell_type": "markdown",
   "metadata": {},
   "source": [
    "Now explore the Aladin Lite widget. You will find that the location of the sources in the arplist table are marked with coloured symbols. You can zoom in and out to look at the different sources and check their peculiarity. If you click on one of the colour symbols, you will be able to see the corresponding row in the bottom of the Aladin Lite widget. \n",
    "\n",
    "Note if you are using Jupyter Lab instead of single Jupyter notebooks, you can open two notebooks that share a kernel. Then one notebook could contain your working environment, where you get and work on your tables ect. The other notebook could contain the Aladin Lite widget, and just remain visible all the time. This way there would be no need to scroll up and down. \n",
    "\n",
    "## MOCs in Python\n",
    "\n",
    "We can use MOCs to find out whether any of these galaxies have been observed both by SDSS and GALEX. For this task we use the `cds` module of `astroquery` and in the functionalities of `MOCpy` to get the intersection of the MOCs. First let's query the MOC server for all things SDSS and all things GALEX."
   ]
  },
  {
   "cell_type": "code",
   "execution_count": null,
   "metadata": {
    "scrolled": true
   },
   "outputs": [],
   "source": [
    "info_sdss = cds.find_datasets(meta_data=\"ID=*SDSS*\")\n",
    "info_sdss[['ID']]\n"
   ]
  },
  {
   "cell_type": "code",
   "execution_count": null,
   "metadata": {},
   "outputs": [],
   "source": [
    "info_galex = cds.find_datasets(meta_data=\"ID=*GALEX*\")\n",
    "info_galex[['ID']]\n"
   ]
  },
  {
   "cell_type": "markdown",
   "metadata": {},
   "source": [
    "Now that we know what the relevant data sets are called, we can move on to download the corresponding MOCs,"
   ]
  },
  {
   "cell_type": "code",
   "execution_count": null,
   "metadata": {},
   "outputs": [],
   "source": [
    "moc_sdss = cds.find_datasets(meta_data=\"ID=CDS/P/SDSS9/color\", return_moc=True)\n",
    "moc_galex = cds.find_datasets(\n",
    "    meta_data=\"ID=CDS/P/GALEXGR6/AIS/color\", return_moc=True)\n"
   ]
  },
  {
   "cell_type": "markdown",
   "metadata": {},
   "source": [
    "and calculate the intersection of these two MOCs."
   ]
  },
  {
   "cell_type": "code",
   "execution_count": null,
   "metadata": {
    "scrolled": true
   },
   "outputs": [],
   "source": [
    "moc_intersection = moc_sdss.intersection(moc_galex)\n",
    "print(\n",
    "    f'The intersection of SDSS and GALEX covers {round(moc_intersection.sky_fraction *100., 1)} % of the sky')\n"
   ]
  },
  {
   "cell_type": "markdown",
   "metadata": {},
   "source": [
    "Now we can use this MOC to filter our table of Peculiar Galaxies. "
   ]
  },
  {
   "cell_type": "code",
   "execution_count": null,
   "metadata": {},
   "outputs": [],
   "source": [
    "coords = SkyCoord(ra=table_arplist['RAJ2000'],\n",
    "                  dec=table_arplist['DEJ2000'],\n",
    "                  unit=(u.deg, u.deg))\n",
    "#mask = moc_intersection.contains_skycoords(coords)\n",
    "# print(\n",
    "#    f'{len(table_arplist[mask])} peculiar galaxies are observed by both GALEX and SDSS')\n"
   ]
  },
  {
   "cell_type": "markdown",
   "metadata": {},
   "source": [
    "To visualise only the galaxies within the MOC, we can add the filtered table to the AladinLite widget. This table will show up in a different colour than the first one we visualised."
   ]
  },
  {
   "cell_type": "code",
   "execution_count": null,
   "metadata": {},
   "outputs": [],
   "source": [
    "# aladin.add_table(table_arplist[mask])\n"
   ]
  },
  {
   "cell_type": "markdown",
   "metadata": {},
   "source": [
    "The last thing to do with our MOC is to visualise it. We can either plot it using `matplotlib` (see the MOCpy documentation, how to do this) or add it to our AladinLite widget:"
   ]
  },
  {
   "cell_type": "code",
   "execution_count": null,
   "metadata": {},
   "outputs": [],
   "source": [
    "aladin.add_moc_from_dict(moc_intersection.serialize(format='json'),\n",
    "                         {'color': 'red', 'opacity': 0.45})\n"
   ]
  },
  {
   "cell_type": "markdown",
   "metadata": {},
   "source": [
    "Before leaving the tutorial, don't forget to scroll back up and look at the results in the Aladin widget ;)"
   ]
  }
 ],
 "metadata": {
  "kernelspec": {
   "display_name": "Python 3.9.12 ('base')",
   "language": "python",
   "name": "python3"
  },
  "language_info": {
   "codemirror_mode": {
    "name": "ipython",
    "version": 3
   },
   "file_extension": ".py",
   "mimetype": "text/x-python",
   "name": "python",
   "nbconvert_exporter": "python",
   "pygments_lexer": "ipython3",
   "version": "3.9.12"
  },
  "vscode": {
   "interpreter": {
    "hash": "85bb43f988bdbdc027a50b6d744a62eda8a76617af1f4f9b115d38242716dbac"
   }
  }
 },
 "nbformat": 4,
 "nbformat_minor": 2
}
