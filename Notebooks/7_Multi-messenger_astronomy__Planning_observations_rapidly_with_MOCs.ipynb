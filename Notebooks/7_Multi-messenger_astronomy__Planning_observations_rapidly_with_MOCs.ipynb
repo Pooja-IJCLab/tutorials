{
 "cells": [
  {
   "attachments": {},
   "cell_type": "markdown",
   "id": "7650a193",
   "metadata": {},
   "source": [
    "# Multi Order Coverage data structure to plan multi-messenger observations\n",
    "\n",
    "Giuseppe Greco¹, Manon Marchand²\n",
    "\n",
    "1. INFN, Sezione de Perugia, 1-06123 Perugia, Italy\n",
    "2. Université de Strasbourg, CNRS, Observatoire Astronomique de Strasbourg, UMR 7550, F-67000, Strasbourg, France\n",
    "\n",
    "\n",
    "This notebook is a tutorial associated to the article [Multi Order Coverage data structure to plan\n",
    "multi-messenger observations](https://www.sciencedirect.com/science/article/pii/S2213133722000026?via%3Dihub).\n",
    "\n",
    "***\n",
    "\n",
    "We will first explore Multi-Order Coverage (MOC) data structure manipultation, then we will see how astroplan and Space-Time Multi Order Coverage (STMOC) can be combined. The final step is a concrete example illustrating how STMOCS can be build in a few seconds to plan observations from three ground observatories of the full sky localisation produced after detection of a gravitational wave."
   ]
  },
  {
   "cell_type": "markdown",
   "id": "667a7509",
   "metadata": {},
   "source": [
    "## Setting the notebook\n"
   ]
  },
  {
   "cell_type": "code",
   "execution_count": 1,
   "id": "efe9627f",
   "metadata": {},
   "outputs": [],
   "source": [
    "# Standard Library\n",
    "from datetime import timedelta\n",
    "from pathlib import Path\n",
    "\n",
    "# Astronomy tools\n",
    "import astropy.units as u\n",
    "from astroplan import Observer\n",
    "from astropy.io import fits\n",
    "from astropy.table import QTable\n",
    "from astropy.time import Time\n",
    "from astropy.utils.data import download_file\n",
    "\n",
    "# Moc and HEALPix tools\n",
    "from cdshealpix import healpix_to_skycoord\n",
    "from mocpy import MOC, STMOC\n",
    "\n",
    "# Sky visualization\n",
    "from ipyaladin import Aladin\n",
    "\n",
    "# For plots\n",
    "import matplotlib.pyplot as plt\n",
    "\n",
    "# Data handling\n",
    "import numpy as np"
   ]
  },
  {
   "cell_type": "code",
   "execution_count": 2,
   "id": "6f8240be",
   "metadata": {},
   "outputs": [],
   "source": [
    "# define a path to store data\n",
    "path = Path.cwd() / \"Data/Multi-order-coverage-to-plan-MMA/\"\n",
    "path.mkdir(parents=True, exist_ok=True)"
   ]
  },
  {
   "cell_type": "markdown",
   "id": "6677e9ce",
   "metadata": {},
   "source": [
    "\n",
    "## Manipulating MOCs\n",
    "\n",
    "\n",
    "In this first section, we build an elementary MOC, describe essential algorithms and perform basic tests.\n",
    "\n",
    "First, we create a MOC region with the HEALPix index = 652 at order = 4 applying the method [from_healpix_cells](https://cds-astro.github.io/mocpy/stubs/mocpy.MOC.html#mocpy.MOC.from_healpix_cells) from mocpy."
   ]
  },
  {
   "cell_type": "code",
   "execution_count": 3,
   "id": "09dba0a8",
   "metadata": {},
   "outputs": [
    {
     "name": "stdout",
     "output_type": "stream",
     "text": [
      "<class 'mocpy.moc.moc.MOC'>\n"
     ]
    },
    {
     "data": {
      "text/plain": [
       "2/50 \n",
       "4/"
      ]
     },
     "execution_count": 3,
     "metadata": {},
     "output_type": "execute_result"
    }
   ],
   "source": [
    "ipix = np.array([50], dtype=\"uint64\")  # the index of the HEALPix cell\n",
    "depth = np.array([2], dtype=\"uint8\")  # its depth\n",
    "\n",
    "moc_test = MOC.from_healpix_cells(\n",
    "    ipix,\n",
    "    depth,\n",
    "    4,\n",
    ")  # here we set it's order to 4, it can be more precise than the most precise cell. No issues there.\n",
    "print(type(moc_test))\n",
    "moc_test"
   ]
  },
  {
   "attachments": {},
   "cell_type": "markdown",
   "id": "ed4053a9",
   "metadata": {},
   "source": [
    "As a good practice, always try to know the type of the objects you're manipulating. Here we created a `mocpy.moc.moc.MOC`.\n",
    "\n",
    "Printing this `moc_test` alows to find again the `order/cell_indices` for all cells that are in the MOC. Try creating a MOC with more cells to explore this representation!\n",
    "\n",
    "Let's look at it in the very handy `display_preview`:"
   ]
  },
  {
   "cell_type": "code",
   "execution_count": 4,
   "id": "cad43359",
   "metadata": {},
   "outputs": [
    {
     "data": {
      "image/png": "[encoded data removed]",
      "text/plain": [
       "<Figure size 640x480 with 1 Axes>"
      ]
     },
     "metadata": {},
     "output_type": "display_data"
    }
   ],
   "source": [
    "moc_test.display_preview()"
   ]
  },
  {
   "cell_type": "markdown",
   "id": "5d344065",
   "metadata": {},
   "source": [
    "Then, we write the MOC region in an external file named **TEST.fits** serialized in a FITS format."
   ]
  },
  {
   "cell_type": "code",
   "execution_count": 5,
   "id": "508c4127",
   "metadata": {},
   "outputs": [],
   "source": [
    "moc_test.write(path / \"TEST.fits\", format=\"fits\", overwrite=True)"
   ]
  },
  {
   "cell_type": "markdown",
   "id": "e881b50e",
   "metadata": {},
   "source": [
    "**Figure 1.** HEALPix grid at order = 4. In red, the MOC region with HEALPix index = 652. This represents the MOC we created."
   ]
  },
  {
   "cell_type": "markdown",
   "id": "a30af252",
   "metadata": {},
   "source": [
    "Now, we read the MOC file `TEST.fits` and we find the MOC order: the depth of the smallest HEALPix cells. Of course, we will find an order = 4 as set when we created the MOC."
   ]
  },
  {
   "cell_type": "code",
   "execution_count": 6,
   "id": "caf2f8bc",
   "metadata": {},
   "outputs": [
    {
     "name": "stdout",
     "output_type": "stream",
     "text": [
      "moc_order = 4\n"
     ]
    }
   ],
   "source": [
    "# Read  MOC map.\n",
    "moc_test_from_file = MOC.from_fits(path / \"TEST.fits\")\n",
    "\n",
    "# Find MOC order\n",
    "moc_order = moc_test_from_file.max_order\n",
    "print(\"moc_order =\", moc_order)"
   ]
  },
  {
   "cell_type": "code",
   "execution_count": 7,
   "id": "b51944bf",
   "metadata": {},
   "outputs": [
    {
     "data": {
      "image/png": "[encoded data removed]",
      "text/plain": [
       "<Figure size 640x480 with 1 Axes>"
      ]
     },
     "metadata": {},
     "output_type": "display_data"
    }
   ],
   "source": [
    "moc_test_from_file.display_preview()"
   ]
  },
  {
   "attachments": {},
   "cell_type": "markdown",
   "id": "09952a59",
   "metadata": {},
   "source": [
    "Here, we serialize the MOC from fits to json/dictionary with the keys and values representing the orders and the pixel indices, respectively. Of course, we find here the values used in the original MOC creation."
   ]
  },
  {
   "cell_type": "code",
   "execution_count": 8,
   "id": "fff1dee9",
   "metadata": {},
   "outputs": [
    {
     "data": {
      "text/plain": [
       "{'2': [50], '4': []}"
      ]
     },
     "execution_count": 8,
     "metadata": {},
     "output_type": "execute_result"
    }
   ],
   "source": [
    "# Serialize the MOC from fits to json/dict.\n",
    "moc_json = moc_test.serialize(format=\"json\")\n",
    "moc_json"
   ]
  },
  {
   "attachments": {},
   "cell_type": "markdown",
   "id": "8d3386c0",
   "metadata": {},
   "source": [
    "By definition, for the [nested](https://healpix.jpl.nasa.gov/html/intronode4.htm) numbering scheme used in MOcs, the HEALPix cells of higher order contained in a cell are comprised between:\n",
    "\n",
    "$[npix \\times 4^{(max\\_order - order)}]$ \n",
    "\n",
    "and\n",
    "\n",
    "$[(npix+1) \\times 4^{(max\\_order - order)}-1] $.\n"
   ]
  },
  {
   "cell_type": "code",
   "execution_count": 9,
   "id": "7597ae30",
   "metadata": {},
   "outputs": [
    {
     "name": "stdout",
     "output_type": "stream",
     "text": [
      "For our cell 50 at order 2, the cells at order 3 are comprised between the indices 200 and 203\n"
     ]
    }
   ],
   "source": [
    "first_index = int(ipix[0] * 4)\n",
    "last_index = int((ipix[0] + 1) * 4 - 1)\n",
    "print(\n",
    "    f\"For our cell {ipix[0]} at order {depth[0]}, the cells at \"\n",
    "    f\"order {depth[0] +1} are comprised between the indices {first_index} and {last_index}\",\n",
    ")\n",
    "moc_order_3 = MOC.from_healpix_cells(\n",
    "    np.array([200, 201, 202, 203], dtype=\"uint64\"),\n",
    "    np.array([3, 3, 3, 3], dtype=\"uint8\"),\n",
    "    3,\n",
    ")"
   ]
  },
  {
   "cell_type": "code",
   "execution_count": 10,
   "id": "fcafa854",
   "metadata": {},
   "outputs": [
    {
     "data": {
      "image/png": "[encoded data removed]",
      "text/plain": [
       "<Figure size 500x500 with 1 Axes>"
      ]
     },
     "metadata": {},
     "output_type": "display_data"
    }
   ],
   "source": [
    "fig = plt.figure(figsize=(5, 5))\n",
    "wcs = moc_order_3.wcs(fig)\n",
    "ax = fig.add_subplot(projection=wcs)\n",
    "# Represent the moc at order 3 with its four cells, 200, 201, 202, and 203\n",
    "moc_order_3.fill(ax, wcs, color=\"purple\", alpha=0.5)\n",
    "moc_order_3.border(ax, wcs, color=\"purple\")\n",
    "# Reprensent the cell 50 at order 2\n",
    "moc_test.border(ax, wcs, color=\"black\")"
   ]
  },
  {
   "cell_type": "markdown",
   "id": "da71d21a",
   "metadata": {},
   "source": [
    "You can interactively visualize the results with the following Aladin widget. To see the HealPix grid, select it in the `manage layers` <img src=\"https://github.com/ggreco77/Tutotest/blob/main/images/ipyaladin_layer.png?raw=true\" alt=\"the Layer Button\" style=\"width:30px; display: inline-block;\"/> menu."
   ]
  },
  {
   "cell_type": "code",
   "execution_count": 11,
   "id": "0f41d287",
   "metadata": {},
   "outputs": [
    {
     "data": {
      "application/vnd.jupyter.widget-view+json": {
       "model_id": "eb83d97fd1a643fc985a118e5d2e40f8",
       "version_major": 2,
       "version_minor": 0
      },
      "text/plain": [
       "Aladin(fov=150.0, options=['allow_full_zoomout', 'coo_frame', 'fov', 'full_screen', 'log', 'overlay_survey', '…"
      ]
     },
     "execution_count": 11,
     "metadata": {},
     "output_type": "execute_result"
    }
   ],
   "source": [
    "aladin = Aladin(target=\"20:15:0, +19:15:0\", fov=150)\n",
    "aladin"
   ]
  },
  {
   "cell_type": "markdown",
   "id": "5c3055ed",
   "metadata": {},
   "source": [
    "A MOC map can also be added to the Aladin widget by adding it to the variable `aladin`:"
   ]
  },
  {
   "cell_type": "code",
   "execution_count": 12,
   "id": "9ffb2a10",
   "metadata": {},
   "outputs": [],
   "source": [
    "aladin.add_moc_from_dict(\n",
    "    moc_order_3.serialize(format=\"json\"),\n",
    "    {\n",
    "        \"color\": \"purple\",\n",
    "        \"opacity\": 0.4,\n",
    "        \"adaptativeDisplay\": False,\n",
    "        \"name\": \"moc_order_3\",\n",
    "    },\n",
    ")"
   ]
  },
  {
   "cell_type": "markdown",
   "id": "5f6725e5",
   "metadata": {},
   "source": [
    "## Astroplan\n",
    "\n",
    "In this second section, we cover the use of [astroplan](https://astroplan.readthedocs.io/en/latest/index.html) a python library useful for observation planning and scheduling.\n",
    "\n",
    "First, we want to define the airmass in each HEALPix index using the astroplan module. In particular, we define the airmass in the Haleakala site  at 2019-04-25 14:18:05.018 UTC."
   ]
  },
  {
   "cell_type": "code",
   "execution_count": 13,
   "id": "f5210364",
   "metadata": {},
   "outputs": [
    {
     "data": {
      "text/plain": [
       "<Observer: name='haleakala',\n",
       "    location (lon, lat, el)=(-156.169 deg, 20.71552 deg, 3047.9999999999245 m),\n",
       "    timezone=<UTC>>"
      ]
     },
     "execution_count": 13,
     "metadata": {},
     "output_type": "execute_result"
    }
   ],
   "source": [
    "# Let's define a MOC with four cells and extract the coordinates of the centers of these cells\n",
    "healpix_indices = [2608, 2609, 2610, 2611]\n",
    "observation_MOC = MOC.from_json({5: healpix_indices})\n",
    "skycoords = healpix_to_skycoord(healpix_indices, 5)\n",
    "\n",
    "# The Observer module has pre-defined observations sites. Here we chose Haleakala.\n",
    "haleakala = Observer.at_site(\"haleakala\")\n",
    "\n",
    "# Set observational time.\n",
    "start_time = Time(\"2019-04-25 12:30:00\")\n",
    "\n",
    "haleakala"
   ]
  },
  {
   "cell_type": "markdown",
   "id": "622d40dd",
   "metadata": {},
   "source": [
    "Haleakala info from Observer class in astroplan."
   ]
  },
  {
   "cell_type": "code",
   "execution_count": 14,
   "id": "63fd5a3b",
   "metadata": {},
   "outputs": [
    {
     "name": "stdout",
     "output_type": "stream",
     "text": [
      "We could apply any of the methods listed here\n",
      " to the object haleakea ['__class__', '__delattr__', '__dict__', '__dir__', '__doc__', '__eq__', '__format__', '__ge__', '__getattribute__', '__gt__', '__hash__', '__init__', '__init_subclass__', '__le__', '__lt__', '__module__', '__ne__', '__new__', '__reduce__', '__reduce_ex__', '__repr__', '__setattr__', '__sizeof__', '__str__', '__subclasshook__', '__weakref__', '_altitude_trig', '_calc_riseset', '_calc_transit', '_determine_which_event', '_horiz_cross', '_is_broadcastable', '_preprocess_inputs', '_two_point_interp', 'altaz', 'astropy_time_to_datetime', 'at_site', 'datetime_to_astropy_time', 'is_night', 'local_sidereal_time', 'location', 'midnight', 'moon_altaz', 'moon_illumination', 'moon_phase', 'moon_rise_time', 'moon_set_time', 'name', 'noon', 'parallactic_angle', 'pressure', 'relative_humidity', 'sun_altaz', 'sun_rise_time', 'sun_set_time', 'target_hour_angle', 'target_is_up', 'target_meridian_antitransit_time', 'target_meridian_transit_time', 'target_rise_time', 'target_set_time', 'temperature', 'timezone', 'tonight', 'twilight_evening_astronomical', 'twilight_evening_civil', 'twilight_evening_nautical', 'twilight_morning_astronomical', 'twilight_morning_civil', 'twilight_morning_nautical']\n"
     ]
    }
   ],
   "source": [
    "print(\n",
    "    f\"\"\"We could apply any of the methods listed here\n",
    " to the object haleakea {dir(haleakala)}\"\"\",\n",
    ")"
   ]
  },
  {
   "cell_type": "markdown",
   "id": "195c0aaf",
   "metadata": {},
   "source": [
    "Does the time we set correspond to night time at Haleakala? You can answer it using [is_night](https://astroplan.readthedocs.io/en/latest/api/astroplan.Observer.html#astroplan.Observer.is_night) method and setting the astronomical twilight."
   ]
  },
  {
   "cell_type": "code",
   "execution_count": 15,
   "id": "7c8440ee",
   "metadata": {},
   "outputs": [
    {
     "name": "stdout",
     "output_type": "stream",
     "text": [
      "Is it night? True\n"
     ]
    }
   ],
   "source": [
    "# Check if it is night in Haleakala at the defined time:\n",
    "# -18 degree horizon (evening astronomical twilight).\n",
    "night = haleakala.is_night(start_time, horizon=-18 * u.deg)\n",
    "print(\"Is it night?\", night)"
   ]
  },
  {
   "cell_type": "markdown",
   "id": "ca8b2246",
   "metadata": {},
   "source": [
    "We have all needed information to calculate the airmass at the sky coordinates determined in the first section."
   ]
  },
  {
   "cell_type": "code",
   "execution_count": 16,
   "id": "7b7561da",
   "metadata": {},
   "outputs": [
    {
     "name": "stdout",
     "output_type": "stream",
     "text": [
      "airmass: 1.28 <SkyCoord (ICRS): (ra, dec) in deg\n",
      "    (202.5, 31.38816646)> \n",
      "airmass: 1.27 <SkyCoord (ICRS): (ra, dec) in deg\n",
      "    (203.90625, 32.7971683)> \n",
      "airmass: 1.31 <SkyCoord (ICRS): (ra, dec) in deg\n",
      "    (201.09375, 32.7971683)> \n",
      "airmass: 1.29 <SkyCoord (ICRS): (ra, dec) in deg\n",
      "    (202.5, 34.22886633)> \n"
     ]
    }
   ],
   "source": [
    "# Airmass calculation\n",
    "airmass_values = haleakala.altaz(start_time, skycoords).secz\n",
    "\n",
    "for airmass_value, skycoord in zip(airmass_values, skycoords):\n",
    "    print(f\"airmass: {airmass_value.round(2)} {skycoord} \")"
   ]
  },
  {
   "attachments": {},
   "cell_type": "markdown",
   "id": "820fe0e7",
   "metadata": {},
   "source": [
    "To only select sky area with airmass < 1.30, we create a new MOC with those sky coordinates. We will call it `MOC_observability_haleakala`. \n",
    "\n",
    "It can be useful to create an astropy table with skycoords and airmass_values as columns. Then we filter the airmass_values column from 1.00 to 1.30. "
   ]
  },
  {
   "cell_type": "code",
   "execution_count": 17,
   "id": "31842521",
   "metadata": {},
   "outputs": [
    {
     "data": {
      "text/html": [
       "<div><i>QTable length=3</i>\n",
       "<table id=\"table139798841167056\" class=\"table-striped table-bordered table-condensed\">\n",
       "<thead><tr><th>skycoords</th><th>airmass_value</th></tr></thead>\n",
       "<thead><tr><th>deg,deg</th><th></th></tr></thead>\n",
       "<thead><tr><th>SkyCoord</th><th>float64</th></tr></thead>\n",
       "<tr><td>202.5,31.388166464348547</td><td>1.2833562535594878</td></tr>\n",
       "<tr><td>203.90625,32.797168295823646</td><td>1.265523827316121</td></tr>\n",
       "<tr><td>202.5,34.22886632781258</td><td>1.289875095535698</td></tr>\n",
       "</table></div>"
      ],
      "text/plain": [
       "<QTable length=3>\n",
       "         skycoords             airmass_value   \n",
       "          deg,deg                              \n",
       "          SkyCoord                float64      \n",
       "---------------------------- ------------------\n",
       "    202.5,31.388166464348547 1.2833562535594878\n",
       "203.90625,32.797168295823646  1.265523827316121\n",
       "     202.5,34.22886632781258  1.289875095535698"
      ]
     },
     "execution_count": 17,
     "metadata": {},
     "output_type": "execute_result"
    }
   ],
   "source": [
    "table = QTable([skycoords, airmass_values], names=[\"skycoords\", \"airmass_value\"])\n",
    "\n",
    "# Mask table with selected airmass values.\n",
    "observability_table = table[\n",
    "    (table[\"airmass_value\"] >= 1.0) & (table[\"airmass_value\"] <= 1.3)\n",
    "]\n",
    "\n",
    "observability_table"
   ]
  },
  {
   "attachments": {},
   "cell_type": "markdown",
   "id": "6fc6dfc5",
   "metadata": {},
   "source": [
    "## Combining astroplan and STMOC\n",
    "\n",
    "We use the [from_skycoords](https://cds-astro.github.io/mocpy/stubs/mocpy.MOC.html#mocpy.MOC.from_skycoords) method of MOCpy to create an observability MOC from the sky coordinates."
   ]
  },
  {
   "cell_type": "code",
   "execution_count": 18,
   "id": "13f4f83f",
   "metadata": {},
   "outputs": [
    {
     "data": {
      "text/plain": [
       "5/2608-2609 2611 "
      ]
     },
     "execution_count": 18,
     "metadata": {},
     "output_type": "execute_result"
    }
   ],
   "source": [
    "# MOC from  sky coordinates\n",
    "moc_observability_haleakala = MOC.from_skycoords(observability_table[\"skycoords\"], 5)\n",
    "moc_observability_haleakala"
   ]
  },
  {
   "cell_type": "markdown",
   "id": "25203864",
   "metadata": {},
   "source": [
    "The MOC observability is shown in green in **Figure 3** over the original MOC. The HEALPix index = 2610 at order = 5 is not considered in the MOC visibility at the coordinates RA = 201.09375 $^\\circ$, DEC = 32.7971683 $^\\circ$. This is because its associated airmass value = 1.31 is outside the airmass range we selected to create the MOC visibility from Haleakala."
   ]
  },
  {
   "cell_type": "code",
   "execution_count": 19,
   "id": "00a2b7b2",
   "metadata": {},
   "outputs": [
    {
     "data": {
      "application/vnd.jupyter.widget-view+json": {
       "model_id": "ee1865ded8124697a35e9b33684e6185",
       "version_major": 2,
       "version_minor": 0
      },
      "text/plain": [
       "Aladin(fov=150.0, options=['allow_full_zoomout', 'coo_frame', 'fov', 'full_screen', 'log', 'overlay_survey', '…"
      ]
     },
     "execution_count": 19,
     "metadata": {},
     "output_type": "execute_result"
    }
   ],
   "source": [
    "aladin2 = Aladin(target=\"13:30:0, +32:50:0\", fov=150)\n",
    "\n",
    "aladin2"
   ]
  },
  {
   "cell_type": "code",
   "execution_count": 20,
   "id": "3e8fabeb",
   "metadata": {},
   "outputs": [],
   "source": [
    "aladin2.add_moc_from_dict(\n",
    "    observation_MOC.serialize(format=\"json\"),\n",
    "    {\"color\": \"blue\", \"opacity\": 0.5},\n",
    ")\n",
    "aladin2.add_moc_from_dict(\n",
    "    moc_observability_haleakala.serialize(format=\"json\"),\n",
    "    {\"color\": \"green\", \"opacity\": 0.5},\n",
    ")"
   ]
  },
  {
   "attachments": {},
   "cell_type": "markdown",
   "id": "f23270a1",
   "metadata": {},
   "source": [
    "In green, the MOC visibility from the Haleakala site with airmass ranges from 1.00 to 1.30 over the original MOC area in blue."
   ]
  },
  {
   "cell_type": "markdown",
   "id": "e7a609e4",
   "metadata": {},
   "source": [
    "### Adding temporal information to an (Observability) MOC\n",
    "\n",
    "The ability to transform any spatial MOC generated from telescope footprints, image surveys, catalogues, gravitational-wave sky localizations, MOC visibility *etc.* into spatial and temporal MOC (STMOC) offers several interoperable approaches. In the next sections, we will discuss how to filter candidate transients.\n",
    "\n",
    "To encode temporal information in a space (observability) MOC, we apply the method [from_spatial_coverages](https://cds-astro.github.io/mocpy/stubs/mocpy.STMOC.html#mocpy.STMOC.from_spatial_coverages) from mocpy. We assume an exposure time of 10 minutes: from 2019-04-25 12:30:00 to 2019-04-25 12:40:00."
   ]
  },
  {
   "cell_type": "code",
   "execution_count": 21,
   "id": "df8263cb",
   "metadata": {},
   "outputs": [],
   "source": [
    "# Create a Space and Time MOC from a space MOC.\n",
    "space_time_moc_obs = STMOC.from_spatial_coverages(\n",
    "    Time([\"2019-04-25 12:30:00\"]),\n",
    "    Time([\"2019-04-25 12:40:00\"]),\n",
    "    [moc_observability_haleakala],\n",
    ")"
   ]
  },
  {
   "cell_type": "markdown",
   "id": "aa25b453",
   "metadata": {},
   "source": [
    "**Filtering transient candidates**\n",
    "\n",
    "To filter transient candidates *in space and in time* simultaneously, we use the [contains](https://cds-astro.github.io/mocpy/stubs/mocpy.MOC.html#mocpy.MOC.contains) method in mocpy. It returns a boolean mask array of the positions lying inside (or outside) the MOC instance. Good performances are obtained thanks to the core functions written in Rust programming language.  \n",
    "\n",
    "We consider two transients at sky positions of\n",
    "-  transient1: (RA = 202.49997 $^\\circ$, DEC = 32.79846 $^\\circ$) observed at UTC time 2019-04-25T12:33:00\n",
    "-  transient2: (RA = 202.69392 $^\\circ$, DEC = 34.02011 $^\\circ$) observed at UTC time 2019-04-25T12:50:00\n",
    "\n",
    "Both candidate transients fall inside our MOC region but only the first one is consistent with the exposure time of that region, see next cells: "
   ]
  },
  {
   "cell_type": "code",
   "execution_count": 22,
   "id": "91fce829",
   "metadata": {},
   "outputs": [
    {
     "name": "stdout",
     "output_type": "stream",
     "text": [
      "    ID         ra      dec              time         \n",
      "              deg      deg                           \n",
      "---------- --------- -------- -----------------------\n",
      "transient1 202.49997 32.79846 2019-04-25T12:33:00.000\n",
      "transient2 202.69392 34.02011 2019-04-25T13:45:00.000\n"
     ]
    }
   ],
   "source": [
    "# An astropy table with the 2 transients is created.\n",
    "transient_tb = QTable()\n",
    "\n",
    "# ID candidate transients\n",
    "transient_tb[\"ID\"] = [\"transient1\", \"transient2\"]\n",
    "\n",
    "# Transient positions\n",
    "transient_tb[\"ra\"] = [202.49997, 202.69392] * u.deg\n",
    "transient_tb[\"dec\"] = [32.79846, 34.02011] * u.deg\n",
    "\n",
    "# Transient time observations\n",
    "transient_tb[\"time\"] = Time([\"2019-04-25T12:33:00\", \"2019-04-25T13:45:00\"])\n",
    "\n",
    "print(transient_tb)"
   ]
  },
  {
   "cell_type": "code",
   "execution_count": 23,
   "id": "bbed0c3c",
   "metadata": {},
   "outputs": [
    {
     "data": {
      "text/plain": [
       "array([ True, False])"
      ]
     },
     "execution_count": 23,
     "metadata": {},
     "output_type": "execute_result"
    }
   ],
   "source": [
    "# Filtering transients in space and time.\n",
    "space_time_moc_obs.contains(\n",
    "    transient_tb[\"time\"],\n",
    "    transient_tb[\"ra\"],\n",
    "    transient_tb[\"dec\"],\n",
    ")"
   ]
  },
  {
   "cell_type": "markdown",
   "id": "fc039100",
   "metadata": {},
   "source": [
    "As expected,  the boolean mask returns **True** only for the transient1."
   ]
  },
  {
   "cell_type": "markdown",
   "id": "a829682d",
   "metadata": {},
   "source": [
    "## Concrete example : planning observations for a GW follow up\n",
    "\n",
    "Here we describe the essential steps to delimit portions of a MOC coverage that are observable from a specific astronomical site within a fixed time interval and a defined range of airmass values. We start with the 90% credible region of the gravitational-wave event GW190425. The credible region is encoded in a MOC data structure. In order to show the potential of MOCs to manage complex and irregular sky areas, the 90% credible region of GW190425 is prepocessed as discussed in **Sections 4.2 and 4.3**.\n",
    "The MOC region is accessible from the link [here](https://github.com/ggreco77/MOC-to-plan-MMA/blob/main/data/processed_moc_skymap.fits?raw=true). \n",
    "All steps are shown in the [video tutorial](https://virgo.pg.infn.it/sites/virgo.pg.infn.it/files/mm/tuto_A_C_mid.mp4) focusing in the main Aladin graphical user interface. \n",
    "\n",
    "For running the code, we consider the merger time of GW190425 from the image's header."
   ]
  },
  {
   "cell_type": "code",
   "execution_count": 24,
   "id": "0b7ab4e8",
   "metadata": {},
   "outputs": [],
   "source": [
    "# Download the initial (BAYESTAR)sky map of GW190425 from GraceDB.\n",
    "\n",
    "bayesian = download_file(\n",
    "    \"https://gracedb.ligo.org/api/superevents/S190425z/files/bayestar.fits.gz,0\",\n",
    "    cache=True,\n",
    ")"
   ]
  },
  {
   "cell_type": "code",
   "execution_count": 25,
   "id": "90014768",
   "metadata": {},
   "outputs": [
    {
     "name": "stdout",
     "output_type": "stream",
     "text": [
      "The merger time is 2019-04-25T08:18:05.018\n"
     ]
    }
   ],
   "source": [
    "# Get merger time from image's header.\n",
    "hdul = fits.open(bayesian)\n",
    "merger_time = Time(hdul[1].header[\"DATE-OBS\"])\n",
    "\n",
    "print(\"The merger time is\", merger_time)"
   ]
  },
  {
   "cell_type": "code",
   "execution_count": 26,
   "id": "46c437aa",
   "metadata": {},
   "outputs": [],
   "source": [
    "# Define an observatory from the astroplan list\n",
    "observatory_name = \"haleakala\""
   ]
  },
  {
   "cell_type": "code",
   "execution_count": 27,
   "id": "c5165e78",
   "metadata": {},
   "outputs": [],
   "source": [
    "# Define observatory in the astroplan Observer class\n",
    "observatory_astroplan_observer = Observer.at_site(observatory_name)"
   ]
  },
  {
   "cell_type": "code",
   "execution_count": 28,
   "id": "abe6b7b3",
   "metadata": {},
   "outputs": [
    {
     "data": {
      "text/plain": [
       "<Observer: name='haleakala',\n",
       "    location (lon, lat, el)=(-156.169 deg, 20.71552 deg, 3047.9999999999245 m),\n",
       "    timezone=<UTC>>"
      ]
     },
     "execution_count": 28,
     "metadata": {},
     "output_type": "execute_result"
    }
   ],
   "source": [
    "observatory_astroplan_observer"
   ]
  },
  {
   "cell_type": "code",
   "execution_count": 29,
   "id": "e8a6ab2b",
   "metadata": {},
   "outputs": [],
   "source": [
    "# Check if it is night in your Observatory at the merger time:\n",
    "# -18 degree horizon (evening astronomical twilight).\n",
    "night = observatory_astroplan_observer.is_night(merger_time, horizon=-18 * u.deg)"
   ]
  },
  {
   "cell_type": "code",
   "execution_count": 30,
   "id": "e75856e3",
   "metadata": {},
   "outputs": [
    {
     "name": "stdout",
     "output_type": "stream",
     "text": [
      "Is nightime in haleakala ? True\n"
     ]
    }
   ],
   "source": [
    "print(f\"Is nightime in {observatory_name} ?\", night)"
   ]
  },
  {
   "cell_type": "markdown",
   "id": "e6b20906",
   "metadata": {},
   "source": [
    "If it is night in your observatory, we set as start time the merger time of the event, otherwise, we find the nearest twilight astronomical evening. "
   ]
  },
  {
   "cell_type": "code",
   "execution_count": 31,
   "id": "076c13f2",
   "metadata": {},
   "outputs": [],
   "source": [
    "if night:  # starts as soon as the merger if it is nightime at the observatory\n",
    "    start_time = merger_time\n",
    "else:\n",
    "    # else, wait for the nearest twilight astronomical evening\n",
    "    twilight_evening_astronomical = (\n",
    "        observatory_astroplan_observer.twilight_evening_astronomical(\n",
    "            merger_time,\n",
    "            which=\"nearest\",\n",
    "        )\n",
    "    )\n",
    "    start_time = twilight_evening_astronomical"
   ]
  },
  {
   "cell_type": "code",
   "execution_count": 32,
   "id": "218f4fbb",
   "metadata": {},
   "outputs": [
    {
     "name": "stdout",
     "output_type": "stream",
     "text": [
      "Start time for the first observation: 2019-04-25T08:18:05.018\n"
     ]
    }
   ],
   "source": [
    "print(\"Start time for the first observation:\", start_time)"
   ]
  },
  {
   "cell_type": "code",
   "execution_count": 33,
   "id": "153cd165",
   "metadata": {},
   "outputs": [
    {
     "name": "stdout",
     "output_type": "stream",
     "text": [
      "MOC order: 11\n"
     ]
    }
   ],
   "source": [
    "# Init. list for schedule observation\n",
    "observatory_time_obs = []\n",
    "# Set the airmass range to create the MOC visibility\n",
    "airmass_max = 2\n",
    "airmass_min = 1\n",
    "# Read the MOC map.\n",
    "moc = MOC.from_fits(path / \"processed_moc_skymap.fits\")\n",
    "# Find MOC Order\n",
    "order = moc.max_order\n",
    "print(\"MOC order:\", order)"
   ]
  },
  {
   "cell_type": "markdown",
   "id": "48f1b13a",
   "metadata": {},
   "source": [
    "Here, we want to calculate the visibility area within the previous MOC from the specific observatory site, at a given time and setting the airmass values."
   ]
  },
  {
   "cell_type": "code",
   "execution_count": 34,
   "id": "8edb5194",
   "metadata": {},
   "outputs": [
    {
     "name": "stdout",
     "output_type": "stream",
     "text": [
      "input_order:  11\n"
     ]
    },
    {
     "data": {
      "text/plain": [
       "[8388608,\n",
       " 8388609,\n",
       " 8388610,\n",
       " 8388611,\n",
       " 8388612,\n",
       " 8388613,\n",
       " 8388614,\n",
       " 8388615,\n",
       " 8388616,\n",
       " 8388617,\n",
       " 8388618,\n",
       " 8388619,\n",
       " 8388620,\n",
       " 8388621,\n",
       " 8388622,\n",
       " 8388623,\n",
       " 8388624,\n",
       " 8388625,\n",
       " 8388626,\n",
       " 8388627,\n",
       " 8388628,\n",
       " 8388629,\n",
       " 8388630,\n",
       " 8388631,\n",
       " 8388632,\n",
       " 8388633,\n",
       " 8388634,\n",
       " 8388635,\n",
       " 8388636,\n",
       " 8388637,\n",
       " 8388638,\n",
       " 8388639,\n",
       " 8388640,\n",
       " 8388641,\n",
       " 8388642,\n",
       " 8388643,\n",
       " 8388644,\n",
       " 8388645,\n",
       " 8388646,\n",
       " 8388647,\n",
       " 8388648,\n",
       " 8388649,\n",
       " 8388650,\n",
       " 8388651,\n",
       " 8388652,\n",
       " 8388653,\n",
       " 8388654,\n",
       " 8388655,\n",
       " 8388656,\n",
       " 8388657,\n",
       " 8388658,\n",
       " 8388659,\n",
       " 8388660,\n",
       " 8388661,\n",
       " 8388662,\n",
       " 8388663,\n",
       " 8388664,\n",
       " 8388665,\n",
       " 8388666,\n",
       " 8388667,\n",
       " 8388668,\n",
       " 8388669,\n",
       " 8388670,\n",
       " 8388671,\n",
       " 8388672,\n",
       " 8388673,\n",
       " 8388674,\n",
       " 8388675,\n",
       " 8388676,\n",
       " 8388677,\n",
       " 8388678,\n",
       " 8388679,\n",
       " 8388680,\n",
       " 8388681,\n",
       " 8388682,\n",
       " 8388683,\n",
       " 8388684,\n",
       " 8388685,\n",
       " 8388686,\n",
       " 8388687,\n",
       " 8388688,\n",
       " 8388689,\n",
       " 8388690,\n",
       " 8388691,\n",
       " 8388692,\n",
       " 8388693,\n",
       " 8388694,\n",
       " 8388695,\n",
       " 8388696,\n",
       " 8388697,\n",
       " 8388698,\n",
       " 8388699,\n",
       " 8388700,\n",
       " 8388701,\n",
       " 8388702,\n",
       " 8388703,\n",
       " 8388704,\n",
       " 8388705,\n",
       " 8388706,\n",
       " 8388707,\n",
       " 8388708,\n",
       " 8388709,\n",
       " 8388710,\n",
       " 8388711,\n",
       " 8388712,\n",
       " 8388713,\n",
       " 8388714,\n",
       " 8388715,\n",
       " 8388716,\n",
       " 8388717,\n",
       " 8388718,\n",
       " 8388719,\n",
       " 8388720,\n",
       " 8388721,\n",
       " 8388722,\n",
       " 8388723,\n",
       " 8388724,\n",
       " 8388725,\n",
       " 8388726,\n",
       " 8388727,\n",
       " 8388728,\n",
       " 8388729,\n",
       " 8388730,\n",
       " 8388731,\n",
       " 8388732,\n",
       " 8388733,\n",
       " 8388734,\n",
       " 8388735,\n",
       " 8388736,\n",
       " 8388737,\n",
       " 8388738,\n",
       " 8388739,\n",
       " 8388740,\n",
       " 8388741,\n",
       " 8388742,\n",
       " 8388743,\n",
       " 8388744,\n",
       " 8388745,\n",
       " 8388746,\n",
       " 8388747,\n",
       " 8388748,\n",
       " 8388749,\n",
       " 8388750,\n",
       " 8388751,\n",
       " 8388752,\n",
       " 8388753,\n",
       " 8388754,\n",
       " 8388755,\n",
       " 8388756,\n",
       " 8388757,\n",
       " 8388758,\n",
       " 8388759,\n",
       " 8388760,\n",
       " 8388761,\n",
       " 8388762,\n",
       " 8388763,\n",
       " 8388764,\n",
       " 8388765,\n",
       " 8388766,\n",
       " 8388767,\n",
       " 8388768,\n",
       " 8388769,\n",
       " 8388770,\n",
       " 8388771,\n",
       " 8388772,\n",
       " 8388773,\n",
       " 8388774,\n",
       " 8388775,\n",
       " 8388776,\n",
       " 8388777,\n",
       " 8388778,\n",
       " 8388779,\n",
       " 8388780,\n",
       " 8388781,\n",
       " 8388782,\n",
       " 8388783,\n",
       " 8388784,\n",
       " 8388785,\n",
       " 8388786,\n",
       " 8388787,\n",
       " 8388788,\n",
       " 8388789,\n",
       " 8388790,\n",
       " 8388791,\n",
       " 8388792,\n",
       " 8388793,\n",
       " 8388794,\n",
       " 8388795,\n",
       " 8388796,\n",
       " 8388797,\n",
       " 8388798,\n",
       " 8388799,\n",
       " 8388800,\n",
       " 8388801,\n",
       " 8388802,\n",
       " 8388803,\n",
       " 8388804,\n",
       " 8388805,\n",
       " 8388806,\n",
       " 8388807,\n",
       " 8388808,\n",
       " 8388809,\n",
       " 8388810,\n",
       " 8388811,\n",
       " 8388812,\n",
       " 8388813,\n",
       " 8388814,\n",
       " 8388815,\n",
       " 8388816,\n",
       " 8388817,\n",
       " 8388818,\n",
       " 8388819,\n",
       " 8388820,\n",
       " 8388821,\n",
       " 8388822,\n",
       " 8388823,\n",
       " 8388824,\n",
       " 8388825,\n",
       " 8388826,\n",
       " 8388827,\n",
       " 8388828,\n",
       " 8388829,\n",
       " 8388830,\n",
       " 8388831,\n",
       " 8388832,\n",
       " 8388833,\n",
       " 8388834,\n",
       " 8388835,\n",
       " 8388836,\n",
       " 8388837,\n",
       " 8388838,\n",
       " 8388839,\n",
       " 8388840,\n",
       " 8388841,\n",
       " 8388842,\n",
       " 8388843,\n",
       " 8388844,\n",
       " 8388845,\n",
       " 8388846,\n",
       " 8388847,\n",
       " 8388848,\n",
       " 8388849,\n",
       " 8388850,\n",
       " 8388851,\n",
       " 8388852,\n",
       " 8388853,\n",
       " 8388854,\n",
       " 8388855,\n",
       " 8388856,\n",
       " 8388857,\n",
       " 8388858,\n",
       " 8388859,\n",
       " 8388860,\n",
       " 8388861,\n",
       " 8388862,\n",
       " 8388863,\n",
       " 8388864,\n",
       " 8388865,\n",
       " 8388866,\n",
       " 8388867,\n",
       " 8388868,\n",
       " 8388869,\n",
       " 8388870,\n",
       " 8388871,\n",
       " 8388872,\n",
       " 8388873,\n",
       " 8388874,\n",
       " 8388875,\n",
       " 8388876,\n",
       " 8388877,\n",
       " 8388878,\n",
       " 8388879,\n",
       " 8388880,\n",
       " 8388881,\n",
       " 8388882,\n",
       " 8388883,\n",
       " 8388884,\n",
       " 8388885,\n",
       " 8388886,\n",
       " 8388887,\n",
       " 8388888,\n",
       " 8388889,\n",
       " 8388890,\n",
       " 8388891,\n",
       " 8388892,\n",
       " 8388893,\n",
       " 8388894,\n",
       " 8388895,\n",
       " 8388896,\n",
       " 8388897,\n",
       " 8388898,\n",
       " 8388899,\n",
       " 8388900,\n",
       " 8388901,\n",
       " 8388902,\n",
       " 8388903,\n",
       " 8388904,\n",
       " 8388905,\n",
       " 8388906,\n",
       " 8388907,\n",
       " 8388908,\n",
       " 8388909,\n",
       " 8388910,\n",
       " 8388911,\n",
       " 8388912,\n",
       " 8388913,\n",
       " 8388914,\n",
       " 8388915,\n",
       " 8388916,\n",
       " 8388917,\n",
       " 8388918,\n",
       " 8388919,\n",
       " 8388920,\n",
       " 8388921,\n",
       " 8388922,\n",
       " 8388923,\n",
       " 8388924,\n",
       " 8388925,\n",
       " 8388926,\n",
       " 8388927,\n",
       " 8388928,\n",
       " 8388929,\n",
       " 8388930,\n",
       " 8388931,\n",
       " 8388932,\n",
       " 8388933,\n",
       " 8388934,\n",
       " 8388935,\n",
       " 8388936,\n",
       " 8388937,\n",
       " 8388938,\n",
       " 8388939,\n",
       " 8388940,\n",
       " 8388941,\n",
       " 8388942,\n",
       " 8388943,\n",
       " 8388944,\n",
       " 8388945,\n",
       " 8388946,\n",
       " 8388947,\n",
       " 8388948,\n",
       " 8388949,\n",
       " 8388950,\n",
       " 8388951,\n",
       " 8388952,\n",
       " 8388953,\n",
       " 8388954,\n",
       " 8388955,\n",
       " 8388956,\n",
       " 8388957,\n",
       " 8388958,\n",
       " 8388959,\n",
       " 8388960,\n",
       " 8388961,\n",
       " 8388962,\n",
       " 8388963,\n",
       " 8388964,\n",
       " 8388965,\n",
       " 8388966,\n",
       " 8388967,\n",
       " 8388968,\n",
       " 8388969,\n",
       " 8388970,\n",
       " 8388971,\n",
       " 8388972,\n",
       " 8388973,\n",
       " 8388974,\n",
       " 8388975,\n",
       " 8388976,\n",
       " 8388977,\n",
       " 8388978,\n",
       " 8388979,\n",
       " 8388980,\n",
       " 8388981,\n",
       " 8388982,\n",
       " 8388983,\n",
       " 8388984,\n",
       " 8388985,\n",
       " 8388986,\n",
       " 8388987,\n",
       " 8388988,\n",
       " 8388989,\n",
       " 8388990,\n",
       " 8388991,\n",
       " 8388992,\n",
       " 8388993,\n",
       " 8388994,\n",
       " 8388995,\n",
       " 8388996,\n",
       " 8388997,\n",
       " 8388998,\n",
       " 8388999,\n",
       " 8389000,\n",
       " 8389001,\n",
       " 8389002,\n",
       " 8389003,\n",
       " 8389004,\n",
       " 8389005,\n",
       " 8389006,\n",
       " 8389007,\n",
       " 8389008,\n",
       " 8389009,\n",
       " 8389010,\n",
       " 8389011,\n",
       " 8389012,\n",
       " 8389013,\n",
       " 8389014,\n",
       " 8389015,\n",
       " 8389016,\n",
       " 8389017,\n",
       " 8389018,\n",
       " 8389019,\n",
       " 8389020,\n",
       " 8389021,\n",
       " 8389022,\n",
       " 8389023,\n",
       " 8389024,\n",
       " 8389025,\n",
       " 8389026,\n",
       " 8389027,\n",
       " 8389028,\n",
       " 8389029,\n",
       " 8389030,\n",
       " 8389031,\n",
       " 8389032,\n",
       " 8389033,\n",
       " 8389034,\n",
       " 8389035,\n",
       " 8389036,\n",
       " 8389037,\n",
       " 8389038,\n",
       " 8389039,\n",
       " 8389040,\n",
       " 8389041,\n",
       " 8389042,\n",
       " 8389043,\n",
       " 8389044,\n",
       " 8389045,\n",
       " 8389046,\n",
       " 8389047,\n",
       " 8389048,\n",
       " 8389049,\n",
       " 8389050,\n",
       " 8389051,\n",
       " 8389052,\n",
       " 8389053,\n",
       " 8389054,\n",
       " 8389055,\n",
       " 8389056,\n",
       " 8389057,\n",
       " 8389058,\n",
       " 8389059,\n",
       " 8389060,\n",
       " 8389061,\n",
       " 8389062,\n",
       " 8389063,\n",
       " 8389064,\n",
       " 8389065,\n",
       " 8389066,\n",
       " 8389067,\n",
       " 8389068,\n",
       " 8389069,\n",
       " 8389070,\n",
       " 8389071,\n",
       " 8389072,\n",
       " 8389073,\n",
       " 8389074,\n",
       " 8389075,\n",
       " 8389076,\n",
       " 8389077,\n",
       " 8389078,\n",
       " 8389079,\n",
       " 8389080,\n",
       " 8389081,\n",
       " 8389082,\n",
       " 8389083,\n",
       " 8389084,\n",
       " 8389085,\n",
       " 8389086,\n",
       " 8389087,\n",
       " 8389088,\n",
       " 8389089,\n",
       " 8389090,\n",
       " 8389091,\n",
       " 8389092,\n",
       " 8389093,\n",
       " 8389094,\n",
       " 8389095,\n",
       " 8389096,\n",
       " 8389097,\n",
       " 8389098,\n",
       " 8389099,\n",
       " 8389100,\n",
       " 8389101,\n",
       " 8389102,\n",
       " 8389103,\n",
       " 8389104,\n",
       " 8389105,\n",
       " 8389106,\n",
       " 8389107,\n",
       " 8389108,\n",
       " 8389109,\n",
       " 8389110,\n",
       " 8389111,\n",
       " 8389112,\n",
       " 8389113,\n",
       " 8389114,\n",
       " 8389115,\n",
       " 8389116,\n",
       " 8389117,\n",
       " 8389118,\n",
       " 8389119,\n",
       " 8389120,\n",
       " 8389121,\n",
       " 8389122,\n",
       " 8389123,\n",
       " 8389124,\n",
       " 8389125,\n",
       " 8389126,\n",
       " 8389127,\n",
       " 8389128,\n",
       " 8389129,\n",
       " 8389130,\n",
       " 8389131,\n",
       " 8389132,\n",
       " 8389133,\n",
       " 8389134,\n",
       " 8389135,\n",
       " 8389136,\n",
       " 8389137,\n",
       " 8389138,\n",
       " 8389139,\n",
       " 8389140,\n",
       " 8389141,\n",
       " 8389142,\n",
       " 8389143,\n",
       " 8389144,\n",
       " 8389145,\n",
       " 8389146,\n",
       " 8389147,\n",
       " 8389148,\n",
       " 8389149,\n",
       " 8389150,\n",
       " 8389151,\n",
       " 8389152,\n",
       " 8389153,\n",
       " 8389154,\n",
       " 8389155,\n",
       " 8389156,\n",
       " 8389157,\n",
       " 8389158,\n",
       " 8389159,\n",
       " 8389160,\n",
       " 8389161,\n",
       " 8389162,\n",
       " 8389163,\n",
       " 8389164,\n",
       " 8389165,\n",
       " 8389166,\n",
       " 8389167,\n",
       " 8389168,\n",
       " 8389169,\n",
       " 8389170,\n",
       " 8389171,\n",
       " 8389172,\n",
       " 8389173,\n",
       " 8389174,\n",
       " 8389175,\n",
       " 8389176,\n",
       " 8389177,\n",
       " 8389178,\n",
       " 8389179,\n",
       " 8389180,\n",
       " 8389181,\n",
       " 8389182,\n",
       " 8389183,\n",
       " 8389184,\n",
       " 8389185,\n",
       " 8389186,\n",
       " 8389187,\n",
       " 8389188,\n",
       " 8389189,\n",
       " 8389190,\n",
       " 8389191,\n",
       " 8389192,\n",
       " 8389193,\n",
       " 8389194,\n",
       " 8389195,\n",
       " 8389196,\n",
       " 8389197,\n",
       " 8389198,\n",
       " 8389199,\n",
       " 8389200,\n",
       " 8389201,\n",
       " 8389202,\n",
       " 8389203,\n",
       " 8389204,\n",
       " 8389205,\n",
       " 8389206,\n",
       " 8389207,\n",
       " 8389208,\n",
       " 8389209,\n",
       " 8389210,\n",
       " 8389211,\n",
       " 8389212,\n",
       " 8389213,\n",
       " 8389214,\n",
       " 8389215,\n",
       " 8389216,\n",
       " 8389217,\n",
       " 8389218,\n",
       " 8389219,\n",
       " 8389220,\n",
       " 8389221,\n",
       " 8389222,\n",
       " 8389223,\n",
       " 8389224,\n",
       " 8389225,\n",
       " 8389226,\n",
       " 8389227,\n",
       " 8389228,\n",
       " 8389229,\n",
       " 8389230,\n",
       " 8389231,\n",
       " 8389232,\n",
       " 8389233,\n",
       " 8389234,\n",
       " 8389235,\n",
       " 8389236,\n",
       " 8389237,\n",
       " 8389238,\n",
       " 8389239,\n",
       " 8389240,\n",
       " 8389241,\n",
       " 8389242,\n",
       " 8389243,\n",
       " 8389244,\n",
       " 8389245,\n",
       " 8389246,\n",
       " 8389247,\n",
       " 8389248,\n",
       " 8389249,\n",
       " 8389250,\n",
       " 8389251,\n",
       " 8389252,\n",
       " 8389253,\n",
       " 8389254,\n",
       " 8389255,\n",
       " 8389256,\n",
       " 8389257,\n",
       " 8389258,\n",
       " 8389259,\n",
       " 8389260,\n",
       " 8389261,\n",
       " 8389262,\n",
       " 8389263,\n",
       " 8389264,\n",
       " 8389265,\n",
       " 8389266,\n",
       " 8389267,\n",
       " 8389268,\n",
       " 8389269,\n",
       " 8389270,\n",
       " 8389271,\n",
       " 8389272,\n",
       " 8389273,\n",
       " 8389274,\n",
       " 8389275,\n",
       " 8389276,\n",
       " 8389277,\n",
       " 8389278,\n",
       " 8389279,\n",
       " 8389280,\n",
       " 8389281,\n",
       " 8389282,\n",
       " 8389283,\n",
       " 8389284,\n",
       " 8389285,\n",
       " 8389286,\n",
       " 8389287,\n",
       " 8389288,\n",
       " 8389289,\n",
       " 8389290,\n",
       " 8389291,\n",
       " 8389292,\n",
       " 8389293,\n",
       " 8389294,\n",
       " 8389295,\n",
       " 8389296,\n",
       " 8389297,\n",
       " 8389298,\n",
       " 8389299,\n",
       " 8389300,\n",
       " 8389301,\n",
       " 8389302,\n",
       " 8389303,\n",
       " 8389304,\n",
       " 8389305,\n",
       " 8389306,\n",
       " 8389307,\n",
       " 8389308,\n",
       " 8389309,\n",
       " 8389310,\n",
       " 8389311,\n",
       " 8389312,\n",
       " 8389313,\n",
       " 8389314,\n",
       " 8389315,\n",
       " 8389316,\n",
       " 8389317,\n",
       " 8389318,\n",
       " 8389319,\n",
       " 8389320,\n",
       " 8389321,\n",
       " 8389322,\n",
       " 8389323,\n",
       " 8389324,\n",
       " 8389325,\n",
       " 8389326,\n",
       " 8389327,\n",
       " 8389328,\n",
       " 8389329,\n",
       " 8389330,\n",
       " 8389331,\n",
       " 8389332,\n",
       " 8389333,\n",
       " 8389334,\n",
       " 8389335,\n",
       " 8389336,\n",
       " 8389337,\n",
       " 8389338,\n",
       " 8389339,\n",
       " 8389340,\n",
       " 8389341,\n",
       " 8389342,\n",
       " 8389343,\n",
       " 8389344,\n",
       " 8389345,\n",
       " 8389346,\n",
       " 8389347,\n",
       " 8389348,\n",
       " 8389349,\n",
       " 8389350,\n",
       " 8389351,\n",
       " 8389352,\n",
       " 8389353,\n",
       " 8389354,\n",
       " 8389355,\n",
       " 8389356,\n",
       " 8389357,\n",
       " 8389358,\n",
       " 8389359,\n",
       " 8389360,\n",
       " 8389361,\n",
       " 8389362,\n",
       " 8389363,\n",
       " 8389364,\n",
       " 8389365,\n",
       " 8389366,\n",
       " 8389367,\n",
       " 8389368,\n",
       " 8389369,\n",
       " 8389370,\n",
       " 8389371,\n",
       " 8389372,\n",
       " 8389373,\n",
       " 8389374,\n",
       " 8389375,\n",
       " 8389376,\n",
       " 8389377,\n",
       " 8389378,\n",
       " 8389379,\n",
       " 8389380,\n",
       " 8389381,\n",
       " 8389382,\n",
       " 8389383,\n",
       " 8389384,\n",
       " 8389385,\n",
       " 8389386,\n",
       " 8389387,\n",
       " 8389388,\n",
       " 8389389,\n",
       " 8389390,\n",
       " 8389391,\n",
       " 8389392,\n",
       " 8389393,\n",
       " 8389394,\n",
       " 8389395,\n",
       " 8389396,\n",
       " 8389397,\n",
       " 8389398,\n",
       " 8389399,\n",
       " 8389400,\n",
       " 8389401,\n",
       " 8389402,\n",
       " 8389403,\n",
       " 8389404,\n",
       " 8389405,\n",
       " 8389406,\n",
       " 8389407,\n",
       " 8389408,\n",
       " 8389409,\n",
       " 8389410,\n",
       " 8389411,\n",
       " 8389412,\n",
       " 8389413,\n",
       " 8389414,\n",
       " 8389415,\n",
       " 8389416,\n",
       " 8389417,\n",
       " 8389418,\n",
       " 8389419,\n",
       " 8389420,\n",
       " 8389421,\n",
       " 8389422,\n",
       " 8389423,\n",
       " 8389424,\n",
       " 8389425,\n",
       " 8389426,\n",
       " 8389427,\n",
       " 8389428,\n",
       " 8389429,\n",
       " 8389430,\n",
       " 8389431,\n",
       " 8389432,\n",
       " 8389433,\n",
       " 8389434,\n",
       " 8389435,\n",
       " 8389436,\n",
       " 8389437,\n",
       " 8389438,\n",
       " 8389439,\n",
       " 8389440,\n",
       " 8389441,\n",
       " 8389442,\n",
       " 8389443,\n",
       " 8389444,\n",
       " 8389445,\n",
       " 8389446,\n",
       " 8389447,\n",
       " 8389448,\n",
       " 8389449,\n",
       " 8389450,\n",
       " 8389451,\n",
       " 8389452,\n",
       " 8389453,\n",
       " 8389454,\n",
       " 8389455,\n",
       " 8389456,\n",
       " 8389457,\n",
       " 8389458,\n",
       " 8389459,\n",
       " 8389460,\n",
       " 8389461,\n",
       " 8389462,\n",
       " 8389463,\n",
       " 8389464,\n",
       " 8389465,\n",
       " 8389466,\n",
       " 8389467,\n",
       " 8389468,\n",
       " 8389469,\n",
       " 8389470,\n",
       " 8389471,\n",
       " 8389472,\n",
       " 8389473,\n",
       " 8389474,\n",
       " 8389475,\n",
       " 8389476,\n",
       " 8389477,\n",
       " 8389478,\n",
       " 8389479,\n",
       " 8389480,\n",
       " 8389481,\n",
       " 8389482,\n",
       " 8389483,\n",
       " 8389484,\n",
       " 8389485,\n",
       " 8389486,\n",
       " 8389487,\n",
       " 8389488,\n",
       " 8389489,\n",
       " 8389490,\n",
       " 8389491,\n",
       " 8389492,\n",
       " 8389493,\n",
       " 8389494,\n",
       " 8389495,\n",
       " 8389496,\n",
       " 8389497,\n",
       " 8389498,\n",
       " 8389499,\n",
       " 8389500,\n",
       " 8389501,\n",
       " 8389502,\n",
       " 8389503,\n",
       " 8389504,\n",
       " 8389505,\n",
       " 8389506,\n",
       " 8389507,\n",
       " 8389508,\n",
       " 8389509,\n",
       " 8389510,\n",
       " 8389511,\n",
       " 8389512,\n",
       " 8389513,\n",
       " 8389514,\n",
       " 8389515,\n",
       " 8389516,\n",
       " 8389517,\n",
       " 8389518,\n",
       " 8389519,\n",
       " 8389520,\n",
       " 8389521,\n",
       " 8389522,\n",
       " 8389523,\n",
       " 8389524,\n",
       " 8389525,\n",
       " 8389526,\n",
       " 8389527,\n",
       " 8389528,\n",
       " 8389529,\n",
       " 8389530,\n",
       " 8389531,\n",
       " 8389532,\n",
       " 8389533,\n",
       " 8389534,\n",
       " 8389535,\n",
       " 8389536,\n",
       " 8389537,\n",
       " 8389538,\n",
       " 8389539,\n",
       " 8389540,\n",
       " 8389541,\n",
       " 8389542,\n",
       " 8389543,\n",
       " 8389544,\n",
       " 8389545,\n",
       " 8389546,\n",
       " 8389547,\n",
       " 8389548,\n",
       " 8389549,\n",
       " 8389550,\n",
       " 8389551,\n",
       " 8389552,\n",
       " 8389553,\n",
       " 8389554,\n",
       " 8389555,\n",
       " 8389556,\n",
       " 8389557,\n",
       " 8389558,\n",
       " 8389559,\n",
       " 8389560,\n",
       " 8389561,\n",
       " 8389562,\n",
       " 8389563,\n",
       " 8389564,\n",
       " 8389565,\n",
       " 8389566,\n",
       " 8389567,\n",
       " 8389568,\n",
       " 8389569,\n",
       " 8389570,\n",
       " 8389571,\n",
       " 8389572,\n",
       " 8389573,\n",
       " 8389574,\n",
       " 8389575,\n",
       " 8389576,\n",
       " 8389577,\n",
       " 8389578,\n",
       " 8389579,\n",
       " 8389580,\n",
       " 8389581,\n",
       " 8389582,\n",
       " 8389583,\n",
       " 8389584,\n",
       " 8389585,\n",
       " 8389586,\n",
       " 8389587,\n",
       " 8389588,\n",
       " 8389589,\n",
       " 8389590,\n",
       " 8389591,\n",
       " 8389592,\n",
       " 8389593,\n",
       " 8389594,\n",
       " 8389595,\n",
       " 8389596,\n",
       " 8389597,\n",
       " 8389598,\n",
       " 8389599,\n",
       " 8389600,\n",
       " 8389601,\n",
       " 8389602,\n",
       " 8389603,\n",
       " 8389604,\n",
       " 8389605,\n",
       " 8389606,\n",
       " 8389607,\n",
       " ...]"
      ]
     },
     "execution_count": 34,
     "metadata": {},
     "output_type": "execute_result"
    }
   ],
   "source": [
    "# Serialize the MOC from fits to json/dict.\n",
    "moc_json = moc.serialize(format=\"json\")\n",
    "# Init. a list of HEALPix indices.\n",
    "healpix_indices = []\n",
    "# Set a MOC order. MOC order >= max order in the original MOC.\n",
    "input_order = order\n",
    "print(\"input_order: \", input_order)\n",
    "# Read MOC JSON file.\n",
    "for key, value in moc_json.items():\n",
    "    order = int(key)\n",
    "\n",
    "    # Flatten cells.\n",
    "    for npix in value:\n",
    "        first_index = npix * 4 ** (input_order - order)\n",
    "        last_index = (npix + 1) * 4 ** (input_order - order) - 1\n",
    "\n",
    "        # Resulting list of flatten cells.\n",
    "        for healpix_index in np.arange(first_index, last_index + 1):\n",
    "            healpix_indices.append(healpix_index)\n",
    "healpix_indices"
   ]
  },
  {
   "cell_type": "code",
   "execution_count": 35,
   "id": "ddfadf77",
   "metadata": {},
   "outputs": [],
   "source": [
    "# Convert HEALPix indices to celestial coordinates.\n",
    "healpix_indices = np.array(healpix_indices)\n",
    "skycoord = healpix_to_skycoord(healpix_indices, input_order)"
   ]
  },
  {
   "cell_type": "markdown",
   "id": "25570913",
   "metadata": {},
   "source": [
    "In the next cell, we open a samp instance with the function defined at the beginning of this notebook. This protocol will try to send information to the Aladin desktop application to vizualize the observation plan. Be sure that the application is open. \n",
    "\n",
    "To install the aladin desktop software, follow the instructions below.\n",
    "\n",
    "Download the Aladin.jar from the Aladin download page. Execute it from a terminal by typing:\n",
    "\n",
    "`$ java -Xmx2g -jar Aladin.jar`\n",
    "\n",
    "The flag -Xmx specifies the maximum memory allocation pool for a JVM. Here 2GB of memory is allocated. For GW sky localizations with nside=2048, increase the memory allocated up to 3GB, -Xmx3g."
   ]
  },
  {
   "cell_type": "code",
   "execution_count": 36,
   "id": "f167a1b9",
   "metadata": {},
   "outputs": [],
   "source": [
    "def get_observation_moc(start_time, after_n_hours: int, observer):\n",
    "    \"\"\"Get an observation MOC from observer point of view n-hours after start-time.\n",
    "\n",
    "    This MOC corresponds to a sky area above the horizon (above 18°) and with an\n",
    "    airmass comprised between 1 and 2.\n",
    "\n",
    "    Parameters\n",
    "    ----------\n",
    "    start_time : `astropy.time.core.Time`\n",
    "        Time at which the observation starts\n",
    "    after_n_hours : int\n",
    "        Increment for the time, in hours\n",
    "    observer : `astroplan.observer.Observer`\n",
    "        An observatory, as defined in astroplan\n",
    "\n",
    "    Returns\n",
    "    -------\n",
    "    `mocpy.moc.moc.MOC`\n",
    "        The corresponding MOC\n",
    "    \"\"\"\n",
    "    time_step = start_time + timedelta(hours=after_n_hours)\n",
    "    night = observer.is_night(time_step, horizon=-18 * u.deg)\n",
    "    print(f\"Was it nightime in {observatory_name} at {time_step.iso}? \", night)\n",
    "\n",
    "    # Airmass calculation\n",
    "    airmass = observatory_astroplan_observer.altaz(time_step, skycoord).secz\n",
    "\n",
    "    # Create an Astropy table.\n",
    "    tb = QTable([skycoord, airmass], names=[\"skycoord\", \"airmass\"])\n",
    "\n",
    "    # Mask table with selected airmass values.\n",
    "    tb = tb[(tb[\"airmass\"] >= airmass_min) & (tb[\"airmass\"] <= airmass_max)]\n",
    "\n",
    "    # Create an observability MOC.\n",
    "    return MOC.from_skycoords(tb[\"skycoord\"], input_order)"
   ]
  },
  {
   "cell_type": "code",
   "execution_count": 37,
   "id": "1bad3ad5",
   "metadata": {},
   "outputs": [
    {
     "data": {
      "application/vnd.jupyter.widget-view+json": {
       "model_id": "a434caaccf12495e8dac9ada545d7f78",
       "version_major": 2,
       "version_minor": 0
      },
      "text/plain": [
       "Aladin(fov=200.0, options=['allow_full_zoomout', 'coo_frame', 'fov', 'full_screen', 'log', 'overlay_survey', '…"
      ]
     },
     "execution_count": 37,
     "metadata": {},
     "output_type": "execute_result"
    }
   ],
   "source": [
    "observation_aladin = Aladin(fov=200, target=\"20:00:0, +20:00:0\")\n",
    "observation_aladin"
   ]
  },
  {
   "cell_type": "code",
   "execution_count": 39,
   "id": "54d8fed4",
   "metadata": {},
   "outputs": [
    {
     "name": "stdout",
     "output_type": "stream",
     "text": [
      "Was it nightime in haleakala at 2019-04-25 08:18:05.018?  True\n"
     ]
    },
    {
     "data": {
      "image/png": "[encoded data removed]",
      "text/plain": [
       "<Figure size 640x480 with 1 Axes>"
      ]
     },
     "metadata": {},
     "output_type": "display_data"
    },
    {
     "name": "stdout",
     "output_type": "stream",
     "text": [
      "Was it nightime in haleakala at 2019-04-25 10:18:05.018?  True\n"
     ]
    },
    {
     "data": {
      "image/png": "[encoded data removed]",
      "text/plain": [
       "<Figure size 640x480 with 1 Axes>"
      ]
     },
     "metadata": {},
     "output_type": "display_data"
    },
    {
     "name": "stdout",
     "output_type": "stream",
     "text": [
      "Was it nightime in haleakala at 2019-04-25 12:18:05.018?  True\n"
     ]
    },
    {
     "data": {
      "image/png": "[encoded data removed]",
      "text/plain": [
       "<Figure size 640x480 with 1 Axes>"
      ]
     },
     "metadata": {},
     "output_type": "display_data"
    },
    {
     "name": "stdout",
     "output_type": "stream",
     "text": [
      "Was it nightime in haleakala at 2019-04-25 14:18:05.018?  True\n"
     ]
    },
    {
     "data": {
      "image/png": "[encoded data removed]",
      "text/plain": [
       "<Figure size 640x480 with 1 Axes>"
      ]
     },
     "metadata": {},
     "output_type": "display_data"
    }
   ],
   "source": [
    "for increment_hour in range(0, 8, 2):\n",
    "    spacial_moc = get_observation_moc(\n",
    "        start_time,\n",
    "        increment_hour,\n",
    "        observatory_astroplan_observer,\n",
    "    )\n",
    "    observation_aladin.add_moc_from_dict(\n",
    "        spacial_moc.serialize(format=\"json\"),\n",
    "        {\"opacity\": 0.5, \"name\": f\"observation_after_{increment_hour}_hours\"},\n",
    "    )\n",
    "    spacial_moc.display_preview()"
   ]
  },
  {
   "attachments": {},
   "cell_type": "markdown",
   "id": "bf2ea001",
   "metadata": {},
   "source": [
    "Both the visualisations in aladin and with the display_preview allow to see the evolution of the observation area with time. Feel free to check and uncheck the coverages display in the aladin widget in the `Manage Layers` menu.\n",
    "Then, we repeat the same steps for Paranal and SSO observatories fixing the same starting time than for the Haleakala site."
   ]
  },
  {
   "cell_type": "code",
   "execution_count": 40,
   "id": "27d8c607",
   "metadata": {},
   "outputs": [
    {
     "name": "stdout",
     "output_type": "stream",
     "text": [
      "<Observer: name='paranal',\n",
      "    location (lon, lat, el)=(-70.40498688000002 deg, -24.627439409999997 deg, 2668.999999999649 m),\n",
      "    timezone=<UTC>>\n",
      "<Observer: name='sso',\n",
      "    location (lon, lat, el)=(149.06119444444445 deg, -31.273361111111104 deg, 1149.0000000015516 m),\n",
      "    timezone=<UTC>>\n"
     ]
    }
   ],
   "source": [
    "# Set Observers: Paranal and SSO\n",
    "paranal = Observer.at_site(\"paranal\")\n",
    "sso = Observer.at_site(\"sso\")\n",
    "print(paranal)\n",
    "print(sso)"
   ]
  },
  {
   "cell_type": "markdown",
   "id": "d95e1fa4",
   "metadata": {},
   "source": [
    "**An updated list of built-in observatories can be found in [astropy-data/coordinates/sites.json](https://github.com/astropy/astropy-data/blob/162e724509fd18b8bc3fc29f766b716ce4657d20/coordinates/sites.json)**"
   ]
  }
 ],
 "metadata": {
  "kernelspec": {
   "display_name": "cds-tutos",
   "language": "python",
   "name": "python3"
  },
  "language_info": {
   "codemirror_mode": {
    "name": "ipython",
    "version": 3
   },
   "file_extension": ".py",
   "mimetype": "text/x-python",
   "name": "python",
   "nbconvert_exporter": "python",
   "pygments_lexer": "ipython3",
   "version": "3.10.8"
  },
  "vscode": {
   "interpreter": {
    "hash": "18fabf4b7284864439f771ae90661426265feb3ce932d65d859d3ebdb8aac045"
   }
  }
 },
 "nbformat": 4,
 "nbformat_minor": 5
}
