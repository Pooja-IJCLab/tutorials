{
 "cells": [
  {
   "cell_type": "markdown",
   "metadata": {
    "slideshow": {
     "slide_type": "slide"
    }
   },
   "source": [
    "# Demo: FAIR data with Multi-Order Coverage maps\n",
    "\n",
    "## MOCs:\n",
    "\n",
    "- IVOA\tstandard to\tdescribe arbitrary sky regions : https://www.ivoa.net/documents/MOC/\n",
    "- Based on HEALPix sky tessellation\t\n",
    "\n",
    "    - footprints of surveys\n",
    "    - arbitrary polygons from a list of sky coordinates\n",
    "    - sky coverage of catalogues\n",
    "\n",
    "- Perform fast logical operations (intersection, union, difference, complement)\n",
    "\n",
    "- Space and Time coverages\n",
    "\n",
    "\n",
    "<font color=\"blue\">Check the MOCPy's documentation @ https://cds-astro.github.io/mocpy/ </font>"
   ]
  },
  {
   "cell_type": "code",
   "execution_count": null,
   "metadata": {
    "slideshow": {
     "slide_type": "slide"
    }
   },
   "outputs": [],
   "source": [
    "from pathlib import Path\n",
    "\n",
    "# Find and access data\n",
    "from astroquery.cds import cds\n",
    "from astroquery.simbad import Simbad\n",
    "import pyvo\n",
    "\n",
    "# Work with MOCs\n",
    "from mocpy import STMOC\n",
    "from astropy.coordinates import SkyCoord, Angle\n",
    "from astropy.time import Time\n",
    "from astropy import units as u\n",
    "\n",
    "# Visualize\n",
    "from mocpy import World2ScreenMPL\n",
    "import ipyaladin.aladin_widget as ipyal\n",
    "import matplotlib.pyplot as plt"
   ]
  },
  {
   "cell_type": "markdown",
   "metadata": {},
   "source": [
    "## Use `astroquery.cds` to get spatial footprints (MOCs)\n",
    "Query the CDS MOCServer <http://alasky.unistra.fr/MocServer/query> to retrieve the data-sets based on their\n",
    "meta data values"
   ]
  },
  {
   "cell_type": "code",
   "execution_count": null,
   "metadata": {
    "scrolled": true,
    "slideshow": {
     "slide_type": "slide"
    }
   },
   "outputs": [],
   "source": [
    "info_1 = cds.find_datasets(meta_data=\"ID=*SDSS*\")\n",
    "print(info_1['ID']) \n",
    "\n",
    "info_2 = cds.find_datasets(meta_data=\"ID=*XMM*\")\n",
    "print(info_2['ID']) "
   ]
  },
  {
   "cell_type": "markdown",
   "metadata": {},
   "source": [
    "#### Get the MOC object corresponding to the <ins>union</ins> of the MOCs from all the retrieved data-sets"
   ]
  },
  {
   "cell_type": "code",
   "execution_count": null,
   "metadata": {
    "slideshow": {
     "slide_type": "slide"
    }
   },
   "outputs": [],
   "source": [
    "moc_sdss = cds.find_datasets(meta_data=\"ID=CDS/P/SDSS9/color*\", return_moc=True)\n",
    "moc_xmm = cds.find_datasets(meta_data=\"ID=ESAVO/P/XMM/EPIC-RGB\", return_moc=True)"
   ]
  },
  {
   "cell_type": "markdown",
   "metadata": {
    "slideshow": {
     "slide_type": "slide"
    }
   },
   "source": [
    "#### Is a given source observed by a specific survey? "
   ]
  },
  {
   "cell_type": "code",
   "execution_count": null,
   "metadata": {
    "slideshow": {
     "slide_type": "fragment"
    }
   },
   "outputs": [],
   "source": [
    "m87 = Simbad.query_object('M87')\n",
    "m87"
   ]
  },
  {
   "cell_type": "code",
   "execution_count": null,
   "metadata": {
    "slideshow": {
     "slide_type": "fragment"
    }
   },
   "outputs": [],
   "source": [
    "ra, dec = Angle('12h30m49.4233s'), Angle('12d23m28.043s')\n",
    "\n",
    "print(moc_xmm.contains(ra, dec))"
   ]
  },
  {
   "cell_type": "markdown",
   "metadata": {
    "slideshow": {
     "slide_type": "slide"
    }
   },
   "source": [
    "## Compute the intersection of the MOCs\n",
    "What fraction of the sky is covered by both SDSS and XMM ?"
   ]
  },
  {
   "cell_type": "code",
   "execution_count": null,
   "metadata": {
    "slideshow": {
     "slide_type": "fragment"
    }
   },
   "outputs": [],
   "source": [
    "moc_intersection = moc_sdss.intersection(moc_xmm)\n",
    "\n",
    "sky_frac = moc_intersection.sky_fraction\n",
    "print(f'The intersection of SDSS and XMM covers {round(sky_frac * 100., 1)} % of the sky')"
   ]
  },
  {
   "cell_type": "markdown",
   "metadata": {},
   "source": [
    "## Save into a fits file"
   ]
  },
  {
   "cell_type": "code",
   "execution_count": null,
   "metadata": {},
   "outputs": [],
   "source": [
    "moc_intersection.serialize(format='fits')\n",
    "moc_intersection.write(\"Data\" / Path(\"moc_intersection.fits\"), format=\"fits\", overwrite=True)"
   ]
  },
  {
   "cell_type": "markdown",
   "metadata": {},
   "source": [
    "## Visualize and interact with MOCs in Aladin Lite using `ipyaladin`"
   ]
  },
  {
   "cell_type": "code",
   "execution_count": null,
   "metadata": {
    "slideshow": {
     "slide_type": "slide"
    }
   },
   "outputs": [],
   "source": [
    "aladin = ipyal.Aladin(target='M87', survey='P/SDSS9/color')\n",
    "aladin"
   ]
  },
  {
   "cell_type": "code",
   "execution_count": null,
   "metadata": {
    "slideshow": {
     "slide_type": "fragment"
    }
   },
   "outputs": [],
   "source": [
    "aladin.add_moc_from_dict(moc_sdss.serialize(format='json'), {'color': 'yellow', 'opacity': 0.3, 'name': 'SDSS'})\n",
    "aladin.add_moc_from_dict(moc_xmm.serialize(format='json'), {'color': 'blue', 'opacity': 0.5, 'name': 'XMM'})\n",
    "aladin.add_moc_from_dict(moc_intersection.serialize(format='json'), {'color': 'magenta', 'opacity': 0.5, 'name': 'intersection'})"
   ]
  },
  {
   "cell_type": "markdown",
   "metadata": {
    "slideshow": {
     "slide_type": "slide"
    }
   },
   "source": [
    "## Filter a table by a MOC\n",
    "\n",
    "I have a catalogue of sources, how I can select those observed in SDSS and with XMM?"
   ]
  },
  {
   "cell_type": "code",
   "execution_count": null,
   "metadata": {
    "scrolled": true,
    "slideshow": {
     "slide_type": "slide"
    }
   },
   "outputs": [],
   "source": [
    "tap_vizier = pyvo.dal.TAPService('https://tapvizier.cds.unistra.fr/TAPVizieR/tap')\n",
    "\n",
    "query = \"\"\"SELECT  *  FROM \"VII/192/arplist\" \"\"\"\n",
    "\n",
    "table_arplist = tap_vizier.search(query).to_table()\n",
    "table_arplist.show_in_notebook(display_length=5)"
   ]
  },
  {
   "cell_type": "code",
   "execution_count": null,
   "metadata": {
    "slideshow": {
     "slide_type": "slide"
    }
   },
   "outputs": [],
   "source": [
    "coords = SkyCoord(ra=table_arplist['RAJ2000'], \n",
    "                  dec=table_arplist['DEJ2000'], \n",
    "                  unit=(u.deg, u.deg))\n",
    "\n",
    "indexes = moc_intersection.contains(coords.ra, \n",
    "                                    coords.dec)\n",
    "\n",
    "print(f'{len(table_arplist[indexes])} peculiar galaxies are observed both by SDSS and XMM')"
   ]
  },
  {
   "cell_type": "code",
   "execution_count": null,
   "metadata": {
    "slideshow": {
     "slide_type": "fragment"
    }
   },
   "outputs": [],
   "source": [
    "aladin.add_table(table_arplist[indexes]['Name', 'RAJ2000', 'DEJ2000'])"
   ]
  },
  {
   "cell_type": "code",
   "execution_count": null,
   "metadata": {},
   "outputs": [],
   "source": []
  },
  {
   "cell_type": "code",
   "execution_count": null,
   "metadata": {},
   "outputs": [],
   "source": []
  },
  {
   "cell_type": "markdown",
   "metadata": {},
   "source": [
    "## 2. Space & Time coverage: STMOC"
   ]
  },
  {
   "cell_type": "code",
   "execution_count": null,
   "metadata": {},
   "outputs": [],
   "source": [
    "# Find catalog on Vizier \n",
    "tap_vizier = pyvo.dal.TAPService('https://tapvizier.cds.unistra.fr/TAPVizieR/tap')\n",
    "\n",
    "query = '''\n",
    "SELECT  *  FROM tables \n",
    "WHERE description LIKE '%SDSS%quasar%catalog%'\n",
    "'''\n",
    "\n",
    "sdss_catalogues = tap_vizier.search(query).to_table()\n",
    "sdss_catalogues"
   ]
  },
  {
   "cell_type": "code",
   "execution_count": null,
   "metadata": {
    "slideshow": {
     "slide_type": "fragment"
    }
   },
   "outputs": [],
   "source": [
    "# Access the catalog \n",
    "# Check the first rows to explore the table content and columns\n",
    "\n",
    "query = \"\"\"SELECT \n",
    "TOP 3 *\n",
    "FROM \"VII/286/dr14q\" \"\"\"\n",
    "\n",
    "table_info = tap_vizier.search(query).to_table()\n",
    "table_info"
   ]
  },
  {
   "cell_type": "code",
   "execution_count": null,
   "metadata": {},
   "outputs": [],
   "source": [
    "# Access the info on position of the sources and observation time\n",
    "\n",
    "query = \"\"\"SELECT \n",
    "RAJ2000, DEJ2000, MJD\n",
    "FROM \"VII/286/dr14q\" \"\"\"\n",
    "\n",
    "table_sdss = tap_vizier.search(query).to_table()\n",
    "table_sdss"
   ]
  },
  {
   "cell_type": "code",
   "execution_count": null,
   "metadata": {},
   "outputs": [],
   "source": [
    "# Define times, longitudes and latitudes\n",
    "times_sdss = Time(table_sdss['MJD'].data, format='mjd', scale='tdb')\n",
    "lon_sdss = table_sdss['RAJ2000'].quantity\n",
    "lat_sdss = table_sdss['DEJ2000'].quantity"
   ]
  },
  {
   "cell_type": "markdown",
   "metadata": {},
   "source": [
    "## Create the Space-Time coverage \n",
    "at the depth (time, space) = 10, 9 i.e.:\n",
    "\n",
    "- a **time** resolution of ~3 days\n",
    "- a **spatial** resolution of ~7 arcmin"
   ]
  },
  {
   "cell_type": "code",
   "execution_count": null,
   "metadata": {},
   "outputs": [],
   "source": [
    "time_depth = 10\n",
    "spatial_depth = 9\n",
    "\n",
    "sdss = STMOC.from_times_positions(times_sdss, time_depth, lon_sdss, lat_sdss, spatial_depth)\n",
    "\n",
    "print(\"Time of the first observation: \", sdss.min_time.iso)\n",
    "print(\"Time of the last observation: \", sdss.max_time.iso)"
   ]
  },
  {
   "cell_type": "markdown",
   "metadata": {},
   "source": [
    "## Query a ST-MOC by a time range\n",
    "Retrieve the regions being observed each four years"
   ]
  },
  {
   "cell_type": "code",
   "execution_count": null,
   "metadata": {},
   "outputs": [],
   "source": [
    "def add_to_plot(fig, id, wcs, title, moc):\n",
    "    ax = fig.add_subplot(id, projection=wcs)\n",
    "\n",
    "    ax.grid(color=\"black\", linestyle=\"dotted\")\n",
    "    ax.set_title(title)\n",
    "    ax.set_xlabel('lon')\n",
    "    ax.set_ylabel('lat')\n",
    "\n",
    "    #Draw the MOC with its HEALPix cells\n",
    "    moc.fill(ax=ax, wcs=wcs, alpha=0.9, fill=True, linewidth=0, color=\"#00bb00\")\n",
    "    #Draw the perimeter of a MOC\n",
    "    moc.border(ax=ax, wcs=wcs, linewidth=1, color=\"green\")\n",
    "\n",
    "fig = plt.figure(figsize=(10, 10))\n",
    "\n",
    "time_ranges = Time([\n",
    "        [[\"2000-03-02\", \"2004-01-01\"]],\n",
    "        [[\"2004-01-01\", \"2008-01-01\"]],\n",
    "        [[\"2008-01-01\", \"2012-05-14\"]],\n",
    "        [[\"2012-01-01\", \"2016-05-14\"]]\n",
    "    ], format='iso', scale='tdb', out_subfmt=\"date\")\n",
    "\n",
    "with World2ScreenMPL(fig, \n",
    "         fov=330 * u.deg,\n",
    "         center=SkyCoord(0, 0, unit='deg', frame='galactic'),\n",
    "         coordsys=\"galactic\",\n",
    "         rotation=Angle(0, u.degree),\n",
    "         projection=\"AIT\") as wcs:\n",
    "\n",
    "    for i in range(0, 4):\n",
    "        moc_sdss = sdss.query_by_time(time_ranges[i])\n",
    "        title = \"Quasars observations between \\n{0} and {1}\".format(time_ranges[i][0, 0].iso, time_ranges[i][0, 1].iso)\n",
    "        id_subplot = int(\"22\" + str(i+1))\n",
    "        add_to_plot(fig, id_subplot, wcs, title, moc_sdss)\n",
    "\n",
    "plt.show()"
   ]
  },
  {
   "cell_type": "markdown",
   "metadata": {},
   "source": [
    "## Compute the intersection between Space-Time coverages\n",
    "\n",
    "#### Retrieve the areas that have been observed at the same time by two surveys"
   ]
  },
  {
   "cell_type": "code",
   "execution_count": null,
   "metadata": {},
   "outputs": [],
   "source": [
    "query = '''\n",
    "SELECT  *  FROM tables \n",
    "WHERE description LIKE '%3XMM%'\n",
    "'''\n",
    "\n",
    "mash_catalogues = tap_vizier.search(query).to_table()\n",
    "mash_catalogues"
   ]
  },
  {
   "cell_type": "code",
   "execution_count": null,
   "metadata": {},
   "outputs": [],
   "source": [
    "query = \"\"\"SELECT \n",
    "RA_ICRS,DE_ICRS,MJD0\n",
    "FROM \"IX/55/xmm3r8s\" \"\"\"\n",
    "\n",
    "table_xmm = tap_vizier.search(query).to_table()\n",
    "table_xmm"
   ]
  },
  {
   "cell_type": "code",
   "execution_count": null,
   "metadata": {},
   "outputs": [],
   "source": [
    "times_xmm = Time(table_xmm['MJD0'].data, format='mjd', scale='tdb')\n",
    "lon_xmm = table_xmm['RA_ICRS'].quantity\n",
    "lat_xmm = table_xmm['DE_ICRS'].quantity\n",
    "\n",
    "# Create the STMOC\n",
    "xmm_dr8_stmoc = STMOC.from_times_positions(times_xmm, time_depth, lon_xmm, lat_xmm, spatial_depth)\n"
   ]
  },
  {
   "cell_type": "code",
   "execution_count": null,
   "metadata": {},
   "outputs": [],
   "source": [
    "# Compute their intersection and check that it is not empty\n",
    "xmm_inter_sdss = xmm_dr8_stmoc.intersection(sdss)\n",
    "assert(not xmm_inter_sdss.is_empty())"
   ]
  },
  {
   "cell_type": "markdown",
   "metadata": {},
   "source": [
    "### - Discover all the functionalities on https://cds-astro.github.io/mocpy/ \n",
    "\n",
    "### - MOC data structure to plan multi-messenger observations \n",
    "- Greco et al., Astronomy and Computing 2021, DOI: [10.1016/j.ascom.2022.100547](https://ui.adsabs.harvard.edu/link_gateway/2022A&C....3900547G/doi:10.1016/j.ascom.2022.100547)\n",
    "- Notebook: https://github.com/ggreco77/MOC-to-plan-MMA\n"
   ]
  },
  {
   "cell_type": "code",
   "execution_count": null,
   "metadata": {},
   "outputs": [],
   "source": []
  }
 ],
 "metadata": {
  "kernelspec": {
   "display_name": "Python 3 (ipykernel)",
   "language": "python",
   "name": "python3"
  },
  "language_info": {
   "codemirror_mode": {
    "name": "ipython",
    "version": 3
   },
   "file_extension": ".py",
   "mimetype": "text/x-python",
   "name": "python",
   "nbconvert_exporter": "python",
   "pygments_lexer": "ipython3",
   "version": "3.8.10"
  }
 },
 "nbformat": 4,
 "nbformat_minor": 2
}
