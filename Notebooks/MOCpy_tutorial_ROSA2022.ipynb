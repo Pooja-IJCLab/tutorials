{
 "cells": [
  {
   "cell_type": "markdown",
   "metadata": {
    "slideshow": {
     "slide_type": "slide"
    }
   },
   "source": [
    "# Demo: FAIR data with Multi-Order Coverage maps\n",
    "\n",
    "## MOCs:\n",
    "\n",
    "- IVOA\tstandard to\tdescribe arbitrary sky regions : https://www.ivoa.net/documents/MOC/\n",
    "- Based on HEALPix sky tessellation\t\n",
    "\n",
    "    - footprints of surveys\n",
    "    - arbitrary polygons from a list of sky coordinates\n",
    "    - sky coverage of catalogues\n",
    "\n",
    "- Perform fast logical operations (intersection, union, difference, complement)\n",
    "\n",
    "- Space and Time coverages\n",
    "\n",
    "\n",
    "<font color=\"blue\">Check the MOCPy's documentation @ https://cds-astro.github.io/mocpy/ </font>"
   ]
  },
  {
   "cell_type": "code",
   "execution_count": 1,
   "metadata": {
    "slideshow": {
     "slide_type": "slide"
    }
   },
   "outputs": [],
   "source": [
    "# Find and access data\n",
    "from astroquery.cds import cds\n",
    "from astroquery.simbad import Simbad\n",
    "import pyvo\n",
    "\n",
    "# Work with MOCs\n",
    "from mocpy import STMOC\n",
    "from astropy.coordinates import SkyCoord, Angle\n",
    "from astropy.time import Time\n",
    "from astropy import units as u\n",
    "\n",
    "# Visualize\n",
    "from mocpy import World2ScreenMPL\n",
    "import ipyaladin.aladin_widget as ipyal\n",
    "import matplotlib.pyplot as plt"
   ]
  },
  {
   "cell_type": "markdown",
   "metadata": {},
   "source": [
    "## Use `astroquery.cds` to get spatial footprints (MOCs)\n",
    "Query the CDS MOCServer <http://alasky.unistra.fr/MocServer/query> to retrieve the data-sets based on their\n",
    "meta data values"
   ]
  },
  {
   "cell_type": "code",
   "execution_count": 2,
   "metadata": {
    "scrolled": true,
    "slideshow": {
     "slide_type": "slide"
    }
   },
   "outputs": [
    {
     "name": "stdout",
     "output_type": "stream",
     "text": [
      "            ID           \n",
      "-------------------------\n",
      "CDS/J/ApJ/749/10/SDSS-obs\n",
      "          CDS/P/HLA/SDSSg\n",
      "          CDS/P/HLA/SDSSr\n",
      "          CDS/P/HLA/SDSSz\n",
      "          CDS/P/HST/SDSSg\n",
      "          CDS/P/HST/SDSSr\n",
      "          CDS/P/HST/SDSSz\n",
      "        CDS/P/SDSS9/color\n",
      "    CDS/P/SDSS9/color-alt\n",
      "            CDS/P/SDSS9/g\n",
      "            CDS/P/SDSS9/i\n",
      "            CDS/P/SDSS9/r\n",
      "            CDS/P/SDSS9/u\n",
      "            CDS/P/SDSS9/z\n",
      "           ID          \n",
      "-----------------------\n",
      "   ESAVO/P/XMM/EPIC-RGB\n",
      " ESAVO/P/XMM/OM-Optical\n",
      "      ESAVO/P/XMM/OM-UV\n",
      "JAXA/XMM/EPIC/Catalogue\n",
      "  xcatdb/P/XMM/PN/color\n",
      "    xcatdb/P/XMM/PN/eb2\n",
      "    xcatdb/P/XMM/PN/eb3\n",
      "    xcatdb/P/XMM/PN/eb4\n"
     ]
    }
   ],
   "source": [
    "info_1 = cds.find_datasets(meta_data=\"ID=*SDSS*\")\n",
    "print(info_1['ID']) \n",
    "\n",
    "info_2 = cds.find_datasets(meta_data=\"ID=*XMM*\")\n",
    "print(info_2['ID']) "
   ]
  },
  {
   "cell_type": "markdown",
   "metadata": {},
   "source": [
    "#### Get the MOC object corresponding to the <ins>union</ins> of the MOCs from all the retrieved data-sets"
   ]
  },
  {
   "cell_type": "code",
   "execution_count": 3,
   "metadata": {
    "slideshow": {
     "slide_type": "slide"
    }
   },
   "outputs": [],
   "source": [
    "moc_sdss = cds.find_datasets(meta_data=\"ID=CDS/P/SDSS9/color*\", return_moc=True)\n",
    "moc_xmm = cds.find_datasets(meta_data=\"ID=ESAVO/P/XMM/EPIC-RGB\", return_moc=True)"
   ]
  },
  {
   "cell_type": "markdown",
   "metadata": {
    "slideshow": {
     "slide_type": "slide"
    }
   },
   "source": [
    "#### Is a given source observed by a specific survey? "
   ]
  },
  {
   "cell_type": "code",
   "execution_count": 4,
   "metadata": {
    "slideshow": {
     "slide_type": "fragment"
    }
   },
   "outputs": [
    {
     "data": {
      "text/html": [
       "<div><i>Table length=1</i>\n",
       "<table id=\"table140377932362464\" class=\"table-striped table-bordered table-condensed\">\n",
       "<thead><tr><th>MAIN_ID</th><th>RA</th><th>DEC</th><th>RA_PREC</th><th>DEC_PREC</th><th>COO_ERR_MAJA</th><th>COO_ERR_MINA</th><th>COO_ERR_ANGLE</th><th>COO_QUAL</th><th>COO_WAVELENGTH</th><th>COO_BIBCODE</th></tr></thead>\n",
       "<thead><tr><th></th><th>&quot;h:m:s&quot;</th><th>&quot;d:m:s&quot;</th><th></th><th></th><th>mas</th><th>mas</th><th>deg</th><th></th><th></th><th></th></tr></thead>\n",
       "<thead><tr><th>object</th><th>str13</th><th>str13</th><th>int16</th><th>int16</th><th>float32</th><th>float32</th><th>int16</th><th>str1</th><th>str1</th><th>object</th></tr></thead>\n",
       "<tr><td>M  87</td><td>12 30 49.4233</td><td>+12 23 28.043</td><td>12</td><td>12</td><td>0.041</td><td>0.043</td><td>90</td><td>A</td><td>R</td><td>2015AJ....150...58F</td></tr>\n",
       "</table></div>"
      ],
      "text/plain": [
       "<Table length=1>\n",
       "MAIN_ID       RA           DEC      ... COO_WAVELENGTH     COO_BIBCODE    \n",
       "           \"h:m:s\"       \"d:m:s\"    ...                                   \n",
       " object     str13         str13     ...      str1             object      \n",
       "------- ------------- ------------- ... -------------- -------------------\n",
       "  M  87 12 30 49.4233 +12 23 28.043 ...              R 2015AJ....150...58F"
      ]
     },
     "execution_count": 4,
     "metadata": {},
     "output_type": "execute_result"
    }
   ],
   "source": [
    "m87 = Simbad.query_object('M87')\n",
    "m87"
   ]
  },
  {
   "cell_type": "code",
   "execution_count": 5,
   "metadata": {
    "slideshow": {
     "slide_type": "fragment"
    }
   },
   "outputs": [
    {
     "name": "stdout",
     "output_type": "stream",
     "text": [
      "[ True]\n"
     ]
    }
   ],
   "source": [
    "ra, dec = Angle('12h30m49.4233s'), Angle('12d23m28.043s')\n",
    "\n",
    "print(moc_xmm.contains(ra, dec))"
   ]
  },
  {
   "cell_type": "markdown",
   "metadata": {
    "slideshow": {
     "slide_type": "slide"
    }
   },
   "source": [
    "## Compute the intersection of the MOCs\n",
    "What fraction of the sky is covered by both SDSS and XMM ?"
   ]
  },
  {
   "cell_type": "code",
   "execution_count": 6,
   "metadata": {
    "slideshow": {
     "slide_type": "fragment"
    }
   },
   "outputs": [
    {
     "name": "stdout",
     "output_type": "stream",
     "text": [
      "The intersection of SDSS and XMM covers 3.9 % of the sky\n"
     ]
    }
   ],
   "source": [
    "moc_intersection = moc_sdss.intersection(moc_xmm)\n",
    "\n",
    "sky_frac = moc_intersection.sky_fraction\n",
    "print('The intersection of SDSS and XMM covers {:.1f} % of the sky'.format(sky_frac * 100.))"
   ]
  },
  {
   "cell_type": "markdown",
   "metadata": {},
   "source": [
    "## Save into a fits file"
   ]
  },
  {
   "cell_type": "code",
   "execution_count": 7,
   "metadata": {},
   "outputs": [],
   "source": [
    "moc_intersection.serialize(format='fits')\n",
    "moc_intersection.write(\"moc_intersection.fits\", format=\"fits\", overwrite=True)"
   ]
  },
  {
   "cell_type": "markdown",
   "metadata": {},
   "source": [
    "## Visualize and interact with MOCs in Aladin Lite using `ipyaladin`"
   ]
  },
  {
   "cell_type": "code",
   "execution_count": 8,
   "metadata": {
    "slideshow": {
     "slide_type": "slide"
    }
   },
   "outputs": [
    {
     "data": {
      "application/vnd.jupyter.widget-view+json": {
       "model_id": "0d6f937cdeb94ce28168249715a6fe83",
       "version_major": 2,
       "version_minor": 0
      },
      "text/plain": [
       "Aladin(options=['allow_full_zoomout', 'coo_frame', 'fov', 'full_screen', 'log', 'overlay_survey', 'overlay_sur…"
      ]
     },
     "metadata": {},
     "output_type": "display_data"
    }
   ],
   "source": [
    "aladin = ipyal.Aladin(target='M87', survey='P/SDSS9/color')\n",
    "aladin"
   ]
  },
  {
   "cell_type": "code",
   "execution_count": 9,
   "metadata": {
    "slideshow": {
     "slide_type": "fragment"
    }
   },
   "outputs": [],
   "source": [
    "aladin.add_moc_from_dict(moc_sdss.serialize(format='json'), {'color': 'yellow', 'opacity': 0.3, 'name': 'SDSS'})\n",
    "aladin.add_moc_from_dict(moc_xmm.serialize(format='json'), {'color': 'blue', 'opacity': 0.5, 'name': 'XMM'})\n",
    "aladin.add_moc_from_dict(moc_intersection.serialize(format='json'), {'color': 'magenta', 'opacity': 0.5, 'name': 'intersection'})"
   ]
  },
  {
   "cell_type": "markdown",
   "metadata": {
    "slideshow": {
     "slide_type": "slide"
    }
   },
   "source": [
    "## Filter a table by a MOC\n",
    "\n",
    "I have a catalogue of sources, how I can select those observed in SDSS and with XMM?"
   ]
  },
  {
   "cell_type": "code",
   "execution_count": 10,
   "metadata": {
    "scrolled": true,
    "slideshow": {
     "slide_type": "slide"
    }
   },
   "outputs": [
    {
     "data": {
      "text/html": [
       "<i>Table length=592</i>\n",
       "<table id=\"table140378340423232-446746\" class=\"table-striped table-bordered table-condensed\">\n",
       "<thead><tr><th>idx</th><th>recno</th><th>Arp</th><th>Name</th><th>VT</th><th>u_VT</th><th>dim1</th><th>dim2</th><th>u_dim2</th><th>MType</th><th>Uchart</th><th>RAJ2000</th><th>DEJ2000</th></tr></thead>\n",
       "<thead><tr><th></th><th></th><th></th><th></th><th>mag</th><th></th><th>arcmin</th><th>arcmin</th><th></th><th></th><th></th><th>deg</th><th>deg</th></tr></thead>\n",
       "<tr><td>0</td><td>112</td><td>333</td><td>NGC 1024</td><td>12.1</td><td></td><td>3.9</td><td>1.4</td><td></td><td>(R&apos;)SA(r)ab</td><td>175</td><td>39.80083333333333</td><td>10.847222222222221</td></tr>\n",
       "<tr><td>1</td><td>120</td><td>200</td><td>NGC 1134</td><td>12.1</td><td></td><td>2.5</td><td>0.9</td><td></td><td>S?</td><td>175</td><td>43.42124999999999</td><td>13.015277777777776</td></tr>\n",
       "<tr><td>2</td><td>119</td><td>190</td><td>UGC 02320</td><td>15.2</td><td></td><td>0.5</td><td>0.3</td><td></td><td>Multiple Sys</td><td>--</td><td>42.58291666666666</td><td>12.889444444444443</td></tr>\n",
       "<tr><td>3</td><td>89</td><td>290</td><td>IC 0195</td><td>14.3</td><td></td><td>1.6</td><td>0.8</td><td></td><td>S0</td><td>--</td><td>30.935833333333328</td><td>14.708611111111109</td></tr>\n",
       "<tr><td>4</td><td>90</td><td>290</td><td>IC 0196</td><td>14.2</td><td></td><td>2.8</td><td>1.4</td><td></td><td>S0-</td><td>--</td><td>30.95833333333333</td><td>14.73972222222222</td></tr>\n",
       "<tr><td>5</td><td>111</td><td>258</td><td>UGC 02140A</td><td>15.5</td><td></td><td>0.9</td><td>0.2</td><td></td><td>SB.0*/</td><td>--</td><td>39.78874999999999</td><td>18.367499999999996</td></tr>\n",
       "<tr><td>6</td><td>110</td><td>258</td><td>UGC 02140</td><td>15.4</td><td></td><td>1.7</td><td>0.7</td><td></td><td>IBS9P</td><td>--</td><td>39.77583333333333</td><td>18.382777777777775</td></tr>\n",
       "<tr><td>7</td><td>109</td><td>258</td><td>Hickson 18C</td><td>16.1</td><td></td><td>--</td><td>--</td><td></td><td>S?</td><td>--</td><td>39.774583333333325</td><td>18.388333333333332</td></tr>\n",
       "<tr><td>8</td><td>108</td><td>258</td><td>Hickson 18D</td><td>14.6</td><td></td><td>--</td><td>--</td><td></td><td>S?</td><td>--</td><td>39.76916666666666</td><td>18.393888888888885</td></tr>\n",
       "<tr><td>9</td><td>105</td><td>276</td><td>IC 1801</td><td>14.8</td><td></td><td>1.3</td><td>0.6</td><td></td><td>SBB:</td><td>--</td><td>37.049166666666665</td><td>19.57333333333333</td></tr>\n",
       "<tr><td>10</td><td>104</td><td>276</td><td>NGC 0935</td><td>12.9</td><td></td><td>1.7</td><td>1.1</td><td></td><td>Scd:</td><td>130</td><td>37.04541666666666</td><td>19.59972222222222</td></tr>\n",
       "<tr><td>11</td><td>82</td><td>56</td><td>UGC 01432</td><td>14.6</td><td></td><td>0.9</td><td>0.6</td><td></td><td>Sbc</td><td>--</td><td>29.35708333333333</td><td>17.217499999999998</td></tr>\n",
       "<tr><td>12</td><td>87</td><td>78</td><td>NGC 0770</td><td>13.9</td><td></td><td>1.1</td><td>0.7</td><td></td><td>E3</td><td>--</td><td>29.80666666666666</td><td>18.95444444444444</td></tr>\n",
       "<tr><td>13</td><td>88</td><td>78</td><td>NGC 0772</td><td>10.3</td><td></td><td>7.3</td><td>4.3</td><td></td><td>SA(s)b I +</td><td>129</td><td>29.834583333333327</td><td>19.006111111111107</td></tr>\n",
       "<tr><td>14</td><td>80</td><td>31</td><td>IC 0167</td><td>13.6</td><td></td><td>2.9</td><td>1.9</td><td></td><td>SAB(s)c</td><td>--</td><td>27.784166666666664</td><td>21.914166666666663</td></tr>\n",
       "<tr><td>15</td><td>84</td><td>166</td><td>NGC 0751</td><td>13.5</td><td></td><td>1.4</td><td>--</td><td></td><td>E pec</td><td>92</td><td>29.38583333333333</td><td>33.206111111111106</td></tr>\n",
       "<tr><td>16</td><td>83</td><td>166</td><td>NGC 0750</td><td>12.9</td><td></td><td>1.7</td><td>1.3</td><td></td><td>E pec</td><td>92</td><td>29.384999999999994</td><td>33.209999999999994</td></tr>\n",
       "<tr><td>17</td><td>64</td><td>70</td><td>UGC 00934</td><td>17.0</td><td></td><td>--</td><td>--</td><td></td><td></td><td>--</td><td>20.861666666666665</td><td>30.77222222222222</td></tr>\n",
       "<tr><td>18</td><td>65</td><td>70</td><td>UGC 00934</td><td>15.0</td><td></td><td>1.7</td><td>0.6</td><td></td><td>S?</td><td>--</td><td>20.867916666666662</td><td>30.784722222222218</td></tr>\n",
       "<tr><td>19</td><td>49</td><td>331</td><td>NGC 0388</td><td>14.3</td><td></td><td>0.9</td><td>0.8</td><td></td><td>E3</td><td>91</td><td>16.94625</td><td>32.309999999999995</td></tr>\n",
       "<tr><td>20</td><td>46</td><td>331</td><td>NGC 0384</td><td>13.0</td><td></td><td>1.1</td><td>0.9</td><td></td><td>E3</td><td>91</td><td>16.854166666666664</td><td>32.29277777777777</td></tr>\n",
       "<tr><td>21</td><td>47</td><td>331</td><td>NGC 0385</td><td>12.9</td><td></td><td>1.1</td><td>1.0</td><td></td><td>LA-*</td><td>91</td><td>16.865</td><td>32.32111111111111</td></tr>\n",
       "<tr><td>22</td><td>48</td><td>331</td><td>NGC 0386</td><td>14.1</td><td></td><td>0.9</td><td>0.8</td><td></td><td>E3</td><td>91</td><td>16.88</td><td>32.362222222222215</td></tr>\n",
       "<tr><td>23</td><td>44</td><td>331</td><td>NGC 0382</td><td>14.0</td><td></td><td>0.7</td><td>--</td><td></td><td>E0</td><td>91</td><td>16.849166666666665</td><td>32.403611111111104</td></tr>\n",
       "<tr><td>24</td><td>45</td><td>331</td><td>NGC 0383</td><td>11.9</td><td></td><td>1.6</td><td>1.4</td><td></td><td>SA0-</td><td>91</td><td>16.853749999999998</td><td>32.412499999999994</td></tr>\n",
       "<tr><td>25</td><td>43</td><td>331</td><td>NGC 0380</td><td>12.5</td><td></td><td>1.4</td><td>1.2</td><td></td><td>E2</td><td>91</td><td>16.825</td><td>32.483888888888885</td></tr>\n",
       "<tr><td>26</td><td>42</td><td>331</td><td>NGC 0379</td><td>12.6</td><td></td><td>1.4</td><td>0.8</td><td></td><td>S0</td><td>91</td><td>16.815416666666664</td><td>32.521388888888886</td></tr>\n",
       "<tr><td>27</td><td>74</td><td>98</td><td>UGC 01095</td><td>15.0</td><td></td><td>0.3</td><td>--</td><td>?</td><td>S? C?</td><td>--</td><td>23.069999999999997</td><td>32.09027777777777</td></tr>\n",
       "<tr><td>28</td><td>73</td><td>98</td><td>UGC 01095</td><td>16.0</td><td></td><td>1.1</td><td>0.5</td><td></td><td></td><td>--</td><td>23.035416666666663</td><td>32.10361111111111</td></tr>\n",
       "<tr><td>29</td><td>66</td><td>229</td><td>NGC 0507</td><td>14.1</td><td></td><td>3.1</td><td>--</td><td></td><td>Sa(r)0^0</td><td>91</td><td>20.915416666666665</td><td>33.256388888888885</td></tr>\n",
       "<tr><td>30</td><td>67</td><td>229</td><td>NGC 0508</td><td>13.5</td><td></td><td>1.3</td><td>--</td><td></td><td>E0:</td><td>91</td><td>20.919166666666662</td><td>33.28083333333333</td></tr>\n",
       "<tr><td>31</td><td>69</td><td>158</td><td>NGC 0523</td><td>13.5</td><td></td><td>2.5</td><td>0.7</td><td></td><td>Pec</td><td>91</td><td>21.331666666666663</td><td>34.024722222222216</td></tr>\n",
       "<tr><td>32</td><td>98</td><td>273</td><td>UGC 01813</td><td>15.3</td><td></td><td>1.5</td><td>0.4</td><td></td><td>SB</td><td>--</td><td>35.385</td><td>39.35638888888889</td></tr>\n",
       "<tr><td>33</td><td>97</td><td>273</td><td>UGC 01810</td><td>13.7</td><td></td><td>2.2</td><td>1.5</td><td></td><td>S(b)</td><td>--</td><td>35.36958333333333</td><td>39.375277777777775</td></tr>\n",
       "<tr><td>34</td><td>113</td><td>135</td><td>NGC 1023</td><td>9.3</td><td></td><td>8.8</td><td>3.0</td><td></td><td>SB(rs)0-</td><td>62</td><td>40.099999999999994</td><td>39.062777777777775</td></tr>\n",
       "<tr><td>35</td><td>99</td><td>145</td><td>ARP 145</td><td>13.8</td><td></td><td>--</td><td>--</td><td></td><td>Ring B</td><td>--</td><td>35.78333333333333</td><td>41.37</td></tr>\n",
       "<tr><td>36</td><td>101</td><td>145</td><td>ARP 145</td><td>17.8</td><td></td><td>--</td><td>--</td><td></td><td>Ring A</td><td>--</td><td>35.79749999999999</td><td>41.36805555555555</td></tr>\n",
       "<tr><td>37</td><td>100</td><td>145</td><td>UGC 01840</td><td>18.8</td><td></td><td>1.6</td><td>1.3</td><td></td><td>Pec Loop</td><td>--</td><td>35.785</td><td>41.37222222222222</td></tr>\n",
       "<tr><td>38</td><td>91</td><td>74</td><td>UGC 01626</td><td>14.1</td><td></td><td>1.6</td><td>1.5</td><td></td><td>(R&apos;)SA:pec</td><td>--</td><td>32.08875</td><td>41.47944444444444</td></tr>\n",
       "<tr><td>39</td><td>32</td><td>168</td><td>MESSIER 32</td><td>9.0</td><td></td><td>8.8</td><td>6.5</td><td></td><td>cE2</td><td>60</td><td>10.674166666666665</td><td>40.86444444444444</td></tr>\n",
       "<tr><td>40</td><td>143</td><td>210</td><td>NGC 1569</td><td>11.0</td><td></td><td>3.7</td><td>1.8</td><td></td><td>IBm IV-V</td><td>19</td><td>67.70416666666665</td><td>64.84805555555555</td></tr>\n",
       "<tr><td>41</td><td>159</td><td>184</td><td>NGC 1961</td><td>11.0</td><td></td><td>4.6</td><td>3.0</td><td></td><td>SAB(rs)c II</td><td>20</td><td>85.51833333333332</td><td>69.37944444444443</td></tr>\n",
       "<tr><td>42</td><td>141</td><td>213</td><td>IC 0356</td><td>10.5</td><td></td><td>5.3</td><td>3.9</td><td></td><td>SA(s)ab pec</td><td>18</td><td>61.94624999999999</td><td>69.81305555555555</td></tr>\n",
       "<tr><td>43</td><td>219</td><td>137</td><td>NGC 2914</td><td>13.2</td><td></td><td>1.0</td><td>0.7</td><td></td><td>SB(s)ab</td><td>188</td><td>143.51125</td><td>10.10861111111111</td></tr>\n",
       "<tr><td>44</td><td>218</td><td>232</td><td>NGC 2911</td><td>11.5</td><td></td><td>4.1</td><td>3.2</td><td></td><td>SA(s)0: pec</td><td>188</td><td>143.44374999999997</td><td>10.152222222222221</td></tr>\n",
       "<tr><td>45</td><td>210</td><td>307</td><td>NGC 2874</td><td>12.5</td><td></td><td>2.4</td><td>0.7</td><td></td><td>SB(r)bc</td><td>188</td><td>141.44708333333332</td><td>11.424444444444443</td></tr>\n",
       "<tr><td>46</td><td>209</td><td>307</td><td>NGC 2872</td><td>11.9</td><td></td><td>2.1</td><td>1.8</td><td></td><td>E2</td><td>188</td><td>141.42708333333331</td><td>11.431944444444444</td></tr>\n",
       "<tr><td>47</td><td>214</td><td>237</td><td>UGC 05044</td><td>16.0</td><td></td><td>0.4</td><td>0.2</td><td></td><td>Im</td><td>--</td><td>141.93499999999997</td><td>12.288055555555554</td></tr>\n",
       "<tr><td>48</td><td>213</td><td>237</td><td>UGC 05044</td><td>15.3</td><td></td><td>--</td><td>--</td><td></td><td>SBd</td><td>--</td><td>141.93124999999998</td><td>12.287222222222221</td></tr>\n",
       "<tr><td>49</td><td>185</td><td>89</td><td>NGC 2648</td><td>12.7</td><td></td><td>3.3</td><td>1.1</td><td></td><td>S1</td><td>186</td><td>130.66708333333332</td><td>14.285833333333331</td></tr>\n",
       "<tr><td>50</td><td>251</td><td>94</td><td>NGC 3227</td><td>10.3</td><td></td><td>5.4</td><td>3.7</td><td></td><td>SAB(s)a pec</td><td>144</td><td>155.87749999999997</td><td>19.865</td></tr>\n",
       "<tr><td>51</td><td>250</td><td>94</td><td>NGC 3226</td><td>11.4</td><td></td><td>3.2</td><td>2.8</td><td></td><td>E2: pec</td><td>144</td><td>155.86208333333332</td><td>19.89833333333333</td></tr>\n",
       "<tr><td>52</td><td>248</td><td>316</td><td>NGC 3189</td><td>12.0</td><td></td><td>4.4</td><td>1.6</td><td></td><td>Sa</td><td>--</td><td>154.52541666666664</td><td>21.831388888888885</td></tr>\n",
       "<tr><td>53</td><td>249</td><td>316</td><td>NGC 3193</td><td>10.9</td><td></td><td>3.0</td><td>2.7</td><td></td><td>E2</td><td>144</td><td>154.60416666666666</td><td>21.892777777777773</td></tr>\n",
       "<tr><td>54</td><td>247</td><td>316</td><td>NGC 3187</td><td>13.4</td><td></td><td>3.0</td><td>1.3</td><td></td><td>SB(s)c pec</td><td>144</td><td>154.45</td><td>21.873055555555553</td></tr>\n",
       "<tr><td>55</td><td>188</td><td>167</td><td>NGC 2673</td><td>13.3</td><td></td><td>1.2</td><td>--</td><td></td><td>E0 pec</td><td>141</td><td>132.35041666666666</td><td>19.074166666666663</td></tr>\n",
       "<tr><td>56</td><td>187</td><td>167</td><td>NGC 2672</td><td>11.6</td><td></td><td>3.0</td><td>2.8</td><td></td><td>E1-2</td><td>141</td><td>132.34291666666664</td><td>19.074999999999996</td></tr>\n",
       "<tr><td>57</td><td>180</td><td>58</td><td>UGC 04457</td><td>14.2</td><td></td><td>1.8</td><td>1.0</td><td></td><td>SXT5P</td><td>--</td><td>127.99208333333331</td><td>19.21333333333333</td></tr>\n",
       "<tr><td>58</td><td>177</td><td>247</td><td>IC 2338</td><td>15.4</td><td></td><td>0.6</td><td>0.5</td><td></td><td>SXS6P</td><td>--</td><td>125.88583333333331</td><td>21.338055555555552</td></tr>\n",
       "<tr><td>59</td><td>178</td><td>247</td><td>UGC 04383</td><td>14.7</td><td></td><td>--</td><td>--</td><td></td><td>DBL SYS</td><td>--</td><td>125.88749999999999</td><td>21.34333333333333</td></tr>\n",
       "<tr><td>60</td><td>179</td><td>247</td><td>IC 2339</td><td>15.4</td><td></td><td>1.1</td><td>0.6</td><td></td><td>SB(s)c pec</td><td>--</td><td>125.89333333333332</td><td>21.34833333333333</td></tr>\n",
       "<tr><td>61</td><td>173</td><td>82</td><td>NGC 2536</td><td>14.2</td><td></td><td>0.9</td><td>0.6</td><td></td><td>SB(rs)c pec</td><td>140</td><td>122.81708333333331</td><td>25.179166666666664</td></tr>\n",
       "<tr><td>62</td><td>172</td><td>82</td><td>NGC 2535</td><td>12.8</td><td></td><td>2.5</td><td>1.2</td><td></td><td>SA(r)c pec I</td><td>140</td><td>122.80624999999998</td><td>25.207222222222217</td></tr>\n",
       "<tr><td>63</td><td>197</td><td>287</td><td>NGC 2735</td><td>13.3</td><td></td><td>1.2</td><td>0.4</td><td></td><td>SAB(rs)b? pec</td><td>142</td><td>135.6608333333333</td><td>25.934999999999995</td></tr>\n",
       "<tr><td>64</td><td>198</td><td>287</td><td>NGC 2735A</td><td>15.8</td><td></td><td>0.2</td><td>--</td><td></td><td>Im: pec</td><td>142</td><td>135.67416666666665</td><td>25.93833333333333</td></tr>\n",
       "<tr><td>65</td><td>204</td><td>315</td><td>NGC 2831</td><td>12.3</td><td></td><td>1.4</td><td>--</td><td></td><td>E0</td><td>103</td><td>139.9395833333333</td><td>33.74444444444444</td></tr>\n",
       "<tr><td>66</td><td>205</td><td>315</td><td>NGC 2832</td><td>11.9</td><td></td><td>2.4</td><td>1.9</td><td></td><td>E+2</td><td>103</td><td>139.945</td><td>33.74972222222222</td></tr>\n",
       "<tr><td>67</td><td>183</td><td>243</td><td>NGC 2623</td><td>13.4</td><td></td><td>2.4</td><td>0.7</td><td></td><td></td><td>141</td><td>129.60041666666666</td><td>25.750277777777775</td></tr>\n",
       "<tr><td>68</td><td>184</td><td>243</td><td>NGC 2623</td><td>--</td><td></td><td>--</td><td>--</td><td></td><td></td><td>141</td><td>129.60125</td><td>25.75472222222222</td></tr>\n",
       "<tr><td>69</td><td>182</td><td>243</td><td>NGC 2623</td><td>13.4</td><td></td><td>--</td><td>--</td><td></td><td>P: Trip Coll</td><td>141</td><td>129.59875</td><td>25.75444444444444</td></tr>\n",
       "<tr><td>70</td><td>181</td><td>12</td><td>NGC 2608</td><td>12.2</td><td></td><td>2.3</td><td>1.4</td><td></td><td>SB(s)b: II</td><td>102</td><td>128.82208333333332</td><td>28.47333333333333</td></tr>\n",
       "<tr><td>71</td><td>196</td><td>202</td><td>NGC 2719A</td><td>13.5</td><td></td><td>0.9</td><td>0.6</td><td></td><td>Im pec:</td><td>102</td><td>135.06624999999997</td><td>35.71999999999999</td></tr>\n",
       "<tr><td>72</td><td>195</td><td>202</td><td>NGC 2719</td><td>13.1</td><td></td><td>1.4</td><td>0.3</td><td></td><td>Im pec?</td><td>102</td><td>135.06416666666664</td><td>35.72749999999999</td></tr>\n",
       "<tr><td>73</td><td>192</td><td>195</td><td>UGC 04653</td><td>14.5</td><td></td><td>1.9</td><td>1.1</td><td></td><td>SBS3 - Triple</td><td>--</td><td>133.45916666666665</td><td>35.14333333333333</td></tr>\n",
       "<tr><td>74</td><td>266</td><td>162</td><td>NGC 3414</td><td>10.8</td><td></td><td>3.6</td><td>2.6</td><td></td><td>S0 pec</td><td>105</td><td>162.81749999999997</td><td>27.97472222222222</td></tr>\n",
       "<tr><td>75</td><td>277</td><td>21</td><td>CGCG 155-056</td><td>14.7</td><td></td><td>0.8</td><td>0.7</td><td></td><td>Spiral</td><td>--</td><td>166.24374999999998</td><td>30.02694444444444</td></tr>\n",
       "<tr><td>76</td><td>259</td><td>267</td><td>UGC 05764</td><td>14.7</td><td></td><td>2.0</td><td>1.2</td><td></td><td>IB(s)m: V</td><td>105</td><td>159.17749999999998</td><td>31.547499999999996</td></tr>\n",
       "<tr><td>77</td><td>268</td><td>107</td><td>UGC 05984</td><td>14.6</td><td></td><td>1.9</td><td>1.2</td><td></td><td>S?</td><td>--</td><td>163.07625</td><td>30.067499999999995</td></tr>\n",
       "<tr><td>78</td><td>269</td><td>107</td><td>UGC 05984</td><td>14.6</td><td></td><td>--</td><td>--</td><td></td><td></td><td>--</td><td>163.08874999999998</td><td>30.08416666666666</td></tr>\n",
       "<tr><td>79</td><td>265</td><td>270</td><td>NGC 3396</td><td>12.2</td><td></td><td>3.1</td><td>1.2</td><td></td><td>IBm pec</td><td>105</td><td>162.48333333333332</td><td>32.989999999999995</td></tr>\n",
       "<tr><td>80</td><td>264</td><td>270</td><td>NGC 3395</td><td>12.1</td><td></td><td>2.1</td><td>1.2</td><td></td><td>SAB(rs)cd pec</td><td>105</td><td>162.45749999999998</td><td>32.980555555555554</td></tr>\n",
       "<tr><td>81</td><td>244</td><td>174</td><td>NGC 3068</td><td>14.3</td><td></td><td>0.9</td><td>0.8</td><td></td><td>S0-</td><td>104</td><td>149.66708333333332</td><td>28.877499999999998</td></tr>\n",
       "<tr><td>82</td><td>334</td><td>62</td><td>UGC 06865</td><td>--</td><td></td><td>1.2</td><td>0.5</td><td></td><td>E(c)</td><td>--</td><td>178.3995833333333</td><td>43.45499999999999</td></tr>\n",
       "<tr><td>83</td><td>335</td><td>62</td><td>UGC 06865</td><td>14.7</td><td></td><td>--</td><td>--</td><td></td><td>SB</td><td>--</td><td>178.3995833333333</td><td>43.45499999999999</td></tr>\n",
       "<tr><td>84</td><td>267</td><td>206</td><td>UGC 05983</td><td>17.0</td><td></td><td>0.9</td><td>0.7</td><td></td><td>Dwarf</td><td>--</td><td>163.0708333333333</td><td>36.595277777777774</td></tr>\n",
       "<tr><td>85</td><td>270</td><td>206</td><td>NGC 3432</td><td>11.3</td><td></td><td>6.8</td><td>1.5</td><td></td><td>SB(s)m  III</td><td>105</td><td>163.1308333333333</td><td>36.62</td></tr>\n",
       "<tr><td>86</td><td>275</td><td>148</td><td>MCG+07-23-019</td><td>15.4</td><td></td><td>0.6</td><td>0.5</td><td></td><td>Ring</td><td>--</td><td>166.00041666666664</td><td>40.84694444444444</td></tr>\n",
       "<tr><td>87</td><td>315</td><td>280</td><td>NGC 3769A</td><td>14.2</td><td></td><td>1.1</td><td>0.5</td><td></td><td>SBm pec III</td><td>73</td><td>174.4595833333333</td><td>47.881388888888885</td></tr>\n",
       "<tr><td>88</td><td>312</td><td>280</td><td>NGC 3769</td><td>11.8</td><td></td><td>3.1</td><td>1.0</td><td></td><td>SB(r)b:</td><td>73</td><td>174.43499999999997</td><td>47.8911111111111</td></tr>\n",
       "<tr><td>89</td><td>230</td><td>63</td><td>NGC 2944</td><td>16.0</td><td></td><td>0.2</td><td>0.1</td><td></td><td></td><td>103</td><td>144.83166666666665</td><td>32.30583333333333</td></tr>\n",
       "<tr><td>90</td><td>229</td><td>63</td><td>NGC 2944</td><td>14.0</td><td></td><td>1.1</td><td>0.4</td><td></td><td>SB(s)c pec?</td><td>103</td><td>144.81958333333333</td><td>32.31055555555555</td></tr>\n",
       "<tr><td>91</td><td>232</td><td>129</td><td>UGC 05146</td><td>16.1</td><td></td><td>0.8</td><td>0.4</td><td></td><td>SAB0^0^: pec</td><td>--</td><td>144.85958333333332</td><td>32.364999999999995</td></tr>\n",
       "<tr><td>92</td><td>231</td><td>129</td><td>UGC 05146</td><td>14.0</td><td></td><td>0.5</td><td>--</td><td></td><td>SB(r)c: pec</td><td>--</td><td>144.85166666666666</td><td>32.3625</td></tr>\n",
       "<tr><td>93</td><td>245</td><td>264</td><td>NGC 3104</td><td>13.1</td><td></td><td>3.4</td><td>2.3</td><td></td><td>IAB(s)m</td><td>71</td><td>150.98874999999998</td><td>40.756944444444436</td></tr>\n",
       "<tr><td>94</td><td>199</td><td>215</td><td>NGC 2782</td><td>11.7</td><td></td><td>3.5</td><td>2.6</td><td></td><td>SAB(rs)a pec</td><td>70</td><td>138.52166666666665</td><td>40.11416666666666</td></tr>\n",
       "<tr><td>95</td><td>203</td><td>283</td><td>NGC 2799</td><td>14.0</td><td></td><td>1.9</td><td>0.5</td><td></td><td>SB(s)m?</td><td>71</td><td>139.3795833333333</td><td>41.99388888888888</td></tr>\n",
       "<tr><td>96</td><td>202</td><td>283</td><td>NGC 2798</td><td>12.3</td><td></td><td>2.6</td><td>1.0</td><td></td><td>SB(s)a pec</td><td>71</td><td>139.34499999999997</td><td>41.999444444444435</td></tr>\n",
       "<tr><td>97</td><td>200</td><td>55</td><td>UGC 04881</td><td>14.9</td><td></td><td>1.0</td><td>0.9</td><td></td><td>Spiral</td><td>--</td><td>138.98166666666665</td><td>44.332499999999996</td></tr>\n",
       "<tr><td>98</td><td>201</td><td>55</td><td>UGC 04881</td><td>16.6</td><td></td><td>--</td><td>--</td><td></td><td>Spiral</td><td>--</td><td>139.00291666666664</td><td>44.35222222222222</td></tr>\n",
       "<tr><td>99</td><td>288</td><td>27</td><td>NGC 3631</td><td>10.4</td><td></td><td>5.0</td><td>4.8</td><td></td><td>SA(s)c I-II</td><td>46</td><td>170.26083333333332</td><td>53.1711111111111</td></tr>\n",
       "<tr><td>100</td><td>305</td><td>322</td><td>UGC 06527</td><td>16.4</td><td></td><td>--</td><td>--</td><td></td><td>SB0 pec</td><td>--</td><td>173.13625</td><td>52.93944444444444</td></tr>\n",
       "<tr><td>101</td><td>308</td><td>322</td><td>UGC 06527</td><td>15.8</td><td></td><td>--</td><td>--</td><td></td><td></td><td>--</td><td>173.15291666666664</td><td>52.94749999999999</td></tr>\n",
       "<tr><td>102</td><td>306</td><td>322</td><td>UGC 06527</td><td>17.0</td><td></td><td>--</td><td>--</td><td></td><td></td><td>--</td><td>173.1470833333333</td><td>52.947222222222216</td></tr>\n",
       "<tr><td>103</td><td>309</td><td>322</td><td>UGC 06527</td><td>15.0</td><td></td><td>1.1</td><td>0.3</td><td></td><td>SB0</td><td>--</td><td>173.1675</td><td>52.95027777777777</td></tr>\n",
       "<tr><td>104</td><td>307</td><td>214</td><td>NGC 3718</td><td>10.7</td><td></td><td>8.2</td><td>4.0</td><td></td><td>SB(s)a pec</td><td>47</td><td>173.1483333333333</td><td>53.06638888888888</td></tr>\n",
       "<tr><td>105</td><td>310</td><td>234</td><td>NGC 3738</td><td>11.9</td><td></td><td>2.5</td><td>1.9</td><td></td><td>Im III-IV</td><td>47</td><td>173.95166666666665</td><td>54.524444444444434</td></tr>\n",
       "<tr><td>106</td><td>333</td><td>224</td><td>NGC 3921</td><td>12.4</td><td></td><td>2.1</td><td>1.3</td><td></td><td>(R&apos;)SA(s)0/a</td><td>47</td><td>177.77749999999997</td><td>55.07916666666666</td></tr>\n",
       "<tr><td>107</td><td>289</td><td>155</td><td>ARP 155</td><td>--</td><td></td><td>--</td><td>--</td><td></td><td></td><td>--</td><td>170.9033333333333</td><td>53.82527777777777</td></tr>\n",
       "<tr><td>108</td><td>290</td><td>155</td><td>ARP 155</td><td>--</td><td></td><td>--</td><td>--</td><td></td><td></td><td>--</td><td>170.90874999999997</td><td>53.83416666666666</td></tr>\n",
       "<tr><td>109</td><td>291</td><td>155</td><td>NGC 3656</td><td>12.5</td><td></td><td>1.6</td><td>1.6</td><td></td><td>(R&apos;)IO:pec</td><td>46</td><td>170.90999999999997</td><td>53.84166666666666</td></tr>\n",
       "<tr><td>110</td><td>293</td><td>151</td><td>MRK 0040</td><td>16.8</td><td></td><td>1.3</td><td>0.2</td><td></td><td>S0 pec</td><td>--</td><td>171.40041666666664</td><td>54.38249999999999</td></tr>\n",
       "<tr><td>111</td><td>261</td><td>217</td><td>NGC 3310</td><td>10.8</td><td></td><td>3.1</td><td>2.4</td><td></td><td>SAB(r)bc pec</td><td>46</td><td>159.6920833333333</td><td>53.50194444444444</td></tr>\n",
       "<tr><td>112</td><td>272</td><td>205</td><td>NGC 3448</td><td>12.0</td><td></td><td>5.7</td><td>1.8</td><td></td><td>I0</td><td>46</td><td>163.66249999999997</td><td>54.30638888888888</td></tr>\n",
       "<tr><td>113</td><td>257</td><td>233</td><td>UGC 05720</td><td>13.4</td><td></td><td>1.0</td><td>0.9</td><td></td><td>Im pec</td><td>--</td><td>158.1333333333333</td><td>54.400833333333324</td></tr>\n",
       "<tr><td>114</td><td>273</td><td>24</td><td>UGC 06021</td><td>12.8</td><td></td><td>0.5</td><td>0.1</td><td></td><td>IRR</td><td>--</td><td>163.68916666666664</td><td>56.96666666666666</td></tr>\n",
       "<tr><td>115</td><td>271</td><td>24</td><td>NGC 3445</td><td>12.6</td><td></td><td>1.6</td><td>1.5</td><td></td><td>SAB(s)m</td><td>46</td><td>163.65166666666664</td><td>56.99083333333333</td></tr>\n",
       "<tr><td>116</td><td>297</td><td>299</td><td>IC 0694</td><td>11.3</td><td></td><td>1.2</td><td>1.0</td><td></td><td>SBm? pec</td><td>46</td><td>172.1558333333333</td><td>58.55777777777777</td></tr>\n",
       "<tr><td>117</td><td>296</td><td>299</td><td>NGC 3690</td><td>11.5</td><td></td><td>2.1</td><td>1.6</td><td></td><td>IBm pec</td><td>46</td><td>172.13916666666665</td><td>58.56305555555555</td></tr>\n",
       "<tr><td>118</td><td>294</td><td>296</td><td>MCG+10-17-5</td><td>15.7</td><td></td><td>0.7</td><td>0.4</td><td></td><td>Multigalaxy</td><td>--</td><td>172.20541666666665</td><td>58.59055555555555</td></tr>\n",
       "<tr><td>119</td><td>295</td><td>299</td><td>MCG+10-17-2A</td><td>--</td><td></td><td>0.3</td><td>0.2</td><td></td><td></td><td>--</td><td>172.11874999999998</td><td>58.57583333333333</td></tr>\n",
       "<tr><td>120</td><td>166</td><td>250</td><td>IRAS F07327+3529</td><td>15.0</td><td></td><td>--</td><td>--</td><td></td><td></td><td>--</td><td>113.99874999999999</td><td>35.3811111111111</td></tr>\n",
       "<tr><td>121</td><td>171</td><td>143</td><td>NGC 2445</td><td>13.3</td><td></td><td>1.4</td><td>1.1</td><td></td><td>Ring B</td><td>69</td><td>116.72791666666664</td><td>39.01694444444444</td></tr>\n",
       "<tr><td>122</td><td>170</td><td>143</td><td>NGC 2444</td><td>13.2</td><td></td><td>1.2</td><td>0.8</td><td></td><td>Ring A</td><td>69</td><td>116.72083333333332</td><td>39.03194444444444</td></tr>\n",
       "<tr><td>123</td><td>174</td><td>6</td><td>NGC 2537</td><td>12.3</td><td></td><td>1.7</td><td>1.5</td><td></td><td>SB(s)m pec</td><td>69</td><td>123.31083333333332</td><td>45.9911111111111</td></tr>\n",
       "<tr><td>124</td><td>206</td><td>285</td><td>NGC 2854</td><td>13.0</td><td></td><td>1.7</td><td>0.6</td><td></td><td>SB(s)b</td><td>44</td><td>141.01208333333332</td><td>49.20388888888888</td></tr>\n",
       "<tr><td>125</td><td>207</td><td>285</td><td>NGC 2856</td><td>13.1</td><td></td><td>1.1</td><td>0.5</td><td></td><td>S?</td><td>44</td><td>141.06791666666663</td><td>49.24833333333333</td></tr>\n",
       "<tr><td>126</td><td>208</td><td>1</td><td>NGC 2857</td><td>12.2</td><td></td><td>2.3</td><td>2.0</td><td></td><td>SA(s)c I-II</td><td>44</td><td>141.15666666666664</td><td>49.35666666666666</td></tr>\n",
       "<tr><td>127</td><td>193</td><td>336</td><td>NGC 2685</td><td>11.2</td><td></td><td>4.5</td><td>2.4</td><td></td><td>(R)SB0+ pec</td><td>44</td><td>133.89666666666665</td><td>58.7336111111111</td></tr>\n",
       "<tr><td>128</td><td>300</td><td>329</td><td>UGC 06514</td><td>16.6</td><td></td><td>--</td><td>--</td><td></td><td>E pec</td><td>--</td><td>173.02291666666665</td><td>70.80638888888888</td></tr>\n",
       "<tr><td>129</td><td>301</td><td>329</td><td>UGC 06514</td><td>17.4</td><td></td><td>--</td><td>--</td><td></td><td>SBa pec:</td><td>--</td><td>173.02374999999998</td><td>70.81083333333332</td></tr>\n",
       "<tr><td>130</td><td>303</td><td>329</td><td>UGC 06514</td><td>15.9</td><td></td><td>--</td><td>--</td><td></td><td>SA0 pec</td><td>--</td><td>173.02874999999997</td><td>70.81527777777777</td></tr>\n",
       "<tr><td>131</td><td>304</td><td>329</td><td>UGC 06514</td><td>18.0</td><td></td><td>--</td><td>--</td><td></td><td>s?</td><td>--</td><td>173.03166666666664</td><td>70.81888888888888</td></tr>\n",
       "<tr><td>132</td><td>302</td><td>329</td><td>UGC 06514</td><td>17.6</td><td></td><td>--</td><td>--</td><td></td><td>S0pec</td><td>--</td><td>173.02874999999997</td><td>70.82138888888888</td></tr>\n",
       "<tr><td>133</td><td>215</td><td>300</td><td>UGC 05028</td><td>13.9</td><td></td><td>0.7</td><td>0.4</td><td></td><td>SB(s)dm pec</td><td>23</td><td>141.95916666666665</td><td>68.41305555555554</td></tr>\n",
       "<tr><td>134</td><td>216</td><td>300</td><td>UGC 05029</td><td>13.4</td><td></td><td>1.6</td><td>1.0</td><td></td><td>Sc</td><td>23</td><td>142.01041666666666</td><td>68.42138888888888</td></tr>\n",
       "<tr><td>135</td><td>243</td><td>337</td><td>MESSIER 82</td><td>8.4</td><td></td><td>11.4</td><td>4.3</td><td></td><td>I0</td><td>23</td><td>148.96499999999997</td><td>69.67944444444443</td></tr>\n",
       "<tr><td>136</td><td>176</td><td>268</td><td>Holmberg II</td><td>10.7</td><td></td><td>8.0</td><td>6.3</td><td></td><td>Im IV-V</td><td>22</td><td>124.77499999999998</td><td>70.71416666666666</td></tr>\n",
       "<tr><td>137</td><td>163</td><td>141</td><td>UGC 03730</td><td>16.9</td><td></td><td>--</td><td>--</td><td></td><td>Ring</td><td>--</td><td>108.61166666666665</td><td>73.48138888888887</td></tr>\n",
       "<tr><td>138</td><td>162</td><td>141</td><td>UGC 03730</td><td>12.5</td><td></td><td>2.8</td><td>1.5</td><td></td><td>Ring</td><td>6</td><td>108.58708333333333</td><td>73.48083333333332</td></tr>\n",
       "<tr><td>139</td><td>175</td><td>9</td><td>NGC 2523</td><td>11.9</td><td></td><td>3.0</td><td>1.8</td><td></td><td>SB(r)bc I</td><td>7</td><td>123.74708333333332</td><td>73.58027777777777</td></tr>\n",
       "<tr><td>140</td><td>186</td><td>80</td><td>NGC 2633</td><td>12.2</td><td></td><td>2.5</td><td>1.6</td><td></td><td>SB(s)b I-II</td><td>7</td><td>132.02749999999997</td><td>74.09944444444443</td></tr>\n",
       "<tr><td>141</td><td>262</td><td>156</td><td>UGC 05814</td><td>15.0</td><td></td><td>1.3</td><td>0.7</td><td></td><td>Peclr</td><td>--</td><td>160.6583333333333</td><td>77.49444444444444</td></tr>\n",
       "<tr><td>142</td><td>217</td><td>207</td><td>UGC 05050</td><td>15.4</td><td></td><td>1.2</td><td>0.2</td><td></td><td>S?</td><td>--</td><td>142.7783333333333</td><td>76.46555555555554</td></tr>\n",
       "<tr><td>143</td><td>256</td><td>181</td><td>NGC 3215</td><td>13.0</td><td></td><td>1.1</td><td>1.1</td><td></td><td>S?</td><td>8</td><td>157.17416666666665</td><td>79.81333333333332</td></tr>\n",
       "<tr><td>144</td><td>255</td><td>181</td><td>NGC 3212</td><td>13.1</td><td></td><td>1.6</td><td>1.1</td><td></td><td>SB?</td><td>8</td><td>157.06874999999997</td><td>79.82333333333332</td></tr>\n",
       "<tr><td>145</td><td>169</td><td>17</td><td>UGC 03972</td><td>--</td><td></td><td>1.1</td><td>0.6</td><td></td><td></td><td>--</td><td>116.16041666666665</td><td>73.81388888888888</td></tr>\n",
       "<tr><td>146</td><td>168</td><td>17</td><td>UGC 03972</td><td>14.7</td><td></td><td>0.9</td><td>0.6</td><td></td><td>SB</td><td>--</td><td>116.13624999999999</td><td>73.83055555555555</td></tr>\n",
       "<tr><td>147</td><td>194</td><td>225</td><td>NGC 2655</td><td>10.1</td><td></td><td>4.9</td><td>4.1</td><td></td><td>SAB(s)0/a</td><td>7</td><td>133.91166666666666</td><td>78.22444444444443</td></tr>\n",
       "<tr><td>148</td><td>165</td><td>114</td><td>NGC 2300</td><td>12.1</td><td></td><td>2.8</td><td>2.0</td><td></td><td>SA0</td><td>1</td><td>113.08333333333331</td><td>85.7086111111111</td></tr>\n",
       "<tr><td>149</td><td>164</td><td>25</td><td>NGC 2276</td><td>11.4</td><td></td><td>2.8</td><td>2.7</td><td></td><td>SAB(rs)c</td><td>1</td><td>111.80416666666665</td><td>85.75555555555555</td></tr>\n",
       "<tr><td>150</td><td>161</td><td>96</td><td>UGC 03536A</td><td>14.8</td><td></td><td>0.9</td><td>--</td><td></td><td>DBL SYS</td><td>--</td><td>105.84291666666665</td><td>86.55777777777777</td></tr>\n",
       "<tr><td>151</td><td>160</td><td>96</td><td>UGC 03528A</td><td>14.8</td><td></td><td>0.8</td><td>0.6</td><td></td><td>DBL SYS</td><td>--</td><td>105.75291666666665</td><td>86.60333333333332</td></tr>\n",
       "<tr><td>152</td><td>442</td><td>274</td><td>NGC 5679</td><td>13.0</td><td></td><td>1.1</td><td>0.6</td><td></td><td>Sb</td><td>197</td><td>218.77416666666664</td><td>5.3486111111111105</td></tr>\n",
       "<tr><td>153</td><td>444</td><td>274</td><td>NGC 5679C</td><td>15.0</td><td></td><td>0.2</td><td>0.1</td><td></td><td></td><td>197</td><td>218.7858333333333</td><td>5.357499999999999</td></tr>\n",
       "<tr><td>154</td><td>443</td><td>274</td><td>NGC 5679A</td><td>13.5</td><td></td><td>1.2</td><td>0.7</td><td></td><td>Sb</td><td>197</td><td>218.78499999999997</td><td>5.359722222222222</td></tr>\n",
       "<tr><td>155</td><td>438</td><td>49</td><td>NGC 5665</td><td>12.0</td><td></td><td>1.9</td><td>1.4</td><td></td><td>SAB(rs)c pec?</td><td>197</td><td>218.10624999999996</td><td>8.079444444444443</td></tr>\n",
       "<tr><td>156</td><td>467</td><td>173</td><td>UGC 09561</td><td>--</td><td></td><td>--</td><td>--</td><td></td><td></td><td>--</td><td>222.86624999999998</td><td>9.321944444444442</td></tr>\n",
       "<tr><td>157</td><td>466</td><td>173</td><td>UGC 09561</td><td>14.9</td><td></td><td>1.2</td><td>0.2</td><td></td><td>Pec</td><td>--</td><td>222.85916666666662</td><td>9.328333333333331</td></tr>\n",
       "<tr><td>158</td><td>496</td><td>101</td><td>UGC 10164</td><td>15.5</td><td></td><td>1.1</td><td>0.9</td><td></td><td>E?</td><td>--</td><td>241.10124999999996</td><td>14.780833333333332</td></tr>\n",
       "<tr><td>159</td><td>499</td><td>101</td><td>UGC 10169</td><td>14.7</td><td></td><td>2.1</td><td>0.4</td><td></td><td>S0 pec</td><td>--</td><td>241.13166666666663</td><td>14.818888888888887</td></tr>\n",
       "<tr><td>160</td><td>478</td><td>91</td><td>NGC 5953</td><td>12.1</td><td></td><td>1.6</td><td>1.4</td><td></td><td>SAa: pec</td><td>199</td><td>233.6345833333333</td><td>15.194999999999999</td></tr>\n",
       "<tr><td>161</td><td>479</td><td>91</td><td>NGC 5954</td><td>12.1</td><td></td><td>1.3</td><td>0.6</td><td></td><td>SAB(rs)cd pec</td><td>199</td><td>233.64499999999995</td><td>15.203333333333331</td></tr>\n",
       "<tr><td>162</td><td>483</td><td>72</td><td>NGC 5994</td><td>14.2</td><td></td><td>0.4</td><td>0.2</td><td></td><td>SB?</td><td>154</td><td>236.72166666666664</td><td>17.8725</td></tr>\n",
       "<tr><td>163</td><td>484</td><td>72</td><td>NGC 5996</td><td>12.8</td><td></td><td>1.8</td><td>0.9</td><td></td><td>S?</td><td>154</td><td>236.74541666666664</td><td>17.885555555555552</td></tr>\n",
       "<tr><td>164</td><td>490</td><td>324</td><td>UGC 10143C</td><td>15.5</td><td></td><td>0.8</td><td>0.5</td><td></td><td>Spiral</td><td>--</td><td>240.5370833333333</td><td>15.888055555555553</td></tr>\n",
       "<tr><td>165</td><td>492</td><td>324</td><td>UGC 10143</td><td>15.2</td><td></td><td>--</td><td>--</td><td></td><td>E3</td><td>--</td><td>240.5533333333333</td><td>15.90722222222222</td></tr>\n",
       "<tr><td>166</td><td>491</td><td>324</td><td>ARP 324</td><td>15.3</td><td></td><td>--</td><td>--</td><td></td><td></td><td>--</td><td>240.5420833333333</td><td>15.916388888888887</td></tr>\n",
       "<tr><td>167</td><td>493</td><td>324</td><td>UGC 10143B</td><td>15.1</td><td></td><td>0.6</td><td>0.4</td><td></td><td>SAB(r)ab</td><td>--</td><td>240.55541666666664</td><td>15.93722222222222</td></tr>\n",
       "<tr><td>168</td><td>494</td><td>324</td><td>ARP 324</td><td>--</td><td></td><td>1.7</td><td>1.0</td><td></td><td></td><td>--</td><td>240.56291666666664</td><td>15.949444444444442</td></tr>\n",
       "<tr><td>169</td><td>495</td><td>324</td><td>UGC 10143A</td><td>14.2</td><td></td><td>--</td><td>--</td><td></td><td>E+</td><td>--</td><td>240.5708333333333</td><td>15.974166666666664</td></tr>\n",
       "<tr><td>170</td><td>504</td><td>172</td><td>IC 1181</td><td>15.9</td><td></td><td>0.8</td><td>0.7</td><td></td><td>SAB(rs)0/a</td><td>--</td><td>241.38999999999996</td><td>17.591666666666665</td></tr>\n",
       "<tr><td>171</td><td>503</td><td>172</td><td>IC 1178</td><td>15.2</td><td></td><td>1.1</td><td>0.9</td><td></td><td>S0- pec?</td><td>--</td><td>241.38749999999996</td><td>17.601388888888888</td></tr>\n",
       "<tr><td>172</td><td>500</td><td>71</td><td>NGC 6045</td><td>13.9</td><td></td><td>1.3</td><td>0.3</td><td></td><td>SB(s)c</td><td>155</td><td>241.28249999999997</td><td>17.757499999999997</td></tr>\n",
       "<tr><td>173</td><td>497</td><td>122</td><td>NGC 6040B</td><td>14.9</td><td></td><td>0.8</td><td>--</td><td></td><td>SA0+ pec</td><td>155</td><td>241.1095833333333</td><td>17.743611111111107</td></tr>\n",
       "<tr><td>174</td><td>498</td><td>122</td><td>NGC 6040A</td><td>13.6</td><td></td><td>1.4</td><td>0.5</td><td></td><td>SAB(s)c</td><td>155</td><td>241.11166666666662</td><td>17.750555555555554</td></tr>\n",
       "<tr><td>175</td><td>502</td><td>272</td><td>NGC 6054</td><td>15.2</td><td></td><td>0.7</td><td>0.4</td><td></td><td>(R&apos;)SAB(s)b</td><td>155</td><td>241.3770833333333</td><td>17.769166666666663</td></tr>\n",
       "<tr><td>176</td><td>487</td><td>218</td><td>CGCG 107-052</td><td>15.4</td><td></td><td>0.9</td><td>0.5</td><td></td><td>SAB(s)bc</td><td>--</td><td>238.38541666666663</td><td>18.602777777777774</td></tr>\n",
       "<tr><td>177</td><td>488</td><td>218</td><td>ARP 218 18.0</td><td>--</td><td></td><td>0.9</td><td>0.5</td><td></td><td></td><td>--</td><td>238.38541666666663</td><td>18.602777777777774</td></tr>\n",
       "<tr><td>178</td><td>489</td><td>218</td><td>ARP 218</td><td>--</td><td></td><td>1.1</td><td>0.8</td><td></td><td></td><td>--</td><td>238.40374999999997</td><td>18.60972222222222</td></tr>\n",
       "<tr><td>179</td><td>501</td><td>209</td><td>NGC 6052</td><td>13.0</td><td></td><td>0.9</td><td>0.7</td><td></td><td>Sc</td><td>155</td><td>241.30249999999998</td><td>20.542499999999997</td></tr>\n",
       "<tr><td>180</td><td>481</td><td>220</td><td>IC 4554</td><td>13.1</td><td></td><td>1.8</td><td>--</td><td></td><td>S?</td><td>154</td><td>233.73874999999995</td><td>23.501388888888886</td></tr>\n",
       "<tr><td>181</td><td>482</td><td>220</td><td>IC 1127</td><td>--</td><td></td><td>--</td><td>--</td><td></td><td></td><td>--</td><td>233.73874999999995</td><td>23.50305555555555</td></tr>\n",
       "<tr><td>182</td><td>480</td><td>220</td><td>IC 4553</td><td>13.1</td><td></td><td>1.5</td><td>1.2</td><td></td><td>S?</td><td>154</td><td>233.73791666666662</td><td>23.50444444444444</td></tr>\n",
       "<tr><td>183</td><td>426</td><td>79</td><td>NGC 5490C</td><td>13.9</td><td></td><td>1.2</td><td>0.8</td><td></td><td>SB(s)bc</td><td>151</td><td>212.52916666666664</td><td>17.615277777777774</td></tr>\n",
       "<tr><td>184</td><td>424</td><td>117</td><td>IC 0982</td><td>14.6</td><td></td><td>1.3</td><td>--</td><td></td><td>LA +</td><td>--</td><td>212.4958333333333</td><td>17.696111111111108</td></tr>\n",
       "<tr><td>185</td><td>425</td><td>117</td><td>IC 0983</td><td>14.3</td><td></td><td>5.4</td><td>4.7</td><td></td><td>SBR4</td><td>--</td><td>212.51791666666665</td><td>17.73361111111111</td></tr>\n",
       "<tr><td>186</td><td>453</td><td>47</td><td>CGCG 105-026</td><td>16.6</td><td></td><td>--</td><td>--</td><td></td><td></td><td>--</td><td>221.80208333333331</td><td>18.859166666666663</td></tr>\n",
       "<tr><td>187</td><td>454</td><td>47</td><td>ARP 047</td><td>15.0</td><td></td><td>0.8</td><td>0.4</td><td></td><td></td><td>--</td><td>221.80208333333331</td><td>18.85833333333333</td></tr>\n",
       "<tr><td>188</td><td>460</td><td>328</td><td>UGC 09532</td><td>15.8</td><td></td><td>--</td><td>--</td><td></td><td>S0?</td><td>--</td><td>221.98374999999996</td><td>19.025555555555552</td></tr>\n",
       "<tr><td>189</td><td>461</td><td>328</td><td>UGC 09532</td><td>16.1</td><td></td><td>0.3</td><td>0.3</td><td></td><td>E2</td><td>--</td><td>221.98708333333332</td><td>19.04472222222222</td></tr>\n",
       "<tr><td>190</td><td>457</td><td>328</td><td>UGC 09532</td><td>18.6</td><td></td><td>--</td><td>--</td><td></td><td>S0</td><td>--</td><td>221.97916666666663</td><td>19.047499999999996</td></tr>\n",
       "<tr><td>191</td><td>458</td><td>328</td><td>UGC 09532</td><td>18.6</td><td></td><td>0.3</td><td>0.1</td><td></td><td>Scd</td><td>--</td><td>221.97999999999996</td><td>19.05111111111111</td></tr>\n",
       "<tr><td>192</td><td>459</td><td>328</td><td>UGC 09532</td><td>16.0</td><td></td><td>0.2</td><td>0.2</td><td></td><td>SB0</td><td>--</td><td>221.98249999999996</td><td>19.056666666666665</td></tr>\n",
       "<tr><td>193</td><td>456</td><td>328</td><td>UGC 09532</td><td>16.1</td><td></td><td>0.6</td><td>0.2</td><td></td><td>S0</td><td>--</td><td>221.9783333333333</td><td>19.060277777777774</td></tr>\n",
       "<tr><td>194</td><td>455</td><td>328</td><td>UGC 09532</td><td>16.1</td><td></td><td>0.5</td><td>0.1</td><td></td><td>S0?</td><td>--</td><td>221.97249999999997</td><td>19.076944444444443</td></tr>\n",
       "<tr><td>195</td><td>452</td><td>64</td><td>UGC 09503</td><td>15.0</td><td></td><td>1.5</td><td>0.4</td><td></td><td>Triple</td><td>--</td><td>221.35791666666663</td><td>19.46472222222222</td></tr>\n",
       "<tr><td>196</td><td>474</td><td>42</td><td>NGC 5829</td><td>13.3</td><td></td><td>1.8</td><td>1.6</td><td></td><td>SA(s)c I-II</td><td>153</td><td>225.67541666666665</td><td>23.332499999999996</td></tr>\n",
       "<tr><td>197</td><td>473</td><td>42</td><td>IC 4526</td><td>15.5</td><td></td><td>0.4</td><td>0.4</td><td></td><td></td><td>153</td><td>225.6595833333333</td><td>23.348888888888887</td></tr>\n",
       "<tr><td>198</td><td>468</td><td>177</td><td>MCG+04-35-017</td><td>17.3</td><td></td><td>0.2</td><td>0.2</td><td></td><td></td><td>--</td><td>223.9520833333333</td><td>24.598611111111108</td></tr>\n",
       "<tr><td>199</td><td>469</td><td>177</td><td>MCG+04-35-016</td><td>18.0</td><td></td><td>0.4</td><td>0.1</td><td></td><td>S</td><td>--</td><td>223.9520833333333</td><td>24.598611111111108</td></tr>\n",
       "<tr><td>200</td><td>470</td><td>302</td><td>UGC 09618</td><td>15.3</td><td></td><td>0.9</td><td>0.2</td><td></td><td>Sc</td><td>--</td><td>224.2520833333333</td><td>24.60555555555555</td></tr>\n",
       "<tr><td>201</td><td>471</td><td>302</td><td>UGC 09618</td><td>14.6</td><td></td><td>0.7</td><td>0.7</td><td></td><td>(Sb)</td><td>--</td><td>224.25416666666663</td><td>24.616944444444442</td></tr>\n",
       "<tr><td>202</td><td>439</td><td>95</td><td>MCG+5-34-76</td><td>15.8</td><td></td><td>0.4</td><td>0.2</td><td></td><td>S</td><td>--</td><td>218.72874999999996</td><td>26.498611111111106</td></tr>\n",
       "<tr><td>203</td><td>440</td><td>95</td><td>IC 4461</td><td>15.2</td><td></td><td>1.3</td><td>0.7</td><td></td><td>SB</td><td>--</td><td>218.75791666666663</td><td>26.543888888888887</td></tr>\n",
       "<tr><td>204</td><td>441</td><td>95</td><td>IC 4462</td><td>16.0</td><td></td><td>0.3</td><td>0.3</td><td></td><td>E</td><td>--</td><td>218.76749999999996</td><td>26.540833333333328</td></tr>\n",
       "<tr><td>205</td><td>445</td><td>241</td><td>UGC 09425</td><td>15.0</td><td></td><td>1.1</td><td>0.6</td><td></td><td>S? (pair)</td><td>--</td><td>219.46166666666664</td><td>30.481388888888883</td></tr>\n",
       "<tr><td>206</td><td>510</td><td>125</td><td>UGC 10491</td><td>13.6</td><td></td><td>1.1</td><td>0.4</td><td></td><td>Ring B</td><td>80</td><td>249.55749999999998</td><td>41.930833333333325</td></tr>\n",
       "<tr><td>207</td><td>511</td><td>125</td><td>UGC 10491</td><td>15.5</td><td></td><td>--</td><td>--</td><td></td><td>Ring A</td><td>--</td><td>249.55749999999998</td><td>41.93861111111111</td></tr>\n",
       "<tr><td>208</td><td>525</td><td>102</td><td>UGC 10814A</td><td>15.5</td><td></td><td>0.9</td><td>0.7</td><td>?</td><td>Sc irr</td><td>--</td><td>259.80999999999995</td><td>48.98027777777777</td></tr>\n",
       "<tr><td>209</td><td>526</td><td>102</td><td>UGC 10814B</td><td>14.9</td><td>?</td><td>0.9</td><td>0.6</td><td>?</td><td>Sb</td><td>--</td><td>259.8383333333333</td><td>49.040277777777774</td></tr>\n",
       "<tr><td>210</td><td>527</td><td>102</td><td>MCG+08-31-042</td><td>14.9</td><td></td><td>0.7</td><td>0.4</td><td></td><td>I</td><td>--</td><td>259.8745833333333</td><td>49.05027777777777</td></tr>\n",
       "<tr><td>211</td><td>506</td><td>2</td><td>UGC 10310</td><td>13.2</td><td></td><td>2.8</td><td>2.2</td><td></td><td>SB(s)m IV-V</td><td>79</td><td>244.0758333333333</td><td>47.046388888888885</td></tr>\n",
       "<tr><td>212</td><td>476</td><td>90</td><td>NGC 5929</td><td>13.6</td><td></td><td>1.0</td><td>0.9</td><td></td><td>SAB(s)bc I-II</td><td>78</td><td>231.52541666666664</td><td>41.67055555555555</td></tr>\n",
       "<tr><td>213</td><td>477</td><td>90</td><td>NGC 5930</td><td>12.2</td><td></td><td>1.7</td><td>0.9</td><td></td><td>Sab: pec</td><td>78</td><td>231.53291666666664</td><td>41.67583333333333</td></tr>\n",
       "<tr><td>214</td><td>509</td><td>73</td><td>IC 1222</td><td>13.5</td><td></td><td>1.7</td><td>1.4</td><td></td><td>SXS5</td><td>--</td><td>248.7870833333333</td><td>46.21388888888888</td></tr>\n",
       "<tr><td>215</td><td>513</td><td>103</td><td>UGC 10586</td><td>14.6</td><td></td><td>1.4</td><td>--</td><td>?</td><td>S0 pec</td><td>80</td><td>252.3583333333333</td><td>45.45833333333333</td></tr>\n",
       "<tr><td>216</td><td>514</td><td>103</td><td>UGC 10586</td><td>15.2</td><td></td><td>0.4</td><td>--</td><td></td><td>SAB(rs)0+ pec</td><td>80</td><td>252.36791666666664</td><td>45.461388888888884</td></tr>\n",
       "<tr><td>217</td><td>515</td><td>103</td><td>UGC 10586</td><td>14.6</td><td></td><td>0.4</td><td>--</td><td></td><td>Sa</td><td>80</td><td>252.38791666666663</td><td>45.49805555555555</td></tr>\n",
       "<tr><td>218</td><td>517</td><td>312</td><td>ARP 312</td><td>--</td><td></td><td>--</td><td>--</td><td></td><td></td><td>--</td><td>252.45916666666662</td><td>46.71388888888888</td></tr>\n",
       "<tr><td>219</td><td>516</td><td>312</td><td>MCG+08-31-004</td><td>14.1</td><td></td><td>1.1</td><td>0.9</td><td></td><td>S</td><td>--</td><td>252.45166666666663</td><td>46.71805555555555</td></tr>\n",
       "<tr><td>220</td><td>519</td><td>208</td><td>MCG+08-31-010</td><td>14.8</td><td></td><td>0.4</td><td>0.3</td><td></td><td></td><td>--</td><td>252.76166666666663</td><td>47.220833333333324</td></tr>\n",
       "<tr><td>221</td><td>518</td><td>208</td><td>MCG+08-31-011</td><td>15.0</td><td></td><td>0.4</td><td>0.3</td><td></td><td>S</td><td>--</td><td>252.75541666666663</td><td>47.223611111111104</td></tr>\n",
       "<tr><td>222</td><td>507</td><td>66</td><td>UGC 10396</td><td>14.6</td><td></td><td>1.2</td><td>0.7</td><td></td><td>S4</td><td>--</td><td>246.72041666666664</td><td>51.55555555555555</td></tr>\n",
       "<tr><td>223</td><td>512</td><td>330</td><td>I Zw 167</td><td>--</td><td></td><td>6.1</td><td>--</td><td></td><td>6 galaxy chain</td><td>--</td><td>252.28291666666664</td><td>53.43138888888888</td></tr>\n",
       "<tr><td>224</td><td>522</td><td>32</td><td>UGC 10770A</td><td>14.4</td><td></td><td>--</td><td>--</td><td></td><td>I9P</td><td>--</td><td>258.28166666666664</td><td>59.32305555555555</td></tr>\n",
       "<tr><td>225</td><td>523</td><td>32</td><td>UGC 10770B</td><td>14.3</td><td></td><td>1.2</td><td>0.6</td><td>?</td><td></td><td>--</td><td>258.2945833333333</td><td>59.33277777777777</td></tr>\n",
       "<tr><td>226</td><td>533</td><td>311</td><td>IC 1260</td><td>15.7</td><td></td><td>--</td><td>--</td><td></td><td></td><td>--</td><td>261.8816666666666</td><td>58.47583333333333</td></tr>\n",
       "<tr><td>227</td><td>534</td><td>311</td><td>KAZ 140</td><td>15.8</td><td></td><td>0.6</td><td>0.5</td><td></td><td></td><td>--</td><td>261.8820833333333</td><td>58.47583333333333</td></tr>\n",
       "<tr><td>228</td><td>530</td><td>311</td><td>IC 1258</td><td>14.4</td><td></td><td>0.9</td><td>0.7</td><td></td><td>Sab?</td><td>--</td><td>261.8225</td><td>58.48555555555555</td></tr>\n",
       "<tr><td>229</td><td>532</td><td>310</td><td>IC 1259</td><td>15.0</td><td></td><td>--</td><td>--</td><td></td><td>S0 pec</td><td>--</td><td>261.8608333333333</td><td>58.515833333333326</td></tr>\n",
       "<tr><td>230</td><td>531</td><td>310</td><td>IC 1259</td><td>15.0</td><td></td><td>--</td><td>--</td><td></td><td>S?</td><td>--</td><td>261.85375</td><td>58.51666666666666</td></tr>\n",
       "<tr><td>231</td><td>521</td><td>293</td><td>NGC 6286</td><td>13.3</td><td></td><td>1.3</td><td>1.2</td><td></td><td>Sb: pec</td><td>52</td><td>254.6308333333333</td><td>58.936944444444435</td></tr>\n",
       "<tr><td>232</td><td>520</td><td>293</td><td>NGC 6285</td><td>13.5</td><td></td><td>1.3</td><td>0.7</td><td></td><td>S0+? pec</td><td>52</td><td>254.5995833333333</td><td>58.955833333333324</td></tr>\n",
       "<tr><td>233</td><td>524</td><td>124</td><td>NGC 6361</td><td>13.1</td><td></td><td>2.2</td><td>0.6</td><td></td><td>SAb: sp I-II</td><td>29</td><td>259.66999999999996</td><td>60.606666666666655</td></tr>\n",
       "<tr><td>234</td><td>529</td><td>30</td><td>NGC 6365A</td><td>13.8</td><td></td><td>1.1</td><td>0.2</td><td></td><td>SBcd:</td><td>29</td><td>260.68041666666664</td><td>62.165833333333325</td></tr>\n",
       "<tr><td>235</td><td>528</td><td>30</td><td>NGC 6365</td><td>12.2</td><td></td><td>1.3</td><td>--</td><td>?</td><td>Sdm</td><td>29</td><td>260.67875</td><td>62.17416666666666</td></tr>\n",
       "<tr><td>236</td><td>391</td><td>60</td><td>ARP 060</td><td>16.3</td><td></td><td>--</td><td>--</td><td></td><td>Spiral</td><td>--</td><td>198.6970833333333</td><td>26.08583333333333</td></tr>\n",
       "<tr><td>237</td><td>389</td><td>196</td><td>ARP 196</td><td>18.8</td><td></td><td>--</td><td>--</td><td></td><td>Ring with</td><td>--</td><td>198.64749999999998</td><td>26.11916666666666</td></tr>\n",
       "<tr><td>238</td><td>390</td><td>196</td><td>ARP 196</td><td>16.0</td><td></td><td>--</td><td>--</td><td></td><td>Sep nuc</td><td>--</td><td>198.65624999999997</td><td>26.123888888888885</td></tr>\n",
       "<tr><td>239</td><td>387</td><td>139</td><td>MCG+05-31-135</td><td>15.8</td><td></td><td>1.0</td><td>0.3</td><td></td><td></td><td>--</td><td>196.85041666666663</td><td>26.716388888888886</td></tr>\n",
       "<tr><td>240</td><td>388</td><td>139</td><td>MCG+05-31-135</td><td>16.3</td><td></td><td>1.0</td><td>0.3</td><td></td><td></td><td>--</td><td>196.86541666666665</td><td>26.72333333333333</td></tr>\n",
       "<tr><td>241</td><td>407</td><td>183</td><td>UGC 08560</td><td>14.6</td><td></td><td>1.3</td><td>1.2</td><td></td><td>S3</td><td>--</td><td>203.72999999999996</td><td>31.392499999999995</td></tr>\n",
       "<tr><td>242</td><td>406</td><td>36</td><td>UGC 08548</td><td>15.0</td><td></td><td>1.3</td><td>0.6</td><td></td><td>SB?</td><td>--</td><td>203.5620833333333</td><td>31.425277777777772</td></tr>\n",
       "<tr><td>243</td><td>403</td><td>334</td><td>UGC 08498</td><td>13.6</td><td></td><td>2.8</td><td>1.0</td><td></td><td>S3</td><td>--</td><td>202.60749999999996</td><td>31.620277777777773</td></tr>\n",
       "<tr><td>244</td><td>396</td><td>193</td><td>IC 0883</td><td>14.4</td><td></td><td>1.6</td><td>1.1</td><td></td><td>Im: pec</td><td>--</td><td>200.1470833333333</td><td>34.13916666666666</td></tr>\n",
       "<tr><td>245</td><td>400</td><td>40</td><td>IC 4271</td><td>15.0</td><td></td><td>0.8</td><td>0.5</td><td></td><td>Pair</td><td>--</td><td>202.33499999999998</td><td>37.40861111111111</td></tr>\n",
       "<tr><td>246</td><td>437</td><td>178</td><td>NGC 5614</td><td>11.7</td><td></td><td>2.5</td><td>2.0</td><td></td><td>SA(r)ab pec</td><td>111</td><td>216.03124999999997</td><td>34.85861111111111</td></tr>\n",
       "<tr><td>247</td><td>436</td><td>178</td><td>NGC 5615</td><td>14.5</td><td></td><td>0.2</td><td>0.2</td><td></td><td></td><td>111</td><td>216.02666666666664</td><td>34.87416666666666</td></tr>\n",
       "<tr><td>248</td><td>435</td><td>178</td><td>NGC 5613</td><td>13.7</td><td></td><td>1.0</td><td>0.8</td><td></td><td>(R)SAB(r)0+</td><td>111</td><td>216.0245833333333</td><td>34.892222222222216</td></tr>\n",
       "<tr><td>249</td><td>433</td><td>69</td><td>NGC 5579</td><td>13.6</td><td></td><td>1.9</td><td>1.4</td><td></td><td>SABcd 110</td><td>--</td><td>215.10999999999996</td><td>35.18861111111111</td></tr>\n",
       "<tr><td>250</td><td>420</td><td>111</td><td>MCG+06-31-046</td><td>17.0</td><td></td><td>0.4</td><td>0.3</td><td></td><td>SB</td><td>--</td><td>210.42124999999996</td><td>33.82583333333333</td></tr>\n",
       "<tr><td>251</td><td>419</td><td>111</td><td>NGC 5421</td><td>13.4</td><td></td><td>1.2</td><td>0.9</td><td></td><td>SB?</td><td>110</td><td>210.4195833333333</td><td>33.82916666666666</td></tr>\n",
       "<tr><td>252</td><td>427</td><td>199</td><td>NGC 5544</td><td>13.4</td><td></td><td>1.0</td><td>--</td><td></td><td>(R)SB(rs)0/a</td><td>110</td><td>214.25999999999996</td><td>36.572222222222216</td></tr>\n",
       "<tr><td>253</td><td>428</td><td>199</td><td>NGC 5545</td><td>15.2</td><td></td><td>1.3</td><td>0.4</td><td></td><td>SA9s)bc:</td><td>110</td><td>214.27041666666665</td><td>36.57472222222222</td></tr>\n",
       "<tr><td>254</td><td>448</td><td>297</td><td>NGC 5752</td><td>15.3</td><td></td><td>0.5</td><td>0.2</td><td></td><td>S0</td><td>77</td><td>221.30916666666664</td><td>38.72888888888888</td></tr>\n",
       "<tr><td>255</td><td>450</td><td>297</td><td>NGC 5754</td><td>13.1</td><td></td><td>2.0</td><td>1.8</td><td></td><td>SB(rs)b</td><td>77</td><td>221.33124999999998</td><td>38.73138888888889</td></tr>\n",
       "<tr><td>256</td><td>451</td><td>297</td><td>NGC 5755</td><td>14.1</td><td></td><td>1.3</td><td>1.0</td><td></td><td>SB?</td><td>77</td><td>221.34999999999997</td><td>38.78027777777777</td></tr>\n",
       "<tr><td>257</td><td>449</td><td>297</td><td>NGC 5753</td><td>14.8</td><td></td><td>0.4</td><td>0.4</td><td></td><td></td><td>77</td><td>221.3283333333333</td><td>38.805833333333325</td></tr>\n",
       "<tr><td>258</td><td>418</td><td>84</td><td>NGC 5395</td><td>11.4</td><td></td><td>2.9</td><td>1.6</td><td></td><td>SA(s)b pec</td><td>110</td><td>209.6595833333333</td><td>37.42555555555555</td></tr>\n",
       "<tr><td>259</td><td>417</td><td>84</td><td>NGC 5394</td><td>13.0</td><td></td><td>1.8</td><td>1.0</td><td></td><td>SB(s)b pec</td><td>110</td><td>209.64124999999996</td><td>37.45361111111111</td></tr>\n",
       "<tr><td>260</td><td>378</td><td>242</td><td>NGC 4676B</td><td>13.2</td><td></td><td>2.2</td><td>0.8</td><td></td><td>SB(s)0/a pec</td><td>108</td><td>191.54666666666665</td><td>30.72444444444444</td></tr>\n",
       "<tr><td>261</td><td>377</td><td>242</td><td>NGC 4676A</td><td>13.0</td><td></td><td>2.3</td><td>0.7</td><td></td><td>S0 pec?</td><td>108</td><td>191.5420833333333</td><td>30.73333333333333</td></tr>\n",
       "<tr><td>262</td><td>372</td><td>281</td><td>NGC 4631</td><td>9.3</td><td></td><td>15.5</td><td>2.7</td><td></td><td>SB(s)d III</td><td>108</td><td>190.52416666666664</td><td>32.53944444444444</td></tr>\n",
       "<tr><td>263</td><td>371</td><td>281</td><td>NGC 4627</td><td>12.3</td><td></td><td>2.6</td><td>1.8</td><td></td><td>E4 pec</td><td>108</td><td>190.4983333333333</td><td>32.573611111111106</td></tr>\n",
       "<tr><td>264</td><td>383</td><td>266</td><td>NGC 4861</td><td>12.3</td><td></td><td>4.0</td><td>1.5</td><td></td><td>SB(s)m:</td><td>108</td><td>194.7570833333333</td><td>34.86083333333333</td></tr>\n",
       "<tr><td>265</td><td>380</td><td>265</td><td>IC 3862</td><td>16.0</td><td></td><td>1.3</td><td>0.6</td><td></td><td></td><td>--</td><td>193.47166666666664</td><td>36.08611111111111</td></tr>\n",
       "<tr><td>266</td><td>365</td><td>211</td><td>MCG+07-26-033</td><td>17.0</td><td></td><td>0.4</td><td>0.4</td><td></td><td></td><td>--</td><td>189.33041666666665</td><td>38.724999999999994</td></tr>\n",
       "<tr><td>267</td><td>366</td><td>211</td><td>MCG+07-26-034</td><td>16.0</td><td></td><td>0.6</td><td>0.6</td><td></td><td></td><td>--</td><td>189.33041666666665</td><td>38.724999999999994</td></tr>\n",
       "<tr><td>268</td><td>369</td><td>23</td><td>NGC 4618</td><td>10.8</td><td></td><td>4.2</td><td>3.4</td><td></td><td>SB(rs)m</td><td>75</td><td>190.38499999999996</td><td>41.15055555555555</td></tr>\n",
       "<tr><td>269</td><td>359</td><td>269</td><td>NGC 4490</td><td>9.8</td><td></td><td>6.4</td><td>3.1</td><td></td><td>SB(s)0+? sp</td><td>75</td><td>187.6533333333333</td><td>41.63972222222222</td></tr>\n",
       "<tr><td>270</td><td>358</td><td>269</td><td>NGC 4485</td><td>12.0</td><td></td><td>2.3</td><td>1.6</td><td></td><td>IB(s)m pec</td><td>75</td><td>187.62999999999997</td><td>41.69944444444444</td></tr>\n",
       "<tr><td>271</td><td>348</td><td>18</td><td>NGC 4088</td><td>10.5</td><td></td><td>5.8</td><td>2.3</td><td></td><td>SAB(rs)bc</td><td>47</td><td>181.3970833333333</td><td>50.54194444444444</td></tr>\n",
       "<tr><td>272</td><td>401</td><td>85</td><td>MESSIER 51A</td><td>8.4</td><td></td><td>11.4</td><td>7.0</td><td></td><td>SA(s)bc pec</td><td>76</td><td>202.46791666666664</td><td>47.19833333333332</td></tr>\n",
       "<tr><td>273</td><td>402</td><td>85</td><td>MESSIER 51B</td><td>9.6</td><td></td><td>5.8</td><td>4.6</td><td></td><td>I0 pec</td><td>76</td><td>202.49416666666664</td><td>47.26777777777777</td></tr>\n",
       "<tr><td>274</td><td>416</td><td>239</td><td>NGC 5279</td><td>14.2</td><td></td><td>0.6</td><td>0.4</td><td></td><td>SB(s)a pec</td><td>49</td><td>205.4320833333333</td><td>55.67277777777777</td></tr>\n",
       "<tr><td>275</td><td>415</td><td>239</td><td>NGC 5278</td><td>12.7</td><td></td><td>1.4</td><td>1.0</td><td></td><td>SA(s)b? pec</td><td>49</td><td>205.4158333333333</td><td>55.66972222222221</td></tr>\n",
       "<tr><td>276</td><td>352</td><td>160</td><td>NGC 4194</td><td>12.5</td><td></td><td>1.8</td><td>1.1</td><td></td><td>IBm pec</td><td>47</td><td>183.5420833333333</td><td>54.52777777777777</td></tr>\n",
       "<tr><td>277</td><td>472</td><td>136</td><td>NGC 5820</td><td>12.5</td><td></td><td>1.7</td><td>1.1</td><td></td><td>S0</td><td>50</td><td>224.66624999999996</td><td>53.886111111111106</td></tr>\n",
       "<tr><td>278</td><td>430</td><td>45</td><td>UGC 09178</td><td>15.5</td><td></td><td>1.1</td><td>0.5</td><td></td><td>Double System</td><td>--</td><td>214.96249999999998</td><td>51.90444444444444</td></tr>\n",
       "<tr><td>279</td><td>429</td><td>45</td><td>UGC 09178</td><td>15.4</td><td></td><td>0.7</td><td>0.3</td><td></td><td>SB?</td><td>--</td><td>214.86249999999998</td><td>51.92083333333333</td></tr>\n",
       "<tr><td>280</td><td>421</td><td>26</td><td>MESSIER 101</td><td>7.9</td><td></td><td>28.9</td><td>27.0</td><td></td><td>SAB(rs)cd I</td><td>49</td><td>210.80291666666665</td><td>54.350555555555545</td></tr>\n",
       "<tr><td>281</td><td>505</td><td>188</td><td>UGC 10214</td><td>14.4</td><td></td><td>3.6</td><td>0.8</td><td></td><td>SBS5P</td><td>--</td><td>241.51416666666663</td><td>55.42166666666666</td></tr>\n",
       "<tr><td>282</td><td>485</td><td>109</td><td>UGC 10053</td><td>15.0</td><td></td><td>1.2</td><td>0.7</td><td></td><td></td><td>--</td><td>236.96124999999998</td><td>69.46944444444443</td></tr>\n",
       "<tr><td>283</td><td>486</td><td>109</td><td>UGC 10053</td><td>15.2</td><td></td><td>0.5</td><td>0.4</td><td></td><td></td><td>--</td><td>237.0320833333333</td><td>69.45916666666666</td></tr>\n",
       "<tr><td>284</td><td>535</td><td>38</td><td>NGC 6412</td><td>11.7</td><td></td><td>2.5</td><td>2.2</td><td></td><td>SAS5</td><td>12</td><td>262.4008333333333</td><td>75.70472222222222</td></tr>\n",
       "<tr><td>285</td><td>404</td><td>104</td><td>NGC 5216</td><td>12.6</td><td></td><td>2.5</td><td>1.5</td><td></td><td>E0 pec</td><td>26</td><td>203.03249999999997</td><td>62.70083333333332</td></tr>\n",
       "<tr><td>286</td><td>405</td><td>104</td><td>NGC 5218</td><td>12.3</td><td></td><td>1.8</td><td>1.3</td><td></td><td>SB(s)b? pec</td><td>26</td><td>203.04541666666663</td><td>62.76749999999999</td></tr>\n",
       "<tr><td>287</td><td>393</td><td>238</td><td>UGC 08335</td><td>15.0</td><td></td><td>0.9</td><td>0.8</td><td></td><td>Sc</td><td>--</td><td>198.89666666666665</td><td>62.12388888888888</td></tr>\n",
       "<tr><td>288</td><td>392</td><td>238</td><td>UGC 08335</td><td>15.0</td><td></td><td>--</td><td>--</td><td></td><td>Sc</td><td>--</td><td>198.87249999999997</td><td>62.12833333333332</td></tr>\n",
       "<tr><td>289</td><td>508</td><td>185</td><td>NGC 6217</td><td>11.2</td><td></td><td>3.0</td><td>2.5</td><td></td><td>(R)SB(rs)bc</td><td>11</td><td>248.16666666666663</td><td>78.19916666666666</td></tr>\n",
       "<tr><td>290</td><td>397</td><td>204</td><td>UGC 08454</td><td>16.4</td><td></td><td>0.8</td><td>0.3</td><td></td><td></td><td>--</td><td>200.69124999999997</td><td>84.49944444444444</td></tr>\n",
       "<tr><td>291</td><td>398</td><td>204</td><td>UGC 08454</td><td>16.0</td><td></td><td>--</td><td>--</td><td></td><td>Double System</td><td>--</td><td>200.70666666666665</td><td>84.50666666666666</td></tr>\n",
       "<tr><td>292</td><td>545</td><td>278</td><td>NGC 7253B</td><td>14.2</td><td></td><td>1.6</td><td>0.5</td><td></td><td>S?</td><td>122</td><td>334.8708333333333</td><td>29.386388888888884</td></tr>\n",
       "<tr><td>293</td><td>544</td><td>278</td><td>NGC 7253A</td><td>13.6</td><td></td><td>1.7</td><td>0.5</td><td></td><td>SB?</td><td>122</td><td>334.8591666666666</td><td>29.39805555555555</td></tr>\n",
       "<tr><td>294</td><td>554</td><td>319</td><td>NGC 7320</td><td>12.6</td><td></td><td>2.2</td><td>1.1</td><td></td><td>SA(s)d</td><td>123</td><td>339.0170833333333</td><td>33.94472222222222</td></tr>\n",
       "<tr><td>295</td><td>553</td><td>319</td><td>NGC 7319</td><td>13.1</td><td></td><td>1.7</td><td>1.3</td><td></td><td>SB(s)bc pec</td><td>123</td><td>339.0145833333333</td><td>33.97583333333333</td></tr>\n",
       "<tr><td>296</td><td>550</td><td>319</td><td>NGC 7317</td><td>13.6</td><td></td><td>1.1</td><td>1.1</td><td>?</td><td>E4</td><td>123</td><td>338.96624999999995</td><td>33.94472222222222</td></tr>\n",
       "<tr><td>297</td><td>551</td><td>319</td><td>NGC 7318A</td><td>13.4</td><td></td><td>0.9</td><td>--</td><td></td><td>E2 pec</td><td>123</td><td>338.9862499999999</td><td>33.965555555555554</td></tr>\n",
       "<tr><td>298</td><td>552</td><td>319</td><td>NGC 7318B</td><td>13.4</td><td></td><td>1.9</td><td>1.2</td><td></td><td>E2</td><td>123</td><td>338.9933333333333</td><td>33.966111111111104</td></tr>\n",
       "<tr><td>299</td><td>538</td><td>29</td><td>NGC 6946</td><td>8.8</td><td></td><td>11.6</td><td>9.9</td><td></td><td>SAB(rs)cd</td><td>32</td><td>308.7175</td><td>60.15388888888888</td></tr>\n",
       "<tr><td>300</td><td>537</td><td>81</td><td>NGC 6622</td><td>15.3</td><td></td><td>0.5</td><td>0.4</td><td></td><td></td><td>30</td><td>273.25041666666664</td><td>68.35333333333332</td></tr>\n",
       "<tr><td>301</td><td>536</td><td>81</td><td>NGC 6621</td><td>12.8</td><td></td><td>2.1</td><td>0.8</td><td></td><td>Sb: pec</td><td>30</td><td>273.22749999999996</td><td>68.36388888888888</td></tr>\n",
       "<tr><td>302</td><td>51</td><td>236</td><td>IC 1623B</td><td>15.5</td><td></td><td>0.7</td><td>0.6</td><td></td><td></td><td>--</td><td>16.956666666666663</td><td>-17.505</td></tr>\n",
       "<tr><td>303</td><td>50</td><td>236</td><td>IC 1623A</td><td>14.3</td><td></td><td>0.5</td><td>0.4</td><td></td><td>S pec</td><td>--</td><td>16.94833333333333</td><td>-17.506666666666664</td></tr>\n",
       "<tr><td>304</td><td>37</td><td>251</td><td>VV 674</td><td>15.5</td><td></td><td>0.9</td><td>0.4</td><td></td><td>Triple</td><td>--</td><td>13.445416666666665</td><td>-13.861111111111109</td></tr>\n",
       "<tr><td>305</td><td>34</td><td>230</td><td>IC 0051</td><td>13.0</td><td></td><td>1.4</td><td>1.2</td><td></td><td>SO pec?</td><td>261</td><td>11.600833333333332</td><td>-13.44222222222222</td></tr>\n",
       "<tr><td>306</td><td>557</td><td>110</td><td>MCG-03-58-011</td><td>15.9</td><td></td><td>0.7</td><td>0.6</td><td></td><td>S</td><td>--</td><td>343.53666666666663</td><td>-15.23722222222222</td></tr>\n",
       "<tr><td>307</td><td>7</td><td>51</td><td>MGC-02-01-24</td><td>15.0</td><td></td><td>0.8</td><td>--</td><td></td><td></td><td>--</td><td>1.5699999999999998</td><td>-13.448055555555554</td></tr>\n",
       "<tr><td>308</td><td>9</td><td>144</td><td>NGC 7829</td><td>14.6</td><td></td><td>0.7</td><td>--</td><td></td><td>Ring B pec</td><td>260</td><td>1.6208333333333331</td><td>-13.42083333333333</td></tr>\n",
       "<tr><td>309</td><td>8</td><td>144</td><td>NGC 7828</td><td>14.4</td><td></td><td>0.9</td><td>0.5</td><td></td><td>Ring A</td><td>260</td><td>1.6129166666666663</td><td>-13.416111111111109</td></tr>\n",
       "<tr><td>310</td><td>592</td><td>50</td><td>IC 1520</td><td>14.0</td><td></td><td>0.5</td><td>0.5</td><td></td><td></td><td>--</td><td>359.4916666666666</td><td>-14.029999999999998</td></tr>\n",
       "<tr><td>311</td><td>26</td><td>100</td><td>IC 0019</td><td>15.0</td><td></td><td>0.8</td><td>0.5</td><td></td><td></td><td>--</td><td>7.164583333333332</td><td>-11.640833333333331</td></tr>\n",
       "<tr><td>312</td><td>25</td><td>100</td><td>IC 0018</td><td>15.0</td><td></td><td>1.5</td><td>0.8</td><td></td><td></td><td>--</td><td>7.158749999999999</td><td>-11.57361111111111</td></tr>\n",
       "<tr><td>313</td><td>31</td><td>127</td><td>IC 1563</td><td>14.2</td><td></td><td>0.7</td><td>0.4</td><td></td><td>I 0</td><td>--</td><td>9.750416666666665</td><td>-9.014444444444443</td></tr>\n",
       "<tr><td>314</td><td>30</td><td>127</td><td>NGC 0191</td><td>12.5</td><td></td><td>1.5</td><td>1.2</td><td></td><td>SAB(rs)C:pec</td><td>261</td><td>9.746666666666666</td><td>-9.001944444444444</td></tr>\n",
       "<tr><td>315</td><td>18</td><td>256</td><td>MCG-02-01-51</td><td>14.8</td><td></td><td>1.1</td><td>0.6</td><td></td><td>SB(S)c pec</td><td>--</td><td>4.712083333333332</td><td>-10.376944444444444</td></tr>\n",
       "<tr><td>316</td><td>19</td><td>256</td><td>VV 352</td><td>--</td><td></td><td>--</td><td>--</td><td></td><td></td><td>--</td><td>4.714166666666666</td><td>-10.375833333333333</td></tr>\n",
       "<tr><td>317</td><td>17</td><td>256</td><td>MCG-02-01-52</td><td>13.6</td><td></td><td>1.1</td><td>0.8</td><td></td><td>SB(S)c pec</td><td>--</td><td>4.708333333333333</td><td>-10.361666666666665</td></tr>\n",
       "<tr><td>318</td><td>582</td><td>222</td><td>NGC 7727</td><td>10.6</td><td></td><td>4.7</td><td>3.6</td><td></td><td>SAB:(s?)0/a p</td><td>260</td><td>354.9758333333333</td><td>-12.291944444444443</td></tr>\n",
       "<tr><td>319</td><td>12</td><td>146</td><td>ARP 146</td><td>--</td><td></td><td>0.7</td><td>0.6</td><td></td><td>Ring A</td><td>--</td><td>1.6866666666666663</td><td>-6.6372222222222215</td></tr>\n",
       "<tr><td>320</td><td>11</td><td>146</td><td>VV 790</td><td>--</td><td></td><td>--</td><td>--</td><td></td><td>Pec</td><td>--</td><td>1.6849999999999998</td><td>-6.63611111111111</td></tr>\n",
       "<tr><td>321</td><td>10</td><td>146</td><td>ARP 146</td><td>--</td><td></td><td>0.7</td><td>0.6</td><td></td><td>Ring A</td><td>--</td><td>1.6833333333333331</td><td>-6.635277777777777</td></tr>\n",
       "<tr><td>322</td><td>78</td><td>4</td><td>MCG-02-05-50 +A</td><td>13.7</td><td></td><td>2.8</td><td>2.4</td><td></td><td>IAB(rs)m</td><td>--</td><td>27.106666666666662</td><td>-12.381944444444443</td></tr>\n",
       "<tr><td>323</td><td>95</td><td>318</td><td>NGC 0839</td><td>13.1</td><td></td><td>1.5</td><td>0.7</td><td></td><td>I0? pec</td><td>264</td><td>32.428749999999994</td><td>-10.183888888888887</td></tr>\n",
       "<tr><td>324</td><td>94</td><td>318</td><td>NGC 0838</td><td>13.4</td><td></td><td>1.2</td><td>0.9</td><td></td><td>SA?(rs)0^0:</td><td>264</td><td>32.41</td><td>-10.146666666666665</td></tr>\n",
       "<tr><td>325</td><td>93</td><td>318</td><td>NGC 0835</td><td>12.1</td><td></td><td>1.3</td><td>1.1</td><td></td><td>SAB(r)ab:pec</td><td>264</td><td>32.35249999999999</td><td>-10.135833333333332</td></tr>\n",
       "<tr><td>326</td><td>92</td><td>318</td><td>NGC 0833</td><td>12.7</td><td></td><td>1.5</td><td>0.7</td><td></td><td>SAB(rs)c</td><td>264</td><td>32.335833333333326</td><td>-10.133055555555554</td></tr>\n",
       "<tr><td>327</td><td>41</td><td>59</td><td>NGC 0341B</td><td>14.7</td><td></td><td>0.3</td><td>0.2</td><td></td><td></td><td>262</td><td>15.19833333333333</td><td>-9.187499999999998</td></tr>\n",
       "<tr><td>328</td><td>40</td><td>59</td><td>NGC 0341A</td><td>14.5</td><td></td><td>1.1</td><td>--</td><td></td><td>SAB(r)bc II</td><td>262</td><td>15.190416666666664</td><td>-9.185555555555554</td></tr>\n",
       "<tr><td>329</td><td>70</td><td>133</td><td>NGC 0541</td><td>12.1</td><td></td><td>1.8</td><td>1.8</td><td></td><td>E0 or S0-</td><td>218</td><td>21.434166666666663</td><td>-1.379722222222222</td></tr>\n",
       "<tr><td>330</td><td>72</td><td>308</td><td>NGC 0547</td><td>12.2</td><td></td><td>1.3</td><td>--</td><td></td><td>E1</td><td>218</td><td>21.502499999999998</td><td>-1.3455555555555554</td></tr>\n",
       "<tr><td>331</td><td>71</td><td>308</td><td>NGC 0545</td><td>12.2</td><td></td><td>2.4</td><td>1.6</td><td></td><td>E+3</td><td>218</td><td>21.496666666666663</td><td>-1.3402777777777777</td></tr>\n",
       "<tr><td>332</td><td>103</td><td>54</td><td>MCG-01-07-007</td><td>15.0</td><td></td><td>1.0</td><td>0.6</td><td></td><td>S? + PGC 9107</td><td>--</td><td>36.00749999999999</td><td>-4.693888888888888</td></tr>\n",
       "<tr><td>333</td><td>102</td><td>54</td><td>PGC 9107</td><td>17.1</td><td></td><td>0.5</td><td>0.3</td><td></td><td></td><td>--</td><td>35.996249999999996</td><td>-4.696666666666666</td></tr>\n",
       "<tr><td>334</td><td>122</td><td>118</td><td>NGC 1144</td><td>12.9</td><td></td><td>--</td><td>--</td><td></td><td>Im pec/Ring B</td><td>220</td><td>43.79624999999999</td><td>-0.17694444444444443</td></tr>\n",
       "<tr><td>335</td><td>121</td><td>118</td><td>NGC 1143</td><td>13.2</td><td></td><td>--</td><td>--</td><td></td><td>SAB0-:pec/Rng</td><td>220</td><td>43.79041666666666</td><td>-0.17777777777777776</td></tr>\n",
       "<tr><td>336</td><td>114</td><td>37</td><td>MESSIER 77</td><td>8.9</td><td></td><td>7.1</td><td>6.1</td><td></td><td>(R)SAB(rs)ab</td><td>220</td><td>40.66958333333333</td><td>-0.013055555555555553</td></tr>\n",
       "<tr><td>337</td><td>81</td><td>75</td><td>NGC 0702</td><td>11.9</td><td></td><td>1.6</td><td>1.2</td><td></td><td>SAB(s)b: pec</td><td>218</td><td>27.826249999999995</td><td>-4.055833333333333</td></tr>\n",
       "<tr><td>338</td><td>86</td><td>126</td><td>UGC 01449</td><td>13.9</td><td></td><td>0.4</td><td>0.3</td><td></td><td>SBm pec</td><td>--</td><td>29.52333333333333</td><td>3.0849999999999995</td></tr>\n",
       "<tr><td>339</td><td>85</td><td>126</td><td>UGC 01449</td><td>14.5</td><td></td><td>1.2</td><td>0.7</td><td></td><td>Pec?</td><td>--</td><td>29.522499999999997</td><td>3.1013888888888883</td></tr>\n",
       "<tr><td>340</td><td>96</td><td>10</td><td>UGC 01775</td><td>13.8</td><td></td><td>1.5</td><td>1.5</td><td></td><td>S?</td><td>--</td><td>34.609583333333326</td><td>5.653888888888888</td></tr>\n",
       "<tr><td>341</td><td>36</td><td>140</td><td>NGC 0275</td><td>12.5</td><td></td><td>1.6</td><td>1.1</td><td></td><td>S pec</td><td>261</td><td>12.769166666666665</td><td>-7.063333333333333</td></tr>\n",
       "<tr><td>342</td><td>35</td><td>140</td><td>NGC 0274</td><td>13.0</td><td></td><td>1.5</td><td>--</td><td></td><td>SAB(r:)0^0^ p</td><td>261</td><td>12.757083333333332</td><td>-7.056666666666666</td></tr>\n",
       "<tr><td>343</td><td>38</td><td>121</td><td>MCG-01-03-052</td><td>14.5</td><td></td><td>0.9</td><td>0.7</td><td></td><td>Disrupted</td><td>--</td><td>14.847083333333332</td><td>-4.813888888888888</td></tr>\n",
       "<tr><td>344</td><td>39</td><td>121</td><td>MCG-01-03-051</td><td>14.5</td><td></td><td>2.1</td><td>0.6</td><td></td><td>Sa pec sp</td><td>--</td><td>14.847916666666665</td><td>-4.804166666666666</td></tr>\n",
       "<tr><td>345</td><td>27</td><td>19</td><td>NGC 0145</td><td>13.2</td><td></td><td>1.8</td><td>1.3</td><td></td><td>SB(s)dm</td><td>216</td><td>7.937499999999999</td><td>-5.153333333333332</td></tr>\n",
       "<tr><td>346</td><td>33</td><td>231</td><td>IC 1575</td><td>14.5</td><td></td><td>--</td><td>--</td><td></td><td></td><td>--</td><td>10.888749999999998</td><td>-4.118055555555555</td></tr>\n",
       "<tr><td>347</td><td>63</td><td>8</td><td>NGC 0497</td><td>13.0</td><td></td><td>2.1</td><td>0.9</td><td></td><td>SB(r)b I-II</td><td>217</td><td>20.596666666666664</td><td>-0.8747222222222221</td></tr>\n",
       "<tr><td>348</td><td>62</td><td>67</td><td>UGC 00892</td><td>14.0</td><td></td><td>1.6</td><td>1.5</td><td></td><td>SB(r)ab</td><td>--</td><td>20.319999999999997</td><td>-0.5449999999999999</td></tr>\n",
       "<tr><td>349</td><td>21</td><td>35</td><td>UGC 00212</td><td>15.5</td><td></td><td>--</td><td>--</td><td></td><td>SP</td><td>--</td><td>5.5891666666666655</td><td>-1.3463888888888886</td></tr>\n",
       "<tr><td>350</td><td>22</td><td>35</td><td>UGC 00212</td><td>15.0</td><td></td><td>1.5</td><td>0.7</td><td></td><td>SB</td><td>--</td><td>5.595833333333332</td><td>-1.3036111111111108</td></tr>\n",
       "<tr><td>351</td><td>24</td><td>201</td><td>UGC 00224</td><td>16.0</td><td></td><td>--</td><td>--</td><td></td><td></td><td>--</td><td>5.907083333333333</td><td>-0.5097222222222222</td></tr>\n",
       "<tr><td>352</td><td>23</td><td>201</td><td>UGC 00224</td><td>16.0</td><td></td><td>0.5</td><td>0.3</td><td></td><td>Disrupted</td><td>--</td><td>5.890416666666666</td><td>-0.48944444444444435</td></tr>\n",
       "<tr><td>353</td><td>76</td><td>306</td><td>UGC 01102</td><td>--</td><td></td><td>--</td><td>--</td><td></td><td>condensation</td><td>218</td><td>23.123749999999998</td><td>4.589999999999999</td></tr>\n",
       "<tr><td>354</td><td>75</td><td>306</td><td>UGC 01102</td><td>14.6</td><td></td><td>1.3</td><td>1.1</td><td></td><td>S?</td><td>218</td><td>23.121249999999996</td><td>4.595833333333332</td></tr>\n",
       "<tr><td>355</td><td>77</td><td>306</td><td>UGC 01105</td><td>14.5</td><td></td><td>0.9</td><td>0.6</td><td></td><td>Im</td><td>--</td><td>23.174166666666665</td><td>4.64</td></tr>\n",
       "<tr><td>356</td><td>61</td><td>227</td><td>NGC 0474</td><td>11.5</td><td></td><td>7.1</td><td>6.3</td><td></td><td>(R&apos;)SAB0^0 pec</td><td>217</td><td>20.027916666666663</td><td>3.416944444444444</td></tr>\n",
       "<tr><td>357</td><td>59</td><td>227</td><td>NGC 0470</td><td>11.9</td><td></td><td>2.8</td><td>1.8</td><td></td><td>SA(r)b pec II</td><td>217</td><td>19.93958333333333</td><td>3.4102777777777775</td></tr>\n",
       "<tr><td>358</td><td>68</td><td>157</td><td>NGC 0520</td><td>11.5</td><td></td><td>4.5</td><td>1.8</td><td></td><td>S pec, Pair</td><td>218</td><td>21.146666666666665</td><td>3.7936111111111104</td></tr>\n",
       "<tr><td>359</td><td>53</td><td>164</td><td>NGC 0455</td><td>12.6</td><td></td><td>2.0</td><td>1.2</td><td></td><td>S?</td><td>172</td><td>18.98833333333333</td><td>5.177777777777777</td></tr>\n",
       "<tr><td>360</td><td>79</td><td>228</td><td>IC 0162</td><td>13.7</td><td></td><td>1.6</td><td>--</td><td></td><td>S0 -conc rings</td><td>--</td><td>27.222499999999997</td><td>10.521666666666665</td></tr>\n",
       "<tr><td>361</td><td>60</td><td>48</td><td>CGCG 436-026</td><td>15.7</td><td></td><td>--</td><td>--</td><td></td><td>Pair</td><td>--</td><td>19.985833333333332</td><td>12.345555555555555</td></tr>\n",
       "<tr><td>362</td><td>57</td><td>119</td><td>UGC 00849</td><td>14.7</td><td></td><td>--</td><td>--</td><td></td><td>Sdm:</td><td>--</td><td>19.850416666666664</td><td>12.446944444444442</td></tr>\n",
       "<tr><td>363</td><td>58</td><td>119</td><td>UGC 00849</td><td>14.9</td><td></td><td>--</td><td>--</td><td></td><td>E?</td><td>--</td><td>19.85208333333333</td><td>12.461944444444443</td></tr>\n",
       "<tr><td>364</td><td>56</td><td>88</td><td>VV 445</td><td>--</td><td></td><td>--</td><td>--</td><td></td><td>Spiral</td><td>--</td><td>19.77333333333333</td><td>12.479166666666664</td></tr>\n",
       "<tr><td>365</td><td>54</td><td>128</td><td>UGC 00827</td><td>15.4</td><td></td><td>0.7</td><td>0.2</td><td></td><td>DBL SYS</td><td>--</td><td>19.351666666666663</td><td>14.696666666666665</td></tr>\n",
       "<tr><td>366</td><td>55</td><td>128</td><td>UGC 00827</td><td>16.8</td><td></td><td>--</td><td>--</td><td></td><td></td><td>--</td><td>19.37208333333333</td><td>14.702499999999999</td></tr>\n",
       "<tr><td>367</td><td>52</td><td>11</td><td>UGC 00717</td><td>14.4</td><td></td><td>1.5</td><td>1.0</td><td></td><td>SBb</td><td>--</td><td>17.346249999999998</td><td>14.336666666666664</td></tr>\n",
       "<tr><td>368</td><td>556</td><td>15</td><td>NGC 7393</td><td>12.6</td><td></td><td>2.0</td><td>0.9</td><td></td><td>SAB?(r:)b?</td><td>258</td><td>342.91374999999994</td><td>-5.557777777777777</td></tr>\n",
       "<tr><td>369</td><td>555</td><td>3</td><td>MCG-01-57-016</td><td>13.4</td><td></td><td>2.5</td><td>2.1</td><td></td><td>SA(s)m</td><td>--</td><td>339.1416666666666</td><td>-2.905277777777777</td></tr>\n",
       "<tr><td>370</td><td>569</td><td>223</td><td>NGC 7585</td><td>11.4</td><td></td><td>2.3</td><td>2.0</td><td></td><td>SA?0^0 pec</td><td>259</td><td>349.50874999999996</td><td>-4.648888888888888</td></tr>\n",
       "<tr><td>371</td><td>560</td><td>314</td><td>MCG-01-58-011</td><td>16.0</td><td></td><td>1.1</td><td>0.9</td><td>?</td><td>(R&apos;)SB(s)dm p</td><td>--</td><td>344.5458333333333</td><td>-3.8152777777777773</td></tr>\n",
       "<tr><td>372</td><td>559</td><td>314</td><td>MCG-01-58-010</td><td>13.8</td><td></td><td>1.3</td><td>1.1</td><td>?</td><td>SB(rs)cd: pec</td><td>--</td><td>344.52916666666664</td><td>-3.7897222222222218</td></tr>\n",
       "<tr><td>373</td><td>558</td><td>314</td><td>MCG-01-58-009</td><td>13.7</td><td></td><td>1.1</td><td>0.9</td><td>?</td><td>(R&apos;)SA(s)bc:</td><td>--</td><td>344.5041666666666</td><td>-3.7688888888888883</td></tr>\n",
       "<tr><td>374</td><td>583</td><td>295</td><td>MCG-01-60-021</td><td>14.5</td><td></td><td>1.9</td><td>0.3</td><td></td><td>Sc</td><td>--</td><td>355.4495833333333</td><td>-3.6769444444444437</td></tr>\n",
       "<tr><td>375</td><td>584</td><td>295</td><td>ARP 295</td><td>14.6</td><td></td><td>0.9</td><td>0.5</td><td>?</td><td>Sb pec</td><td>--</td><td>355.5170833333333</td><td>-3.5891666666666664</td></tr>\n",
       "<tr><td>376</td><td>589</td><td>323</td><td>NGC 7783B</td><td>14.0</td><td></td><td>0.4</td><td>0.3</td><td></td><td>S0</td><td>215</td><td>358.54999999999995</td><td>0.3772222222222222</td></tr>\n",
       "<tr><td>377</td><td>588</td><td>323</td><td>NGC 7783</td><td>13.0</td><td></td><td>1.3</td><td>0.6</td><td></td><td>S0^0: sp</td><td>215</td><td>358.54166666666663</td><td>0.3827777777777777</td></tr>\n",
       "<tr><td>378</td><td>570</td><td>92</td><td>NGC 7603</td><td>13.2</td><td></td><td>1.6</td><td>1.0</td><td></td><td>SA(rs)0+: pec</td><td>259</td><td>349.7358333333333</td><td>0.24388888888888885</td></tr>\n",
       "<tr><td>379</td><td>580</td><td>284</td><td>NGC 7714</td><td>12.5</td><td></td><td>1.9</td><td>1.4</td><td></td><td>SB:(s)b? pec</td><td>259</td><td>354.05875</td><td>2.155</td></tr>\n",
       "<tr><td>380</td><td>581</td><td>284</td><td>NGC 7715</td><td>14.2</td><td></td><td>2.6</td><td>0.5</td><td></td><td>Sa? pec sp</td><td>259</td><td>354.09166666666664</td><td>2.1566666666666663</td></tr>\n",
       "<tr><td>381</td><td>577</td><td>216</td><td>NGC 7679</td><td>12.9</td><td></td><td>1.4</td><td>0.9</td><td></td><td>(R&apos;:)Sc? pec</td><td>259</td><td>352.19499999999994</td><td>3.5113888888888884</td></tr>\n",
       "<tr><td>382</td><td>578</td><td>216</td><td>NGC 7682</td><td>13.2</td><td></td><td>1.2</td><td>1.1</td><td></td><td>SB(r)a: pec</td><td>259</td><td>352.26624999999996</td><td>3.5333333333333328</td></tr>\n",
       "<tr><td>383</td><td>562</td><td>298</td><td>NGC 7469</td><td>12.3</td><td></td><td>1.5</td><td>1.1</td><td></td><td>(R&apos;)SAB(rs)a</td><td>213</td><td>345.81499999999994</td><td>8.873888888888887</td></tr>\n",
       "<tr><td>384</td><td>563</td><td>298</td><td>IC 5283</td><td>13.8</td><td></td><td>0.8</td><td>0.4</td><td></td><td>SA(r)cd pec?</td><td>213</td><td>345.8254166666666</td><td>8.893333333333333</td></tr>\n",
       "<tr><td>385</td><td>543</td><td>169</td><td>NGC 7237</td><td>13.6</td><td></td><td>0.7</td><td>0.7</td><td></td><td>SA0-</td><td>212</td><td>333.69541666666663</td><td>13.840555555555554</td></tr>\n",
       "<tr><td>386</td><td>542</td><td>169</td><td>NGC 7236</td><td>13.0</td><td></td><td>0.7</td><td>0.7</td><td></td><td>SA0-</td><td>212</td><td>333.68749999999994</td><td>13.846111111111108</td></tr>\n",
       "<tr><td>387</td><td>587</td><td>68</td><td>NGC 7757</td><td>12.7</td><td></td><td>2.5</td><td>1.8</td><td></td><td>SAB(rs)c</td><td>215</td><td>357.18791666666664</td><td>4.173333333333333</td></tr>\n",
       "<tr><td>388</td><td>14</td><td>246</td><td>NGC 7838</td><td>14.3</td><td></td><td>0.7</td><td>0.3</td><td></td><td></td><td>170</td><td>1.72375</td><td>8.35</td></tr>\n",
       "<tr><td>389</td><td>13</td><td>246</td><td>NGC 7837</td><td>14.4</td><td></td><td>0.4</td><td>0.2</td><td></td><td></td><td>170</td><td>1.7141666666666664</td><td>8.351388888888888</td></tr>\n",
       "<tr><td>390</td><td>575</td><td>182</td><td>UGC 12608</td><td>13.6</td><td></td><td>0.2</td><td>0.2</td><td></td><td>SBb</td><td>--</td><td>351.99499999999995</td><td>8.782777777777776</td></tr>\n",
       "<tr><td>391</td><td>574</td><td>182</td><td>NGC 7674</td><td>13.2</td><td></td><td>1.1</td><td>1.0</td><td></td><td>SA(r)bc pec</td><td>214</td><td>351.9862499999999</td><td>8.779166666666665</td></tr>\n",
       "<tr><td>392</td><td>572</td><td>150</td><td>NGC 7609A</td><td>15.0</td><td></td><td>--</td><td>--</td><td></td><td>Sc irr</td><td>--</td><td>349.8791666666666</td><td>9.502777777777776</td></tr>\n",
       "<tr><td>393</td><td>571</td><td>150</td><td>NGC 7609</td><td>14.1</td><td></td><td>1.3</td><td>1.1</td><td></td><td>Pec</td><td>214</td><td>349.8745833333333</td><td>9.508055555555554</td></tr>\n",
       "<tr><td>394</td><td>15</td><td>235</td><td>NGC 0014</td><td>12.7</td><td></td><td>2.8</td><td>2.1</td><td></td><td>(R)IB(S)m pec</td><td>170</td><td>2.1925</td><td>15.815555555555553</td></tr>\n",
       "<tr><td>395</td><td>6</td><td>130</td><td>IC 5378</td><td>15.3</td><td></td><td>--</td><td>--</td><td></td><td>E</td><td>--</td><td>0.6574999999999999</td><td>16.64361111111111</td></tr>\n",
       "<tr><td>396</td><td>5</td><td>130</td><td>IC 5378</td><td>15.6</td><td></td><td>0.5</td><td>--</td><td></td><td>SBc</td><td>--</td><td>0.6570833333333332</td><td>16.65222222222222</td></tr>\n",
       "<tr><td>397</td><td>590</td><td>262</td><td>MCG+03-01-003</td><td>14.6</td><td></td><td>0.5</td><td>0.4</td><td></td><td>S</td><td>125</td><td>359.18249999999995</td><td>16.807499999999997</td></tr>\n",
       "<tr><td>398</td><td>591</td><td>262</td><td>UGC 12856</td><td>13.2</td><td></td><td>2.4</td><td>--</td><td></td><td>IB(s)m</td><td>125</td><td>359.1870833333333</td><td>16.812499999999996</td></tr>\n",
       "<tr><td>399</td><td>20</td><td>65</td><td>NGC 0091</td><td>13.7</td><td></td><td>2.2</td><td>--</td><td></td><td>SAB(S)c pec I</td><td>126</td><td>5.465416666666666</td><td>22.400277777777774</td></tr>\n",
       "<tr><td>400</td><td>29</td><td>282</td><td>IC 1559</td><td>14.0</td><td></td><td>0.8</td><td>0.5</td><td></td><td>SAB pec:</td><td>126</td><td>9.2175</td><td>23.984444444444442</td></tr>\n",
       "<tr><td>401</td><td>28</td><td>282</td><td>NGC 0169</td><td>12.4</td><td></td><td>2.7</td><td>0.7</td><td></td><td>SA(s)ab: sp</td><td>126</td><td>9.216666666666665</td><td>23.991666666666664</td></tr>\n",
       "<tr><td>402</td><td>561</td><td>13</td><td>NGC 7448</td><td>11.6</td><td></td><td>2.7</td><td>1.2</td><td></td><td>SA(rs)bc</td><td>213</td><td>345.00999999999993</td><td>15.989444444444443</td></tr>\n",
       "<tr><td>403</td><td>573</td><td>212</td><td>NGC 7625</td><td>12.1</td><td></td><td>1.6</td><td>1.5</td><td></td><td>SA(rs)a pec</td><td>169</td><td>350.12499999999994</td><td>17.22555555555555</td></tr>\n",
       "<tr><td>404</td><td>567</td><td>170</td><td>NGC 7578A</td><td>13.8</td><td></td><td>1.4</td><td>--</td><td></td><td>S0^0 pec</td><td>169</td><td>349.29958333333326</td><td>18.700833333333332</td></tr>\n",
       "<tr><td>405</td><td>568</td><td>170</td><td>NGC 7578B</td><td>13.8</td><td></td><td>1.1</td><td>--</td><td></td><td>E1</td><td>169</td><td>349.3058333333333</td><td>18.707777777777775</td></tr>\n",
       "<tr><td>406</td><td>564</td><td>99</td><td>NGC 7547</td><td>13.7</td><td></td><td>1.1</td><td>0.5</td><td></td><td>(R&apos;)SAB(s)0/a:</td><td>168</td><td>348.76499999999993</td><td>18.973055555555554</td></tr>\n",
       "<tr><td>407</td><td>565</td><td>99</td><td>NGC 7550</td><td>12.2</td><td></td><td>1.4</td><td>1.2</td><td></td><td>SA0-</td><td>168</td><td>348.8166666666666</td><td>18.961388888888887</td></tr>\n",
       "<tr><td>408</td><td>566</td><td>99</td><td>NGC 7549</td><td>13.0</td><td></td><td>2.8</td><td>0.7</td><td></td><td>SB(s)cd pec</td><td>168</td><td>348.8216666666666</td><td>19.041666666666664</td></tr>\n",
       "<tr><td>409</td><td>576</td><td>28</td><td>NGC 7678</td><td>11.8</td><td></td><td>2.4</td><td>1.7</td><td></td><td>SAB(rs)c I-II</td><td>169</td><td>352.1158333333333</td><td>22.42111111111111</td></tr>\n",
       "<tr><td>410</td><td>2</td><td>249</td><td>UGC 12891</td><td>16.2</td><td></td><td>1.3</td><td>0.5</td><td></td><td></td><td>--</td><td>0.08999999999999998</td><td>22.994999999999997</td></tr>\n",
       "<tr><td>411</td><td>1</td><td>249</td><td>UGC 12891</td><td>16.2</td><td></td><td>--</td><td>--</td><td></td><td></td><td>--</td><td>0.08041666666666665</td><td>22.990555555555552</td></tr>\n",
       "<tr><td>412</td><td>16</td><td>113</td><td>NGC 0070</td><td>14.5</td><td></td><td>1.4</td><td>1.2</td><td></td><td>SA(rs)c III</td><td>89</td><td>4.593333333333333</td><td>30.080555555555552</td></tr>\n",
       "<tr><td>413</td><td>585</td><td>86</td><td>NGC 7752</td><td>14.3</td><td></td><td>0.8</td><td>0.5</td><td>?</td><td>I0:</td><td>89</td><td>356.74375</td><td>29.458888888888886</td></tr>\n",
       "<tr><td>414</td><td>586</td><td>86</td><td>NGC 7753</td><td>12.0</td><td></td><td>3.3</td><td>2.1</td><td></td><td>SAB(rs)bc I</td><td>89</td><td>356.7695833333333</td><td>29.483611111111106</td></tr>\n",
       "<tr><td>415</td><td>579</td><td>46</td><td>UGC 12665</td><td>15.0</td><td></td><td>1.2</td><td>0.9</td><td></td><td>SBT7P</td><td>--</td><td>353.42124999999993</td><td>30.04305555555555</td></tr>\n",
       "<tr><td>416</td><td>3</td><td>112</td><td>NGC 7805</td><td>13.3</td><td></td><td>1.2</td><td>0.9</td><td></td><td>SAB0^0: pec</td><td>89</td><td>0.36208333333333326</td><td>31.433888888888884</td></tr>\n",
       "<tr><td>417</td><td>4</td><td>112</td><td>NGC 7806</td><td>13.5</td><td></td><td>1.1</td><td>0.8</td><td></td><td>SA(rs)bc? pec</td><td>89</td><td>0.3758333333333333</td><td>31.442499999999995</td></tr>\n",
       "<tr><td>418</td><td>158</td><td>123</td><td>NGC 1889</td><td>13.3</td><td></td><td>0.7</td><td>0.5</td><td></td><td>SAB?(r:)0</td><td>270</td><td>80.64708333333333</td><td>-11.496944444444443</td></tr>\n",
       "<tr><td>419</td><td>157</td><td>123</td><td>NGC 1888</td><td>12.0</td><td></td><td>3.0</td><td>0.8</td><td></td><td>Sb: pec sp</td><td>270</td><td>80.63458333333332</td><td>-11.495</td></tr>\n",
       "<tr><td>420</td><td>167</td><td>165</td><td>NGC 2418</td><td>12.2</td><td></td><td>1.8</td><td>--</td><td></td><td>E</td><td>139</td><td>114.15749999999998</td><td>17.884999999999998</td></tr>\n",
       "<tr><td>421</td><td>151</td><td>187</td><td>MCG-02-13-040A</td><td>15.0</td><td></td><td>0.9</td><td>0.4</td><td></td><td></td><td>--</td><td>76.22083333333332</td><td>-10.247777777777776</td></tr>\n",
       "<tr><td>422</td><td>144</td><td>186</td><td>NGC 1614</td><td>13.6</td><td></td><td>1.3</td><td>1.2</td><td></td><td>SB(s)c pec</td><td>--</td><td>68.49916666666665</td><td>-8.578888888888887</td></tr>\n",
       "<tr><td>423</td><td>145</td><td>61</td><td>UGC 03104</td><td>15.1</td><td></td><td>1.0</td><td>0.5</td><td></td><td>Sa</td><td>--</td><td>69.175</td><td>-2.286944444444444</td></tr>\n",
       "<tr><td>424</td><td>146</td><td>180</td><td>MCG-01-13-034</td><td>14.8</td><td></td><td>1.1</td><td>0.5</td><td></td><td>S</td><td>--</td><td>73.34291666666665</td><td>-4.8022222222222215</td></tr>\n",
       "<tr><td>425</td><td>150</td><td>259</td><td>NGC 1741</td><td>15.6</td><td></td><td>--</td><td>--</td><td></td><td></td><td>224</td><td>75.41125</td><td>-4.259444444444444</td></tr>\n",
       "<tr><td>426</td><td>148</td><td>259</td><td>NGC 1741</td><td>15.2</td><td></td><td>--</td><td>--</td><td></td><td></td><td>224</td><td>75.3975</td><td>-4.263888888888888</td></tr>\n",
       "<tr><td>427</td><td>149</td><td>259</td><td>NGC 1741</td><td>13.3</td><td></td><td>1.4</td><td>0.7</td><td></td><td>Pec Inter Sys</td><td>224</td><td>75.40749999999998</td><td>-4.257777777777777</td></tr>\n",
       "<tr><td>428</td><td>147</td><td>259</td><td>NGC 1741</td><td>18.5</td><td></td><td>--</td><td>--</td><td></td><td></td><td>224</td><td>75.3975</td><td>-4.256666666666666</td></tr>\n",
       "<tr><td>429</td><td>152</td><td>52</td><td>CGCG 421-027</td><td>15.6</td><td></td><td>--</td><td>--</td><td></td><td></td><td>--</td><td>79.93333333333332</td><td>3.7169444444444437</td></tr>\n",
       "<tr><td>430</td><td>156</td><td>327</td><td>MCG+01-14-031</td><td>17.4</td><td></td><td>--</td><td>--</td><td></td><td>SA0-</td><td>--</td><td>80.45791666666666</td><td>6.676666666666666</td></tr>\n",
       "<tr><td>431</td><td>155</td><td>327</td><td>MCG+01-14-031</td><td>17.1</td><td></td><td>--</td><td>--</td><td></td><td>SBd</td><td>--</td><td>80.45374999999999</td><td>6.681944444444444</td></tr>\n",
       "<tr><td>432</td><td>154</td><td>327</td><td>MCG+01-14-031</td><td>18.3</td><td></td><td>--</td><td>--</td><td></td><td>S0</td><td>--</td><td>80.44874999999999</td><td>6.6836111111111105</td></tr>\n",
       "<tr><td>433</td><td>153</td><td>327</td><td>NGC 1875</td><td>13.6</td><td></td><td>1.6</td><td>0.5</td><td></td><td>S0?</td><td>180</td><td>80.44124999999998</td><td>6.68861111111111</td></tr>\n",
       "<tr><td>434</td><td>140</td><td>219</td><td>UGC 02812</td><td>14.9</td><td></td><td>0.9</td><td>0.8</td><td></td><td>SB pec</td><td>--</td><td>54.966249999999995</td><td>-2.113333333333333</td></tr>\n",
       "<tr><td>435</td><td>142</td><td>20</td><td>UGC 03014</td><td>14.4</td><td></td><td>1.2</td><td>0.7</td><td></td><td>SB?</td><td>--</td><td>64.97375</td><td>2.0952777777777776</td></tr>\n",
       "<tr><td>436</td><td>136</td><td>279</td><td>NGC 1253</td><td>11.7</td><td></td><td>5.3</td><td>2.3</td><td></td><td>SAB(s)cd</td><td>221</td><td>48.53791666666666</td><td>-2.8227777777777776</td></tr>\n",
       "<tr><td>437</td><td>137</td><td>279</td><td>NGC 1253A</td><td>13.9</td><td></td><td>1.7</td><td>1.0</td><td></td><td>IB(s)m pec IV</td><td>221</td><td>48.59666666666666</td><td>-2.8036111111111106</td></tr>\n",
       "<tr><td>438</td><td>134</td><td>147</td><td>IC 0298</td><td>15.0</td><td></td><td>0.7</td><td>0.5</td><td></td><td>Ring A&amp;B</td><td>--</td><td>47.826249999999995</td><td>1.3138888888888887</td></tr>\n",
       "<tr><td>439</td><td>336</td><td>289</td><td>NGC 3981</td><td>11.0</td><td></td><td>5.3</td><td>2.3</td><td></td><td>SA(rs)c pec</td><td>327</td><td>179.02999999999997</td><td>-19.894999999999996</td></tr>\n",
       "<tr><td>440</td><td>344</td><td>22</td><td>ESO 572-G036</td><td>14.9</td><td></td><td>0.9</td><td>0.6</td><td></td><td>IB(s)m</td><td>--</td><td>179.87291666666664</td><td>-19.331666666666663</td></tr>\n",
       "<tr><td>441</td><td>345</td><td>22</td><td>NGC 4027</td><td>11.2</td><td></td><td>3.2</td><td>2.4</td><td></td><td>SB(s)dm</td><td>327</td><td>179.8770833333333</td><td>-19.263333333333332</td></tr>\n",
       "<tr><td>442</td><td>347</td><td>244</td><td>NGC 4039</td><td>10.3</td><td></td><td>3.1</td><td>1.6</td><td></td><td>IB:(s)m pec</td><td>327</td><td>180.47416666666663</td><td>-18.884999999999998</td></tr>\n",
       "<tr><td>443</td><td>346</td><td>244</td><td>NGC 4038</td><td>10.7</td><td></td><td>5.3</td><td>3.1</td><td></td><td>SB?(s:)m pec</td><td>327</td><td>180.46999999999997</td><td>-18.865</td></tr>\n",
       "<tr><td>444</td><td>331</td><td>248</td><td>MCG-01-30-33</td><td>14.1</td><td></td><td>1.8</td><td>0.7</td><td></td><td>SB(s)b: pec</td><td>--</td><td>176.6870833333333</td><td>-3.842777777777777</td></tr>\n",
       "<tr><td>445</td><td>330</td><td>248</td><td>MCG-01-30-32</td><td>14.5</td><td></td><td>1.2</td><td>0.6</td><td></td><td>SAB(rs)b? pec</td><td>--</td><td>176.64541666666665</td><td>-3.8552777777777774</td></tr>\n",
       "<tr><td>446</td><td>332</td><td>248</td><td>MCG-01-30-34</td><td>15.0</td><td></td><td>1.0</td><td>0.7</td><td></td><td>SB(s)c pec</td><td>--</td><td>176.70666666666665</td><td>-3.816944444444444</td></tr>\n",
       "<tr><td>447</td><td>386</td><td>176</td><td>NGC 4933C</td><td>17.5</td><td></td><td>0.5</td><td>0.5</td><td></td><td>Im: pec</td><td>284</td><td>195.9933333333333</td><td>-11.501388888888886</td></tr>\n",
       "<tr><td>448</td><td>384</td><td>176</td><td>NGC 4933A</td><td>11.7</td><td></td><td>1.0</td><td>0.8</td><td></td><td>S0 pec</td><td>284</td><td>195.97624999999996</td><td>-11.50611111111111</td></tr>\n",
       "<tr><td>449</td><td>385</td><td>176</td><td>NGC 4933B</td><td>12.7</td><td></td><td>1.8</td><td>1.1</td><td></td><td>E/S0 pec</td><td>284</td><td>195.98624999999998</td><td>-11.498055555555554</td></tr>\n",
       "<tr><td>450</td><td>422</td><td>271</td><td>NGC 5426</td><td>12.2</td><td></td><td>3.0</td><td>1.6</td><td></td><td>SAB(rs)bc pec</td><td>286</td><td>210.85416666666663</td><td>-6.069444444444444</td></tr>\n",
       "<tr><td>451</td><td>423</td><td>271</td><td>NGC 5427</td><td>11.4</td><td></td><td>2.8</td><td>2.4</td><td></td><td>SA(s)c pec II</td><td>286</td><td>210.85749999999996</td><td>-6.030555555555555</td></tr>\n",
       "<tr><td>452</td><td>447</td><td>171</td><td>NGC 5718</td><td>12.9</td><td></td><td>1.5</td><td>1.1</td><td></td><td>S0-:</td><td>242</td><td>220.1795833333333</td><td>3.453055555555555</td></tr>\n",
       "<tr><td>453</td><td>446</td><td>171</td><td>IC 1042</td><td>14.9</td><td></td><td>1.1</td><td>--</td><td></td><td>S0</td><td>--</td><td>220.1545833333333</td><td>3.4527777777777775</td></tr>\n",
       "<tr><td>454</td><td>414</td><td>240</td><td>NGC 5258</td><td>12.9</td><td></td><td>1.7</td><td>1.1</td><td></td><td>Sb? pec</td><td>240</td><td>204.99124999999998</td><td>0.8319444444444444</td></tr>\n",
       "<tr><td>455</td><td>413</td><td>240</td><td>NGC 5257</td><td>12.9</td><td></td><td>1.8</td><td>0.9</td><td></td><td>Sb? pec</td><td>240</td><td>204.9708333333333</td><td>0.8394444444444443</td></tr>\n",
       "<tr><td>456</td><td>432</td><td>286</td><td>NGC 5566</td><td>10.5</td><td></td><td>6.6</td><td>2.2</td><td></td><td>SB(r)ab</td><td>242</td><td>215.08499999999998</td><td>3.933055555555555</td></tr>\n",
       "<tr><td>457</td><td>431</td><td>286</td><td>NGC 5560</td><td>12.4</td><td></td><td>3.7</td><td>0.7</td><td></td><td>SB(s)b pec</td><td>242</td><td>215.01999999999998</td><td>3.992777777777777</td></tr>\n",
       "<tr><td>458</td><td>434</td><td>286</td><td>NGC 5569</td><td>13.2</td><td></td><td>1.7</td><td>1.5</td><td></td><td>SAB(rs)cd</td><td>242</td><td>215.1333333333333</td><td>3.9824999999999995</td></tr>\n",
       "<tr><td>459</td><td>382</td><td>277</td><td>NGC 4810</td><td>13.0</td><td></td><td>1.9</td><td>0.8</td><td></td><td>Im pec</td><td>239</td><td>193.7133333333333</td><td>2.6402777777777775</td></tr>\n",
       "<tr><td>460</td><td>381</td><td>277</td><td>NGC 4809</td><td>13.7</td><td></td><td>1.8</td><td>0.9</td><td></td><td>Im pec</td><td>239</td><td>193.7120833333333</td><td>2.653333333333333</td></tr>\n",
       "<tr><td>461</td><td>412</td><td>33</td><td>UGC 08613</td><td>15.0</td><td></td><td>1.4</td><td>0.6</td><td></td><td>E?</td><td>--</td><td>204.35249999999996</td><td>6.429166666666665</td></tr>\n",
       "<tr><td>462</td><td>411</td><td>33</td><td>UGC 08613</td><td>15.3</td><td></td><td>1.4</td><td>0.6</td><td></td><td>SB</td><td>--</td><td>204.35041666666663</td><td>6.43611111111111</td></tr>\n",
       "<tr><td>463</td><td>410</td><td>326</td><td>UGC 08610</td><td>15.4</td><td></td><td>1.0</td><td>1.2</td><td></td><td>Sa</td><td>--</td><td>204.32749999999996</td><td>6.478888888888888</td></tr>\n",
       "<tr><td>464</td><td>408</td><td>288</td><td>NGC 5222</td><td>13.1</td><td></td><td>1.6</td><td>1.2</td><td></td><td>Double System</td><td>195</td><td>203.73124999999996</td><td>13.741666666666665</td></tr>\n",
       "<tr><td>465</td><td>409</td><td>288</td><td>NGC 5221</td><td>13.0</td><td></td><td>2.4</td><td>0.8</td><td></td><td>SB: II</td><td>195</td><td>203.73374999999996</td><td>13.831944444444442</td></tr>\n",
       "<tr><td>466</td><td>395</td><td>57</td><td>CGCG 101-019</td><td>14.8</td><td></td><td>0.5</td><td>0.3</td><td></td><td></td><td>--</td><td>199.1670833333333</td><td>14.419999999999998</td></tr>\n",
       "<tr><td>467</td><td>394</td><td>57</td><td>MCG+03-34-012</td><td>15.5</td><td></td><td>0.9</td><td>0.6</td><td></td><td></td><td>--</td><td>199.1670833333333</td><td>14.436666666666664</td></tr>\n",
       "<tr><td>468</td><td>258</td><td>53</td><td>NGC 3290</td><td>14.4</td><td></td><td>1.0</td><td>0.5</td><td></td><td>SA(rs:)c: pec</td><td>280</td><td>158.82166666666666</td><td>-17.275</td></tr>\n",
       "<tr><td>469</td><td>246</td><td>338</td><td>Arp 338</td><td>--</td><td></td><td>--</td><td>--</td><td></td><td>Pair</td><td>--</td><td>152.74791666666664</td><td>-7.914999999999999</td></tr>\n",
       "<tr><td>470</td><td>254</td><td>44</td><td>IC 0609</td><td>14.1</td><td></td><td>1.5</td><td>0.7</td><td></td><td>IBS9P</td><td>--</td><td>156.38625</td><td>-2.2211111111111106</td></tr>\n",
       "<tr><td>471</td><td>285</td><td>132</td><td>CGCG 011-053</td><td>15.5</td><td></td><td>0.4</td><td>0.3</td><td></td><td>Pair</td><td>--</td><td>169.83791666666664</td><td>-3.090555555555555</td></tr>\n",
       "<tr><td>472</td><td>326</td><td>161</td><td>UGC 06665</td><td>14.7</td><td></td><td>0.4</td><td>0.4</td><td></td><td>Sb pec:</td><td>--</td><td>175.55124999999998</td><td>0.3341666666666666</td></tr>\n",
       "<tr><td>473</td><td>292</td><td>5</td><td>NGC 3664</td><td>12.8</td><td></td><td>2.1</td><td>1.9</td><td></td><td>SB(s)m pec</td><td>236</td><td>171.1033333333333</td><td>3.3274999999999997</td></tr>\n",
       "<tr><td>474</td><td>276</td><td>335</td><td>NGC 3509</td><td>12.7</td><td></td><td>2.1</td><td>1.0</td><td></td><td>SA(s)bc pec</td><td>236</td><td>166.09874999999997</td><td>4.830277777777777</td></tr>\n",
       "<tr><td>475</td><td>242</td><td>292</td><td>IC 0575</td><td>13.2</td><td></td><td>1.7</td><td>1.2</td><td></td><td>S1P/</td><td>--</td><td>148.6375</td><td>-6.857499999999999</td></tr>\n",
       "<tr><td>476</td><td>233</td><td>253</td><td>UGCA 173</td><td>16.1</td><td></td><td>1.3</td><td>0.2</td><td></td><td></td><td>--</td><td>145.85125</td><td>-5.279444444444444</td></tr>\n",
       "<tr><td>477</td><td>234</td><td>253</td><td>UGCA 174</td><td>14.3</td><td></td><td>1.2</td><td>0.4</td><td></td><td></td><td>--</td><td>145.87624999999997</td><td>-5.2797222222222215</td></tr>\n",
       "<tr><td>478</td><td>226</td><td>321</td><td>MCG-01-25-012</td><td>15.1</td><td></td><td>1.1</td><td>0.7</td><td></td><td>SB(s) 0- pec</td><td>--</td><td>144.72916666666666</td><td>-4.866111111111111</td></tr>\n",
       "<tr><td>479</td><td>227</td><td>321</td><td>MCG-01-25-011</td><td>17.4</td><td></td><td>0.7</td><td>0.3</td><td></td><td>SAB(s) a pec</td><td>--</td><td>144.73083333333332</td><td>-4.857777777777777</td></tr>\n",
       "<tr><td>480</td><td>224</td><td>321</td><td>MCG-01-25-009</td><td>13.8</td><td></td><td>1.1</td><td>0.3</td><td></td><td>Sbc</td><td>--</td><td>144.72166666666664</td><td>-4.859444444444444</td></tr>\n",
       "<tr><td>481</td><td>225</td><td>321</td><td>MCG-01-25-008</td><td>15.7</td><td></td><td>1.4</td><td>1.1</td><td></td><td>SB(rs)b pec</td><td>--</td><td>144.72291666666663</td><td>-4.848888888888888</td></tr>\n",
       "<tr><td>482</td><td>228</td><td>321</td><td>MCG-01-25-010</td><td>15.0</td><td></td><td>0.9</td><td>0.4</td><td></td><td>SA(r) 0- pec</td><td>--</td><td>144.73208333333332</td><td>-4.837222222222222</td></tr>\n",
       "<tr><td>483</td><td>223</td><td>142</td><td>NGC 2937</td><td>13.6</td><td></td><td>2.1</td><td>0.7</td><td></td><td>E, Ring A</td><td>233</td><td>144.43749999999997</td><td>2.747222222222222</td></tr>\n",
       "<tr><td>484</td><td>222</td><td>142</td><td>NGC 2936</td><td>13.5</td><td></td><td>1.3</td><td>1.1</td><td></td><td>I, Ring B</td><td>233</td><td>144.43374999999997</td><td>2.760555555555555</td></tr>\n",
       "<tr><td>485</td><td>221</td><td>142</td><td>UGC 05130</td><td>14.4</td><td></td><td>--</td><td>--</td><td></td><td>E+SYS</td><td>--</td><td>144.4295833333333</td><td>2.770833333333333</td></tr>\n",
       "<tr><td>486</td><td>239</td><td>303</td><td>IC 0563</td><td>14.7</td><td></td><td>0.9</td><td>0.5</td><td></td><td>SBR2*P</td><td>--</td><td>146.58499999999998</td><td>3.0447222222222217</td></tr>\n",
       "<tr><td>487</td><td>240</td><td>303</td><td>IC 0564</td><td>14.1</td><td></td><td>1.7</td><td>0.4</td><td></td><td>SAS6$P</td><td>--</td><td>146.58791666666664</td><td>3.070555555555555</td></tr>\n",
       "<tr><td>488</td><td>241</td><td>255</td><td>UGC 05304</td><td>14.3</td><td></td><td>1.1</td><td>0.9</td><td></td><td>Pair</td><td>--</td><td>148.28624999999997</td><td>7.880555555555555</td></tr>\n",
       "<tr><td>489</td><td>263</td><td>291</td><td>UGC 05832</td><td>13.7</td><td></td><td>1.2</td><td>1.0</td><td></td><td>SB?</td><td>--</td><td>160.70291666666665</td><td>13.459444444444443</td></tr>\n",
       "<tr><td>490</td><td>252</td><td>43</td><td>IC 0607</td><td>13.2</td><td></td><td>1.8</td><td>1.5</td><td></td><td>SB(r)bc</td><td>--</td><td>156.06416666666664</td><td>16.743333333333332</td></tr>\n",
       "<tr><td>491</td><td>253</td><td>263</td><td>NGC 3239</td><td>11.4</td><td></td><td>5.0</td><td>3.3</td><td></td><td>Ib(s)m pec</td><td>144</td><td>156.27291666666665</td><td>17.15972222222222</td></tr>\n",
       "<tr><td>492</td><td>357</td><td>134</td><td>MESSIER 49</td><td>8.4</td><td></td><td>10.3</td><td>8.4</td><td></td><td>E2</td><td>193</td><td>187.4433333333333</td><td>7.996388888888887</td></tr>\n",
       "<tr><td>493</td><td>363</td><td>175</td><td>IC 3483</td><td>15.0</td><td></td><td>0.6</td><td>0.4</td><td></td><td>SAB(s)b pec:</td><td>193</td><td>188.295</td><td>11.344166666666665</td></tr>\n",
       "<tr><td>494</td><td>362</td><td>175</td><td>IC 3481A</td><td>13.6</td><td></td><td>0.2</td><td>--</td><td></td><td>E pec</td><td>193</td><td>188.23624999999998</td><td>11.38972222222222</td></tr>\n",
       "<tr><td>495</td><td>361</td><td>175</td><td>IC 3481</td><td>13.3</td><td></td><td>0.8</td><td>0.6</td><td></td><td>SAB0-: pec</td><td>193</td><td>188.21749999999997</td><td>11.404166666666665</td></tr>\n",
       "<tr><td>496</td><td>360</td><td>152</td><td>MESSIER 87</td><td>8.6</td><td></td><td>8.4</td><td>6.7</td><td></td><td>E+0-1 pec</td><td>193</td><td>187.70583333333332</td><td>12.39111111111111</td></tr>\n",
       "<tr><td>497</td><td>356</td><td>120</td><td>NGC 4438</td><td>10.1</td><td></td><td>8.6</td><td>3.2</td><td></td><td>SA(s)0/a pec</td><td>193</td><td>186.9395833333333</td><td>13.00861111111111</td></tr>\n",
       "<tr><td>498</td><td>355</td><td>120</td><td>NGC 4435</td><td>10.9</td><td></td><td>2.8</td><td>2.0</td><td></td><td>SB(s)0^0</td><td>193</td><td>186.9183333333333</td><td>13.078888888888887</td></tr>\n",
       "<tr><td>499</td><td>351</td><td>260</td><td>UGC 07230</td><td>14.8</td><td></td><td>1.4</td><td>0.9</td><td></td><td>Sc</td><td>--</td><td>183.41124999999997</td><td>16.12194444444444</td></tr>\n",
       "<tr><td>500</td><td>374</td><td>116</td><td>MESSIER 60</td><td>8.8</td><td></td><td>7.5</td><td>6.1</td><td></td><td>E2</td><td>194</td><td>190.91499999999996</td><td>11.552777777777775</td></tr>\n",
       "<tr><td>501</td><td>373</td><td>116</td><td>NGC 4647</td><td>11.4</td><td></td><td>2.9</td><td>2.3</td><td></td><td>SAB(rs)c</td><td>194</td><td>190.8845833333333</td><td>11.581944444444442</td></tr>\n",
       "<tr><td>502</td><td>364</td><td>76</td><td>MESSIER 90</td><td>9.5</td><td></td><td>9.7</td><td>4.4</td><td></td><td>SAB(rs)ab</td><td>194</td><td>189.20749999999998</td><td>13.162777777777777</td></tr>\n",
       "<tr><td>503</td><td>375</td><td>189</td><td>NGC 4651</td><td>10.8</td><td></td><td>4.0</td><td>2.7</td><td></td><td>SA(rs)c II</td><td>194</td><td>190.92749999999998</td><td>16.394444444444442</td></tr>\n",
       "<tr><td>504</td><td>367</td><td>149</td><td>IC 0803B</td><td>16.0</td><td></td><td>0.8</td><td>0.1</td><td></td><td>Im</td><td>--</td><td>189.92666666666665</td><td>16.59222222222222</td></tr>\n",
       "<tr><td>505</td><td>368</td><td>149</td><td>IC 0803A</td><td>16.0</td><td></td><td>--</td><td>--</td><td></td><td>Dwarf E</td><td>--</td><td>189.92666666666665</td><td>16.59222222222222</td></tr>\n",
       "<tr><td>506</td><td>379</td><td>159</td><td>NGC 4747</td><td>12.4</td><td></td><td>3.5</td><td>1.2</td><td></td><td>SBcd? pec sp</td><td>149</td><td>192.93916666666664</td><td>25.77444444444444</td></tr>\n",
       "<tr><td>507</td><td>370</td><td>34</td><td>NGC 4615</td><td>13.1</td><td></td><td>1.6</td><td>0.7</td><td></td><td>Scd:</td><td>149</td><td>190.4058333333333</td><td>26.07222222222222</td></tr>\n",
       "<tr><td>508</td><td>376</td><td>163</td><td>NGC 4670</td><td>12.7</td><td></td><td>1.5</td><td>1.1</td><td></td><td>SB(s)0/a pec:</td><td>108</td><td>191.3208333333333</td><td>27.125277777777775</td></tr>\n",
       "<tr><td>509</td><td>286</td><td>16</td><td>MESSIER 66</td><td>8.9</td><td></td><td>9.1</td><td>4.2</td><td></td><td>SAB(s)b II</td><td>191</td><td>170.0620833333333</td><td>12.989166666666664</td></tr>\n",
       "<tr><td>510</td><td>284</td><td>317</td><td>MESSIER 65</td><td>9.3</td><td></td><td>9.9</td><td>2.9</td><td></td><td>SAB(rs)a II</td><td>191</td><td>169.73</td><td>13.093055555555553</td></tr>\n",
       "<tr><td>511</td><td>287</td><td>317</td><td>NGC 3628</td><td>9.5</td><td></td><td>14.8</td><td>3.0</td><td></td><td>Sb pec sp II</td><td>191</td><td>170.06749999999997</td><td>13.589444444444442</td></tr>\n",
       "<tr><td>512</td><td>322</td><td>83</td><td>NGC 3799</td><td>14.0</td><td></td><td>0.8</td><td>0.5</td><td></td><td>SB(s)b: pec</td><td>192</td><td>175.03916666666663</td><td>15.32722222222222</td></tr>\n",
       "<tr><td>513</td><td>323</td><td>83</td><td>NGC 3800</td><td>12.7</td><td></td><td>2.0</td><td>0.6</td><td></td><td>SAB(rs)b: pec</td><td>192</td><td>175.05499999999998</td><td>15.342777777777776</td></tr>\n",
       "<tr><td>514</td><td>298</td><td>197</td><td>IC 0701</td><td>14.6</td><td></td><td>1.0</td><td>0.6</td><td></td><td>SBT8P</td><td>--</td><td>172.75166666666664</td><td>20.470277777777774</td></tr>\n",
       "<tr><td>515</td><td>318</td><td>320</td><td>NGC 3751</td><td>13.9</td><td></td><td>0.8</td><td>0.5</td><td></td><td>S0- pec?</td><td>147</td><td>174.47541666666663</td><td>21.936111111111106</td></tr>\n",
       "<tr><td>516</td><td>316</td><td>320</td><td>NGC 3750</td><td>13.9</td><td></td><td>0.8</td><td>0.7</td><td></td><td>SAB0-? sp</td><td>147</td><td>174.46499999999997</td><td>21.974166666666665</td></tr>\n",
       "<tr><td>517</td><td>317</td><td>320</td><td>NGC 3753</td><td>13.6</td><td></td><td>1.7</td><td>0.5</td><td></td><td>Sab? pec SB</td><td>147</td><td>174.47374999999997</td><td>21.98083333333333</td></tr>\n",
       "<tr><td>518</td><td>319</td><td>320</td><td>NGC 3754</td><td>15.1</td><td></td><td>0.4</td><td>0.3</td><td></td><td>SBc</td><td>147</td><td>174.4795833333333</td><td>21.985555555555553</td></tr>\n",
       "<tr><td>519</td><td>311</td><td>320</td><td>NGC 3746</td><td>14.2</td><td></td><td>1.1</td><td>0.5</td><td></td><td>SB(r)b</td><td>147</td><td>174.43166666666664</td><td>22.009166666666662</td></tr>\n",
       "<tr><td>520</td><td>314</td><td>320</td><td>NGC 3748</td><td>14.8</td><td></td><td>0.7</td><td>0.4</td><td></td><td>SB0^0^? sp</td><td>147</td><td>174.45458333333332</td><td>22.02583333333333</td></tr>\n",
       "<tr><td>521</td><td>313</td><td>320</td><td>NGC 3745</td><td>15.2</td><td></td><td>0.4</td><td>0.2</td><td></td><td>SB(s)0-:</td><td>147</td><td>174.43541666666664</td><td>22.02083333333333</td></tr>\n",
       "<tr><td>522</td><td>324</td><td>87</td><td>NGC 3808</td><td>13.4</td><td></td><td>1.7</td><td>0.9</td><td></td><td>SAB(rs)c pec</td><td>147</td><td>175.18374999999997</td><td>22.427777777777774</td></tr>\n",
       "<tr><td>523</td><td>325</td><td>87</td><td>NGC 3808A</td><td>11.5</td><td></td><td>0.6</td><td>0.2</td><td></td><td>I0? pec</td><td>147</td><td>175.1845833333333</td><td>22.447499999999998</td></tr>\n",
       "<tr><td>524</td><td>274</td><td>198</td><td>UGC 06073</td><td>15.3</td><td></td><td>1.3</td><td>0.9</td><td></td><td>DBL SYS</td><td>--</td><td>164.93916666666664</td><td>17.64833333333333</td></tr>\n",
       "<tr><td>525</td><td>278</td><td>191</td><td>UGC 06175</td><td>14.6</td><td></td><td>1.3</td><td>0.7</td><td></td><td>SAB0-pec</td><td>--</td><td>166.83166666666665</td><td>18.42972222222222</td></tr>\n",
       "<tr><td>526</td><td>279</td><td>191</td><td>UGC 06175</td><td>14.7</td><td></td><td>0.3</td><td>0.2</td><td></td><td>SAB(r)0+ pec</td><td>--</td><td>166.83499999999998</td><td>18.431111111111107</td></tr>\n",
       "<tr><td>527</td><td>260</td><td>192</td><td>NGC 3303</td><td>14.3</td><td></td><td>3.1</td><td>2.2</td><td></td><td>P</td><td>145</td><td>159.2483333333333</td><td>18.136944444444442</td></tr>\n",
       "<tr><td>528</td><td>280</td><td>301</td><td>UGC 06204</td><td>14.5</td><td></td><td>0.8</td><td>0.4</td><td></td><td>S</td><td>--</td><td>167.4645833333333</td><td>24.26222222222222</td></tr>\n",
       "<tr><td>529</td><td>281</td><td>301</td><td>UGC 06207</td><td>14.6</td><td></td><td>1.5</td><td>0.2</td><td></td><td>SB?</td><td>--</td><td>167.47624999999996</td><td>24.256944444444443</td></tr>\n",
       "<tr><td>530</td><td>283</td><td>105</td><td>NGC 3561</td><td>15.0</td><td></td><td>0.7</td><td>--</td><td></td><td>SA(r)a pec</td><td>106</td><td>167.8045833333333</td><td>28.69583333333333</td></tr>\n",
       "<tr><td>531</td><td>282</td><td>105</td><td>UGC 06224</td><td>14.7</td><td></td><td>0.9</td><td>--</td><td></td><td>DBL SYS</td><td>--</td><td>167.80374999999998</td><td>28.711666666666662</td></tr>\n",
       "<tr><td>532</td><td>341</td><td>138</td><td>NGC 4015</td><td>14.0</td><td></td><td>0.9</td><td>0.2</td><td></td><td>E</td><td>147</td><td>179.67791666666665</td><td>25.036388888888887</td></tr>\n",
       "<tr><td>533</td><td>342</td><td>138</td><td>NGC 4015</td><td>14.2</td><td></td><td>1.4</td><td>1.4</td><td></td><td>S?</td><td>147</td><td>179.68041666666664</td><td>25.04444444444444</td></tr>\n",
       "<tr><td>534</td><td>343</td><td>305</td><td>NGC 4017</td><td>12.2</td><td></td><td>1.8</td><td>1.4</td><td></td><td>SABbc</td><td>107</td><td>179.68999999999997</td><td>27.45305555555555</td></tr>\n",
       "<tr><td>535</td><td>340</td><td>305</td><td>NGC 4016</td><td>13.3</td><td></td><td>1.6</td><td>0.8</td><td></td><td>SBdm:</td><td>107</td><td>179.62166666666664</td><td>27.528888888888886</td></tr>\n",
       "<tr><td>536</td><td>354</td><td>106</td><td>NGC 4211A</td><td>14.7</td><td></td><td>1.5</td><td>--</td><td></td><td>S0/a pec</td><td>107</td><td>183.9020833333333</td><td>28.168888888888883</td></tr>\n",
       "<tr><td>537</td><td>353</td><td>106</td><td>NGC 4211</td><td>13.6</td><td></td><td>1.0</td><td>--</td><td></td><td>S0/a pec</td><td>107</td><td>183.8995833333333</td><td>28.17722222222222</td></tr>\n",
       "<tr><td>538</td><td>349</td><td>97</td><td>UGC 07085A</td><td>15.6</td><td></td><td>2.7</td><td>1.0</td><td></td><td>SA(r)0- pec</td><td>--</td><td>181.43874999999997</td><td>31.059722222222216</td></tr>\n",
       "<tr><td>539</td><td>350</td><td>97</td><td>UGC 07085A</td><td>15.7</td><td></td><td>0.4</td><td>0.3</td><td></td><td>SAB0- pec</td><td>--</td><td>181.4395833333333</td><td>31.079166666666662</td></tr>\n",
       "<tr><td>540</td><td>329</td><td>115</td><td>UGC 06678A</td><td>15.5</td><td></td><td>0.9</td><td>0.5</td><td></td><td>Sdm</td><td>--</td><td>175.76208333333332</td><td>26.276666666666664</td></tr>\n",
       "<tr><td>541</td><td>327</td><td>115</td><td>UGC 06678B</td><td>15.8</td><td></td><td>0.5</td><td>0.5</td><td></td><td>S0+</td><td>--</td><td>175.72666666666663</td><td>26.289166666666663</td></tr>\n",
       "<tr><td>542</td><td>328</td><td>115</td><td>UGC 06678C</td><td>15.9</td><td></td><td>0.5</td><td>0.5</td><td></td><td>cE</td><td>--</td><td>175.72666666666663</td><td>26.289166666666663</td></tr>\n",
       "<tr><td>543</td><td>299</td><td>203</td><td>NGC 3712</td><td>13.9</td><td></td><td>1.7</td><td>0.6</td><td></td><td>SB?</td><td>106</td><td>172.78791666666663</td><td>28.567777777777774</td></tr>\n",
       "<tr><td>544</td><td>320</td><td>294</td><td>NGC 3786</td><td>12.3</td><td></td><td>2.2</td><td>1.3</td><td></td><td>SAB(rs)a pec</td><td>106</td><td>174.92708333333331</td><td>31.90916666666666</td></tr>\n",
       "<tr><td>545</td><td>321</td><td>294</td><td>NGC 3788</td><td>12.6</td><td></td><td>2.2</td><td>0.7</td><td></td><td>SAB(rs)ab pec</td><td>106</td><td>174.9358333333333</td><td>31.931111111111107</td></tr>\n",
       "<tr><td>546</td><td>337</td><td>313</td><td>NGC 3994</td><td>12.7</td><td></td><td>1.1</td><td>0.6</td><td></td><td>SA(r)c pec?</td><td>107</td><td>179.40291666666664</td><td>32.278055555555554</td></tr>\n",
       "<tr><td>547</td><td>338</td><td>313</td><td>NGC 3995</td><td>12.4</td><td></td><td>2.8</td><td>1.1</td><td></td><td>SA(m)pec</td><td>107</td><td>179.43666666666664</td><td>32.294999999999995</td></tr>\n",
       "<tr><td>548</td><td>339</td><td>194</td><td>UGC 06945</td><td>14.9</td><td></td><td>1.2</td><td>0.8</td><td></td><td>S? Pair</td><td>--</td><td>179.46874999999997</td><td>36.38833333333333</td></tr>\n",
       "<tr><td>549</td><td>138</td><td>154</td><td>NGC 1316</td><td>8.2</td><td></td><td>12.1</td><td>8.6</td><td></td><td>(R&apos;)SAB(s)0^0</td><td>355</td><td>50.67291666666666</td><td>-37.209444444444436</td></tr>\n",
       "<tr><td>550</td><td>116</td><td>77</td><td>NGC 1097</td><td>9.2</td><td></td><td>9.4</td><td>6.3</td><td></td><td>SB(rs)bc I-II</td><td>354</td><td>41.579583333333325</td><td>-30.27444444444444</td></tr>\n",
       "<tr><td>551</td><td>115</td><td>77</td><td>NGC 1097A</td><td>13.6</td><td></td><td>0.8</td><td>0.5</td><td></td><td>E5 pec</td><td>354</td><td>41.54124999999999</td><td>-30.22916666666666</td></tr>\n",
       "<tr><td>552</td><td>130</td><td>332</td><td>IC 1892</td><td>13.2</td><td></td><td>2.0</td><td>1.1</td><td></td><td>SB(s)d pec</td><td>311</td><td>47.116249999999994</td><td>-23.05111111111111</td></tr>\n",
       "<tr><td>553</td><td>129</td><td>332</td><td>MCG-4-8-29</td><td>16.8</td><td></td><td>0.6</td><td>0.3</td><td></td><td>S</td><td>--</td><td>47.10833333333333</td><td>-23.03805555555555</td></tr>\n",
       "<tr><td>554</td><td>128</td><td>332</td><td>NGC 1230</td><td>15.4</td><td></td><td>0.6</td><td>0.2</td><td></td><td>LB0?P</td><td>--</td><td>47.06833333333333</td><td>-22.984166666666663</td></tr>\n",
       "<tr><td>555</td><td>126</td><td>332</td><td>NGC 1229</td><td>13.9</td><td></td><td>1.4</td><td>0.9</td><td></td><td>SB(s)ab: pec</td><td>311</td><td>47.04583333333333</td><td>-22.960277777777776</td></tr>\n",
       "<tr><td>556</td><td>127</td><td>332</td><td>NGC 1228</td><td>13.2</td><td></td><td>1.5</td><td>0.9</td><td></td><td>(R&apos;)SB(rs)0</td><td>311</td><td>47.04583333333333</td><td>-22.92444444444444</td></tr>\n",
       "<tr><td>557</td><td>124</td><td>108</td><td>ESO 547-G002</td><td>15.0</td><td></td><td>0.6</td><td>0.4</td><td></td><td>S0:</td><td>--</td><td>45.77291666666666</td><td>-22.21722222222222</td></tr>\n",
       "<tr><td>558</td><td>125</td><td>108</td><td>ESO 547-G003</td><td>14.0</td><td></td><td>1.0</td><td>0.7</td><td></td><td>SC?</td><td>--</td><td>45.779999999999994</td><td>-22.206666666666663</td></tr>\n",
       "<tr><td>559</td><td>139</td><td>39</td><td>NGC 1347</td><td>13.0</td><td></td><td>1.6</td><td>1.3</td><td></td><td>SB(s)c: pec</td><td>311</td><td>52.42499999999999</td><td>-22.279166666666665</td></tr>\n",
       "<tr><td>560</td><td>131</td><td>41</td><td>NGC 1232</td><td>10.1</td><td></td><td>7.5</td><td>6.5</td><td></td><td>SAB(rs)c I-II</td><td>311</td><td>47.43874999999999</td><td>-20.578888888888887</td></tr>\n",
       "<tr><td>561</td><td>132</td><td>41</td><td>NGC 1232A</td><td>14.7</td><td></td><td>0.9</td><td>0.8</td><td></td><td>SB(s)dm III</td><td>311</td><td>47.43874999999999</td><td>-20.578888888888887</td></tr>\n",
       "<tr><td>562</td><td>117</td><td>131</td><td>MCG-03-08-25</td><td>14.5</td><td></td><td>1.0</td><td>0.7</td><td></td><td></td><td>--</td><td>41.832499999999996</td><td>-14.801944444444443</td></tr>\n",
       "<tr><td>563</td><td>118</td><td>131</td><td>MCG-03-08-26</td><td>15.0</td><td></td><td>0.7</td><td>0.4</td><td></td><td></td><td>--</td><td>41.89124999999999</td><td>-14.774999999999999</td></tr>\n",
       "<tr><td>564</td><td>133</td><td>304</td><td>NGC 1241</td><td>12.0</td><td></td><td>2.8</td><td>1.7</td><td></td><td>SAB(rs)bc II</td><td>266</td><td>47.811249999999994</td><td>-8.92222222222222</td></tr>\n",
       "<tr><td>565</td><td>135</td><td>304</td><td>NGC 1242</td><td>13.7</td><td></td><td>1.2</td><td>0.7</td><td></td><td>SB:(s:)cd III</td><td>266</td><td>47.82999999999999</td><td>-8.901944444444442</td></tr>\n",
       "<tr><td>566</td><td>107</td><td>309</td><td>NGC 0942</td><td>11.2</td><td></td><td>3.4</td><td>--</td><td></td><td>S0: pec</td><td>265</td><td>37.2925</td><td>-10.83611111111111</td></tr>\n",
       "<tr><td>567</td><td>106</td><td>309</td><td>NGC 0943</td><td>11.4</td><td></td><td>3.4</td><td>--</td><td></td><td>S0^0: pec</td><td>265</td><td>37.28916666666666</td><td>-10.826944444444443</td></tr>\n",
       "<tr><td>568</td><td>123</td><td>179</td><td>NPM1G -04.0134</td><td>16.6</td><td></td><td>--</td><td>--</td><td></td><td></td><td>--</td><td>45.42041666666666</td><td>-4.671666666666666</td></tr>\n",
       "<tr><td>569</td><td>235</td><td>252</td><td>ESO 566-IG007</td><td>15.3</td><td></td><td>0.8</td><td>0.5</td><td></td><td>SB3P?</td><td>--</td><td>146.2433333333333</td><td>-19.72555555555555</td></tr>\n",
       "<tr><td>570</td><td>236</td><td>252</td><td>ESO 566-IG008</td><td>15.6</td><td></td><td>0.7</td><td>0.5</td><td></td><td>S</td><td>--</td><td>146.2483333333333</td><td>-19.7125</td></tr>\n",
       "<tr><td>571</td><td>238</td><td>245</td><td>NGC 2993</td><td>12.6</td><td></td><td>1.4</td><td>0.9</td><td></td><td>I0? pec or</td><td>278</td><td>146.45208333333332</td><td>-14.368055555555554</td></tr>\n",
       "<tr><td>572</td><td>237</td><td>245</td><td>NGC 2992</td><td>12.2</td><td></td><td>3.6</td><td>1.1</td><td></td><td>S0 pec sp</td><td>278</td><td>146.42499999999998</td><td>-14.326388888888888</td></tr>\n",
       "<tr><td>573</td><td>189</td><td>7</td><td>MCG-03-23-009</td><td>14.5</td><td></td><td>1.3</td><td>1.0</td><td></td><td>SB(rs) bc:</td><td>--</td><td>132.57333333333332</td><td>-16.576388888888886</td></tr>\n",
       "<tr><td>574</td><td>211</td><td>275</td><td>NGC 2881</td><td>14.1</td><td></td><td>--</td><td>--</td><td></td><td></td><td>278</td><td>141.47875</td><td>-12.000277777777777</td></tr>\n",
       "<tr><td>575</td><td>212</td><td>275</td><td>NGC 2881</td><td>13.3</td><td></td><td>1.1</td><td>0.9</td><td></td><td>S?</td><td>278</td><td>141.47875</td><td>-11.98361111111111</td></tr>\n",
       "<tr><td>576</td><td>220</td><td>221</td><td>MCG-02-25-006</td><td>14.0</td><td></td><td>1.3</td><td>1.1</td><td></td><td></td><td>--</td><td>144.1158333333333</td><td>-11.32861111111111</td></tr>\n",
       "<tr><td>577</td><td>191</td><td>257</td><td>UGC 04638</td><td>15.0</td><td></td><td>0.6</td><td>0.3</td><td></td><td>S pec</td><td>--</td><td>132.9095833333333</td><td>-2.3663888888888884</td></tr>\n",
       "<tr><td>578</td><td>190</td><td>257</td><td>UGC 04638</td><td>17.0</td><td></td><td>1.5</td><td>0.8</td><td></td><td>SP</td><td>--</td><td>132.90791666666664</td><td>-2.3541666666666665</td></tr>\n",
       "<tr><td>579</td><td>399</td><td>153</td><td>NGC 5128</td><td>6.8</td><td></td><td>25.9</td><td>20.1</td><td></td><td>S0 pec</td><td>403</td><td>201.36499999999998</td><td>-43.01916666666666</td></tr>\n",
       "<tr><td>580</td><td>475</td><td>254</td><td>NGC 5917</td><td>14.5</td><td></td><td>1.5</td><td>0.9</td><td></td><td>Sb pec?</td><td>289</td><td>230.38416666666663</td><td>-7.377222222222221</td></tr>\n",
       "<tr><td>581</td><td>462</td><td>261</td><td>MCG-02-38-016</td><td>13.4</td><td></td><td>--</td><td>--</td><td></td><td>IB(s)m pec</td><td>--</td><td>222.3770833333333</td><td>-10.173055555555553</td></tr>\n",
       "<tr><td>582</td><td>465</td><td>261</td><td>ARP 261</td><td>14.5</td><td></td><td>--</td><td>--</td><td></td><td>IB(s)m pec</td><td>--</td><td>222.3870833333333</td><td>-10.164166666666665</td></tr>\n",
       "<tr><td>583</td><td>464</td><td>261</td><td>ARP 261</td><td>--</td><td></td><td>--</td><td>--</td><td></td><td></td><td>--</td><td>222.38624999999996</td><td>-10.163055555555554</td></tr>\n",
       "<tr><td>584</td><td>463</td><td>261</td><td>ARP 261</td><td>--</td><td></td><td>--</td><td>--</td><td></td><td></td><td>--</td><td>222.38624999999996</td><td>-10.156666666666665</td></tr>\n",
       "<tr><td>585</td><td>549</td><td>14</td><td>NGC 7314</td><td>10.9</td><td></td><td>4.6</td><td>2.1</td><td></td><td>SAB(rs)c: II</td><td>347</td><td>338.94041666666664</td><td>-26.05083333333333</td></tr>\n",
       "<tr><td>586</td><td>547</td><td>93</td><td>NGC 7284</td><td>11.9</td><td></td><td>2.1</td><td>1.5</td><td></td><td>SB(s)0^0 pec</td><td>347</td><td>337.15</td><td>-24.844166666666663</td></tr>\n",
       "<tr><td>587</td><td>548</td><td>93</td><td>NGC 7285</td><td>11.9</td><td></td><td>2.4</td><td>1.4</td><td></td><td>SB(rs)a pec</td><td>347</td><td>337.1583333333333</td><td>-24.84083333333333</td></tr>\n",
       "<tr><td>588</td><td>546</td><td>226</td><td>NGC 7252</td><td>11.4</td><td></td><td>2.0</td><td>1.6</td><td></td><td>SAB0^0? pec</td><td>347</td><td>335.1866666666666</td><td>-24.678611111111106</td></tr>\n",
       "<tr><td>589</td><td>541</td><td>325</td><td>ESO 601- G 018</td><td>16.1</td><td></td><td>--</td><td>--</td><td></td><td></td><td>--</td><td>331.6008333333333</td><td>-21.079166666666662</td></tr>\n",
       "<tr><td>590</td><td>540</td><td>325</td><td>ESO 601- G 018</td><td>17.9</td><td></td><td>--</td><td>--</td><td></td><td></td><td>--</td><td>331.59666666666664</td><td>-21.077499999999997</td></tr>\n",
       "<tr><td>591</td><td>539</td><td>325</td><td>ESO 601- G 018</td><td>18.1</td><td></td><td>1.7</td><td>0.7</td><td></td><td></td><td>--</td><td>331.5925</td><td>-21.072499999999998</td></tr>\n",
       "</table><style>table.dataTable {clear: both; width: auto !important; margin: 0 !important;}\n",
       ".dataTables_info, .dataTables_length, .dataTables_filter, .dataTables_paginate{\n",
       "display: inline-block; margin-right: 1em; }\n",
       ".paginate_button { margin-right: 5px; }\n",
       "</style>\n",
       "<script>\n",
       "\n",
       "var astropy_sort_num = function(a, b) {\n",
       "    var a_num = parseFloat(a);\n",
       "    var b_num = parseFloat(b);\n",
       "\n",
       "    if (isNaN(a_num) && isNaN(b_num))\n",
       "        return ((a < b) ? -1 : ((a > b) ? 1 : 0));\n",
       "    else if (!isNaN(a_num) && !isNaN(b_num))\n",
       "        return ((a_num < b_num) ? -1 : ((a_num > b_num) ? 1 : 0));\n",
       "    else\n",
       "        return isNaN(a_num) ? -1 : 1;\n",
       "}\n",
       "\n",
       "require.config({paths: {\n",
       "    datatables: 'https://cdn.datatables.net/1.10.12/js/jquery.dataTables.min'\n",
       "}});\n",
       "require([\"datatables\"], function(){\n",
       "    console.log(\"$('#table140378340423232-446746').dataTable()\");\n",
       "    \n",
       "jQuery.extend( jQuery.fn.dataTableExt.oSort, {\n",
       "    \"optionalnum-asc\": astropy_sort_num,\n",
       "    \"optionalnum-desc\": function (a,b) { return -astropy_sort_num(a, b); }\n",
       "});\n",
       "\n",
       "    $('#table140378340423232-446746').dataTable({\n",
       "        order: [],\n",
       "        pageLength: 5,\n",
       "        lengthMenu: [[5, 10, 25, 50, 100, 500, 1000, -1], [5, 10, 25, 50, 100, 500, 1000, 'All']],\n",
       "        pagingType: \"full_numbers\",\n",
       "        columnDefs: [{targets: [0, 1, 2, 4, 6, 7, 10, 11, 12], type: \"optionalnum\"}]\n",
       "    });\n",
       "});\n",
       "</script>\n"
      ],
      "text/plain": [
       "<IPython.core.display.HTML object>"
      ]
     },
     "execution_count": 10,
     "metadata": {},
     "output_type": "execute_result"
    }
   ],
   "source": [
    "tap_vizier = pyvo.dal.TAPService('http://tapvizier.u-strasbg.fr/TAPVizieR/tap')\n",
    "\n",
    "query = \"\"\"SELECT  *  FROM \"VII/192/arplist\" \"\"\"\n",
    "\n",
    "table_arplist = tap_vizier.search(query).to_table()\n",
    "table_arplist.show_in_notebook(display_length=5)"
   ]
  },
  {
   "cell_type": "code",
   "execution_count": 11,
   "metadata": {
    "slideshow": {
     "slide_type": "slide"
    }
   },
   "outputs": [
    {
     "name": "stdout",
     "output_type": "stream",
     "text": [
      "164 peculiar galaxies are observed both by SDSS and XMM\n"
     ]
    }
   ],
   "source": [
    "coords = SkyCoord(ra=table_arplist['RAJ2000'], \n",
    "                  dec=table_arplist['DEJ2000'], \n",
    "                  unit=(u.deg, u.deg))\n",
    "\n",
    "indexes = moc_intersection.contains(coords.ra, \n",
    "                                    coords.dec)\n",
    "\n",
    "print('{} peculiar galaxies are observed both by SDSS and XMM'.format(len(table_arplist[indexes])))"
   ]
  },
  {
   "cell_type": "code",
   "execution_count": 12,
   "metadata": {
    "slideshow": {
     "slide_type": "fragment"
    }
   },
   "outputs": [],
   "source": [
    "aladin.add_table(table_arplist[indexes]['Name', 'RAJ2000', 'DEJ2000'])"
   ]
  },
  {
   "cell_type": "code",
   "execution_count": null,
   "metadata": {},
   "outputs": [],
   "source": []
  },
  {
   "cell_type": "code",
   "execution_count": null,
   "metadata": {},
   "outputs": [],
   "source": []
  },
  {
   "cell_type": "markdown",
   "metadata": {},
   "source": [
    "## 2. Space & Time coverage: STMOC"
   ]
  },
  {
   "cell_type": "code",
   "execution_count": 13,
   "metadata": {},
   "outputs": [
    {
     "data": {
      "text/html": [
       "<div><i>Table length=8</i>\n",
       "<table id=\"table140378203410688\" class=\"table-striped table-bordered table-condensed\">\n",
       "<thead><tr><th>schema_name</th><th>table_name</th><th>table_type</th><th>description</th><th>utype</th></tr></thead>\n",
       "<thead><tr><th>object</th><th>object</th><th>object</th><th>object</th><th>object</th></tr></thead>\n",
       "<tr><td>J_ApJ</td><td>J/ApJ/679/962/table1</td><td>table</td><td>SDSS DR5 N-rich quasar catalog ( Jiang L., Fan X., Vestergaard M.)</td><td></td></tr>\n",
       "<tr><td>VII_nonstellar</td><td>VII/286/dr14q</td><td>table</td><td>Final SDSS-DR14 quasar catalog ( Paris I., Petitjean P., Aubourg E., et al.)</td><td></td></tr>\n",
       "<tr><td>VII_nonstellar</td><td>VII/289/dr16q</td><td>table</td><td>The SDSS quasar-only catalog from DR16 (DR16Q) ( Lyke B.W., Higley A.N., McLane J.N., et al.)</td><td></td></tr>\n",
       "<tr><td>J_ApJS</td><td>J/ApJS/201/10/table8</td><td>table</td><td>SDSS quasar catalog with Swift observations ( Wu J., Vanden Berk D., Grupe D., Koch S., Gelbord J., Schneider D.P., Gronwall C., Wesolowski S., Porterfield B.L.)</td><td></td></tr>\n",
       "<tr><td>VII_nonstellar</td><td>VII/260/dr7qso</td><td>table</td><td>The SDSS quasar catalog V, DR7 (table2 of the paper) ( Schneider D.P., Richards G.T., Hall P.B., et al.)</td><td></td></tr>\n",
       "<tr><td>VII_nonstellar</td><td>VII/243/dr3qso</td><td>table</td><td>The SDSS quasar catalog III ( Schneider D.P., Hall P.B., Richards G.T., et al.)</td><td></td></tr>\n",
       "<tr><td>J_MNRAS</td><td>J/MNRAS/397/1713/fsrq</td><td>table</td><td>Flat-spectrum radio quasars from the SDSS DR3  quasar catalogue ( Chen Z., Gu M., Cao X.)</td><td></td></tr>\n",
       "<tr><td>J_ApJS</td><td>J/ApJS/244/36/table1</td><td>table</td><td>SDSS-IV/eBOSS quasar catalog ( Chen Z.-F., Yi S.-X., Pang T.-T., Chen Z.-G., Gui R.-J., Wang Z.-W., Mo X.-H., Yi T.-F.)</td><td></td></tr>\n",
       "</table></div>"
      ],
      "text/plain": [
       "<Table length=8>\n",
       " schema_name         table_name      ... utype \n",
       "    object             object        ... object\n",
       "-------------- --------------------- ... ------\n",
       "         J_ApJ  J/ApJ/679/962/table1 ...       \n",
       "VII_nonstellar         VII/286/dr14q ...       \n",
       "VII_nonstellar         VII/289/dr16q ...       \n",
       "        J_ApJS  J/ApJS/201/10/table8 ...       \n",
       "VII_nonstellar        VII/260/dr7qso ...       \n",
       "VII_nonstellar        VII/243/dr3qso ...       \n",
       "       J_MNRAS J/MNRAS/397/1713/fsrq ...       \n",
       "        J_ApJS  J/ApJS/244/36/table1 ...       "
      ]
     },
     "execution_count": 13,
     "metadata": {},
     "output_type": "execute_result"
    }
   ],
   "source": [
    "# Find catalog on Vizier \n",
    "tap_vizier = pyvo.dal.TAPService('http://tapvizier.u-strasbg.fr/TAPVizieR/tap')\n",
    "\n",
    "query = '''\n",
    "SELECT  *  FROM tables \n",
    "WHERE description LIKE '%SDSS%quasar%catalog%'\n",
    "'''\n",
    "\n",
    "sdss_catalogues = tap_vizier.search(query).to_table()\n",
    "sdss_catalogues"
   ]
  },
  {
   "cell_type": "code",
   "execution_count": 14,
   "metadata": {
    "slideshow": {
     "slide_type": "fragment"
    }
   },
   "outputs": [
    {
     "data": {
      "text/html": [
       "<div><i>Table length=3</i>\n",
       "<table id=\"table140378203410880\" class=\"table-striped table-bordered table-condensed\">\n",
       "<thead><tr><th>recno</th><th>SDSS</th><th>SDSSo</th><th>RAJ2000</th><th>DEJ2000</th><th>THINGID</th><th>Plate</th><th>MJD</th><th>Fiber</th><th>Note</th><th>z</th><th>r_z</th><th>z_v</th><th>z_b</th><th>e_z_b</th><th>f_z_b</th><th>z_PCA</th><th>e_z_PCA</th><th>zMgII</th><th>Btarg1</th><th>Atarg1</th><th>Atarg2</th><th>eBtarg0</th><th>eBtarg1</th><th>eBtarg2</th><th>NspSDSS</th><th>NspBOSS</th><th>Nsp</th><th>BI(CIV)</th><th>e_BI(CIV)</th><th>Fu</th><th>Fg</th><th>Fr</th><th>Fi</th><th>Fz</th><th>IVFu</th><th>IVFg</th><th>IVFr</th><th>IVFi</th><th>IVFz</th><th>umag</th><th>gmag</th><th>rmag</th><th>imag</th><th>zmag</th><th>e_umag</th><th>e_gmag</th><th>e_rmag</th><th>e_imag</th><th>e_zmag</th><th>iMAG</th><th>Extu</th><th>Extg</th><th>Extr</th><th>Exti</th><th>Extz</th><th>logXct</th><th>SNR(X)</th><th>sepX</th><th>F0_2-2</th><th>e_F0_2-2</th><th>F2-12</th><th>e_F2-12</th><th>F0_2-12</th><th>e_F0_2-12</th><th>L0_2-12</th><th>sepXM</th><th>GALEX</th><th>FFUV</th><th>IVFUV</th><th>FNUV</th><th>IVNUV</th><th>Jmag</th><th>e_Jmag</th><th>SNR(J)</th><th>f_Jmag</th><th>Hmag</th><th>e_Hmag</th><th>SNR(H)</th><th>f_Hmag</th><th>Kmag</th><th>e_Kmag</th><th>SNR(K)</th><th>f_Kmag</th><th>Sep2</th><th>W1mag</th><th>e_W1mag</th><th>W1SNR</th><th>W1chi2</th><th>W2mag</th><th>e_W2mag</th><th>W2SNR</th><th>W2chi2</th><th>W3mag</th><th>e_W3mag</th><th>W3SNR</th><th>W3chi2</th><th>W4mag</th><th>e_W4mag</th><th>W4SNR</th><th>W4chi2</th><th>CCflags</th><th>PHflag</th><th>sepW</th><th>UKIDSS</th><th>FY</th><th>e_FY</th><th>FJ</th><th>e_FJ</th><th>FH</th><th>e_FH</th><th>FK</th><th>e_FK</th><th>FIRST</th><th>F1p</th><th>SNR(1)</th><th>sep1</th></tr></thead>\n",
       "<thead><tr><th></th><th></th><th></th><th>deg</th><th>deg</th><th></th><th></th><th></th><th></th><th></th><th></th><th></th><th></th><th></th><th></th><th></th><th></th><th></th><th></th><th></th><th></th><th></th><th></th><th></th><th></th><th></th><th></th><th></th><th>km / s</th><th>km / s</th><th>3.63 uJy</th><th>3.63 uJy</th><th>3.63 uJy</th><th>3.63 uJy</th><th>3.63 uJy</th><th>3.63 uJy</th><th>3.63 uJy</th><th>3.63 uJy</th><th>3.63 uJy</th><th>3.63 uJy</th><th>mag</th><th>mag</th><th>mag</th><th>mag</th><th>mag</th><th>mag</th><th>mag</th><th>mag</th><th>mag</th><th>mag</th><th>mag</th><th>mag</th><th>mag</th><th>mag</th><th>mag</th><th>mag</th><th>dex(ct / s)</th><th></th><th>arcsec</th><th>mW / m2</th><th>mW / m2</th><th>mW / m2</th><th>mW / m2</th><th>mW / m2</th><th>mW / m2</th><th>1e-07 W</th><th>arcsec</th><th></th><th>3.63 uJy</th><th>3.63 / uJy2</th><th>3.63 uJy</th><th>3.63 / uJy2</th><th>mag</th><th>mag</th><th></th><th></th><th>mag</th><th>mag</th><th></th><th></th><th>mag</th><th>mag</th><th></th><th></th><th>arcsec</th><th>mag</th><th>mag</th><th></th><th></th><th>mag</th><th>mag</th><th></th><th></th><th>mag</th><th>mag</th><th></th><th></th><th>mag</th><th>mag</th><th></th><th></th><th></th><th></th><th>arcsec</th><th></th><th>Hz W / m2</th><th>Hz W / m2</th><th>Hz W / m2</th><th>Hz W / m2</th><th>Hz W / m2</th><th>Hz W / m2</th><th>Hz W / m2</th><th>Hz W / m2</th><th></th><th>mJy</th><th></th><th>arcsec</th></tr></thead>\n",
       "<thead><tr><th>int32</th><th>object</th><th>object</th><th>float64</th><th>float64</th><th>int64</th><th>int32</th><th>int32</th><th>int16</th><th>object</th><th>float64</th><th>object</th><th>float64</th><th>float64</th><th>float64</th><th>int16</th><th>float64</th><th>float64</th><th>float64</th><th>int64</th><th>int64</th><th>int64</th><th>int64</th><th>int64</th><th>int64</th><th>int16</th><th>int16</th><th>int16</th><th>float64</th><th>float32</th><th>float64</th><th>float64</th><th>float64</th><th>float64</th><th>float64</th><th>float64</th><th>float64</th><th>float64</th><th>float64</th><th>float64</th><th>float64</th><th>float64</th><th>float64</th><th>float64</th><th>float64</th><th>float64</th><th>float64</th><th>float64</th><th>float64</th><th>float64</th><th>float64</th><th>float64</th><th>float64</th><th>float64</th><th>float64</th><th>float64</th><th>float64</th><th>float64</th><th>float64</th><th>float64</th><th>float64</th><th>float64</th><th>float64</th><th>float64</th><th>float64</th><th>float64</th><th>float64</th><th>int16</th><th>float64</th><th>float64</th><th>float64</th><th>float64</th><th>float64</th><th>float64</th><th>float64</th><th>int16</th><th>float64</th><th>float64</th><th>float64</th><th>int16</th><th>float64</th><th>float64</th><th>float64</th><th>int16</th><th>float64</th><th>float64</th><th>float64</th><th>float64</th><th>float64</th><th>float64</th><th>float64</th><th>float64</th><th>float64</th><th>float64</th><th>float64</th><th>float64</th><th>float64</th><th>float64</th><th>float64</th><th>float64</th><th>float64</th><th>object</th><th>object</th><th>float64</th><th>int16</th><th>float64</th><th>float64</th><th>float64</th><th>float64</th><th>float64</th><th>float64</th><th>float64</th><th>float64</th><th>int16</th><th>float64</th><th>float64</th><th>float64</th></tr></thead>\n",
       "<tr><td>99297</td><td>025952.94+000509.5</td><td>025952.94+000509.5</td><td>44.970604</td><td>0.085978</td><td>97117528</td><td>4242</td><td>55476</td><td>996</td><td>BOSS</td><td>0.76</td><td>VI</td><td>0.76</td><td>0.762146</td><td>0.000162</td><td>0</td><td>0.761813</td><td>0.760882</td><td>0.7609</td><td>0</td><td>0</td><td>8</td><td>0</td><td>0</td><td>0</td><td>0</td><td>0</td><td>0</td><td>--</td><td>--</td><td>6.36991</td><td>8.04348</td><td>8.02953</td><td>8.24293</td><td>9.46782</td><td>11.738193</td><td>29.508871</td><td>33.391014</td><td>20.449871</td><td>1.447435</td><td>20.489</td><td>20.236</td><td>20.238</td><td>20.209</td><td>20.053</td><td>0.05</td><td>0.025</td><td>0.023</td><td>0.029</td><td>0.094</td><td>-23.49</td><td>0.365</td><td>0.284184</td><td>0.196597</td><td>0.146093</td><td>0.108666</td><td>--</td><td>--</td><td>--</td><td>2.02148e-14</td><td>7.92739e-15</td><td>1.35143e-14</td><td>3.50262e-14</td><td>5.76731e-14</td><td>3.28228e-14</td><td>1.60869e+44</td><td>1.3673</td><td>1</td><td>1.7425</td><td>132.0305</td><td>3.4637</td><td>6.9956</td><td>--</td><td>--</td><td>--</td><td>--</td><td>--</td><td>--</td><td>--</td><td>--</td><td>--</td><td>--</td><td>--</td><td>--</td><td>--</td><td>15.306</td><td>0.036</td><td>30.5</td><td>2.34</td><td>14.653</td><td>0.054</td><td>20.1</td><td>0.99</td><td>12.175</td><td>0.29</td><td>3.7</td><td>0.93</td><td>8.984</td><td>0.036</td><td>2.3</td><td>0.86</td><td>0000</td><td>AABC</td><td>0.82</td><td>1</td><td>2.79789e-31</td><td>2.46746e-32</td><td>4.54477e-31</td><td>4.04257e-32</td><td>6.53443e-31</td><td>5.43603e-32</td><td>9.44257e-31</td><td>6.33348e-32</td><td>0</td><td>--</td><td>--</td><td>--</td></tr>\n",
       "<tr><td>99315</td><td>025958.92+000635.2</td><td>025958.92+000635.2</td><td>44.995528</td><td>0.109804</td><td>97117750</td><td>7820</td><td>56984</td><td>968</td><td>BOSS</td><td>2.272891</td><td>AUTO</td><td>-1.0</td><td>2.272891</td><td>0.001017</td><td>0</td><td>2.268169</td><td>2.285734</td><td>2.2857</td><td>0</td><td>0</td><td>0</td><td>0</td><td>512</td><td>0</td><td>0</td><td>0</td><td>0</td><td>--</td><td>--</td><td>0.893964</td><td>1.5036</td><td>1.67431</td><td>2.03951</td><td>3.11407</td><td>28.275639</td><td>110.897781</td><td>73.612335</td><td>36.772038</td><td>1.570498</td><td>22.596</td><td>22.053</td><td>21.935</td><td>21.718</td><td>21.21</td><td>0.218</td><td>0.068</td><td>0.075</td><td>0.086</td><td>0.251</td><td>-24.51</td><td>0.375</td><td>0.291948</td><td>0.201968</td><td>0.150084</td><td>0.111635</td><td>--</td><td>--</td><td>--</td><td>--</td><td>--</td><td>--</td><td>--</td><td>--</td><td>--</td><td>--</td><td>--</td><td>2</td><td>-0.0003</td><td>156.2099</td><td>0.0967</td><td>69.0876</td><td>--</td><td>--</td><td>--</td><td>--</td><td>--</td><td>--</td><td>--</td><td>--</td><td>--</td><td>--</td><td>--</td><td>--</td><td>--</td><td>17.383</td><td>0.138</td><td>7.9</td><td>0.9</td><td>16.704</td><td>0.31</td><td>3.5</td><td>0.96</td><td>12.474</td><td>--</td><td>0.5</td><td>0.88</td><td>8.992</td><td>0.138</td><td>0.3</td><td>1.01</td><td>0000</td><td>BBUU</td><td>0.89</td><td>0</td><td>--</td><td>--</td><td>--</td><td>--</td><td>--</td><td>--</td><td>--</td><td>--</td><td>0</td><td>--</td><td>--</td><td>--</td></tr>\n",
       "<tr><td>99342</td><td>030018.12+000908.3</td><td>030018.12+000908.3</td><td>45.075508</td><td>0.152306</td><td>--</td><td>1068</td><td>52614</td><td>634</td><td>SDSS</td><td>2.2308</td><td>DR7Q</td><td>-1.0</td><td>--</td><td>--</td><td>-1</td><td>0.0</td><td>0.0</td><td>0.0</td><td>0</td><td>0</td><td>0</td><td>0</td><td>0</td><td>0</td><td>0</td><td>0</td><td>0</td><td>--</td><td>--</td><td>--</td><td>--</td><td>--</td><td>--</td><td>--</td><td>--</td><td>--</td><td>--</td><td>--</td><td>--</td><td>21.456</td><td>20.59</td><td>20.38</td><td>20.076</td><td>19.843</td><td>0.13</td><td>0.038</td><td>0.031</td><td>0.03</td><td>0.104</td><td>-26.04</td><td>--</td><td>--</td><td>--</td><td>--</td><td>--</td><td>--</td><td>--</td><td>--</td><td>--</td><td>--</td><td>--</td><td>--</td><td>--</td><td>--</td><td>--</td><td>--</td><td>1</td><td>0.2233</td><td>201.6088</td><td>0.6076</td><td>262.0198</td><td>--</td><td>--</td><td>--</td><td>--</td><td>--</td><td>--</td><td>--</td><td>--</td><td>--</td><td>--</td><td>--</td><td>--</td><td>--</td><td>17.031</td><td>0.103</td><td>10.5</td><td>0.9</td><td>15.622</td><td>0.11</td><td>9.8</td><td>0.96</td><td>11.907</td><td>0.228</td><td>4.8</td><td>0.87</td><td>8.6</td><td>0.103</td><td>0.7</td><td>0.92</td><td>0000</td><td>ABBU</td><td>0.73</td><td>0</td><td>--</td><td>--</td><td>--</td><td>--</td><td>--</td><td>--</td><td>--</td><td>--</td><td>0</td><td>--</td><td>--</td><td>--</td></tr>\n",
       "</table></div>"
      ],
      "text/plain": [
       "<Table length=3>\n",
       "recno        SDSS              SDSSo        ...   F1p    SNR(1)   sep1 \n",
       "                                            ...   mJy            arcsec\n",
       "int32       object             object       ... float64 float64 float64\n",
       "----- ------------------ ------------------ ... ------- ------- -------\n",
       "99297 025952.94+000509.5 025952.94+000509.5 ...      --      --      --\n",
       "99315 025958.92+000635.2 025958.92+000635.2 ...      --      --      --\n",
       "99342 030018.12+000908.3 030018.12+000908.3 ...      --      --      --"
      ]
     },
     "execution_count": 14,
     "metadata": {},
     "output_type": "execute_result"
    }
   ],
   "source": [
    "# Access the catalog \n",
    "# Check the first rows to explore the table content and columns\n",
    "\n",
    "query = \"\"\"SELECT \n",
    "TOP 3 *\n",
    "FROM \"VII/286/dr14q\" \"\"\"\n",
    "\n",
    "table_info = tap_vizier.search(query).to_table()\n",
    "table_info"
   ]
  },
  {
   "cell_type": "code",
   "execution_count": 15,
   "metadata": {},
   "outputs": [
    {
     "data": {
      "text/html": [
       "<div><i>Table length=526356</i>\n",
       "<table id=\"table140378203399168\" class=\"table-striped table-bordered table-condensed\">\n",
       "<thead><tr><th>RAJ2000</th><th>DEJ2000</th><th>MJD</th></tr></thead>\n",
       "<thead><tr><th>deg</th><th>deg</th><th></th></tr></thead>\n",
       "<thead><tr><th>float64</th><th>float64</th><th>int32</th></tr></thead>\n",
       "<tr><td>44.970604</td><td>0.085978</td><td>55476</td></tr>\n",
       "<tr><td>44.995528</td><td>0.109804</td><td>56984</td></tr>\n",
       "<tr><td>45.075508</td><td>0.152306</td><td>52614</td></tr>\n",
       "<tr><td>44.934329</td><td>0.124205</td><td>56984</td></tr>\n",
       "<tr><td>44.990813</td><td>0.156523</td><td>56984</td></tr>\n",
       "<tr><td>44.890532</td><td>0.141681</td><td>56984</td></tr>\n",
       "<tr><td>...</td><td>...</td><td>...</td></tr>\n",
       "<tr><td>315.243774</td><td>-0.435035</td><td>53179</td></tr>\n",
       "<tr><td>314.852112</td><td>-0.657585</td><td>53179</td></tr>\n",
       "<tr><td>315.093872</td><td>-0.508586</td><td>52442</td></tr>\n",
       "<tr><td>314.977112</td><td>-0.321498</td><td>52442</td></tr>\n",
       "<tr><td>315.163727</td><td>-0.331596</td><td>52442</td></tr>\n",
       "<tr><td>315.119507</td><td>-0.165178</td><td>53179</td></tr>\n",
       "</table></div>"
      ],
      "text/plain": [
       "<Table length=526356>\n",
       " RAJ2000    DEJ2000   MJD \n",
       "   deg        deg         \n",
       " float64    float64  int32\n",
       "---------- --------- -----\n",
       " 44.970604  0.085978 55476\n",
       " 44.995528  0.109804 56984\n",
       " 45.075508  0.152306 52614\n",
       " 44.934329  0.124205 56984\n",
       " 44.990813  0.156523 56984\n",
       " 44.890532  0.141681 56984\n",
       "       ...       ...   ...\n",
       "315.243774 -0.435035 53179\n",
       "314.852112 -0.657585 53179\n",
       "315.093872 -0.508586 52442\n",
       "314.977112 -0.321498 52442\n",
       "315.163727 -0.331596 52442\n",
       "315.119507 -0.165178 53179"
      ]
     },
     "execution_count": 15,
     "metadata": {},
     "output_type": "execute_result"
    }
   ],
   "source": [
    "# Access the info on position of the sources and observation time\n",
    "\n",
    "query = \"\"\"SELECT \n",
    "RAJ2000, DEJ2000, MJD\n",
    "FROM \"VII/286/dr14q\" \"\"\"\n",
    "\n",
    "table_sdss = tap_vizier.search(query).to_table()\n",
    "table_sdss"
   ]
  },
  {
   "cell_type": "code",
   "execution_count": 16,
   "metadata": {},
   "outputs": [],
   "source": [
    "# Define times, longitudes and latitudes\n",
    "times_sdss = Time(table_sdss['MJD'].data, format='mjd', scale='tdb')\n",
    "lon_sdss = table_sdss['RAJ2000'].quantity\n",
    "lat_sdss = table_sdss['DEJ2000'].quantity"
   ]
  },
  {
   "cell_type": "markdown",
   "metadata": {},
   "source": [
    "## Create the Space-Time coverage \n",
    "at the depth (time, space) = 10, 9 i.e.:\n",
    "\n",
    "- a **time** resolution of ~3 days\n",
    "- a **spatial** resolution of ~7 arcmin"
   ]
  },
  {
   "cell_type": "code",
   "execution_count": 17,
   "metadata": {},
   "outputs": [
    {
     "name": "stdout",
     "output_type": "stream",
     "text": [
      "Time of the first observation:  2000-03-02 00:14:27.791\n",
      "Time of the last observation:  2016-05-14 12:29:34.707\n"
     ]
    }
   ],
   "source": [
    "time_depth = 10\n",
    "spatial_depth = 9\n",
    "\n",
    "sdss = STMOC.from_times_positions(times_sdss, time_depth, lon_sdss, lat_sdss, spatial_depth)\n",
    "\n",
    "print(\"Time of the first observation: \", sdss.min_time.iso)\n",
    "print(\"Time of the last observation: \", sdss.max_time.iso)"
   ]
  },
  {
   "cell_type": "markdown",
   "metadata": {},
   "source": [
    "## Query a ST-MOC by a time range\n",
    "Retrieve the regions being observed each four years"
   ]
  },
  {
   "cell_type": "code",
   "execution_count": 18,
   "metadata": {},
   "outputs": [
    {
     "data": {
      "image/png": "[encoded data removed]",
      "text/plain": [
       "<Figure size 720x720 with 4 Axes>"
      ]
     },
     "metadata": {
      "needs_background": "light"
     },
     "output_type": "display_data"
    }
   ],
   "source": [
    "def add_to_plot(fig, id, wcs, title, moc):\n",
    "    ax = fig.add_subplot(id, projection=wcs)\n",
    "\n",
    "    ax.grid(color=\"black\", linestyle=\"dotted\")\n",
    "    ax.set_title(title)\n",
    "    ax.set_xlabel('lon')\n",
    "    ax.set_ylabel('lat')\n",
    "\n",
    "    #Draw the MOC with its HEALPix cells\n",
    "    moc.fill(ax=ax, wcs=wcs, alpha=0.9, fill=True, linewidth=0, color=\"#00bb00\")\n",
    "    #Draw the perimeter of a MOC\n",
    "    moc.border(ax=ax, wcs=wcs, linewidth=1, color=\"green\")\n",
    "\n",
    "fig = plt.figure(figsize=(10, 10))\n",
    "\n",
    "time_ranges = Time([\n",
    "        [[\"2000-03-02\", \"2004-01-01\"]],\n",
    "        [[\"2004-01-01\", \"2008-01-01\"]],\n",
    "        [[\"2008-01-01\", \"2012-05-14\"]],\n",
    "        [[\"2012-01-01\", \"2016-05-14\"]]\n",
    "    ], format='iso', scale='tdb', out_subfmt=\"date\")\n",
    "\n",
    "with World2ScreenMPL(fig, \n",
    "         fov=330 * u.deg,\n",
    "         center=SkyCoord(0, 0, unit='deg', frame='galactic'),\n",
    "         coordsys=\"galactic\",\n",
    "         rotation=Angle(0, u.degree),\n",
    "         projection=\"AIT\") as wcs:\n",
    "\n",
    "    for i in range(0, 4):\n",
    "        moc_sdss = sdss.query_by_time(time_ranges[i])\n",
    "        title = \"Quasars observations between \\n{0} and {1}\".format(time_ranges[i][0, 0].iso, time_ranges[i][0, 1].iso)\n",
    "        id_subplot = int(\"22\" + str(i+1))\n",
    "        add_to_plot(fig, id_subplot, wcs, title, moc_sdss)\n",
    "\n",
    "plt.show()"
   ]
  },
  {
   "cell_type": "markdown",
   "metadata": {},
   "source": [
    "## Compute the intersection between Space-Time coverages\n",
    "\n",
    "#### Retrieve the areas that have been observed at the same time by two surveys"
   ]
  },
  {
   "cell_type": "code",
   "execution_count": 19,
   "metadata": {},
   "outputs": [
    {
     "data": {
      "text/html": [
       "<div><i>Table length=8</i>\n",
       "<table id=\"table140378203399120\" class=\"table-striped table-bordered table-condensed\">\n",
       "<thead><tr><th>schema_name</th><th>table_name</th><th>table_type</th><th>description</th><th>utype</th></tr></thead>\n",
       "<thead><tr><th>object</th><th>object</th><th>object</th><th>object</th><th>object</th></tr></thead>\n",
       "<tr><td>IX_HE</td><td>IX/55/xmm3r8s</td><td>table</td><td>The 3XMM-DR8 Catalog, &quot;slim&quot; version ( Rosen S.R., Webb N.A., Watson, et al.)</td><td></td></tr>\n",
       "<tr><td>IX_HE</td><td>IX/50/xmm3r6s</td><td>table</td><td>The 3XMM-DR6 Catalog, &quot;slim&quot; version ( Rosen S.R., Webb N. A., Watson, et al.)</td><td></td></tr>\n",
       "<tr><td>IX_HE</td><td>IX/48/xgustwra</td><td>table</td><td>Allsky cross-matched 3XMMe catalogue ( Motch C., Carrera, F.J., Genova F., Jimenez-Esteban F., Lopez M., Michel L., Mingo B., Mints A., Nebot Gomez-Moran A., Pineau F.-X., Rosen S.R., Sanchez E. Schwope A., Solano E., Watson M.)</td><td></td></tr>\n",
       "<tr><td>IX_HE</td><td>IX/44/xmm3r4s</td><td>table</td><td>The 3XMM-DR4 Catalog, &quot;slim&quot; version ( XMM-Newton Survey Science Centre Consortium)</td><td></td></tr>\n",
       "<tr><td>IX_HE</td><td>IX/46/xmm3r5s</td><td>table</td><td>The 3XMM-DR5 Catalog, &quot;slim&quot; version ( Rosen S.R., Webb N. A., Watson, et al.)</td><td></td></tr>\n",
       "<tr><td>IX_HE</td><td>IX/47/3xmmeu</td><td>table</td><td>Enhanced 3XMM catalogue (3XMMe), unique sources ( Rosen S.)</td><td></td></tr>\n",
       "<tr><td>IX_HE</td><td>IX/54/xmm3r7s</td><td>table</td><td>The 3XMM-DR7 Catalog, &quot;slim&quot; version ( Rosen S.R., Webb N.A., Watson, et al.)</td><td></td></tr>\n",
       "<tr><td>J_ApJ</td><td>J/ApJ/813/28/table4</td><td>table</td><td>3XMM variable source classifications using the Random Forest machine learning algorithm (RF) ( Farrell S.A., Murphy T., Lo K.K.)</td><td></td></tr>\n",
       "</table></div>"
      ],
      "text/plain": [
       "<Table length=8>\n",
       "schema_name      table_name     ... utype \n",
       "   object          object       ... object\n",
       "----------- ------------------- ... ------\n",
       "      IX_HE       IX/55/xmm3r8s ...       \n",
       "      IX_HE       IX/50/xmm3r6s ...       \n",
       "      IX_HE      IX/48/xgustwra ...       \n",
       "      IX_HE       IX/44/xmm3r4s ...       \n",
       "      IX_HE       IX/46/xmm3r5s ...       \n",
       "      IX_HE        IX/47/3xmmeu ...       \n",
       "      IX_HE       IX/54/xmm3r7s ...       \n",
       "      J_ApJ J/ApJ/813/28/table4 ...       "
      ]
     },
     "execution_count": 19,
     "metadata": {},
     "output_type": "execute_result"
    }
   ],
   "source": [
    "tap_vizier = pyvo.dal.TAPService('http://tapvizier.u-strasbg.fr/TAPVizieR/tap')\n",
    "\n",
    "query = '''\n",
    "SELECT  *  FROM tables \n",
    "WHERE description LIKE '%3XMM%'\n",
    "'''\n",
    "\n",
    "mash_catalogues = tap_vizier.search(query).to_table()\n",
    "mash_catalogues"
   ]
  },
  {
   "cell_type": "code",
   "execution_count": 20,
   "metadata": {},
   "outputs": [
    {
     "name": "stderr",
     "output_type": "stream",
     "text": [
      "/Users/samodeo/opt/anaconda3/lib/python3.8/site-packages/astropy/io/votable/tree.py:3573: ResourceWarning: unclosed <socket.socket fd=93, family=AddressFamily.AF_INET, type=SocketKind.SOCK_STREAM, proto=6, laddr=('127.0.0.1', 58593), raddr=('127.0.0.1', 1110)>\n",
      "  for start, tag, data, pos in iterator:\n",
      "/Users/samodeo/opt/anaconda3/lib/python3.8/site-packages/astropy/io/votable/tree.py:3573: ResourceWarning: unclosed <socket.socket fd=92, family=AddressFamily.AF_INET, type=SocketKind.SOCK_STREAM, proto=6, laddr=('127.0.0.1', 58579), raddr=('127.0.0.1', 1110)>\n",
      "  for start, tag, data, pos in iterator:\n"
     ]
    },
    {
     "data": {
      "text/html": [
       "<div><i>Table length=531454</i>\n",
       "<table id=\"table140377392369232\" class=\"table-striped table-bordered table-condensed\">\n",
       "<thead><tr><th>RA_ICRS</th><th>DE_ICRS</th><th>MJD0</th></tr></thead>\n",
       "<thead><tr><th>deg</th><th>deg</th><th>d</th></tr></thead>\n",
       "<thead><tr><th>float64</th><th>float64</th><th>float32</th></tr></thead>\n",
       "<tr><td>44.970333</td><td>0.086244</td><td>55225.992</td></tr>\n",
       "<tr><td>44.884839</td><td>0.164763</td><td>55225.992</td></tr>\n",
       "<tr><td>44.910661</td><td>0.189424</td><td>55225.992</td></tr>\n",
       "<tr><td>44.91994</td><td>0.215552</td><td>55225.992</td></tr>\n",
       "<tr><td>44.885737</td><td>0.231606</td><td>55225.992</td></tr>\n",
       "<tr><td>44.836183</td><td>0.236619</td><td>55225.992</td></tr>\n",
       "<tr><td>...</td><td>...</td><td>...</td></tr>\n",
       "<tr><td>311.614089</td><td>-2.937532</td><td>52228.965</td></tr>\n",
       "<tr><td>311.804988</td><td>-2.915749</td><td>52228.965</td></tr>\n",
       "<tr><td>311.753132</td><td>-2.85979</td><td>52228.965</td></tr>\n",
       "<tr><td>311.787712</td><td>-2.839404</td><td>52228.965</td></tr>\n",
       "<tr><td>311.752483</td><td>-2.786939</td><td>52228.965</td></tr>\n",
       "<tr><td>311.777684</td><td>-2.7666</td><td>52228.965</td></tr>\n",
       "</table></div>"
      ],
      "text/plain": [
       "<Table length=531454>\n",
       " RA_ICRS    DE_ICRS     MJD0  \n",
       "   deg        deg        d    \n",
       " float64    float64   float32 \n",
       "---------- --------- ---------\n",
       " 44.970333  0.086244 55225.992\n",
       " 44.884839  0.164763 55225.992\n",
       " 44.910661  0.189424 55225.992\n",
       "  44.91994  0.215552 55225.992\n",
       " 44.885737  0.231606 55225.992\n",
       " 44.836183  0.236619 55225.992\n",
       "       ...       ...       ...\n",
       "311.614089 -2.937532 52228.965\n",
       "311.804988 -2.915749 52228.965\n",
       "311.753132  -2.85979 52228.965\n",
       "311.787712 -2.839404 52228.965\n",
       "311.752483 -2.786939 52228.965\n",
       "311.777684   -2.7666 52228.965"
      ]
     },
     "execution_count": 20,
     "metadata": {},
     "output_type": "execute_result"
    }
   ],
   "source": [
    "tap_vizier = pyvo.dal.TAPService('http://tapvizier.u-strasbg.fr/TAPVizieR/tap')\n",
    "\n",
    "query = \"\"\"SELECT \n",
    "RA_ICRS,DE_ICRS,MJD0\n",
    "FROM \"IX/55/xmm3r8s\" \"\"\"\n",
    "\n",
    "table_xmm = tap_vizier.search(query).to_table()\n",
    "table_xmm"
   ]
  },
  {
   "cell_type": "code",
   "execution_count": 21,
   "metadata": {},
   "outputs": [],
   "source": [
    "times_xmm = Time(table_xmm['MJD0'].data, format='mjd', scale='tdb')\n",
    "lon_xmm = table_xmm['RA_ICRS'].quantity\n",
    "lat_xmm = table_xmm['DE_ICRS'].quantity\n",
    "\n",
    "# Create the STMOC\n",
    "xmm_dr8_stmoc = STMOC.from_times_positions(times_xmm, time_depth, lon_xmm, lat_xmm, spatial_depth)\n"
   ]
  },
  {
   "cell_type": "code",
   "execution_count": 22,
   "metadata": {},
   "outputs": [],
   "source": [
    "# Compute their intersection and check that it is not empty\n",
    "xmm_inter_sdss = xmm_dr8_stmoc.intersection(sdss)\n",
    "assert(not xmm_inter_sdss.is_empty())"
   ]
  },
  {
   "cell_type": "markdown",
   "metadata": {},
   "source": [
    "### - Discover all the functionalities on https://cds-astro.github.io/mocpy/ \n",
    "\n",
    "### - MOC data structure to plan multi-messenger observations \n",
    "- Greco et al., Astronomy and Computing 2021, DOI: [10.1016/j.ascom.2022.100547](https://ui.adsabs.harvard.edu/link_gateway/2022A&C....3900547G/doi:10.1016/j.ascom.2022.100547)\n",
    "- Notebook: https://github.com/ggreco77/MOC-to-plan-MMA\n"
   ]
  },
  {
   "cell_type": "code",
   "execution_count": null,
   "metadata": {},
   "outputs": [],
   "source": []
  }
 ],
 "metadata": {
  "kernelspec": {
   "display_name": "Python 3 (ipykernel)",
   "language": "python",
   "name": "python3"
  },
  "language_info": {
   "codemirror_mode": {
    "name": "ipython",
    "version": 3
   },
   "file_extension": ".py",
   "mimetype": "text/x-python",
   "name": "python",
   "nbconvert_exporter": "python",
   "pygments_lexer": "ipython3",
   "version": "3.8.10"
  }
 },
 "nbformat": 4,
 "nbformat_minor": 2
}
